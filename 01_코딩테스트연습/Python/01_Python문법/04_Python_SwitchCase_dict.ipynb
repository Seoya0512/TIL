{
  "nbformat": 4,
  "nbformat_minor": 0,
  "metadata": {
    "colab": {
      "name": "Python_SwitchCase_dict.ipynb",
      "provenance": []
    },
    "kernelspec": {
      "name": "python3",
      "display_name": "Python 3"
    },
    "language_info": {
      "name": "python"
    }
  },
  "cells": [
    {
      "cell_type": "markdown",
      "metadata": {
        "id": "tDZbIyeXTET3"
      },
      "source": [
        "# Emulating switch/case with dicts\n",
        "- 파이썬에는 switch/case 문이 없어서 if/elif/else로 표현해야함 "
      ]
    },
    {
      "cell_type": "code",
      "metadata": {
        "id": "CVGjGfR_Tcds"
      },
      "source": [
        "if cond == 'cond_a':\n",
        "  handle_a()\n",
        "elif cond == 'cond_b':\n",
        "  handle_b()\n",
        "else:\n",
        "  handle_default()"
      ],
      "execution_count": null,
      "outputs": []
    },
    {
      "cell_type": "markdown",
      "metadata": {
        "id": "WVzjy5IzT4dU"
      },
      "source": [
        "* 딕셔너리로 표현하면 더욱 간단함 \n",
        "   - Input condition= key, 호출될 함수 = value "
      ]
    },
    {
      "cell_type": "code",
      "metadata": {
        "id": "IFCLc3R6UB96"
      },
      "source": [
        "func_dict= {\n",
        "    'cond_a': handle_a,\n",
        "    'conda_b': handle_b,\n",
        "}\n",
        "\n",
        "cond = 'cond_a'\n",
        "func_dict(cond)\n",
        "\n",
        "# cond 값이 dictionary의 키에 있어야만 가능함\n",
        "# 키가 없으면 KeyError 가 발생함 \n",
        "## if/elif/else 에서 else 부분의 기능을 할 수 없게됨 "
      ],
      "execution_count": null,
      "outputs": []
    },
    {
      "cell_type": "markdown",
      "metadata": {
        "id": "2Bq5loQmURzL"
      },
      "source": [
        "### dictionary에서 key를 호출 하는 방법 \n",
        "1. dict[key]\n",
        "  - key 값이 없을 경우 : Error 발생\n",
        "2. dict.get(key)\n",
        "  - key 값이 없는 경우 None값을 return\n",
        "3. dict.get(key, ____ ) 👈 사용\n",
        "  - keey 값이 없는 경우 None이 아닌 ___값을 return"
      ]
    },
    {
      "cell_type": "code",
      "metadata": {
        "id": "2Ujw5LsUUB1F"
      },
      "source": [
        "def plus(x,y):\n",
        "  return x + y\n",
        "\n",
        "def minus(x,y):\n",
        "  return x - y\n",
        "\n",
        "def multiply(x,y):\n",
        "  return x*y\n",
        "\n",
        "def divide(x,y):\n",
        "  return x/y\n",
        "\n",
        "def default_op(x,y):\n",
        "  return None\n",
        "\n",
        "# 딕셔너리 사용 \n",
        "func_dict= {\n",
        "    'add': plus,\n",
        "    'sub': minus,\n",
        "    'mul':multiply,\n",
        "    'div':divide\n",
        "}\n",
        "\n",
        "# key값에 없는 value 처리방법 포함 \n",
        "def dispatch_dict(operator, x, y):\n",
        "  return func_dict.get(operator, default_op)(x,y)"
      ],
      "execution_count": 1,
      "outputs": []
    }
  ]
}