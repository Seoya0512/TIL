{
  "nbformat": 4,
  "nbformat_minor": 0,
  "metadata": {
    "colab": {
      "name": "05_Deocorator.ipynb",
      "provenance": []
    },
    "kernelspec": {
      "name": "python3",
      "display_name": "Python 3"
    },
    "language_info": {
      "name": "python"
    }
  },
  "cells": [
    {
      "cell_type": "markdown",
      "metadata": {
        "id": "jWpFmXY8IXQW"
      },
      "source": [
        "# Decorator\n",
        "### First - Class Citizen\n",
        "\n",
        "- 이름을 가짐\n",
        "- 다른 변수에 대입 가능\n",
        "- 인수로 전달 가능\n",
        "- 리턴값을 사용할 수 있음 \n",
        "- 컬렉션에 저장할 수 있음"
      ]
    },
    {
      "cell_type": "code",
      "metadata": {
        "colab": {
          "base_uri": "https://localhost:8080/"
        },
        "id": "Hn82zZVyIWQq",
        "outputId": "fe155be4-69a9-4518-8fc3-c48b01abe3ed"
      },
      "source": [
        "# Local Function(지역함수)\n",
        "\n",
        "def calc_sum(n):\n",
        "  def add(a,b):       # local function (지역함수)\n",
        "    return a+b\n",
        "  sum = 0\n",
        "  for i in range(n+1):\n",
        "    sum = add(sum, i)\n",
        "  return sum\n",
        "\n",
        "print(\"~100 = \", calc_sum(100))"
      ],
      "execution_count": 3,
      "outputs": [
        {
          "output_type": "stream",
          "name": "stdout",
          "text": [
            "~100 =  5050\n"
          ]
        }
      ]
    },
    {
      "cell_type": "markdown",
      "metadata": {
        "id": "haHx5yaNJYNE"
      },
      "source": [
        "## Decorator(데코레이터) : 함수에 원하는 코드를 추가하는 기법\n",
        "### 함수 래핑(Wrapping) \n",
        "- 원하는 코드 추가 및 원래 함수를 대리 호출하여 기능을 확장"
      ]
    },
    {
      "cell_type": "code",
      "metadata": {
        "colab": {
          "base_uri": "https://localhost:8080/"
        },
        "id": "Ri6wXfBRJHIH",
        "outputId": "448fc350-c8f1-4c1e-b71f-a068917b1291"
      },
      "source": [
        "def inner():\n",
        "  print(\"결과를 출력\")\n",
        "\n",
        "def outer(func):\n",
        "  print('-'*20)\n",
        "  func()\n",
        "  print('-'*20)\n",
        "\n",
        "inner= outer(inner)       # inner라는 변수에 outer()함수를 집어 넣어준다\n",
        "                          # 찾아가는 서비스를 통해서 1000개의 데이터를 일일이 바꿔줘야함 (귀찮..)"
      ],
      "execution_count": 10,
      "outputs": [
        {
          "output_type": "stream",
          "name": "stdout",
          "text": [
            "--------------------\n",
            "결과를 출력\n",
            "--------------------\n"
          ]
        }
      ]
    },
    {
      "cell_type": "markdown",
      "metadata": {
        "id": "P7K8S7_fLMgT"
      },
      "source": [
        "- @ (데코레이터)를 사용하여 함수 호출"
      ]
    },
    {
      "cell_type": "code",
      "metadata": {
        "colab": {
          "base_uri": "https://localhost:8080/"
        },
        "id": "CY-YdsnOJ18D",
        "outputId": "b5ea1446-7ae1-4d5b-da39-1d8e4519be89"
      },
      "source": [
        "def para(func):\n",
        "  def wrapper():\n",
        "    return\"<p>\" +str(func()) + \"</p>\"\n",
        "  return wrapper\n",
        "\n",
        "@para\n",
        "def outname():\n",
        "  return 'James Bond'\n",
        "\n",
        "@para\n",
        "def outage():\n",
        "  return '29'\n",
        "\n",
        "print(outname())\n",
        "print(outage())"
      ],
      "execution_count": 13,
      "outputs": [
        {
          "output_type": "stream",
          "name": "stdout",
          "text": [
            "<p>James Bond</p>\n",
            "<p>29</p>\n"
          ]
        }
      ]
    },
    {
      "cell_type": "markdown",
      "metadata": {
        "id": "sLJanc-8LnDf"
      },
      "source": [
        "* ❗️❗️ 만약 래핑되는 함수가 인수(parameter)를 가지는 경우 대리호출시에도 인수가 그대로 전달되어 에러가 발생함 "
      ]
    },
    {
      "cell_type": "code",
      "metadata": {
        "colab": {
          "base_uri": "https://localhost:8080/",
          "height": 215
        },
        "id": "5_o2P_7dKsiL",
        "outputId": "8e431bbe-a4f9-4a76-f026-1e265aa2cffa"
      },
      "source": [
        "def para(func):\n",
        "  def wrapper():\n",
        "    return\"<p>\" +str(func()) + \"</p>\"\n",
        "  return wrapper\n",
        "\n",
        "@para\n",
        "def outname():\n",
        "  return 'Name: ' + name\n",
        "\n",
        "@para\n",
        "def outage():\n",
        "  return 'Age: ' + name\n",
        "\n",
        "print(outname('James Bond'))\n",
        "print(outage('29'))"
      ],
      "execution_count": 14,
      "outputs": [
        {
          "output_type": "error",
          "ename": "TypeError",
          "evalue": "ignored",
          "traceback": [
            "\u001b[0;31m---------------------------------------------------------------------------\u001b[0m",
            "\u001b[0;31mTypeError\u001b[0m                                 Traceback (most recent call last)",
            "\u001b[0;32m<ipython-input-14-f0666c89f124>\u001b[0m in \u001b[0;36m<module>\u001b[0;34m()\u001b[0m\n\u001b[1;32m     12\u001b[0m   \u001b[0;32mreturn\u001b[0m \u001b[0;34m'Age: '\u001b[0m \u001b[0;34m+\u001b[0m \u001b[0mname\u001b[0m\u001b[0;34m\u001b[0m\u001b[0;34m\u001b[0m\u001b[0m\n\u001b[1;32m     13\u001b[0m \u001b[0;34m\u001b[0m\u001b[0m\n\u001b[0;32m---> 14\u001b[0;31m \u001b[0mprint\u001b[0m\u001b[0;34m(\u001b[0m\u001b[0moutname\u001b[0m\u001b[0;34m(\u001b[0m\u001b[0;34m'James Bond'\u001b[0m\u001b[0;34m)\u001b[0m\u001b[0;34m)\u001b[0m\u001b[0;34m\u001b[0m\u001b[0;34m\u001b[0m\u001b[0m\n\u001b[0m\u001b[1;32m     15\u001b[0m \u001b[0mprint\u001b[0m\u001b[0;34m(\u001b[0m\u001b[0moutage\u001b[0m\u001b[0;34m(\u001b[0m\u001b[0;34m'29'\u001b[0m\u001b[0;34m)\u001b[0m\u001b[0;34m)\u001b[0m\u001b[0;34m\u001b[0m\u001b[0;34m\u001b[0m\u001b[0m\n",
            "\u001b[0;31mTypeError\u001b[0m: wrapper() takes 0 positional arguments but 1 was given"
          ]
        }
      ]
    },
    {
      "cell_type": "markdown",
      "metadata": {
        "id": "anXB7iuPMh7Y"
      },
      "source": [
        "⬆️ 에러의 뜻 : 래퍼함수는 parameter를 안 받는데, 왜 인수를 주는거니? 나는 못받는다! "
      ]
    },
    {
      "cell_type": "markdown",
      "metadata": {
        "id": "XXFP5ZHhMyOT"
      },
      "source": [
        "___\n",
        "##### 해결방안 : Wrapper가 가변 인수를 받아야함"
      ]
    },
    {
      "cell_type": "code",
      "metadata": {
        "colab": {
          "base_uri": "https://localhost:8080/"
        },
        "id": "hf6vWLqrMhiE",
        "outputId": "7b5c6cf4-e7e2-4282-83f7-3b8adfc57390"
      },
      "source": [
        "def para(func):\n",
        "  def wrap(*args, **kwargs):\n",
        "    return\"<p>\" + str(func(*args, **kwargs)) + \"</p>\"\n",
        "  return wrap\n",
        "\n",
        "@para\n",
        "def outname(name):\n",
        "  return 'Name: ' + name\n",
        "\n",
        "@para\n",
        "def outage(age):\n",
        "  return 'Age: ' + age\n",
        "\n",
        "print(outname('James Bond'))\n",
        "print(outage('29'))"
      ],
      "execution_count": 18,
      "outputs": [
        {
          "output_type": "stream",
          "name": "stdout",
          "text": [
            "<p>Name: James Bond</p>\n",
            "<p>Age: 29</p>\n"
          ]
        }
      ]
    },
    {
      "cell_type": "code",
      "metadata": {
        "colab": {
          "base_uri": "https://localhost:8080/"
        },
        "id": "ce_-lp49MgRQ",
        "outputId": "94613de9-bacf-43ea-cd7b-f2d044f24582"
      },
      "source": [
        "# .__name__ : 적용된 함수 이름이 출력된다. \n",
        "# outname.__name__ = outname 이 나와야 정상임 \n",
        "# 그러나 이경우, __name__ 속성이 wrapper으로 출력되어 결과값이 'wrapper'으로  출력됨 \n",
        "\n",
        "def para(func):\n",
        "  def wrapper(*args, **kwargs):\n",
        "    return\"<p>\" + str(func(*args, **kwargs)) + \"</p>\"\n",
        "  return wrapper\n",
        "\n",
        "@para\n",
        "def outname(name):\n",
        "  return 'Name: ' + name\n",
        "\n",
        "@para\n",
        "def outage(age):\n",
        "  return 'Age: ' + age\n",
        "\n",
        "print(outname('James Bond'))\n",
        "print(outname.__name__)\n",
        "print(outage.__name__)\n",
        "print(outage('29'))"
      ],
      "execution_count": 25,
      "outputs": [
        {
          "output_type": "stream",
          "name": "stdout",
          "text": [
            "<p>Name: James Bond</p>\n",
            "wrapper\n",
            "wrapper\n",
            "<p>Age: 29</p>\n"
          ]
        }
      ]
    },
    {
      "cell_type": "markdown",
      "metadata": {
        "id": "nmm9tRBEN1LA"
      },
      "source": [
        "* 해결 방안 : @wraps 데코레이터 ➡️ 테코레이터간 중첩시 문제를 해결한다"
      ]
    },
    {
      "cell_type": "code",
      "metadata": {
        "colab": {
          "base_uri": "https://localhost:8080/"
        },
        "id": "-VEvTdP1N0mR",
        "outputId": "0fcc5125-f765-438f-d055-ed3fba7ce33f"
      },
      "source": [
        "from functools import wraps \n",
        "\n",
        "def para(func):\n",
        "  @wraps(func)\n",
        "  def wrapper(*args, **kwargs):\n",
        "    return\"<p>\" + str(func(*args, **kwargs)) + \"</p>\"\n",
        "  return wrapper\n",
        "\n",
        "@para\n",
        "def outname(name):\n",
        "  return 'Name: ' + name\n",
        "\n",
        "@para\n",
        "def outage(age):\n",
        "  return 'Age: ' + age\n",
        "\n",
        "print(outname('James Bond'))\n",
        "print(outname.__name__)\n",
        "print(outage.__name__)\n",
        "print(outage('29'))"
      ],
      "execution_count": 24,
      "outputs": [
        {
          "output_type": "stream",
          "name": "stdout",
          "text": [
            "<p>Name: James Bond</p>\n",
            "outname\n",
            "outage\n",
            "<p>Age: 29</p>\n"
          ]
        }
      ]
    },
    {
      "cell_type": "markdown",
      "metadata": {
        "id": "6XFrG0M4Qq2j"
      },
      "source": [
        "### Seoya's Understanding ✅\n",
        "- (참고) 위의 코드를 기준으로 작성\n",
        "1. Wrapping 되는 함수 \n",
        "  - outname, outage\n",
        "2. Wrapper \n",
        "  - wrapping 되는 함수를 묶어주는 친구 : para\n",
        "  - 실제 기능하는 친구 : 함수 안에 선언된 'local function' ➡️  wrapper\n",
        "3. 함수 래핑을 더욱 직관적이고 광범위하게 사용되게 하는 기능\n",
        "  - @ (데코레이터)"
      ]
    }
  ]
}