{
 "cells": [
  {
   "cell_type": "code",
   "execution_count": 1,
   "metadata": {},
   "outputs": [
    {
     "name": "stdout",
     "output_type": "stream",
     "text": [
      "==\n"
     ]
    }
   ],
   "source": [
    "# 1330번 \n",
    "\n",
    "A,B = map(int,input().split())\n",
    "\n",
    "if A > B : \n",
    "    print('>')\n",
    "elif A < B : \n",
    "    print('<')\n",
    "else: \n",
    "    print('==')"
   ]
  },
  {
   "cell_type": "code",
   "execution_count": 4,
   "metadata": {},
   "outputs": [
    {
     "name": "stdout",
     "output_type": "stream",
     "text": [
      "==\n"
     ]
    }
   ],
   "source": [
    "# 삼항연산자 중첩 : true_value if condition1 else [ true_value2 if condition2 else false_value ]\n",
    "\n",
    "A,B = map(int,input().split())\n",
    "\n",
    "print('>') if A > B else print('==')if A == B else print('<')  "
   ]
  },
  {
   "cell_type": "code",
   "execution_count": 6,
   "metadata": {},
   "outputs": [
    {
     "name": "stdout",
     "output_type": "stream",
     "text": [
      "A\n"
     ]
    }
   ],
   "source": [
    "# 9498번\n",
    "\n",
    "score = int(input())\n",
    "\n",
    "if score >= 90 :\n",
    "    print('A')\n",
    "elif score >= 80 :\n",
    "    print('B')\n",
    "elif score >= 70 :\n",
    "    print('C')\n",
    "elif score >= 60 :\n",
    "    print('D')\n",
    "else: \n",
    "    print('F')\n"
   ]
  },
  {
   "cell_type": "code",
   "execution_count": 16,
   "metadata": {},
   "outputs": [
    {
     "name": "stdout",
     "output_type": "stream",
     "text": [
      "1\n"
     ]
    }
   ],
   "source": [
    "# 2753번\n",
    "\n",
    "year = int(input())\n",
    "\n",
    "print('1') if ((year % 4 == 0) & (year % 100 != 0)) | (year % 400 == 0) else print('0')"
   ]
  },
  {
   "cell_type": "code",
   "execution_count": 2,
   "metadata": {},
   "outputs": [
    {
     "name": "stdout",
     "output_type": "stream",
     "text": [
      "4\n"
     ]
    }
   ],
   "source": [
    "#14861번 \n",
    "\n",
    "x = int(input())\n",
    "y = int(input())\n",
    "\n",
    "if x > 0 and y > 0 :\n",
    "    print ('1')\n",
    "elif x < 0 and y > 0 :\n",
    "    print('2')\n",
    "elif x < 0 and y < 0 :\n",
    "    print('3')\n",
    "else: \n",
    "    print('4')"
   ]
  },
  {
   "cell_type": "code",
   "execution_count": 16,
   "metadata": {},
   "outputs": [
    {
     "name": "stdout",
     "output_type": "stream",
     "text": [
      "22 55\n"
     ]
    }
   ],
   "source": [
    "# 2884번 \n",
    "\n",
    "H, M = map(int, input().split())\n",
    "\n",
    "if M >= 45 and M <= 59 :\n",
    "    print(H, M-45) \n",
    "\n",
    "elif H == 0 and M < 45:\n",
    "    h = 23\n",
    "    m = 60 -(45 -M)\n",
    "    print(h,m)\n",
    "\n",
    "else:\n",
    "    h = H -1\n",
    "    m =  60 -(45 -M)\n",
    "    print(h,m)\n"
   ]
  },
  {
   "cell_type": "code",
   "execution_count": 31,
   "metadata": {},
   "outputs": [
    {
     "name": "stdout",
     "output_type": "stream",
     "text": [
      "0 13\n"
     ]
    }
   ],
   "source": [
    "# 2525번 \n",
    "\n",
    "H, M = map(int, input().split())\n",
    "timer =  int(input())\n",
    "\n",
    "H += timer // 60 \n",
    "M += timer % 60 \n",
    "\n",
    "if M >= 60:\n",
    "    H += 1\n",
    "    M -= 60\n",
    "if H >= 24:\n",
    "    H -= 24\n",
    "\n",
    "print(H,M)\n"
   ]
  },
  {
   "cell_type": "code",
   "execution_count": 34,
   "metadata": {},
   "outputs": [
    {
     "name": "stdout",
     "output_type": "stream",
     "text": [
      "600\n"
     ]
    }
   ],
   "source": [
    "# 2480번 \n",
    "\n",
    "num1, num2, num3 = map(int, input().split())\n",
    "\n",
    "if num1 == num2 == num3:\n",
    "    prize = 10000 + num1 * 1000\n",
    "elif num1 == num2 : \n",
    "    prize = 1000 + num1 * 100\n",
    "elif num1 == num3: \n",
    "    prize = 1000 + num1 * 100\n",
    "elif num2 == num3 :\n",
    "    prize = 1000 + num2 * 100\n",
    "else:\n",
    "    prize = max(num1, num2, num3) * 100\n",
    "\n",
    "print(prize)\n"
   ]
  }
 ],
 "metadata": {
  "kernelspec": {
   "display_name": "Python 3.9.7 ('base')",
   "language": "python",
   "name": "python3"
  },
  "language_info": {
   "codemirror_mode": {
    "name": "ipython",
    "version": 3
   },
   "file_extension": ".py",
   "mimetype": "text/x-python",
   "name": "python",
   "nbconvert_exporter": "python",
   "pygments_lexer": "ipython3",
   "version": "3.9.7"
  },
  "orig_nbformat": 4,
  "vscode": {
   "interpreter": {
    "hash": "c725d78b4f5601c8a85ce6b1d2fdb2e37cff07ced64b275a1bb2fdc836d1f30a"
   }
  }
 },
 "nbformat": 4,
 "nbformat_minor": 2
}
