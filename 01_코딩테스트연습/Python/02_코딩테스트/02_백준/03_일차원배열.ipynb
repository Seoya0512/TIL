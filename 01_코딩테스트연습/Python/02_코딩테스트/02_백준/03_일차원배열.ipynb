{
 "cells": [
  {
   "cell_type": "code",
   "execution_count": 3,
   "metadata": {},
   "outputs": [
    {
     "name": "stdout",
     "output_type": "stream",
     "text": [
      "7 35\n"
     ]
    }
   ],
   "source": [
    "# 10818번 \n",
    "\n",
    "N = int(input())\n",
    "array = list(map(int,input().split()))\n",
    "\n",
    "print(min(array),max(array))"
   ]
  },
  {
   "cell_type": "code",
   "execution_count": 10,
   "metadata": {},
   "outputs": [
    {
     "name": "stdout",
     "output_type": "stream",
     "text": [
      "[3, 29, 38, 12, 57, 74, 40, 85, 61]\n",
      "85\n",
      "8\n"
     ]
    }
   ],
   "source": [
    "# 2562번 \n",
    "\n",
    "num_list = []\n",
    "\n",
    "for i in range(9):\n",
    "    num = int(input())\n",
    "    num_list.append(num)\n",
    "\n",
    "print(max(num_list))\n",
    "print(num_list.index(max(num_list))+1)"
   ]
  },
  {
   "cell_type": "code",
   "execution_count": 17,
   "metadata": {},
   "outputs": [
    {
     "name": "stdout",
     "output_type": "stream",
     "text": [
      "1\n"
     ]
    }
   ],
   "source": [
    "# 3052번 \n",
    "\n",
    "num_list = []\n",
    "\n",
    "for i in range(10):\n",
    "    num = int(input())\n",
    "    num_list.append(num % 42)\n",
    "\n",
    "    # 리스트에서 중복되는 값 제거 (set) ->> 리스트 변환 \n",
    "    num_list = set(num_list)\n",
    "    num_list = list(num_list)\n",
    "\n",
    "print(len(num_list))"
   ]
  },
  {
   "cell_type": "code",
   "execution_count": 22,
   "metadata": {},
   "outputs": [
    {
     "name": "stdout",
     "output_type": "stream",
     "text": [
      "65.0\n"
     ]
    }
   ],
   "source": [
    "# 1546번 \n",
    "\n",
    "N = int(input())\n",
    "scores = list(map(int, input().split()))\n",
    "new_scores = []\n",
    "\n",
    "for i in range(len(scores)):\n",
    "    new_score = scores[i] /max(scores) * 100\n",
    "    new_scores.append(new_score)\n",
    "\n",
    "print(sum(new_scores)/ len(new_scores))"
   ]
  },
  {
   "cell_type": "code",
   "execution_count": 15,
   "metadata": {},
   "outputs": [
    {
     "name": "stdout",
     "output_type": "stream",
     "text": [
      "30\n"
     ]
    }
   ],
   "source": [
    "# 8958번 \n",
    "\n",
    "N = int(input())\n",
    "\n",
    "\n",
    "for i in range(N):\n",
    "    answers = input()\n",
    "    sum_score = 0\n",
    "    score = 0\n",
    "    \n",
    "    for k in range(len(answers)):\n",
    "        if answers[k] == 'O':\n",
    "            score += 1\n",
    "        else:\n",
    "            score = 0 \n",
    "        sum_score = sum_score + score \n",
    "    \n",
    "    print(sum_score)"
   ]
  },
  {
   "cell_type": "code",
   "execution_count": 31,
   "metadata": {},
   "outputs": [
    {
     "name": "stdout",
     "output_type": "stream",
     "text": [
      "66.667%\n"
     ]
    }
   ],
   "source": [
    "# 4344번 \n",
    "\n",
    "N = int(input())\n",
    "\n",
    "for i in range(N):\n",
    "    score_list = list(map(int, input().split()))\n",
    "    class_avg = sum(score_list[1:])/ score_list[0]\n",
    "    count = 0\n",
    "\n",
    "    # list[0]은 학생의 숫자이므로, index 범위는 1번 부터 시작 해야함 \n",
    "    for k in range(1, len(score_list)):\n",
    "        if score_list[k] > class_avg:\n",
    "            count += 1\n",
    "    \n",
    "    above_avg = count / score_list[0] * 100\n",
    "\n",
    "    # round를 사용하면 소수점이 0이면 자릿수 표기를 하지 않음 ->> format 함수 사용 \n",
    "    print(\"{:.3f}%\".format(above_avg))\n"
   ]
  }
 ],
 "metadata": {
  "kernelspec": {
   "display_name": "Python 3.9.7 ('base')",
   "language": "python",
   "name": "python3"
  },
  "language_info": {
   "codemirror_mode": {
    "name": "ipython",
    "version": 3
   },
   "file_extension": ".py",
   "mimetype": "text/x-python",
   "name": "python",
   "nbconvert_exporter": "python",
   "pygments_lexer": "ipython3",
   "version": "3.9.7"
  },
  "orig_nbformat": 4,
  "vscode": {
   "interpreter": {
    "hash": "c725d78b4f5601c8a85ce6b1d2fdb2e37cff07ced64b275a1bb2fdc836d1f30a"
   }
  }
 },
 "nbformat": 4,
 "nbformat_minor": 2
}
