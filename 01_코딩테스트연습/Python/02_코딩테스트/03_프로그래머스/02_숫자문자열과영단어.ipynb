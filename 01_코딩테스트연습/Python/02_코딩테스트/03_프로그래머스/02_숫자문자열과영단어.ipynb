{
 "cells": [
  {
   "cell_type": "markdown",
   "metadata": {},
   "source": [
    "# 숫자문자열 과 영단어 \n",
    "참고 : https://programmers.co.kr/learn/courses/30/lessons/81301"
   ]
  },
  {
   "cell_type": "markdown",
   "metadata": {},
   "source": [
    "### 첫번째 시도 \n",
    "- 주어진 test는 통과했으나, 점수가 1/10 임 "
   ]
  },
  {
   "cell_type": "code",
   "execution_count": 57,
   "metadata": {},
   "outputs": [],
   "source": [
    "def solution(s):\n",
    "    answer = 0 \n",
    "    number = {'0' : 'zero', '1' : 'one', '2':'two', '3':'three',\n",
    "            '4': 'four', '5' :'five', '6' : 'six', '7' : 'seven', \n",
    "            '8' : 'eight', '9' : 'nine'}\n",
    "    number_list = []\n",
    "\n",
    "    if len(s) <= 50:\n",
    "        for k, v in number.items():\n",
    "            if k and v in s:\n",
    "                number_list.append(k)\n",
    "        answer = int(''.join(number_list))\n",
    "\n",
    "    return answer"
   ]
  },
  {
   "cell_type": "markdown",
   "metadata": {},
   "source": [
    "### 문제에 대한 고찰\n",
    "- 문제점 \n",
    "    - for loop가 딕셔너리 만큼만 돌아가는 문제가 발생, 전체 s에 대해서 loop가 돌아가게 만들어야함 \n",
    "- 해결 \n",
    "    - 리스트에 한자리씩 append 해서 문자열 >> int로 변환 했는데, 그냥 자리에 있는 숫자만 바꿨으면 매우 간단하게 해결될 문제였음 "
   ]
  },
  {
   "cell_type": "code",
   "execution_count": 58,
   "metadata": {},
   "outputs": [
    {
     "name": "stdout",
     "output_type": "stream",
     "text": [
      "45\n"
     ]
    },
    {
     "data": {
      "text/plain": [
       "123456789"
      ]
     },
     "execution_count": 58,
     "metadata": {},
     "output_type": "execute_result"
    }
   ],
   "source": [
    "# s = \"onetwothreefourfivesixseveneightnine123456789onetwothreefour\"\n",
    "s = \"onetwothreefourfivesixseveneightnine123456789\"\n",
    "print(len(s))\n",
    "solution(s)"
   ]
  },
  {
   "cell_type": "markdown",
   "metadata": {},
   "source": [
    "### 문자열의 치환 🔁\n",
    "- str.replace('바꾸려는 값', '치환하는 값)"
   ]
  },
  {
   "cell_type": "code",
   "execution_count": 76,
   "metadata": {},
   "outputs": [],
   "source": [
    "def solution(s):\n",
    "    answer = 0 \n",
    "    number = {'0' : 'zero', '1' : 'one', '2':'two', '3':'three',\n",
    "            '4': 'four', '5' :'five', '6' : 'six', '7' : 'seven', \n",
    "            '8' : 'eight', '9' : 'nine'}\n",
    "\n",
    "    if len(s) <= 50:\n",
    "        answer = s\n",
    "        for k, v in number.items():\n",
    "            answer = answer.replace(v,k)\n",
    "\n",
    "    return int(answer)"
   ]
  },
  {
   "cell_type": "code",
   "execution_count": 77,
   "metadata": {},
   "outputs": [
    {
     "name": "stdout",
     "output_type": "stream",
     "text": [
      "45\n"
     ]
    },
    {
     "data": {
      "text/plain": [
       "123456789123456789"
      ]
     },
     "execution_count": 77,
     "metadata": {},
     "output_type": "execute_result"
    }
   ],
   "source": [
    "s = \"onetwothreefourfivesixseveneightnine123456789\"\n",
    "print(len(s))\n",
    "solution(s)"
   ]
  },
  {
   "cell_type": "code",
   "execution_count": null,
   "metadata": {},
   "outputs": [],
   "source": []
  }
 ],
 "metadata": {
  "interpreter": {
   "hash": "86d881460c4f5889be992f22c52db31a55eaf0a2a099fb1bdba5f29eeec0a12a"
  },
  "kernelspec": {
   "display_name": "Python 3.8.11 64-bit ('base': conda)",
   "name": "python3"
  },
  "language_info": {
   "codemirror_mode": {
    "name": "ipython",
    "version": 3
   },
   "file_extension": ".py",
   "mimetype": "text/x-python",
   "name": "python",
   "nbconvert_exporter": "python",
   "pygments_lexer": "ipython3",
   "version": "3.8.11"
  },
  "orig_nbformat": 4
 },
 "nbformat": 4,
 "nbformat_minor": 2
}
