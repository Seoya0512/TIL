{
 "cells": [
  {
   "cell_type": "markdown",
   "metadata": {},
   "source": [
    "# 두 개 뽑아서 더하기 \n",
    "https://programmers.co.kr/learn/courses/30/lessons/68644"
   ]
  },
  {
   "cell_type": "markdown",
   "metadata": {},
   "source": [
    "한 방에 통과 했음 ✌🏻\n",
    "- 확률의 조합(중복 제거) 사용해서 반복문 생성 \n",
    "- 리스트에서 중복을 제거 하기 위해 set >> list 사용 "
   ]
  },
  {
   "cell_type": "code",
   "execution_count": 57,
   "metadata": {},
   "outputs": [],
   "source": [
    "from itertools import combinations\n",
    "import random \n",
    "\n",
    "def solution(numbers):\n",
    "    answer = []\n",
    "\n",
    "    for i in combinations(numbers, 2):\n",
    "        add_number = i[0] + i[1]\n",
    "        answer.append(add_number)\n",
    "        answer_set = set(answer)\n",
    "        answer = sorted(list(answer_set))\n",
    "\n",
    "    return answer"
   ]
  },
  {
   "cell_type": "code",
   "execution_count": 55,
   "metadata": {},
   "outputs": [
    {
     "data": {
      "text/plain": [
       "[2, 3, 4, 5, 6, 7]"
      ]
     },
     "execution_count": 55,
     "metadata": {},
     "output_type": "execute_result"
    }
   ],
   "source": [
    "numbers = [2,1,3,4,1]\n",
    "solution(numbers)"
   ]
  },
  {
   "cell_type": "code",
   "execution_count": 56,
   "metadata": {},
   "outputs": [
    {
     "data": {
      "text/plain": [
       "[2, 5, 7, 9, 12]"
      ]
     },
     "execution_count": 56,
     "metadata": {},
     "output_type": "execute_result"
    }
   ],
   "source": [
    "numbers = [5,0,2,7]\n",
    "solution(numbers)"
   ]
  },
  {
   "cell_type": "code",
   "execution_count": 29,
   "metadata": {},
   "outputs": [
    {
     "name": "stdout",
     "output_type": "stream",
     "text": [
      "10\n",
      "[5, 5, 4, 5, 3, 4, 5, 4, 6, 6]\n"
     ]
    }
   ],
   "source": [
    "from itertools import combinations\n",
    "import random \n",
    "\n",
    "\n",
    "numbers = [2,1,3,4,1]\n",
    "number_list = list(combinations(numbers, 2))\n",
    "answer= []\n",
    "print(len(number_list))\n",
    "\n",
    "for i in range(len(number_list)):\n",
    "    number = random.sample(numbers, 2)\n",
    "    add_number = number[0] + number[1]\n",
    "    answer.append(add_number)\n",
    "print(answer)"
   ]
  },
  {
   "cell_type": "code",
   "execution_count": 39,
   "metadata": {},
   "outputs": [
    {
     "name": "stdout",
     "output_type": "stream",
     "text": [
      "[2, 5, 7, 9, 12]\n"
     ]
    }
   ],
   "source": [
    "answer = []\n",
    "numbers = [5,0,2,7]\n",
    "for i in combinations(numbers, 2):\n",
    "    add_number = i[0] + i[1]\n",
    "    answer.append(add_number)\n",
    "    answer_set = set(answer)\n",
    "    answer = list(answer_set)\n",
    "print(answer)"
   ]
  },
  {
   "cell_type": "code",
   "execution_count": null,
   "metadata": {},
   "outputs": [],
   "source": []
  }
 ],
 "metadata": {
  "interpreter": {
   "hash": "86d881460c4f5889be992f22c52db31a55eaf0a2a099fb1bdba5f29eeec0a12a"
  },
  "kernelspec": {
   "display_name": "Python 3.8.11 64-bit ('base': conda)",
   "name": "python3"
  },
  "language_info": {
   "codemirror_mode": {
    "name": "ipython",
    "version": 3
   },
   "file_extension": ".py",
   "mimetype": "text/x-python",
   "name": "python",
   "nbconvert_exporter": "python",
   "pygments_lexer": "ipython3",
   "version": "3.8.11"
  },
  "orig_nbformat": 4
 },
 "nbformat": 4,
 "nbformat_minor": 2
}
