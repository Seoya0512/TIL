{
 "cells": [
  {
   "cell_type": "markdown",
   "metadata": {},
   "source": [
    "# 문자열을 정수로 바꾸기 \n",
    "https://programmers.co.kr/learn/courses/30/lessons/12925"
   ]
  },
  {
   "cell_type": "markdown",
   "metadata": {},
   "source": [
    "내가 푼 풀이\n",
    "- 정답은 맞았으나 그렇게 효율적이지 못한 코드인 듯😅\n",
    "- regex를 사용하여 풀이 "
   ]
  },
  {
   "cell_type": "code",
   "execution_count": 49,
   "metadata": {},
   "outputs": [],
   "source": [
    "import re \n",
    "\n",
    "def solution(s):\n",
    "    p_1= re.compile('[0-9+-]')\n",
    "    p_2 = re.compile('[0-9]')\n",
    "\n",
    "    answer = ''\n",
    "    for i in range(len(s)):\n",
    "        if i == 0:\n",
    "            m = p_1.match(s[i]).group()\n",
    "        else: \n",
    "            m = p_2.match(s[i]).group()\n",
    "        answer += m\n",
    "\n",
    "    return int(answer)"
   ]
  },
  {
   "cell_type": "code",
   "execution_count": 51,
   "metadata": {},
   "outputs": [
    {
     "data": {
      "text/plain": [
       "-12345"
      ]
     },
     "execution_count": 51,
     "metadata": {},
     "output_type": "execute_result"
    }
   ],
   "source": [
    "s = '-12345'\n",
    "solution(s)"
   ]
  },
  {
   "cell_type": "markdown",
   "metadata": {},
   "source": [
    "정말 대단한 풀이를 발견했다!! 😵\n",
    "- 아래 코드의 경우 앞자리에 (-,+)가 인식 되어야 하는데 인식하지 않아서 **정답은 아니다**.\n",
    "- 그러나 분명 생각을 전환할 수 있는 코드!! "
   ]
  },
  {
   "cell_type": "code",
   "execution_count": 61,
   "metadata": {},
   "outputs": [],
   "source": [
    "def solution(s):\n",
    "    answer = 0\n",
    "\n",
    "    for i, number in enumerate(s[::-1]):\n",
    "        if number == '-':\n",
    "            answer *= -1 \n",
    "        else:\n",
    "            answer += int(number) * (10 ** i)   # 각 숫자의 자리를 계산\n",
    "\n",
    "    return answer"
   ]
  },
  {
   "cell_type": "code",
   "execution_count": 65,
   "metadata": {},
   "outputs": [
    {
     "data": {
      "text/plain": [
       "-1234"
      ]
     },
     "execution_count": 65,
     "metadata": {},
     "output_type": "execute_result"
    }
   ],
   "source": [
    "s= '-1234'\n",
    "solution(s)"
   ]
  }
 ],
 "metadata": {
  "interpreter": {
   "hash": "86d881460c4f5889be992f22c52db31a55eaf0a2a099fb1bdba5f29eeec0a12a"
  },
  "kernelspec": {
   "display_name": "Python 3.8.11 64-bit ('base': conda)",
   "name": "python3"
  },
  "language_info": {
   "codemirror_mode": {
    "name": "ipython",
    "version": 3
   },
   "file_extension": ".py",
   "mimetype": "text/x-python",
   "name": "python",
   "nbconvert_exporter": "python",
   "pygments_lexer": "ipython3",
   "version": "3.8.11"
  },
  "orig_nbformat": 4
 },
 "nbformat": 4,
 "nbformat_minor": 2
}
