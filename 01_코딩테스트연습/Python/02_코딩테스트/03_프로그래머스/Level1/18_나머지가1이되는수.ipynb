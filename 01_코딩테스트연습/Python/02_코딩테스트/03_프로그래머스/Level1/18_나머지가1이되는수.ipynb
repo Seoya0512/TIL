{
 "cells": [
  {
   "cell_type": "markdown",
   "metadata": {},
   "source": [
    "#### 문제 ❓\n",
    "자연수 n이 매개변수로 주어집니다. n을 x로 나눈 나머지가 1이 되도록 하는 가장 작은 자연수 x를 return 하도록 solution 함수를 완성해주세요. 답이 항상 존재함은 증명될 수 있습니다.\n",
    "\n",
    "\n",
    "#### 풀이 방법 ✔️\n",
    "1. **나누는 값(x) 범위 설정 : 1 < x < n**\n",
    "   1.  n 보다 작은 수로 나눠져야 나머지가 1이상인 수가 나올 수 있음\n",
    "\n",
    "<br>\n",
    "\n",
    "2. **break 사용**\n",
    "   1. 나머지가 1이 나오는 수 중에 최소값을 구해야하는 조건이 있음\n",
    "   2. for 루프를 통해 나누어 지는 값이 1씩 증가 함으로, 가장 작은 숫자를 찾은 뒤 break로 함수를 나오는 것이 필요해 보임 "
   ]
  },
  {
   "cell_type": "code",
   "execution_count": 11,
   "metadata": {},
   "outputs": [],
   "source": [
    "def solution(n):\n",
    "    for i in range(1,n):\n",
    "        if n % i == 1:\n",
    "            return i\n",
    "            break"
   ]
  },
  {
   "cell_type": "code",
   "execution_count": null,
   "metadata": {},
   "outputs": [],
   "source": []
  }
 ],
 "metadata": {
  "kernelspec": {
   "display_name": "Python 3.9.7 ('base')",
   "language": "python",
   "name": "python3"
  },
  "language_info": {
   "codemirror_mode": {
    "name": "ipython",
    "version": 3
   },
   "file_extension": ".py",
   "mimetype": "text/x-python",
   "name": "python",
   "nbconvert_exporter": "python",
   "pygments_lexer": "ipython3",
   "version": "3.9.7"
  },
  "orig_nbformat": 4,
  "vscode": {
   "interpreter": {
    "hash": "c725d78b4f5601c8a85ce6b1d2fdb2e37cff07ced64b275a1bb2fdc836d1f30a"
   }
  }
 },
 "nbformat": 4,
 "nbformat_minor": 2
}
