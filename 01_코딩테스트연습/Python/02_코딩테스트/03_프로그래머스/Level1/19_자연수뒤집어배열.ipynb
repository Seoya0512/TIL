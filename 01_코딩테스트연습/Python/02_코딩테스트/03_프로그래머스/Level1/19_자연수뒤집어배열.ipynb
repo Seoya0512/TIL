{
 "cells": [
  {
   "cell_type": "markdown",
   "metadata": {},
   "source": [
    "### 문제 ❓\n",
    "자연수 n을 뒤집어 각 자리 숫자를 원소로 가지는 배열 형태로 리턴해주세요.\n",
    "\n",
    "\n",
    "### 풀이 📚\n",
    "\n",
    "1. 배열을 뒤집는 방법에는 여러 방식이 있으나, [::-1] 와 reversed()를 사용했음"
   ]
  },
  {
   "cell_type": "code",
   "execution_count": 23,
   "metadata": {},
   "outputs": [],
   "source": [
    "# reverse 방법 1 : [::-1]\n",
    "def solution(n):\n",
    "    answer = [int(i) for i in str(n)][::-1]\n",
    "    return answer"
   ]
  },
  {
   "cell_type": "code",
   "execution_count": null,
   "metadata": {},
   "outputs": [],
   "source": [
    "# reverse qkdqjq : reversed() 사용하기 , 시간이 조금 더 걸림 \n",
    "def solution(n):\n",
    "    answer = list(reversed([int(i) for i in str(n)]))\n",
    "    return answer"
   ]
  },
  {
   "cell_type": "code",
   "execution_count": 24,
   "metadata": {},
   "outputs": [
    {
     "data": {
      "text/plain": [
       "[5, 4, 3, 2, 1]"
      ]
     },
     "execution_count": 24,
     "metadata": {},
     "output_type": "execute_result"
    }
   ],
   "source": [
    "solution(12345)"
   ]
  }
 ],
 "metadata": {
  "kernelspec": {
   "display_name": "Python 3.9.7 ('base')",
   "language": "python",
   "name": "python3"
  },
  "language_info": {
   "codemirror_mode": {
    "name": "ipython",
    "version": 3
   },
   "file_extension": ".py",
   "mimetype": "text/x-python",
   "name": "python",
   "nbconvert_exporter": "python",
   "pygments_lexer": "ipython3",
   "version": "3.9.7"
  },
  "orig_nbformat": 4,
  "vscode": {
   "interpreter": {
    "hash": "c725d78b4f5601c8a85ce6b1d2fdb2e37cff07ced64b275a1bb2fdc836d1f30a"
   }
  }
 },
 "nbformat": 4,
 "nbformat_minor": 2
}
