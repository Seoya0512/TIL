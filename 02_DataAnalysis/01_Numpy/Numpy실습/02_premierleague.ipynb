{
  "nbformat": 4,
  "nbformat_minor": 0,
  "metadata": {
    "colab": {
      "name": "numpy_exercise.ipynb",
      "provenance": []
    },
    "kernelspec": {
      "name": "python3",
      "display_name": "Python 3"
    },
    "language_info": {
      "name": "python"
    }
  },
  "cells": [
    {
      "cell_type": "markdown",
      "metadata": {
        "id": "OgiQA4V1aaWR"
      },
      "source": [
        "### 1. 프리미어리그 데이터 상관계수 분석\n",
        "- 2016년 프리미어리그 성적에서 득점과 실점 데이터중에 승점에 영향을 더 많이 준 데이터는?"
      ]
    },
    {
      "cell_type": "code",
      "metadata": {
        "id": "pVwthlc5aX25"
      },
      "source": [
        "import numpy as np\n",
        "import pandas as pd"
      ],
      "execution_count": 1,
      "outputs": []
    },
    {
      "cell_type": "code",
      "metadata": {
        "colab": {
          "base_uri": "https://localhost:8080/",
          "height": 204
        },
        "id": "PnvJDlmzafML",
        "outputId": "514feacb-55a4-4eaf-b240-dff4943888dd"
      },
      "source": [
        "df = pd.read_csv(\"premierleague.csv\")\n",
        "df.tail()"
      ],
      "execution_count": 2,
      "outputs": [
        {
          "output_type": "execute_result",
          "data": {
            "text/html": [
              "<div>\n",
              "<style scoped>\n",
              "    .dataframe tbody tr th:only-of-type {\n",
              "        vertical-align: middle;\n",
              "    }\n",
              "\n",
              "    .dataframe tbody tr th {\n",
              "        vertical-align: top;\n",
              "    }\n",
              "\n",
              "    .dataframe thead th {\n",
              "        text-align: right;\n",
              "    }\n",
              "</style>\n",
              "<table border=\"1\" class=\"dataframe\">\n",
              "  <thead>\n",
              "    <tr style=\"text-align: right;\">\n",
              "      <th></th>\n",
              "      <th>name</th>\n",
              "      <th>gf</th>\n",
              "      <th>ga</th>\n",
              "      <th>points</th>\n",
              "    </tr>\n",
              "  </thead>\n",
              "  <tbody>\n",
              "    <tr>\n",
              "      <th>15</th>\n",
              "      <td>Huddersfield Town</td>\n",
              "      <td>28</td>\n",
              "      <td>58</td>\n",
              "      <td>37</td>\n",
              "    </tr>\n",
              "    <tr>\n",
              "      <th>16</th>\n",
              "      <td>Southampton</td>\n",
              "      <td>37</td>\n",
              "      <td>56</td>\n",
              "      <td>36</td>\n",
              "    </tr>\n",
              "    <tr>\n",
              "      <th>17</th>\n",
              "      <td>Swansea City</td>\n",
              "      <td>28</td>\n",
              "      <td>56</td>\n",
              "      <td>33</td>\n",
              "    </tr>\n",
              "    <tr>\n",
              "      <th>18</th>\n",
              "      <td>Stoke City</td>\n",
              "      <td>35</td>\n",
              "      <td>68</td>\n",
              "      <td>33</td>\n",
              "    </tr>\n",
              "    <tr>\n",
              "      <th>19</th>\n",
              "      <td>West Bromwich Albion</td>\n",
              "      <td>31</td>\n",
              "      <td>56</td>\n",
              "      <td>31</td>\n",
              "    </tr>\n",
              "  </tbody>\n",
              "</table>\n",
              "</div>"
            ],
            "text/plain": [
              "                    name  gf  ga  points\n",
              "15     Huddersfield Town  28  58      37\n",
              "16           Southampton  37  56      36\n",
              "17          Swansea City  28  56      33\n",
              "18            Stoke City  35  68      33\n",
              "19  West Bromwich Albion  31  56      31"
            ]
          },
          "metadata": {
            "tags": []
          },
          "execution_count": 2
        }
      ]
    },
    {
      "cell_type": "code",
      "metadata": {
        "colab": {
          "base_uri": "https://localhost:8080/"
        },
        "id": "xZFpwf-Gaw4s",
        "outputId": "69c1830d-5f40-4850-c25f-31e76dae30bf"
      },
      "source": [
        "# 득점\n",
        "gf= np.array(df['gf'])\n",
        "gf"
      ],
      "execution_count": 7,
      "outputs": [
        {
          "output_type": "execute_result",
          "data": {
            "text/plain": [
              "array([106,  68,  74,  84,  62,  74,  36,  44,  56,  39,  45,  45,  48,\n",
              "        44,  34,  28,  37,  28,  35,  31])"
            ]
          },
          "metadata": {
            "tags": []
          },
          "execution_count": 7
        }
      ]
    },
    {
      "cell_type": "code",
      "metadata": {
        "colab": {
          "base_uri": "https://localhost:8080/"
        },
        "id": "gpgWaiQ7bC2J",
        "outputId": "67f39d18-7f0b-4645-b69a-5656d50c1d04"
      },
      "source": [
        "# 실점 \n",
        "ga = np.array(df['ga'])\n",
        "ga"
      ],
      "execution_count": 8,
      "outputs": [
        {
          "output_type": "execute_result",
          "data": {
            "text/plain": [
              "array([27, 28, 36, 38, 38, 51, 39, 58, 60, 47, 55, 61, 68, 64, 54, 58, 56,\n",
              "       56, 68, 56])"
            ]
          },
          "metadata": {
            "tags": []
          },
          "execution_count": 8
        }
      ]
    },
    {
      "cell_type": "code",
      "metadata": {
        "colab": {
          "base_uri": "https://localhost:8080/"
        },
        "id": "dH4dsy3hbGeY",
        "outputId": "392435e8-e8f2-45e3-b1c4-0dade69fe293"
      },
      "source": [
        "# 승점\n",
        "points =np.array(df['points'])\n",
        "points"
      ],
      "execution_count": 9,
      "outputs": [
        {
          "output_type": "execute_result",
          "data": {
            "text/plain": [
              "array([100,  81,  77,  75,  70,  63,  54,  49,  47,  44,  44,  44,  42,\n",
              "        41,  40,  37,  36,  33,  33,  31])"
            ]
          },
          "metadata": {
            "tags": []
          },
          "execution_count": 9
        }
      ]
    },
    {
      "cell_type": "code",
      "metadata": {
        "colab": {
          "base_uri": "https://localhost:8080/"
        },
        "id": "FexQYKh-bNVq",
        "outputId": "358c4a5e-da9b-4b6e-862f-9f127e44d178"
      },
      "source": [
        "data1, data2 = np.corrcoef(gf, points)[0,1] ** 2, np.corrcoef(ga, points)[0,1] ** 2\n",
        "(data1,data2)"
      ],
      "execution_count": 11,
      "outputs": [
        {
          "output_type": "execute_result",
          "data": {
            "text/plain": [
              "(0.8683266496886471, 0.757933920368845)"
            ]
          },
          "metadata": {
            "tags": []
          },
          "execution_count": 11
        }
      ]
    },
    {
      "cell_type": "code",
      "metadata": {
        "colab": {
          "base_uri": "https://localhost:8080/"
        },
        "id": "OfVivTCkbhKy",
        "outputId": "496c61c3-5605-4072-a737-f8e888aba326"
      },
      "source": [
        "round(data1, 2), round(data2, 2)"
      ],
      "execution_count": 13,
      "outputs": [
        {
          "output_type": "execute_result",
          "data": {
            "text/plain": [
              "(0.87, 0.76)"
            ]
          },
          "metadata": {
            "tags": []
          },
          "execution_count": 13
        }
      ]
    },
    {
      "cell_type": "markdown",
      "metadata": {
        "id": "l-x7qoH8b02p"
      },
      "source": [
        "결과 : 득점 데이터가 승점에 큰 영향이 있으므로 공격을 활발하게 하여 득점해야한다 \n"
      ]
    }
  ]
}