{
  "nbformat": 4,
  "nbformat_minor": 0,
  "metadata": {
    "colab": {
      "name": "BeautifulSoup.ipynb",
      "provenance": []
    },
    "kernelspec": {
      "name": "python3",
      "display_name": "Python 3"
    },
    "language_info": {
      "name": "python"
    }
  },
  "cells": [
    {
      "cell_type": "markdown",
      "metadata": {
        "id": "Vc9UuR_jdrAz"
      },
      "source": [
        "# Beautiful Soup\n",
        "- 일반적으로 사용되며 파이썬에서 사용함 \n",
        "- Beautiful Suop 라이브러리를 활요해 웹 페이지 상의 HTML 데이터에서 필요한 정보를 가져옴 "
      ]
    },
    {
      "cell_type": "markdown",
      "metadata": {
        "id": "kFfL--1foqQA"
      },
      "source": [
        "### urllib를 통해서 웹에 있는 소스 가져오기"
      ]
    },
    {
      "cell_type": "code",
      "metadata": {
        "id": "u9XdLKWaov16"
      },
      "source": [
        "import urllib.request\n",
        "import urllib.parse \n",
        "\n",
        "# web_url에 원하는 웹의 URL을 넣어주면 됨 \n",
        "with urllib.request.urlopen(web_url) as response:\n",
        "  html = response.read()\n",
        "  soup= Beautiful Soup(html, 'html.parser')\n",
        "\n",
        "# 간단한 방식 \n",
        "from urllib.request import urlopen \n",
        "html = urlopen(web_url)\n",
        "soup = BeautifulSoup(html, 'html.parser')"
      ],
      "execution_count": null,
      "outputs": []
    },
    {
      "cell_type": "markdown",
      "metadata": {
        "id": "ADWtKAZSd9GE"
      },
      "source": [
        "### requests 이용 \n"
      ]
    },
    {
      "cell_type": "code",
      "metadata": {
        "id": "ibI9LmGWeDi8"
      },
      "source": [
        "import requests "
      ],
      "execution_count": 1,
      "outputs": []
    },
    {
      "cell_type": "markdown",
      "metadata": {
        "id": "z6rHH444pINw"
      },
      "source": [
        ""
      ]
    },
    {
      "cell_type": "code",
      "metadata": {
        "id": "HcyHVwowd7Fh"
      },
      "source": [
        "url='https://movie.naver.com/movie/sdb/rank/rmovie.naver'\n",
        "req = requests.get(url)\n",
        "html = req.text"
      ],
      "execution_count": 2,
      "outputs": []
    },
    {
      "cell_type": "code",
      "metadata": {
        "id": "Glm0jauReJVS"
      },
      "source": [
        "from bs4 import BeautifulSoup\n",
        "\n",
        "soup = BeautifulSoup(html, 'html.parser')"
      ],
      "execution_count": 3,
      "outputs": []
    },
    {
      "cell_type": "markdown",
      "metadata": {
        "id": "a-4MnvYNduwP"
      },
      "source": [
        "### bs4 명령어 \n",
        "#### 1) find \n",
        "  - 해당 조건에 맞는 하나의 태그를 가져온다 \n",
        "  - 중복이면 가장 첫 번째 태그를 가져온다 "
      ]
    },
    {
      "cell_type": "markdown",
      "metadata": {
        "id": "OmZEOuYpg65T"
      },
      "source": [
        "* 태그와 속성을 이용해서 가져오기 \n",
        "  - find('태그명', {'속성명' : '값' ....})"
      ]
    },
    {
      "cell_type": "markdown",
      "metadata": {
        "id": "X1RFFhmgiOgF"
      },
      "source": [
        "* class 이름으로 찾기 \n",
        "  - find_all('태그명', {'class' : '클래스 명'})\n",
        "  - find_all('태그명', '클래스 명')\n",
        "  - find_all(class_ = '클래스 명')"
      ]
    },
    {
      "cell_type": "code",
      "metadata": {
        "colab": {
          "base_uri": "https://localhost:8080/"
        },
        "id": "0thrCIB8fg33",
        "outputId": "b3b1502b-ef54-4bb0-bafe-88bf47bc2834"
      },
      "source": [
        "# 첫번째 영화 제목 찾기\n",
        "soup.find('div', {'class': 'tit3'})"
      ],
      "execution_count": 13,
      "outputs": [
        {
          "output_type": "execute_result",
          "data": {
            "text/plain": [
              "<div class=\"tit3\">\n",
              "<a href=\"/movie/bi/mi/basic.naver?code=190320\" title=\"보이스\">보이스</a>\n",
              "</div>"
            ]
          },
          "metadata": {},
          "execution_count": 13
        }
      ]
    },
    {
      "cell_type": "code",
      "metadata": {
        "colab": {
          "base_uri": "https://localhost:8080/"
        },
        "id": "ZVn22zLNgwyA",
        "outputId": "48c0d662-c7e9-4922-c881-8b8ddbc6d217"
      },
      "source": [
        "# 딕셔너리 대체 가능함 \n",
        "soup.find('div', 'tit3')"
      ],
      "execution_count": 16,
      "outputs": [
        {
          "output_type": "execute_result",
          "data": {
            "text/plain": [
              "<div class=\"tit3\">\n",
              "<a href=\"/movie/bi/mi/basic.naver?code=190320\" title=\"보이스\">보이스</a>\n",
              "</div>"
            ]
          },
          "metadata": {},
          "execution_count": 16
        }
      ]
    },
    {
      "cell_type": "markdown",
      "metadata": {
        "id": "DyKANL1rfArI"
      },
      "source": [
        "#### 2) find_all\n",
        "  - 해당 조건에 맞는 모든 태그들을 가져온다 "
      ]
    },
    {
      "cell_type": "markdown",
      "metadata": {
        "id": "Y16TDV7ehJ9I"
      },
      "source": [
        "* 태그와 속성을 이용해서 가져오기 \n",
        "  - find_all('태그명', {'속성명' : '값' ....})"
      ]
    },
    {
      "cell_type": "code",
      "metadata": {
        "id": "I_qHxMcmex8q"
      },
      "source": [
        "# 전체 영화 제목 찾기 \n",
        "find_all = soup.find_all('div', 'tit3')"
      ],
      "execution_count": 15,
      "outputs": []
    },
    {
      "cell_type": "markdown",
      "metadata": {
        "id": "KR-e2r_ChPGX"
      },
      "source": [
        "* class 이름으로 찾기 \n",
        "  - find_all('태그명', {'class' : '클래스 명'})\n",
        "  - find_all('태그명', '클래스 명')\n",
        "  - find_all(class_ = '클래스 명')"
      ]
    },
    {
      "cell_type": "code",
      "metadata": {
        "colab": {
          "base_uri": "https://localhost:8080/"
        },
        "id": "pgAluEzRgqSK",
        "outputId": "887483ab-130a-4e83-9ae8-b3047b98726b"
      },
      "source": [
        "# 전체 영화 제목 50개 클래스 이름으로 찾기 \n",
        "find_all =soup.find_all('div',{'class': 'tit3'})\n",
        "print(len(find_all))"
      ],
      "execution_count": 20,
      "outputs": [
        {
          "output_type": "stream",
          "name": "stdout",
          "text": [
            "50\n"
          ]
        }
      ]
    },
    {
      "cell_type": "markdown",
      "metadata": {
        "id": "20wmw0zFiVEV"
      },
      "source": [
        "#### 3) CSS Selector, Select \n",
        "  - id로 찾기 \n",
        "    - select_one('#ex_id')\n",
        "    - select('#ex_id')"
      ]
    },
    {
      "cell_type": "markdown",
      "metadata": {
        "id": "osYSePt6ixpY"
      },
      "source": [
        "- class로 찾기 \n",
        "  - select_one('.ex_class')\n",
        "  - select('.ex_class')"
      ]
    },
    {
      "cell_type": "code",
      "metadata": {
        "colab": {
          "base_uri": "https://localhost:8080/"
        },
        "id": "C46rmzfDh-F4",
        "outputId": "3a2e4e42-9341-4e85-ee6b-901543778a1e"
      },
      "source": [
        "# 첫번째 영화이름 찾기 \n",
        "movie = soup.select_one('.tit3')\n",
        "movie"
      ],
      "execution_count": 22,
      "outputs": [
        {
          "output_type": "execute_result",
          "data": {
            "text/plain": [
              "<div class=\"tit3\">\n",
              "<a href=\"/movie/bi/mi/basic.naver?code=190320\" title=\"보이스\">보이스</a>\n",
              "</div>"
            ]
          },
          "metadata": {},
          "execution_count": 22
        }
      ]
    },
    {
      "cell_type": "code",
      "metadata": {
        "colab": {
          "base_uri": "https://localhost:8080/",
          "height": 37
        },
        "id": "eInl2y36i-sb",
        "outputId": "6bf84b58-3b07-4df9-e568-25b4d0b31996"
      },
      "source": [
        "# 결과 가져오기 \n",
        "movie.get_text().strip('\\n')"
      ],
      "execution_count": 27,
      "outputs": [
        {
          "output_type": "execute_result",
          "data": {
            "application/vnd.google.colaboratory.intrinsic+json": {
              "type": "string"
            },
            "text/plain": [
              "'보이스'"
            ]
          },
          "metadata": {},
          "execution_count": 27
        }
      ]
    },
    {
      "cell_type": "markdown",
      "metadata": {
        "id": "RRHvPnnUkyyF"
      },
      "source": [
        "* attribute 결과 가져오기"
      ]
    },
    {
      "cell_type": "code",
      "metadata": {
        "colab": {
          "base_uri": "https://localhost:8080/"
        },
        "id": "miUoLvM5j44X",
        "outputId": "22d4bc7f-0242-40fa-d627-5f6c8a7d1d82"
      },
      "source": [
        "a_tag= movie.find('a')\n",
        "a_tag"
      ],
      "execution_count": 33,
      "outputs": [
        {
          "output_type": "execute_result",
          "data": {
            "text/plain": [
              "<a href=\"/movie/bi/mi/basic.naver?code=190320\" title=\"보이스\">보이스</a>"
            ]
          },
          "metadata": {},
          "execution_count": 33
        }
      ]
    },
    {
      "cell_type": "code",
      "metadata": {
        "colab": {
          "base_uri": "https://localhost:8080/",
          "height": 37
        },
        "id": "-YZBINLJkCKp",
        "outputId": "45cdac27-ee98-44c6-f193-db84e9f22434"
      },
      "source": [
        "a_tag.string"
      ],
      "execution_count": 34,
      "outputs": [
        {
          "output_type": "execute_result",
          "data": {
            "application/vnd.google.colaboratory.intrinsic+json": {
              "type": "string"
            },
            "text/plain": [
              "'보이스'"
            ]
          },
          "metadata": {},
          "execution_count": 34
        }
      ]
    },
    {
      "cell_type": "code",
      "metadata": {
        "colab": {
          "base_uri": "https://localhost:8080/",
          "height": 37
        },
        "id": "XRg6iOxZk_MN",
        "outputId": "cef4166d-2b6c-41d2-92f0-9e016e45682a"
      },
      "source": [
        "# href\n",
        "a_tag['href']\n",
        "\n",
        "# href 속성 \n",
        "a_tag.attrs['href']"
      ],
      "execution_count": 35,
      "outputs": [
        {
          "output_type": "execute_result",
          "data": {
            "application/vnd.google.colaboratory.intrinsic+json": {
              "type": "string"
            },
            "text/plain": [
              "'/movie/bi/mi/basic.naver?code=190320'"
            ]
          },
          "metadata": {},
          "execution_count": 35
        }
      ]
    },
    {
      "cell_type": "markdown",
      "metadata": {
        "id": "jnJ9UMlpm_XO"
      },
      "source": [
        "#### 상위 구조활용\n",
        "  - `>`를 사용하여 한 단계 아래를 의미"
      ]
    },
    {
      "cell_type": "code",
      "metadata": {
        "id": "m570nQw8lIRc"
      },
      "source": [
        "movie_list = soup.select('table > tbody > tr')"
      ],
      "execution_count": 46,
      "outputs": []
    },
    {
      "cell_type": "code",
      "metadata": {
        "colab": {
          "base_uri": "https://localhost:8080/",
          "height": 37
        },
        "id": "tmOwtEfwnTzu",
        "outputId": "78081dc8-e5a1-4b70-b5c0-090860fee243"
      },
      "source": [
        "movies = soup.select('td.title > div.tit3')\n",
        "movies[0].get_text().strip()"
      ],
      "execution_count": 50,
      "outputs": [
        {
          "output_type": "execute_result",
          "data": {
            "application/vnd.google.colaboratory.intrinsic+json": {
              "type": "string"
            },
            "text/plain": [
              "'보이스'"
            ]
          },
          "metadata": {},
          "execution_count": 50
        }
      ]
    }
  ]
}