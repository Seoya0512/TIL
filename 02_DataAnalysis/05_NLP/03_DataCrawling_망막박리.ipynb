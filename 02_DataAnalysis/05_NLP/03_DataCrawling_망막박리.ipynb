from selenium import webdriver
from bs4 import BeautifulSoup
import time
import pandas as pd
from urllib.parse import quote
