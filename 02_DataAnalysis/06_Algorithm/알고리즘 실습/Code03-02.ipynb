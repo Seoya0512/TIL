{
 "cells": [
  {
   "cell_type": "markdown",
   "source": [
    "## 선형데이터의 삽입 "
   ],
   "metadata": {}
  },
  {
   "cell_type": "code",
   "execution_count": 9,
   "source": [
    "katok= ['다현', '정연', '쯔위', '사나', '지효','모모']"
   ],
   "outputs": [],
   "metadata": {}
  },
  {
   "cell_type": "code",
   "execution_count": 10,
   "source": [
    "# 삽입 함수 생성 \n",
    "def insert_data(position, friend): \n",
    "    katok.append(None)\n",
    "    kLen =len(katok)\n",
    "    for i in range(kLen-1, position, -1):               # (마지막 자리, 지정자리, -1)\n",
    "        katok[i] = katok[i-1]                           # 한 칸씩 이동하고 정리하는 단계\n",
    "        katok[i-1]= None\n",
    "    katok[position] = friend                    # 마지막 친구 삽입 \n",
    "\n",
    "insert_data(2,'솔라')\n",
    "print(katok)"
   ],
   "outputs": [
    {
     "output_type": "stream",
     "name": "stdout",
     "text": [
      "['다현', '정연', '솔라', '쯔위', '사나', '지효', '모모']\n"
     ]
    }
   ],
   "metadata": {}
  },
  {
   "cell_type": "code",
   "execution_count": 11,
   "source": [
    "insert_data(6,'문별')\n",
    "print(katok)"
   ],
   "outputs": [
    {
     "output_type": "stream",
     "name": "stdout",
     "text": [
      "['다현', '정연', '솔라', '쯔위', '사나', '지효', '문별', '모모']\n"
     ]
    }
   ],
   "metadata": {}
  },
  {
   "cell_type": "code",
   "execution_count": null,
   "source": [],
   "outputs": [],
   "metadata": {}
  }
 ],
 "metadata": {
  "orig_nbformat": 4,
  "language_info": {
   "name": "python",
   "version": "3.8.11",
   "mimetype": "text/x-python",
   "codemirror_mode": {
    "name": "ipython",
    "version": 3
   },
   "pygments_lexer": "ipython3",
   "nbconvert_exporter": "python",
   "file_extension": ".py"
  },
  "kernelspec": {
   "name": "python3",
   "display_name": "Python 3.8.11 64-bit ('base': conda)"
  },
  "interpreter": {
   "hash": "59aa76eec713a2e656bb9d4ddb5f36b21f3d4006b36f877fc5669415524b1415"
  }
 },
 "nbformat": 4,
 "nbformat_minor": 2
}