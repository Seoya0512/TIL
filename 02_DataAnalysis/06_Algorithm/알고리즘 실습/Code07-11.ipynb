{
 "cells": [
  {
   "cell_type": "markdown",
   "source": [
    "# 원형 큐"
   ],
   "metadata": {}
  },
  {
   "cell_type": "code",
   "execution_count": 35,
   "source": [
    "def isQueueFull():\n",
    "    global SIZE, queue, front, rear\n",
    "    if ((rear + 1) % SIZE == front):\n",
    "        return True\n",
    "    else:\n",
    "        return False\n",
    "\n",
    "def isQueueEmpty():\n",
    "    global SIZE, queue, front, rear\n",
    "    if (front == rear):\n",
    "        return True\n",
    "    else:\n",
    "        return False\n",
    "\n",
    "def enQueue(data) :\n",
    "    global SIZE, queue, front, rear\n",
    "    if(isQueueFull()) :\n",
    "        print('큐 꽉~')\n",
    "        return\n",
    "    rear = ((rear + 1) % SIZE)\n",
    "    queue[rear] = data\n",
    "\n",
    "def deQueue():\n",
    "    global SIZE, queue, front, rear\n",
    "    if (isQueueEmpty()):\n",
    "        print ('queue 텅!')\n",
    "        return None\n",
    "    front = (front+1) % SIZE\n",
    "    data = queue[front]\n",
    "    queue[front] = None\n",
    "    return data"
   ],
   "outputs": [],
   "metadata": {}
  },
  {
   "cell_type": "code",
   "execution_count": 37,
   "source": [
    "# 전역변수 \n",
    "\n",
    "SIZE = 5\n",
    "queue = [None for _ in range(SIZE)]\n",
    "front = rear = 0"
   ],
   "outputs": [],
   "metadata": {}
  },
  {
   "cell_type": "markdown",
   "source": [
    "## 메인함수"
   ],
   "metadata": {}
  },
  {
   "cell_type": "code",
   "execution_count": 38,
   "source": [
    "enQueue('화사')\n",
    "enQueue('솔라')\n",
    "enQueue('문별')\n",
    "print('<--', queue, '<--')"
   ],
   "outputs": [
    {
     "output_type": "stream",
     "name": "stdout",
     "text": [
      "<-- [None, '화사', '솔라', '문별', None] <--\n"
     ]
    }
   ],
   "metadata": {}
  },
  {
   "cell_type": "code",
   "execution_count": 39,
   "source": [
    "data = deQueue(); print('디큐 :', data)\n",
    "data = deQueue(); print('디큐 :', data)\n",
    "print('<--', queue, '<--')"
   ],
   "outputs": [
    {
     "output_type": "stream",
     "name": "stdout",
     "text": [
      "디큐 : 화사\n",
      "디큐 : 솔라\n",
      "<-- [None, None, None, '문별', None] <--\n"
     ]
    }
   ],
   "metadata": {}
  },
  {
   "cell_type": "code",
   "execution_count": 40,
   "source": [
    "enQueue('선미')\n",
    "print('<--', queue, '<--')"
   ],
   "outputs": [
    {
     "output_type": "stream",
     "name": "stdout",
     "text": [
      "<-- [None, None, None, '문별', '선미'] <--\n"
     ]
    }
   ],
   "metadata": {}
  },
  {
   "cell_type": "code",
   "execution_count": 41,
   "source": [
    "enQueue('웬디')\n",
    "enQueue('슬기')\n",
    "print('<--', queue, '<--')"
   ],
   "outputs": [
    {
     "output_type": "stream",
     "name": "stdout",
     "text": [
      "<-- ['웬디', '슬기', None, '문별', '선미'] <--\n"
     ]
    }
   ],
   "metadata": {}
  },
  {
   "cell_type": "code",
   "execution_count": 42,
   "source": [
    "enQueue('다솜')\n",
    "print('<--', queue, '<--')"
   ],
   "outputs": [
    {
     "output_type": "stream",
     "name": "stdout",
     "text": [
      "큐 꽉~\n",
      "<-- ['웬디', '슬기', None, '문별', '선미'] <--\n"
     ]
    }
   ],
   "metadata": {}
  },
  {
   "cell_type": "code",
   "execution_count": null,
   "source": [],
   "outputs": [],
   "metadata": {}
  }
 ],
 "metadata": {
  "orig_nbformat": 4,
  "language_info": {
   "name": "python",
   "version": "3.8.11",
   "mimetype": "text/x-python",
   "codemirror_mode": {
    "name": "ipython",
    "version": 3
   },
   "pygments_lexer": "ipython3",
   "nbconvert_exporter": "python",
   "file_extension": ".py"
  },
  "kernelspec": {
   "name": "python3",
   "display_name": "Python 3.8.11 64-bit ('base': conda)"
  },
  "interpreter": {
   "hash": "59aa76eec713a2e656bb9d4ddb5f36b21f3d4006b36f877fc5669415524b1415"
  }
 },
 "nbformat": 4,
 "nbformat_minor": 2
}