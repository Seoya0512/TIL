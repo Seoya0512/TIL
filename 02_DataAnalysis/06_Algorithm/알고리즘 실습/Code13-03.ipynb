{
 "cells": [
  {
   "cell_type": "markdown",
   "source": [
    "## 함수 선언부"
   ],
   "metadata": {}
  },
  {
   "cell_type": "code",
   "execution_count": 7,
   "source": [
    "def binarySearch(ary, fdata):\n",
    "    pos = -1\n",
    "    start = 0\n",
    "    end = len(ary)-1\n",
    "    while (start <= end):\n",
    "        mid = (start + end) // 2\n",
    "        if fdata == ary[mid]:\n",
    "            return mid\n",
    "        elif fdata > ary[mid]:\n",
    "            start = mid + 1\n",
    "        else:\n",
    "            end = mid - 1\n",
    "    return pos\n"
   ],
   "outputs": [],
   "metadata": {}
  },
  {
   "cell_type": "markdown",
   "source": [
    "## 전역변수"
   ],
   "metadata": {}
  },
  {
   "cell_type": "code",
   "execution_count": 8,
   "source": [
    "dataAry =[ 50, 60, 105, 120, 150, 160, 162, 168, 177, 188]\n",
    "findData = 162  # 할머니키"
   ],
   "outputs": [],
   "metadata": {}
  },
  {
   "cell_type": "markdown",
   "source": [
    "## 메인 코드부"
   ],
   "metadata": {}
  },
  {
   "cell_type": "code",
   "execution_count": 11,
   "source": [
    "print('배열 --> ', dataAry)\n",
    "position = binarySearch(dataAry, findData)\n",
    "if position == -1:\n",
    "    print('못 찾음..')\n",
    "else:\n",
    "    print(findData, '는', position, '위치에 있음')"
   ],
   "outputs": [
    {
     "output_type": "stream",
     "name": "stdout",
     "text": [
      "배열 -->  [50, 60, 105, 120, 150, 160, 162, 168, 177, 188]\n",
      "162 는 6 위치에 있음\n"
     ]
    }
   ],
   "metadata": {}
  },
  {
   "cell_type": "code",
   "execution_count": null,
   "source": [],
   "outputs": [],
   "metadata": {}
  }
 ],
 "metadata": {
  "orig_nbformat": 4,
  "language_info": {
   "name": "python",
   "version": "3.8.11",
   "mimetype": "text/x-python",
   "codemirror_mode": {
    "name": "ipython",
    "version": 3
   },
   "pygments_lexer": "ipython3",
   "nbconvert_exporter": "python",
   "file_extension": ".py"
  },
  "kernelspec": {
   "name": "python3",
   "display_name": "Python 3.8.11 64-bit ('base': conda)"
  },
  "interpreter": {
   "hash": "59aa76eec713a2e656bb9d4ddb5f36b21f3d4006b36f877fc5669415524b1415"
  }
 },
 "nbformat": 4,
 "nbformat_minor": 2
}