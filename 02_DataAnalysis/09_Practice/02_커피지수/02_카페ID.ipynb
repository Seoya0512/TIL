{
  "nbformat": 4,
  "nbformat_minor": 0,
  "metadata": {
    "colab": {
      "name": "02_카페ID.ipynb",
      "provenance": []
    },
    "kernelspec": {
      "name": "python3",
      "display_name": "Python 3"
    },
    "language_info": {
      "name": "python"
    }
  },
  "cells": [
    {
      "cell_type": "markdown",
      "metadata": {
        "id": "Jgd-IO8TqcNB"
      },
      "source": [
        "# 커피지수 - ID  부여"
      ]
    },
    {
      "cell_type": "code",
      "metadata": {
        "id": "jpF85gp2p46O"
      },
      "source": [
        "import numpy as np\n",
        "import pandas as pd\n",
        "import matplotlib.pyplot as plt\n",
        "import warnings \n",
        "warnings.filterwarnings('ignore')"
      ],
      "execution_count": 1,
      "outputs": []
    },
    {
      "cell_type": "code",
      "metadata": {
        "colab": {
          "base_uri": "https://localhost:8080/"
        },
        "id": "_y3PL46kqPo1",
        "outputId": "53968a2d-6133-4700-85b6-30cd3d1442dc"
      },
      "source": [
        "from google.colab import drive\n",
        "drive.mount('/content/mnt')"
      ],
      "execution_count": 2,
      "outputs": [
        {
          "output_type": "stream",
          "name": "stdout",
          "text": [
            "Mounted at /content/mnt\n"
          ]
        }
      ]
    },
    {
      "cell_type": "code",
      "metadata": {
        "id": "0jQqaH6Aq432"
      },
      "source": [
        "result_folder = '/content/mnt/MyDrive/results/CoffeeIndex'\n",
        "data_folder = '/content/mnt/MyDrive/Data/인구소멸위기지역'"
      ],
      "execution_count": 3,
      "outputs": []
    },
    {
      "cell_type": "markdown",
      "metadata": {
        "id": "m88Ga-Enqlv2"
      },
      "source": [
        "### 데이터 불러오기"
      ]
    },
    {
      "cell_type": "code",
      "metadata": {
        "id": "E9SEZ_5AHJTb"
      },
      "source": [
        "starbucks = pd.read_csv(f'{result_folder}/스타벅스.csv')\n",
        "coffeebean = pd.read_csv(f'{result_folder}/커피빈.csv')\n",
        "ediya = pd.read_csv(f'{result_folder}/이디야.csv')\n",
        "paik = pd.read_csv(f'{result_folder}/빽다방.csv')"
      ],
      "execution_count": 4,
      "outputs": []
    },
    {
      "cell_type": "code",
      "metadata": {
        "colab": {
          "base_uri": "https://localhost:8080/"
        },
        "id": "3CAaCwTSJ4LS",
        "outputId": "7c09103c-a917-4bbe-8493-c5b348b2d1ea"
      },
      "source": [
        "len(starbucks), len(coffeebean), len(paik), len(ediya)"
      ],
      "execution_count": 5,
      "outputs": [
        {
          "output_type": "execute_result",
          "data": {
            "text/plain": [
              "(1547, 293, 609, 2120)"
            ]
          },
          "metadata": {},
          "execution_count": 5
        }
      ]
    },
    {
      "cell_type": "markdown",
      "metadata": {
        "id": "IUA-sb22rPEs"
      },
      "source": [
        "### 고유 ID 만들기"
      ]
    },
    {
      "cell_type": "code",
      "metadata": {
        "id": "d8bbT3EKAc7M"
      },
      "source": [
        "# 고성군 - 고성(강원), 고성(경남)\n",
        "# 광역시 - 서울 용산, 서울 서대문, 대전 서구, 대전 유성, 세종\n",
        "# 행정구 - 수원 장안, 용인 수지, 고양 일산동, 창원 합포, 창원 회원\n",
        "tmp_gu_dict = {\n",
        "    '수원': ['장안구', '권선구', '팔달구', '영통구'], \n",
        "    '성남': ['수정구', '중원구', '분당구'], \n",
        "    '안양': ['만안구', '동안구'], \n",
        "    '안산': ['상록구', '단원구'], \n",
        "    '고양': ['덕양구', '일산동구', '일산서구'], \n",
        "    '용인': ['처인구', '기흥구', '수지구'], \n",
        "    '청주': ['상당구', '서원구', '흥덕구', '청원구'], \n",
        "    '천안': ['동남구', '서북구'], \n",
        "    '전주': ['완산구', '덕진구'], \n",
        "    '포항': ['남구', '북구'], \n",
        "    '창원': ['의창구', '성산구', '진해구', '마산합포구', '마산회원구']\n",
        "}"
      ],
      "execution_count": 6,
      "outputs": []
    },
    {
      "cell_type": "code",
      "metadata": {
        "id": "tlhAPKLWrnJQ"
      },
      "source": [
        "metro_list = ['서울특별시','부산광역시','대구광역시','인천광역시','대전광역시','광주광역시','울산광역시']\n",
        "\n",
        "def get_ID(df):\n",
        "    si_name = [None] * len(df)\n",
        "\n",
        "    for i in df.index:\n",
        "        if df.시도명[i] in metro_list:\n",
        "            if len(df.시군구명[i]) == 2:\n",
        "                si_name[i] = df.시도명[i][:2] + ' ' + df.시군구명[i]\n",
        "            else:\n",
        "                si_name[i] = df.시도명[i][:2] + ' ' + df.시군구명[i][:-1]     # 긴 구 이름에서 '구' 제외\n",
        "        else:\n",
        "            si_len = len(df.시군구명[i].split())\n",
        "            if si_len == 1:\n",
        "                if df.시군구명[i][:-1] == '고성':\n",
        "                    if df.시도명[i] == '강원도':\n",
        "                        si_name[i] = '고성(강원)'\n",
        "                    else:\n",
        "                        si_name[i] = '고성(경남)'\n",
        "                elif df.시군구명[i][:-1] in tmp_gu_dict.keys():  # 시군구명에 시 이름만 있는 것이 있음\n",
        "                    if len(df.도로명주소[i].split()[2]) == 5:\n",
        "                        si_name[i] = df.시군구명[i][:2] + ' ' + df.도로명주소[i].split()[2][2:-1]\n",
        "                    else:\n",
        "                        si_name[i] = df.시군구명[i][:2] + ' ' + df.도로명주소[i].split()[2][:-1]\n",
        "                elif df.시군구명[i][:2] == '세종':\n",
        "                    si_name[i] = '세종'\n",
        "                else:\n",
        "                    si_name[i] = df.시군구명[i][:-1]\n",
        "            else:\n",
        "                _, admingu = df.시군구명[i].split()\n",
        "                for key, values in tmp_gu_dict.items():\n",
        "                    if admingu in values:\n",
        "                        if len(admingu) == 2:\n",
        "                            si_name[i] = key + ' ' + admingu\n",
        "                        elif admingu in ['마산합포구', '마산회원구']:\n",
        "                            si_name[i] = key + ' ' + admingu[2:-1]\n",
        "                        else:\n",
        "                            si_name[i] = key + ' ' + admingu[:-1]\n",
        "\n",
        "    return si_name\n",
        "  "
      ],
      "execution_count": 14,
      "outputs": []
    },
    {
      "cell_type": "markdown",
      "metadata": {
        "id": "JRJGIbAXH2vu"
      },
      "source": [
        "* 스타벅스"
      ]
    },
    {
      "cell_type": "code",
      "metadata": {
        "colab": {
          "base_uri": "https://localhost:8080/",
          "height": 204
        },
        "id": "Qu_HszGJvdDP",
        "outputId": "1c91415c-c859-43d5-dd09-40772dc876cd"
      },
      "source": [
        "starbucks['ID'] = get_ID(starbucks)\n",
        "starbucks.tail()"
      ],
      "execution_count": 15,
      "outputs": [
        {
          "output_type": "execute_result",
          "data": {
            "text/html": [
              "<div>\n",
              "<style scoped>\n",
              "    .dataframe tbody tr th:only-of-type {\n",
              "        vertical-align: middle;\n",
              "    }\n",
              "\n",
              "    .dataframe tbody tr th {\n",
              "        vertical-align: top;\n",
              "    }\n",
              "\n",
              "    .dataframe thead th {\n",
              "        text-align: right;\n",
              "    }\n",
              "</style>\n",
              "<table border=\"1\" class=\"dataframe\">\n",
              "  <thead>\n",
              "    <tr style=\"text-align: right;\">\n",
              "      <th></th>\n",
              "      <th>상호명</th>\n",
              "      <th>지점명</th>\n",
              "      <th>시도명</th>\n",
              "      <th>시군구명</th>\n",
              "      <th>도로명주소</th>\n",
              "      <th>ID</th>\n",
              "    </tr>\n",
              "  </thead>\n",
              "  <tbody>\n",
              "    <tr>\n",
              "      <th>1542</th>\n",
              "      <td>스타벅스</td>\n",
              "      <td>충북대점</td>\n",
              "      <td>충청북도</td>\n",
              "      <td>청주시 서원구</td>\n",
              "      <td>충청북도 청주시 서원구 내수동로 113</td>\n",
              "      <td>청주 서원</td>\n",
              "    </tr>\n",
              "    <tr>\n",
              "      <th>1543</th>\n",
              "      <td>스타벅스</td>\n",
              "      <td>청주율량DT점</td>\n",
              "      <td>충청북도</td>\n",
              "      <td>청주시 청원구</td>\n",
              "      <td>충청북도 청주시 청원구 충청대로107번길 8</td>\n",
              "      <td>청주 청원</td>\n",
              "    </tr>\n",
              "    <tr>\n",
              "      <th>1544</th>\n",
              "      <td>스타벅스</td>\n",
              "      <td>충주연수점</td>\n",
              "      <td>충청북도</td>\n",
              "      <td>충주시</td>\n",
              "      <td>충청북도 충주시 계명대로 227</td>\n",
              "      <td>충주</td>\n",
              "    </tr>\n",
              "    <tr>\n",
              "      <th>1545</th>\n",
              "      <td>스타벅스</td>\n",
              "      <td>충주성서점</td>\n",
              "      <td>충청북도</td>\n",
              "      <td>충주시</td>\n",
              "      <td>충청북도 충주시 예성로 151</td>\n",
              "      <td>충주</td>\n",
              "    </tr>\n",
              "    <tr>\n",
              "      <th>1546</th>\n",
              "      <td>스타벅스</td>\n",
              "      <td>NaN</td>\n",
              "      <td>충청북도</td>\n",
              "      <td>음성군</td>\n",
              "      <td>충청북도 음성군 원남면 보천로 65</td>\n",
              "      <td>음성</td>\n",
              "    </tr>\n",
              "  </tbody>\n",
              "</table>\n",
              "</div>"
            ],
            "text/plain": [
              "       상호명      지점명   시도명     시군구명                     도로명주소     ID\n",
              "1542  스타벅스     충북대점  충청북도  청주시 서원구     충청북도 청주시 서원구 내수동로 113  청주 서원\n",
              "1543  스타벅스  청주율량DT점  충청북도  청주시 청원구  충청북도 청주시 청원구 충청대로107번길 8  청주 청원\n",
              "1544  스타벅스    충주연수점  충청북도      충주시         충청북도 충주시 계명대로 227     충주\n",
              "1545  스타벅스    충주성서점  충청북도      충주시          충청북도 충주시 예성로 151     충주\n",
              "1546  스타벅스      NaN  충청북도      음성군       충청북도 음성군 원남면 보천로 65     음성"
            ]
          },
          "metadata": {},
          "execution_count": 15
        }
      ]
    },
    {
      "cell_type": "code",
      "metadata": {
        "colab": {
          "base_uri": "https://localhost:8080/"
        },
        "id": "h0S4kGdL3c6B",
        "outputId": "8a20cbe1-b819-4441-d41b-3356e2fb7000"
      },
      "source": [
        "print(np.sort(starbucks.ID.unique()))\n",
        "sb_set = set(starbucks.ID.unique())\n",
        "print(len(sb_set))"
      ],
      "execution_count": 16,
      "outputs": [
        {
          "output_type": "stream",
          "name": "stdout",
          "text": [
            "['가평' '강릉' '거제' '경산' '경주' '계룡' '고령' '고성(강원)' '고양 덕양' '고양 일산동' '고양 일산서'\n",
            " '고창' '공주' '과천' '광명' '광양' '광주' '광주 광산' '광주 남구' '광주 동구' '광주 북구' '광주 서구'\n",
            " '구리' '구미' '군산' '군포' '김천' '김포' '김해' '나주' '남양주' '논산' '당진' '대구 남구' '대구 달서'\n",
            " '대구 달성' '대구 동구' '대구 북구' '대구 서구' '대구 수성' '대구 중구' '대전 대덕' '대전 동구' '대전 서구'\n",
            " '대전 유성' '대전 중구' '동두천' '동해' '목포' '무안' '문경' '밀양' '보령' '보은' '부산 강서' '부산 금정'\n",
            " '부산 기장' '부산 남구' '부산 동구' '부산 동래' '부산 부산진' '부산 북구' '부산 사상' '부산 사하' '부산 서구'\n",
            " '부산 수영' '부산 연제' '부산 영도' '부산 중구' '부산 해운대' '부안' '부천' '사천' '산청' '서귀포' '서산'\n",
            " '서울 강남' '서울 강동' '서울 강북' '서울 강서' '서울 관악' '서울 광진' '서울 구로' '서울 금천' '서울 노원'\n",
            " '서울 도봉' '서울 동대문' '서울 동작' '서울 마포' '서울 서대문' '서울 서초' '서울 성동' '서울 성북' '서울 송파'\n",
            " '서울 양천' '서울 영등포' '서울 용산' '서울 은평' '서울 종로' '서울 중구' '서울 중랑' '서천' '성남 분당'\n",
            " '성남 수정' '성남 중원' '세종' '속초' '수원 권선' '수원 영통' '수원 장안' '수원 팔달' '순천' '시흥' '아산'\n",
            " '안동' '안산 단원' '안산 상록' '안성' '안양 동안' '안양 만안' '양산' '양주' '양평' '여수' '여주' '영덕'\n",
            " '영양' '예산' '오산' '용인 기흥' '용인 수지' '용인 처인' '울산 남구' '울산 동구' '울산 북구' '울산 울주'\n",
            " '울산 중구' '원주' '음성' '의왕' '의정부' '이천' '익산' '인제' '인천 강화' '인천 계양' '인천 남동'\n",
            " '인천 동구' '인천 미추홀' '인천 부평' '인천 서구' '인천 연수' '인천 옹진' '인천 중구' '임실' '전주 덕진'\n",
            " '전주 완산' '제주' '제천' '증평' '진주' '창녕' '창원 성산' '창원 의창' '창원 진해' '창원 합포' '창원 회원'\n",
            " '천안 동남' '천안 서북' '청도' '청송' '청양' '청주 상당' '청주 서원' '청주 청원' '청주 흥덕' '춘천' '충주'\n",
            " '태백' '통영' '파주' '평창' '평택' '포천' '포항 남구' '포항 북구' '하남' '하동' '함양' '홍천' '화성'\n",
            " '횡성']\n",
            "192\n"
          ]
        }
      ]
    },
    {
      "cell_type": "code",
      "metadata": {
        "colab": {
          "base_uri": "https://localhost:8080/"
        },
        "id": "PDSTcFuqURSQ",
        "outputId": "f0581dad-3298-41ce-f085-1163390aadd5"
      },
      "source": [
        "coffeebean['ID'] = get_ID(coffeebean)\n",
        "print(np.sort(coffeebean.ID.unique()))\n",
        "cb_set = set(coffeebean.ID.unique())\n",
        "print(len(cb_set))"
      ],
      "execution_count": 19,
      "outputs": [
        {
          "output_type": "stream",
          "name": "stdout",
          "text": [
            "['경주' '고양 덕양' '고양 일산동' '고양 일산서' '광명' '광주 남구' '광주 동구' '광주 서구' '구미' '군포'\n",
            " '금산' '김포' '김해' '남양주' '대구 수성' '대구 중구' '대전 서구' '대전 유성' '동해' '부산 강서' '부산 기장'\n",
            " '부산 동구' '부산 부산진' '부산 북구' '부산 수영' '부산 중구' '부산 해운대' '부천' '상주' '서울 강남'\n",
            " '서울 강동' '서울 강북' '서울 강서' '서울 관악' '서울 광진' '서울 구로' '서울 금천' '서울 노원' '서울 동대문'\n",
            " '서울 동작' '서울 마포' '서울 서대문' '서울 서초' '서울 성동' '서울 성북' '서울 송파' '서울 양천' '서울 영등포'\n",
            " '서울 용산' '서울 은평' '서울 종로' '서울 중구' '서울 중랑' '성남 분당' '성남 수정' '성남 중원' '수원 권선'\n",
            " '수원 영통' '수원 장안' '수원 팔달' '안양 동안' '안양 만안' '여주' '연천' '영덕' '용인 기흥' '용인 수지'\n",
            " '울산 남구' '울산 중구' '울진' '원주' '이천' '인천 남동' '인천 부평' '인천 연수' '인천 중구' '전주 완산'\n",
            " '제주' '제천' '진주' '창원 성산' '창원 의창' '창원 진해' '창원 합포' '천안 동남' '청주 상당' '청주 흥덕'\n",
            " '통영' '파주' '평택' '포항 북구' '하남' '함안' '해남' '화성']\n",
            "95\n"
          ]
        }
      ]
    },
    {
      "cell_type": "code",
      "metadata": {
        "colab": {
          "base_uri": "https://localhost:8080/"
        },
        "id": "xyn6RWQt1lgO",
        "outputId": "5fd94fd2-f9ea-4a44-c7e3-8b6a00708022"
      },
      "source": [
        "ediya['ID'] = get_ID(ediya)\n",
        "print(np.sort(ediya.ID.unique()))\n",
        "ed_set = set(ediya.ID.unique())\n",
        "print(len(ed_set))"
      ],
      "execution_count": 20,
      "outputs": [
        {
          "output_type": "stream",
          "name": "stdout",
          "text": [
            "['가평' '강릉' '강진' '거제' '거창' '경산' '경주' '고령' '고성(경남)' '고양 덕양' '고양 일산동'\n",
            " '고양 일산서' '고창' '고흥' '곡성' '공주' '과천' '광명' '광양' '광주' '광주 광산' '광주 남구' '광주 동구'\n",
            " '광주 북구' '광주 서구' '괴산' '구례' '구리' '구미' '군산' '군포' '금산' '김제' '김천' '김포' '김해'\n",
            " '나주' '남양주' '남원' '남해' '논산' '단양' '담양' '당진' '대구 남구' '대구 달서' '대구 달성' '대구 동구'\n",
            " '대구 북구' '대구 서구' '대구 수성' '대구 중구' '대전 대덕' '대전 동구' '대전 서구' '대전 유성' '대전 중구'\n",
            " '동두천' '동해' '목포' '무안' '무주' '문경' '밀양' '보령' '보은' '부산 강서' '부산 금정' '부산 기장'\n",
            " '부산 남구' '부산 동구' '부산 동래' '부산 부산진' '부산 북구' '부산 사상' '부산 사하' '부산 서구' '부산 수영'\n",
            " '부산 연제' '부산 영도' '부산 중구' '부산 해운대' '부안' '부여' '부천' '사천' '산청' '삼척' '상주' '서귀포'\n",
            " '서산' '서울 강남' '서울 강동' '서울 강북' '서울 강서' '서울 관악' '서울 광진' '서울 구로' '서울 금천'\n",
            " '서울 노원' '서울 도봉' '서울 동대문' '서울 동작' '서울 마포' '서울 서대문' '서울 서초' '서울 성동' '서울 성북'\n",
            " '서울 송파' '서울 양천' '서울 영등포' '서울 용산' '서울 은평' '서울 종로' '서울 중구' '서울 중랑' '서천'\n",
            " '성남 분당' '성남 수정' '성남 중원' '성주' '세종' '속초' '수원 권선' '수원 영통' '수원 장안' '수원 팔달'\n",
            " '순창' '순천' '시흥' '아산' '안동' '안산 단원' '안산 상록' '안성' '안양 동안' '안양 만안' '양구' '양산'\n",
            " '양양' '양주' '양평' '여수' '여주' '연천' '영광' '영덕' '영동' '영암' '영월' '영주' '영천' '예산'\n",
            " '예천' '오산' '옥천' '완도' '완주' '용인 기흥' '용인 수지' '용인 처인' '울산 남구' '울산 동구' '울산 북구'\n",
            " '울산 울주' '울산 중구' '울진' '원주' '음성' '의왕' '의정부' '이천' '익산' '인제' '인천 강화' '인천 계양'\n",
            " '인천 남동' '인천 동구' '인천 미추홀' '인천 부평' '인천 서구' '인천 연수' '인천 옹진' '인천 중구' '임실'\n",
            " '장성' '장수' '장흥' '전주 덕진' '전주 완산' '정선' '정읍' '제주' '제천' '증평' '진안' '진주' '진천'\n",
            " '창녕' '창원 성산' '창원 의창' '창원 진해' '창원 합포' '창원 회원' '천안 동남' '천안 서북' '철원' '청도'\n",
            " '청송' '청주 상당' '청주 서원' '청주 청원' '청주 흥덕' '춘천' '충주' '칠곡' '태백' '태안' '통영' '파주'\n",
            " '평창' '평택' '포천' '포항 남구' '포항 북구' '하남' '함안' '함양' '합천' '해남' '홍성' '홍천' '화성'\n",
            " '화순' '화천' '횡성']\n",
            "236\n"
          ]
        }
      ]
    },
    {
      "cell_type": "code",
      "metadata": {
        "colab": {
          "base_uri": "https://localhost:8080/"
        },
        "id": "znPpwDIl3mrB",
        "outputId": "8a0e2bae-49fe-4fa4-fe79-440973af8649"
      },
      "source": [
        "paik['ID'] = get_ID(paik)\n",
        "print(np.sort(paik.ID.unique()))\n",
        "bd_set = set(paik.ID.unique())\n",
        "print(len(bd_set))"
      ],
      "execution_count": 21,
      "outputs": [
        {
          "output_type": "stream",
          "name": "stdout",
          "text": [
            "['강릉' '거창' '경산' '경주' '고성(경남)' '고양 덕양' '고양 일산동' '고양 일산서' '고창' '공주' '광명'\n",
            " '광양' '광주' '광주 광산' '광주 남구' '광주 동구' '광주 북구' '광주 서구' '구리' '구미' '군산' '군포'\n",
            " '김제' '김포' '김해' '남양주' '남원' '논산' '당진' '대구 달서' '대구 달성' '대구 동구' '대구 북구'\n",
            " '대구 서구' '대구 수성' '대구 중구' '대전 대덕' '대전 동구' '대전 서구' '대전 유성' '대전 중구' '동두천'\n",
            " '동해' '목포' '무안' '문경' '보령' '부산 금정' '부산 남구' '부산 동래' '부산 부산진' '부산 북구' '부산 사하'\n",
            " '부산 중구' '부산 해운대' '부안' '부천' '삼척' '서귀포' '서산' '서울 강남' '서울 강동' '서울 강북'\n",
            " '서울 강서' '서울 관악' '서울 광진' '서울 구로' '서울 금천' '서울 노원' '서울 도봉' '서울 동대문' '서울 동작'\n",
            " '서울 마포' '서울 서대문' '서울 서초' '서울 성동' '서울 성북' '서울 송파' '서울 영등포' '서울 용산' '서울 은평'\n",
            " '서울 종로' '서울 중구' '서울 중랑' '성남 분당' '성남 수정' '성남 중원' '세종' '수원 권선' '수원 영통'\n",
            " '수원 장안' '수원 팔달' '순천' '시흥' '아산' '안동' '안산 단원' '안산 상록' '안양 동안' '안양 만안' '양산'\n",
            " '양주' '양평' '여수' '영동' '영암' '영주' '예산' '예천' '오산' '옥천' '용인 기흥' '용인 수지' '용인 처인'\n",
            " '울산 남구' '울산 동구' '울산 북구' '울진' '원주' '의왕' '의정부' '이천' '익산' '인천 강화' '인천 계양'\n",
            " '인천 남동' '인천 동구' '인천 미추홀' '인천 부평' '인천 서구' '인천 연수' '인천 중구' '전주 덕진' '전주 완산'\n",
            " '정읍' '제주' '증평' '진안' '진주' '진천' '창원 성산' '창원 의창' '창원 합포' '천안 동남' '천안 서북'\n",
            " '청주 상당' '청주 서원' '청주 청원' '청주 흥덕' '춘천' '충주' '칠곡' '태안' '통영' '파주' '평택' '포천'\n",
            " '포항 남구' '포항 북구' '하남' '하동' '함양' '홍성' '홍천' '화성' '화순' '화천']\n",
            "167\n"
          ]
        }
      ]
    },
    {
      "cell_type": "markdown",
      "metadata": {
        "id": "BJX8x97U5frW"
      },
      "source": [
        "### 집합으로 표현해보기"
      ]
    },
    {
      "cell_type": "code",
      "metadata": {
        "colab": {
          "base_uri": "https://localhost:8080/"
        },
        "id": "uiu8Ambf5fHx",
        "outputId": "1c2f16e7-094a-4d92-f27c-aa8c159f0f05"
      },
      "source": [
        "# 합집합\n",
        "city_set = sb_set | ed_set | cb_set | bd_set\n",
        "len(city_set)"
      ],
      "execution_count": 22,
      "outputs": [
        {
          "output_type": "execute_result",
          "data": {
            "text/plain": [
              "241"
            ]
          },
          "metadata": {},
          "execution_count": 22
        }
      ]
    },
    {
      "cell_type": "code",
      "metadata": {
        "colab": {
          "base_uri": "https://localhost:8080/"
        },
        "id": "dCmg17wh5jQV",
        "outputId": "7d88770a-9981-4f9e-d822-810175c84540"
      },
      "source": [
        "# 차집합\n",
        "sb_set - ed_set"
      ],
      "execution_count": 24,
      "outputs": [
        {
          "output_type": "execute_result",
          "data": {
            "text/plain": [
              "{'계룡', '고성(강원)', '영양', '청양', '하동'}"
            ]
          },
          "metadata": {},
          "execution_count": 24
        }
      ]
    },
    {
      "cell_type": "markdown",
      "metadata": {
        "id": "3MqrPwUWUgV4"
      },
      "source": [
        "### 매장 수 계산"
      ]
    },
    {
      "cell_type": "code",
      "metadata": {
        "colab": {
          "base_uri": "https://localhost:8080/",
          "height": 204
        },
        "id": "wfcYM9LJUdsk",
        "outputId": "f50e82b4-2461-4cfb-a759-f2bd925b5f81"
      },
      "source": [
        "pt_sb = starbucks.pivot_table('상호명', index='ID', aggfunc='count')\n",
        "pt_sb.columns=['스타벅스']\n",
        "pt_sb.reset_index(inplace=True)\n",
        "pt_sb.head()"
      ],
      "execution_count": 30,
      "outputs": [
        {
          "output_type": "execute_result",
          "data": {
            "text/html": [
              "<div>\n",
              "<style scoped>\n",
              "    .dataframe tbody tr th:only-of-type {\n",
              "        vertical-align: middle;\n",
              "    }\n",
              "\n",
              "    .dataframe tbody tr th {\n",
              "        vertical-align: top;\n",
              "    }\n",
              "\n",
              "    .dataframe thead th {\n",
              "        text-align: right;\n",
              "    }\n",
              "</style>\n",
              "<table border=\"1\" class=\"dataframe\">\n",
              "  <thead>\n",
              "    <tr style=\"text-align: right;\">\n",
              "      <th></th>\n",
              "      <th>ID</th>\n",
              "      <th>스타벅스</th>\n",
              "    </tr>\n",
              "  </thead>\n",
              "  <tbody>\n",
              "    <tr>\n",
              "      <th>0</th>\n",
              "      <td>가평</td>\n",
              "      <td>2</td>\n",
              "    </tr>\n",
              "    <tr>\n",
              "      <th>1</th>\n",
              "      <td>강릉</td>\n",
              "      <td>5</td>\n",
              "    </tr>\n",
              "    <tr>\n",
              "      <th>2</th>\n",
              "      <td>거제</td>\n",
              "      <td>6</td>\n",
              "    </tr>\n",
              "    <tr>\n",
              "      <th>3</th>\n",
              "      <td>경산</td>\n",
              "      <td>8</td>\n",
              "    </tr>\n",
              "    <tr>\n",
              "      <th>4</th>\n",
              "      <td>경주</td>\n",
              "      <td>8</td>\n",
              "    </tr>\n",
              "  </tbody>\n",
              "</table>\n",
              "</div>"
            ],
            "text/plain": [
              "   ID  스타벅스\n",
              "0  가평     2\n",
              "1  강릉     5\n",
              "2  거제     6\n",
              "3  경산     8\n",
              "4  경주     8"
            ]
          },
          "metadata": {},
          "execution_count": 30
        }
      ]
    },
    {
      "cell_type": "code",
      "metadata": {
        "colab": {
          "base_uri": "https://localhost:8080/",
          "height": 204
        },
        "id": "7MEOSfDGUtXF",
        "outputId": "c7aa09ef-08d2-4128-83c5-1b903499bb8c"
      },
      "source": [
        "pt_cb = coffeebean.pivot_table('상호명', index='ID', aggfunc='count')\n",
        "pt_cb.columns=['커피빈']\n",
        "pt_cb.reset_index(inplace=True)\n",
        "pt_cb.head()"
      ],
      "execution_count": 29,
      "outputs": [
        {
          "output_type": "execute_result",
          "data": {
            "text/html": [
              "<div>\n",
              "<style scoped>\n",
              "    .dataframe tbody tr th:only-of-type {\n",
              "        vertical-align: middle;\n",
              "    }\n",
              "\n",
              "    .dataframe tbody tr th {\n",
              "        vertical-align: top;\n",
              "    }\n",
              "\n",
              "    .dataframe thead th {\n",
              "        text-align: right;\n",
              "    }\n",
              "</style>\n",
              "<table border=\"1\" class=\"dataframe\">\n",
              "  <thead>\n",
              "    <tr style=\"text-align: right;\">\n",
              "      <th></th>\n",
              "      <th>ID</th>\n",
              "      <th>커피빈</th>\n",
              "    </tr>\n",
              "  </thead>\n",
              "  <tbody>\n",
              "    <tr>\n",
              "      <th>0</th>\n",
              "      <td>경주</td>\n",
              "      <td>2</td>\n",
              "    </tr>\n",
              "    <tr>\n",
              "      <th>1</th>\n",
              "      <td>고양 덕양</td>\n",
              "      <td>1</td>\n",
              "    </tr>\n",
              "    <tr>\n",
              "      <th>2</th>\n",
              "      <td>고양 일산동</td>\n",
              "      <td>5</td>\n",
              "    </tr>\n",
              "    <tr>\n",
              "      <th>3</th>\n",
              "      <td>고양 일산서</td>\n",
              "      <td>5</td>\n",
              "    </tr>\n",
              "    <tr>\n",
              "      <th>4</th>\n",
              "      <td>광명</td>\n",
              "      <td>1</td>\n",
              "    </tr>\n",
              "  </tbody>\n",
              "</table>\n",
              "</div>"
            ],
            "text/plain": [
              "       ID  커피빈\n",
              "0      경주    2\n",
              "1   고양 덕양    1\n",
              "2  고양 일산동    5\n",
              "3  고양 일산서    5\n",
              "4      광명    1"
            ]
          },
          "metadata": {},
          "execution_count": 29
        }
      ]
    },
    {
      "cell_type": "code",
      "metadata": {
        "colab": {
          "base_uri": "https://localhost:8080/",
          "height": 204
        },
        "id": "Ra7tC-GfVABQ",
        "outputId": "f07b4383-72f8-4aca-ed3b-7ee9c96cc85e"
      },
      "source": [
        "pt_ed = ediya.pivot_table('상호명', index='ID', aggfunc='count')\n",
        "pt_ed.columns = ['이디야']\n",
        "pt_ed.reset_index(inplace=True)\n",
        "pt_ed.head()"
      ],
      "execution_count": 31,
      "outputs": [
        {
          "output_type": "execute_result",
          "data": {
            "text/html": [
              "<div>\n",
              "<style scoped>\n",
              "    .dataframe tbody tr th:only-of-type {\n",
              "        vertical-align: middle;\n",
              "    }\n",
              "\n",
              "    .dataframe tbody tr th {\n",
              "        vertical-align: top;\n",
              "    }\n",
              "\n",
              "    .dataframe thead th {\n",
              "        text-align: right;\n",
              "    }\n",
              "</style>\n",
              "<table border=\"1\" class=\"dataframe\">\n",
              "  <thead>\n",
              "    <tr style=\"text-align: right;\">\n",
              "      <th></th>\n",
              "      <th>ID</th>\n",
              "      <th>이디야</th>\n",
              "    </tr>\n",
              "  </thead>\n",
              "  <tbody>\n",
              "    <tr>\n",
              "      <th>0</th>\n",
              "      <td>가평</td>\n",
              "      <td>9</td>\n",
              "    </tr>\n",
              "    <tr>\n",
              "      <th>1</th>\n",
              "      <td>강릉</td>\n",
              "      <td>15</td>\n",
              "    </tr>\n",
              "    <tr>\n",
              "      <th>2</th>\n",
              "      <td>강진</td>\n",
              "      <td>1</td>\n",
              "    </tr>\n",
              "    <tr>\n",
              "      <th>3</th>\n",
              "      <td>거제</td>\n",
              "      <td>9</td>\n",
              "    </tr>\n",
              "    <tr>\n",
              "      <th>4</th>\n",
              "      <td>거창</td>\n",
              "      <td>1</td>\n",
              "    </tr>\n",
              "  </tbody>\n",
              "</table>\n",
              "</div>"
            ],
            "text/plain": [
              "   ID  이디야\n",
              "0  가평    9\n",
              "1  강릉   15\n",
              "2  강진    1\n",
              "3  거제    9\n",
              "4  거창    1"
            ]
          },
          "metadata": {},
          "execution_count": 31
        }
      ]
    },
    {
      "cell_type": "code",
      "metadata": {
        "colab": {
          "base_uri": "https://localhost:8080/",
          "height": 204
        },
        "id": "K_dtnk6iVEvt",
        "outputId": "a62cab33-7e0b-4681-f1eb-c0e0d82d96fa"
      },
      "source": [
        "pt_bd = paik.pivot_table('상호명', index='ID', aggfunc='count')\n",
        "pt_bd.columns = ['빽다방']\n",
        "pt_bd.reset_index(inplace=True)\n",
        "pt_bd.head()"
      ],
      "execution_count": 32,
      "outputs": [
        {
          "output_type": "execute_result",
          "data": {
            "text/html": [
              "<div>\n",
              "<style scoped>\n",
              "    .dataframe tbody tr th:only-of-type {\n",
              "        vertical-align: middle;\n",
              "    }\n",
              "\n",
              "    .dataframe tbody tr th {\n",
              "        vertical-align: top;\n",
              "    }\n",
              "\n",
              "    .dataframe thead th {\n",
              "        text-align: right;\n",
              "    }\n",
              "</style>\n",
              "<table border=\"1\" class=\"dataframe\">\n",
              "  <thead>\n",
              "    <tr style=\"text-align: right;\">\n",
              "      <th></th>\n",
              "      <th>ID</th>\n",
              "      <th>빽다방</th>\n",
              "    </tr>\n",
              "  </thead>\n",
              "  <tbody>\n",
              "    <tr>\n",
              "      <th>0</th>\n",
              "      <td>강릉</td>\n",
              "      <td>2</td>\n",
              "    </tr>\n",
              "    <tr>\n",
              "      <th>1</th>\n",
              "      <td>거창</td>\n",
              "      <td>1</td>\n",
              "    </tr>\n",
              "    <tr>\n",
              "      <th>2</th>\n",
              "      <td>경산</td>\n",
              "      <td>4</td>\n",
              "    </tr>\n",
              "    <tr>\n",
              "      <th>3</th>\n",
              "      <td>경주</td>\n",
              "      <td>1</td>\n",
              "    </tr>\n",
              "    <tr>\n",
              "      <th>4</th>\n",
              "      <td>고성(경남)</td>\n",
              "      <td>2</td>\n",
              "    </tr>\n",
              "  </tbody>\n",
              "</table>\n",
              "</div>"
            ],
            "text/plain": [
              "       ID  빽다방\n",
              "0      강릉    2\n",
              "1      거창    1\n",
              "2      경산    4\n",
              "3      경주    1\n",
              "4  고성(경남)    2"
            ]
          },
          "metadata": {},
          "execution_count": 32
        }
      ]
    },
    {
      "cell_type": "markdown",
      "metadata": {
        "id": "tqfZueSbVULa"
      },
      "source": [
        "### 4개 커피샵 통합 "
      ]
    },
    {
      "cell_type": "code",
      "metadata": {
        "colab": {
          "base_uri": "https://localhost:8080/",
          "height": 204
        },
        "id": "8GcRC4zOWB5J",
        "outputId": "c0d44f88-41eb-49aa-d8bf-3748f27ddaa0"
      },
      "source": [
        "total= pd.merge(pt_ed, pt_sb, how='left')\n",
        "total = pd.merge(total, pt_cb, how='left')\n",
        "total = pd.merge(total, pt_bd, how='left')\n",
        "total.head()"
      ],
      "execution_count": 35,
      "outputs": [
        {
          "output_type": "execute_result",
          "data": {
            "text/html": [
              "<div>\n",
              "<style scoped>\n",
              "    .dataframe tbody tr th:only-of-type {\n",
              "        vertical-align: middle;\n",
              "    }\n",
              "\n",
              "    .dataframe tbody tr th {\n",
              "        vertical-align: top;\n",
              "    }\n",
              "\n",
              "    .dataframe thead th {\n",
              "        text-align: right;\n",
              "    }\n",
              "</style>\n",
              "<table border=\"1\" class=\"dataframe\">\n",
              "  <thead>\n",
              "    <tr style=\"text-align: right;\">\n",
              "      <th></th>\n",
              "      <th>ID</th>\n",
              "      <th>이디야</th>\n",
              "      <th>스타벅스</th>\n",
              "      <th>커피빈</th>\n",
              "      <th>빽다방</th>\n",
              "    </tr>\n",
              "  </thead>\n",
              "  <tbody>\n",
              "    <tr>\n",
              "      <th>0</th>\n",
              "      <td>가평</td>\n",
              "      <td>9</td>\n",
              "      <td>2.0</td>\n",
              "      <td>NaN</td>\n",
              "      <td>NaN</td>\n",
              "    </tr>\n",
              "    <tr>\n",
              "      <th>1</th>\n",
              "      <td>강릉</td>\n",
              "      <td>15</td>\n",
              "      <td>5.0</td>\n",
              "      <td>NaN</td>\n",
              "      <td>2.0</td>\n",
              "    </tr>\n",
              "    <tr>\n",
              "      <th>2</th>\n",
              "      <td>강진</td>\n",
              "      <td>1</td>\n",
              "      <td>NaN</td>\n",
              "      <td>NaN</td>\n",
              "      <td>NaN</td>\n",
              "    </tr>\n",
              "    <tr>\n",
              "      <th>3</th>\n",
              "      <td>거제</td>\n",
              "      <td>9</td>\n",
              "      <td>6.0</td>\n",
              "      <td>NaN</td>\n",
              "      <td>NaN</td>\n",
              "    </tr>\n",
              "    <tr>\n",
              "      <th>4</th>\n",
              "      <td>거창</td>\n",
              "      <td>1</td>\n",
              "      <td>NaN</td>\n",
              "      <td>NaN</td>\n",
              "      <td>1.0</td>\n",
              "    </tr>\n",
              "  </tbody>\n",
              "</table>\n",
              "</div>"
            ],
            "text/plain": [
              "   ID  이디야  스타벅스  커피빈  빽다방\n",
              "0  가평    9   2.0  NaN  NaN\n",
              "1  강릉   15   5.0  NaN  2.0\n",
              "2  강진    1   NaN  NaN  NaN\n",
              "3  거제    9   6.0  NaN  NaN\n",
              "4  거창    1   NaN  NaN  1.0"
            ]
          },
          "metadata": {},
          "execution_count": 35
        }
      ]
    },
    {
      "cell_type": "code",
      "metadata": {
        "colab": {
          "base_uri": "https://localhost:8080/",
          "height": 204
        },
        "id": "Z5RoPP0EcYjx",
        "outputId": "d3ffcc3d-cde6-4a7c-d784-683238e8f666"
      },
      "source": [
        "# total.fillna(0,inplace=True)\n",
        "total = total.replace(np.nan, 0)\n",
        "total.head()"
      ],
      "execution_count": 37,
      "outputs": [
        {
          "output_type": "execute_result",
          "data": {
            "text/html": [
              "<div>\n",
              "<style scoped>\n",
              "    .dataframe tbody tr th:only-of-type {\n",
              "        vertical-align: middle;\n",
              "    }\n",
              "\n",
              "    .dataframe tbody tr th {\n",
              "        vertical-align: top;\n",
              "    }\n",
              "\n",
              "    .dataframe thead th {\n",
              "        text-align: right;\n",
              "    }\n",
              "</style>\n",
              "<table border=\"1\" class=\"dataframe\">\n",
              "  <thead>\n",
              "    <tr style=\"text-align: right;\">\n",
              "      <th></th>\n",
              "      <th>ID</th>\n",
              "      <th>이디야</th>\n",
              "      <th>스타벅스</th>\n",
              "      <th>커피빈</th>\n",
              "      <th>빽다방</th>\n",
              "    </tr>\n",
              "  </thead>\n",
              "  <tbody>\n",
              "    <tr>\n",
              "      <th>0</th>\n",
              "      <td>가평</td>\n",
              "      <td>9</td>\n",
              "      <td>2.0</td>\n",
              "      <td>0.0</td>\n",
              "      <td>0.0</td>\n",
              "    </tr>\n",
              "    <tr>\n",
              "      <th>1</th>\n",
              "      <td>강릉</td>\n",
              "      <td>15</td>\n",
              "      <td>5.0</td>\n",
              "      <td>0.0</td>\n",
              "      <td>2.0</td>\n",
              "    </tr>\n",
              "    <tr>\n",
              "      <th>2</th>\n",
              "      <td>강진</td>\n",
              "      <td>1</td>\n",
              "      <td>0.0</td>\n",
              "      <td>0.0</td>\n",
              "      <td>0.0</td>\n",
              "    </tr>\n",
              "    <tr>\n",
              "      <th>3</th>\n",
              "      <td>거제</td>\n",
              "      <td>9</td>\n",
              "      <td>6.0</td>\n",
              "      <td>0.0</td>\n",
              "      <td>0.0</td>\n",
              "    </tr>\n",
              "    <tr>\n",
              "      <th>4</th>\n",
              "      <td>거창</td>\n",
              "      <td>1</td>\n",
              "      <td>0.0</td>\n",
              "      <td>0.0</td>\n",
              "      <td>1.0</td>\n",
              "    </tr>\n",
              "  </tbody>\n",
              "</table>\n",
              "</div>"
            ],
            "text/plain": [
              "   ID  이디야  스타벅스  커피빈  빽다방\n",
              "0  가평    9   2.0  0.0  0.0\n",
              "1  강릉   15   5.0  0.0  2.0\n",
              "2  강진    1   0.0  0.0  0.0\n",
              "3  거제    9   6.0  0.0  0.0\n",
              "4  거창    1   0.0  0.0  1.0"
            ]
          },
          "metadata": {},
          "execution_count": 37
        }
      ]
    },
    {
      "cell_type": "code",
      "metadata": {
        "colab": {
          "base_uri": "https://localhost:8080/",
          "height": 204
        },
        "id": "cdYLKo8-knH9",
        "outputId": "c3b24ff8-8544-4c24-a958-cd739271fe6a"
      },
      "source": [
        "# 정수형으로 변환 \n",
        "\n",
        "total['스타벅스'] = total.스타벅스.astype(int)\n",
        "total['커피빈'] = total.커피빈.astype(int)\n",
        "total['빽다방'] = total.빽다방.astype(int)\n",
        "total.head()"
      ],
      "execution_count": 38,
      "outputs": [
        {
          "output_type": "execute_result",
          "data": {
            "text/html": [
              "<div>\n",
              "<style scoped>\n",
              "    .dataframe tbody tr th:only-of-type {\n",
              "        vertical-align: middle;\n",
              "    }\n",
              "\n",
              "    .dataframe tbody tr th {\n",
              "        vertical-align: top;\n",
              "    }\n",
              "\n",
              "    .dataframe thead th {\n",
              "        text-align: right;\n",
              "    }\n",
              "</style>\n",
              "<table border=\"1\" class=\"dataframe\">\n",
              "  <thead>\n",
              "    <tr style=\"text-align: right;\">\n",
              "      <th></th>\n",
              "      <th>ID</th>\n",
              "      <th>이디야</th>\n",
              "      <th>스타벅스</th>\n",
              "      <th>커피빈</th>\n",
              "      <th>빽다방</th>\n",
              "    </tr>\n",
              "  </thead>\n",
              "  <tbody>\n",
              "    <tr>\n",
              "      <th>0</th>\n",
              "      <td>가평</td>\n",
              "      <td>9</td>\n",
              "      <td>2</td>\n",
              "      <td>0</td>\n",
              "      <td>0</td>\n",
              "    </tr>\n",
              "    <tr>\n",
              "      <th>1</th>\n",
              "      <td>강릉</td>\n",
              "      <td>15</td>\n",
              "      <td>5</td>\n",
              "      <td>0</td>\n",
              "      <td>2</td>\n",
              "    </tr>\n",
              "    <tr>\n",
              "      <th>2</th>\n",
              "      <td>강진</td>\n",
              "      <td>1</td>\n",
              "      <td>0</td>\n",
              "      <td>0</td>\n",
              "      <td>0</td>\n",
              "    </tr>\n",
              "    <tr>\n",
              "      <th>3</th>\n",
              "      <td>거제</td>\n",
              "      <td>9</td>\n",
              "      <td>6</td>\n",
              "      <td>0</td>\n",
              "      <td>0</td>\n",
              "    </tr>\n",
              "    <tr>\n",
              "      <th>4</th>\n",
              "      <td>거창</td>\n",
              "      <td>1</td>\n",
              "      <td>0</td>\n",
              "      <td>0</td>\n",
              "      <td>1</td>\n",
              "    </tr>\n",
              "  </tbody>\n",
              "</table>\n",
              "</div>"
            ],
            "text/plain": [
              "   ID  이디야  스타벅스  커피빈  빽다방\n",
              "0  가평    9     2    0    0\n",
              "1  강릉   15     5    0    2\n",
              "2  강진    1     0    0    0\n",
              "3  거제    9     6    0    0\n",
              "4  거창    1     0    0    1"
            ]
          },
          "metadata": {},
          "execution_count": 38
        }
      ]
    },
    {
      "cell_type": "code",
      "metadata": {
        "colab": {
          "base_uri": "https://localhost:8080/",
          "height": 419
        },
        "id": "NMGjrA-VYiZx",
        "outputId": "2c8e32d9-0348-453a-f467-507ac68747bd"
      },
      "source": [
        "# 커피지수 구하기\n",
        "total['커피지수'] = (total.스타벅스 + total.커피빈) / (total.이디야+ total.빽다방) \n",
        "total"
      ],
      "execution_count": 40,
      "outputs": [
        {
          "output_type": "execute_result",
          "data": {
            "text/html": [
              "<div>\n",
              "<style scoped>\n",
              "    .dataframe tbody tr th:only-of-type {\n",
              "        vertical-align: middle;\n",
              "    }\n",
              "\n",
              "    .dataframe tbody tr th {\n",
              "        vertical-align: top;\n",
              "    }\n",
              "\n",
              "    .dataframe thead th {\n",
              "        text-align: right;\n",
              "    }\n",
              "</style>\n",
              "<table border=\"1\" class=\"dataframe\">\n",
              "  <thead>\n",
              "    <tr style=\"text-align: right;\">\n",
              "      <th></th>\n",
              "      <th>ID</th>\n",
              "      <th>이디야</th>\n",
              "      <th>스타벅스</th>\n",
              "      <th>커피빈</th>\n",
              "      <th>빽다방</th>\n",
              "      <th>커피지수</th>\n",
              "    </tr>\n",
              "  </thead>\n",
              "  <tbody>\n",
              "    <tr>\n",
              "      <th>0</th>\n",
              "      <td>가평</td>\n",
              "      <td>9</td>\n",
              "      <td>2</td>\n",
              "      <td>0</td>\n",
              "      <td>0</td>\n",
              "      <td>0.222222</td>\n",
              "    </tr>\n",
              "    <tr>\n",
              "      <th>1</th>\n",
              "      <td>강릉</td>\n",
              "      <td>15</td>\n",
              "      <td>5</td>\n",
              "      <td>0</td>\n",
              "      <td>2</td>\n",
              "      <td>0.294118</td>\n",
              "    </tr>\n",
              "    <tr>\n",
              "      <th>2</th>\n",
              "      <td>강진</td>\n",
              "      <td>1</td>\n",
              "      <td>0</td>\n",
              "      <td>0</td>\n",
              "      <td>0</td>\n",
              "      <td>0.000000</td>\n",
              "    </tr>\n",
              "    <tr>\n",
              "      <th>3</th>\n",
              "      <td>거제</td>\n",
              "      <td>9</td>\n",
              "      <td>6</td>\n",
              "      <td>0</td>\n",
              "      <td>0</td>\n",
              "      <td>0.666667</td>\n",
              "    </tr>\n",
              "    <tr>\n",
              "      <th>4</th>\n",
              "      <td>거창</td>\n",
              "      <td>1</td>\n",
              "      <td>0</td>\n",
              "      <td>0</td>\n",
              "      <td>1</td>\n",
              "      <td>0.000000</td>\n",
              "    </tr>\n",
              "    <tr>\n",
              "      <th>...</th>\n",
              "      <td>...</td>\n",
              "      <td>...</td>\n",
              "      <td>...</td>\n",
              "      <td>...</td>\n",
              "      <td>...</td>\n",
              "      <td>...</td>\n",
              "    </tr>\n",
              "    <tr>\n",
              "      <th>231</th>\n",
              "      <td>홍천</td>\n",
              "      <td>3</td>\n",
              "      <td>2</td>\n",
              "      <td>0</td>\n",
              "      <td>1</td>\n",
              "      <td>0.500000</td>\n",
              "    </tr>\n",
              "    <tr>\n",
              "      <th>232</th>\n",
              "      <td>화성</td>\n",
              "      <td>28</td>\n",
              "      <td>16</td>\n",
              "      <td>5</td>\n",
              "      <td>10</td>\n",
              "      <td>0.552632</td>\n",
              "    </tr>\n",
              "    <tr>\n",
              "      <th>233</th>\n",
              "      <td>화순</td>\n",
              "      <td>1</td>\n",
              "      <td>0</td>\n",
              "      <td>0</td>\n",
              "      <td>1</td>\n",
              "      <td>0.000000</td>\n",
              "    </tr>\n",
              "    <tr>\n",
              "      <th>234</th>\n",
              "      <td>화천</td>\n",
              "      <td>1</td>\n",
              "      <td>0</td>\n",
              "      <td>0</td>\n",
              "      <td>1</td>\n",
              "      <td>0.000000</td>\n",
              "    </tr>\n",
              "    <tr>\n",
              "      <th>235</th>\n",
              "      <td>횡성</td>\n",
              "      <td>1</td>\n",
              "      <td>1</td>\n",
              "      <td>0</td>\n",
              "      <td>0</td>\n",
              "      <td>1.000000</td>\n",
              "    </tr>\n",
              "  </tbody>\n",
              "</table>\n",
              "<p>236 rows × 6 columns</p>\n",
              "</div>"
            ],
            "text/plain": [
              "     ID  이디야  스타벅스  커피빈  빽다방      커피지수\n",
              "0    가평    9     2    0    0  0.222222\n",
              "1    강릉   15     5    0    2  0.294118\n",
              "2    강진    1     0    0    0  0.000000\n",
              "3    거제    9     6    0    0  0.666667\n",
              "4    거창    1     0    0    1  0.000000\n",
              "..   ..  ...   ...  ...  ...       ...\n",
              "231  홍천    3     2    0    1  0.500000\n",
              "232  화성   28    16    5   10  0.552632\n",
              "233  화순    1     0    0    1  0.000000\n",
              "234  화천    1     0    0    1  0.000000\n",
              "235  횡성    1     1    0    0  1.000000\n",
              "\n",
              "[236 rows x 6 columns]"
            ]
          },
          "metadata": {},
          "execution_count": 40
        }
      ]
    },
    {
      "cell_type": "code",
      "metadata": {
        "id": "1mGrQ0dX7Z2f"
      },
      "source": [
        "total.to_csv(f'{result_folder}/커피지수.csv', index=False)"
      ],
      "execution_count": 43,
      "outputs": []
    },
    {
      "cell_type": "code",
      "metadata": {
        "id": "LbwE209g7llc"
      },
      "source": [
        ""
      ],
      "execution_count": null,
      "outputs": []
    }
  ]
}