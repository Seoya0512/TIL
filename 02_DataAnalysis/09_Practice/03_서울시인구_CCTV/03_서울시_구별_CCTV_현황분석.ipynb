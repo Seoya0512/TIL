{
  "nbformat": 4,
  "nbformat_minor": 0,
  "metadata": {
    "colab": {
      "name": "서울시_구별_CCTV_현황분석.ipynb",
      "provenance": []
    },
    "kernelspec": {
      "name": "python3",
      "display_name": "Python 3"
    },
    "language_info": {
      "name": "python"
    }
  },
  "cells": [
    {
      "cell_type": "markdown",
      "metadata": {
        "id": "cTnVYYrqbtQt"
      },
      "source": [
        "# 서울시 구별 CCTV 현황 분석 \n",
        "- 서울시 열린데이터에서 수집 \n",
        "  - 서울시 자치구 연도별 CCTV 설치 현황 \n",
        "  - 서울시 인구통계 "
      ]
    },
    {
      "cell_type": "code",
      "metadata": {
        "id": "PGDg-hlpbsbW"
      },
      "source": [
        "# 한글 패키지 설치 \n",
        "!apt-get install -y fonts-nanum > /dev/null\n",
        "!fc-cache -fv > /dev/null\n",
        "!rm -rf ~/.cache/matplotlib > /dev/null"
      ],
      "execution_count": 1,
      "outputs": []
    },
    {
      "cell_type": "code",
      "metadata": {
        "id": "_1tr5MbycDVZ"
      },
      "source": [
        "import numpy as np\n",
        "import matplotlib.pyplot as plt\n",
        "import pandas as pd"
      ],
      "execution_count": 1,
      "outputs": []
    },
    {
      "cell_type": "markdown",
      "metadata": {
        "id": "qi_Ka3GODRqj"
      },
      "source": [
        "* 서울시 CCTV 데이터 확인\n",
        "  - 데이터 전처리"
      ]
    },
    {
      "cell_type": "code",
      "metadata": {
        "colab": {
          "base_uri": "https://localhost:8080/",
          "height": 204
        },
        "id": "rbs-27Gscbmw",
        "outputId": "eb9adb9f-8ca1-4df9-bf2c-4fe351ab7f05"
      },
      "source": [
        "seoul_cctv = pd.read_csv('seoul_cctv.csv', encoding='utf-8', thousands=',')\n",
        "seoul_cctv.head()"
      ],
      "execution_count": 3,
      "outputs": [
        {
          "output_type": "execute_result",
          "data": {
            "text/html": [
              "<div>\n",
              "<style scoped>\n",
              "    .dataframe tbody tr th:only-of-type {\n",
              "        vertical-align: middle;\n",
              "    }\n",
              "\n",
              "    .dataframe tbody tr th {\n",
              "        vertical-align: top;\n",
              "    }\n",
              "\n",
              "    .dataframe thead th {\n",
              "        text-align: right;\n",
              "    }\n",
              "</style>\n",
              "<table border=\"1\" class=\"dataframe\">\n",
              "  <thead>\n",
              "    <tr style=\"text-align: right;\">\n",
              "      <th></th>\n",
              "      <th>구분</th>\n",
              "      <th>총계</th>\n",
              "      <th>2011년 이전</th>\n",
              "      <th>2011년</th>\n",
              "      <th>2012년</th>\n",
              "      <th>2013년</th>\n",
              "      <th>2014년</th>\n",
              "      <th>2015년</th>\n",
              "      <th>2016년</th>\n",
              "      <th>2017년</th>\n",
              "      <th>2018년</th>\n",
              "      <th>2019년</th>\n",
              "      <th>2020년</th>\n",
              "    </tr>\n",
              "  </thead>\n",
              "  <tbody>\n",
              "    <tr>\n",
              "      <th>0</th>\n",
              "      <td>계</td>\n",
              "      <td>75431</td>\n",
              "      <td>5901</td>\n",
              "      <td>1619</td>\n",
              "      <td>2228</td>\n",
              "      <td>0</td>\n",
              "      <td>4368</td>\n",
              "      <td>6742</td>\n",
              "      <td>8300</td>\n",
              "      <td>10100</td>\n",
              "      <td>9687</td>\n",
              "      <td>11657</td>\n",
              "      <td>10232</td>\n",
              "    </tr>\n",
              "    <tr>\n",
              "      <th>1</th>\n",
              "      <td>종로구</td>\n",
              "      <td>1729</td>\n",
              "      <td>216</td>\n",
              "      <td>7</td>\n",
              "      <td>10</td>\n",
              "      <td>582</td>\n",
              "      <td>210</td>\n",
              "      <td>150</td>\n",
              "      <td>1</td>\n",
              "      <td>259</td>\n",
              "      <td>85</td>\n",
              "      <td>9</td>\n",
              "      <td>200</td>\n",
              "    </tr>\n",
              "    <tr>\n",
              "      <th>2</th>\n",
              "      <td>중 구</td>\n",
              "      <td>2001</td>\n",
              "      <td>16</td>\n",
              "      <td>6</td>\n",
              "      <td>199</td>\n",
              "      <td>90</td>\n",
              "      <td>125</td>\n",
              "      <td>218</td>\n",
              "      <td>333</td>\n",
              "      <td>462</td>\n",
              "      <td>228</td>\n",
              "      <td>194</td>\n",
              "      <td>130</td>\n",
              "    </tr>\n",
              "    <tr>\n",
              "      <th>3</th>\n",
              "      <td>용산구</td>\n",
              "      <td>2383</td>\n",
              "      <td>31</td>\n",
              "      <td>3</td>\n",
              "      <td>71</td>\n",
              "      <td>234</td>\n",
              "      <td>125</td>\n",
              "      <td>221</td>\n",
              "      <td>298</td>\n",
              "      <td>351</td>\n",
              "      <td>125</td>\n",
              "      <td>307</td>\n",
              "      <td>617</td>\n",
              "    </tr>\n",
              "    <tr>\n",
              "      <th>4</th>\n",
              "      <td>성동구</td>\n",
              "      <td>3515</td>\n",
              "      <td>487</td>\n",
              "      <td>26</td>\n",
              "      <td>122</td>\n",
              "      <td>207</td>\n",
              "      <td>112</td>\n",
              "      <td>335</td>\n",
              "      <td>309</td>\n",
              "      <td>790</td>\n",
              "      <td>409</td>\n",
              "      <td>262</td>\n",
              "      <td>456</td>\n",
              "    </tr>\n",
              "  </tbody>\n",
              "</table>\n",
              "</div>"
            ],
            "text/plain": [
              "    구분     총계  2011년 이전  2011년  2012년  ...  2016년  2017년  2018년  2019년  2020년\n",
              "0    계  75431      5901   1619   2228  ...   8300  10100   9687  11657  10232\n",
              "1  종로구   1729       216      7     10  ...      1    259     85      9    200\n",
              "2  중 구   2001        16      6    199  ...    333    462    228    194    130\n",
              "3  용산구   2383        31      3     71  ...    298    351    125    307    617\n",
              "4  성동구   3515       487     26    122  ...    309    790    409    262    456\n",
              "\n",
              "[5 rows x 13 columns]"
            ]
          },
          "metadata": {},
          "execution_count": 3
        }
      ]
    },
    {
      "cell_type": "code",
      "metadata": {
        "colab": {
          "base_uri": "https://localhost:8080/",
          "height": 204
        },
        "id": "WKIemY0adEvU",
        "outputId": "56013faa-5d86-4771-ba0b-767521eb324e"
      },
      "source": [
        "seoul_cctv.rename(columns={seoul_cctv.columns[0]: '구별', seoul_cctv.columns[1]:'소계', }, inplace = True)\n",
        "seoul_cctv.head()"
      ],
      "execution_count": 5,
      "outputs": [
        {
          "output_type": "execute_result",
          "data": {
            "text/html": [
              "<div>\n",
              "<style scoped>\n",
              "    .dataframe tbody tr th:only-of-type {\n",
              "        vertical-align: middle;\n",
              "    }\n",
              "\n",
              "    .dataframe tbody tr th {\n",
              "        vertical-align: top;\n",
              "    }\n",
              "\n",
              "    .dataframe thead th {\n",
              "        text-align: right;\n",
              "    }\n",
              "</style>\n",
              "<table border=\"1\" class=\"dataframe\">\n",
              "  <thead>\n",
              "    <tr style=\"text-align: right;\">\n",
              "      <th></th>\n",
              "      <th>구별</th>\n",
              "      <th>소계</th>\n",
              "      <th>2011년 이전</th>\n",
              "      <th>2011년</th>\n",
              "      <th>2012년</th>\n",
              "      <th>2013년</th>\n",
              "      <th>2014년</th>\n",
              "      <th>2015년</th>\n",
              "      <th>2016년</th>\n",
              "      <th>2017년</th>\n",
              "      <th>2018년</th>\n",
              "      <th>2019년</th>\n",
              "      <th>2020년</th>\n",
              "    </tr>\n",
              "  </thead>\n",
              "  <tbody>\n",
              "    <tr>\n",
              "      <th>0</th>\n",
              "      <td>계</td>\n",
              "      <td>75431</td>\n",
              "      <td>5901</td>\n",
              "      <td>1619</td>\n",
              "      <td>2228</td>\n",
              "      <td>0</td>\n",
              "      <td>4368</td>\n",
              "      <td>6742</td>\n",
              "      <td>8300</td>\n",
              "      <td>10100</td>\n",
              "      <td>9687</td>\n",
              "      <td>11657</td>\n",
              "      <td>10232</td>\n",
              "    </tr>\n",
              "    <tr>\n",
              "      <th>1</th>\n",
              "      <td>종로구</td>\n",
              "      <td>1729</td>\n",
              "      <td>216</td>\n",
              "      <td>7</td>\n",
              "      <td>10</td>\n",
              "      <td>582</td>\n",
              "      <td>210</td>\n",
              "      <td>150</td>\n",
              "      <td>1</td>\n",
              "      <td>259</td>\n",
              "      <td>85</td>\n",
              "      <td>9</td>\n",
              "      <td>200</td>\n",
              "    </tr>\n",
              "    <tr>\n",
              "      <th>2</th>\n",
              "      <td>중 구</td>\n",
              "      <td>2001</td>\n",
              "      <td>16</td>\n",
              "      <td>6</td>\n",
              "      <td>199</td>\n",
              "      <td>90</td>\n",
              "      <td>125</td>\n",
              "      <td>218</td>\n",
              "      <td>333</td>\n",
              "      <td>462</td>\n",
              "      <td>228</td>\n",
              "      <td>194</td>\n",
              "      <td>130</td>\n",
              "    </tr>\n",
              "    <tr>\n",
              "      <th>3</th>\n",
              "      <td>용산구</td>\n",
              "      <td>2383</td>\n",
              "      <td>31</td>\n",
              "      <td>3</td>\n",
              "      <td>71</td>\n",
              "      <td>234</td>\n",
              "      <td>125</td>\n",
              "      <td>221</td>\n",
              "      <td>298</td>\n",
              "      <td>351</td>\n",
              "      <td>125</td>\n",
              "      <td>307</td>\n",
              "      <td>617</td>\n",
              "    </tr>\n",
              "    <tr>\n",
              "      <th>4</th>\n",
              "      <td>성동구</td>\n",
              "      <td>3515</td>\n",
              "      <td>487</td>\n",
              "      <td>26</td>\n",
              "      <td>122</td>\n",
              "      <td>207</td>\n",
              "      <td>112</td>\n",
              "      <td>335</td>\n",
              "      <td>309</td>\n",
              "      <td>790</td>\n",
              "      <td>409</td>\n",
              "      <td>262</td>\n",
              "      <td>456</td>\n",
              "    </tr>\n",
              "  </tbody>\n",
              "</table>\n",
              "</div>"
            ],
            "text/plain": [
              "    구별     소계  2011년 이전  2011년  2012년  ...  2016년  2017년  2018년  2019년  2020년\n",
              "0    계  75431      5901   1619   2228  ...   8300  10100   9687  11657  10232\n",
              "1  종로구   1729       216      7     10  ...      1    259     85      9    200\n",
              "2  중 구   2001        16      6    199  ...    333    462    228    194    130\n",
              "3  용산구   2383        31      3     71  ...    298    351    125    307    617\n",
              "4  성동구   3515       487     26    122  ...    309    790    409    262    456\n",
              "\n",
              "[5 rows x 13 columns]"
            ]
          },
          "metadata": {},
          "execution_count": 5
        }
      ]
    },
    {
      "cell_type": "code",
      "metadata": {
        "colab": {
          "base_uri": "https://localhost:8080/",
          "height": 204
        },
        "id": "PISh6p17dVKC",
        "outputId": "f3936b73-3752-45cd-87a8-38803ddd71a2"
      },
      "source": [
        "# 상위 5개구를 확인 \n",
        "seoul_cctv.sort_values(by='소계', ascending=False).head()"
      ],
      "execution_count": 6,
      "outputs": [
        {
          "output_type": "execute_result",
          "data": {
            "text/html": [
              "<div>\n",
              "<style scoped>\n",
              "    .dataframe tbody tr th:only-of-type {\n",
              "        vertical-align: middle;\n",
              "    }\n",
              "\n",
              "    .dataframe tbody tr th {\n",
              "        vertical-align: top;\n",
              "    }\n",
              "\n",
              "    .dataframe thead th {\n",
              "        text-align: right;\n",
              "    }\n",
              "</style>\n",
              "<table border=\"1\" class=\"dataframe\">\n",
              "  <thead>\n",
              "    <tr style=\"text-align: right;\">\n",
              "      <th></th>\n",
              "      <th>구별</th>\n",
              "      <th>소계</th>\n",
              "      <th>2011년 이전</th>\n",
              "      <th>2011년</th>\n",
              "      <th>2012년</th>\n",
              "      <th>2013년</th>\n",
              "      <th>2014년</th>\n",
              "      <th>2015년</th>\n",
              "      <th>2016년</th>\n",
              "      <th>2017년</th>\n",
              "      <th>2018년</th>\n",
              "      <th>2019년</th>\n",
              "      <th>2020년</th>\n",
              "    </tr>\n",
              "  </thead>\n",
              "  <tbody>\n",
              "    <tr>\n",
              "      <th>0</th>\n",
              "      <td>계</td>\n",
              "      <td>75431</td>\n",
              "      <td>5901</td>\n",
              "      <td>1619</td>\n",
              "      <td>2228</td>\n",
              "      <td>0</td>\n",
              "      <td>4368</td>\n",
              "      <td>6742</td>\n",
              "      <td>8300</td>\n",
              "      <td>10100</td>\n",
              "      <td>9687</td>\n",
              "      <td>11657</td>\n",
              "      <td>10232</td>\n",
              "    </tr>\n",
              "    <tr>\n",
              "      <th>23</th>\n",
              "      <td>강남구</td>\n",
              "      <td>6645</td>\n",
              "      <td>62</td>\n",
              "      <td>61</td>\n",
              "      <td>72</td>\n",
              "      <td>368</td>\n",
              "      <td>455</td>\n",
              "      <td>845</td>\n",
              "      <td>1307</td>\n",
              "      <td>1004</td>\n",
              "      <td>744</td>\n",
              "      <td>796</td>\n",
              "      <td>931</td>\n",
              "    </tr>\n",
              "    <tr>\n",
              "      <th>21</th>\n",
              "      <td>관악구</td>\n",
              "      <td>4909</td>\n",
              "      <td>320</td>\n",
              "      <td>120</td>\n",
              "      <td>84</td>\n",
              "      <td>431</td>\n",
              "      <td>441</td>\n",
              "      <td>608</td>\n",
              "      <td>620</td>\n",
              "      <td>684</td>\n",
              "      <td>674</td>\n",
              "      <td>596</td>\n",
              "      <td>331</td>\n",
              "    </tr>\n",
              "    <tr>\n",
              "      <th>17</th>\n",
              "      <td>구로구</td>\n",
              "      <td>4075</td>\n",
              "      <td>643</td>\n",
              "      <td>209</td>\n",
              "      <td>216</td>\n",
              "      <td>349</td>\n",
              "      <td>187</td>\n",
              "      <td>268</td>\n",
              "      <td>326</td>\n",
              "      <td>540</td>\n",
              "      <td>488</td>\n",
              "      <td>434</td>\n",
              "      <td>415</td>\n",
              "    </tr>\n",
              "    <tr>\n",
              "      <th>19</th>\n",
              "      <td>영등포구</td>\n",
              "      <td>3773</td>\n",
              "      <td>450</td>\n",
              "      <td>122</td>\n",
              "      <td>136</td>\n",
              "      <td>238</td>\n",
              "      <td>123</td>\n",
              "      <td>209</td>\n",
              "      <td>248</td>\n",
              "      <td>311</td>\n",
              "      <td>658</td>\n",
              "      <td>65</td>\n",
              "      <td>1213</td>\n",
              "    </tr>\n",
              "  </tbody>\n",
              "</table>\n",
              "</div>"
            ],
            "text/plain": [
              "      구별     소계  2011년 이전  2011년  2012년  ...  2016년  2017년  2018년  2019년  2020년\n",
              "0      계  75431      5901   1619   2228  ...   8300  10100   9687  11657  10232\n",
              "23   강남구   6645        62     61     72  ...   1307   1004    744    796    931\n",
              "21   관악구   4909       320    120     84  ...    620    684    674    596    331\n",
              "17   구로구   4075       643    209    216  ...    326    540    488    434    415\n",
              "19  영등포구   3773       450    122    136  ...    248    311    658     65   1213\n",
              "\n",
              "[5 rows x 13 columns]"
            ]
          },
          "metadata": {},
          "execution_count": 6
        }
      ]
    },
    {
      "cell_type": "code",
      "metadata": {
        "colab": {
          "base_uri": "https://localhost:8080/",
          "height": 204
        },
        "id": "bzeeLBCfdexk",
        "outputId": "74eae57a-4501-407c-cf5a-109a79f2d7ec"
      },
      "source": [
        "# 최근 3년간과 그 이전 3년간 CCTV 증가율 계산 \n",
        "seoul_cctv['최근증가율'] = (seoul_cctv['2018년'] + seoul_cctv['2019년'] + seoul_cctv['2020년'])/(seoul_cctv['2017년']+seoul_cctv['2016년']+seoul_cctv['2015년'])*100\n",
        "seoul_cctv.sort_values(by='최근증가율', ascending=False).head()"
      ],
      "execution_count": 7,
      "outputs": [
        {
          "output_type": "execute_result",
          "data": {
            "text/html": [
              "<div>\n",
              "<style scoped>\n",
              "    .dataframe tbody tr th:only-of-type {\n",
              "        vertical-align: middle;\n",
              "    }\n",
              "\n",
              "    .dataframe tbody tr th {\n",
              "        vertical-align: top;\n",
              "    }\n",
              "\n",
              "    .dataframe thead th {\n",
              "        text-align: right;\n",
              "    }\n",
              "</style>\n",
              "<table border=\"1\" class=\"dataframe\">\n",
              "  <thead>\n",
              "    <tr style=\"text-align: right;\">\n",
              "      <th></th>\n",
              "      <th>구별</th>\n",
              "      <th>소계</th>\n",
              "      <th>2011년 이전</th>\n",
              "      <th>2011년</th>\n",
              "      <th>2012년</th>\n",
              "      <th>2013년</th>\n",
              "      <th>2014년</th>\n",
              "      <th>2015년</th>\n",
              "      <th>2016년</th>\n",
              "      <th>2017년</th>\n",
              "      <th>2018년</th>\n",
              "      <th>2019년</th>\n",
              "      <th>2020년</th>\n",
              "      <th>최근증가율</th>\n",
              "    </tr>\n",
              "  </thead>\n",
              "  <tbody>\n",
              "    <tr>\n",
              "      <th>7</th>\n",
              "      <td>중랑구</td>\n",
              "      <td>3285</td>\n",
              "      <td>298</td>\n",
              "      <td>21</td>\n",
              "      <td>23</td>\n",
              "      <td>253</td>\n",
              "      <td>88</td>\n",
              "      <td>138</td>\n",
              "      <td>159</td>\n",
              "      <td>152</td>\n",
              "      <td>173</td>\n",
              "      <td>1050</td>\n",
              "      <td>930</td>\n",
              "      <td>479.510022</td>\n",
              "    </tr>\n",
              "    <tr>\n",
              "      <th>9</th>\n",
              "      <td>강북구</td>\n",
              "      <td>2462</td>\n",
              "      <td>0</td>\n",
              "      <td>0</td>\n",
              "      <td>0</td>\n",
              "      <td>55</td>\n",
              "      <td>85</td>\n",
              "      <td>130</td>\n",
              "      <td>311</td>\n",
              "      <td>34</td>\n",
              "      <td>385</td>\n",
              "      <td>976</td>\n",
              "      <td>486</td>\n",
              "      <td>388.842105</td>\n",
              "    </tr>\n",
              "    <tr>\n",
              "      <th>24</th>\n",
              "      <td>송파구</td>\n",
              "      <td>2743</td>\n",
              "      <td>64</td>\n",
              "      <td>9</td>\n",
              "      <td>61</td>\n",
              "      <td>86</td>\n",
              "      <td>85</td>\n",
              "      <td>215</td>\n",
              "      <td>146</td>\n",
              "      <td>241</td>\n",
              "      <td>542</td>\n",
              "      <td>1068</td>\n",
              "      <td>226</td>\n",
              "      <td>304.983389</td>\n",
              "    </tr>\n",
              "    <tr>\n",
              "      <th>19</th>\n",
              "      <td>영등포구</td>\n",
              "      <td>3773</td>\n",
              "      <td>450</td>\n",
              "      <td>122</td>\n",
              "      <td>136</td>\n",
              "      <td>238</td>\n",
              "      <td>123</td>\n",
              "      <td>209</td>\n",
              "      <td>248</td>\n",
              "      <td>311</td>\n",
              "      <td>658</td>\n",
              "      <td>65</td>\n",
              "      <td>1213</td>\n",
              "      <td>252.083333</td>\n",
              "    </tr>\n",
              "    <tr>\n",
              "      <th>25</th>\n",
              "      <td>강동구</td>\n",
              "      <td>2547</td>\n",
              "      <td>223</td>\n",
              "      <td>45</td>\n",
              "      <td>27</td>\n",
              "      <td>227</td>\n",
              "      <td>49</td>\n",
              "      <td>154</td>\n",
              "      <td>202</td>\n",
              "      <td>273</td>\n",
              "      <td>377</td>\n",
              "      <td>356</td>\n",
              "      <td>614</td>\n",
              "      <td>214.149444</td>\n",
              "    </tr>\n",
              "  </tbody>\n",
              "</table>\n",
              "</div>"
            ],
            "text/plain": [
              "      구별    소계  2011년 이전  2011년  2012년  ...  2017년  2018년  2019년  2020년       최근증가율\n",
              "7    중랑구  3285       298     21     23  ...    152    173   1050    930  479.510022\n",
              "9    강북구  2462         0      0      0  ...     34    385    976    486  388.842105\n",
              "24   송파구  2743        64      9     61  ...    241    542   1068    226  304.983389\n",
              "19  영등포구  3773       450    122    136  ...    311    658     65   1213  252.083333\n",
              "25   강동구  2547       223     45     27  ...    273    377    356    614  214.149444\n",
              "\n",
              "[5 rows x 14 columns]"
            ]
          },
          "metadata": {},
          "execution_count": 7
        }
      ]
    },
    {
      "cell_type": "markdown",
      "metadata": {
        "id": "mUQ6fo9IDmIY"
      },
      "source": [
        "* 서울시 인구 데이터 확인하기\n",
        "  - 데이터 전처리"
      ]
    },
    {
      "cell_type": "code",
      "metadata": {
        "colab": {
          "base_uri": "https://localhost:8080/",
          "height": 221
        },
        "id": "Hn0qTk-nd9xH",
        "outputId": "49332e02-be42-43ad-d06f-166306ef821d"
      },
      "source": [
        "# 서울시 인구 데이터 읽어오기\n",
        "seoul_pop = pd.read_excel('report.xls', header=2)\n",
        "seoul_pop.head()"
      ],
      "execution_count": 8,
      "outputs": [
        {
          "output_type": "execute_result",
          "data": {
            "text/html": [
              "<div>\n",
              "<style scoped>\n",
              "    .dataframe tbody tr th:only-of-type {\n",
              "        vertical-align: middle;\n",
              "    }\n",
              "\n",
              "    .dataframe tbody tr th {\n",
              "        vertical-align: top;\n",
              "    }\n",
              "\n",
              "    .dataframe thead th {\n",
              "        text-align: right;\n",
              "    }\n",
              "</style>\n",
              "<table border=\"1\" class=\"dataframe\">\n",
              "  <thead>\n",
              "    <tr style=\"text-align: right;\">\n",
              "      <th></th>\n",
              "      <th>기간</th>\n",
              "      <th>자치구</th>\n",
              "      <th>세대</th>\n",
              "      <th>계</th>\n",
              "      <th>남자</th>\n",
              "      <th>여자</th>\n",
              "      <th>계.1</th>\n",
              "      <th>남자.1</th>\n",
              "      <th>여자.1</th>\n",
              "      <th>계.2</th>\n",
              "      <th>남자.2</th>\n",
              "      <th>여자.2</th>\n",
              "      <th>세대당인구</th>\n",
              "      <th>65세이상고령자</th>\n",
              "    </tr>\n",
              "  </thead>\n",
              "  <tbody>\n",
              "    <tr>\n",
              "      <th>0</th>\n",
              "      <td>2021.1/4</td>\n",
              "      <td>합계</td>\n",
              "      <td>4400403</td>\n",
              "      <td>9828094</td>\n",
              "      <td>4774856</td>\n",
              "      <td>5053238</td>\n",
              "      <td>9598484</td>\n",
              "      <td>4667524</td>\n",
              "      <td>4930960</td>\n",
              "      <td>229610</td>\n",
              "      <td>107332</td>\n",
              "      <td>122278</td>\n",
              "      <td>2.18</td>\n",
              "      <td>1567819</td>\n",
              "    </tr>\n",
              "    <tr>\n",
              "      <th>1</th>\n",
              "      <td>2021.1/4</td>\n",
              "      <td>종로구</td>\n",
              "      <td>74113</td>\n",
              "      <td>156567</td>\n",
              "      <td>75772</td>\n",
              "      <td>80795</td>\n",
              "      <td>147296</td>\n",
              "      <td>71644</td>\n",
              "      <td>75652</td>\n",
              "      <td>9271</td>\n",
              "      <td>4128</td>\n",
              "      <td>5143</td>\n",
              "      <td>1.99</td>\n",
              "      <td>27781</td>\n",
              "    </tr>\n",
              "    <tr>\n",
              "      <th>2</th>\n",
              "      <td>2021.1/4</td>\n",
              "      <td>중구</td>\n",
              "      <td>63746</td>\n",
              "      <td>133708</td>\n",
              "      <td>65312</td>\n",
              "      <td>68396</td>\n",
              "      <td>124552</td>\n",
              "      <td>60851</td>\n",
              "      <td>63701</td>\n",
              "      <td>9156</td>\n",
              "      <td>4461</td>\n",
              "      <td>4695</td>\n",
              "      <td>1.95</td>\n",
              "      <td>24767</td>\n",
              "    </tr>\n",
              "    <tr>\n",
              "      <th>3</th>\n",
              "      <td>2021.1/4</td>\n",
              "      <td>용산구</td>\n",
              "      <td>112881</td>\n",
              "      <td>243336</td>\n",
              "      <td>118120</td>\n",
              "      <td>125216</td>\n",
              "      <td>229013</td>\n",
              "      <td>110181</td>\n",
              "      <td>118832</td>\n",
              "      <td>14323</td>\n",
              "      <td>7939</td>\n",
              "      <td>6384</td>\n",
              "      <td>2.03</td>\n",
              "      <td>39575</td>\n",
              "    </tr>\n",
              "    <tr>\n",
              "      <th>4</th>\n",
              "      <td>2021.1/4</td>\n",
              "      <td>성동구</td>\n",
              "      <td>135883</td>\n",
              "      <td>298421</td>\n",
              "      <td>145358</td>\n",
              "      <td>153063</td>\n",
              "      <td>291906</td>\n",
              "      <td>142506</td>\n",
              "      <td>149400</td>\n",
              "      <td>6515</td>\n",
              "      <td>2852</td>\n",
              "      <td>3663</td>\n",
              "      <td>2.15</td>\n",
              "      <td>45968</td>\n",
              "    </tr>\n",
              "  </tbody>\n",
              "</table>\n",
              "</div>"
            ],
            "text/plain": [
              "         기간  자치구       세대        계  ...    남자.2    여자.2  세대당인구  65세이상고령자\n",
              "0  2021.1/4   합계  4400403  9828094  ...  107332  122278   2.18   1567819\n",
              "1  2021.1/4  종로구    74113   156567  ...    4128    5143   1.99     27781\n",
              "2  2021.1/4   중구    63746   133708  ...    4461    4695   1.95     24767\n",
              "3  2021.1/4  용산구   112881   243336  ...    7939    6384   2.03     39575\n",
              "4  2021.1/4  성동구   135883   298421  ...    2852    3663   2.15     45968\n",
              "\n",
              "[5 rows x 14 columns]"
            ]
          },
          "metadata": {},
          "execution_count": 8
        }
      ]
    },
    {
      "cell_type": "code",
      "metadata": {
        "colab": {
          "base_uri": "https://localhost:8080/",
          "height": 204
        },
        "id": "TAmfWLUjeQBa",
        "outputId": "68644744-f44b-49f6-f88d-07b4ed723fa3"
      },
      "source": [
        "#필요한 컬럼만 추출 \n",
        "seoul_pop = seoul_pop.iloc[:, [1,3,6,9,13]]\n",
        "seoul_pop.head()"
      ],
      "execution_count": 9,
      "outputs": [
        {
          "output_type": "execute_result",
          "data": {
            "text/html": [
              "<div>\n",
              "<style scoped>\n",
              "    .dataframe tbody tr th:only-of-type {\n",
              "        vertical-align: middle;\n",
              "    }\n",
              "\n",
              "    .dataframe tbody tr th {\n",
              "        vertical-align: top;\n",
              "    }\n",
              "\n",
              "    .dataframe thead th {\n",
              "        text-align: right;\n",
              "    }\n",
              "</style>\n",
              "<table border=\"1\" class=\"dataframe\">\n",
              "  <thead>\n",
              "    <tr style=\"text-align: right;\">\n",
              "      <th></th>\n",
              "      <th>자치구</th>\n",
              "      <th>계</th>\n",
              "      <th>계.1</th>\n",
              "      <th>계.2</th>\n",
              "      <th>65세이상고령자</th>\n",
              "    </tr>\n",
              "  </thead>\n",
              "  <tbody>\n",
              "    <tr>\n",
              "      <th>0</th>\n",
              "      <td>합계</td>\n",
              "      <td>9828094</td>\n",
              "      <td>9598484</td>\n",
              "      <td>229610</td>\n",
              "      <td>1567819</td>\n",
              "    </tr>\n",
              "    <tr>\n",
              "      <th>1</th>\n",
              "      <td>종로구</td>\n",
              "      <td>156567</td>\n",
              "      <td>147296</td>\n",
              "      <td>9271</td>\n",
              "      <td>27781</td>\n",
              "    </tr>\n",
              "    <tr>\n",
              "      <th>2</th>\n",
              "      <td>중구</td>\n",
              "      <td>133708</td>\n",
              "      <td>124552</td>\n",
              "      <td>9156</td>\n",
              "      <td>24767</td>\n",
              "    </tr>\n",
              "    <tr>\n",
              "      <th>3</th>\n",
              "      <td>용산구</td>\n",
              "      <td>243336</td>\n",
              "      <td>229013</td>\n",
              "      <td>14323</td>\n",
              "      <td>39575</td>\n",
              "    </tr>\n",
              "    <tr>\n",
              "      <th>4</th>\n",
              "      <td>성동구</td>\n",
              "      <td>298421</td>\n",
              "      <td>291906</td>\n",
              "      <td>6515</td>\n",
              "      <td>45968</td>\n",
              "    </tr>\n",
              "  </tbody>\n",
              "</table>\n",
              "</div>"
            ],
            "text/plain": [
              "   자치구        계      계.1     계.2  65세이상고령자\n",
              "0   합계  9828094  9598484  229610   1567819\n",
              "1  종로구   156567   147296    9271     27781\n",
              "2   중구   133708   124552    9156     24767\n",
              "3  용산구   243336   229013   14323     39575\n",
              "4  성동구   298421   291906    6515     45968"
            ]
          },
          "metadata": {},
          "execution_count": 9
        }
      ]
    },
    {
      "cell_type": "code",
      "metadata": {
        "colab": {
          "base_uri": "https://localhost:8080/",
          "height": 204
        },
        "id": "PC0E9ZuHef-3",
        "outputId": "200232c0-8257-46d5-ae43-458b6cd64cff"
      },
      "source": [
        "# 컬럼 이름 수정 \n",
        "seoul_pop.rename(columns={seoul_pop.columns[0]:'구별',\n",
        "                          seoul_pop.columns[1]:'인구수',\n",
        "                          seoul_pop.columns[2]:'한국인',\n",
        "                          seoul_pop.columns[3]:'외국인',\n",
        "                          seoul_pop.columns[4]:'고령자',\n",
        "                          }, inplace=True)\n",
        "seoul_pop.head()"
      ],
      "execution_count": 10,
      "outputs": [
        {
          "output_type": "execute_result",
          "data": {
            "text/html": [
              "<div>\n",
              "<style scoped>\n",
              "    .dataframe tbody tr th:only-of-type {\n",
              "        vertical-align: middle;\n",
              "    }\n",
              "\n",
              "    .dataframe tbody tr th {\n",
              "        vertical-align: top;\n",
              "    }\n",
              "\n",
              "    .dataframe thead th {\n",
              "        text-align: right;\n",
              "    }\n",
              "</style>\n",
              "<table border=\"1\" class=\"dataframe\">\n",
              "  <thead>\n",
              "    <tr style=\"text-align: right;\">\n",
              "      <th></th>\n",
              "      <th>구별</th>\n",
              "      <th>인구수</th>\n",
              "      <th>한국인</th>\n",
              "      <th>외국인</th>\n",
              "      <th>고령자</th>\n",
              "    </tr>\n",
              "  </thead>\n",
              "  <tbody>\n",
              "    <tr>\n",
              "      <th>0</th>\n",
              "      <td>합계</td>\n",
              "      <td>9828094</td>\n",
              "      <td>9598484</td>\n",
              "      <td>229610</td>\n",
              "      <td>1567819</td>\n",
              "    </tr>\n",
              "    <tr>\n",
              "      <th>1</th>\n",
              "      <td>종로구</td>\n",
              "      <td>156567</td>\n",
              "      <td>147296</td>\n",
              "      <td>9271</td>\n",
              "      <td>27781</td>\n",
              "    </tr>\n",
              "    <tr>\n",
              "      <th>2</th>\n",
              "      <td>중구</td>\n",
              "      <td>133708</td>\n",
              "      <td>124552</td>\n",
              "      <td>9156</td>\n",
              "      <td>24767</td>\n",
              "    </tr>\n",
              "    <tr>\n",
              "      <th>3</th>\n",
              "      <td>용산구</td>\n",
              "      <td>243336</td>\n",
              "      <td>229013</td>\n",
              "      <td>14323</td>\n",
              "      <td>39575</td>\n",
              "    </tr>\n",
              "    <tr>\n",
              "      <th>4</th>\n",
              "      <td>성동구</td>\n",
              "      <td>298421</td>\n",
              "      <td>291906</td>\n",
              "      <td>6515</td>\n",
              "      <td>45968</td>\n",
              "    </tr>\n",
              "  </tbody>\n",
              "</table>\n",
              "</div>"
            ],
            "text/plain": [
              "    구별      인구수      한국인     외국인      고령자\n",
              "0   합계  9828094  9598484  229610  1567819\n",
              "1  종로구   156567   147296    9271    27781\n",
              "2   중구   133708   124552    9156    24767\n",
              "3  용산구   243336   229013   14323    39575\n",
              "4  성동구   298421   291906    6515    45968"
            ]
          },
          "metadata": {},
          "execution_count": 10
        }
      ]
    },
    {
      "cell_type": "code",
      "metadata": {
        "colab": {
          "base_uri": "https://localhost:8080/",
          "height": 204
        },
        "id": "MlaDZJ7NfK3e",
        "outputId": "94fe893b-e316-4c07-bee7-968d73c33409"
      },
      "source": [
        "# 합계 열 삭제\n",
        "seoul_pop.drop([0], inplace=True)\n",
        "seoul_pop.head()"
      ],
      "execution_count": 11,
      "outputs": [
        {
          "output_type": "execute_result",
          "data": {
            "text/html": [
              "<div>\n",
              "<style scoped>\n",
              "    .dataframe tbody tr th:only-of-type {\n",
              "        vertical-align: middle;\n",
              "    }\n",
              "\n",
              "    .dataframe tbody tr th {\n",
              "        vertical-align: top;\n",
              "    }\n",
              "\n",
              "    .dataframe thead th {\n",
              "        text-align: right;\n",
              "    }\n",
              "</style>\n",
              "<table border=\"1\" class=\"dataframe\">\n",
              "  <thead>\n",
              "    <tr style=\"text-align: right;\">\n",
              "      <th></th>\n",
              "      <th>구별</th>\n",
              "      <th>인구수</th>\n",
              "      <th>한국인</th>\n",
              "      <th>외국인</th>\n",
              "      <th>고령자</th>\n",
              "    </tr>\n",
              "  </thead>\n",
              "  <tbody>\n",
              "    <tr>\n",
              "      <th>1</th>\n",
              "      <td>종로구</td>\n",
              "      <td>156567</td>\n",
              "      <td>147296</td>\n",
              "      <td>9271</td>\n",
              "      <td>27781</td>\n",
              "    </tr>\n",
              "    <tr>\n",
              "      <th>2</th>\n",
              "      <td>중구</td>\n",
              "      <td>133708</td>\n",
              "      <td>124552</td>\n",
              "      <td>9156</td>\n",
              "      <td>24767</td>\n",
              "    </tr>\n",
              "    <tr>\n",
              "      <th>3</th>\n",
              "      <td>용산구</td>\n",
              "      <td>243336</td>\n",
              "      <td>229013</td>\n",
              "      <td>14323</td>\n",
              "      <td>39575</td>\n",
              "    </tr>\n",
              "    <tr>\n",
              "      <th>4</th>\n",
              "      <td>성동구</td>\n",
              "      <td>298421</td>\n",
              "      <td>291906</td>\n",
              "      <td>6515</td>\n",
              "      <td>45968</td>\n",
              "    </tr>\n",
              "    <tr>\n",
              "      <th>5</th>\n",
              "      <td>광진구</td>\n",
              "      <td>356191</td>\n",
              "      <td>343392</td>\n",
              "      <td>12799</td>\n",
              "      <td>50370</td>\n",
              "    </tr>\n",
              "  </tbody>\n",
              "</table>\n",
              "</div>"
            ],
            "text/plain": [
              "    구별     인구수     한국인    외국인    고령자\n",
              "1  종로구  156567  147296   9271  27781\n",
              "2   중구  133708  124552   9156  24767\n",
              "3  용산구  243336  229013  14323  39575\n",
              "4  성동구  298421  291906   6515  45968\n",
              "5  광진구  356191  343392  12799  50370"
            ]
          },
          "metadata": {},
          "execution_count": 11
        }
      ]
    },
    {
      "cell_type": "code",
      "metadata": {
        "colab": {
          "base_uri": "https://localhost:8080/",
          "height": 204
        },
        "id": "6CsvBHTvfTPZ",
        "outputId": "e66d4eaa-28a8-4b18-9dda-77025282f91b"
      },
      "source": [
        "# 외국인비율, 고령자 비율 계산 \n",
        "seoul_pop['외국인비율'] =  seoul_pop['외국인'] / seoul_pop['인구수'] *100\n",
        "seoul_pop['고령자비율'] =  seoul_pop['고령자'] / seoul_pop['인구수'] *100\n",
        "seoul_pop.head()"
      ],
      "execution_count": 12,
      "outputs": [
        {
          "output_type": "execute_result",
          "data": {
            "text/html": [
              "<div>\n",
              "<style scoped>\n",
              "    .dataframe tbody tr th:only-of-type {\n",
              "        vertical-align: middle;\n",
              "    }\n",
              "\n",
              "    .dataframe tbody tr th {\n",
              "        vertical-align: top;\n",
              "    }\n",
              "\n",
              "    .dataframe thead th {\n",
              "        text-align: right;\n",
              "    }\n",
              "</style>\n",
              "<table border=\"1\" class=\"dataframe\">\n",
              "  <thead>\n",
              "    <tr style=\"text-align: right;\">\n",
              "      <th></th>\n",
              "      <th>구별</th>\n",
              "      <th>인구수</th>\n",
              "      <th>한국인</th>\n",
              "      <th>외국인</th>\n",
              "      <th>고령자</th>\n",
              "      <th>외국인비율</th>\n",
              "      <th>고령자비율</th>\n",
              "    </tr>\n",
              "  </thead>\n",
              "  <tbody>\n",
              "    <tr>\n",
              "      <th>1</th>\n",
              "      <td>종로구</td>\n",
              "      <td>156567</td>\n",
              "      <td>147296</td>\n",
              "      <td>9271</td>\n",
              "      <td>27781</td>\n",
              "      <td>5.921427</td>\n",
              "      <td>17.743841</td>\n",
              "    </tr>\n",
              "    <tr>\n",
              "      <th>2</th>\n",
              "      <td>중구</td>\n",
              "      <td>133708</td>\n",
              "      <td>124552</td>\n",
              "      <td>9156</td>\n",
              "      <td>24767</td>\n",
              "      <td>6.847758</td>\n",
              "      <td>18.523200</td>\n",
              "    </tr>\n",
              "    <tr>\n",
              "      <th>3</th>\n",
              "      <td>용산구</td>\n",
              "      <td>243336</td>\n",
              "      <td>229013</td>\n",
              "      <td>14323</td>\n",
              "      <td>39575</td>\n",
              "      <td>5.886100</td>\n",
              "      <td>16.263520</td>\n",
              "    </tr>\n",
              "    <tr>\n",
              "      <th>4</th>\n",
              "      <td>성동구</td>\n",
              "      <td>298421</td>\n",
              "      <td>291906</td>\n",
              "      <td>6515</td>\n",
              "      <td>45968</td>\n",
              "      <td>2.183157</td>\n",
              "      <td>15.403742</td>\n",
              "    </tr>\n",
              "    <tr>\n",
              "      <th>5</th>\n",
              "      <td>광진구</td>\n",
              "      <td>356191</td>\n",
              "      <td>343392</td>\n",
              "      <td>12799</td>\n",
              "      <td>50370</td>\n",
              "      <td>3.593297</td>\n",
              "      <td>14.141289</td>\n",
              "    </tr>\n",
              "  </tbody>\n",
              "</table>\n",
              "</div>"
            ],
            "text/plain": [
              "    구별     인구수     한국인    외국인    고령자     외국인비율      고령자비율\n",
              "1  종로구  156567  147296   9271  27781  5.921427  17.743841\n",
              "2   중구  133708  124552   9156  24767  6.847758  18.523200\n",
              "3  용산구  243336  229013  14323  39575  5.886100  16.263520\n",
              "4  성동구  298421  291906   6515  45968  2.183157  15.403742\n",
              "5  광진구  356191  343392  12799  50370  3.593297  14.141289"
            ]
          },
          "metadata": {},
          "execution_count": 12
        }
      ]
    },
    {
      "cell_type": "code",
      "metadata": {
        "colab": {
          "base_uri": "https://localhost:8080/",
          "height": 204
        },
        "id": "gOtNQAZMflqo",
        "outputId": "0599035b-e60a-4d0f-ee12-7dbbcef6b93f"
      },
      "source": [
        "# 인구수로 정렬 \n",
        "seoul_pop.sort_values(by='인구수', ascending=False).head()"
      ],
      "execution_count": 13,
      "outputs": [
        {
          "output_type": "execute_result",
          "data": {
            "text/html": [
              "<div>\n",
              "<style scoped>\n",
              "    .dataframe tbody tr th:only-of-type {\n",
              "        vertical-align: middle;\n",
              "    }\n",
              "\n",
              "    .dataframe tbody tr th {\n",
              "        vertical-align: top;\n",
              "    }\n",
              "\n",
              "    .dataframe thead th {\n",
              "        text-align: right;\n",
              "    }\n",
              "</style>\n",
              "<table border=\"1\" class=\"dataframe\">\n",
              "  <thead>\n",
              "    <tr style=\"text-align: right;\">\n",
              "      <th></th>\n",
              "      <th>구별</th>\n",
              "      <th>인구수</th>\n",
              "      <th>한국인</th>\n",
              "      <th>외국인</th>\n",
              "      <th>고령자</th>\n",
              "      <th>외국인비율</th>\n",
              "      <th>고령자비율</th>\n",
              "    </tr>\n",
              "  </thead>\n",
              "  <tbody>\n",
              "    <tr>\n",
              "      <th>24</th>\n",
              "      <td>송파구</td>\n",
              "      <td>667115</td>\n",
              "      <td>661411</td>\n",
              "      <td>5704</td>\n",
              "      <td>94145</td>\n",
              "      <td>0.855025</td>\n",
              "      <td>14.112260</td>\n",
              "    </tr>\n",
              "    <tr>\n",
              "      <th>16</th>\n",
              "      <td>강서구</td>\n",
              "      <td>582804</td>\n",
              "      <td>577320</td>\n",
              "      <td>5484</td>\n",
              "      <td>89377</td>\n",
              "      <td>0.940968</td>\n",
              "      <td>15.335687</td>\n",
              "    </tr>\n",
              "    <tr>\n",
              "      <th>23</th>\n",
              "      <td>강남구</td>\n",
              "      <td>539538</td>\n",
              "      <td>534796</td>\n",
              "      <td>4742</td>\n",
              "      <td>75602</td>\n",
              "      <td>0.878900</td>\n",
              "      <td>14.012359</td>\n",
              "    </tr>\n",
              "    <tr>\n",
              "      <th>11</th>\n",
              "      <td>노원구</td>\n",
              "      <td>522225</td>\n",
              "      <td>518278</td>\n",
              "      <td>3947</td>\n",
              "      <td>85906</td>\n",
              "      <td>0.755804</td>\n",
              "      <td>16.449998</td>\n",
              "    </tr>\n",
              "    <tr>\n",
              "      <th>21</th>\n",
              "      <td>관악구</td>\n",
              "      <td>504140</td>\n",
              "      <td>490352</td>\n",
              "      <td>13788</td>\n",
              "      <td>78400</td>\n",
              "      <td>2.734955</td>\n",
              "      <td>15.551236</td>\n",
              "    </tr>\n",
              "  </tbody>\n",
              "</table>\n",
              "</div>"
            ],
            "text/plain": [
              "     구별     인구수     한국인    외국인    고령자     외국인비율      고령자비율\n",
              "24  송파구  667115  661411   5704  94145  0.855025  14.112260\n",
              "16  강서구  582804  577320   5484  89377  0.940968  15.335687\n",
              "23  강남구  539538  534796   4742  75602  0.878900  14.012359\n",
              "11  노원구  522225  518278   3947  85906  0.755804  16.449998\n",
              "21  관악구  504140  490352  13788  78400  2.734955  15.551236"
            ]
          },
          "metadata": {},
          "execution_count": 13
        }
      ]
    },
    {
      "cell_type": "code",
      "metadata": {
        "colab": {
          "base_uri": "https://localhost:8080/",
          "height": 204
        },
        "id": "fbF8pn1cfu4K",
        "outputId": "b86a73a1-0680-4a59-e2ae-501398f21ffd"
      },
      "source": [
        "# 외국인 수로 정렬 \n",
        "seoul_pop.sort_values(by='외국인', ascending=False).head()"
      ],
      "execution_count": 14,
      "outputs": [
        {
          "output_type": "execute_result",
          "data": {
            "text/html": [
              "<div>\n",
              "<style scoped>\n",
              "    .dataframe tbody tr th:only-of-type {\n",
              "        vertical-align: middle;\n",
              "    }\n",
              "\n",
              "    .dataframe tbody tr th {\n",
              "        vertical-align: top;\n",
              "    }\n",
              "\n",
              "    .dataframe thead th {\n",
              "        text-align: right;\n",
              "    }\n",
              "</style>\n",
              "<table border=\"1\" class=\"dataframe\">\n",
              "  <thead>\n",
              "    <tr style=\"text-align: right;\">\n",
              "      <th></th>\n",
              "      <th>구별</th>\n",
              "      <th>인구수</th>\n",
              "      <th>한국인</th>\n",
              "      <th>외국인</th>\n",
              "      <th>고령자</th>\n",
              "      <th>외국인비율</th>\n",
              "      <th>고령자비율</th>\n",
              "    </tr>\n",
              "  </thead>\n",
              "  <tbody>\n",
              "    <tr>\n",
              "      <th>17</th>\n",
              "      <td>구로구</td>\n",
              "      <td>426675</td>\n",
              "      <td>401074</td>\n",
              "      <td>25601</td>\n",
              "      <td>70717</td>\n",
              "      <td>6.000117</td>\n",
              "      <td>16.573973</td>\n",
              "    </tr>\n",
              "    <tr>\n",
              "      <th>19</th>\n",
              "      <td>영등포구</td>\n",
              "      <td>403070</td>\n",
              "      <td>377590</td>\n",
              "      <td>25480</td>\n",
              "      <td>61197</td>\n",
              "      <td>6.321483</td>\n",
              "      <td>15.182723</td>\n",
              "    </tr>\n",
              "    <tr>\n",
              "      <th>18</th>\n",
              "      <td>금천구</td>\n",
              "      <td>244564</td>\n",
              "      <td>229844</td>\n",
              "      <td>14720</td>\n",
              "      <td>39781</td>\n",
              "      <td>6.018874</td>\n",
              "      <td>16.266090</td>\n",
              "    </tr>\n",
              "    <tr>\n",
              "      <th>3</th>\n",
              "      <td>용산구</td>\n",
              "      <td>243336</td>\n",
              "      <td>229013</td>\n",
              "      <td>14323</td>\n",
              "      <td>39575</td>\n",
              "      <td>5.886100</td>\n",
              "      <td>16.263520</td>\n",
              "    </tr>\n",
              "    <tr>\n",
              "      <th>21</th>\n",
              "      <td>관악구</td>\n",
              "      <td>504140</td>\n",
              "      <td>490352</td>\n",
              "      <td>13788</td>\n",
              "      <td>78400</td>\n",
              "      <td>2.734955</td>\n",
              "      <td>15.551236</td>\n",
              "    </tr>\n",
              "  </tbody>\n",
              "</table>\n",
              "</div>"
            ],
            "text/plain": [
              "      구별     인구수     한국인    외국인    고령자     외국인비율      고령자비율\n",
              "17   구로구  426675  401074  25601  70717  6.000117  16.573973\n",
              "19  영등포구  403070  377590  25480  61197  6.321483  15.182723\n",
              "18   금천구  244564  229844  14720  39781  6.018874  16.266090\n",
              "3    용산구  243336  229013  14323  39575  5.886100  16.263520\n",
              "21   관악구  504140  490352  13788  78400  2.734955  15.551236"
            ]
          },
          "metadata": {},
          "execution_count": 14
        }
      ]
    },
    {
      "cell_type": "code",
      "metadata": {
        "colab": {
          "base_uri": "https://localhost:8080/",
          "height": 204
        },
        "id": "gRnUia-Pf1j4",
        "outputId": "8c73d156-7ff1-45df-a78a-aee582898ab9"
      },
      "source": [
        "# 외국인 비율로 정렬\n",
        "seoul_pop.sort_values(by='외국인비율', ascending=False).head()"
      ],
      "execution_count": 15,
      "outputs": [
        {
          "output_type": "execute_result",
          "data": {
            "text/html": [
              "<div>\n",
              "<style scoped>\n",
              "    .dataframe tbody tr th:only-of-type {\n",
              "        vertical-align: middle;\n",
              "    }\n",
              "\n",
              "    .dataframe tbody tr th {\n",
              "        vertical-align: top;\n",
              "    }\n",
              "\n",
              "    .dataframe thead th {\n",
              "        text-align: right;\n",
              "    }\n",
              "</style>\n",
              "<table border=\"1\" class=\"dataframe\">\n",
              "  <thead>\n",
              "    <tr style=\"text-align: right;\">\n",
              "      <th></th>\n",
              "      <th>구별</th>\n",
              "      <th>인구수</th>\n",
              "      <th>한국인</th>\n",
              "      <th>외국인</th>\n",
              "      <th>고령자</th>\n",
              "      <th>외국인비율</th>\n",
              "      <th>고령자비율</th>\n",
              "    </tr>\n",
              "  </thead>\n",
              "  <tbody>\n",
              "    <tr>\n",
              "      <th>2</th>\n",
              "      <td>중구</td>\n",
              "      <td>133708</td>\n",
              "      <td>124552</td>\n",
              "      <td>9156</td>\n",
              "      <td>24767</td>\n",
              "      <td>6.847758</td>\n",
              "      <td>18.523200</td>\n",
              "    </tr>\n",
              "    <tr>\n",
              "      <th>19</th>\n",
              "      <td>영등포구</td>\n",
              "      <td>403070</td>\n",
              "      <td>377590</td>\n",
              "      <td>25480</td>\n",
              "      <td>61197</td>\n",
              "      <td>6.321483</td>\n",
              "      <td>15.182723</td>\n",
              "    </tr>\n",
              "    <tr>\n",
              "      <th>18</th>\n",
              "      <td>금천구</td>\n",
              "      <td>244564</td>\n",
              "      <td>229844</td>\n",
              "      <td>14720</td>\n",
              "      <td>39781</td>\n",
              "      <td>6.018874</td>\n",
              "      <td>16.266090</td>\n",
              "    </tr>\n",
              "    <tr>\n",
              "      <th>17</th>\n",
              "      <td>구로구</td>\n",
              "      <td>426675</td>\n",
              "      <td>401074</td>\n",
              "      <td>25601</td>\n",
              "      <td>70717</td>\n",
              "      <td>6.000117</td>\n",
              "      <td>16.573973</td>\n",
              "    </tr>\n",
              "    <tr>\n",
              "      <th>1</th>\n",
              "      <td>종로구</td>\n",
              "      <td>156567</td>\n",
              "      <td>147296</td>\n",
              "      <td>9271</td>\n",
              "      <td>27781</td>\n",
              "      <td>5.921427</td>\n",
              "      <td>17.743841</td>\n",
              "    </tr>\n",
              "  </tbody>\n",
              "</table>\n",
              "</div>"
            ],
            "text/plain": [
              "      구별     인구수     한국인    외국인    고령자     외국인비율      고령자비율\n",
              "2     중구  133708  124552   9156  24767  6.847758  18.523200\n",
              "19  영등포구  403070  377590  25480  61197  6.321483  15.182723\n",
              "18   금천구  244564  229844  14720  39781  6.018874  16.266090\n",
              "17   구로구  426675  401074  25601  70717  6.000117  16.573973\n",
              "1    종로구  156567  147296   9271  27781  5.921427  17.743841"
            ]
          },
          "metadata": {},
          "execution_count": 15
        }
      ]
    },
    {
      "cell_type": "code",
      "metadata": {
        "colab": {
          "base_uri": "https://localhost:8080/",
          "height": 204
        },
        "id": "y1eHFllSf8Cf",
        "outputId": "5cfe0581-4d5a-4407-f46f-ce64d8c4e3b6"
      },
      "source": [
        "# 고령자 수로 정렬 \n",
        "seoul_pop.sort_values(by='고령자', ascending=False).head()"
      ],
      "execution_count": 16,
      "outputs": [
        {
          "output_type": "execute_result",
          "data": {
            "text/html": [
              "<div>\n",
              "<style scoped>\n",
              "    .dataframe tbody tr th:only-of-type {\n",
              "        vertical-align: middle;\n",
              "    }\n",
              "\n",
              "    .dataframe tbody tr th {\n",
              "        vertical-align: top;\n",
              "    }\n",
              "\n",
              "    .dataframe thead th {\n",
              "        text-align: right;\n",
              "    }\n",
              "</style>\n",
              "<table border=\"1\" class=\"dataframe\">\n",
              "  <thead>\n",
              "    <tr style=\"text-align: right;\">\n",
              "      <th></th>\n",
              "      <th>구별</th>\n",
              "      <th>인구수</th>\n",
              "      <th>한국인</th>\n",
              "      <th>외국인</th>\n",
              "      <th>고령자</th>\n",
              "      <th>외국인비율</th>\n",
              "      <th>고령자비율</th>\n",
              "    </tr>\n",
              "  </thead>\n",
              "  <tbody>\n",
              "    <tr>\n",
              "      <th>24</th>\n",
              "      <td>송파구</td>\n",
              "      <td>667115</td>\n",
              "      <td>661411</td>\n",
              "      <td>5704</td>\n",
              "      <td>94145</td>\n",
              "      <td>0.855025</td>\n",
              "      <td>14.112260</td>\n",
              "    </tr>\n",
              "    <tr>\n",
              "      <th>16</th>\n",
              "      <td>강서구</td>\n",
              "      <td>582804</td>\n",
              "      <td>577320</td>\n",
              "      <td>5484</td>\n",
              "      <td>89377</td>\n",
              "      <td>0.940968</td>\n",
              "      <td>15.335687</td>\n",
              "    </tr>\n",
              "    <tr>\n",
              "      <th>11</th>\n",
              "      <td>노원구</td>\n",
              "      <td>522225</td>\n",
              "      <td>518278</td>\n",
              "      <td>3947</td>\n",
              "      <td>85906</td>\n",
              "      <td>0.755804</td>\n",
              "      <td>16.449998</td>\n",
              "    </tr>\n",
              "    <tr>\n",
              "      <th>12</th>\n",
              "      <td>은평구</td>\n",
              "      <td>479607</td>\n",
              "      <td>475501</td>\n",
              "      <td>4106</td>\n",
              "      <td>85140</td>\n",
              "      <td>0.856118</td>\n",
              "      <td>17.752034</td>\n",
              "    </tr>\n",
              "    <tr>\n",
              "      <th>21</th>\n",
              "      <td>관악구</td>\n",
              "      <td>504140</td>\n",
              "      <td>490352</td>\n",
              "      <td>13788</td>\n",
              "      <td>78400</td>\n",
              "      <td>2.734955</td>\n",
              "      <td>15.551236</td>\n",
              "    </tr>\n",
              "  </tbody>\n",
              "</table>\n",
              "</div>"
            ],
            "text/plain": [
              "     구별     인구수     한국인    외국인    고령자     외국인비율      고령자비율\n",
              "24  송파구  667115  661411   5704  94145  0.855025  14.112260\n",
              "16  강서구  582804  577320   5484  89377  0.940968  15.335687\n",
              "11  노원구  522225  518278   3947  85906  0.755804  16.449998\n",
              "12  은평구  479607  475501   4106  85140  0.856118  17.752034\n",
              "21  관악구  504140  490352  13788  78400  2.734955  15.551236"
            ]
          },
          "metadata": {},
          "execution_count": 16
        }
      ]
    },
    {
      "cell_type": "code",
      "metadata": {
        "colab": {
          "base_uri": "https://localhost:8080/",
          "height": 204
        },
        "id": "BbnWVsITgEAe",
        "outputId": "bc34b2bb-6ed3-4a01-892f-48def35f1d31"
      },
      "source": [
        "# 고령자 비율로 정렬 \n",
        "seoul_pop.sort_values(by='고령자비율', ascending=False).head()"
      ],
      "execution_count": 17,
      "outputs": [
        {
          "output_type": "execute_result",
          "data": {
            "text/html": [
              "<div>\n",
              "<style scoped>\n",
              "    .dataframe tbody tr th:only-of-type {\n",
              "        vertical-align: middle;\n",
              "    }\n",
              "\n",
              "    .dataframe tbody tr th {\n",
              "        vertical-align: top;\n",
              "    }\n",
              "\n",
              "    .dataframe thead th {\n",
              "        text-align: right;\n",
              "    }\n",
              "</style>\n",
              "<table border=\"1\" class=\"dataframe\">\n",
              "  <thead>\n",
              "    <tr style=\"text-align: right;\">\n",
              "      <th></th>\n",
              "      <th>구별</th>\n",
              "      <th>인구수</th>\n",
              "      <th>한국인</th>\n",
              "      <th>외국인</th>\n",
              "      <th>고령자</th>\n",
              "      <th>외국인비율</th>\n",
              "      <th>고령자비율</th>\n",
              "    </tr>\n",
              "  </thead>\n",
              "  <tbody>\n",
              "    <tr>\n",
              "      <th>9</th>\n",
              "      <td>강북구</td>\n",
              "      <td>307537</td>\n",
              "      <td>304078</td>\n",
              "      <td>3459</td>\n",
              "      <td>62893</td>\n",
              "      <td>1.124743</td>\n",
              "      <td>20.450547</td>\n",
              "    </tr>\n",
              "    <tr>\n",
              "      <th>10</th>\n",
              "      <td>도봉구</td>\n",
              "      <td>323752</td>\n",
              "      <td>321717</td>\n",
              "      <td>2035</td>\n",
              "      <td>62360</td>\n",
              "      <td>0.628568</td>\n",
              "      <td>19.261657</td>\n",
              "    </tr>\n",
              "    <tr>\n",
              "      <th>2</th>\n",
              "      <td>중구</td>\n",
              "      <td>133708</td>\n",
              "      <td>124552</td>\n",
              "      <td>9156</td>\n",
              "      <td>24767</td>\n",
              "      <td>6.847758</td>\n",
              "      <td>18.523200</td>\n",
              "    </tr>\n",
              "    <tr>\n",
              "      <th>12</th>\n",
              "      <td>은평구</td>\n",
              "      <td>479607</td>\n",
              "      <td>475501</td>\n",
              "      <td>4106</td>\n",
              "      <td>85140</td>\n",
              "      <td>0.856118</td>\n",
              "      <td>17.752034</td>\n",
              "    </tr>\n",
              "    <tr>\n",
              "      <th>1</th>\n",
              "      <td>종로구</td>\n",
              "      <td>156567</td>\n",
              "      <td>147296</td>\n",
              "      <td>9271</td>\n",
              "      <td>27781</td>\n",
              "      <td>5.921427</td>\n",
              "      <td>17.743841</td>\n",
              "    </tr>\n",
              "  </tbody>\n",
              "</table>\n",
              "</div>"
            ],
            "text/plain": [
              "     구별     인구수     한국인   외국인    고령자     외국인비율      고령자비율\n",
              "9   강북구  307537  304078  3459  62893  1.124743  20.450547\n",
              "10  도봉구  323752  321717  2035  62360  0.628568  19.261657\n",
              "2    중구  133708  124552  9156  24767  6.847758  18.523200\n",
              "12  은평구  479607  475501  4106  85140  0.856118  17.752034\n",
              "1   종로구  156567  147296  9271  27781  5.921427  17.743841"
            ]
          },
          "metadata": {},
          "execution_count": 17
        }
      ]
    },
    {
      "cell_type": "markdown",
      "metadata": {
        "id": "hZbjkAUjgIjt"
      },
      "source": [
        "* 데이터 merge"
      ]
    },
    {
      "cell_type": "code",
      "metadata": {
        "id": "ressf6imgGpM"
      },
      "source": [
        "# 필요데이텀 추출 \n",
        "seoul_cctv = seoul_cctv[['구별', '소계', '최근증가율']]"
      ],
      "execution_count": 18,
      "outputs": []
    },
    {
      "cell_type": "code",
      "metadata": {
        "colab": {
          "base_uri": "https://localhost:8080/",
          "height": 204
        },
        "id": "VA1VA66CgddI",
        "outputId": "4d421786-d020-4f59-e0bc-bee201ae3717"
      },
      "source": [
        "data_result = pd.merge(seoul_cctv, seoul_pop, on='구별')\n",
        "data_result.head()"
      ],
      "execution_count": 19,
      "outputs": [
        {
          "output_type": "execute_result",
          "data": {
            "text/html": [
              "<div>\n",
              "<style scoped>\n",
              "    .dataframe tbody tr th:only-of-type {\n",
              "        vertical-align: middle;\n",
              "    }\n",
              "\n",
              "    .dataframe tbody tr th {\n",
              "        vertical-align: top;\n",
              "    }\n",
              "\n",
              "    .dataframe thead th {\n",
              "        text-align: right;\n",
              "    }\n",
              "</style>\n",
              "<table border=\"1\" class=\"dataframe\">\n",
              "  <thead>\n",
              "    <tr style=\"text-align: right;\">\n",
              "      <th></th>\n",
              "      <th>구별</th>\n",
              "      <th>소계</th>\n",
              "      <th>최근증가율</th>\n",
              "      <th>인구수</th>\n",
              "      <th>한국인</th>\n",
              "      <th>외국인</th>\n",
              "      <th>고령자</th>\n",
              "      <th>외국인비율</th>\n",
              "      <th>고령자비율</th>\n",
              "    </tr>\n",
              "  </thead>\n",
              "  <tbody>\n",
              "    <tr>\n",
              "      <th>0</th>\n",
              "      <td>종로구</td>\n",
              "      <td>1729</td>\n",
              "      <td>71.707317</td>\n",
              "      <td>156567</td>\n",
              "      <td>147296</td>\n",
              "      <td>9271</td>\n",
              "      <td>27781</td>\n",
              "      <td>5.921427</td>\n",
              "      <td>17.743841</td>\n",
              "    </tr>\n",
              "    <tr>\n",
              "      <th>1</th>\n",
              "      <td>용산구</td>\n",
              "      <td>2383</td>\n",
              "      <td>120.574713</td>\n",
              "      <td>243336</td>\n",
              "      <td>229013</td>\n",
              "      <td>14323</td>\n",
              "      <td>39575</td>\n",
              "      <td>5.886100</td>\n",
              "      <td>16.263520</td>\n",
              "    </tr>\n",
              "    <tr>\n",
              "      <th>2</th>\n",
              "      <td>성동구</td>\n",
              "      <td>3515</td>\n",
              "      <td>78.591353</td>\n",
              "      <td>298421</td>\n",
              "      <td>291906</td>\n",
              "      <td>6515</td>\n",
              "      <td>45968</td>\n",
              "      <td>2.183157</td>\n",
              "      <td>15.403742</td>\n",
              "    </tr>\n",
              "    <tr>\n",
              "      <th>3</th>\n",
              "      <td>광진구</td>\n",
              "      <td>2556</td>\n",
              "      <td>163.878788</td>\n",
              "      <td>356191</td>\n",
              "      <td>343392</td>\n",
              "      <td>12799</td>\n",
              "      <td>50370</td>\n",
              "      <td>3.593297</td>\n",
              "      <td>14.141289</td>\n",
              "    </tr>\n",
              "    <tr>\n",
              "      <th>4</th>\n",
              "      <td>동대문구</td>\n",
              "      <td>2315</td>\n",
              "      <td>106.250000</td>\n",
              "      <td>352570</td>\n",
              "      <td>338875</td>\n",
              "      <td>13695</td>\n",
              "      <td>60868</td>\n",
              "      <td>3.884335</td>\n",
              "      <td>17.264089</td>\n",
              "    </tr>\n",
              "  </tbody>\n",
              "</table>\n",
              "</div>"
            ],
            "text/plain": [
              "     구별    소계       최근증가율     인구수     한국인    외국인    고령자     외국인비율      고령자비율\n",
              "0   종로구  1729   71.707317  156567  147296   9271  27781  5.921427  17.743841\n",
              "1   용산구  2383  120.574713  243336  229013  14323  39575  5.886100  16.263520\n",
              "2   성동구  3515   78.591353  298421  291906   6515  45968  2.183157  15.403742\n",
              "3   광진구  2556  163.878788  356191  343392  12799  50370  3.593297  14.141289\n",
              "4  동대문구  2315  106.250000  352570  338875  13695  60868  3.884335  17.264089"
            ]
          },
          "metadata": {},
          "execution_count": 19
        }
      ]
    },
    {
      "cell_type": "code",
      "metadata": {
        "colab": {
          "base_uri": "https://localhost:8080/",
          "height": 235
        },
        "id": "OwI8jGzNgk11",
        "outputId": "f6654fb7-b7d7-44a9-95e4-b603ed4c1af8"
      },
      "source": [
        "data_result.set_index('구별', inplace=True)\n",
        "data_result.head()"
      ],
      "execution_count": 20,
      "outputs": [
        {
          "output_type": "execute_result",
          "data": {
            "text/html": [
              "<div>\n",
              "<style scoped>\n",
              "    .dataframe tbody tr th:only-of-type {\n",
              "        vertical-align: middle;\n",
              "    }\n",
              "\n",
              "    .dataframe tbody tr th {\n",
              "        vertical-align: top;\n",
              "    }\n",
              "\n",
              "    .dataframe thead th {\n",
              "        text-align: right;\n",
              "    }\n",
              "</style>\n",
              "<table border=\"1\" class=\"dataframe\">\n",
              "  <thead>\n",
              "    <tr style=\"text-align: right;\">\n",
              "      <th></th>\n",
              "      <th>소계</th>\n",
              "      <th>최근증가율</th>\n",
              "      <th>인구수</th>\n",
              "      <th>한국인</th>\n",
              "      <th>외국인</th>\n",
              "      <th>고령자</th>\n",
              "      <th>외국인비율</th>\n",
              "      <th>고령자비율</th>\n",
              "    </tr>\n",
              "    <tr>\n",
              "      <th>구별</th>\n",
              "      <th></th>\n",
              "      <th></th>\n",
              "      <th></th>\n",
              "      <th></th>\n",
              "      <th></th>\n",
              "      <th></th>\n",
              "      <th></th>\n",
              "      <th></th>\n",
              "    </tr>\n",
              "  </thead>\n",
              "  <tbody>\n",
              "    <tr>\n",
              "      <th>종로구</th>\n",
              "      <td>1729</td>\n",
              "      <td>71.707317</td>\n",
              "      <td>156567</td>\n",
              "      <td>147296</td>\n",
              "      <td>9271</td>\n",
              "      <td>27781</td>\n",
              "      <td>5.921427</td>\n",
              "      <td>17.743841</td>\n",
              "    </tr>\n",
              "    <tr>\n",
              "      <th>용산구</th>\n",
              "      <td>2383</td>\n",
              "      <td>120.574713</td>\n",
              "      <td>243336</td>\n",
              "      <td>229013</td>\n",
              "      <td>14323</td>\n",
              "      <td>39575</td>\n",
              "      <td>5.886100</td>\n",
              "      <td>16.263520</td>\n",
              "    </tr>\n",
              "    <tr>\n",
              "      <th>성동구</th>\n",
              "      <td>3515</td>\n",
              "      <td>78.591353</td>\n",
              "      <td>298421</td>\n",
              "      <td>291906</td>\n",
              "      <td>6515</td>\n",
              "      <td>45968</td>\n",
              "      <td>2.183157</td>\n",
              "      <td>15.403742</td>\n",
              "    </tr>\n",
              "    <tr>\n",
              "      <th>광진구</th>\n",
              "      <td>2556</td>\n",
              "      <td>163.878788</td>\n",
              "      <td>356191</td>\n",
              "      <td>343392</td>\n",
              "      <td>12799</td>\n",
              "      <td>50370</td>\n",
              "      <td>3.593297</td>\n",
              "      <td>14.141289</td>\n",
              "    </tr>\n",
              "    <tr>\n",
              "      <th>동대문구</th>\n",
              "      <td>2315</td>\n",
              "      <td>106.250000</td>\n",
              "      <td>352570</td>\n",
              "      <td>338875</td>\n",
              "      <td>13695</td>\n",
              "      <td>60868</td>\n",
              "      <td>3.884335</td>\n",
              "      <td>17.264089</td>\n",
              "    </tr>\n",
              "  </tbody>\n",
              "</table>\n",
              "</div>"
            ],
            "text/plain": [
              "        소계       최근증가율     인구수     한국인    외국인    고령자     외국인비율      고령자비율\n",
              "구별                                                                       \n",
              "종로구   1729   71.707317  156567  147296   9271  27781  5.921427  17.743841\n",
              "용산구   2383  120.574713  243336  229013  14323  39575  5.886100  16.263520\n",
              "성동구   3515   78.591353  298421  291906   6515  45968  2.183157  15.403742\n",
              "광진구   2556  163.878788  356191  343392  12799  50370  3.593297  14.141289\n",
              "동대문구  2315  106.250000  352570  338875  13695  60868  3.884335  17.264089"
            ]
          },
          "metadata": {},
          "execution_count": 20
        }
      ]
    },
    {
      "cell_type": "markdown",
      "metadata": {
        "id": "oAsgmwupgsus"
      },
      "source": [
        "* correlation 확인"
      ]
    },
    {
      "cell_type": "code",
      "metadata": {
        "colab": {
          "base_uri": "https://localhost:8080/"
        },
        "id": "hWCmmjGGgrXC",
        "outputId": "d36d6eb1-470b-4d5b-eee7-e5c65217c76b"
      },
      "source": [
        "# 고령자 비율과 관련성 적음 \n",
        "np.corrcoef(data_result['고령자비율'], data_result['소계'])"
      ],
      "execution_count": 21,
      "outputs": [
        {
          "output_type": "execute_result",
          "data": {
            "text/plain": [
              "array([[ 1.        , -0.39903693],\n",
              "       [-0.39903693,  1.        ]])"
            ]
          },
          "metadata": {},
          "execution_count": 21
        }
      ]
    },
    {
      "cell_type": "code",
      "metadata": {
        "colab": {
          "base_uri": "https://localhost:8080/"
        },
        "id": "Ds5kP8Wkg1hz",
        "outputId": "f2925e7b-3cdc-4d97-e3c1-feb49823bd1d"
      },
      "source": [
        "# 외국인 비율과도 큰 관련성이 없어 보임 \n",
        "np.corrcoef(data_result['외국인비율'], data_result['소계'])"
      ],
      "execution_count": 22,
      "outputs": [
        {
          "output_type": "execute_result",
          "data": {
            "text/plain": [
              "array([[ 1.        , -0.10508014],\n",
              "       [-0.10508014,  1.        ]])"
            ]
          },
          "metadata": {},
          "execution_count": 22
        }
      ]
    },
    {
      "cell_type": "code",
      "metadata": {
        "colab": {
          "base_uri": "https://localhost:8080/"
        },
        "id": "BIJhYGjMg_ar",
        "outputId": "fbdf919c-c64c-4bc3-b1b3-a1c8f8eb93f5"
      },
      "source": [
        "# 인구수와는 관련성이 있음 \n",
        "np.corrcoef(data_result['인구수'], data_result['소계'])"
      ],
      "execution_count": 23,
      "outputs": [
        {
          "output_type": "execute_result",
          "data": {
            "text/plain": [
              "array([[1.        , 0.42267883],\n",
              "       [0.42267883, 1.        ]])"
            ]
          },
          "metadata": {},
          "execution_count": 23
        }
      ]
    },
    {
      "cell_type": "markdown",
      "metadata": {
        "id": "5mJVCBuZhPoP"
      },
      "source": [
        "* 수평 바 그래프로 확인 "
      ]
    },
    {
      "cell_type": "code",
      "metadata": {
        "colab": {
          "base_uri": "https://localhost:8080/",
          "height": 592
        },
        "id": "znRkUSYhhGkF",
        "outputId": "a40b8aab-4935-4246-f991-b4ba817c915f"
      },
      "source": [
        "import matplotlib as mpl\n",
        "import matplotlib.pyplot as plt\n",
        "\n",
        "# minus 표시\n",
        "mpl.rcParams['axes.unicode_minus']=False\n",
        "plt.rc('font',family='NanumBarunGothic')\n",
        "\n",
        "plt.figure(figsize=(10,10))\n",
        "data_result['소계'].sort_values().plot(kind='barh', rot=0, grid=True)\n",
        "                              \n",
        "plt.show()"
      ],
      "execution_count": 36,
      "outputs": [
        {
          "output_type": "display_data",
          "data": {
            "image/png": "[encoded data removed]",
            "text/plain": [
              "<Figure size 720x720 with 1 Axes>"
            ]
          },
          "metadata": {
            "needs_background": "light"
          }
        }
      ]
    },
    {
      "cell_type": "markdown",
      "metadata": {
        "id": "SSohy5cDA0_8"
      },
      "source": [
        "* scatter plot"
      ]
    },
    {
      "cell_type": "code",
      "metadata": {
        "colab": {
          "base_uri": "https://localhost:8080/",
          "height": 620
        },
        "id": "m6UcgscHhd-3",
        "outputId": "46e2646a-c77b-4d65-8e8a-36c89932f17f"
      },
      "source": [
        "plt.figure(figsize=(10,10))\n",
        "plt.scatter(data_result['인구수'], data_result['소계'], s=50)\n",
        "plt.title('인구수 대비 CCTV')\n",
        "plt.xlabel('인구수')\n",
        "plt.ylabel('CCTV')\n",
        "plt.grid()\n",
        "plt.show()"
      ],
      "execution_count": 37,
      "outputs": [
        {
          "output_type": "display_data",
          "data": {
            "image/png": "[encoded data removed]",
            "text/plain": [
              "<Figure size 720x720 with 1 Axes>"
            ]
          },
          "metadata": {
            "needs_background": "light"
          }
        }
      ]
    },
    {
      "cell_type": "code",
      "metadata": {
        "colab": {
          "base_uri": "https://localhost:8080/"
        },
        "id": "phYQNMaNBInP",
        "outputId": "cba838a7-0220-4eba-8c1f-5dd294548261"
      },
      "source": [
        "fp1 = np.polyfit(data_result['인구수'], data_result['소계'], 1)\n",
        "fp1"
      ],
      "execution_count": 38,
      "outputs": [
        {
          "output_type": "execute_result",
          "data": {
            "text/plain": [
              "array([4.05606783e-03, 1.42120470e+03])"
            ]
          },
          "metadata": {},
          "execution_count": 38
        }
      ]
    },
    {
      "cell_type": "code",
      "metadata": {
        "id": "N_q1XlFfBSrW"
      },
      "source": [
        "f1 = np.poly1d(fp1)\n",
        "fx = np.linspace(100000, 700000, 100)"
      ],
      "execution_count": 41,
      "outputs": []
    },
    {
      "cell_type": "code",
      "metadata": {
        "colab": {
          "base_uri": "https://localhost:8080/",
          "height": 620
        },
        "id": "ctUqjjCvBYpq",
        "outputId": "52d0d1c0-4a71-492d-f8af-e98186c14005"
      },
      "source": [
        "plt.figure(figsize=(10,10))\n",
        "plt.scatter(data_result['인구수'], data_result['소계'], s=50)\n",
        "plt.plot(fx, f1(fx), ls='--', lw=3, color='g')\n",
        "plt.title('인구수 대비 CCTV')\n",
        "plt.xlabel('인구수')\n",
        "plt.ylabel('CCTV')\n",
        "plt.grid()\n",
        "plt.show()"
      ],
      "execution_count": 43,
      "outputs": [
        {
          "output_type": "display_data",
          "data": {
            "image/png": "[encoded data removed]",
            "text/plain": [
              "<Figure size 720x720 with 1 Axes>"
            ]
          },
          "metadata": {
            "needs_background": "light"
          }
        }
      ]
    },
    {
      "cell_type": "markdown",
      "metadata": {
        "id": "8U7c4qqjCJOV"
      },
      "source": [
        "* 1D Fitting 에러 계산 "
      ]
    },
    {
      "cell_type": "code",
      "metadata": {
        "colab": {
          "base_uri": "https://localhost:8080/",
          "height": 235
        },
        "id": "shQNLmDMBq7W",
        "outputId": "b8849407-e078-468b-fac6-92686ee10fbb"
      },
      "source": [
        "data_result['오차'] = np.abs(data_result['소계'] - f1(data_result['인구수']))\n",
        "\n",
        "df_sort = data_result.sort_values(by='오차', ascending=False)\n",
        "df_sort.head()"
      ],
      "execution_count": 44,
      "outputs": [
        {
          "output_type": "execute_result",
          "data": {
            "text/html": [
              "<div>\n",
              "<style scoped>\n",
              "    .dataframe tbody tr th:only-of-type {\n",
              "        vertical-align: middle;\n",
              "    }\n",
              "\n",
              "    .dataframe tbody tr th {\n",
              "        vertical-align: top;\n",
              "    }\n",
              "\n",
              "    .dataframe thead th {\n",
              "        text-align: right;\n",
              "    }\n",
              "</style>\n",
              "<table border=\"1\" class=\"dataframe\">\n",
              "  <thead>\n",
              "    <tr style=\"text-align: right;\">\n",
              "      <th></th>\n",
              "      <th>소계</th>\n",
              "      <th>최근증가율</th>\n",
              "      <th>인구수</th>\n",
              "      <th>한국인</th>\n",
              "      <th>외국인</th>\n",
              "      <th>고령자</th>\n",
              "      <th>외국인비율</th>\n",
              "      <th>고령자비율</th>\n",
              "      <th>오차</th>\n",
              "    </tr>\n",
              "    <tr>\n",
              "      <th>구별</th>\n",
              "      <th></th>\n",
              "      <th></th>\n",
              "      <th></th>\n",
              "      <th></th>\n",
              "      <th></th>\n",
              "      <th></th>\n",
              "      <th></th>\n",
              "      <th></th>\n",
              "      <th></th>\n",
              "    </tr>\n",
              "  </thead>\n",
              "  <tbody>\n",
              "    <tr>\n",
              "      <th>강남구</th>\n",
              "      <td>6645</td>\n",
              "      <td>78.295311</td>\n",
              "      <td>539538</td>\n",
              "      <td>534796</td>\n",
              "      <td>4742</td>\n",
              "      <td>75602</td>\n",
              "      <td>0.878900</td>\n",
              "      <td>14.012359</td>\n",
              "      <td>3035.392574</td>\n",
              "    </tr>\n",
              "    <tr>\n",
              "      <th>관악구</th>\n",
              "      <td>4909</td>\n",
              "      <td>83.734310</td>\n",
              "      <td>504140</td>\n",
              "      <td>490352</td>\n",
              "      <td>13788</td>\n",
              "      <td>78400</td>\n",
              "      <td>2.734955</td>\n",
              "      <td>15.551236</td>\n",
              "      <td>1442.969263</td>\n",
              "    </tr>\n",
              "    <tr>\n",
              "      <th>송파구</th>\n",
              "      <td>2743</td>\n",
              "      <td>304.983389</td>\n",
              "      <td>667115</td>\n",
              "      <td>661411</td>\n",
              "      <td>5704</td>\n",
              "      <td>94145</td>\n",
              "      <td>0.855025</td>\n",
              "      <td>14.112260</td>\n",
              "      <td>1384.068392</td>\n",
              "    </tr>\n",
              "    <tr>\n",
              "      <th>도봉구</th>\n",
              "      <td>1356</td>\n",
              "      <td>169.086022</td>\n",
              "      <td>323752</td>\n",
              "      <td>321717</td>\n",
              "      <td>2035</td>\n",
              "      <td>62360</td>\n",
              "      <td>0.628568</td>\n",
              "      <td>19.261657</td>\n",
              "      <td>1378.364772</td>\n",
              "    </tr>\n",
              "    <tr>\n",
              "      <th>강서구</th>\n",
              "      <td>2437</td>\n",
              "      <td>124.361949</td>\n",
              "      <td>582804</td>\n",
              "      <td>577320</td>\n",
              "      <td>5484</td>\n",
              "      <td>89377</td>\n",
              "      <td>0.940968</td>\n",
              "      <td>15.335687</td>\n",
              "      <td>1348.097257</td>\n",
              "    </tr>\n",
              "  </tbody>\n",
              "</table>\n",
              "</div>"
            ],
            "text/plain": [
              "       소계       최근증가율     인구수     한국인  ...    고령자     외국인비율      고령자비율           오차\n",
              "구별                                     ...                                         \n",
              "강남구  6645   78.295311  539538  534796  ...  75602  0.878900  14.012359  3035.392574\n",
              "관악구  4909   83.734310  504140  490352  ...  78400  2.734955  15.551236  1442.969263\n",
              "송파구  2743  304.983389  667115  661411  ...  94145  0.855025  14.112260  1384.068392\n",
              "도봉구  1356  169.086022  323752  321717  ...  62360  0.628568  19.261657  1378.364772\n",
              "강서구  2437  124.361949  582804  577320  ...  89377  0.940968  15.335687  1348.097257\n",
              "\n",
              "[5 rows x 9 columns]"
            ]
          },
          "metadata": {},
          "execution_count": 44
        }
      ]
    },
    {
      "cell_type": "code",
      "metadata": {
        "colab": {
          "base_uri": "https://localhost:8080/",
          "height": 606
        },
        "id": "dWPoOg7PCcn4",
        "outputId": "8af6b9f2-a568-4e46-f23b-36f789621da8"
      },
      "source": [
        "plt.figure(figsize=(14,10))\n",
        "plt.scatter(data_result['인구수'], data_result['소계'], c=data_result['오차'], s=50)\n",
        "plt.plot(fx, f1(fx), ls='--', lw=3, color='g')\n",
        "\n",
        "for n in range(10):\n",
        "  plt.text(df_sort['인구수'][n] *1.02, df_sort['소계'][n]*0.98, df_sort.index[n], fontsize=15)\n",
        "\n",
        "\n",
        "plt.xlabel('인구수')\n",
        "plt.ylabel('CCTV')\n",
        "\n",
        "plt.colorbar()\n",
        "plt.grid()\n",
        "plt.show()"
      ],
      "execution_count": 45,
      "outputs": [
        {
          "output_type": "display_data",
          "data": {
            "image/png": "[encoded data removed]",
            "text/plain": [
              "<Figure size 1008x720 with 2 Axes>"
            ]
          },
          "metadata": {
            "needs_background": "light"
          }
        }
      ]
    },
    {
      "cell_type": "code",
      "metadata": {
        "id": "sUWxMFA-C9PR"
      },
      "source": [
        ""
      ],
      "execution_count": null,
      "outputs": []
    }
  ]
}