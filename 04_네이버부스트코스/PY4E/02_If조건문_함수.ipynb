{
 "cells": [
  {
   "cell_type": "markdown",
   "source": [
    "## 문제 출처 ✅\n",
    "- 파이썬(PY4E)코칭스터디 미션 2주차 문제 "
   ],
   "metadata": {}
  },
  {
   "cell_type": "markdown",
   "source": [
    "📌Q1. 컴퓨터와 함께하는 가위바위보 게임을 만들어봅시다!\n",
    "\n",
    "조건1 : 함수의 인자로는 나의 가위바위보 선택이 들어감\n",
    "          (0, 1 ,2 혹은 \"가위\", \"바위\", \"보\" 로 입력할 수 있습니다. - 총 6가지 방법으로 넣을 수 있음)\n",
    "\n",
    "조건2 : 누가 무엇을 냈고, 누가 승리 했는지 출력이 되어야 함"
   ],
   "metadata": {}
  },
  {
   "cell_type": "code",
   "execution_count": 21,
   "source": [
    "import random\n",
    "\n",
    "def rsp(my): \n",
    "\n",
    "    # 나의 입력이 숫자로 들어오면 한글로 바꿔줌 \n",
    "    if my =='0':\n",
    "        my ='가위'\n",
    "    elif my == '1':\n",
    "        my = '바위'\n",
    "    else:\n",
    "        my = '보'\n",
    "    \n",
    "    # 0 ~ 2 숫자를 랜덤으로 뽑아내는 코드 \n",
    "    computer = random.randint(0,2)\n",
    "    if computer == 0:\n",
    "        computer = '가위'\n",
    "    elif computer == 1:\n",
    "        computer = '바위'\n",
    "    else:\n",
    "        my = '보'\n",
    "         \n",
    "    # 가위바위보 대결\n",
    "    # 비기는 경우\n",
    "    if my == computer:\n",
    "        print(f'나 : {my}')\n",
    "        print(f'컴퓨터 : {computer}')\n",
    "        print('비김!')\n",
    "    # 비기는 경우를 제외한 경우를 표기 \n",
    "    # 문자열로 비교가 되어야함 \n",
    "    elif my == '가위' and computer =='보':\n",
    "        print(f'나 : {my}')\n",
    "        print(f'컴퓨터 : {computer}')\n",
    "        print('나의 승리!')\n",
    "    elif my == '가위' and computer =='바위':\n",
    "        print(f'나 : {my}')\n",
    "        print(f'컴퓨터 : {computer}')\n",
    "        print('컴퓨터 승리!')\n",
    "    elif my == '보' and computer =='가위':\n",
    "        print(f'나 : {my}')\n",
    "        print(f'컴퓨터 : {computer}')\n",
    "        print('컴퓨터 승리!')\n",
    "    elif my == '보' and computer =='바위':\n",
    "        print(f'나 : {my}')\n",
    "        print(f'컴퓨터 : {computer}')\n",
    "        print('나의 승리!')\n",
    "    elif my == '바위' and computer =='가위':\n",
    "        print(f'나 : {my}')\n",
    "        print(f'컴퓨터 : {computer}')\n",
    "        print('나의 승리!')\n",
    "    elif my == '바위' and computer =='보':\n",
    "        print(f'나 : {my}')\n",
    "        print(f'컴퓨터 : {computer}')\n",
    "        print('컴퓨터 승리!')\n",
    "        "
   ],
   "outputs": [],
   "metadata": {}
  },
  {
   "cell_type": "code",
   "execution_count": 22,
   "source": [
    "my = input(\"가위 바위 보 : \")\n",
    "rsp(my)"
   ],
   "outputs": [
    {
     "output_type": "stream",
     "name": "stdout",
     "text": [
      "나 : 보\n",
      "컴퓨터 : 가위\n",
      "컴퓨터 승리!\n"
     ]
    }
   ],
   "metadata": {}
  },
  {
   "cell_type": "markdown",
   "source": [
    "📌Q2. 월급을 입력하면 연봉을 계산해주는 계산기를 만들어 봅시다. 세전 연봉과 세후 연봉을 함께 출력하도록 해봅니다."
   ],
   "metadata": {}
  },
  {
   "cell_type": "code",
   "execution_count": 23,
   "source": [
    "def yearly_payment(monthly_payment):\n",
    "    # 세전 연봉 : monthly * 12 \n",
    "    yearly_payment_b4_tax = monthly_payment * 12\n",
    "\n",
    "    # 세금 계산 \n",
    "    if yearly_payment_b4_tax <= 1200:\n",
    "        tax = yearly_payment * 0.06\n",
    "    elif yearly_payment_b4_tax <= 4600:\n",
    "        tax = yearly_payment_b4_tax * 0.15\n",
    "    elif yearly_payment_b4_tax <= 8800:\n",
    "        tax = yearly_payment_b4_tax * 0.24\n",
    "    elif yearly_payment_b4_tax <= 15000:\n",
    "        tax = yearly_payment_b4_tax * 0.35\n",
    "    elif yearly_payment_b4_tax <= 30000:\n",
    "        tax = yearly_payment_b4_tax * 0.38\n",
    "    elif yearly_payment_b4_tax < 50000:\n",
    "        tax = yearly_payment_b4_tax * 0.40\n",
    "    else:\n",
    "        tax = yearly_payment_b4_tax * 0.42\n",
    "    \n",
    "    # 세후 연봉 : 세전 - 세금 \n",
    "    yearly_payment = yearly_payment_b4_tax - tax \n",
    "\n",
    "    print(f'세전 연봉 : {yearly_payment_b4_tax}만원')\n",
    "    print(f'세후 연봉 : {yearly_payment}만원')"
   ],
   "outputs": [],
   "metadata": {}
  },
  {
   "cell_type": "code",
   "execution_count": 24,
   "source": [
    "monthly_payment = 300\n",
    "yearly_payment(monthly_payment)"
   ],
   "outputs": [
    {
     "output_type": "stream",
     "name": "stdout",
     "text": [
      "세전 연봉 : 3600만원\n",
      "세후 연봉 : 3060.0만원\n"
     ]
    }
   ],
   "metadata": {}
  },
  {
   "cell_type": "markdown",
   "source": [
    "📌Q3. 학생 이름과 점수를 입력하면 학점을 출력하는 학점 변환기를 만들어 봅시다.\n",
    "\n",
    "이름과 점수, 학점 모두 출력하도록 해봅니다."
   ],
   "metadata": {}
  },
  {
   "cell_type": "code",
   "execution_count": 3,
   "source": [
    "def grader(name, score):\n",
    "    if score >= 95:\n",
    "        grade = 'A+'\n",
    "    elif score >= 90: \n",
    "        grade = 'A'\n",
    "    elif score >= 85:\n",
    "        grade = 'B+'\n",
    "    elif score >= 80:\n",
    "        grade = 'B'\n",
    "    elif score >= 75:\n",
    "        grade = 'C+'\n",
    "    elif score >= 70:\n",
    "        grade = 'C'\n",
    "    elif score >= 65:\n",
    "        grade = 'D+'\n",
    "    elif score >= 60:\n",
    "        grade = 'D'\n",
    "    else: \n",
    "        grade ='F'\n",
    "\n",
    "# 출력값 \n",
    "    print(f'학생이름: {name}')\n",
    "    print(f'점수: {score}')\n",
    "    print (f'학점: {grade}') "
   ],
   "outputs": [],
   "metadata": {}
  },
  {
   "cell_type": "code",
   "execution_count": 4,
   "source": [
    "name = input(\"이름: \")\n",
    "score = int(input(\"점수: \"))\n",
    "grader(name, score)"
   ],
   "outputs": [
    {
     "output_type": "stream",
     "name": "stdout",
     "text": [
      "학생이름: 이호창\n",
      "점수: 99\n",
      "학점: A+\n"
     ]
    }
   ],
   "metadata": {}
  },
  {
   "cell_type": "markdown",
   "source": [
    "📌Q4. 나이와 현금 또는 카드를 입력하면 버스 요금이 출력되는 버스 요금 계산기를 만들어봅시다. "
   ],
   "metadata": {}
  },
  {
   "cell_type": "code",
   "execution_count": 10,
   "source": [
    "def bus_fare(age, ptype):\n",
    "    # 현금, 카드 공통적인 조건은 한번에 \n",
    "    if age < 8 or age >= 75:\n",
    "        fee = '무료'\n",
    "    elif age >= 8 and age <14 :\n",
    "        fee ='450원'\n",
    "    # 현금, 카드 다른 조건은 지불 유형을 한번더 세분화\n",
    "    elif age >= 14 and age <20 :\n",
    "        if ptype =='카드':\n",
    "            fee ='720원'\n",
    "        else:\n",
    "            fee = '1000원'\n",
    "    elif age >= 20:\n",
    "        if ptype =='카드':\n",
    "            fee ='1200원'\n",
    "        else:\n",
    "            fee = '1300원'\n",
    "            \n",
    "    #출력값 \n",
    "    print(f'나이 : {age}세')\n",
    "    print(f'지불유형 : {ptype}')\n",
    "    print(f'버스요금: {fee}')"
   ],
   "outputs": [],
   "metadata": {}
  },
  {
   "cell_type": "code",
   "execution_count": 11,
   "source": [
    "age = int(input(\"나이 : \"))\n",
    "ptype = input('지불유형 (현금 또는 카드): ')\n",
    "bus_fare(age, ptype)"
   ],
   "outputs": [
    {
     "output_type": "stream",
     "name": "stdout",
     "text": [
      "나이 : 30세\n",
      "지불유형 : 현금\n",
      "버스요금: 1300원\n"
     ]
    }
   ],
   "metadata": {}
  },
  {
   "cell_type": "code",
   "execution_count": null,
   "source": [],
   "outputs": [],
   "metadata": {}
  }
 ],
 "metadata": {
  "orig_nbformat": 4,
  "language_info": {
   "name": "python",
   "version": "3.8.11",
   "mimetype": "text/x-python",
   "codemirror_mode": {
    "name": "ipython",
    "version": 3
   },
   "pygments_lexer": "ipython3",
   "nbconvert_exporter": "python",
   "file_extension": ".py"
  },
  "kernelspec": {
   "name": "python3",
   "display_name": "Python 3.8.11 64-bit ('base': conda)"
  },
  "interpreter": {
   "hash": "59aa76eec713a2e656bb9d4ddb5f36b21f3d4006b36f877fc5669415524b1415"
  }
 },
 "nbformat": 4,
 "nbformat_minor": 2
}