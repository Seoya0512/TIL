{
 "cells": [
  {
   "cell_type": "markdown",
   "source": [
    "## 문제 출처 ✅\n",
    "- 파이썬(PY4E)코칭스터디 미션 3주차 문제 "
   ],
   "metadata": {}
  },
  {
   "cell_type": "markdown",
   "source": [
    "📌Q1. 숫자를 입력 받고 그 숫자의 구구단을 출력하는 함수를 만들어 봅시다. 다만 아래의 조건을 만족해 주세요.\n",
    "\n",
    "조건 1: 홀 수 번째만 출력하기\n",
    "\n",
    "조건 2: 값이 50이하인 것만 출력하기"
   ],
   "metadata": {}
  },
  {
   "cell_type": "code",
   "execution_count": 44,
   "source": [
    "# for 문 사용 \n",
    "def gugudan1(number):\n",
    "    print(f'{number}단')\n",
    "\n",
    "    for i in range(1,10):\n",
    "        if i % 2 != 0 and (number * i <= 50):\n",
    "            print(f'{number} X {i} = {number * i}')\n"
   ],
   "outputs": [],
   "metadata": {}
  },
  {
   "cell_type": "code",
   "execution_count": 47,
   "source": [
    "# while 반복문 사용 \n",
    "\n",
    "def gugudan2(number):\n",
    "    i = 1\n",
    "    print(f'{number}단')\n",
    "\n",
    "    while i <= 9:\n",
    "        if i %2 !=0 and (number * i <=50):\n",
    "            print(f'{number} X {i} = {number * i}')\n",
    "        # i가 9를 넘으면 반복문을 나온다 \n",
    "        i +=1 "
   ],
   "outputs": [],
   "metadata": {}
  },
  {
   "cell_type": "code",
   "execution_count": 48,
   "source": [
    "# 몇단? \n",
    "number = int(input('몇단? :'))\n",
    "gugudan2(number)"
   ],
   "outputs": [
    {
     "output_type": "stream",
     "name": "stdout",
     "text": [
      "8단\n",
      "8 X 1 = 8\n",
      "8 X 3 = 24\n",
      "8 X 5 = 40\n"
     ]
    }
   ],
   "metadata": {}
  },
  {
   "cell_type": "markdown",
   "source": [
    "📌Q2. 가위바위보 업그레이드 버젼을 함수로 만들어 봅시다. 아래와 같은 조건을 만족해 주세요.\n",
    "\n",
    "조건 1: 게임을 몇 판을 진행할 것인지 입력을 받아주기\n",
    "\n",
    "조건 2: 0, 1, 2, \"가위\", \"바위\", \"보\" 이외에 다른 입력을 받으면 재입력 받기\n",
    "\n",
    "조건 3: 게임종료 후 나와 컴퓨터의 총 전적 출력하기"
   ],
   "metadata": {}
  },
  {
   "cell_type": "code",
   "execution_count": 26,
   "source": [
    "import random\n",
    "\n",
    "def rsp_advanced(games): \n",
    "    # 최종 결과 도출을 counting 하기 위햔 초기값 설치\n",
    "    my_win, my_lose = 0,0\n",
    "    computer_win, computer_lose = 0,0\n",
    "    draw = 0\n",
    "\n",
    "    for i in range(games):\n",
    "        # 입력값이 잘못되면 재입력 받기 \n",
    "        while True:\n",
    "            my = input('가위 바위 보 : ')\n",
    "            if my not in ['0','1','2','가위','바위','보']:\n",
    "                print('Error: 올바른 값을 입력하세요')\n",
    "                continue \n",
    "            else:\n",
    "                break\n",
    "\n",
    "        # my 값을 숫자로 받은 경우 글자로 변환 \n",
    "        if my == '0':\n",
    "             my = '가위'\n",
    "        elif my =='1':\n",
    "            my = '바위'\n",
    "        else:\n",
    "            my = '보'\n",
    "\n",
    "        # 컴퓨터 값 입력 받기 \n",
    "        computer = random.randint(0,2)\n",
    "        if computer == 0:\n",
    "            computer = '가위'\n",
    "        elif computer == 1:\n",
    "            computer = '바위'\n",
    "        else:\n",
    "            computer = '보'\n",
    "        \n",
    "        # 비긴 경우\n",
    "        if my == computer :\n",
    "            draw += 1 \n",
    "            print(f'나 : {my}')\n",
    "            print(f'컴퓨터 : {computer}')\n",
    "            print(f'{i+1}번째 판 비김!')\n",
    "        \n",
    "        # 다른 경우의 수 6가지 \n",
    "        elif my =='가위' and computer == '바위':\n",
    "            computer_win += 1\n",
    "            my_lose += 1\n",
    "            print(f'나 : {my}')\n",
    "            print(f'컴퓨터 : {computer}')\n",
    "            print(f'{i+1}번째 판 컴퓨터 승리!')\n",
    "        elif my =='가위' and computer =='보':\n",
    "            my_win += 1\n",
    "            computer_lose += 1\n",
    "            print(f'나 : {my}')\n",
    "            print(f'컴퓨터 : {computer}')\n",
    "            print(f'{i+1}번째 판 나의 승리!')\n",
    "        elif my == '바위' and computer =='가위':\n",
    "            my_win += 1\n",
    "            computer_lose += 1\n",
    "            print(f'나 : {my}')\n",
    "            print(f'컴퓨터 : {computer}')\n",
    "            print(f'{i+1}번째 판 나의 승리!')\n",
    "        elif my == '바위' and computer == '보':\n",
    "            my_lose += 1\n",
    "            print(f'나 : {my}')\n",
    "            print(f'컴퓨터 : {computer}')\n",
    "            print(f'{i+1}번째 판 컴퓨터 승리!')                       \n",
    "        elif my == '보' and computer =='가위':\n",
    "            my_lose += 1\n",
    "            print(f'나 : {my}')\n",
    "            print(f'컴퓨터 : {computer}')\n",
    "            print(f'{i+1}번째 판 컴퓨터 승리!') \n",
    "        elif my =='보' and computer == '바위':\n",
    "            my_win += 1\n",
    "            computer_lose += 1\n",
    "            print(f'나 : {my}')\n",
    "            print(f'컴퓨터 : {computer}')\n",
    "            print(f'{i+1}번째 판 나의 승리!')\n",
    "\n",
    "    print(f'나의 전적:{my_win}승 {draw}무 {my_lose}패')\n",
    "    print(f'컴퓨터의 전적: {computer_win}승 {draw}무 {computer_lose}패')           \n"
   ],
   "outputs": [],
   "metadata": {}
  },
  {
   "cell_type": "code",
   "execution_count": 27,
   "source": [
    "# 조건 1 : 게임을 몇 판 진행할 것인지 입력 받기 \n",
    "games = int(input(\"몇 판을 진행하시겠습니까? : \"))\n",
    "rsp_advanced(games)"
   ],
   "outputs": [
    {
     "output_type": "stream",
     "name": "stdout",
     "text": [
      "나 : 보\n",
      "컴퓨터 : 가위\n",
      "1번째 판 컴퓨터 승리!\n",
      "나 : 보\n",
      "컴퓨터 : 보\n",
      "2번째 판 비김!\n",
      "나의 전적:0승 1무 1패\n",
      "컴퓨터의 전적: 0승 1무 0패\n"
     ]
    }
   ],
   "metadata": {}
  },
  {
   "cell_type": "markdown",
   "source": [
    "📌Q3. 2개의 숫자를 입력하여 그 사이에 짝수만 출력하는 함수를 만들어 봅시다. 그리고 중앙값도 함께 출력 해봅시다.(단, 중앙값이 짝수가 아닐 경우에는 중앙값은 출력을 하지 않고, 짝수인 수만 출력한다)\n",
    "\n",
    "- 중앙값: 정중앙에 있는 값\n",
    "    - [중앙값 공식](https://mathbang.net/116)\n",
    "\n",
    "\n",
    "- 특정 두 숫자 사이의 수들을 리스트로 만드는 법"
   ],
   "metadata": {}
  },
  {
   "cell_type": "code",
   "execution_count": 1,
   "source": [
    "# range(시작 숫자, 끝 숫자 + 1)\n",
    "n = 1\n",
    "m = 10\n",
    "numbers = [ i for i in range(n,m+1)] \n"
   ],
   "outputs": [],
   "metadata": {}
  },
  {
   "cell_type": "code",
   "execution_count": 31,
   "source": [
    "def find_even_number(n,m):\n",
    "    numbers = [i for i in range(n, m+1)]\n",
    "    for i in numbers :\n",
    "        if i % 2 == 0 :\n",
    "            print(f'{i} 짝수')\n",
    "            # numbers 갯수 홀수\n",
    "            if len(numbers) % 2 != 0 and i ==(m+1) // 2:\n",
    "                print(f'{i} 중앙값') \n",
    "            # numbers 갯수 짝수 \n",
    "            elif len(numbers) % 2 ==0 and i == ((m/2) + (m/2)+1 ) //2:\n",
    "                print(f'{i} 중앙값')   "
   ],
   "outputs": [],
   "metadata": {}
  },
  {
   "cell_type": "code",
   "execution_count": 33,
   "source": [
    "n = int(input(\"첫 번째 수 입력 : \"))\n",
    "m = int(input(\"두 번째 수 입력 : \"))\n",
    "find_even_number(n, m)"
   ],
   "outputs": [
    {
     "output_type": "stream",
     "name": "stdout",
     "text": [
      "2 짝수\n",
      "4 짝수\n",
      "6 짝수\n",
      "6 중앙값\n",
      "8 짝수\n",
      "10 짝수\n"
     ]
    }
   ],
   "metadata": {}
  },
  {
   "cell_type": "markdown",
   "source": [
    "📌Q4. 2개의 숫자를 입력하여 그 사이에 소수가 몇 개인지 출력하는 함수를 만들어 봅시다.\n",
    "\n",
    "- 소수: 1과 자기 자신만을 약수로 가지는 수"
   ],
   "metadata": {}
  },
  {
   "cell_type": "code",
   "execution_count": 53,
   "source": [
    "def count_prime_number(n,m):\n",
    "    count = 0\n",
    "    for i in range(n,m):\n",
    "        not_prime = 0 \n",
    "        if i < 2:\n",
    "            continue \n",
    "        for j in range(2,i):\n",
    "            if i % j ==0:\n",
    "                not_prime += 1\n",
    "        # 다른수와 나눠지는 경우가 없으면 소수 \n",
    "        if not_prime ==0:\n",
    "            count += 1\n",
    "            # 소수 출력 \n",
    "            print(i)\n",
    "\n",
    "    print(f'소수개수: {count}')"
   ],
   "outputs": [],
   "metadata": {}
  },
  {
   "cell_type": "code",
   "execution_count": 54,
   "source": [
    "n = int(input(\"첫 번째 수 입력 : \"))\n",
    "m = int(input(\"두 번째 수 입력 : \"))\n",
    "\n",
    "count_prime_number(n, m)"
   ],
   "outputs": [
    {
     "output_type": "stream",
     "name": "stdout",
     "text": [
      "2\n",
      "3\n",
      "소수개수: 2\n"
     ]
    }
   ],
   "metadata": {}
  },
  {
   "cell_type": "code",
   "execution_count": null,
   "source": [],
   "outputs": [],
   "metadata": {}
  }
 ],
 "metadata": {
  "orig_nbformat": 4,
  "language_info": {
   "name": "python",
   "version": "3.8.11",
   "mimetype": "text/x-python",
   "codemirror_mode": {
    "name": "ipython",
    "version": 3
   },
   "pygments_lexer": "ipython3",
   "nbconvert_exporter": "python",
   "file_extension": ".py"
  },
  "kernelspec": {
   "name": "python3",
   "display_name": "Python 3.8.11 64-bit ('base': conda)"
  },
  "interpreter": {
   "hash": "59aa76eec713a2e656bb9d4ddb5f36b21f3d4006b36f877fc5669415524b1415"
  }
 },
 "nbformat": 4,
 "nbformat_minor": 2
}