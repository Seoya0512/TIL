{
 "cells": [
  {
   "cell_type": "markdown",
   "source": [
    "## 스택(Stack), First in Last out"
   ],
   "metadata": {}
  },
  {
   "cell_type": "code",
   "execution_count": 14,
   "source": [
    "stack =[None, None, None, None, None]\n",
    "top = -1            # stack 초기 상태\n",
    "\n",
    "# push\n",
    "top += 1\n",
    "stack[top] = '커피'     # push\n",
    "top += 1\n",
    "stack[top] = '녹차'\n",
    "top += 1\n",
    "stack[top] = '꿀물'\n",
    "\n",
    "print(stack)"
   ],
   "outputs": [
    {
     "output_type": "stream",
     "name": "stdout",
     "text": [
      "['커피', '녹차', '꿀물', None, None]\n"
     ]
    }
   ],
   "metadata": {}
  },
  {
   "cell_type": "code",
   "execution_count": 15,
   "source": [
    "data = stack[top]\n",
    "stack[top] = None\n",
    "top -= 1\n",
    "print('Pop -->', data)\n",
    "\n",
    "data = stack[top]\n",
    "stack[top] = None\n",
    "top -= 1\n",
    "print('Pop -->', data)\n",
    "\n",
    "data = stack[top]\n",
    "stack[top] = None\n",
    "top -= 1\n",
    "print('Pop -->', data)\n",
    "\n",
    "print(stack)"
   ],
   "outputs": [
    {
     "output_type": "stream",
     "name": "stdout",
     "text": [
      "Pop --> 꿀물\n",
      "Pop --> 녹차\n",
      "Pop --> 커피\n",
      "[None, None, None, None, None]\n"
     ]
    }
   ],
   "metadata": {}
  },
  {
   "cell_type": "code",
   "execution_count": null,
   "source": [],
   "outputs": [],
   "metadata": {}
  }
 ],
 "metadata": {
  "orig_nbformat": 4,
  "language_info": {
   "name": "python",
   "version": "3.8.11",
   "mimetype": "text/x-python",
   "codemirror_mode": {
    "name": "ipython",
    "version": 3
   },
   "pygments_lexer": "ipython3",
   "nbconvert_exporter": "python",
   "file_extension": ".py"
  },
  "kernelspec": {
   "name": "python3",
   "display_name": "Python 3.8.11 64-bit ('base': conda)"
  },
  "interpreter": {
   "hash": "59aa76eec713a2e656bb9d4ddb5f36b21f3d4006b36f877fc5669415524b1415"
  }
 },
 "nbformat": 4,
 "nbformat_minor": 2
}