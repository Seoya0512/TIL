{
 "cells": [
  {
   "cell_type": "code",
   "execution_count": 44,
   "source": [
    "# 함수 선언부 \n",
    "def isStackFull():                          # stack이 꽉찼는지 확인해야한다\n",
    "    global SIZE, stack, top\n",
    "    if (top== SIZE-1):\n",
    "        return True\n",
    "    else:\n",
    "        return False\n",
    "\n",
    "def push(data):\n",
    "    global SIZE, stack, top\n",
    "    if (isStackFull()):\n",
    "        print('스택이 꽉 찼습니다')\n",
    "        return\n",
    "    top += 1\n",
    "    stack[top] = data \n",
    "\n",
    "def isStackEmpty():\n",
    "    global SIZE, stack, top\n",
    "    if (top == -1):\n",
    "        return True\n",
    "    else:\n",
    "        return False\n",
    "\n",
    "def pop():\n",
    "    global SIZE, stack, top\n",
    "    if (isStackEmpty()):\n",
    "        print('스택이 비어있습니다')\n",
    "        return None\n",
    "    data = stack[top]\n",
    "    stack[top] = None\n",
    "    top -= 1\n",
    "    return data"
   ],
   "outputs": [],
   "metadata": {}
  },
  {
   "cell_type": "code",
   "execution_count": 41,
   "source": [
    "# 전역 변수부\n",
    "SIZE = 5\n",
    "stack = [None for _ in range(SIZE)]\n",
    "top = -1"
   ],
   "outputs": [],
   "metadata": {}
  },
  {
   "cell_type": "code",
   "execution_count": 42,
   "source": [
    "# 메인 코드부"
   ],
   "outputs": [],
   "metadata": {}
  },
  {
   "cell_type": "code",
   "execution_count": 43,
   "source": [
    "# stack = ['커피', '녹차', '꿀물','콜라','환타']\n",
    "# top = 4\n",
    "\n",
    "push('커피1')\n",
    "push('커피2')\n",
    "print(stack)\n",
    "\n",
    "data= pop()\n",
    "print(data)\n",
    "data= pop()\n",
    "print(data)\n",
    "data= pop()\n",
    "print(data)"
   ],
   "outputs": [
    {
     "output_type": "stream",
     "name": "stdout",
     "text": [
      "['커피1', '커피2', None, None, None]\n",
      "커피2\n",
      "커피1\n",
      "스택이 비어있습니다\n",
      "None\n"
     ]
    }
   ],
   "metadata": {}
  },
  {
   "cell_type": "code",
   "execution_count": null,
   "source": [],
   "outputs": [],
   "metadata": {}
  }
 ],
 "metadata": {
  "orig_nbformat": 4,
  "language_info": {
   "name": "python",
   "version": "3.8.11",
   "mimetype": "text/x-python",
   "codemirror_mode": {
    "name": "ipython",
    "version": 3
   },
   "pygments_lexer": "ipython3",
   "nbconvert_exporter": "python",
   "file_extension": ".py"
  },
  "kernelspec": {
   "name": "python3",
   "display_name": "Python 3.8.11 64-bit ('base': conda)"
  },
  "interpreter": {
   "hash": "59aa76eec713a2e656bb9d4ddb5f36b21f3d4006b36f877fc5669415524b1415"
  }
 },
 "nbformat": 4,
 "nbformat_minor": 2
}