{
 "cells": [
  {
   "cell_type": "markdown",
   "source": [
    "## 메인함수"
   ],
   "metadata": {}
  },
  {
   "cell_type": "code",
   "execution_count": 2,
   "source": [
    "def openBox():\n",
    "    global count\n",
    "    print('상자 열기')\n",
    "    count -= 1\n",
    "    if count == 0:\n",
    "        print('**선물 넣기 **')\n",
    "        return \n",
    "\n",
    "    openBox()\n",
    "    print('~~ 상자 닫기')\n",
    "    \n"
   ],
   "outputs": [],
   "metadata": {}
  },
  {
   "cell_type": "code",
   "execution_count": 5,
   "source": [
    "count = 5\n"
   ],
   "outputs": [],
   "metadata": {}
  },
  {
   "cell_type": "code",
   "execution_count": 4,
   "source": [
    "openBox()"
   ],
   "outputs": [
    {
     "output_type": "stream",
     "name": "stdout",
     "text": [
      "상자 열기\n",
      "상자 열기\n",
      "상자 열기\n",
      "상자 열기\n",
      "상자 열기\n",
      "상자 열기\n",
      "상자 열기\n",
      "상자 열기\n",
      "상자 열기\n",
      "상자 열기\n",
      "**선물 넣기 **\n",
      "~~ 상자 닫기\n",
      "~~ 상자 닫기\n",
      "~~ 상자 닫기\n",
      "~~ 상자 닫기\n",
      "~~ 상자 닫기\n",
      "~~ 상자 닫기\n",
      "~~ 상자 닫기\n",
      "~~ 상자 닫기\n",
      "~~ 상자 닫기\n"
     ]
    }
   ],
   "metadata": {}
  },
  {
   "cell_type": "code",
   "execution_count": null,
   "source": [],
   "outputs": [],
   "metadata": {}
  }
 ],
 "metadata": {
  "orig_nbformat": 4,
  "language_info": {
   "name": "python",
   "version": "3.8.11",
   "mimetype": "text/x-python",
   "codemirror_mode": {
    "name": "ipython",
    "version": 3
   },
   "pygments_lexer": "ipython3",
   "nbconvert_exporter": "python",
   "file_extension": ".py"
  },
  "kernelspec": {
   "name": "python3",
   "display_name": "Python 3.8.11 64-bit ('base': conda)"
  },
  "interpreter": {
   "hash": "59aa76eec713a2e656bb9d4ddb5f36b21f3d4006b36f877fc5669415524b1415"
  }
 },
 "nbformat": 4,
 "nbformat_minor": 2
}