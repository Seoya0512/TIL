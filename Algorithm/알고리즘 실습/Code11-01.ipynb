{
 "cells": [
  {
   "cell_type": "markdown",
   "source": [
    "# 선택 정렬"
   ],
   "metadata": {}
  },
  {
   "cell_type": "code",
   "execution_count": 2,
   "source": [
    "def findMinIndex(ary):\n",
    "    minIndex = 0\n",
    "    for i in range(1, len(ary)):\n",
    "        if (ary[minIndex] > ary[i]):\n",
    "            minIndex = i\n",
    "    return minIndex\n"
   ],
   "outputs": [],
   "metadata": {}
  },
  {
   "cell_type": "code",
   "execution_count": 4,
   "source": [
    "testAry = [55, 88, 33, 77]\n",
    "minPos = findMinIndex(testAry)\n",
    "print('최솟값 --->', testAry[minPos])"
   ],
   "outputs": [
    {
     "output_type": "stream",
     "name": "stdout",
     "text": [
      "최솟값 ---> 33\n"
     ]
    }
   ],
   "metadata": {}
  },
  {
   "cell_type": "code",
   "execution_count": null,
   "source": [],
   "outputs": [],
   "metadata": {}
  }
 ],
 "metadata": {
  "orig_nbformat": 4,
  "language_info": {
   "name": "python",
   "version": "3.8.11",
   "mimetype": "text/x-python",
   "codemirror_mode": {
    "name": "ipython",
    "version": 3
   },
   "pygments_lexer": "ipython3",
   "nbconvert_exporter": "python",
   "file_extension": ".py"
  },
  "kernelspec": {
   "name": "python3",
   "display_name": "Python 3.8.11 64-bit ('base': conda)"
  },
  "interpreter": {
   "hash": "59aa76eec713a2e656bb9d4ddb5f36b21f3d4006b36f877fc5669415524b1415"
  }
 },
 "nbformat": 4,
 "nbformat_minor": 2
}