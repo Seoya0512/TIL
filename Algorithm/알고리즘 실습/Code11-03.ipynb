{
 "cells": [
  {
   "cell_type": "markdown",
   "source": [
    "# 기본 정렬 알고리즘"
   ],
   "metadata": {}
  },
  {
   "cell_type": "markdown",
   "source": [
    "### 함수 선언부\n",
    "- 외우는 것을 권함"
   ],
   "metadata": {}
  },
  {
   "cell_type": "code",
   "execution_count": 8,
   "source": [
    "def selectionSort(ary):\n",
    "    n = len(ary)\n",
    "    for i in range(0, n-1):\n",
    "        minIndex = i\n",
    "        for k in range(i+1, n) :            # 사이클에서 몇번 반복하는지\n",
    "            if ary[minIndex] > ary[k]:\n",
    "                minIndex = k\n",
    "        ary[i], ary[minIndex] = ary[minIndex], ary[i]\n",
    "\n",
    "    return ary\n"
   ],
   "outputs": [],
   "metadata": {}
  },
  {
   "cell_type": "markdown",
   "source": [
    "## 전역 변수부"
   ],
   "metadata": {}
  },
  {
   "cell_type": "code",
   "execution_count": 9,
   "source": [
    "import random\n",
    "dataAry = [random.randint(33,190) for _ in range(20)]"
   ],
   "outputs": [],
   "metadata": {}
  },
  {
   "cell_type": "markdown",
   "source": [
    "### 메인 코드부"
   ],
   "metadata": {}
  },
  {
   "cell_type": "code",
   "execution_count": 10,
   "source": [
    "print('정렬 전 -->' , dataAry )\n",
    "dataAry = selectionSort(dataAry)\n",
    "\n",
    "print('정렬 후 -->' , dataAry )"
   ],
   "outputs": [
    {
     "output_type": "stream",
     "name": "stdout",
     "text": [
      "정렬 전 --> [109, 63, 108, 107, 134, 72, 134, 106, 103, 127, 176, 152, 180, 90, 111, 120, 181, 180, 159, 159]\n",
      "정렬 후 --> [63, 72, 90, 103, 106, 107, 108, 109, 111, 120, 127, 134, 134, 152, 159, 159, 176, 180, 180, 181]\n"
     ]
    }
   ],
   "metadata": {}
  },
  {
   "cell_type": "code",
   "execution_count": null,
   "source": [],
   "outputs": [],
   "metadata": {}
  }
 ],
 "metadata": {
  "orig_nbformat": 4,
  "language_info": {
   "name": "python",
   "version": "3.8.11",
   "mimetype": "text/x-python",
   "codemirror_mode": {
    "name": "ipython",
    "version": 3
   },
   "pygments_lexer": "ipython3",
   "nbconvert_exporter": "python",
   "file_extension": ".py"
  },
  "kernelspec": {
   "name": "python3",
   "display_name": "Python 3.8.11 64-bit ('base': conda)"
  },
  "interpreter": {
   "hash": "59aa76eec713a2e656bb9d4ddb5f36b21f3d4006b36f877fc5669415524b1415"
  }
 },
 "nbformat": 4,
 "nbformat_minor": 2
}