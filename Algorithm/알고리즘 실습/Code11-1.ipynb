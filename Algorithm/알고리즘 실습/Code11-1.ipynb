{
 "cells": [
  {
   "cell_type": "markdown",
   "source": [
    "## 함수 선언부"
   ],
   "metadata": {}
  },
  {
   "cell_type": "code",
   "execution_count": 32,
   "source": [
    "def findMinIndex(ary):\n",
    "    minIndex = 0\n",
    "    for i in range(1, len(ary)):\n",
    "        if (ary[minIndex] > ary[i]):\n",
    "            minIndex = i\n",
    "    return minIndex\n"
   ],
   "outputs": [],
   "metadata": {}
  },
  {
   "cell_type": "markdown",
   "source": [
    "## 전역 변수부"
   ],
   "metadata": {}
  },
  {
   "cell_type": "code",
   "execution_count": 33,
   "source": [
    "import random"
   ],
   "outputs": [],
   "metadata": {}
  },
  {
   "cell_type": "code",
   "execution_count": 34,
   "source": [
    "before = [random.randint(33,190) for _ in range(20)]\n",
    "after = [ ]"
   ],
   "outputs": [],
   "metadata": {}
  },
  {
   "cell_type": "markdown",
   "source": [
    "## 메인 코드부"
   ],
   "metadata": {}
  },
  {
   "cell_type": "code",
   "execution_count": 35,
   "source": [
    "print('정렬 전 -->' , before)"
   ],
   "outputs": [
    {
     "output_type": "stream",
     "name": "stdout",
     "text": [
      "정렬 전 --> [79, 92, 130, 94, 74, 143, 96, 73, 113, 100, 138, 112, 130, 165, 64, 44, 187, 49, 179, 148]\n"
     ]
    }
   ],
   "metadata": {}
  },
  {
   "cell_type": "code",
   "execution_count": 36,
   "source": [
    "mini = 0\n",
    "for _ in range(len(before)):\n",
    "    mini = findMinIndex(before)\n",
    "    after.append(before[mini])\n",
    "    del(before[mini])"
   ],
   "outputs": [],
   "metadata": {}
  },
  {
   "cell_type": "code",
   "execution_count": 37,
   "source": [
    "print('정렬 후', after)"
   ],
   "outputs": [
    {
     "output_type": "stream",
     "name": "stdout",
     "text": [
      "정렬 후 [44, 49, 64, 73, 74, 79, 92, 94, 96, 100, 112, 113, 130, 130, 138, 143, 148, 165, 179, 187]\n"
     ]
    }
   ],
   "metadata": {}
  },
  {
   "cell_type": "code",
   "execution_count": null,
   "source": [],
   "outputs": [],
   "metadata": {}
  }
 ],
 "metadata": {
  "orig_nbformat": 4,
  "language_info": {
   "name": "python",
   "version": "3.8.11",
   "mimetype": "text/x-python",
   "codemirror_mode": {
    "name": "ipython",
    "version": 3
   },
   "pygments_lexer": "ipython3",
   "nbconvert_exporter": "python",
   "file_extension": ".py"
  },
  "kernelspec": {
   "name": "python3",
   "display_name": "Python 3.8.11 64-bit ('base': conda)"
  },
  "interpreter": {
   "hash": "59aa76eec713a2e656bb9d4ddb5f36b21f3d4006b36f877fc5669415524b1415"
  }
 },
 "nbformat": 4,
 "nbformat_minor": 2
}