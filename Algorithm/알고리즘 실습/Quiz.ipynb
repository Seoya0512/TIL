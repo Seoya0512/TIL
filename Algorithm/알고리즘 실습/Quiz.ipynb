{
 "cells": [
  {
   "cell_type": "markdown",
   "source": [
    "# 함수 선언부"
   ],
   "metadata": {}
  },
  {
   "cell_type": "code",
   "execution_count": 32,
   "source": [
    "def selectionSort(ary):\n",
    "    n = len(ary)\n",
    "    for i in range(0, n-1):\n",
    "        maxIndex = i\n",
    "        for k in range(i+1, n):\n",
    "            if ary[maxIndex] > ary[k]:\n",
    "                maxIndex = k\n",
    "        ary[i], ary[maxIndex] = ary[maxIndex], ary[i]\n",
    "    return ary "
   ],
   "outputs": [],
   "metadata": {}
  },
  {
   "cell_type": "markdown",
   "source": [
    "## 전역 변수부"
   ],
   "metadata": {}
  },
  {
   "cell_type": "code",
   "execution_count": 25,
   "source": [
    "import random\n",
    "dataAry=[random.randint(-100,100) for _ in range(30)]"
   ],
   "outputs": [],
   "metadata": {}
  },
  {
   "cell_type": "markdown",
   "source": [
    "## 메인 코드부"
   ],
   "metadata": {}
  },
  {
   "cell_type": "code",
   "execution_count": 33,
   "source": [
    "print('정렬 전 -->' , dataAry )\n",
    "dataAry = selectionSort(dataAry)\n",
    "print('정렬 후 -->' , dataAry )"
   ],
   "outputs": [
    {
     "output_type": "stream",
     "name": "stdout",
     "text": [
      "정렬 전 --> [-94, -86, -80, -71, -70, -66, -62, -46, -34, -31, -29, -20, -7, 11, 18, 19, 24, 25, 37, 53, 64, 77, 77, 78, 80, 82, 89, 95, 97, 99]\n",
      "정렬 후 --> [-94, -86, -80, -71, -70, -66, -62, -46, -34, -31, -29, -20, -7, 11, 18, 19, 24, 25, 37, 53, 64, 77, 77, 78, 80, 82, 89, 95, 97, 99]\n"
     ]
    }
   ],
   "metadata": {}
  },
  {
   "cell_type": "code",
   "execution_count": null,
   "source": [],
   "outputs": [],
   "metadata": {}
  }
 ],
 "metadata": {
  "orig_nbformat": 4,
  "language_info": {
   "name": "python",
   "version": "3.8.11",
   "mimetype": "text/x-python",
   "codemirror_mode": {
    "name": "ipython",
    "version": 3
   },
   "pygments_lexer": "ipython3",
   "nbconvert_exporter": "python",
   "file_extension": ".py"
  },
  "kernelspec": {
   "name": "python3",
   "display_name": "Python 3.8.11 64-bit ('base': conda)"
  },
  "interpreter": {
   "hash": "59aa76eec713a2e656bb9d4ddb5f36b21f3d4006b36f877fc5669415524b1415"
  }
 },
 "nbformat": 4,
 "nbformat_minor": 2
}