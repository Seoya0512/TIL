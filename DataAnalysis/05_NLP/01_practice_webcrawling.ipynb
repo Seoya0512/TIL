{
 "cells": [
  {
   "cell_type": "code",
   "execution_count": 1,
   "source": [
    "from selenium import webdriver\n",
    "from bs4 import BeautifulSoup\n",
    "import time\n",
    "import pandas as pd\n",
    "from urllib.parse import quote"
   ],
   "outputs": [],
   "metadata": {}
  },
  {
   "cell_type": "code",
   "execution_count": 2,
   "source": [
    "chromedriver ='/Users/youngseolee/Downloads/chromedriver'\n",
    "driver = webdriver.Chrome(chromedriver)"
   ],
   "outputs": [],
   "metadata": {}
  },
  {
   "cell_type": "code",
   "execution_count": 5,
   "source": [
    "# 임의의 주제로 검색한 후 View 클릭\n",
    "base_url = 'https://search.naver.com/search.naver?sm=tab_hty.top&where=view&query='\n",
    "url= base_url + quote('국내여행')"
   ],
   "outputs": [],
   "metadata": {}
  },
  {
   "cell_type": "code",
   "execution_count": 4,
   "source": [
    "driver.get(url)"
   ],
   "outputs": [],
   "metadata": {}
  },
  {
   "cell_type": "markdown",
   "source": [
    "### 제목, 작성일자, 내용 데이터 프레임 구성, 파일로 저장"
   ],
   "metadata": {}
  },
  {
   "cell_type": "code",
   "execution_count": 22,
   "source": [
    "from selenium.webdriver.common.keys import Keys\n",
    "body = driver.find_element_by_tag_name('body')\n",
    "for i in range(20):\n",
    "    body.send_keys(Keys.PAGE_DOWN)\n",
    "    time.sleep(2)"
   ],
   "outputs": [],
   "metadata": {}
  },
  {
   "cell_type": "code",
   "execution_count": 9,
   "source": [
    "html = driver.page_source\n",
    "soup = BeautifulSoup(html, 'html.parser')"
   ],
   "outputs": [],
   "metadata": {}
  },
  {
   "cell_type": "code",
   "execution_count": 23,
   "source": [
    "lis = soup.select('li.bx._svp_item')\n",
    "len(lis)"
   ],
   "outputs": [
    {
     "output_type": "execute_result",
     "data": {
      "text/plain": [
       "93"
      ]
     },
     "metadata": {},
     "execution_count": 23
    }
   ],
   "metadata": {}
  },
  {
   "cell_type": "code",
   "execution_count": 24,
   "source": [
    "# 제목, 작성일자, 내용 데이터 \n",
    "li = lis[0]\n",
    "title = li.select_one('a.api_txt_lines.total_tit').get_text()\n",
    "content = li.select_one('div.api_txt_lines.dsc_txt').get_text()\n",
    "date = li.select_one('.source_txt.date').get_text()\n",
    "\n",
    "title, date, content"
   ],
   "outputs": [
    {
     "output_type": "execute_result",
     "data": {
      "text/plain": [
       "('제주투어패스 48시간 프리패스권',\n",
       " '2021.03.23.',\n",
       " '제주여행을 준비하는 사람이라면 설렘만큼 초조함도 크기 마련! 하지만 걱정 마시라. 여행 초보도 고수로 둔갑시켜줄 제주투어패스가 있으니 2박 3일동안 관광지 프리패스 가능! 플러스 제주핫플 카페까지!...')"
      ]
     },
     "metadata": {},
     "execution_count": 24
    }
   ],
   "metadata": {}
  },
  {
   "cell_type": "code",
   "execution_count": 25,
   "source": [
    "title_list, content_list, date_list = [],[],[]\n",
    "for li in lis:\n",
    "    try:  \n",
    "        title = li.select_one('a.api_txt_lines.total_tit').get_text()\n",
    "        content = li.select_one('div.api_txt_lines.dsc_txt').get_text()\n",
    "        date = li.select_one('.source_txt.date').get_text()\n",
    "\n",
    "    except:\n",
    "        title_list.append(title)\n",
    "        content_list.append(content)\n",
    "        date_list.append(date)"
   ],
   "outputs": [],
   "metadata": {}
  },
  {
   "cell_type": "code",
   "execution_count": 28,
   "source": [
    "df = pd.DataFrame({\n",
    "    'title':title_list, 'date': date_list, 'content':content_list\n",
    "})\n",
    "df.head()"
   ],
   "outputs": [
    {
     "output_type": "execute_result",
     "data": {
      "text/plain": [
       "                             title         date  \\\n",
       "0   국내여행 6월 거제 저구항 수국 등 거제 드라이브 코스  2021.03.16.   \n",
       "1      국내 여행 추천 강원도 양구 가볼만한곳 BEST7  2021.03.16.   \n",
       "2       국내 여행지 추천 제주도 에코랜드 제주 테마파크  2021.03.16.   \n",
       "3  국내 여행지 추천 전남 가볼만한곳 여수에서 남중권시티투어  2021.03.16.   \n",
       "4         5월 국내 여행지 추천 아름다운 부산 볼거리  2021.03.16.   \n",
       "\n",
       "                                             content  \n",
       "0  거제도 여행 중에 찾은 수국명소들. 6월 국내여행은 단연 수국꽃이 대표적인데요. 제...  \n",
       "1  국내 여행 추천 명소 박수근 공원 안쪽으로 들어서면 박수근 라키비움 전시관으로 향할...  \n",
       "2  숲속 기차 여행을 할 수 있는 제주도 에코랜드는 기차를 좋아하는 아이들의 호기심을 ...  \n",
       "3  떠나는 국내 여행지 추천하게 만들었다. 총 9개 코스 중에서 남중권 누비 GO 4....  \n",
       "4  오늘은 5월 국내 여행지 추천 장소로 부산 여행지를 정리해 보여드렸는데, 5월에 부...  "
      ],
      "text/html": [
       "<div>\n",
       "<style scoped>\n",
       "    .dataframe tbody tr th:only-of-type {\n",
       "        vertical-align: middle;\n",
       "    }\n",
       "\n",
       "    .dataframe tbody tr th {\n",
       "        vertical-align: top;\n",
       "    }\n",
       "\n",
       "    .dataframe thead th {\n",
       "        text-align: right;\n",
       "    }\n",
       "</style>\n",
       "<table border=\"1\" class=\"dataframe\">\n",
       "  <thead>\n",
       "    <tr style=\"text-align: right;\">\n",
       "      <th></th>\n",
       "      <th>title</th>\n",
       "      <th>date</th>\n",
       "      <th>content</th>\n",
       "    </tr>\n",
       "  </thead>\n",
       "  <tbody>\n",
       "    <tr>\n",
       "      <th>0</th>\n",
       "      <td>국내여행 6월 거제 저구항 수국 등 거제 드라이브 코스</td>\n",
       "      <td>2021.03.16.</td>\n",
       "      <td>거제도 여행 중에 찾은 수국명소들. 6월 국내여행은 단연 수국꽃이 대표적인데요. 제...</td>\n",
       "    </tr>\n",
       "    <tr>\n",
       "      <th>1</th>\n",
       "      <td>국내 여행 추천 강원도 양구 가볼만한곳 BEST7</td>\n",
       "      <td>2021.03.16.</td>\n",
       "      <td>국내 여행 추천 명소 박수근 공원 안쪽으로 들어서면 박수근 라키비움 전시관으로 향할...</td>\n",
       "    </tr>\n",
       "    <tr>\n",
       "      <th>2</th>\n",
       "      <td>국내 여행지 추천 제주도 에코랜드 제주 테마파크</td>\n",
       "      <td>2021.03.16.</td>\n",
       "      <td>숲속 기차 여행을 할 수 있는 제주도 에코랜드는 기차를 좋아하는 아이들의 호기심을 ...</td>\n",
       "    </tr>\n",
       "    <tr>\n",
       "      <th>3</th>\n",
       "      <td>국내 여행지 추천 전남 가볼만한곳 여수에서 남중권시티투어</td>\n",
       "      <td>2021.03.16.</td>\n",
       "      <td>떠나는 국내 여행지 추천하게 만들었다. 총 9개 코스 중에서 남중권 누비 GO 4....</td>\n",
       "    </tr>\n",
       "    <tr>\n",
       "      <th>4</th>\n",
       "      <td>5월 국내 여행지 추천 아름다운 부산 볼거리</td>\n",
       "      <td>2021.03.16.</td>\n",
       "      <td>오늘은 5월 국내 여행지 추천 장소로 부산 여행지를 정리해 보여드렸는데, 5월에 부...</td>\n",
       "    </tr>\n",
       "  </tbody>\n",
       "</table>\n",
       "</div>"
      ]
     },
     "metadata": {},
     "execution_count": 28
    }
   ],
   "metadata": {}
  },
  {
   "cell_type": "code",
   "execution_count": 27,
   "source": [
    "df.shape"
   ],
   "outputs": [
    {
     "output_type": "execute_result",
     "data": {
      "text/plain": [
       "(87, 3)"
      ]
     },
     "metadata": {},
     "execution_count": 27
    }
   ],
   "metadata": {}
  },
  {
   "cell_type": "code",
   "execution_count": 29,
   "source": [
    "df.to_csv('travel.txt')"
   ],
   "outputs": [],
   "metadata": {}
  },
  {
   "cell_type": "code",
   "execution_count": 30,
   "source": [
    "driver.close()"
   ],
   "outputs": [],
   "metadata": {}
  },
  {
   "cell_type": "code",
   "execution_count": null,
   "source": [],
   "outputs": [],
   "metadata": {}
  }
 ],
 "metadata": {
  "orig_nbformat": 4,
  "language_info": {
   "name": "python",
   "version": "3.8.11",
   "mimetype": "text/x-python",
   "codemirror_mode": {
    "name": "ipython",
    "version": 3
   },
   "pygments_lexer": "ipython3",
   "nbconvert_exporter": "python",
   "file_extension": ".py"
  },
  "kernelspec": {
   "name": "python3",
   "display_name": "Python 3.8.11 64-bit ('base': conda)"
  },
  "interpreter": {
   "hash": "59aa76eec713a2e656bb9d4ddb5f36b21f3d4006b36f877fc5669415524b1415"
  }
 },
 "nbformat": 4,
 "nbformat_minor": 2
}