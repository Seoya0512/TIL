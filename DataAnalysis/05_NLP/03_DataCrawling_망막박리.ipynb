{
 "cells": [
  {
   "cell_type": "code",
   "execution_count": 1,
   "source": [
    "from selenium import webdriver\n",
    "from bs4 import BeautifulSoup\n",
    "import time\n",
    "import pandas as pd\n",
    "from urllib.parse import quote"
   ],
   "outputs": [],
   "metadata": {}
  },
  {
   "cell_type": "code",
   "execution_count": 2,
   "source": [
    "chromedriver ='/Users/youngseolee/Downloads/chromedriver'\n",
    "driver = webdriver.Chrome(chromedriver)"
   ],
   "outputs": [],
   "metadata": {}
  },
  {
   "cell_type": "code",
   "execution_count": 3,
   "source": [
    "base_url='https://search.naver.com/search.naver?where=view&sm=tab_jum&query='\n",
    "url = base_url + quote('망막박리')"
   ],
   "outputs": [],
   "metadata": {}
  },
  {
   "cell_type": "code",
   "execution_count": 4,
   "source": [
    "driver.get(url)"
   ],
   "outputs": [],
   "metadata": {}
  },
  {
   "cell_type": "code",
   "execution_count": 5,
   "source": [
    "# blog 페이지를 아래로 내려서 많은 데이터 확보\n",
    "from selenium.webdriver.common.keys import Keys\n",
    "body = driver.find_element_by_tag_name('body')\n",
    "for i in range(20):\n",
    "    body.send_keys(Keys.PAGE_DOWN)\n",
    "    time.sleep(2)"
   ],
   "outputs": [],
   "metadata": {}
  },
  {
   "cell_type": "code",
   "execution_count": 6,
   "source": [
    "html = driver.page_source\n",
    "soup = BeautifulSoup(html, 'html.parser')"
   ],
   "outputs": [],
   "metadata": {}
  },
  {
   "cell_type": "code",
   "execution_count": 7,
   "source": [
    "lis = soup.select('li.bx._svp_item')\n",
    "len(lis)"
   ],
   "outputs": [
    {
     "output_type": "execute_result",
     "data": {
      "text/plain": [
       "91"
      ]
     },
     "metadata": {},
     "execution_count": 7
    }
   ],
   "metadata": {}
  },
  {
   "cell_type": "markdown",
   "source": [
    "### 첫번째 리스트데이터 확인 \n",
    "- 제목\n",
    "- 내용\n",
    "- 날짜"
   ],
   "metadata": {}
  },
  {
   "cell_type": "code",
   "execution_count": 10,
   "source": [
    "li = lis[0]\n",
    "title = li.select_one('a.api_txt_lines.total_tit._cross_trigger').get_text()\n",
    "content = li.select_one('div.api_txt_lines.dsc_txt').get_text()\n",
    "date = li.select_one('.sub_time.sub_txt').get_text()\n",
    "\n",
    "title, date, content"
   ],
   "outputs": [
    {
     "output_type": "execute_result",
     "data": {
      "text/plain": [
       "('망막박리 무슨 질환일까요?',\n",
       " '2021.08.17.',\n",
       " '망막박리란 무엇인가? 망막은 우리 눈의 가장 안쪽에 위치해 있는 기관으로 여러 층의 막과 신경세포로 이루어져 있는 복잡한 구조물로 형태를 갖추고 있습니다. 망막은 각막과 수정체를 통과한 빛을 감지함으로써 시각...')"
      ]
     },
     "metadata": {},
     "execution_count": 10
    }
   ],
   "metadata": {}
  },
  {
   "cell_type": "markdown",
   "source": [
    "### 많은 양의 데이터 추출"
   ],
   "metadata": {}
  },
  {
   "cell_type": "code",
   "execution_count": 22,
   "source": [
    "title_list, content_list, date_list = [],[],[]\n",
    "for i,li in enumerate(lis):\n",
    "    try:\n",
    "        \n",
    "        adv = li.select_one('a.link_ad').get_text()\n",
    "        if adv.strip() == '광고':\n",
    "            continue\n",
    "    except:\n",
    "        title = li.select_one('a.api_txt_lines.total_tit._cross_trigger').get_text()\n",
    "        content = li.select_one('div.api_txt_lines.dsc_txt').get_text()\n",
    "        date = li.select_one('.sub_time.sub_txt').get_text()   \n",
    "\n",
    "        title_list.append(title)\n",
    "        content_list.append(content)\n",
    "        date_list.append(date)"
   ],
   "outputs": [],
   "metadata": {}
  },
  {
   "cell_type": "code",
   "execution_count": 23,
   "source": [
    "df = pd.DataFrame({\n",
    "    'title':title_list, 'date': date_list, 'content':content_list\n",
    "})\n",
    "df"
   ],
   "outputs": [
    {
     "output_type": "execute_result",
     "data": {
      "text/plain": [
       "                               title         date  \\\n",
       "0                     망막박리 무슨 질환일까요?  2021.08.17.   \n",
       "1                망막박리 치료방법인 공막돌륭술이란?         5일 전   \n",
       "2   범죄심리학자 이수정 교수가 겪은 ‘망막박리란?’ (+증상)  2021.08.23.   \n",
       "3        망막박리 증상, 눈 앞에 먼지 보인다면 의심해봐야  2021.08.11.   \n",
       "4             망막박리 증상 및 원인과 살펴볼 점들은?           어제   \n",
       "..                               ...          ...   \n",
       "85               [노원안과.노원구안과] 망막박리란?         6일 전   \n",
       "86                            망막박리수술  2021.06.25.   \n",
       "87                           망막박리수술후  2021.08.17.   \n",
       "88                         군복무중 망막박리  2021.05.10.   \n",
       "89                   망막박리 수술 질문드려요 ~  2021.07.11.   \n",
       "\n",
       "                                              content  \n",
       "0   망막박리란 무엇인가? 망막은 우리 눈의 가장 안쪽에 위치해 있는 기관으로 여러 층의...  \n",
       "1   망막이 안구 내벽으로부터 떨어져 들뜨게 되는 병적 상태를 망막박리라고 합니다. 망막...  \n",
       "2   망막 박리의 범위, 기간, 황반 박리 여부에 등이 병의 경과가 달라지며, 망막박리에...  \n",
       "3   박리된 망막을 다시 붙여준다 할지라도 망막박리는 여러 가지 후유증을 동반할 수 있는...  \n",
       "4   들어가 망막의 일부 또는 전부가 안구 벽과 떨어진 상태를 망막박리라고 할 수 있습니...  \n",
       "..                                                ...  \n",
       "85  열공이 있는 망막박리의 치료는 망막박리의 원인이 되는 망막열공을 막아주고, 박리된 ...  \n",
       "86  망막박리 2번째 수술을 2개월전에 실리콘오일 주입으로 했는데. 병원에서 해준의사가 ...  \n",
       "87  진료받았는데망막박리되어서구멍이나서 급하게수술해야된다고해서 정말이지제정신아니였어요ㅜ ...  \n",
       "88  군복무중 눈이 점차 안보이는 커튼현상을 겪어서 망막박리 판정을 받고 두달전 민간병원...  \n",
       "89  안녕하세요~ 일주일전 엄마복시때문에 동네 안과에갔다가 저도 검진을받았는데 망막박리라...  \n",
       "\n",
       "[90 rows x 3 columns]"
      ],
      "text/html": [
       "<div>\n",
       "<style scoped>\n",
       "    .dataframe tbody tr th:only-of-type {\n",
       "        vertical-align: middle;\n",
       "    }\n",
       "\n",
       "    .dataframe tbody tr th {\n",
       "        vertical-align: top;\n",
       "    }\n",
       "\n",
       "    .dataframe thead th {\n",
       "        text-align: right;\n",
       "    }\n",
       "</style>\n",
       "<table border=\"1\" class=\"dataframe\">\n",
       "  <thead>\n",
       "    <tr style=\"text-align: right;\">\n",
       "      <th></th>\n",
       "      <th>title</th>\n",
       "      <th>date</th>\n",
       "      <th>content</th>\n",
       "    </tr>\n",
       "  </thead>\n",
       "  <tbody>\n",
       "    <tr>\n",
       "      <th>0</th>\n",
       "      <td>망막박리 무슨 질환일까요?</td>\n",
       "      <td>2021.08.17.</td>\n",
       "      <td>망막박리란 무엇인가? 망막은 우리 눈의 가장 안쪽에 위치해 있는 기관으로 여러 층의...</td>\n",
       "    </tr>\n",
       "    <tr>\n",
       "      <th>1</th>\n",
       "      <td>망막박리 치료방법인 공막돌륭술이란?</td>\n",
       "      <td>5일 전</td>\n",
       "      <td>망막이 안구 내벽으로부터 떨어져 들뜨게 되는 병적 상태를 망막박리라고 합니다. 망막...</td>\n",
       "    </tr>\n",
       "    <tr>\n",
       "      <th>2</th>\n",
       "      <td>범죄심리학자 이수정 교수가 겪은 ‘망막박리란?’ (+증상)</td>\n",
       "      <td>2021.08.23.</td>\n",
       "      <td>망막 박리의 범위, 기간, 황반 박리 여부에 등이 병의 경과가 달라지며, 망막박리에...</td>\n",
       "    </tr>\n",
       "    <tr>\n",
       "      <th>3</th>\n",
       "      <td>망막박리 증상, 눈 앞에 먼지 보인다면 의심해봐야</td>\n",
       "      <td>2021.08.11.</td>\n",
       "      <td>박리된 망막을 다시 붙여준다 할지라도 망막박리는 여러 가지 후유증을 동반할 수 있는...</td>\n",
       "    </tr>\n",
       "    <tr>\n",
       "      <th>4</th>\n",
       "      <td>망막박리 증상 및 원인과 살펴볼 점들은?</td>\n",
       "      <td>어제</td>\n",
       "      <td>들어가 망막의 일부 또는 전부가 안구 벽과 떨어진 상태를 망막박리라고 할 수 있습니...</td>\n",
       "    </tr>\n",
       "    <tr>\n",
       "      <th>...</th>\n",
       "      <td>...</td>\n",
       "      <td>...</td>\n",
       "      <td>...</td>\n",
       "    </tr>\n",
       "    <tr>\n",
       "      <th>85</th>\n",
       "      <td>[노원안과.노원구안과] 망막박리란?</td>\n",
       "      <td>6일 전</td>\n",
       "      <td>열공이 있는 망막박리의 치료는 망막박리의 원인이 되는 망막열공을 막아주고, 박리된 ...</td>\n",
       "    </tr>\n",
       "    <tr>\n",
       "      <th>86</th>\n",
       "      <td>망막박리수술</td>\n",
       "      <td>2021.06.25.</td>\n",
       "      <td>망막박리 2번째 수술을 2개월전에 실리콘오일 주입으로 했는데. 병원에서 해준의사가 ...</td>\n",
       "    </tr>\n",
       "    <tr>\n",
       "      <th>87</th>\n",
       "      <td>망막박리수술후</td>\n",
       "      <td>2021.08.17.</td>\n",
       "      <td>진료받았는데망막박리되어서구멍이나서 급하게수술해야된다고해서 정말이지제정신아니였어요ㅜ ...</td>\n",
       "    </tr>\n",
       "    <tr>\n",
       "      <th>88</th>\n",
       "      <td>군복무중 망막박리</td>\n",
       "      <td>2021.05.10.</td>\n",
       "      <td>군복무중 눈이 점차 안보이는 커튼현상을 겪어서 망막박리 판정을 받고 두달전 민간병원...</td>\n",
       "    </tr>\n",
       "    <tr>\n",
       "      <th>89</th>\n",
       "      <td>망막박리 수술 질문드려요 ~</td>\n",
       "      <td>2021.07.11.</td>\n",
       "      <td>안녕하세요~ 일주일전 엄마복시때문에 동네 안과에갔다가 저도 검진을받았는데 망막박리라...</td>\n",
       "    </tr>\n",
       "  </tbody>\n",
       "</table>\n",
       "<p>90 rows × 3 columns</p>\n",
       "</div>"
      ]
     },
     "metadata": {},
     "execution_count": 23
    }
   ],
   "metadata": {}
  },
  {
   "cell_type": "code",
   "execution_count": 26,
   "source": [
    "df.to_csv('망막박리.txt')"
   ],
   "outputs": [],
   "metadata": {}
  },
  {
   "cell_type": "code",
   "execution_count": 25,
   "source": [
    "driver.close()"
   ],
   "outputs": [],
   "metadata": {}
  }
 ],
 "metadata": {
  "orig_nbformat": 4,
  "language_info": {
   "name": "python",
   "version": "3.8.11",
   "mimetype": "text/x-python",
   "codemirror_mode": {
    "name": "ipython",
    "version": 3
   },
   "pygments_lexer": "ipython3",
   "nbconvert_exporter": "python",
   "file_extension": ".py"
  },
  "kernelspec": {
   "name": "python3",
   "display_name": "Python 3.8.11 64-bit ('base': conda)"
  },
  "interpreter": {
   "hash": "59aa76eec713a2e656bb9d4ddb5f36b21f3d4006b36f877fc5669415524b1415"
  }
 },
 "nbformat": 4,
 "nbformat_minor": 2
}