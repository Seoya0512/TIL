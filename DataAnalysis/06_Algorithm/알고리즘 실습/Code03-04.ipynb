{
 "cells": [
  {
   "cell_type": "markdown",
   "source": [
    "## 함수선언부"
   ],
   "metadata": {}
  },
  {
   "cell_type": "code",
   "execution_count": 6,
   "source": [
    "def add_data(friend):\n",
    "    katok.append(None)\n",
    "    kLen = len(katok)           # 전체길이 파악\n",
    "    katok[kLen-1] = friend\n",
    "\n",
    "def insert_data(position, friend): \n",
    "    katok.append(None)\n",
    "    kLen =len(katok)\n",
    "    for i in range(kLen-1, position, -1):               # (마지막 자리, 지정자리, -1)\n",
    "        katok[i] = katok[i-1]                           # 한 칸씩 이동하고 정리하는 단계\n",
    "        katok[i-1]= None\n",
    "    katok[position] = friend   \n",
    "\n",
    "def delete_data(position):\n",
    "    kLen =len(katok)\n",
    "    katok[position] = None\n",
    "    \n",
    "    for i in range(position+1, kLen, 1):\n",
    "        katok[i-1] = katok[i]                   # 삭제된 자리로 앞칸으로 이동\n",
    "        katok[i] = None                         # 이동전에 있던 자리를 지움 \n",
    "\n",
    "    del(katok[kLen-1])   "
   ],
   "outputs": [],
   "metadata": {}
  },
  {
   "cell_type": "markdown",
   "source": [
    "## 전역 변수부"
   ],
   "metadata": {}
  },
  {
   "cell_type": "code",
   "execution_count": 7,
   "source": [
    "katok = []\n",
    "select = -1     # 1. 추가 2.삽입  3.삭제 4.종료 "
   ],
   "outputs": [],
   "metadata": {}
  },
  {
   "cell_type": "markdown",
   "source": [
    "## 메인 코드부"
   ],
   "metadata": {}
  },
  {
   "cell_type": "code",
   "execution_count": 9,
   "source": [
    "if__name__= '__main__'\n",
    "\n",
    "while (select !=4):\n",
    "    select= int(input(\"1. 추가 2.삽입  3.삭제 4.종료  --> \"))\n",
    "\n",
    "    if (select==1):\n",
    "        data = input('추가할 데이터 --> ')\n",
    "        add_data(data)\n",
    "    elif (select==2):\n",
    "        pos = int(input('삽입할 위치 --> '))\n",
    "        data = input('추가할 데이터 --> ')\n",
    "        insert_data(pos,data)\n",
    "    elif (select==3) :\n",
    "        pos = int(input('삭제할 위치 --> '))\n",
    "        delete_data(pos)\n",
    "    elif (select==4) :\n",
    "        print(katok)\n",
    "        break\n",
    "    else:\n",
    "        print('다시 확인!')\n",
    "        continue"
   ],
   "outputs": [],
   "metadata": {}
  },
  {
   "cell_type": "code",
   "execution_count": null,
   "source": [],
   "outputs": [],
   "metadata": {}
  }
 ],
 "metadata": {
  "orig_nbformat": 4,
  "language_info": {
   "name": "python",
   "version": "3.8.11",
   "mimetype": "text/x-python",
   "codemirror_mode": {
    "name": "ipython",
    "version": 3
   },
   "pygments_lexer": "ipython3",
   "nbconvert_exporter": "python",
   "file_extension": ".py"
  },
  "kernelspec": {
   "name": "python3",
   "display_name": "Python 3.8.11 64-bit ('base': conda)"
  },
  "interpreter": {
   "hash": "59aa76eec713a2e656bb9d4ddb5f36b21f3d4006b36f877fc5669415524b1415"
  }
 },
 "nbformat": 4,
 "nbformat_minor": 2
}