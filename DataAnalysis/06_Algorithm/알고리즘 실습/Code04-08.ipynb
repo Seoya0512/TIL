{
 "cells": [
  {
   "cell_type": "code",
   "execution_count": 57,
   "source": [
    "## 함수 선언부 \n",
    "class Node():\n",
    "    def __init__(self):\n",
    "        self.data = None\n",
    "        self.link = None\n",
    "        \n",
    "def printNodes(start):\n",
    "    current = start\n",
    "    print(current.data, end=' ')\n",
    "    while (current.link != None):           # 노드가 없을때 까지 반복 (끝)\n",
    "        current = current.link\n",
    "        print(current.data, end=' ')\n",
    "    print()\n",
    "\n",
    "def insertNode(findData, insertData):\n",
    "    global memory,head, current, pre\n",
    "    if head.data == findData:               # 첫데이터(head)가 찾는 데이터일 경우\n",
    "        node = Node()\n",
    "        node.data = insertData\n",
    "        node.link = head\n",
    "        head = node\n",
    "        memory.append(node)\n",
    "        return\n",
    "\n",
    "    current = head                          \n",
    "    # 저장하기 위해서 'pre'를 가져온다\n",
    "    while current.link != None:\n",
    "        pre = current                   # current와 함께 이동하며 판단하는 중\n",
    "        current = current.link\n",
    "        if current.data == findData:\n",
    "            node = Node()\n",
    "            node.data = insertData\n",
    "            node.link = current\n",
    "            pre.link = node\n",
    "            memory.append(node)\n",
    "            return\n",
    "\n",
    "    node= Node()            # 마지막 노드에 삽입 \n",
    "    node.data = insertData\n",
    "    current.link = node\n",
    "    memory.append(node)\n",
    "    return\n",
    "\n",
    "def deleteNode(deleteData):\n",
    "    global memory,head, current, pre\n",
    "    if head.data == deleteData:\n",
    "        current = head\n",
    "        head = head.link\n",
    "        del(current)\n",
    "    \n",
    "    current = head\n",
    "    while current.link != None:\n",
    "        pre = current\n",
    "        current = current.link\n",
    "        if current.data == deleteData:\n",
    "            pre.link = current.link\n",
    "            del(current)\n",
    "            return\n",
    "\n",
    "def findNode(findData):\n",
    "    global memory,head, current, pre\n",
    "    current = head\n",
    "    if head.data == findData:\n",
    "        return current\n",
    "    \n",
    "    while current.link != None:\n",
    "        current = current.link\n",
    "        if current.link == findData:\n",
    "            return current\n",
    "    return Node()\n",
    "\n"
   ],
   "outputs": [],
   "metadata": {}
  },
  {
   "cell_type": "code",
   "execution_count": 59,
   "source": [
    "## 전역 변수부 (메모리)\n",
    "memory = []     # 노드를 저장할 공간\n",
    "head, current, pre= None, None, None\n",
    "dataArray = ['다현', '정연', '쯔위', '사나', '지효']"
   ],
   "outputs": [],
   "metadata": {}
  },
  {
   "cell_type": "code",
   "execution_count": 61,
   "source": [
    "## 메인 코드부\n",
    "\n",
    "node= Node()    # 첫 번째 노드\n",
    "node.data = dataArray[0]\n",
    "head = node\n",
    "memory.append(node)\n",
    "\n",
    "for data in dataArray[1:]:\n",
    "    pre = node              # 전 노드를 저장\n",
    "    node = Node()\n",
    "    node.data = data\n",
    "    pre.link = node\n",
    "    memory.append(node)\n",
    "printNodes(head)"
   ],
   "outputs": [
    {
     "output_type": "stream",
     "name": "stdout",
     "text": [
      "다현 정연 쯔위 사나 지효 \n"
     ]
    }
   ],
   "metadata": {}
  }
 ],
 "metadata": {
  "orig_nbformat": 4,
  "language_info": {
   "name": "python",
   "version": "3.8.11",
   "mimetype": "text/x-python",
   "codemirror_mode": {
    "name": "ipython",
    "version": 3
   },
   "pygments_lexer": "ipython3",
   "nbconvert_exporter": "python",
   "file_extension": ".py"
  },
  "kernelspec": {
   "name": "python3",
   "display_name": "Python 3.8.11 64-bit ('base': conda)"
  },
  "interpreter": {
   "hash": "59aa76eec713a2e656bb9d4ddb5f36b21f3d4006b36f877fc5669415524b1415"
  }
 },
 "nbformat": 4,
 "nbformat_minor": 2
}