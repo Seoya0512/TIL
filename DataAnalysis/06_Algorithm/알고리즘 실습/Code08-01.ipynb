{
 "cells": [
  {
   "cell_type": "markdown",
   "source": [
    "# 이진 트리 구조"
   ],
   "metadata": {}
  },
  {
   "cell_type": "code",
   "execution_count": 1,
   "source": [
    "class TreeNod():\n",
    "    def __init__(self):\n",
    "        self.left = None\n",
    "        self.data = None\n",
    "        self.right = None\n",
    "\n",
    "node1 =TreeNod()\n",
    "node1.data = '화사'\n",
    "\n",
    "node2 = TreeNod()\n",
    "node2.data = '솔라'\n",
    "node1.left = node2\n",
    "\n",
    "node3 = TreeNod()\n",
    "node3.data = '문별'\n",
    "node1.right = node3\n",
    "\n",
    "node4 = TreeNod()\n",
    "node4.data = '휘인'\n",
    "node2.left = node4\n",
    "\n",
    "node5 = TreeNod()\n",
    "node5.data = '쯔위'\n",
    "node2.right = node5\n",
    "\n",
    "node6 = TreeNod()\n",
    "node6.data ='선미'\n",
    "node3.left = node6"
   ],
   "outputs": [],
   "metadata": {}
  },
  {
   "cell_type": "code",
   "execution_count": 3,
   "source": [
    "print(node1.data, end=' ')\n",
    "print()\n",
    "\n",
    "print(node1.left.data, node1.right.data, end=' ')\n",
    "print()\n",
    "\n",
    "print(node1.left.left.data, node1.left.right.data, node1.right.left.data, end=' ')\n",
    "print()"
   ],
   "outputs": [
    {
     "output_type": "stream",
     "name": "stdout",
     "text": [
      "화사 \n",
      "솔라 문별 \n",
      "휘인 쯔위 선미 \n"
     ]
    }
   ],
   "metadata": {}
  },
  {
   "cell_type": "code",
   "execution_count": null,
   "source": [],
   "outputs": [],
   "metadata": {}
  }
 ],
 "metadata": {
  "orig_nbformat": 4,
  "language_info": {
   "name": "python",
   "version": "3.8.11",
   "mimetype": "text/x-python",
   "codemirror_mode": {
    "name": "ipython",
    "version": 3
   },
   "pygments_lexer": "ipython3",
   "nbconvert_exporter": "python",
   "file_extension": ".py"
  },
  "kernelspec": {
   "name": "python3",
   "display_name": "Python 3.8.11 64-bit ('base': conda)"
  },
  "interpreter": {
   "hash": "59aa76eec713a2e656bb9d4ddb5f36b21f3d4006b36f877fc5669415524b1415"
  }
 },
 "nbformat": 4,
 "nbformat_minor": 2
}