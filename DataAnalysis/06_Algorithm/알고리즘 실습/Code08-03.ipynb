{
 "cells": [
  {
   "cell_type": "markdown",
   "source": [
    "# 이진 탐색 트리구조"
   ],
   "metadata": {}
  },
  {
   "cell_type": "markdown",
   "source": [
    "## 함수"
   ],
   "metadata": {}
  },
  {
   "cell_type": "code",
   "execution_count": 3,
   "source": [
    "class TreeNod():\n",
    "    def __init__(self):\n",
    "        self.left = None\n",
    "        self.data = None\n",
    "        self.right = None"
   ],
   "outputs": [],
   "metadata": {}
  },
  {
   "cell_type": "markdown",
   "source": [
    "## 전역"
   ],
   "metadata": {}
  },
  {
   "cell_type": "code",
   "execution_count": 4,
   "source": [
    "memory = []\n",
    "root = None\n",
    "nameAry =['블랙핑크', '레드벨벳', '마마무', '에이핑크', '걸스데이', '트와이스']"
   ],
   "outputs": [],
   "metadata": {}
  },
  {
   "cell_type": "markdown",
   "source": [
    "## 메인 함수"
   ],
   "metadata": {}
  },
  {
   "cell_type": "code",
   "execution_count": 7,
   "source": [
    "# 이진 탐색 트리\n",
    "\n",
    "node = TreeNod()\n",
    "node.data =nameAry[0]\n",
    "root = node\n",
    "memory.append(node)\n",
    "\n",
    "for name in nameAry[1:]:\n",
    "    node =TreeNod()\n",
    "    node.data = name\n",
    "\n",
    "    current = root\n",
    "    while True : \n",
    "        if name < current.data :\n",
    "            if current.left == None:\n",
    "                current.left = node\n",
    "                break\n",
    "            current = current.left\n",
    "        else:\n",
    "            if current.right == None:\n",
    "                current.right = node\n",
    "                break \n",
    "            current = current.right\n",
    "    memory.append(node)\n",
    "\n",
    "print('이진 탐색 트리 구성 완료!')"
   ],
   "outputs": [
    {
     "output_type": "stream",
     "name": "stdout",
     "text": [
      "이진 탐색 트리 구성 완료!\n"
     ]
    }
   ],
   "metadata": {}
  },
  {
   "cell_type": "markdown",
   "source": [
    "## 데이터 검색"
   ],
   "metadata": {}
  },
  {
   "cell_type": "code",
   "execution_count": 9,
   "source": [
    "findData = '바바무'\n",
    "current = root\n",
    "\n",
    "while True:\n",
    "    if current.data == findData :\n",
    "        print(findData, '찾았음!')\n",
    "        break\n",
    "    elif findData < current.data :\n",
    "        if current.left == None:\n",
    "            print(findData, '없음')\n",
    "            break\n",
    "        current = current.left \n",
    "    else:\n",
    "        if current.right == None:\n",
    "            print(findData, '없음')\n",
    "            break\n",
    "        current = current.right\n"
   ],
   "outputs": [
    {
     "output_type": "stream",
     "name": "stdout",
     "text": [
      "바바무 없음\n"
     ]
    }
   ],
   "metadata": {}
  },
  {
   "cell_type": "code",
   "execution_count": null,
   "source": [],
   "outputs": [],
   "metadata": {}
  }
 ],
 "metadata": {
  "orig_nbformat": 4,
  "language_info": {
   "name": "python",
   "version": "3.8.11",
   "mimetype": "text/x-python",
   "codemirror_mode": {
    "name": "ipython",
    "version": 3
   },
   "pygments_lexer": "ipython3",
   "nbconvert_exporter": "python",
   "file_extension": ".py"
  },
  "kernelspec": {
   "name": "python3",
   "display_name": "Python 3.8.11 64-bit ('base': conda)"
  },
  "interpreter": {
   "hash": "59aa76eec713a2e656bb9d4ddb5f36b21f3d4006b36f877fc5669415524b1415"
  }
 },
 "nbformat": 4,
 "nbformat_minor": 2
}