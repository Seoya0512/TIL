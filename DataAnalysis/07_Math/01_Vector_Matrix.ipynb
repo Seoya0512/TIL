{
  "nbformat": 4,
  "nbformat_minor": 0,
  "metadata": {
    "colab": {
      "name": "Numpy01.ipynb",
      "provenance": []
    },
    "kernelspec": {
      "name": "python3",
      "display_name": "Python 3"
    },
    "language_info": {
      "name": "python"
    }
  },
  "cells": [
    {
      "cell_type": "markdown",
      "metadata": {
        "id": "cfw9OEl-ILDZ"
      },
      "source": [
        "### Numpy를 활용한 벡터,행렬 연산 \n",
        "- 참고자료 : [데이터사이언스스쿨](http://datascienceschool.net/intro.html)"
      ]
    },
    {
      "cell_type": "code",
      "metadata": {
        "id": "gUK-GJJ_nwa7"
      },
      "source": [
        "import numpy as np\n",
        "import matplotlib.pyplot as plt"
      ],
      "execution_count": 2,
      "outputs": []
    },
    {
      "cell_type": "code",
      "metadata": {
        "colab": {
          "base_uri": "https://localhost:8080/"
        },
        "id": "48jdXv6xn1yz",
        "outputId": "e3a1372f-74a5-40a4-dc60-d8bae7bc534c"
      },
      "source": [
        "from sklearn.datasets import load_iris\n",
        "\n",
        "iris = load_iris()\n",
        "iris.data[0, :]"
      ],
      "execution_count": 3,
      "outputs": [
        {
          "output_type": "execute_result",
          "data": {
            "text/plain": [
              "array([5.1, 3.5, 1.4, 0.2])"
            ]
          },
          "metadata": {},
          "execution_count": 3
        }
      ]
    },
    {
      "cell_type": "markdown",
      "metadata": {
        "id": "CQFVEYe6pDhD"
      },
      "source": [
        "* 연습문제 2.1.1 "
      ]
    },
    {
      "cell_type": "code",
      "metadata": {
        "colab": {
          "base_uri": "https://localhost:8080/"
        },
        "id": "YoLSXNN8oEg1",
        "outputId": "e320b0c0-d21c-4198-dde1-0eb4464422ec"
      },
      "source": [
        "# 2차원 백터로 표현하기\n",
        "x2 = np.array([[4.9], [3.0], [1.4], [0.2]])\n",
        "x2"
      ],
      "execution_count": 8,
      "outputs": [
        {
          "output_type": "execute_result",
          "data": {
            "text/plain": [
              "array([[4.9],\n",
              "       [3. ],\n",
              "       [1.4],\n",
              "       [0.2]])"
            ]
          },
          "metadata": {},
          "execution_count": 8
        }
      ]
    },
    {
      "cell_type": "code",
      "metadata": {
        "colab": {
          "base_uri": "https://localhost:8080/"
        },
        "id": "d-00e1oupPoz",
        "outputId": "22685479-cbf5-49ad-c3b2-3167003ad15d"
      },
      "source": [
        " # 행렬 변수 x 만들기 \n",
        " x = np.array([[5.1, 3.5, 1.4, 0.2], [4.9, 3.0, 1.4, 0.2]])\n",
        " x"
      ],
      "execution_count": 11,
      "outputs": [
        {
          "output_type": "execute_result",
          "data": {
            "text/plain": [
              "array([[5.1, 3.5, 1.4, 0.2],\n",
              "       [4.9, 3. , 1.4, 0.2]])"
            ]
          },
          "metadata": {},
          "execution_count": 11
        }
      ]
    },
    {
      "cell_type": "code",
      "metadata": {
        "colab": {
          "base_uri": "https://localhost:8080/"
        },
        "id": "xGn7-ezSru9q",
        "outputId": "2e30269f-51d7-413b-d296-4d369510994f"
      },
      "source": [
        "# 전치행렬\n",
        "x.T"
      ],
      "execution_count": 12,
      "outputs": [
        {
          "output_type": "execute_result",
          "data": {
            "text/plain": [
              "array([[5.1, 4.9],\n",
              "       [3.5, 3. ],\n",
              "       [1.4, 1.4],\n",
              "       [0.2, 0.2]])"
            ]
          },
          "metadata": {},
          "execution_count": 12
        }
      ]
    },
    {
      "cell_type": "code",
      "metadata": {
        "colab": {
          "base_uri": "https://localhost:8080/"
        },
        "id": "Tlh9jO0cthBf",
        "outputId": "2fa0dd3c-0819-43a6-dc85-86983e1536b9"
      },
      "source": [
        "# 전치행렬 2번 \n",
        "(x.T).T"
      ],
      "execution_count": 13,
      "outputs": [
        {
          "output_type": "execute_result",
          "data": {
            "text/plain": [
              "array([[5.1, 3.5, 1.4, 0.2],\n",
              "       [4.9, 3. , 1.4, 0.2]])"
            ]
          },
          "metadata": {},
          "execution_count": 13
        }
      ]
    },
    {
      "cell_type": "code",
      "metadata": {
        "colab": {
          "base_uri": "https://localhost:8080/"
        },
        "id": "fQAQTMartk6B",
        "outputId": "5c342087-3aa3-49c1-b72a-b6d184ada6a7"
      },
      "source": [
        "# 영백터 = np.zeros()\n",
        "\n",
        "np.zeros((2,2))"
      ],
      "execution_count": 16,
      "outputs": [
        {
          "output_type": "execute_result",
          "data": {
            "text/plain": [
              "array([[0., 0.],\n",
              "       [0., 0.]])"
            ]
          },
          "metadata": {},
          "execution_count": 16
        }
      ]
    },
    {
      "cell_type": "code",
      "metadata": {
        "colab": {
          "base_uri": "https://localhost:8080/"
        },
        "id": "KrWo_vu_6J4A",
        "outputId": "96ed20d4-d314-4e20-dbdb-be658c1a8006"
      },
      "source": [
        "# 1백터\n",
        "np.ones((2,2))"
      ],
      "execution_count": 17,
      "outputs": [
        {
          "output_type": "execute_result",
          "data": {
            "text/plain": [
              "array([[1., 1.],\n",
              "       [1., 1.]])"
            ]
          },
          "metadata": {},
          "execution_count": 17
        }
      ]
    },
    {
      "cell_type": "code",
      "metadata": {
        "colab": {
          "base_uri": "https://localhost:8080/"
        },
        "id": "EnLRhXvF6VvY",
        "outputId": "de976bda-25be-4a67-9b12-3c888a98c3d8"
      },
      "source": [
        "# 대각 행렬 \n",
        "np.diag([1,2,3])"
      ],
      "execution_count": 18,
      "outputs": [
        {
          "output_type": "execute_result",
          "data": {
            "text/plain": [
              "array([[1, 0, 0],\n",
              "       [0, 2, 0],\n",
              "       [0, 0, 3]])"
            ]
          },
          "metadata": {},
          "execution_count": 18
        }
      ]
    },
    {
      "cell_type": "code",
      "metadata": {
        "colab": {
          "base_uri": "https://localhost:8080/"
        },
        "id": "Fi5fi50q6cGL",
        "outputId": "c05fbe50-82e2-4f5f-8f84-4ea4ca3d7a58"
      },
      "source": [
        "# 항등행렬(identity matrix)\n",
        "\n",
        "np.eye(2)"
      ],
      "execution_count": 19,
      "outputs": [
        {
          "output_type": "execute_result",
          "data": {
            "text/plain": [
              "array([[1., 0.],\n",
              "       [0., 1.]])"
            ]
          },
          "metadata": {},
          "execution_count": 19
        }
      ]
    },
    {
      "cell_type": "markdown",
      "metadata": {
        "id": "aW3hAO-6_re2"
      },
      "source": [
        "* 연습문제 2.2.1"
      ]
    },
    {
      "cell_type": "code",
      "metadata": {
        "id": "McwWQS_o_qq9"
      },
      "source": [
        "p = np.array([[100], [80], [50]])\n",
        "n = np.array([[3], [4], [5]])"
      ],
      "execution_count": 25,
      "outputs": []
    },
    {
      "cell_type": "code",
      "metadata": {
        "colab": {
          "base_uri": "https://localhost:8080/"
        },
        "id": "76NH1iAn_--F",
        "outputId": "fcf03a67-414e-45b6-e90a-899b94ef54ba"
      },
      "source": [
        "# 내적(inner product)\n",
        "\n",
        "p.T@n"
      ],
      "execution_count": 30,
      "outputs": [
        {
          "output_type": "execute_result",
          "data": {
            "text/plain": [
              "array([[870]])"
            ]
          },
          "metadata": {},
          "execution_count": 30
        }
      ]
    },
    {
      "cell_type": "code",
      "metadata": {
        "colab": {
          "base_uri": "https://localhost:8080/"
        },
        "id": "u1MFkS51A0tn",
        "outputId": "d1a8a497-843e-469a-e9cc-668004273c3b"
      },
      "source": [
        "# dot product\n",
        "np.dot(p.T, n)"
      ],
      "execution_count": 31,
      "outputs": [
        {
          "output_type": "execute_result",
          "data": {
            "text/plain": [
              "array([[870]])"
            ]
          },
          "metadata": {},
          "execution_count": 31
        }
      ]
    },
    {
      "cell_type": "markdown",
      "metadata": {
        "id": "tLlLPPLRC5Kj"
      },
      "source": [
        "* 연습문제 2.2.3"
      ]
    },
    {
      "cell_type": "code",
      "metadata": {
        "colab": {
          "base_uri": "https://localhost:8080/"
        },
        "id": "XVn9xmbQA5-p",
        "outputId": "56128160-cf3b-4b21-fbf7-594c42da71a5"
      },
      "source": [
        "from sklearn.datasets import load_digits\n",
        "X = load_digits().data\n",
        "X"
      ],
      "execution_count": 34,
      "outputs": [
        {
          "output_type": "execute_result",
          "data": {
            "text/plain": [
              "array([[ 0.,  0.,  5., ...,  0.,  0.,  0.],\n",
              "       [ 0.,  0.,  0., ..., 10.,  0.,  0.],\n",
              "       [ 0.,  0.,  0., ..., 16.,  9.,  0.],\n",
              "       ...,\n",
              "       [ 0.,  0.,  1., ...,  6.,  0.,  0.],\n",
              "       [ 0.,  0.,  2., ..., 12.,  0.,  0.],\n",
              "       [ 0.,  0., 10., ..., 12.,  1.,  0.]])"
            ]
          },
          "metadata": {},
          "execution_count": 34
        }
      ]
    },
    {
      "cell_type": "code",
      "metadata": {
        "colab": {
          "base_uri": "https://localhost:8080/"
        },
        "id": "MBmbp9V-DA9Z",
        "outputId": "a0408fb9-7d6a-4ded-82d4-81172d616da7"
      },
      "source": [
        "# 첫번째 이미자와 10번째 이미지의 유사도 구하기\n",
        "X[0, :] @ X[9, :]"
      ],
      "execution_count": 40,
      "outputs": [
        {
          "output_type": "execute_result",
          "data": {
            "text/plain": [
              "2807.0"
            ]
          },
          "metadata": {},
          "execution_count": 40
        }
      ]
    },
    {
      "cell_type": "code",
      "metadata": {
        "id": "0ErB48y_DJ-Z"
      },
      "source": [
        ""
      ],
      "execution_count": null,
      "outputs": []
    }
  ]
}