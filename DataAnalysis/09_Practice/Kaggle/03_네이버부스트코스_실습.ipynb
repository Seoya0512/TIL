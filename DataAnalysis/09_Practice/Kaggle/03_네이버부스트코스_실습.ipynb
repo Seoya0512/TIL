{
  "nbformat": 4,
  "nbformat_minor": 0,
  "metadata": {
    "colab": {
      "name": "01_네이버부스트코스_실습.ipynb",
      "provenance": []
    },
    "kernelspec": {
      "name": "python3",
      "display_name": "Python 3"
    },
    "language_info": {
      "name": "python"
    }
  },
  "cells": [
    {
      "cell_type": "code",
      "metadata": {
        "id": "dNuQQdm_-ZUI"
      },
      "source": [
        "# 코랩 한글 패키기 \n",
        "!apt-get install -y fonts-nanum > /dev/null\n",
        "!fc-cache -fv > /dev/null\n",
        "!rm -rf ~/.cache/matplotlib > /dev/null"
      ],
      "execution_count": null,
      "outputs": []
    },
    {
      "cell_type": "code",
      "metadata": {
        "id": "BfXq-HiB_W27"
      },
      "source": [
        "import numpy as np\n",
        "import pandas as pd\n",
        "import seaborn as sns\n",
        "import matplotlib as mpl\n",
        "import matplotlib.pyplot as plt\n",
        "\n",
        "# minus 표시\n",
        "mpl.rcParams['axes.unicode_minus']=False\n",
        "plt.rc('font',family='NanumBarunGothic')"
      ],
      "execution_count": 1,
      "outputs": []
    },
    {
      "cell_type": "markdown",
      "metadata": {
        "id": "6vf3m9vzBTEo"
      },
      "source": [
        "- 데이터 불러오기"
      ]
    },
    {
      "cell_type": "code",
      "metadata": {
        "colab": {
          "base_uri": "https://localhost:8080/"
        },
        "id": "8IhjTWBE-mFp",
        "outputId": "4ef19eec-7b8f-403b-b1d1-fcf5c6974ec3"
      },
      "source": [
        "# low_memory = False, 출력 정보 생략 \n",
        "df = pd.read_csv('소상공인시장진흥공단_상가업소정보_의료기관_201909.csv', low_memory=False)\n",
        "df.shape"
      ],
      "execution_count": 2,
      "outputs": [
        {
          "output_type": "execute_result",
          "data": {
            "text/plain": [
              "(91335, 39)"
            ]
          },
          "metadata": {},
          "execution_count": 2
        }
      ]
    },
    {
      "cell_type": "code",
      "metadata": {
        "colab": {
          "base_uri": "https://localhost:8080/"
        },
        "id": "MjM_HPcfXg0F",
        "outputId": "d8957930-aab9-44af-ad92-c5e88eebb196"
      },
      "source": [
        "df.상권업종대분류명.unique()"
      ],
      "execution_count": 6,
      "outputs": [
        {
          "output_type": "execute_result",
          "data": {
            "text/plain": [
              "array(['의료'], dtype=object)"
            ]
          },
          "metadata": {},
          "execution_count": 6
        }
      ]
    },
    {
      "cell_type": "code",
      "metadata": {
        "colab": {
          "base_uri": "https://localhost:8080/"
        },
        "id": "ekVYzpHzXN6z",
        "outputId": "1039db2a-706e-4a70-da67-357414b6d416"
      },
      "source": [
        "df.loc[df[\"상권업종대분류명\"] == \"의료\", \"상권업종중분류명\"].value_counts()"
      ],
      "execution_count": 4,
      "outputs": [
        {
          "output_type": "execute_result",
          "data": {
            "text/plain": [
              "0              병원\n",
              "1              병원\n",
              "2              병원\n",
              "3              병원\n",
              "4          약국/한약방\n",
              "           ...   \n",
              "91330      약국/한약방\n",
              "91331    의료관련서비스업\n",
              "91332          병원\n",
              "91333          병원\n",
              "91334          병원\n",
              "Name: 상권업종중분류명, Length: 91335, dtype: object"
            ]
          },
          "metadata": {},
          "execution_count": 4
        }
      ]
    },
    {
      "cell_type": "code",
      "metadata": {
        "id": "UPIOQLs-XaEm"
      },
      "source": [
        "shop_type = df[\"상권업종대분류명\"] == \"의료\"\n",
        "df.loc[shop_type, \"상권업종중분류명\"].value_counts()"
      ],
      "execution_count": null,
      "outputs": []
    },
    {
      "cell_type": "markdown",
      "metadata": {
        "id": "zBqRFUM-BYmu"
      },
      "source": [
        "- 데이터 정보 "
      ]
    },
    {
      "cell_type": "code",
      "metadata": {
        "colab": {
          "base_uri": "https://localhost:8080/"
        },
        "id": "TLRJLzXCAPRL",
        "outputId": "531fe41a-85c1-40b3-cbe7-1f0c76270b9a"
      },
      "source": [
        "df.info()"
      ],
      "execution_count": null,
      "outputs": [
        {
          "output_type": "stream",
          "name": "stdout",
          "text": [
            "<class 'pandas.core.frame.DataFrame'>\n",
            "RangeIndex: 91335 entries, 0 to 91334\n",
            "Data columns (total 39 columns):\n",
            " #   Column     Non-Null Count  Dtype  \n",
            "---  ------     --------------  -----  \n",
            " 0   상가업소번호     91335 non-null  int64  \n",
            " 1   상호명        91335 non-null  object \n",
            " 2   지점명        1346 non-null   object \n",
            " 3   상권업종대분류코드  91335 non-null  object \n",
            " 4   상권업종대분류명   91335 non-null  object \n",
            " 5   상권업종중분류코드  91335 non-null  object \n",
            " 6   상권업종중분류명   91335 non-null  object \n",
            " 7   상권업종소분류코드  91335 non-null  object \n",
            " 8   상권업종소분류명   91335 non-null  object \n",
            " 9   표준산업분류코드   86413 non-null  object \n",
            " 10  표준산업분류명    86413 non-null  object \n",
            " 11  시도코드       90956 non-null  float64\n",
            " 12  시도명        90956 non-null  object \n",
            " 13  시군구코드      90956 non-null  float64\n",
            " 14  시군구명       90956 non-null  object \n",
            " 15  행정동코드      91335 non-null  int64  \n",
            " 16  행정동명       90956 non-null  object \n",
            " 17  법정동코드      91280 non-null  float64\n",
            " 18  법정동명       91280 non-null  object \n",
            " 19  지번코드       91335 non-null  int64  \n",
            " 20  대지구분코드     91335 non-null  int64  \n",
            " 21  대지구분명      91335 non-null  object \n",
            " 22  지번본번지      91335 non-null  int64  \n",
            " 23  지번부번지      72079 non-null  float64\n",
            " 24  지번주소       91335 non-null  object \n",
            " 25  도로명코드      91335 non-null  int64  \n",
            " 26  도로명        91335 non-null  object \n",
            " 27  건물본번지      91335 non-null  int64  \n",
            " 28  건물부번지      10604 non-null  float64\n",
            " 29  건물관리번호     91335 non-null  object \n",
            " 30  건물명        46453 non-null  object \n",
            " 31  도로명주소      91335 non-null  object \n",
            " 32  구우편번호      91323 non-null  float64\n",
            " 33  신우편번호      91333 non-null  float64\n",
            " 34  동정보        7406 non-null   object \n",
            " 35  층정보        44044 non-null  object \n",
            " 36  호정보        15551 non-null  object \n",
            " 37  경도         91335 non-null  float64\n",
            " 38  위도         91335 non-null  float64\n",
            "dtypes: float64(9), int64(7), object(23)\n",
            "memory usage: 27.2+ MB\n"
          ]
        }
      ]
    },
    {
      "cell_type": "code",
      "metadata": {
        "colab": {
          "base_uri": "https://localhost:8080/"
        },
        "id": "iyRfrUThBabX",
        "outputId": "2cd54efd-2ed6-4e93-e8f2-efcf369581a0"
      },
      "source": [
        "df.columns"
      ],
      "execution_count": null,
      "outputs": [
        {
          "output_type": "execute_result",
          "data": {
            "text/plain": [
              "Index(['상가업소번호', '상호명', '지점명', '상권업종대분류코드', '상권업종대분류명', '상권업종중분류코드',\n",
              "       '상권업종중분류명', '상권업종소분류코드', '상권업종소분류명', '표준산업분류코드', '표준산업분류명', '시도코드',\n",
              "       '시도명', '시군구코드', '시군구명', '행정동코드', '행정동명', '법정동코드', '법정동명', '지번코드',\n",
              "       '대지구분코드', '대지구분명', '지번본번지', '지번부번지', '지번주소', '도로명코드', '도로명', '건물본번지',\n",
              "       '건물부번지', '건물관리번호', '건물명', '도로명주소', '구우편번호', '신우편번호', '동정보', '층정보',\n",
              "       '호정보', '경도', '위도'],\n",
              "      dtype='object')"
            ]
          },
          "metadata": {},
          "execution_count": 10
        }
      ]
    },
    {
      "cell_type": "code",
      "metadata": {
        "colab": {
          "base_uri": "https://localhost:8080/"
        },
        "id": "jfUvENrwBnyJ",
        "outputId": "ded2a2d9-ddb0-4f1b-8d22-3ef67ac46184"
      },
      "source": [
        "df.dtypes"
      ],
      "execution_count": null,
      "outputs": [
        {
          "output_type": "execute_result",
          "data": {
            "text/plain": [
              "상가업소번호         int64\n",
              "상호명           object\n",
              "지점명           object\n",
              "상권업종대분류코드     object\n",
              "상권업종대분류명      object\n",
              "상권업종중분류코드     object\n",
              "상권업종중분류명      object\n",
              "상권업종소분류코드     object\n",
              "상권업종소분류명      object\n",
              "표준산업분류코드      object\n",
              "표준산업분류명       object\n",
              "시도코드         float64\n",
              "시도명           object\n",
              "시군구코드        float64\n",
              "시군구명          object\n",
              "행정동코드          int64\n",
              "행정동명          object\n",
              "법정동코드        float64\n",
              "법정동명          object\n",
              "지번코드           int64\n",
              "대지구분코드         int64\n",
              "대지구분명         object\n",
              "지번본번지          int64\n",
              "지번부번지        float64\n",
              "지번주소          object\n",
              "도로명코드          int64\n",
              "도로명           object\n",
              "건물본번지          int64\n",
              "건물부번지        float64\n",
              "건물관리번호        object\n",
              "건물명           object\n",
              "도로명주소         object\n",
              "구우편번호        float64\n",
              "신우편번호        float64\n",
              "동정보           object\n",
              "층정보           object\n",
              "호정보           object\n",
              "경도           float64\n",
              "위도           float64\n",
              "dtype: object"
            ]
          },
          "metadata": {},
          "execution_count": 11
        }
      ]
    },
    {
      "cell_type": "markdown",
      "metadata": {
        "id": "FG7T0ysmCJVx"
      },
      "source": [
        "- 결측치 확인 및 전처리\n",
        "  - 행 전체 결측치 제거 : df.dropna(axis=0, inplace=True)\n",
        "  - 열 전체 결측치 제거 : df.dropna(axis=1, inplace=True)\n",
        "    - 결측치가 많아서 한번에 정리하면 모두 제거되므로 특정 행만 결측치 제거해야함\n"
      ]
    },
    {
      "cell_type": "code",
      "metadata": {
        "colab": {
          "base_uri": "https://localhost:8080/"
        },
        "id": "P4lIUP8fFVV0",
        "outputId": "af3535e3-3d3b-40d0-ea83-676b9098f42e"
      },
      "source": [
        "df.isnull().sum()"
      ],
      "execution_count": null,
      "outputs": [
        {
          "output_type": "execute_result",
          "data": {
            "text/plain": [
              "상가업소번호           0\n",
              "상호명              0\n",
              "지점명          89989\n",
              "상권업종대분류코드        0\n",
              "상권업종대분류명         0\n",
              "상권업종중분류코드        0\n",
              "상권업종중분류명         0\n",
              "상권업종소분류코드        0\n",
              "상권업종소분류명         0\n",
              "표준산업분류코드      4922\n",
              "표준산업분류명       4922\n",
              "시도코드           379\n",
              "시도명            379\n",
              "시군구코드          379\n",
              "시군구명           379\n",
              "행정동코드            0\n",
              "행정동명           379\n",
              "법정동코드           55\n",
              "법정동명            55\n",
              "지번코드             0\n",
              "대지구분코드           0\n",
              "대지구분명            0\n",
              "지번본번지            0\n",
              "지번부번지        19256\n",
              "지번주소             0\n",
              "도로명코드            0\n",
              "도로명              0\n",
              "건물본번지            0\n",
              "건물부번지        80731\n",
              "건물관리번호           0\n",
              "건물명          44882\n",
              "도로명주소            0\n",
              "구우편번호           12\n",
              "신우편번호            2\n",
              "동정보          83929\n",
              "층정보          47291\n",
              "호정보          75784\n",
              "경도               0\n",
              "위도               0\n",
              "dtype: int64"
            ]
          },
          "metadata": {},
          "execution_count": 52
        }
      ]
    },
    {
      "cell_type": "code",
      "metadata": {
        "colab": {
          "base_uri": "https://localhost:8080/",
          "height": 204
        },
        "id": "CW4b_rphFmAc",
        "outputId": "0ab4b342-c7fa-4183-e30d-46165d11cf89"
      },
      "source": [
        "# 위에서 계산한 결측치 수를 reset_index 를 통해 데이터프레임으로 만들어 줍니다.\n",
        "# df_null_count 변수에 결과를 담아서 head 로 미리보기를 합니다.\n",
        "df_null_count = df.isnull().sum().reset_index()\n",
        "df_null_count.columns = [\"컬럼명\", \"결측치수\"]\n",
        "df_null_count.head()"
      ],
      "execution_count": null,
      "outputs": [
        {
          "output_type": "execute_result",
          "data": {
            "text/html": [
              "<div>\n",
              "<style scoped>\n",
              "    .dataframe tbody tr th:only-of-type {\n",
              "        vertical-align: middle;\n",
              "    }\n",
              "\n",
              "    .dataframe tbody tr th {\n",
              "        vertical-align: top;\n",
              "    }\n",
              "\n",
              "    .dataframe thead th {\n",
              "        text-align: right;\n",
              "    }\n",
              "</style>\n",
              "<table border=\"1\" class=\"dataframe\">\n",
              "  <thead>\n",
              "    <tr style=\"text-align: right;\">\n",
              "      <th></th>\n",
              "      <th>컬럼명</th>\n",
              "      <th>결측치수</th>\n",
              "    </tr>\n",
              "  </thead>\n",
              "  <tbody>\n",
              "    <tr>\n",
              "      <th>0</th>\n",
              "      <td>상가업소번호</td>\n",
              "      <td>0</td>\n",
              "    </tr>\n",
              "    <tr>\n",
              "      <th>1</th>\n",
              "      <td>상호명</td>\n",
              "      <td>0</td>\n",
              "    </tr>\n",
              "    <tr>\n",
              "      <th>2</th>\n",
              "      <td>지점명</td>\n",
              "      <td>89989</td>\n",
              "    </tr>\n",
              "    <tr>\n",
              "      <th>3</th>\n",
              "      <td>상권업종대분류코드</td>\n",
              "      <td>0</td>\n",
              "    </tr>\n",
              "    <tr>\n",
              "      <th>4</th>\n",
              "      <td>상권업종대분류명</td>\n",
              "      <td>0</td>\n",
              "    </tr>\n",
              "  </tbody>\n",
              "</table>\n",
              "</div>"
            ],
            "text/plain": [
              "         컬럼명   결측치수\n",
              "0     상가업소번호      0\n",
              "1        상호명      0\n",
              "2        지점명  89989\n",
              "3  상권업종대분류코드      0\n",
              "4   상권업종대분류명      0"
            ]
          },
          "metadata": {},
          "execution_count": 54
        }
      ]
    },
    {
      "cell_type": "code",
      "metadata": {
        "colab": {
          "base_uri": "https://localhost:8080/",
          "height": 328
        },
        "id": "t46UFpKUEjKl",
        "outputId": "44f3b29f-0715-4ebd-ebf3-7875af44b7e5"
      },
      "source": [
        "# 상위10개 출력 \n",
        "df_null_head = df_null_count.sort_values(\n",
        "    by=\"결측치수\", ascending=False).head(9)\n",
        "df_null_head"
      ],
      "execution_count": null,
      "outputs": [
        {
          "output_type": "execute_result",
          "data": {
            "text/html": [
              "<div>\n",
              "<style scoped>\n",
              "    .dataframe tbody tr th:only-of-type {\n",
              "        vertical-align: middle;\n",
              "    }\n",
              "\n",
              "    .dataframe tbody tr th {\n",
              "        vertical-align: top;\n",
              "    }\n",
              "\n",
              "    .dataframe thead th {\n",
              "        text-align: right;\n",
              "    }\n",
              "</style>\n",
              "<table border=\"1\" class=\"dataframe\">\n",
              "  <thead>\n",
              "    <tr style=\"text-align: right;\">\n",
              "      <th></th>\n",
              "      <th>컬럼명</th>\n",
              "      <th>결측치수</th>\n",
              "    </tr>\n",
              "  </thead>\n",
              "  <tbody>\n",
              "    <tr>\n",
              "      <th>2</th>\n",
              "      <td>지점명</td>\n",
              "      <td>89989</td>\n",
              "    </tr>\n",
              "    <tr>\n",
              "      <th>34</th>\n",
              "      <td>동정보</td>\n",
              "      <td>83929</td>\n",
              "    </tr>\n",
              "    <tr>\n",
              "      <th>28</th>\n",
              "      <td>건물부번지</td>\n",
              "      <td>80731</td>\n",
              "    </tr>\n",
              "    <tr>\n",
              "      <th>36</th>\n",
              "      <td>호정보</td>\n",
              "      <td>75784</td>\n",
              "    </tr>\n",
              "    <tr>\n",
              "      <th>35</th>\n",
              "      <td>층정보</td>\n",
              "      <td>47291</td>\n",
              "    </tr>\n",
              "    <tr>\n",
              "      <th>30</th>\n",
              "      <td>건물명</td>\n",
              "      <td>44882</td>\n",
              "    </tr>\n",
              "    <tr>\n",
              "      <th>23</th>\n",
              "      <td>지번부번지</td>\n",
              "      <td>19256</td>\n",
              "    </tr>\n",
              "    <tr>\n",
              "      <th>9</th>\n",
              "      <td>표준산업분류코드</td>\n",
              "      <td>4922</td>\n",
              "    </tr>\n",
              "    <tr>\n",
              "      <th>10</th>\n",
              "      <td>표준산업분류명</td>\n",
              "      <td>4922</td>\n",
              "    </tr>\n",
              "  </tbody>\n",
              "</table>\n",
              "</div>"
            ],
            "text/plain": [
              "         컬럼명   결측치수\n",
              "2        지점명  89989\n",
              "34       동정보  83929\n",
              "28     건물부번지  80731\n",
              "36       호정보  75784\n",
              "35       층정보  47291\n",
              "30       건물명  44882\n",
              "23     지번부번지  19256\n",
              "9   표준산업분류코드   4922\n",
              "10   표준산업분류명   4922"
            ]
          },
          "metadata": {},
          "execution_count": 56
        }
      ]
    },
    {
      "cell_type": "code",
      "metadata": {
        "colab": {
          "base_uri": "https://localhost:8080/"
        },
        "id": "6adkHBj8DLSw",
        "outputId": "9b60de7f-ef54-413e-ef74-4339b1ca0f96"
      },
      "source": [
        "# 결측치 제거 \n",
        "drop_columns = df_null_head[\"컬럼명\"].values\n",
        "\n",
        "print(df.shape)\n",
        "df = df.drop(columns=drop_columns, axis=1)\n",
        "print(df.shape)"
      ],
      "execution_count": null,
      "outputs": [
        {
          "output_type": "stream",
          "name": "stdout",
          "text": [
            "(91335, 39)\n",
            "(91335, 30)\n"
          ]
        }
      ]
    },
    {
      "cell_type": "markdown",
      "metadata": {
        "id": "-4Y6LI1JHX4O"
      },
      "source": [
        "- 통계값 확인"
      ]
    },
    {
      "cell_type": "code",
      "metadata": {
        "colab": {
          "base_uri": "https://localhost:8080/",
          "height": 317
        },
        "id": "5w2nf0DGGyxt",
        "outputId": "18a1f7e0-280a-4622-b285-767ee86b68e6"
      },
      "source": [
        "df.describe()"
      ],
      "execution_count": null,
      "outputs": [
        {
          "output_type": "execute_result",
          "data": {
            "text/html": [
              "<div>\n",
              "<style scoped>\n",
              "    .dataframe tbody tr th:only-of-type {\n",
              "        vertical-align: middle;\n",
              "    }\n",
              "\n",
              "    .dataframe tbody tr th {\n",
              "        vertical-align: top;\n",
              "    }\n",
              "\n",
              "    .dataframe thead th {\n",
              "        text-align: right;\n",
              "    }\n",
              "</style>\n",
              "<table border=\"1\" class=\"dataframe\">\n",
              "  <thead>\n",
              "    <tr style=\"text-align: right;\">\n",
              "      <th></th>\n",
              "      <th>상가업소번호</th>\n",
              "      <th>시도코드</th>\n",
              "      <th>시군구코드</th>\n",
              "      <th>행정동코드</th>\n",
              "      <th>법정동코드</th>\n",
              "      <th>지번코드</th>\n",
              "      <th>대지구분코드</th>\n",
              "      <th>지번본번지</th>\n",
              "      <th>도로명코드</th>\n",
              "      <th>건물본번지</th>\n",
              "      <th>구우편번호</th>\n",
              "      <th>신우편번호</th>\n",
              "      <th>경도</th>\n",
              "      <th>위도</th>\n",
              "    </tr>\n",
              "  </thead>\n",
              "  <tbody>\n",
              "    <tr>\n",
              "      <th>count</th>\n",
              "      <td>9.133500e+04</td>\n",
              "      <td>90956.000000</td>\n",
              "      <td>90956.000000</td>\n",
              "      <td>9.133500e+04</td>\n",
              "      <td>9.128000e+04</td>\n",
              "      <td>9.133500e+04</td>\n",
              "      <td>91335.000000</td>\n",
              "      <td>91335.000000</td>\n",
              "      <td>9.133500e+04</td>\n",
              "      <td>91335.000000</td>\n",
              "      <td>91323.000000</td>\n",
              "      <td>91333.00000</td>\n",
              "      <td>91335.000000</td>\n",
              "      <td>91335.000000</td>\n",
              "    </tr>\n",
              "    <tr>\n",
              "      <th>mean</th>\n",
              "      <td>2.121818e+07</td>\n",
              "      <td>32.586712</td>\n",
              "      <td>32898.381877</td>\n",
              "      <td>3.293232e+09</td>\n",
              "      <td>3.293385e+09</td>\n",
              "      <td>3.293191e+18</td>\n",
              "      <td>1.001336</td>\n",
              "      <td>587.534549</td>\n",
              "      <td>3.293207e+11</td>\n",
              "      <td>251.200482</td>\n",
              "      <td>428432.911085</td>\n",
              "      <td>28085.47698</td>\n",
              "      <td>127.487524</td>\n",
              "      <td>36.624711</td>\n",
              "    </tr>\n",
              "    <tr>\n",
              "      <th>std</th>\n",
              "      <td>5.042828e+06</td>\n",
              "      <td>13.045138</td>\n",
              "      <td>12985.393171</td>\n",
              "      <td>1.297387e+09</td>\n",
              "      <td>1.297706e+09</td>\n",
              "      <td>1.297393e+18</td>\n",
              "      <td>0.036524</td>\n",
              "      <td>582.519364</td>\n",
              "      <td>1.297391e+11</td>\n",
              "      <td>477.456487</td>\n",
              "      <td>193292.339066</td>\n",
              "      <td>18909.01455</td>\n",
              "      <td>0.842877</td>\n",
              "      <td>1.041361</td>\n",
              "    </tr>\n",
              "    <tr>\n",
              "      <th>min</th>\n",
              "      <td>2.901108e+06</td>\n",
              "      <td>11.000000</td>\n",
              "      <td>11110.000000</td>\n",
              "      <td>1.111052e+09</td>\n",
              "      <td>1.111010e+09</td>\n",
              "      <td>1.111010e+18</td>\n",
              "      <td>1.000000</td>\n",
              "      <td>1.000000</td>\n",
              "      <td>1.111020e+11</td>\n",
              "      <td>0.000000</td>\n",
              "      <td>100011.000000</td>\n",
              "      <td>1000.00000</td>\n",
              "      <td>124.717632</td>\n",
              "      <td>33.219290</td>\n",
              "    </tr>\n",
              "    <tr>\n",
              "      <th>25%</th>\n",
              "      <td>2.001931e+07</td>\n",
              "      <td>26.000000</td>\n",
              "      <td>26350.000000</td>\n",
              "      <td>2.635065e+09</td>\n",
              "      <td>2.635011e+09</td>\n",
              "      <td>2.635011e+18</td>\n",
              "      <td>1.000000</td>\n",
              "      <td>162.000000</td>\n",
              "      <td>2.635042e+11</td>\n",
              "      <td>29.000000</td>\n",
              "      <td>302120.000000</td>\n",
              "      <td>11681.00000</td>\n",
              "      <td>126.914297</td>\n",
              "      <td>35.811830</td>\n",
              "    </tr>\n",
              "    <tr>\n",
              "      <th>50%</th>\n",
              "      <td>2.211900e+07</td>\n",
              "      <td>41.000000</td>\n",
              "      <td>41117.000000</td>\n",
              "      <td>4.111758e+09</td>\n",
              "      <td>4.111710e+09</td>\n",
              "      <td>4.111711e+18</td>\n",
              "      <td>1.000000</td>\n",
              "      <td>462.000000</td>\n",
              "      <td>4.111743e+11</td>\n",
              "      <td>92.000000</td>\n",
              "      <td>440300.000000</td>\n",
              "      <td>24353.00000</td>\n",
              "      <td>127.084550</td>\n",
              "      <td>37.234652</td>\n",
              "    </tr>\n",
              "    <tr>\n",
              "      <th>75%</th>\n",
              "      <td>2.480984e+07</td>\n",
              "      <td>43.000000</td>\n",
              "      <td>43113.000000</td>\n",
              "      <td>4.311370e+09</td>\n",
              "      <td>4.311311e+09</td>\n",
              "      <td>4.311311e+18</td>\n",
              "      <td>1.000000</td>\n",
              "      <td>858.000000</td>\n",
              "      <td>4.311332e+11</td>\n",
              "      <td>257.000000</td>\n",
              "      <td>602811.000000</td>\n",
              "      <td>46044.00000</td>\n",
              "      <td>128.108919</td>\n",
              "      <td>37.507463</td>\n",
              "    </tr>\n",
              "    <tr>\n",
              "      <th>max</th>\n",
              "      <td>2.852470e+07</td>\n",
              "      <td>50.000000</td>\n",
              "      <td>50130.000000</td>\n",
              "      <td>5.013061e+09</td>\n",
              "      <td>5.013032e+09</td>\n",
              "      <td>5.013061e+18</td>\n",
              "      <td>2.000000</td>\n",
              "      <td>7338.000000</td>\n",
              "      <td>5.013049e+11</td>\n",
              "      <td>8795.000000</td>\n",
              "      <td>799801.000000</td>\n",
              "      <td>63643.00000</td>\n",
              "      <td>130.909912</td>\n",
              "      <td>38.499659</td>\n",
              "    </tr>\n",
              "  </tbody>\n",
              "</table>\n",
              "</div>"
            ],
            "text/plain": [
              "             상가업소번호          시도코드  ...            경도            위도\n",
              "count  9.133500e+04  90956.000000  ...  91335.000000  91335.000000\n",
              "mean   2.121818e+07     32.586712  ...    127.487524     36.624711\n",
              "std    5.042828e+06     13.045138  ...      0.842877      1.041361\n",
              "min    2.901108e+06     11.000000  ...    124.717632     33.219290\n",
              "25%    2.001931e+07     26.000000  ...    126.914297     35.811830\n",
              "50%    2.211900e+07     41.000000  ...    127.084550     37.234652\n",
              "75%    2.480984e+07     43.000000  ...    128.108919     37.507463\n",
              "max    2.852470e+07     50.000000  ...    130.909912     38.499659\n",
              "\n",
              "[8 rows x 14 columns]"
            ]
          },
          "metadata": {},
          "execution_count": 58
        }
      ]
    },
    {
      "cell_type": "code",
      "metadata": {
        "colab": {
          "base_uri": "https://localhost:8080/",
          "height": 329
        },
        "id": "e4gIC3RdHbOr",
        "outputId": "9cc689c2-6fa9-4102-ea9f-9b4f69732d3a"
      },
      "source": [
        "# 문자열 포함 \n",
        "df.describe(include=pd.np.object)"
      ],
      "execution_count": null,
      "outputs": [
        {
          "output_type": "stream",
          "name": "stderr",
          "text": [
            "/usr/local/lib/python3.7/dist-packages/ipykernel_launcher.py:2: FutureWarning: The pandas.np module is deprecated and will be removed from pandas in a future version. Import numpy directly instead\n",
            "  \n"
          ]
        },
        {
          "output_type": "execute_result",
          "data": {
            "text/html": [
              "<div>\n",
              "<style scoped>\n",
              "    .dataframe tbody tr th:only-of-type {\n",
              "        vertical-align: middle;\n",
              "    }\n",
              "\n",
              "    .dataframe tbody tr th {\n",
              "        vertical-align: top;\n",
              "    }\n",
              "\n",
              "    .dataframe thead th {\n",
              "        text-align: right;\n",
              "    }\n",
              "</style>\n",
              "<table border=\"1\" class=\"dataframe\">\n",
              "  <thead>\n",
              "    <tr style=\"text-align: right;\">\n",
              "      <th></th>\n",
              "      <th>상호명</th>\n",
              "      <th>상권업종대분류코드</th>\n",
              "      <th>상권업종대분류명</th>\n",
              "      <th>상권업종중분류코드</th>\n",
              "      <th>상권업종중분류명</th>\n",
              "      <th>상권업종소분류코드</th>\n",
              "      <th>상권업종소분류명</th>\n",
              "      <th>시도명</th>\n",
              "      <th>시군구명</th>\n",
              "      <th>행정동명</th>\n",
              "      <th>법정동명</th>\n",
              "      <th>대지구분명</th>\n",
              "      <th>지번주소</th>\n",
              "      <th>도로명</th>\n",
              "      <th>건물관리번호</th>\n",
              "      <th>도로명주소</th>\n",
              "    </tr>\n",
              "  </thead>\n",
              "  <tbody>\n",
              "    <tr>\n",
              "      <th>count</th>\n",
              "      <td>91335</td>\n",
              "      <td>91335</td>\n",
              "      <td>91335</td>\n",
              "      <td>91335</td>\n",
              "      <td>91335</td>\n",
              "      <td>91335</td>\n",
              "      <td>91335</td>\n",
              "      <td>90956</td>\n",
              "      <td>90956</td>\n",
              "      <td>90956</td>\n",
              "      <td>91280</td>\n",
              "      <td>91335</td>\n",
              "      <td>91335</td>\n",
              "      <td>91335</td>\n",
              "      <td>91335</td>\n",
              "      <td>91335</td>\n",
              "    </tr>\n",
              "    <tr>\n",
              "      <th>unique</th>\n",
              "      <td>56910</td>\n",
              "      <td>1</td>\n",
              "      <td>1</td>\n",
              "      <td>5</td>\n",
              "      <td>5</td>\n",
              "      <td>34</td>\n",
              "      <td>34</td>\n",
              "      <td>17</td>\n",
              "      <td>228</td>\n",
              "      <td>2791</td>\n",
              "      <td>2822</td>\n",
              "      <td>2</td>\n",
              "      <td>53118</td>\n",
              "      <td>16610</td>\n",
              "      <td>54142</td>\n",
              "      <td>54031</td>\n",
              "    </tr>\n",
              "    <tr>\n",
              "      <th>top</th>\n",
              "      <td>리원</td>\n",
              "      <td>S</td>\n",
              "      <td>의료</td>\n",
              "      <td>S01</td>\n",
              "      <td>병원</td>\n",
              "      <td>S02A01</td>\n",
              "      <td>약국</td>\n",
              "      <td>경기도</td>\n",
              "      <td>서구</td>\n",
              "      <td>중앙동</td>\n",
              "      <td>중동</td>\n",
              "      <td>대지</td>\n",
              "      <td>서울특별시 동대문구 제기동 965-1</td>\n",
              "      <td>서울특별시 강남구 강남대로</td>\n",
              "      <td>1123010300109650001031604</td>\n",
              "      <td>서울특별시 동대문구 약령중앙로8길 10</td>\n",
              "    </tr>\n",
              "    <tr>\n",
              "      <th>freq</th>\n",
              "      <td>152</td>\n",
              "      <td>91335</td>\n",
              "      <td>91335</td>\n",
              "      <td>60774</td>\n",
              "      <td>60774</td>\n",
              "      <td>18964</td>\n",
              "      <td>18964</td>\n",
              "      <td>21374</td>\n",
              "      <td>3165</td>\n",
              "      <td>1856</td>\n",
              "      <td>874</td>\n",
              "      <td>91213</td>\n",
              "      <td>198</td>\n",
              "      <td>326</td>\n",
              "      <td>198</td>\n",
              "      <td>198</td>\n",
              "    </tr>\n",
              "  </tbody>\n",
              "</table>\n",
              "</div>"
            ],
            "text/plain": [
              "          상호명 상권업종대분류코드  ...                     건물관리번호                  도로명주소\n",
              "count   91335     91335  ...                      91335                  91335\n",
              "unique  56910         1  ...                      54142                  54031\n",
              "top        리원         S  ...  1123010300109650001031604  서울특별시 동대문구 약령중앙로8길 10\n",
              "freq      152     91335  ...                        198                    198\n",
              "\n",
              "[4 rows x 16 columns]"
            ]
          },
          "metadata": {},
          "execution_count": 59
        }
      ]
    },
    {
      "cell_type": "markdown",
      "metadata": {
        "id": "1rscCaI-H6bw"
      },
      "source": [
        "### 그룹화된 요약값 보기 - value_counts\n",
        "* value_counts 를 사용하면 카테고리 형태의 데이터 갯수를 세어볼 수 있습니다."
      ]
    },
    {
      "cell_type": "code",
      "metadata": {
        "colab": {
          "base_uri": "https://localhost:8080/"
        },
        "id": "YzZnKNsJHidh",
        "outputId": "d5f25fb7-4649-4da6-bc4e-2618d9e0dc57"
      },
      "source": [
        "df[\"시도명\"].value_counts()"
      ],
      "execution_count": null,
      "outputs": [
        {
          "output_type": "execute_result",
          "data": {
            "text/plain": [
              "경기도        21374\n",
              "서울특별시      18943\n",
              "부산광역시       6473\n",
              "경상남도        4973\n",
              "인천광역시       4722\n",
              "대구광역시       4597\n",
              "경상북도        4141\n",
              "전라북도        3894\n",
              "충청남도        3578\n",
              "전라남도        3224\n",
              "광주광역시       3214\n",
              "대전광역시       3067\n",
              "충청북도        2677\n",
              "강원도         2634\n",
              "울산광역시       1997\n",
              "제주특별자치도     1095\n",
              "세종특별자치시      353\n",
              "Name: 시도명, dtype: int64"
            ]
          },
          "metadata": {},
          "execution_count": 60
        }
      ]
    },
    {
      "cell_type": "code",
      "metadata": {
        "id": "KdCi5c1-H9OJ",
        "colab": {
          "base_uri": "https://localhost:8080/"
        },
        "outputId": "b2772cce-e136-437e-9f1f-276fe69e2afe"
      },
      "source": [
        "# normalize=True 옵션을 사용하면 비율을 구할 수 있습니다.\n",
        "df[\"시도명\"].value_counts(normalize=True)"
      ],
      "execution_count": null,
      "outputs": [
        {
          "output_type": "execute_result",
          "data": {
            "text/plain": [
              "경기도        0.234993\n",
              "서울특별시      0.208266\n",
              "부산광역시      0.071166\n",
              "경상남도       0.054675\n",
              "인천광역시      0.051915\n",
              "대구광역시      0.050541\n",
              "경상북도       0.045528\n",
              "전라북도       0.042812\n",
              "충청남도       0.039338\n",
              "전라남도       0.035446\n",
              "광주광역시      0.035336\n",
              "대전광역시      0.033720\n",
              "충청북도       0.029432\n",
              "강원도        0.028959\n",
              "울산광역시      0.021956\n",
              "제주특별자치도    0.012039\n",
              "세종특별자치시    0.003881\n",
              "Name: 시도명, dtype: float64"
            ]
          },
          "metadata": {},
          "execution_count": 61
        }
      ]
    },
    {
      "cell_type": "code",
      "metadata": {
        "id": "xNfwWud9IARL",
        "colab": {
          "base_uri": "https://localhost:8080/",
          "height": 296
        },
        "outputId": "11ce0e70-3dca-4d5d-a8e6-5896c8114e0d"
      },
      "source": [
        "sns.countplot(data=df, y=\"시도명\")"
      ],
      "execution_count": 62,
      "outputs": [
        {
          "output_type": "execute_result",
          "data": {
            "text/plain": [
              "<matplotlib.axes._subplots.AxesSubplot at 0x7f78af515390>"
            ]
          },
          "metadata": {},
          "execution_count": 62
        },
        {
          "output_type": "display_data",
          "data": {
            "image/png": "[encoded data removed]",
            "text/plain": [
              "<Figure size 432x288 with 1 Axes>"
            ]
          },
          "metadata": {
            "needs_background": "light"
          }
        }
      ]
    },
    {
      "cell_type": "markdown",
      "metadata": {
        "id": "Ysp-LbFiOAJV"
      },
      "source": [
        "## 자율주제(과제)\n",
        "* 언어치료는 시군구별로 어디에 많이 위치할까?"
      ]
    },
    {
      "cell_type": "code",
      "metadata": {
        "colab": {
          "base_uri": "https://localhost:8080/"
        },
        "id": "J3nwDrFgOnA5",
        "outputId": "13b34882-6c1f-49f3-894b-d4e2a27a6588"
      },
      "source": [
        "df.columns"
      ],
      "execution_count": 63,
      "outputs": [
        {
          "output_type": "execute_result",
          "data": {
            "text/plain": [
              "Index(['상가업소번호', '상호명', '상권업종대분류코드', '상권업종대분류명', '상권업종중분류코드', '상권업종중분류명',\n",
              "       '상권업종소분류코드', '상권업종소분류명', '시도코드', '시도명', '시군구코드', '시군구명', '행정동코드',\n",
              "       '행정동명', '법정동코드', '법정동명', '지번코드', '대지구분코드', '대지구분명', '지번본번지', '지번주소',\n",
              "       '도로명코드', '도로명', '건물본번지', '건물관리번호', '도로명주소', '구우편번호', '신우편번호', '경도',\n",
              "       '위도'],\n",
              "      dtype='object')"
            ]
          },
          "metadata": {},
          "execution_count": 63
        }
      ]
    },
    {
      "cell_type": "code",
      "metadata": {
        "colab": {
          "base_uri": "https://localhost:8080/"
        },
        "id": "XRCMg7CoOs-h",
        "outputId": "6d59dd2a-367c-440d-f566-c2d3835ea578"
      },
      "source": [
        "df.상권업종소분류명.unique()"
      ],
      "execution_count": 66,
      "outputs": [
        {
          "output_type": "execute_result",
          "data": {
            "text/plain": [
              "array(['산부인과', '내과/외과', '신경외과', '기타병원', '약국', '동물병원', '한약방', '탕제원',\n",
              "       '정형/성형외과', '소아과', '이비인후과의원', '노인/치매병원', '언어치료', '수의업-종합', '한의원',\n",
              "       '치과의원', '침구원', '일반병원', '안과의원', '조산원', '한방병원', '종합병원', '유사의료업기타',\n",
              "       '응급구조대', '혈액원', '치과병원', '척추교정치료', '피부과', '비뇨기과', '치과기공소', '산후조리원',\n",
              "       '접골원', '수의업-기타', '제대혈'], dtype=object)"
            ]
          },
          "metadata": {},
          "execution_count": 66
        }
      ]
    },
    {
      "cell_type": "code",
      "metadata": {
        "colab": {
          "base_uri": "https://localhost:8080/",
          "height": 692
        },
        "id": "ZOyeS3_sJ-5i",
        "outputId": "1c09d370-495b-4a07-adad-49d8b66e97ab"
      },
      "source": [
        "df_speak = df[df['상권업종소분류명'] == '언어치료']\n",
        "df_speak.head(2)"
      ],
      "execution_count": 82,
      "outputs": [
        {
          "output_type": "execute_result",
          "data": {
            "text/html": [
              "<div>\n",
              "<style scoped>\n",
              "    .dataframe tbody tr th:only-of-type {\n",
              "        vertical-align: middle;\n",
              "    }\n",
              "\n",
              "    .dataframe tbody tr th {\n",
              "        vertical-align: top;\n",
              "    }\n",
              "\n",
              "    .dataframe thead th {\n",
              "        text-align: right;\n",
              "    }\n",
              "</style>\n",
              "<table border=\"1\" class=\"dataframe\">\n",
              "  <thead>\n",
              "    <tr style=\"text-align: right;\">\n",
              "      <th></th>\n",
              "      <th>상가업소번호</th>\n",
              "      <th>상호명</th>\n",
              "      <th>상권업종대분류코드</th>\n",
              "      <th>상권업종대분류명</th>\n",
              "      <th>상권업종중분류코드</th>\n",
              "      <th>상권업종중분류명</th>\n",
              "      <th>상권업종소분류코드</th>\n",
              "      <th>상권업종소분류명</th>\n",
              "      <th>시도코드</th>\n",
              "      <th>시도명</th>\n",
              "      <th>시군구코드</th>\n",
              "      <th>시군구명</th>\n",
              "      <th>행정동코드</th>\n",
              "      <th>행정동명</th>\n",
              "      <th>법정동코드</th>\n",
              "      <th>법정동명</th>\n",
              "      <th>지번코드</th>\n",
              "      <th>대지구분코드</th>\n",
              "      <th>대지구분명</th>\n",
              "      <th>지번본번지</th>\n",
              "      <th>지번주소</th>\n",
              "      <th>도로명코드</th>\n",
              "      <th>도로명</th>\n",
              "      <th>건물본번지</th>\n",
              "      <th>건물관리번호</th>\n",
              "      <th>도로명주소</th>\n",
              "      <th>구우편번호</th>\n",
              "      <th>신우편번호</th>\n",
              "      <th>경도</th>\n",
              "      <th>위도</th>\n",
              "    </tr>\n",
              "  </thead>\n",
              "  <tbody>\n",
              "    <tr>\n",
              "      <th>22</th>\n",
              "      <td>21013731</td>\n",
              "      <td>세종언어치료센터</td>\n",
              "      <td>S</td>\n",
              "      <td>의료</td>\n",
              "      <td>S03</td>\n",
              "      <td>유사의료업</td>\n",
              "      <td>S03B07</td>\n",
              "      <td>언어치료</td>\n",
              "      <td>26.0</td>\n",
              "      <td>부산광역시</td>\n",
              "      <td>26410.0</td>\n",
              "      <td>금정구</td>\n",
              "      <td>2641068000</td>\n",
              "      <td>구서1동</td>\n",
              "      <td>2.641011e+09</td>\n",
              "      <td>구서동</td>\n",
              "      <td>2641010700200840001</td>\n",
              "      <td>1</td>\n",
              "      <td>대지</td>\n",
              "      <td>84</td>\n",
              "      <td>부산광역시 금정구 구서동 84-1</td>\n",
              "      <td>264102000010</td>\n",
              "      <td>부산광역시 금정구 중앙대로</td>\n",
              "      <td>1817</td>\n",
              "      <td>2641010700100840001017686</td>\n",
              "      <td>부산광역시 금정구 중앙대로 1817-11</td>\n",
              "      <td>609310.0</td>\n",
              "      <td>46273.0</td>\n",
              "      <td>129.091662</td>\n",
              "      <td>35.246528</td>\n",
              "    </tr>\n",
              "    <tr>\n",
              "      <th>108</th>\n",
              "      <td>21914637</td>\n",
              "      <td>태화아동발달지원센터</td>\n",
              "      <td>S</td>\n",
              "      <td>의료</td>\n",
              "      <td>S03</td>\n",
              "      <td>유사의료업</td>\n",
              "      <td>S03B07</td>\n",
              "      <td>언어치료</td>\n",
              "      <td>30.0</td>\n",
              "      <td>대전광역시</td>\n",
              "      <td>30140.0</td>\n",
              "      <td>중구</td>\n",
              "      <td>3014072000</td>\n",
              "      <td>문화1동</td>\n",
              "      <td>3.014012e+09</td>\n",
              "      <td>문화동</td>\n",
              "      <td>3014011600200270000</td>\n",
              "      <td>1</td>\n",
              "      <td>대지</td>\n",
              "      <td>27</td>\n",
              "      <td>대전광역시 중구 문화동 27</td>\n",
              "      <td>301404295402</td>\n",
              "      <td>대전광역시 중구 보문산로333번길</td>\n",
              "      <td>29</td>\n",
              "      <td>3014011600100270000008172</td>\n",
              "      <td>대전광역시 중구 보문산로333번길 29</td>\n",
              "      <td>301130.0</td>\n",
              "      <td>35020.0</td>\n",
              "      <td>127.412725</td>\n",
              "      <td>36.312953</td>\n",
              "    </tr>\n",
              "  </tbody>\n",
              "</table>\n",
              "</div>"
            ],
            "text/plain": [
              "       상가업소번호         상호명 상권업종대분류코드  ...    신우편번호          경도         위도\n",
              "22   21013731    세종언어치료센터         S  ...  46273.0  129.091662  35.246528\n",
              "108  21914637  태화아동발달지원센터         S  ...  35020.0  127.412725  36.312953\n",
              "\n",
              "[2 rows x 30 columns]"
            ]
          },
          "metadata": {},
          "execution_count": 82
        }
      ]
    },
    {
      "cell_type": "markdown",
      "metadata": {
        "id": "nIG99M0GTE5-"
      },
      "source": [
        "### 전국 시도별 언어치료 "
      ]
    },
    {
      "cell_type": "code",
      "metadata": {
        "colab": {
          "base_uri": "https://localhost:8080/",
          "height": 282
        },
        "id": "DViCG0ykPOjG",
        "outputId": "72d5d8ed-41d9-4fba-97fb-48089b088a09"
      },
      "source": [
        "df_speak['시도명'].value_counts().plot.barh()"
      ],
      "execution_count": 81,
      "outputs": [
        {
          "output_type": "execute_result",
          "data": {
            "text/plain": [
              "<matplotlib.axes._subplots.AxesSubplot at 0x7f78af6dea10>"
            ]
          },
          "metadata": {},
          "execution_count": 81
        },
        {
          "output_type": "display_data",
          "data": {
            "image/png": "[encoded data removed]",
            "text/plain": [
              "<Figure size 432x288 with 1 Axes>"
            ]
          },
          "metadata": {
            "needs_background": "light"
          }
        }
      ]
    },
    {
      "cell_type": "code",
      "metadata": {
        "colab": {
          "base_uri": "https://localhost:8080/",
          "height": 606
        },
        "id": "Waq6W64TR-Yw",
        "outputId": "94eb443c-6005-496b-892b-04a498e5b9a7"
      },
      "source": [
        "df_speak['시도명'].value_counts().plot.pie(autopct='%.2f%%',figsize=(12,10))\n",
        "plt.title('시도별 언어치료 비율')"
      ],
      "execution_count": 91,
      "outputs": [
        {
          "output_type": "execute_result",
          "data": {
            "text/plain": [
              "Text(0.5, 1.0, '시도별 언어치료 비율')"
            ]
          },
          "metadata": {},
          "execution_count": 91
        },
        {
          "output_type": "display_data",
          "data": {
            "image/png": "[encoded data removed]",
            "text/plain": [
              "<Figure size 864x720 with 1 Axes>"
            ]
          },
          "metadata": {}
        }
      ]
    },
    {
      "cell_type": "markdown",
      "metadata": {
        "id": "6FWkQZrHRxrL"
      },
      "source": [
        "### 서울 시군구별 언어치료 비율"
      ]
    },
    {
      "cell_type": "code",
      "metadata": {
        "colab": {
          "base_uri": "https://localhost:8080/",
          "height": 641
        },
        "id": "6uU1MIPyP3xr",
        "outputId": "5ad15d46-8b37-47d2-888f-f336d4d58d48"
      },
      "source": [
        "df_speak_seoul= df_speak[df_speak['시도명']=='서울특별시']\n",
        "df_speak_seoul.head(2)"
      ],
      "execution_count": 93,
      "outputs": [
        {
          "output_type": "execute_result",
          "data": {
            "text/html": [
              "<div>\n",
              "<style scoped>\n",
              "    .dataframe tbody tr th:only-of-type {\n",
              "        vertical-align: middle;\n",
              "    }\n",
              "\n",
              "    .dataframe tbody tr th {\n",
              "        vertical-align: top;\n",
              "    }\n",
              "\n",
              "    .dataframe thead th {\n",
              "        text-align: right;\n",
              "    }\n",
              "</style>\n",
              "<table border=\"1\" class=\"dataframe\">\n",
              "  <thead>\n",
              "    <tr style=\"text-align: right;\">\n",
              "      <th></th>\n",
              "      <th>상가업소번호</th>\n",
              "      <th>상호명</th>\n",
              "      <th>상권업종대분류코드</th>\n",
              "      <th>상권업종대분류명</th>\n",
              "      <th>상권업종중분류코드</th>\n",
              "      <th>상권업종중분류명</th>\n",
              "      <th>상권업종소분류코드</th>\n",
              "      <th>상권업종소분류명</th>\n",
              "      <th>시도코드</th>\n",
              "      <th>시도명</th>\n",
              "      <th>시군구코드</th>\n",
              "      <th>시군구명</th>\n",
              "      <th>행정동코드</th>\n",
              "      <th>행정동명</th>\n",
              "      <th>법정동코드</th>\n",
              "      <th>법정동명</th>\n",
              "      <th>지번코드</th>\n",
              "      <th>대지구분코드</th>\n",
              "      <th>대지구분명</th>\n",
              "      <th>지번본번지</th>\n",
              "      <th>지번주소</th>\n",
              "      <th>도로명코드</th>\n",
              "      <th>도로명</th>\n",
              "      <th>건물본번지</th>\n",
              "      <th>건물관리번호</th>\n",
              "      <th>도로명주소</th>\n",
              "      <th>구우편번호</th>\n",
              "      <th>신우편번호</th>\n",
              "      <th>경도</th>\n",
              "      <th>위도</th>\n",
              "    </tr>\n",
              "  </thead>\n",
              "  <tbody>\n",
              "    <tr>\n",
              "      <th>430</th>\n",
              "      <td>20861641</td>\n",
              "      <td>서울언어치료센터</td>\n",
              "      <td>S</td>\n",
              "      <td>의료</td>\n",
              "      <td>S03</td>\n",
              "      <td>유사의료업</td>\n",
              "      <td>S03B07</td>\n",
              "      <td>언어치료</td>\n",
              "      <td>11.0</td>\n",
              "      <td>서울특별시</td>\n",
              "      <td>11710.0</td>\n",
              "      <td>송파구</td>\n",
              "      <td>1171058000</td>\n",
              "      <td>송파1동</td>\n",
              "      <td>1.171010e+09</td>\n",
              "      <td>송파동</td>\n",
              "      <td>1171010400200950055</td>\n",
              "      <td>1</td>\n",
              "      <td>대지</td>\n",
              "      <td>95</td>\n",
              "      <td>서울특별시 송파구 송파동 95-55</td>\n",
              "      <td>117103123001</td>\n",
              "      <td>서울특별시 송파구 가락로</td>\n",
              "      <td>139</td>\n",
              "      <td>1171010400100950055013236</td>\n",
              "      <td>서울특별시 송파구 가락로 139-1</td>\n",
              "      <td>138170.0</td>\n",
              "      <td>5668.0</td>\n",
              "      <td>127.111360</td>\n",
              "      <td>37.502574</td>\n",
              "    </tr>\n",
              "    <tr>\n",
              "      <th>481</th>\n",
              "      <td>20901857</td>\n",
              "      <td>한국아동발달연구소</td>\n",
              "      <td>S</td>\n",
              "      <td>의료</td>\n",
              "      <td>S03</td>\n",
              "      <td>유사의료업</td>\n",
              "      <td>S03B07</td>\n",
              "      <td>언어치료</td>\n",
              "      <td>11.0</td>\n",
              "      <td>서울특별시</td>\n",
              "      <td>11350.0</td>\n",
              "      <td>노원구</td>\n",
              "      <td>1135067000</td>\n",
              "      <td>상계5동</td>\n",
              "      <td>1.135010e+09</td>\n",
              "      <td>상계동</td>\n",
              "      <td>1135010500201730001</td>\n",
              "      <td>1</td>\n",
              "      <td>대지</td>\n",
              "      <td>173</td>\n",
              "      <td>서울특별시 노원구 상계동 173-1</td>\n",
              "      <td>113503110009</td>\n",
              "      <td>서울특별시 노원구 한글비석로</td>\n",
              "      <td>396</td>\n",
              "      <td>1135010500101730001001304</td>\n",
              "      <td>서울특별시 노원구 한글비석로 396</td>\n",
              "      <td>139748.0</td>\n",
              "      <td>1663.0</td>\n",
              "      <td>127.073564</td>\n",
              "      <td>37.662292</td>\n",
              "    </tr>\n",
              "  </tbody>\n",
              "</table>\n",
              "</div>"
            ],
            "text/plain": [
              "       상가업소번호        상호명 상권업종대분류코드  ...   신우편번호          경도         위도\n",
              "430  20861641   서울언어치료센터         S  ...  5668.0  127.111360  37.502574\n",
              "481  20901857  한국아동발달연구소         S  ...  1663.0  127.073564  37.662292\n",
              "\n",
              "[2 rows x 30 columns]"
            ]
          },
          "metadata": {},
          "execution_count": 93
        }
      ]
    },
    {
      "cell_type": "code",
      "metadata": {
        "colab": {
          "base_uri": "https://localhost:8080/",
          "height": 296
        },
        "id": "3s9_LWPVTRAO",
        "outputId": "c5c884ed-34de-4a43-b7b9-db36186778c6"
      },
      "source": [
        "sns.countplot(data= df_speak_seoul, y='시군구명')"
      ],
      "execution_count": 96,
      "outputs": [
        {
          "output_type": "execute_result",
          "data": {
            "text/plain": [
              "<matplotlib.axes._subplots.AxesSubplot at 0x7f78a313ef90>"
            ]
          },
          "metadata": {},
          "execution_count": 96
        },
        {
          "output_type": "display_data",
          "data": {
            "image/png": "[encoded data removed]",
            "text/plain": [
              "<Figure size 432x288 with 1 Axes>"
            ]
          },
          "metadata": {
            "needs_background": "light"
          }
        }
      ]
    },
    {
      "cell_type": "code",
      "metadata": {
        "colab": {
          "base_uri": "https://localhost:8080/",
          "height": 405
        },
        "id": "qzAluZqgUK_X",
        "outputId": "c89a3a91-9abe-4345-c896-beeec56cc45d"
      },
      "source": [
        "plt.figure(figsize=(8, 6))\n",
        "sns.scatterplot(data=df_speak_seoul, \n",
        "                x='경도', y='위도', hue='시군구명')"
      ],
      "execution_count": 103,
      "outputs": [
        {
          "output_type": "execute_result",
          "data": {
            "text/plain": [
              "<matplotlib.axes._subplots.AxesSubplot at 0x7f78a28b29d0>"
            ]
          },
          "metadata": {},
          "execution_count": 103
        },
        {
          "output_type": "display_data",
          "data": {
            "image/png": "[encoded data removed]",
            "text/plain": [
              "<Figure size 576x432 with 1 Axes>"
            ]
          },
          "metadata": {
            "needs_background": "light"
          }
        }
      ]
    },
    {
      "cell_type": "markdown",
      "metadata": {
        "id": "nrpf0DGUVD4_"
      },
      "source": [
        "## 과제(2)\n",
        "- 의료시설은 서울과 강남에 집중되어 있을까?"
      ]
    },
    {
      "cell_type": "code",
      "metadata": {
        "colab": {
          "base_uri": "https://localhost:8080/"
        },
        "id": "2MbdjJGyWHLu",
        "outputId": "f813fa61-d9bd-420d-f74a-f087f19798ae"
      },
      "source": [
        "df.상권업종중분류명.unique()"
      ],
      "execution_count": 106,
      "outputs": [
        {
          "output_type": "execute_result",
          "data": {
            "text/plain": [
              "array(['병원', '약국/한약방', '수의업', '유사의료업', '의료관련서비스업'], dtype=object)"
            ]
          },
          "metadata": {},
          "execution_count": 106
        }
      ]
    },
    {
      "cell_type": "code",
      "metadata": {
        "colab": {
          "base_uri": "https://localhost:8080/",
          "height": 607
        },
        "id": "0coFQTyfUkW9",
        "outputId": "e7db4f70-5f43-4bc0-bc80-8387a3ab5a8f"
      },
      "source": [
        "df_fac = df.groupby('시도명')['상권업종대분류명'].count().to_frame()\n",
        "df_fac = df_fac.sort_values('상권업종대분류명', ascending=False)\n",
        "df_fac.columns=['의료시설 수']\n",
        "df_fac"
      ],
      "execution_count": 135,
      "outputs": [
        {
          "output_type": "execute_result",
          "data": {
            "text/html": [
              "<div>\n",
              "<style scoped>\n",
              "    .dataframe tbody tr th:only-of-type {\n",
              "        vertical-align: middle;\n",
              "    }\n",
              "\n",
              "    .dataframe tbody tr th {\n",
              "        vertical-align: top;\n",
              "    }\n",
              "\n",
              "    .dataframe thead th {\n",
              "        text-align: right;\n",
              "    }\n",
              "</style>\n",
              "<table border=\"1\" class=\"dataframe\">\n",
              "  <thead>\n",
              "    <tr style=\"text-align: right;\">\n",
              "      <th></th>\n",
              "      <th>의료시설 수</th>\n",
              "    </tr>\n",
              "    <tr>\n",
              "      <th>시도명</th>\n",
              "      <th></th>\n",
              "    </tr>\n",
              "  </thead>\n",
              "  <tbody>\n",
              "    <tr>\n",
              "      <th>경기도</th>\n",
              "      <td>21374</td>\n",
              "    </tr>\n",
              "    <tr>\n",
              "      <th>서울특별시</th>\n",
              "      <td>18943</td>\n",
              "    </tr>\n",
              "    <tr>\n",
              "      <th>부산광역시</th>\n",
              "      <td>6473</td>\n",
              "    </tr>\n",
              "    <tr>\n",
              "      <th>경상남도</th>\n",
              "      <td>4973</td>\n",
              "    </tr>\n",
              "    <tr>\n",
              "      <th>인천광역시</th>\n",
              "      <td>4722</td>\n",
              "    </tr>\n",
              "    <tr>\n",
              "      <th>대구광역시</th>\n",
              "      <td>4597</td>\n",
              "    </tr>\n",
              "    <tr>\n",
              "      <th>경상북도</th>\n",
              "      <td>4141</td>\n",
              "    </tr>\n",
              "    <tr>\n",
              "      <th>전라북도</th>\n",
              "      <td>3894</td>\n",
              "    </tr>\n",
              "    <tr>\n",
              "      <th>충청남도</th>\n",
              "      <td>3578</td>\n",
              "    </tr>\n",
              "    <tr>\n",
              "      <th>전라남도</th>\n",
              "      <td>3224</td>\n",
              "    </tr>\n",
              "    <tr>\n",
              "      <th>광주광역시</th>\n",
              "      <td>3214</td>\n",
              "    </tr>\n",
              "    <tr>\n",
              "      <th>대전광역시</th>\n",
              "      <td>3067</td>\n",
              "    </tr>\n",
              "    <tr>\n",
              "      <th>충청북도</th>\n",
              "      <td>2677</td>\n",
              "    </tr>\n",
              "    <tr>\n",
              "      <th>강원도</th>\n",
              "      <td>2634</td>\n",
              "    </tr>\n",
              "    <tr>\n",
              "      <th>울산광역시</th>\n",
              "      <td>1997</td>\n",
              "    </tr>\n",
              "    <tr>\n",
              "      <th>제주특별자치도</th>\n",
              "      <td>1095</td>\n",
              "    </tr>\n",
              "    <tr>\n",
              "      <th>세종특별자치시</th>\n",
              "      <td>353</td>\n",
              "    </tr>\n",
              "  </tbody>\n",
              "</table>\n",
              "</div>"
            ],
            "text/plain": [
              "         의료시설 수\n",
              "시도명            \n",
              "경기도       21374\n",
              "서울특별시     18943\n",
              "부산광역시      6473\n",
              "경상남도       4973\n",
              "인천광역시      4722\n",
              "대구광역시      4597\n",
              "경상북도       4141\n",
              "전라북도       3894\n",
              "충청남도       3578\n",
              "전라남도       3224\n",
              "광주광역시      3214\n",
              "대전광역시      3067\n",
              "충청북도       2677\n",
              "강원도        2634\n",
              "울산광역시      1997\n",
              "제주특별자치도    1095\n",
              "세종특별자치시     353"
            ]
          },
          "metadata": {},
          "execution_count": 135
        }
      ]
    },
    {
      "cell_type": "code",
      "metadata": {
        "colab": {
          "base_uri": "https://localhost:8080/",
          "height": 282
        },
        "id": "4dxJqVXXV6qf",
        "outputId": "c99809af-fa4f-47cb-e43f-44c873525ddb"
      },
      "source": [
        "df_fac.plot.barh()"
      ],
      "execution_count": 136,
      "outputs": [
        {
          "output_type": "execute_result",
          "data": {
            "text/plain": [
              "<matplotlib.axes._subplots.AxesSubplot at 0x7f78a2151610>"
            ]
          },
          "metadata": {},
          "execution_count": 136
        },
        {
          "output_type": "display_data",
          "data": {
            "image/png": "[encoded data removed]",
            "text/plain": [
              "<Figure size 432x288 with 1 Axes>"
            ]
          },
          "metadata": {
            "needs_background": "light"
          }
        }
      ]
    },
    {
      "cell_type": "code",
      "metadata": {
        "colab": {
          "base_uri": "https://localhost:8080/",
          "height": 35
        },
        "id": "fKMs1-_yZhzE",
        "outputId": "5b165202-4dfe-44cc-cc87-d5b11ceb4b23"
      },
      "source": [
        "df['도로명주소'][0]"
      ],
      "execution_count": 7,
      "outputs": [
        {
          "output_type": "execute_result",
          "data": {
            "application/vnd.google.colaboratory.intrinsic+json": {
              "type": "string"
            },
            "text/plain": [
              "'경기도 안산시 단원구 달미로 10'"
            ]
          },
          "metadata": {},
          "execution_count": 7
        }
      ]
    },
    {
      "cell_type": "code",
      "metadata": {
        "colab": {
          "base_uri": "https://localhost:8080/"
        },
        "id": "-g-ENSGacxRN",
        "outputId": "cf15de96-3a7b-47c3-9edc-dc1a152137e7"
      },
      "source": [
        "street = df['도로명주소'][0].split()\n",
        "street"
      ],
      "execution_count": 9,
      "outputs": [
        {
          "output_type": "execute_result",
          "data": {
            "text/plain": [
              "['경기도', '안산시', '단원구', '달미로', '10']"
            ]
          },
          "metadata": {},
          "execution_count": 9
        }
      ]
    },
    {
      "cell_type": "code",
      "metadata": {
        "colab": {
          "base_uri": "https://localhost:8080/",
          "height": 35
        },
        "id": "3EoOxaZ7c1FY",
        "outputId": "d6917ada-c850-4dc7-f35c-11a9eee45e21"
      },
      "source": [
        "street[0]+ ' ' + street[1]"
      ],
      "execution_count": 12,
      "outputs": [
        {
          "output_type": "execute_result",
          "data": {
            "application/vnd.google.colaboratory.intrinsic+json": {
              "type": "string"
            },
            "text/plain": [
              "'경기도 안산시'"
            ]
          },
          "metadata": {},
          "execution_count": 12
        }
      ]
    },
    {
      "cell_type": "code",
      "metadata": {
        "id": "R4q57Yflc7_7"
      },
      "source": [
        "streets = []\n",
        "for i in df.index :\n",
        "  street = df['도로명주소'][i].split()\n",
        "  street = street[0]+ ' ' + street[1]\n",
        "  streets.append(street)"
      ],
      "execution_count": 16,
      "outputs": []
    },
    {
      "cell_type": "code",
      "metadata": {
        "id": "ILVZ4H2wdc75"
      },
      "source": [
        "df['시도군'] = streets"
      ],
      "execution_count": 18,
      "outputs": []
    },
    {
      "cell_type": "code",
      "metadata": {
        "colab": {
          "base_uri": "https://localhost:8080/",
          "height": 910
        },
        "id": "t-ot5spPebL9",
        "outputId": "eba1b0c6-ce51-4874-c5d3-b56322ca1ce1"
      },
      "source": [
        "df.head(3)"
      ],
      "execution_count": 19,
      "outputs": [
        {
          "output_type": "execute_result",
          "data": {
            "text/html": [
              "<div>\n",
              "<style scoped>\n",
              "    .dataframe tbody tr th:only-of-type {\n",
              "        vertical-align: middle;\n",
              "    }\n",
              "\n",
              "    .dataframe tbody tr th {\n",
              "        vertical-align: top;\n",
              "    }\n",
              "\n",
              "    .dataframe thead th {\n",
              "        text-align: right;\n",
              "    }\n",
              "</style>\n",
              "<table border=\"1\" class=\"dataframe\">\n",
              "  <thead>\n",
              "    <tr style=\"text-align: right;\">\n",
              "      <th></th>\n",
              "      <th>상가업소번호</th>\n",
              "      <th>상호명</th>\n",
              "      <th>지점명</th>\n",
              "      <th>상권업종대분류코드</th>\n",
              "      <th>상권업종대분류명</th>\n",
              "      <th>상권업종중분류코드</th>\n",
              "      <th>상권업종중분류명</th>\n",
              "      <th>상권업종소분류코드</th>\n",
              "      <th>상권업종소분류명</th>\n",
              "      <th>표준산업분류코드</th>\n",
              "      <th>표준산업분류명</th>\n",
              "      <th>시도코드</th>\n",
              "      <th>시도명</th>\n",
              "      <th>시군구코드</th>\n",
              "      <th>시군구명</th>\n",
              "      <th>행정동코드</th>\n",
              "      <th>행정동명</th>\n",
              "      <th>법정동코드</th>\n",
              "      <th>법정동명</th>\n",
              "      <th>지번코드</th>\n",
              "      <th>대지구분코드</th>\n",
              "      <th>대지구분명</th>\n",
              "      <th>지번본번지</th>\n",
              "      <th>지번부번지</th>\n",
              "      <th>지번주소</th>\n",
              "      <th>도로명코드</th>\n",
              "      <th>도로명</th>\n",
              "      <th>건물본번지</th>\n",
              "      <th>건물부번지</th>\n",
              "      <th>건물관리번호</th>\n",
              "      <th>건물명</th>\n",
              "      <th>도로명주소</th>\n",
              "      <th>구우편번호</th>\n",
              "      <th>신우편번호</th>\n",
              "      <th>동정보</th>\n",
              "      <th>층정보</th>\n",
              "      <th>호정보</th>\n",
              "      <th>경도</th>\n",
              "      <th>위도</th>\n",
              "      <th>시도군</th>\n",
              "    </tr>\n",
              "  </thead>\n",
              "  <tbody>\n",
              "    <tr>\n",
              "      <th>0</th>\n",
              "      <td>19956873</td>\n",
              "      <td>하나산부인과</td>\n",
              "      <td>NaN</td>\n",
              "      <td>S</td>\n",
              "      <td>의료</td>\n",
              "      <td>S01</td>\n",
              "      <td>병원</td>\n",
              "      <td>S01B10</td>\n",
              "      <td>산부인과</td>\n",
              "      <td>Q86201</td>\n",
              "      <td>일반 의원</td>\n",
              "      <td>41.0</td>\n",
              "      <td>경기도</td>\n",
              "      <td>41273.0</td>\n",
              "      <td>안산시 단원구</td>\n",
              "      <td>4127360000</td>\n",
              "      <td>선부3동</td>\n",
              "      <td>4.127311e+09</td>\n",
              "      <td>선부동</td>\n",
              "      <td>4127310900210810000</td>\n",
              "      <td>1</td>\n",
              "      <td>대지</td>\n",
              "      <td>1081</td>\n",
              "      <td>NaN</td>\n",
              "      <td>경기도 안산시 단원구 선부동 1081</td>\n",
              "      <td>412733191011</td>\n",
              "      <td>경기도 안산시 단원구 달미로</td>\n",
              "      <td>10</td>\n",
              "      <td>NaN</td>\n",
              "      <td>4127310900110810000010857</td>\n",
              "      <td>산호한양아파트</td>\n",
              "      <td>경기도 안산시 단원구 달미로 10</td>\n",
              "      <td>425764.0</td>\n",
              "      <td>15236.0</td>\n",
              "      <td>NaN</td>\n",
              "      <td>NaN</td>\n",
              "      <td>NaN</td>\n",
              "      <td>126.814295</td>\n",
              "      <td>37.336344</td>\n",
              "      <td>경기도 안산시</td>\n",
              "    </tr>\n",
              "    <tr>\n",
              "      <th>1</th>\n",
              "      <td>20024149</td>\n",
              "      <td>타워광명내과의원</td>\n",
              "      <td>NaN</td>\n",
              "      <td>S</td>\n",
              "      <td>의료</td>\n",
              "      <td>S01</td>\n",
              "      <td>병원</td>\n",
              "      <td>S01B07</td>\n",
              "      <td>내과/외과</td>\n",
              "      <td>Q86201</td>\n",
              "      <td>일반 의원</td>\n",
              "      <td>11.0</td>\n",
              "      <td>서울특별시</td>\n",
              "      <td>11680.0</td>\n",
              "      <td>강남구</td>\n",
              "      <td>1168065600</td>\n",
              "      <td>도곡2동</td>\n",
              "      <td>1.168012e+09</td>\n",
              "      <td>도곡동</td>\n",
              "      <td>1168011800204670014</td>\n",
              "      <td>1</td>\n",
              "      <td>대지</td>\n",
              "      <td>467</td>\n",
              "      <td>14.0</td>\n",
              "      <td>서울특별시 강남구 도곡동 467-14</td>\n",
              "      <td>116804166604</td>\n",
              "      <td>서울특별시 강남구 언주로30길</td>\n",
              "      <td>39</td>\n",
              "      <td>NaN</td>\n",
              "      <td>1168011800104670014000001</td>\n",
              "      <td>NaN</td>\n",
              "      <td>서울특별시 강남구 언주로30길 39</td>\n",
              "      <td>135270.0</td>\n",
              "      <td>6292.0</td>\n",
              "      <td>NaN</td>\n",
              "      <td>4</td>\n",
              "      <td>NaN</td>\n",
              "      <td>127.053198</td>\n",
              "      <td>37.488742</td>\n",
              "      <td>서울특별시 강남구</td>\n",
              "    </tr>\n",
              "    <tr>\n",
              "      <th>2</th>\n",
              "      <td>20152277</td>\n",
              "      <td>조정현신경외과의원</td>\n",
              "      <td>NaN</td>\n",
              "      <td>S</td>\n",
              "      <td>의료</td>\n",
              "      <td>S01</td>\n",
              "      <td>병원</td>\n",
              "      <td>S01B15</td>\n",
              "      <td>신경외과</td>\n",
              "      <td>Q86201</td>\n",
              "      <td>일반 의원</td>\n",
              "      <td>41.0</td>\n",
              "      <td>경기도</td>\n",
              "      <td>41390.0</td>\n",
              "      <td>시흥시</td>\n",
              "      <td>4139059100</td>\n",
              "      <td>정왕1동</td>\n",
              "      <td>4.139013e+09</td>\n",
              "      <td>정왕동</td>\n",
              "      <td>4139013200217400001</td>\n",
              "      <td>1</td>\n",
              "      <td>대지</td>\n",
              "      <td>1740</td>\n",
              "      <td>1.0</td>\n",
              "      <td>경기도 시흥시 정왕동 1740-1</td>\n",
              "      <td>413903199049</td>\n",
              "      <td>경기도 시흥시 중심상가로</td>\n",
              "      <td>178</td>\n",
              "      <td>NaN</td>\n",
              "      <td>4139013200117400001017064</td>\n",
              "      <td>한라프라자</td>\n",
              "      <td>경기도 시흥시 중심상가로 178</td>\n",
              "      <td>429450.0</td>\n",
              "      <td>15066.0</td>\n",
              "      <td>NaN</td>\n",
              "      <td>NaN</td>\n",
              "      <td>NaN</td>\n",
              "      <td>126.734841</td>\n",
              "      <td>37.344955</td>\n",
              "      <td>경기도 시흥시</td>\n",
              "    </tr>\n",
              "  </tbody>\n",
              "</table>\n",
              "</div>"
            ],
            "text/plain": [
              "     상가업소번호        상호명  지점명 상권업종대분류코드  ...  호정보          경도         위도        시도군\n",
              "0  19956873     하나산부인과  NaN         S  ...  NaN  126.814295  37.336344    경기도 안산시\n",
              "1  20024149   타워광명내과의원  NaN         S  ...  NaN  127.053198  37.488742  서울특별시 강남구\n",
              "2  20152277  조정현신경외과의원  NaN         S  ...  NaN  126.734841  37.344955    경기도 시흥시\n",
              "\n",
              "[3 rows x 40 columns]"
            ]
          },
          "metadata": {},
          "execution_count": 19
        }
      ]
    },
    {
      "cell_type": "code",
      "metadata": {
        "id": "v7I1dQV-eoY8"
      },
      "source": [
        ""
      ],
      "execution_count": null,
      "outputs": []
    }
  ]
}