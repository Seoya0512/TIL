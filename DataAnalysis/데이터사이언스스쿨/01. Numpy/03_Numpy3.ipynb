{
  "nbformat": 4,
  "nbformat_minor": 0,
  "metadata": {
    "colab": {
      "name": "03_Numpy3.ipynb",
      "provenance": [],
      "collapsed_sections": []
    },
    "kernelspec": {
      "name": "python3",
      "display_name": "Python 3"
    },
    "language_info": {
      "name": "python"
    }
  },
  "cells": [
    {
      "cell_type": "markdown",
      "metadata": {
        "id": "4c3rEZwa4nkb"
      },
      "source": [
        "# Numpy- part3"
      ]
    },
    {
      "cell_type": "code",
      "metadata": {
        "id": "9xG14LiF4sVy"
      },
      "source": [
        "import numpy as np"
      ],
      "execution_count": null,
      "outputs": []
    },
    {
      "cell_type": "markdown",
      "metadata": {
        "id": "PqlY11rk4rEn"
      },
      "source": [
        "## 6. Array operation"
      ]
    },
    {
      "cell_type": "code",
      "metadata": {
        "colab": {
          "base_uri": "https://localhost:8080/"
        },
        "id": "FUWj7qm-4aOu",
        "outputId": "260839d1-4bec-49b4-ba3d-6a19c82b66b8"
      },
      "source": [
        "a= np.arange(1,7).reshape(2,3)\n",
        "a"
      ],
      "execution_count": null,
      "outputs": [
        {
          "output_type": "execute_result",
          "data": {
            "text/plain": [
              "array([[1, 2, 3],\n",
              "       [4, 5, 6]])"
            ]
          },
          "metadata": {
            "tags": []
          },
          "execution_count": 2
        }
      ]
    },
    {
      "cell_type": "code",
      "metadata": {
        "colab": {
          "base_uri": "https://localhost:8080/"
        },
        "id": "BgNEK3Ty41wD",
        "outputId": "74000d49-a03b-4d12-fc68-231a8832b5e2"
      },
      "source": [
        "a + a"
      ],
      "execution_count": null,
      "outputs": [
        {
          "output_type": "execute_result",
          "data": {
            "text/plain": [
              "array([[ 2,  4,  6],\n",
              "       [ 8, 10, 12]])"
            ]
          },
          "metadata": {
            "tags": []
          },
          "execution_count": 3
        }
      ]
    },
    {
      "cell_type": "code",
      "metadata": {
        "colab": {
          "base_uri": "https://localhost:8080/"
        },
        "id": "S6EvO9-l44NM",
        "outputId": "93774297-fe1b-4cd0-b927-5ff5c098f695"
      },
      "source": [
        "a - a"
      ],
      "execution_count": null,
      "outputs": [
        {
          "output_type": "execute_result",
          "data": {
            "text/plain": [
              "array([[0, 0, 0],\n",
              "       [0, 0, 0]])"
            ]
          },
          "metadata": {
            "tags": []
          },
          "execution_count": 4
        }
      ]
    },
    {
      "cell_type": "code",
      "metadata": {
        "colab": {
          "base_uri": "https://localhost:8080/"
        },
        "id": "glEz3fMX46H-",
        "outputId": "d6300fdc-b2b9-4c7f-8ade-a585954b205b"
      },
      "source": [
        "a * a"
      ],
      "execution_count": null,
      "outputs": [
        {
          "output_type": "execute_result",
          "data": {
            "text/plain": [
              "array([[ 1,  4,  9],\n",
              "       [16, 25, 36]])"
            ]
          },
          "metadata": {
            "tags": []
          },
          "execution_count": 5
        }
      ]
    },
    {
      "cell_type": "markdown",
      "metadata": {
        "id": "MNlJW2UR5OCj"
      },
      "source": [
        "### dot product"
      ]
    },
    {
      "cell_type": "code",
      "metadata": {
        "colab": {
          "base_uri": "https://localhost:8080/"
        },
        "id": "5LbB_R_b48K-",
        "outputId": "4ccc7339-7a30-4d86-f949-58ced02a89b8"
      },
      "source": [
        "np.dot(a,a.T)       # (2,3). (3,2)  == > (2,2)"
      ],
      "execution_count": null,
      "outputs": [
        {
          "output_type": "execute_result",
          "data": {
            "text/plain": [
              "array([[14, 32],\n",
              "       [32, 77]])"
            ]
          },
          "metadata": {
            "tags": []
          },
          "execution_count": 7
        }
      ]
    },
    {
      "cell_type": "code",
      "metadata": {
        "colab": {
          "base_uri": "https://localhost:8080/"
        },
        "id": "CqjVIV5F6OoZ",
        "outputId": "661a9365-22b9-4798-dfe8-cec4637d81df"
      },
      "source": [
        "a.dot(a.T)"
      ],
      "execution_count": null,
      "outputs": [
        {
          "output_type": "execute_result",
          "data": {
            "text/plain": [
              "array([[14, 32],\n",
              "       [32, 77]])"
            ]
          },
          "metadata": {
            "tags": []
          },
          "execution_count": 8
        }
      ]
    },
    {
      "cell_type": "markdown",
      "metadata": {
        "id": "sSE9jEAZ6mBC"
      },
      "source": [
        "### broadcasting"
      ]
    },
    {
      "cell_type": "code",
      "metadata": {
        "colab": {
          "base_uri": "https://localhost:8080/"
        },
        "id": "hn27xDNy6Xp1",
        "outputId": "68fb0276-30f2-4244-f7c4-b1b11307b49b"
      },
      "source": [
        "a"
      ],
      "execution_count": null,
      "outputs": [
        {
          "output_type": "execute_result",
          "data": {
            "text/plain": [
              "array([[1, 2, 3],\n",
              "       [4, 5, 6]])"
            ]
          },
          "metadata": {
            "tags": []
          },
          "execution_count": 9
        }
      ]
    },
    {
      "cell_type": "code",
      "metadata": {
        "colab": {
          "base_uri": "https://localhost:8080/"
        },
        "id": "HADMHrP56q1_",
        "outputId": "5d0fd280-c821-41f2-ebd7-0b05e2886a5b"
      },
      "source": [
        "# 모든 a에 대해서 +3 을 한다\n",
        "\n",
        "a + 3"
      ],
      "execution_count": null,
      "outputs": [
        {
          "output_type": "execute_result",
          "data": {
            "text/plain": [
              "array([[4, 5, 6],\n",
              "       [7, 8, 9]])"
            ]
          },
          "metadata": {
            "tags": []
          },
          "execution_count": 11
        }
      ]
    },
    {
      "cell_type": "code",
      "metadata": {
        "colab": {
          "base_uri": "https://localhost:8080/"
        },
        "id": "JFqGsw7r6ztF",
        "outputId": "82e468c1-2e56-4ed2-f50a-96953c11c1bd"
      },
      "source": [
        "a//3"
      ],
      "execution_count": null,
      "outputs": [
        {
          "output_type": "execute_result",
          "data": {
            "text/plain": [
              "array([[0, 0, 1],\n",
              "       [1, 1, 2]])"
            ]
          },
          "metadata": {
            "tags": []
          },
          "execution_count": 12
        }
      ]
    },
    {
      "cell_type": "code",
      "metadata": {
        "colab": {
          "base_uri": "https://localhost:8080/"
        },
        "id": "FIZKlwBM67Hg",
        "outputId": "6ab5feb1-bb5a-42a5-f96b-4650ce1794d3"
      },
      "source": [
        "a % 3"
      ],
      "execution_count": null,
      "outputs": [
        {
          "output_type": "execute_result",
          "data": {
            "text/plain": [
              "array([[1, 2, 0],\n",
              "       [1, 2, 0]])"
            ]
          },
          "metadata": {
            "tags": []
          },
          "execution_count": 13
        }
      ]
    },
    {
      "cell_type": "code",
      "metadata": {
        "id": "yu-112ST6-gc"
      },
      "source": [
        "b = np.array([10,20,30])"
      ],
      "execution_count": null,
      "outputs": []
    },
    {
      "cell_type": "code",
      "metadata": {
        "colab": {
          "base_uri": "https://localhost:8080/"
        },
        "id": "rmBu7QM-7PcL",
        "outputId": "3995583b-06af-4a68-9a50-f4025f4f2c42"
      },
      "source": [
        "# 2차원 matrix와 1차원 vector간에도 사용 가능\n",
        "\n",
        "a + b"
      ],
      "execution_count": null,
      "outputs": [
        {
          "output_type": "execute_result",
          "data": {
            "text/plain": [
              "array([[11, 22, 33],\n",
              "       [14, 25, 36]])"
            ]
          },
          "metadata": {
            "tags": []
          },
          "execution_count": 16
        }
      ]
    },
    {
      "cell_type": "markdown",
      "metadata": {
        "id": "uYF9UGtd77Et"
      },
      "source": [
        "## 7.Comparison"
      ]
    },
    {
      "cell_type": "markdown",
      "metadata": {
        "id": "ERcKLxpS8Bfm"
      },
      "source": [
        "### all & any"
      ]
    },
    {
      "cell_type": "code",
      "metadata": {
        "colab": {
          "base_uri": "https://localhost:8080/"
        },
        "id": "PUb6bSpN7SDH",
        "outputId": "071c06a0-968e-4b52-ec15-83e23ecd8791"
      },
      "source": [
        "a = np.arange(8)\n",
        "a"
      ],
      "execution_count": null,
      "outputs": [
        {
          "output_type": "execute_result",
          "data": {
            "text/plain": [
              "array([0, 1, 2, 3, 4, 5, 6, 7])"
            ]
          },
          "metadata": {
            "tags": []
          },
          "execution_count": 18
        }
      ]
    },
    {
      "cell_type": "code",
      "metadata": {
        "colab": {
          "base_uri": "https://localhost:8080/"
        },
        "id": "txwVr7vE8GHM",
        "outputId": "bc80b7b0-9ff9-4651-9df4-20970f6e6c0e"
      },
      "source": [
        "a > 4"
      ],
      "execution_count": null,
      "outputs": [
        {
          "output_type": "execute_result",
          "data": {
            "text/plain": [
              "array([False, False, False, False, False,  True,  True,  True])"
            ]
          },
          "metadata": {
            "tags": []
          },
          "execution_count": 19
        }
      ]
    },
    {
      "cell_type": "code",
      "metadata": {
        "colab": {
          "base_uri": "https://localhost:8080/"
        },
        "id": "j7VkZt-K8KSh",
        "outputId": "a87cc32b-4f14-48ae-e0b8-f5ea6d5418c9"
      },
      "source": [
        "# 모든 것이 True? \n",
        "\n",
        "np.all(a > 4)"
      ],
      "execution_count": null,
      "outputs": [
        {
          "output_type": "execute_result",
          "data": {
            "text/plain": [
              "False"
            ]
          },
          "metadata": {
            "tags": []
          },
          "execution_count": 25
        }
      ]
    },
    {
      "cell_type": "code",
      "metadata": {
        "colab": {
          "base_uri": "https://localhost:8080/"
        },
        "id": "m83AonoB8PI8",
        "outputId": "5e2362dc-6b5d-46f9-af1e-aec54cadd967"
      },
      "source": [
        "# 한개 이상의 True가 있느냐? \n",
        "\n",
        "np.any(a > 4)"
      ],
      "execution_count": null,
      "outputs": [
        {
          "output_type": "execute_result",
          "data": {
            "text/plain": [
              "True"
            ]
          },
          "metadata": {
            "tags": []
          },
          "execution_count": 27
        }
      ]
    },
    {
      "cell_type": "code",
      "metadata": {
        "colab": {
          "base_uri": "https://localhost:8080/"
        },
        "id": "53PgKqng8VKt",
        "outputId": "714d8afa-583d-4ebd-ed3e-4eb814e873f3"
      },
      "source": [
        "x = np.array([1,3,0])\n",
        "y = np.array([5,2,1])\n",
        "x > y "
      ],
      "execution_count": null,
      "outputs": [
        {
          "output_type": "execute_result",
          "data": {
            "text/plain": [
              "array([False,  True, False])"
            ]
          },
          "metadata": {
            "tags": []
          },
          "execution_count": 24
        }
      ]
    },
    {
      "cell_type": "code",
      "metadata": {
        "colab": {
          "base_uri": "https://localhost:8080/"
        },
        "id": "Klm4Yeaw8rUi",
        "outputId": "b2bc00dd-c56b-492e-a349-9c8f624465bc"
      },
      "source": [
        "x == y"
      ],
      "execution_count": null,
      "outputs": [
        {
          "output_type": "execute_result",
          "data": {
            "text/plain": [
              "array([False, False, False])"
            ]
          },
          "metadata": {
            "tags": []
          },
          "execution_count": 28
        }
      ]
    },
    {
      "cell_type": "markdown",
      "metadata": {
        "id": "6FkiQHTY8_f6"
      },
      "source": [
        "### logical operation"
      ]
    },
    {
      "cell_type": "code",
      "metadata": {
        "colab": {
          "base_uri": "https://localhost:8080/"
        },
        "id": "Qf6FV6UI8yRC",
        "outputId": "b5ec96a8-977c-4284-a161-27bbec16f4f9"
      },
      "source": [
        "a = np.array([1,3,0], float)\n",
        "b = np.logical_and(a>0, a<3)        # 0 < a < 3\n",
        "b"
      ],
      "execution_count": null,
      "outputs": [
        {
          "output_type": "execute_result",
          "data": {
            "text/plain": [
              "array([ True, False, False])"
            ]
          },
          "metadata": {
            "tags": []
          },
          "execution_count": 31
        }
      ]
    },
    {
      "cell_type": "code",
      "metadata": {
        "colab": {
          "base_uri": "https://localhost:8080/"
        },
        "id": "lxGq8REd9PAE",
        "outputId": "00630030-672b-49d2-9651-2bdd72ba2cbb"
      },
      "source": [
        "# 0 이외의 값은 True \n",
        "\n",
        "c=np.logical_not(b)\n",
        "c"
      ],
      "execution_count": null,
      "outputs": [
        {
          "output_type": "execute_result",
          "data": {
            "text/plain": [
              "array([False,  True,  True])"
            ]
          },
          "metadata": {
            "tags": []
          },
          "execution_count": 34
        }
      ]
    },
    {
      "cell_type": "code",
      "metadata": {
        "colab": {
          "base_uri": "https://localhost:8080/"
        },
        "id": "suyNm9sN9fpB",
        "outputId": "3bbed205-9645-4e53-c714-804d81ddc7d5"
      },
      "source": [
        "np.logical_or(b,c)"
      ],
      "execution_count": null,
      "outputs": [
        {
          "output_type": "execute_result",
          "data": {
            "text/plain": [
              "array([ True,  True,  True])"
            ]
          },
          "metadata": {
            "tags": []
          },
          "execution_count": 35
        }
      ]
    },
    {
      "cell_type": "code",
      "metadata": {
        "colab": {
          "base_uri": "https://localhost:8080/"
        },
        "id": "mIguZjCH9rfh",
        "outputId": "347386ff-bf1e-4096-e406-2644a7847efc"
      },
      "source": [
        "np.logical_xor(b,c)"
      ],
      "execution_count": null,
      "outputs": [
        {
          "output_type": "execute_result",
          "data": {
            "text/plain": [
              "array([ True,  True,  True])"
            ]
          },
          "metadata": {
            "tags": []
          },
          "execution_count": 36
        }
      ]
    },
    {
      "cell_type": "code",
      "metadata": {
        "colab": {
          "base_uri": "https://localhost:8080/"
        },
        "id": "VeHjqwgS918i",
        "outputId": "6c15fede-cff7-4ca2-d16d-1624b86a9af6"
      },
      "source": [
        "# where(condition, True, False)\n",
        "\n",
        "np.where(a >1, 10, 0)"
      ],
      "execution_count": null,
      "outputs": [
        {
          "output_type": "execute_result",
          "data": {
            "text/plain": [
              "array([ 0, 10,  0])"
            ]
          },
          "metadata": {
            "tags": []
          },
          "execution_count": 38
        }
      ]
    },
    {
      "cell_type": "code",
      "metadata": {
        "colab": {
          "base_uri": "https://localhost:8080/"
        },
        "id": "A8fZnEl3-Js7",
        "outputId": "d8a2bc52-f5f2-473b-863a-f7fb8fa1902d"
      },
      "source": [
        "# index 값 반환\n",
        "\n",
        "np.where(np.arange(10,20) > 15)"
      ],
      "execution_count": null,
      "outputs": [
        {
          "output_type": "execute_result",
          "data": {
            "text/plain": [
              "(array([6, 7, 8, 9]),)"
            ]
          },
          "metadata": {
            "tags": []
          },
          "execution_count": 41
        }
      ]
    },
    {
      "cell_type": "code",
      "metadata": {
        "colab": {
          "base_uri": "https://localhost:8080/"
        },
        "id": "RkhSW_Nt-mUm",
        "outputId": "23b1c018-e92f-4543-880a-12302de6827e"
      },
      "source": [
        "# Infinite, Not a Number \n",
        "a = np.array([np.Inf, np.NaN , 1 , np.nan, np.inf, np.NAN])\n",
        "a"
      ],
      "execution_count": null,
      "outputs": [
        {
          "output_type": "execute_result",
          "data": {
            "text/plain": [
              "array([inf, nan,  1., nan, inf, nan])"
            ]
          },
          "metadata": {
            "tags": []
          },
          "execution_count": 43
        }
      ]
    },
    {
      "cell_type": "code",
      "metadata": {
        "colab": {
          "base_uri": "https://localhost:8080/"
        },
        "id": "SAHq-u0w_YXw",
        "outputId": "efff783f-b466-4f82-c69b-ac90419cbd56"
      },
      "source": [
        "np.isnan(a)       # Is not a number?"
      ],
      "execution_count": null,
      "outputs": [
        {
          "output_type": "execute_result",
          "data": {
            "text/plain": [
              "array([False,  True, False,  True, False,  True])"
            ]
          },
          "metadata": {
            "tags": []
          },
          "execution_count": 44
        }
      ]
    },
    {
      "cell_type": "code",
      "metadata": {
        "colab": {
          "base_uri": "https://localhost:8080/"
        },
        "id": "ro5GgYCm_voz",
        "outputId": "f41ac541-0398-4115-882b-8d7c13afc49f"
      },
      "source": [
        "np.isfinite(a)      # Is finite number?"
      ],
      "execution_count": null,
      "outputs": [
        {
          "output_type": "execute_result",
          "data": {
            "text/plain": [
              "array([False, False,  True, False, False, False])"
            ]
          },
          "metadata": {
            "tags": []
          },
          "execution_count": 46
        }
      ]
    },
    {
      "cell_type": "code",
      "metadata": {
        "colab": {
          "base_uri": "https://localhost:8080/"
        },
        "id": "YtfE3RKTAI-2",
        "outputId": "83d6dba7-f2d9-44d9-c5d7-66dad4623883"
      },
      "source": [
        "np.isnan(a).sum()"
      ],
      "execution_count": null,
      "outputs": [
        {
          "output_type": "execute_result",
          "data": {
            "text/plain": [
              "3"
            ]
          },
          "metadata": {
            "tags": []
          },
          "execution_count": 47
        }
      ]
    },
    {
      "cell_type": "markdown",
      "metadata": {
        "id": "G-i9eRh9EMI9"
      },
      "source": [
        "### argmax,argmin"
      ]
    },
    {
      "cell_type": "code",
      "metadata": {
        "colab": {
          "base_uri": "https://localhost:8080/"
        },
        "id": "cQ0jX1JkALVA",
        "outputId": "51eb2db8-80d7-4ada-a667-9fd3cd0b6905"
      },
      "source": [
        "# index 값으로 도출\n",
        "\n",
        "a = np.array([1,2,3,5,6,78,23,31])\n",
        "np.argmax(a), np.argmin(a)"
      ],
      "execution_count": null,
      "outputs": [
        {
          "output_type": "execute_result",
          "data": {
            "text/plain": [
              "(5, 0)"
            ]
          },
          "metadata": {
            "tags": []
          },
          "execution_count": 51
        }
      ]
    },
    {
      "cell_type": "markdown",
      "metadata": {
        "id": "kxjVc0YmFmxD"
      },
      "source": [
        "## 8. Boolean & fancy index"
      ]
    },
    {
      "cell_type": "markdown",
      "metadata": {
        "id": "vrQ362MrGLod"
      },
      "source": [
        "### boolean index"
      ]
    },
    {
      "cell_type": "code",
      "metadata": {
        "colab": {
          "base_uri": "https://localhost:8080/"
        },
        "id": "N2tWgcnxEWCv",
        "outputId": "f079c0f8-c21b-49ad-96fe-e49e4d2472ce"
      },
      "source": [
        "a > 4"
      ],
      "execution_count": null,
      "outputs": [
        {
          "output_type": "execute_result",
          "data": {
            "text/plain": [
              "array([False, False, False,  True,  True,  True,  True,  True])"
            ]
          },
          "metadata": {
            "tags": []
          },
          "execution_count": 52
        }
      ]
    },
    {
      "cell_type": "code",
      "metadata": {
        "colab": {
          "base_uri": "https://localhost:8080/"
        },
        "id": "Ejp7ssv-Fspl",
        "outputId": "cc001c0b-06e6-4fed-d421-e77fa119882e"
      },
      "source": [
        "a[a>4]"
      ],
      "execution_count": null,
      "outputs": [
        {
          "output_type": "execute_result",
          "data": {
            "text/plain": [
              "array([ 5,  6, 78, 23, 31])"
            ]
          },
          "metadata": {
            "tags": []
          },
          "execution_count": 53
        }
      ]
    },
    {
      "cell_type": "markdown",
      "metadata": {
        "id": "hmhUTbn4GOpf"
      },
      "source": [
        "### fancy index"
      ]
    },
    {
      "cell_type": "code",
      "metadata": {
        "colab": {
          "base_uri": "https://localhost:8080/"
        },
        "id": "z3SNAb1pFxPE",
        "outputId": "0c82d39f-8b07-4348-d303-832c303186fc"
      },
      "source": [
        "a = np.array([2,4,6,8])\n",
        "b = np.array([1,3,2,0,0,1])\n",
        "a[b]"
      ],
      "execution_count": null,
      "outputs": [
        {
          "output_type": "execute_result",
          "data": {
            "text/plain": [
              "array([4, 8, 6, 2, 2, 4])"
            ]
          },
          "metadata": {
            "tags": []
          },
          "execution_count": 56
        }
      ]
    },
    {
      "cell_type": "code",
      "metadata": {
        "colab": {
          "base_uri": "https://localhost:8080/"
        },
        "id": "aLZPglDGGjkz",
        "outputId": "30f49f0e-4b98-48cd-fad2-808230000494"
      },
      "source": [
        "a.take(b)"
      ],
      "execution_count": null,
      "outputs": [
        {
          "output_type": "execute_result",
          "data": {
            "text/plain": [
              "array([4, 8, 6, 2, 2, 4])"
            ]
          },
          "metadata": {
            "tags": []
          },
          "execution_count": 57
        }
      ]
    },
    {
      "cell_type": "code",
      "metadata": {
        "colab": {
          "base_uri": "https://localhost:8080/"
        },
        "id": "YPUyxDz_GuX9",
        "outputId": "a2cd29ec-4078-4cc4-b7f8-7ac2a294b3fa"
      },
      "source": [
        "a = np.arange(1,13).reshape(3,4)\n",
        "b = np.array([1,2,0,1])       # 행 인덱스\n",
        "c = np.array([2,1,3,0])       # 열 인덱스 \n",
        "a[b,c]"
      ],
      "execution_count": null,
      "outputs": [
        {
          "output_type": "execute_result",
          "data": {
            "text/plain": [
              "array([ 7, 10,  4,  5])"
            ]
          },
          "metadata": {
            "tags": []
          },
          "execution_count": 58
        }
      ]
    },
    {
      "cell_type": "markdown",
      "metadata": {
        "id": "fAc0bWINHbxW"
      },
      "source": [
        "## 9. 기술 통계"
      ]
    },
    {
      "cell_type": "code",
      "metadata": {
        "id": "83pnOEXLHM5K"
      },
      "source": [
        "a = np.random.randint(1,10000,1000)"
      ],
      "execution_count": null,
      "outputs": []
    },
    {
      "cell_type": "code",
      "metadata": {
        "colab": {
          "base_uri": "https://localhost:8080/"
        },
        "id": "kDIqHf-WIYCo",
        "outputId": "8e201492-fbde-447b-b7e7-cc177e5aa47b"
      },
      "source": [
        "for q in [0,25,50,75,100]:\n",
        "  print(np.percentile(a,q))"
      ],
      "execution_count": null,
      "outputs": [
        {
          "output_type": "stream",
          "text": [
            "15.0\n",
            "2557.25\n",
            "5088.5\n",
            "7403.25\n",
            "9984.0\n"
          ],
          "name": "stdout"
        }
      ]
    },
    {
      "cell_type": "code",
      "metadata": {
        "colab": {
          "base_uri": "https://localhost:8080/",
          "height": 265
        },
        "id": "N8A1dyy5IljB",
        "outputId": "8aba24dd-63ba-4f52-fdd4-2c9bac2673e9"
      },
      "source": [
        "import matplotlib.pyplot as plt\n",
        "\n",
        "plt.boxplot(a)\n",
        "plt.show()"
      ],
      "execution_count": null,
      "outputs": [
        {
          "output_type": "display_data",
          "data": {
            "image/png": "[encoded data removed]",
            "text/plain": [
              "<Figure size 432x288 with 1 Axes>"
            ]
          },
          "metadata": {
            "tags": [],
            "needs_background": "light"
          }
        }
      ]
    }
  ]
}