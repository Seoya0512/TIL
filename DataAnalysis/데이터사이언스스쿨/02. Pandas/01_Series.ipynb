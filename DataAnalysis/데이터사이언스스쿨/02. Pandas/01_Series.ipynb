{
  "nbformat": 4,
  "nbformat_minor": 2,
  "metadata": {
    "colab": {
      "name": "01_Series.ipynb",
      "provenance": [],
      "collapsed_sections": []
    },
    "kernelspec": {
      "name": "python3",
      "display_name": "Python 3.8.10 64-bit ('base': conda)"
    },
    "language_info": {
      "name": "python",
      "version": "3.8.10",
      "mimetype": "text/x-python",
      "codemirror_mode": {
        "name": "ipython",
        "version": 3
      },
      "pygments_lexer": "ipython3",
      "nbconvert_exporter": "python",
      "file_extension": ".py"
    },
    "interpreter": {
      "hash": "59aa76eec713a2e656bb9d4ddb5f36b21f3d4006b36f877fc5669415524b1415"
    }
  },
  "cells": [
    {
      "cell_type": "markdown",
      "source": [
        "# Pandas - Series"
      ],
      "metadata": {
        "id": "U-fH6XzArSti"
      }
    },
    {
      "cell_type": "code",
      "execution_count": 2,
      "source": [
        "import numpy as np\n",
        "import pandas as pd"
      ],
      "outputs": [],
      "metadata": {
        "id": "UDD4MlKNrRML"
      }
    },
    {
      "cell_type": "markdown",
      "source": [
        "### 시리즈 생성"
      ],
      "metadata": {
        "id": "hfEmCG8jr1zg"
      }
    },
    {
      "cell_type": "code",
      "execution_count": 3,
      "source": [
        "s = pd.Series([9904312,3448737,2890451,2466052])\n",
        "s"
      ],
      "outputs": [
        {
          "output_type": "execute_result",
          "data": {
            "text/plain": [
              "0    9904312\n",
              "1    3448737\n",
              "2    2890451\n",
              "3    2466052\n",
              "dtype: int64"
            ]
          },
          "metadata": {},
          "execution_count": 3
        }
      ],
      "metadata": {
        "colab": {
          "base_uri": "https://localhost:8080/"
        },
        "id": "2PciTU4DrY5X",
        "outputId": "d2e0b6ba-8370-487d-df47-2cc647e88afe"
      }
    },
    {
      "cell_type": "code",
      "execution_count": 4,
      "source": [
        "s = pd.Series([9904312,3448737,2890451,2466052],\n",
        "              index=['서울','부산','인천','대구'], dtype=np.int32)\n",
        "s"
      ],
      "outputs": [
        {
          "output_type": "execute_result",
          "data": {
            "text/plain": [
              "서울    9904312\n",
              "부산    3448737\n",
              "인천    2890451\n",
              "대구    2466052\n",
              "dtype: int32"
            ]
          },
          "metadata": {},
          "execution_count": 4
        }
      ],
      "metadata": {
        "colab": {
          "base_uri": "https://localhost:8080/"
        },
        "id": "li58sBbTr8Iv",
        "outputId": "50ce1d1b-f6eb-4ac5-fafb-18998100b4a5"
      }
    },
    {
      "cell_type": "code",
      "execution_count": 6,
      "source": [
        "# 시리즈 값 = 넘파이 배열\n",
        "s.values"
      ],
      "outputs": [
        {
          "output_type": "execute_result",
          "data": {
            "text/plain": [
              "array([9904312, 3448737, 2890451, 2466052], dtype=int32)"
            ]
          },
          "metadata": {
            "tags": []
          },
          "execution_count": 6
        }
      ],
      "metadata": {
        "colab": {
          "base_uri": "https://localhost:8080/"
        },
        "id": "ml5kpLPPd81m",
        "outputId": "bbb8645a-b29d-4845-e50f-e4dcd4cd6c31"
      }
    },
    {
      "cell_type": "code",
      "execution_count": 7,
      "source": [
        "# 시리즈 인덱스\n",
        "s.index"
      ],
      "outputs": [
        {
          "output_type": "execute_result",
          "data": {
            "text/plain": [
              "Index(['서울', '부산', '인천', '대구'], dtype='object')"
            ]
          },
          "metadata": {
            "tags": []
          },
          "execution_count": 7
        }
      ],
      "metadata": {
        "colab": {
          "base_uri": "https://localhost:8080/"
        },
        "id": "viPM1NK-eC3u",
        "outputId": "a4871e91-2919-48ab-8c46-ab6322b3d8e3"
      }
    },
    {
      "cell_type": "code",
      "execution_count": 8,
      "source": [
        "s.name = '인구'\n",
        "s.index.name = '도시'\n",
        "s"
      ],
      "outputs": [
        {
          "output_type": "execute_result",
          "data": {
            "text/plain": [
              "도시\n",
              "서울    9904312\n",
              "부산    3448737\n",
              "인천    2890451\n",
              "대구    2466052\n",
              "Name: 인구, dtype: int32"
            ]
          },
          "metadata": {
            "tags": []
          },
          "execution_count": 8
        }
      ],
      "metadata": {
        "colab": {
          "base_uri": "https://localhost:8080/"
        },
        "id": "JswByUXjeCuO",
        "outputId": "9ed33aeb-5266-436e-feb4-e925fca40cc6"
      }
    },
    {
      "cell_type": "markdown",
      "source": [
        "### 시리즈의 연산"
      ],
      "metadata": {
        "id": "IH_oAMlteO3e"
      }
    },
    {
      "cell_type": "code",
      "execution_count": 9,
      "source": [
        "s / 1000000"
      ],
      "outputs": [
        {
          "output_type": "execute_result",
          "data": {
            "text/plain": [
              "도시\n",
              "서울    9.904312\n",
              "부산    3.448737\n",
              "인천    2.890451\n",
              "대구    2.466052\n",
              "Name: 인구, dtype: float64"
            ]
          },
          "metadata": {
            "tags": []
          },
          "execution_count": 9
        }
      ],
      "metadata": {
        "colab": {
          "base_uri": "https://localhost:8080/"
        },
        "id": "_9HutNUMeQu_",
        "outputId": "d05e22ab-9d37-4612-dc7c-ec2d44816c85"
      }
    },
    {
      "cell_type": "markdown",
      "source": [
        "### 시리즈의 인덱싱"
      ],
      "metadata": {
        "id": "s74VdNXfeU0w"
      }
    },
    {
      "cell_type": "code",
      "execution_count": 10,
      "source": [
        "s[1] , s['부산'], s.부산"
      ],
      "outputs": [
        {
          "output_type": "execute_result",
          "data": {
            "text/plain": [
              "(3448737, 3448737, 3448737)"
            ]
          },
          "metadata": {
            "tags": []
          },
          "execution_count": 10
        }
      ],
      "metadata": {
        "colab": {
          "base_uri": "https://localhost:8080/"
        },
        "id": "j8FP50VCeWza",
        "outputId": "3c375d7f-fa04-4f88-ed05-e071eef1258a"
      }
    },
    {
      "cell_type": "code",
      "execution_count": 11,
      "source": [
        "# fancy indexing\n",
        "s[[0,3,1]]"
      ],
      "outputs": [
        {
          "output_type": "execute_result",
          "data": {
            "text/plain": [
              "도시\n",
              "서울    9904312\n",
              "대구    2466052\n",
              "부산    3448737\n",
              "Name: 인구, dtype: int32"
            ]
          },
          "metadata": {
            "tags": []
          },
          "execution_count": 11
        }
      ],
      "metadata": {
        "colab": {
          "base_uri": "https://localhost:8080/"
        },
        "id": "-Sw_sLc4edXt",
        "outputId": "7e07f351-b335-457a-b454-5ac24a3354ac"
      }
    },
    {
      "cell_type": "code",
      "execution_count": 12,
      "source": [
        "# slicing\n",
        "s[1:3]"
      ],
      "outputs": [
        {
          "output_type": "execute_result",
          "data": {
            "text/plain": [
              "도시\n",
              "부산    3448737\n",
              "인천    2890451\n",
              "Name: 인구, dtype: int32"
            ]
          },
          "metadata": {
            "tags": []
          },
          "execution_count": 12
        }
      ],
      "metadata": {
        "colab": {
          "base_uri": "https://localhost:8080/"
        },
        "id": "FDZpfmriedCs",
        "outputId": "390be262-7ee0-4fd2-b720-b49fd31e3232"
      }
    },
    {
      "cell_type": "code",
      "execution_count": 13,
      "source": [
        "# 문자 인덱스로 슬라이싱 하면 마지막(대구)도 포함\n",
        "s['부산':'대구']"
      ],
      "outputs": [
        {
          "output_type": "execute_result",
          "data": {
            "text/plain": [
              "도시\n",
              "부산    3448737\n",
              "인천    2890451\n",
              "대구    2466052\n",
              "Name: 인구, dtype: int32"
            ]
          },
          "metadata": {
            "tags": []
          },
          "execution_count": 13
        }
      ],
      "metadata": {
        "colab": {
          "base_uri": "https://localhost:8080/"
        },
        "id": "D7ikQ8bDelA1",
        "outputId": "d59b237d-9ecb-41a2-b9e1-561c072460c0"
      }
    },
    {
      "cell_type": "code",
      "execution_count": 14,
      "source": [
        "# 필터링 (& = and)\n",
        "s[(2500000 < s) & (s < 3000000)] "
      ],
      "outputs": [
        {
          "output_type": "execute_result",
          "data": {
            "text/plain": [
              "도시\n",
              "인천    2890451\n",
              "Name: 인구, dtype: int32"
            ]
          },
          "metadata": {
            "tags": []
          },
          "execution_count": 14
        }
      ],
      "metadata": {
        "colab": {
          "base_uri": "https://localhost:8080/"
        },
        "id": "eJUv74X-ek9j",
        "outputId": "59bce9cb-4f99-4211-8669-ef74abdfc42f"
      }
    },
    {
      "cell_type": "code",
      "execution_count": 16,
      "source": [
        "# 필터링 (| = or )\n",
        "s[(s<25e5) | (s>4e6)]"
      ],
      "outputs": [
        {
          "output_type": "execute_result",
          "data": {
            "text/plain": [
              "도시\n",
              "서울    9904312\n",
              "대구    2466052\n",
              "Name: 인구, dtype: int32"
            ]
          },
          "metadata": {
            "tags": []
          },
          "execution_count": 16
        }
      ],
      "metadata": {
        "colab": {
          "base_uri": "https://localhost:8080/"
        },
        "id": "--4emf87ek2C",
        "outputId": "7dc2fd1f-30b5-44c7-da28-935be2d5dd54"
      }
    },
    {
      "cell_type": "markdown",
      "source": [
        "### 시리즈와 딕셔너리"
      ],
      "metadata": {
        "id": "oIuiZII1e59L"
      }
    },
    {
      "cell_type": "code",
      "execution_count": 17,
      "source": [
        "'서울' in s, '대전' in s"
      ],
      "outputs": [
        {
          "output_type": "execute_result",
          "data": {
            "text/plain": [
              "(True, False)"
            ]
          },
          "metadata": {
            "tags": []
          },
          "execution_count": 17
        }
      ],
      "metadata": {
        "colab": {
          "base_uri": "https://localhost:8080/"
        },
        "id": "qj_LNqWAe9Nu",
        "outputId": "70a2396c-f742-4efe-8209-978fe79ee4ab"
      }
    },
    {
      "cell_type": "code",
      "execution_count": 18,
      "source": [
        "s2 = pd.Series({\"서울\":9631482, \"부산\":3393191, \"인천\":2632035, \"대전\":1490158})\n",
        "s2\n"
      ],
      "outputs": [
        {
          "output_type": "execute_result",
          "data": {
            "text/plain": [
              "서울    9631482\n",
              "부산    3393191\n",
              "인천    2632035\n",
              "대전    1490158\n",
              "dtype: int64"
            ]
          },
          "metadata": {
            "tags": []
          },
          "execution_count": 18
        }
      ],
      "metadata": {
        "colab": {
          "base_uri": "https://localhost:8080/"
        },
        "id": "tn8yj5Jbe9F0",
        "outputId": "3de07278-68eb-461b-952d-74b077d607b9"
      }
    },
    {
      "cell_type": "markdown",
      "source": [
        "## 인덱스 기반 연산"
      ],
      "metadata": {
        "id": "WWJtY4G83Yto"
      }
    },
    {
      "cell_type": "code",
      "execution_count": 19,
      "source": [
        "s - s2"
      ],
      "outputs": [
        {
          "output_type": "execute_result",
          "data": {
            "text/plain": [
              "대구         NaN\n",
              "대전         NaN\n",
              "부산     55546.0\n",
              "서울    272830.0\n",
              "인천    258416.0\n",
              "dtype: float64"
            ]
          },
          "metadata": {
            "tags": []
          },
          "execution_count": 19
        }
      ],
      "metadata": {
        "colab": {
          "base_uri": "https://localhost:8080/"
        },
        "id": "L70iLevM2eUe",
        "outputId": "deaad2ce-5a0c-431f-e449-1ab04fb8ee3d"
      }
    },
    {
      "cell_type": "code",
      "execution_count": 20,
      "source": [
        "s.values - s2.values"
      ],
      "outputs": [
        {
          "output_type": "execute_result",
          "data": {
            "text/plain": [
              "array([272830,  55546, 258416, 975894])"
            ]
          },
          "metadata": {
            "tags": []
          },
          "execution_count": 20
        }
      ],
      "metadata": {
        "colab": {
          "base_uri": "https://localhost:8080/"
        },
        "id": "XN5y1K4BfGam",
        "outputId": "21bdd4fb-8bb7-4d71-e40a-d62fabef646b"
      }
    },
    {
      "cell_type": "code",
      "execution_count": 21,
      "source": [
        "rs= (s-s2)/s2*100\n",
        "rs"
      ],
      "outputs": [
        {
          "output_type": "execute_result",
          "data": {
            "text/plain": [
              "대구         NaN\n",
              "대전         NaN\n",
              "부산    1.636984\n",
              "서울    2.832690\n",
              "인천    9.818107\n",
              "dtype: float64"
            ]
          },
          "metadata": {
            "tags": []
          },
          "execution_count": 21
        }
      ],
      "metadata": {
        "colab": {
          "base_uri": "https://localhost:8080/"
        },
        "id": "OV4FO5GefKky",
        "outputId": "1ddec73d-52de-4bff-c4e6-50c4fad91c2e"
      }
    },
    {
      "cell_type": "code",
      "execution_count": 22,
      "source": [
        "# boolean\n",
        "rs.notnull()"
      ],
      "outputs": [
        {
          "output_type": "execute_result",
          "data": {
            "text/plain": [
              "대구    False\n",
              "대전    False\n",
              "부산     True\n",
              "서울     True\n",
              "인천     True\n",
              "dtype: bool"
            ]
          },
          "metadata": {
            "tags": []
          },
          "execution_count": 22
        }
      ],
      "metadata": {
        "colab": {
          "base_uri": "https://localhost:8080/"
        },
        "id": "IHJ678Z4fOGd",
        "outputId": "3d4565fc-73d1-4c8f-8c37-60e24b017122"
      }
    },
    {
      "cell_type": "code",
      "execution_count": 23,
      "source": [
        "rs= rs[rs.notnull()]\n",
        "rs"
      ],
      "outputs": [
        {
          "output_type": "execute_result",
          "data": {
            "text/plain": [
              "부산    1.636984\n",
              "서울    2.832690\n",
              "인천    9.818107\n",
              "dtype: float64"
            ]
          },
          "metadata": {
            "tags": []
          },
          "execution_count": 23
        }
      ],
      "metadata": {
        "colab": {
          "base_uri": "https://localhost:8080/"
        },
        "id": "YUoqCq1BfQKJ",
        "outputId": "4b203561-d447-4b4b-9057-3cb3c18aa572"
      }
    },
    {
      "cell_type": "markdown",
      "source": [
        "### 데이터의 갱신, 추가, 삭제"
      ],
      "metadata": {
        "id": "27A1S52PfYlW"
      }
    },
    {
      "cell_type": "code",
      "execution_count": 24,
      "source": [
        "# 갱신\n",
        "rs['부산'] = 1.63\n",
        "rs"
      ],
      "outputs": [
        {
          "output_type": "execute_result",
          "data": {
            "text/plain": [
              "부산    1.630000\n",
              "서울    2.832690\n",
              "인천    9.818107\n",
              "dtype: float64"
            ]
          },
          "metadata": {
            "tags": []
          },
          "execution_count": 24
        }
      ],
      "metadata": {
        "colab": {
          "base_uri": "https://localhost:8080/"
        },
        "id": "HfZoQL-QfXE4",
        "outputId": "ae795b77-df4f-46a8-8e1f-463ea064909e"
      }
    },
    {
      "cell_type": "code",
      "execution_count": 25,
      "source": [
        "# 추가\n",
        "rs['대구']= 1.41\n",
        "rs"
      ],
      "outputs": [
        {
          "output_type": "execute_result",
          "data": {
            "text/plain": [
              "부산    1.630000\n",
              "서울    2.832690\n",
              "인천    9.818107\n",
              "대구    1.410000\n",
              "dtype: float64"
            ]
          },
          "metadata": {
            "tags": []
          },
          "execution_count": 25
        }
      ],
      "metadata": {
        "colab": {
          "base_uri": "https://localhost:8080/"
        },
        "id": "tT3AAiebff73",
        "outputId": "d0a46b43-618e-414f-b992-5171d7263ca7"
      }
    },
    {
      "cell_type": "code",
      "execution_count": 26,
      "source": [
        "# 삭제\n",
        "del rs['부산']\n",
        "rs"
      ],
      "outputs": [
        {
          "output_type": "execute_result",
          "data": {
            "text/plain": [
              "서울    2.832690\n",
              "인천    9.818107\n",
              "대구    1.410000\n",
              "dtype: float64"
            ]
          },
          "metadata": {
            "tags": []
          },
          "execution_count": 26
        }
      ],
      "metadata": {
        "colab": {
          "base_uri": "https://localhost:8080/"
        },
        "id": "1ZhtXPE_flHL",
        "outputId": "b6b8900e-24b5-4064-b310-acb13bad5021"
      }
    }
  ]
}