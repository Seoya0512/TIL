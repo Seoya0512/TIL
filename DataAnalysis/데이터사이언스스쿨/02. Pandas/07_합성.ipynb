{
  "nbformat": 4,
  "nbformat_minor": 0,
  "metadata": {
    "colab": {
      "name": "07_합성.ipynb",
      "provenance": [],
      "collapsed_sections": []
    },
    "kernelspec": {
      "name": "python3",
      "display_name": "Python 3"
    },
    "language_info": {
      "name": "python"
    }
  },
  "cells": [
    {
      "cell_type": "markdown",
      "metadata": {
        "id": "dVi98F1C9eE3"
      },
      "source": [
        "# 데이터프레임의 합성"
      ]
    },
    {
      "cell_type": "code",
      "metadata": {
        "id": "FSv5pg2x9YwR"
      },
      "source": [
        "import numpy as np\n",
        "import pandas as pd"
      ],
      "execution_count": 20,
      "outputs": []
    },
    {
      "cell_type": "markdown",
      "metadata": {
        "id": "Mb3_xgSf9lxF"
      },
      "source": [
        "### merge"
      ]
    },
    {
      "cell_type": "code",
      "metadata": {
        "colab": {
          "base_uri": "https://localhost:8080/",
          "height": 266
        },
        "id": "CHcdD9sd9jpp",
        "outputId": "63b961c8-b683-4a38-d213-aa8f47f0bbe9"
      },
      "source": [
        "df1 = pd.DataFrame({\n",
        "    '고객번호': [1001, 1002, 1003, 1004, 1005, 1006, 1007],\n",
        "    '이름': ['둘리', '도우너', '또치', '길동', '희동', '마이콜', '영희']\n",
        "}, columns=['고객번호', '이름'])\n",
        "df1"
      ],
      "execution_count": 2,
      "outputs": [
        {
          "output_type": "execute_result",
          "data": {
            "text/html": [
              "<div>\n",
              "<style scoped>\n",
              "    .dataframe tbody tr th:only-of-type {\n",
              "        vertical-align: middle;\n",
              "    }\n",
              "\n",
              "    .dataframe tbody tr th {\n",
              "        vertical-align: top;\n",
              "    }\n",
              "\n",
              "    .dataframe thead th {\n",
              "        text-align: right;\n",
              "    }\n",
              "</style>\n",
              "<table border=\"1\" class=\"dataframe\">\n",
              "  <thead>\n",
              "    <tr style=\"text-align: right;\">\n",
              "      <th></th>\n",
              "      <th>고객번호</th>\n",
              "      <th>이름</th>\n",
              "    </tr>\n",
              "  </thead>\n",
              "  <tbody>\n",
              "    <tr>\n",
              "      <th>0</th>\n",
              "      <td>1001</td>\n",
              "      <td>둘리</td>\n",
              "    </tr>\n",
              "    <tr>\n",
              "      <th>1</th>\n",
              "      <td>1002</td>\n",
              "      <td>도우너</td>\n",
              "    </tr>\n",
              "    <tr>\n",
              "      <th>2</th>\n",
              "      <td>1003</td>\n",
              "      <td>또치</td>\n",
              "    </tr>\n",
              "    <tr>\n",
              "      <th>3</th>\n",
              "      <td>1004</td>\n",
              "      <td>길동</td>\n",
              "    </tr>\n",
              "    <tr>\n",
              "      <th>4</th>\n",
              "      <td>1005</td>\n",
              "      <td>희동</td>\n",
              "    </tr>\n",
              "    <tr>\n",
              "      <th>5</th>\n",
              "      <td>1006</td>\n",
              "      <td>마이콜</td>\n",
              "    </tr>\n",
              "    <tr>\n",
              "      <th>6</th>\n",
              "      <td>1007</td>\n",
              "      <td>영희</td>\n",
              "    </tr>\n",
              "  </tbody>\n",
              "</table>\n",
              "</div>"
            ],
            "text/plain": [
              "   고객번호   이름\n",
              "0  1001   둘리\n",
              "1  1002  도우너\n",
              "2  1003   또치\n",
              "3  1004   길동\n",
              "4  1005   희동\n",
              "5  1006  마이콜\n",
              "6  1007   영희"
            ]
          },
          "metadata": {
            "tags": []
          },
          "execution_count": 2
        }
      ]
    },
    {
      "cell_type": "code",
      "metadata": {
        "colab": {
          "base_uri": "https://localhost:8080/",
          "height": 235
        },
        "id": "d2JR89sx-C5N",
        "outputId": "ec86355d-6fc2-485a-dd0a-6105aa578ba0"
      },
      "source": [
        "df2 = pd.DataFrame({\n",
        "    '고객번호': [1001, 1001, 1005, 1006, 1008, 1001],\n",
        "    '금액': [10000, 20000, 15000, 5000, 100000, 30000]\n",
        "}, columns=['고객번호', '금액'])\n",
        "df2"
      ],
      "execution_count": 3,
      "outputs": [
        {
          "output_type": "execute_result",
          "data": {
            "text/html": [
              "<div>\n",
              "<style scoped>\n",
              "    .dataframe tbody tr th:only-of-type {\n",
              "        vertical-align: middle;\n",
              "    }\n",
              "\n",
              "    .dataframe tbody tr th {\n",
              "        vertical-align: top;\n",
              "    }\n",
              "\n",
              "    .dataframe thead th {\n",
              "        text-align: right;\n",
              "    }\n",
              "</style>\n",
              "<table border=\"1\" class=\"dataframe\">\n",
              "  <thead>\n",
              "    <tr style=\"text-align: right;\">\n",
              "      <th></th>\n",
              "      <th>고객번호</th>\n",
              "      <th>금액</th>\n",
              "    </tr>\n",
              "  </thead>\n",
              "  <tbody>\n",
              "    <tr>\n",
              "      <th>0</th>\n",
              "      <td>1001</td>\n",
              "      <td>10000</td>\n",
              "    </tr>\n",
              "    <tr>\n",
              "      <th>1</th>\n",
              "      <td>1001</td>\n",
              "      <td>20000</td>\n",
              "    </tr>\n",
              "    <tr>\n",
              "      <th>2</th>\n",
              "      <td>1005</td>\n",
              "      <td>15000</td>\n",
              "    </tr>\n",
              "    <tr>\n",
              "      <th>3</th>\n",
              "      <td>1006</td>\n",
              "      <td>5000</td>\n",
              "    </tr>\n",
              "    <tr>\n",
              "      <th>4</th>\n",
              "      <td>1008</td>\n",
              "      <td>100000</td>\n",
              "    </tr>\n",
              "    <tr>\n",
              "      <th>5</th>\n",
              "      <td>1001</td>\n",
              "      <td>30000</td>\n",
              "    </tr>\n",
              "  </tbody>\n",
              "</table>\n",
              "</div>"
            ],
            "text/plain": [
              "   고객번호      금액\n",
              "0  1001   10000\n",
              "1  1001   20000\n",
              "2  1005   15000\n",
              "3  1006    5000\n",
              "4  1008  100000\n",
              "5  1001   30000"
            ]
          },
          "metadata": {
            "tags": []
          },
          "execution_count": 3
        }
      ]
    },
    {
      "cell_type": "code",
      "metadata": {
        "colab": {
          "base_uri": "https://localhost:8080/",
          "height": 204
        },
        "id": "lmuEZfg8-FYQ",
        "outputId": "4c2073d2-5ec8-4a57-fa60-be29293fff2e"
      },
      "source": [
        "# Inner Join\n",
        "pd.merge(df1, df2)          # how = 'inner'"
      ],
      "execution_count": 4,
      "outputs": [
        {
          "output_type": "execute_result",
          "data": {
            "text/html": [
              "<div>\n",
              "<style scoped>\n",
              "    .dataframe tbody tr th:only-of-type {\n",
              "        vertical-align: middle;\n",
              "    }\n",
              "\n",
              "    .dataframe tbody tr th {\n",
              "        vertical-align: top;\n",
              "    }\n",
              "\n",
              "    .dataframe thead th {\n",
              "        text-align: right;\n",
              "    }\n",
              "</style>\n",
              "<table border=\"1\" class=\"dataframe\">\n",
              "  <thead>\n",
              "    <tr style=\"text-align: right;\">\n",
              "      <th></th>\n",
              "      <th>고객번호</th>\n",
              "      <th>이름</th>\n",
              "      <th>금액</th>\n",
              "    </tr>\n",
              "  </thead>\n",
              "  <tbody>\n",
              "    <tr>\n",
              "      <th>0</th>\n",
              "      <td>1001</td>\n",
              "      <td>둘리</td>\n",
              "      <td>10000</td>\n",
              "    </tr>\n",
              "    <tr>\n",
              "      <th>1</th>\n",
              "      <td>1001</td>\n",
              "      <td>둘리</td>\n",
              "      <td>20000</td>\n",
              "    </tr>\n",
              "    <tr>\n",
              "      <th>2</th>\n",
              "      <td>1001</td>\n",
              "      <td>둘리</td>\n",
              "      <td>30000</td>\n",
              "    </tr>\n",
              "    <tr>\n",
              "      <th>3</th>\n",
              "      <td>1005</td>\n",
              "      <td>희동</td>\n",
              "      <td>15000</td>\n",
              "    </tr>\n",
              "    <tr>\n",
              "      <th>4</th>\n",
              "      <td>1006</td>\n",
              "      <td>마이콜</td>\n",
              "      <td>5000</td>\n",
              "    </tr>\n",
              "  </tbody>\n",
              "</table>\n",
              "</div>"
            ],
            "text/plain": [
              "   고객번호   이름     금액\n",
              "0  1001   둘리  10000\n",
              "1  1001   둘리  20000\n",
              "2  1001   둘리  30000\n",
              "3  1005   희동  15000\n",
              "4  1006  마이콜   5000"
            ]
          },
          "metadata": {
            "tags": []
          },
          "execution_count": 4
        }
      ]
    },
    {
      "cell_type": "code",
      "metadata": {
        "colab": {
          "base_uri": "https://localhost:8080/",
          "height": 328
        },
        "id": "bTokFcss-7U0",
        "outputId": "2419b51b-9bc9-4a65-8b80-ab64182e754e"
      },
      "source": [
        "# Left outer join\n",
        "pd.merge(df1, df2, how='left')"
      ],
      "execution_count": 5,
      "outputs": [
        {
          "output_type": "execute_result",
          "data": {
            "text/html": [
              "<div>\n",
              "<style scoped>\n",
              "    .dataframe tbody tr th:only-of-type {\n",
              "        vertical-align: middle;\n",
              "    }\n",
              "\n",
              "    .dataframe tbody tr th {\n",
              "        vertical-align: top;\n",
              "    }\n",
              "\n",
              "    .dataframe thead th {\n",
              "        text-align: right;\n",
              "    }\n",
              "</style>\n",
              "<table border=\"1\" class=\"dataframe\">\n",
              "  <thead>\n",
              "    <tr style=\"text-align: right;\">\n",
              "      <th></th>\n",
              "      <th>고객번호</th>\n",
              "      <th>이름</th>\n",
              "      <th>금액</th>\n",
              "    </tr>\n",
              "  </thead>\n",
              "  <tbody>\n",
              "    <tr>\n",
              "      <th>0</th>\n",
              "      <td>1001</td>\n",
              "      <td>둘리</td>\n",
              "      <td>10000.0</td>\n",
              "    </tr>\n",
              "    <tr>\n",
              "      <th>1</th>\n",
              "      <td>1001</td>\n",
              "      <td>둘리</td>\n",
              "      <td>20000.0</td>\n",
              "    </tr>\n",
              "    <tr>\n",
              "      <th>2</th>\n",
              "      <td>1001</td>\n",
              "      <td>둘리</td>\n",
              "      <td>30000.0</td>\n",
              "    </tr>\n",
              "    <tr>\n",
              "      <th>3</th>\n",
              "      <td>1002</td>\n",
              "      <td>도우너</td>\n",
              "      <td>NaN</td>\n",
              "    </tr>\n",
              "    <tr>\n",
              "      <th>4</th>\n",
              "      <td>1003</td>\n",
              "      <td>또치</td>\n",
              "      <td>NaN</td>\n",
              "    </tr>\n",
              "    <tr>\n",
              "      <th>5</th>\n",
              "      <td>1004</td>\n",
              "      <td>길동</td>\n",
              "      <td>NaN</td>\n",
              "    </tr>\n",
              "    <tr>\n",
              "      <th>6</th>\n",
              "      <td>1005</td>\n",
              "      <td>희동</td>\n",
              "      <td>15000.0</td>\n",
              "    </tr>\n",
              "    <tr>\n",
              "      <th>7</th>\n",
              "      <td>1006</td>\n",
              "      <td>마이콜</td>\n",
              "      <td>5000.0</td>\n",
              "    </tr>\n",
              "    <tr>\n",
              "      <th>8</th>\n",
              "      <td>1007</td>\n",
              "      <td>영희</td>\n",
              "      <td>NaN</td>\n",
              "    </tr>\n",
              "  </tbody>\n",
              "</table>\n",
              "</div>"
            ],
            "text/plain": [
              "   고객번호   이름       금액\n",
              "0  1001   둘리  10000.0\n",
              "1  1001   둘리  20000.0\n",
              "2  1001   둘리  30000.0\n",
              "3  1002  도우너      NaN\n",
              "4  1003   또치      NaN\n",
              "5  1004   길동      NaN\n",
              "6  1005   희동  15000.0\n",
              "7  1006  마이콜   5000.0\n",
              "8  1007   영희      NaN"
            ]
          },
          "metadata": {
            "tags": []
          },
          "execution_count": 5
        }
      ]
    },
    {
      "cell_type": "code",
      "metadata": {
        "colab": {
          "base_uri": "https://localhost:8080/",
          "height": 235
        },
        "id": "hCxQbTAi_SXG",
        "outputId": "ee3e7e27-ef0a-455f-9229-2d71c408f723"
      },
      "source": [
        "# Rigth outer join \n",
        "pd.merge(df1, df2, how='right')"
      ],
      "execution_count": 6,
      "outputs": [
        {
          "output_type": "execute_result",
          "data": {
            "text/html": [
              "<div>\n",
              "<style scoped>\n",
              "    .dataframe tbody tr th:only-of-type {\n",
              "        vertical-align: middle;\n",
              "    }\n",
              "\n",
              "    .dataframe tbody tr th {\n",
              "        vertical-align: top;\n",
              "    }\n",
              "\n",
              "    .dataframe thead th {\n",
              "        text-align: right;\n",
              "    }\n",
              "</style>\n",
              "<table border=\"1\" class=\"dataframe\">\n",
              "  <thead>\n",
              "    <tr style=\"text-align: right;\">\n",
              "      <th></th>\n",
              "      <th>고객번호</th>\n",
              "      <th>이름</th>\n",
              "      <th>금액</th>\n",
              "    </tr>\n",
              "  </thead>\n",
              "  <tbody>\n",
              "    <tr>\n",
              "      <th>0</th>\n",
              "      <td>1001</td>\n",
              "      <td>둘리</td>\n",
              "      <td>10000</td>\n",
              "    </tr>\n",
              "    <tr>\n",
              "      <th>1</th>\n",
              "      <td>1001</td>\n",
              "      <td>둘리</td>\n",
              "      <td>20000</td>\n",
              "    </tr>\n",
              "    <tr>\n",
              "      <th>2</th>\n",
              "      <td>1001</td>\n",
              "      <td>둘리</td>\n",
              "      <td>30000</td>\n",
              "    </tr>\n",
              "    <tr>\n",
              "      <th>3</th>\n",
              "      <td>1005</td>\n",
              "      <td>희동</td>\n",
              "      <td>15000</td>\n",
              "    </tr>\n",
              "    <tr>\n",
              "      <th>4</th>\n",
              "      <td>1006</td>\n",
              "      <td>마이콜</td>\n",
              "      <td>5000</td>\n",
              "    </tr>\n",
              "    <tr>\n",
              "      <th>5</th>\n",
              "      <td>1008</td>\n",
              "      <td>NaN</td>\n",
              "      <td>100000</td>\n",
              "    </tr>\n",
              "  </tbody>\n",
              "</table>\n",
              "</div>"
            ],
            "text/plain": [
              "   고객번호   이름      금액\n",
              "0  1001   둘리   10000\n",
              "1  1001   둘리   20000\n",
              "2  1001   둘리   30000\n",
              "3  1005   희동   15000\n",
              "4  1006  마이콜    5000\n",
              "5  1008  NaN  100000"
            ]
          },
          "metadata": {
            "tags": []
          },
          "execution_count": 6
        }
      ]
    },
    {
      "cell_type": "code",
      "metadata": {
        "colab": {
          "base_uri": "https://localhost:8080/",
          "height": 359
        },
        "id": "xCg112ut_fcL",
        "outputId": "9de8286e-e483-45b5-be1f-d709149603b7"
      },
      "source": [
        "# Full outer join\n",
        "pd.merge(df1, df2, how='outer')"
      ],
      "execution_count": 7,
      "outputs": [
        {
          "output_type": "execute_result",
          "data": {
            "text/html": [
              "<div>\n",
              "<style scoped>\n",
              "    .dataframe tbody tr th:only-of-type {\n",
              "        vertical-align: middle;\n",
              "    }\n",
              "\n",
              "    .dataframe tbody tr th {\n",
              "        vertical-align: top;\n",
              "    }\n",
              "\n",
              "    .dataframe thead th {\n",
              "        text-align: right;\n",
              "    }\n",
              "</style>\n",
              "<table border=\"1\" class=\"dataframe\">\n",
              "  <thead>\n",
              "    <tr style=\"text-align: right;\">\n",
              "      <th></th>\n",
              "      <th>고객번호</th>\n",
              "      <th>이름</th>\n",
              "      <th>금액</th>\n",
              "    </tr>\n",
              "  </thead>\n",
              "  <tbody>\n",
              "    <tr>\n",
              "      <th>0</th>\n",
              "      <td>1001</td>\n",
              "      <td>둘리</td>\n",
              "      <td>10000.0</td>\n",
              "    </tr>\n",
              "    <tr>\n",
              "      <th>1</th>\n",
              "      <td>1001</td>\n",
              "      <td>둘리</td>\n",
              "      <td>20000.0</td>\n",
              "    </tr>\n",
              "    <tr>\n",
              "      <th>2</th>\n",
              "      <td>1001</td>\n",
              "      <td>둘리</td>\n",
              "      <td>30000.0</td>\n",
              "    </tr>\n",
              "    <tr>\n",
              "      <th>3</th>\n",
              "      <td>1002</td>\n",
              "      <td>도우너</td>\n",
              "      <td>NaN</td>\n",
              "    </tr>\n",
              "    <tr>\n",
              "      <th>4</th>\n",
              "      <td>1003</td>\n",
              "      <td>또치</td>\n",
              "      <td>NaN</td>\n",
              "    </tr>\n",
              "    <tr>\n",
              "      <th>5</th>\n",
              "      <td>1004</td>\n",
              "      <td>길동</td>\n",
              "      <td>NaN</td>\n",
              "    </tr>\n",
              "    <tr>\n",
              "      <th>6</th>\n",
              "      <td>1005</td>\n",
              "      <td>희동</td>\n",
              "      <td>15000.0</td>\n",
              "    </tr>\n",
              "    <tr>\n",
              "      <th>7</th>\n",
              "      <td>1006</td>\n",
              "      <td>마이콜</td>\n",
              "      <td>5000.0</td>\n",
              "    </tr>\n",
              "    <tr>\n",
              "      <th>8</th>\n",
              "      <td>1007</td>\n",
              "      <td>영희</td>\n",
              "      <td>NaN</td>\n",
              "    </tr>\n",
              "    <tr>\n",
              "      <th>9</th>\n",
              "      <td>1008</td>\n",
              "      <td>NaN</td>\n",
              "      <td>100000.0</td>\n",
              "    </tr>\n",
              "  </tbody>\n",
              "</table>\n",
              "</div>"
            ],
            "text/plain": [
              "   고객번호   이름        금액\n",
              "0  1001   둘리   10000.0\n",
              "1  1001   둘리   20000.0\n",
              "2  1001   둘리   30000.0\n",
              "3  1002  도우너       NaN\n",
              "4  1003   또치       NaN\n",
              "5  1004   길동       NaN\n",
              "6  1005   희동   15000.0\n",
              "7  1006  마이콜    5000.0\n",
              "8  1007   영희       NaN\n",
              "9  1008  NaN  100000.0"
            ]
          },
          "metadata": {
            "tags": []
          },
          "execution_count": 7
        }
      ]
    },
    {
      "cell_type": "code",
      "metadata": {
        "colab": {
          "base_uri": "https://localhost:8080/",
          "height": 142
        },
        "id": "wWi0fGX3DCTQ",
        "outputId": "b8706a5a-a9cc-43d4-9946-2045dcb07703"
      },
      "source": [
        "df1 = pd.DataFrame({\n",
        "    '고객명': ['춘향', '춘향', '몽룡'],\n",
        "    '날짜': ['2018-01-01', '2018-01-02', '2018-01-01'],\n",
        "    '데이터': ['20000', '30000', '100000']})\n",
        "df1"
      ],
      "execution_count": 14,
      "outputs": [
        {
          "output_type": "execute_result",
          "data": {
            "text/html": [
              "<div>\n",
              "<style scoped>\n",
              "    .dataframe tbody tr th:only-of-type {\n",
              "        vertical-align: middle;\n",
              "    }\n",
              "\n",
              "    .dataframe tbody tr th {\n",
              "        vertical-align: top;\n",
              "    }\n",
              "\n",
              "    .dataframe thead th {\n",
              "        text-align: right;\n",
              "    }\n",
              "</style>\n",
              "<table border=\"1\" class=\"dataframe\">\n",
              "  <thead>\n",
              "    <tr style=\"text-align: right;\">\n",
              "      <th></th>\n",
              "      <th>고객명</th>\n",
              "      <th>날짜</th>\n",
              "      <th>데이터</th>\n",
              "    </tr>\n",
              "  </thead>\n",
              "  <tbody>\n",
              "    <tr>\n",
              "      <th>0</th>\n",
              "      <td>춘향</td>\n",
              "      <td>2018-01-01</td>\n",
              "      <td>20000</td>\n",
              "    </tr>\n",
              "    <tr>\n",
              "      <th>1</th>\n",
              "      <td>춘향</td>\n",
              "      <td>2018-01-02</td>\n",
              "      <td>30000</td>\n",
              "    </tr>\n",
              "    <tr>\n",
              "      <th>2</th>\n",
              "      <td>몽룡</td>\n",
              "      <td>2018-01-01</td>\n",
              "      <td>100000</td>\n",
              "    </tr>\n",
              "  </tbody>\n",
              "</table>\n",
              "</div>"
            ],
            "text/plain": [
              "  고객명          날짜     데이터\n",
              "0  춘향  2018-01-01   20000\n",
              "1  춘향  2018-01-02   30000\n",
              "2  몽룡  2018-01-01  100000"
            ]
          },
          "metadata": {
            "tags": []
          },
          "execution_count": 14
        }
      ]
    },
    {
      "cell_type": "code",
      "metadata": {
        "colab": {
          "base_uri": "https://localhost:8080/",
          "height": 111
        },
        "id": "llrcsRt2DBry",
        "outputId": "a406b3f1-1364-4c0d-fd2a-5f33b293b3ff"
      },
      "source": [
        "df2 = pd.DataFrame({\n",
        "    '고객명': ['춘향', '몽룡'],\n",
        "    '데이터': ['여자', '남자']})\n",
        "df2"
      ],
      "execution_count": 15,
      "outputs": [
        {
          "output_type": "execute_result",
          "data": {
            "text/html": [
              "<div>\n",
              "<style scoped>\n",
              "    .dataframe tbody tr th:only-of-type {\n",
              "        vertical-align: middle;\n",
              "    }\n",
              "\n",
              "    .dataframe tbody tr th {\n",
              "        vertical-align: top;\n",
              "    }\n",
              "\n",
              "    .dataframe thead th {\n",
              "        text-align: right;\n",
              "    }\n",
              "</style>\n",
              "<table border=\"1\" class=\"dataframe\">\n",
              "  <thead>\n",
              "    <tr style=\"text-align: right;\">\n",
              "      <th></th>\n",
              "      <th>고객명</th>\n",
              "      <th>데이터</th>\n",
              "    </tr>\n",
              "  </thead>\n",
              "  <tbody>\n",
              "    <tr>\n",
              "      <th>0</th>\n",
              "      <td>춘향</td>\n",
              "      <td>여자</td>\n",
              "    </tr>\n",
              "    <tr>\n",
              "      <th>1</th>\n",
              "      <td>몽룡</td>\n",
              "      <td>남자</td>\n",
              "    </tr>\n",
              "  </tbody>\n",
              "</table>\n",
              "</div>"
            ],
            "text/plain": [
              "  고객명 데이터\n",
              "0  춘향  여자\n",
              "1  몽룡  남자"
            ]
          },
          "metadata": {
            "tags": []
          },
          "execution_count": 15
        }
      ]
    },
    {
      "cell_type": "code",
      "metadata": {
        "colab": {
          "base_uri": "https://localhost:8080/",
          "height": 142
        },
        "id": "YZZ0DvkVDBS-",
        "outputId": "bd85b779-01fe-4be2-919a-a3c0b7af0bbb"
      },
      "source": [
        "pd.merge(df1, df2, on='고객명')"
      ],
      "execution_count": 16,
      "outputs": [
        {
          "output_type": "execute_result",
          "data": {
            "text/html": [
              "<div>\n",
              "<style scoped>\n",
              "    .dataframe tbody tr th:only-of-type {\n",
              "        vertical-align: middle;\n",
              "    }\n",
              "\n",
              "    .dataframe tbody tr th {\n",
              "        vertical-align: top;\n",
              "    }\n",
              "\n",
              "    .dataframe thead th {\n",
              "        text-align: right;\n",
              "    }\n",
              "</style>\n",
              "<table border=\"1\" class=\"dataframe\">\n",
              "  <thead>\n",
              "    <tr style=\"text-align: right;\">\n",
              "      <th></th>\n",
              "      <th>고객명</th>\n",
              "      <th>날짜</th>\n",
              "      <th>데이터_x</th>\n",
              "      <th>데이터_y</th>\n",
              "    </tr>\n",
              "  </thead>\n",
              "  <tbody>\n",
              "    <tr>\n",
              "      <th>0</th>\n",
              "      <td>춘향</td>\n",
              "      <td>2018-01-01</td>\n",
              "      <td>20000</td>\n",
              "      <td>여자</td>\n",
              "    </tr>\n",
              "    <tr>\n",
              "      <th>1</th>\n",
              "      <td>춘향</td>\n",
              "      <td>2018-01-02</td>\n",
              "      <td>30000</td>\n",
              "      <td>여자</td>\n",
              "    </tr>\n",
              "    <tr>\n",
              "      <th>2</th>\n",
              "      <td>몽룡</td>\n",
              "      <td>2018-01-01</td>\n",
              "      <td>100000</td>\n",
              "      <td>남자</td>\n",
              "    </tr>\n",
              "  </tbody>\n",
              "</table>\n",
              "</div>"
            ],
            "text/plain": [
              "  고객명          날짜   데이터_x 데이터_y\n",
              "0  춘향  2018-01-01   20000    여자\n",
              "1  춘향  2018-01-02   30000    여자\n",
              "2  몽룡  2018-01-01  100000    남자"
            ]
          },
          "metadata": {
            "tags": []
          },
          "execution_count": 16
        }
      ]
    },
    {
      "cell_type": "code",
      "metadata": {
        "colab": {
          "base_uri": "https://localhost:8080/",
          "height": 142
        },
        "id": "Q1YXTdTE_7iB",
        "outputId": "3613ab07-ccf0-47f5-a236-b1a3b4be963c"
      },
      "source": [
        "df1 = pd.DataFrame({\n",
        "    '이름': ['영희', '철수', '철수'],\n",
        "    '성적': [1, 2, 3]})\n",
        "df1"
      ],
      "execution_count": 17,
      "outputs": [
        {
          "output_type": "execute_result",
          "data": {
            "text/html": [
              "<div>\n",
              "<style scoped>\n",
              "    .dataframe tbody tr th:only-of-type {\n",
              "        vertical-align: middle;\n",
              "    }\n",
              "\n",
              "    .dataframe tbody tr th {\n",
              "        vertical-align: top;\n",
              "    }\n",
              "\n",
              "    .dataframe thead th {\n",
              "        text-align: right;\n",
              "    }\n",
              "</style>\n",
              "<table border=\"1\" class=\"dataframe\">\n",
              "  <thead>\n",
              "    <tr style=\"text-align: right;\">\n",
              "      <th></th>\n",
              "      <th>이름</th>\n",
              "      <th>성적</th>\n",
              "    </tr>\n",
              "  </thead>\n",
              "  <tbody>\n",
              "    <tr>\n",
              "      <th>0</th>\n",
              "      <td>영희</td>\n",
              "      <td>1</td>\n",
              "    </tr>\n",
              "    <tr>\n",
              "      <th>1</th>\n",
              "      <td>철수</td>\n",
              "      <td>2</td>\n",
              "    </tr>\n",
              "    <tr>\n",
              "      <th>2</th>\n",
              "      <td>철수</td>\n",
              "      <td>3</td>\n",
              "    </tr>\n",
              "  </tbody>\n",
              "</table>\n",
              "</div>"
            ],
            "text/plain": [
              "   이름  성적\n",
              "0  영희   1\n",
              "1  철수   2\n",
              "2  철수   3"
            ]
          },
          "metadata": {
            "tags": []
          },
          "execution_count": 17
        }
      ]
    },
    {
      "cell_type": "code",
      "metadata": {
        "colab": {
          "base_uri": "https://localhost:8080/",
          "height": 142
        },
        "id": "FsmCGalkCQ3J",
        "outputId": "f9b5892b-bbba-4526-9ef0-ac45eee01d58"
      },
      "source": [
        "df2 = pd.DataFrame({\n",
        "    '성명': ['영희', '영희', '철수'],\n",
        "    '성적2': [4, 5, 6]})\n",
        "df2"
      ],
      "execution_count": 18,
      "outputs": [
        {
          "output_type": "execute_result",
          "data": {
            "text/html": [
              "<div>\n",
              "<style scoped>\n",
              "    .dataframe tbody tr th:only-of-type {\n",
              "        vertical-align: middle;\n",
              "    }\n",
              "\n",
              "    .dataframe tbody tr th {\n",
              "        vertical-align: top;\n",
              "    }\n",
              "\n",
              "    .dataframe thead th {\n",
              "        text-align: right;\n",
              "    }\n",
              "</style>\n",
              "<table border=\"1\" class=\"dataframe\">\n",
              "  <thead>\n",
              "    <tr style=\"text-align: right;\">\n",
              "      <th></th>\n",
              "      <th>성명</th>\n",
              "      <th>성적2</th>\n",
              "    </tr>\n",
              "  </thead>\n",
              "  <tbody>\n",
              "    <tr>\n",
              "      <th>0</th>\n",
              "      <td>영희</td>\n",
              "      <td>4</td>\n",
              "    </tr>\n",
              "    <tr>\n",
              "      <th>1</th>\n",
              "      <td>영희</td>\n",
              "      <td>5</td>\n",
              "    </tr>\n",
              "    <tr>\n",
              "      <th>2</th>\n",
              "      <td>철수</td>\n",
              "      <td>6</td>\n",
              "    </tr>\n",
              "  </tbody>\n",
              "</table>\n",
              "</div>"
            ],
            "text/plain": [
              "   성명  성적2\n",
              "0  영희    4\n",
              "1  영희    5\n",
              "2  철수    6"
            ]
          },
          "metadata": {
            "tags": []
          },
          "execution_count": 18
        }
      ]
    },
    {
      "cell_type": "code",
      "metadata": {
        "colab": {
          "base_uri": "https://localhost:8080/",
          "height": 173
        },
        "id": "cOUYNorjCsLl",
        "outputId": "20ebedb6-eb23-4216-e323-23d0b6e16fbf"
      },
      "source": [
        "pd.merge(df1, df2, left_on='이름', right_on=\"성명\")"
      ],
      "execution_count": 19,
      "outputs": [
        {
          "output_type": "execute_result",
          "data": {
            "text/html": [
              "<div>\n",
              "<style scoped>\n",
              "    .dataframe tbody tr th:only-of-type {\n",
              "        vertical-align: middle;\n",
              "    }\n",
              "\n",
              "    .dataframe tbody tr th {\n",
              "        vertical-align: top;\n",
              "    }\n",
              "\n",
              "    .dataframe thead th {\n",
              "        text-align: right;\n",
              "    }\n",
              "</style>\n",
              "<table border=\"1\" class=\"dataframe\">\n",
              "  <thead>\n",
              "    <tr style=\"text-align: right;\">\n",
              "      <th></th>\n",
              "      <th>이름</th>\n",
              "      <th>성적</th>\n",
              "      <th>성명</th>\n",
              "      <th>성적2</th>\n",
              "    </tr>\n",
              "  </thead>\n",
              "  <tbody>\n",
              "    <tr>\n",
              "      <th>0</th>\n",
              "      <td>영희</td>\n",
              "      <td>1</td>\n",
              "      <td>영희</td>\n",
              "      <td>4</td>\n",
              "    </tr>\n",
              "    <tr>\n",
              "      <th>1</th>\n",
              "      <td>영희</td>\n",
              "      <td>1</td>\n",
              "      <td>영희</td>\n",
              "      <td>5</td>\n",
              "    </tr>\n",
              "    <tr>\n",
              "      <th>2</th>\n",
              "      <td>철수</td>\n",
              "      <td>2</td>\n",
              "      <td>철수</td>\n",
              "      <td>6</td>\n",
              "    </tr>\n",
              "    <tr>\n",
              "      <th>3</th>\n",
              "      <td>철수</td>\n",
              "      <td>3</td>\n",
              "      <td>철수</td>\n",
              "      <td>6</td>\n",
              "    </tr>\n",
              "  </tbody>\n",
              "</table>\n",
              "</div>"
            ],
            "text/plain": [
              "   이름  성적  성명  성적2\n",
              "0  영희   1  영희    4\n",
              "1  영희   1  영희    5\n",
              "2  철수   2  철수    6\n",
              "3  철수   3  철수    6"
            ]
          },
          "metadata": {
            "tags": []
          },
          "execution_count": 19
        }
      ]
    },
    {
      "cell_type": "markdown",
      "metadata": {
        "id": "YVTgpgJ6Ggqs"
      },
      "source": [
        "## Join  메서드"
      ]
    },
    {
      "cell_type": "code",
      "metadata": {
        "colab": {
          "base_uri": "https://localhost:8080/",
          "height": 297
        },
        "id": "Xy5jiV-FDZYA",
        "outputId": "8a3ba8ad-615b-4880-bf29-8bf5bc0a3190"
      },
      "source": [
        "df1 = pd.DataFrame({\n",
        "    '고객번호': [1001, 1002, 1003, 1004, 1005, 1006, 1007],\n",
        "    '이름': ['둘리', '도우너', '또치', '길동', '희동', '마이콜', '영희']\n",
        "}, columns=['고객번호', '이름'])\n",
        "df1.set_index('고객번호', inplace=True)\n",
        "df1"
      ],
      "execution_count": 24,
      "outputs": [
        {
          "output_type": "execute_result",
          "data": {
            "text/html": [
              "<div>\n",
              "<style scoped>\n",
              "    .dataframe tbody tr th:only-of-type {\n",
              "        vertical-align: middle;\n",
              "    }\n",
              "\n",
              "    .dataframe tbody tr th {\n",
              "        vertical-align: top;\n",
              "    }\n",
              "\n",
              "    .dataframe thead th {\n",
              "        text-align: right;\n",
              "    }\n",
              "</style>\n",
              "<table border=\"1\" class=\"dataframe\">\n",
              "  <thead>\n",
              "    <tr style=\"text-align: right;\">\n",
              "      <th></th>\n",
              "      <th>이름</th>\n",
              "    </tr>\n",
              "    <tr>\n",
              "      <th>고객번호</th>\n",
              "      <th></th>\n",
              "    </tr>\n",
              "  </thead>\n",
              "  <tbody>\n",
              "    <tr>\n",
              "      <th>1001</th>\n",
              "      <td>둘리</td>\n",
              "    </tr>\n",
              "    <tr>\n",
              "      <th>1002</th>\n",
              "      <td>도우너</td>\n",
              "    </tr>\n",
              "    <tr>\n",
              "      <th>1003</th>\n",
              "      <td>또치</td>\n",
              "    </tr>\n",
              "    <tr>\n",
              "      <th>1004</th>\n",
              "      <td>길동</td>\n",
              "    </tr>\n",
              "    <tr>\n",
              "      <th>1005</th>\n",
              "      <td>희동</td>\n",
              "    </tr>\n",
              "    <tr>\n",
              "      <th>1006</th>\n",
              "      <td>마이콜</td>\n",
              "    </tr>\n",
              "    <tr>\n",
              "      <th>1007</th>\n",
              "      <td>영희</td>\n",
              "    </tr>\n",
              "  </tbody>\n",
              "</table>\n",
              "</div>"
            ],
            "text/plain": [
              "       이름\n",
              "고객번호     \n",
              "1001   둘리\n",
              "1002  도우너\n",
              "1003   또치\n",
              "1004   길동\n",
              "1005   희동\n",
              "1006  마이콜\n",
              "1007   영희"
            ]
          },
          "metadata": {
            "tags": []
          },
          "execution_count": 24
        }
      ]
    },
    {
      "cell_type": "code",
      "metadata": {
        "colab": {
          "base_uri": "https://localhost:8080/",
          "height": 266
        },
        "id": "Tv5fHaZtGtIJ",
        "outputId": "c175f8f4-f9dd-446e-b0d0-84304e7dd762"
      },
      "source": [
        "df2 = pd.DataFrame({\n",
        "    '고객번호': [1001, 1001, 1005, 1006, 1008, 1001],\n",
        "    '금액': [10000, 20000, 15000, 5000, 100000, 30000]\n",
        "}, columns=['고객번호', '금액'])\n",
        "df2.set_index('고객번호', inplace=True)\n",
        "df2"
      ],
      "execution_count": 26,
      "outputs": [
        {
          "output_type": "execute_result",
          "data": {
            "text/html": [
              "<div>\n",
              "<style scoped>\n",
              "    .dataframe tbody tr th:only-of-type {\n",
              "        vertical-align: middle;\n",
              "    }\n",
              "\n",
              "    .dataframe tbody tr th {\n",
              "        vertical-align: top;\n",
              "    }\n",
              "\n",
              "    .dataframe thead th {\n",
              "        text-align: right;\n",
              "    }\n",
              "</style>\n",
              "<table border=\"1\" class=\"dataframe\">\n",
              "  <thead>\n",
              "    <tr style=\"text-align: right;\">\n",
              "      <th></th>\n",
              "      <th>금액</th>\n",
              "    </tr>\n",
              "    <tr>\n",
              "      <th>고객번호</th>\n",
              "      <th></th>\n",
              "    </tr>\n",
              "  </thead>\n",
              "  <tbody>\n",
              "    <tr>\n",
              "      <th>1001</th>\n",
              "      <td>10000</td>\n",
              "    </tr>\n",
              "    <tr>\n",
              "      <th>1001</th>\n",
              "      <td>20000</td>\n",
              "    </tr>\n",
              "    <tr>\n",
              "      <th>1005</th>\n",
              "      <td>15000</td>\n",
              "    </tr>\n",
              "    <tr>\n",
              "      <th>1006</th>\n",
              "      <td>5000</td>\n",
              "    </tr>\n",
              "    <tr>\n",
              "      <th>1008</th>\n",
              "      <td>100000</td>\n",
              "    </tr>\n",
              "    <tr>\n",
              "      <th>1001</th>\n",
              "      <td>30000</td>\n",
              "    </tr>\n",
              "  </tbody>\n",
              "</table>\n",
              "</div>"
            ],
            "text/plain": [
              "          금액\n",
              "고객번호        \n",
              "1001   10000\n",
              "1001   20000\n",
              "1005   15000\n",
              "1006    5000\n",
              "1008  100000\n",
              "1001   30000"
            ]
          },
          "metadata": {
            "tags": []
          },
          "execution_count": 26
        }
      ]
    },
    {
      "cell_type": "code",
      "metadata": {
        "colab": {
          "base_uri": "https://localhost:8080/",
          "height": 235
        },
        "id": "rtBS58KIGt1s",
        "outputId": "9e17fbb9-69bc-4dee-f2ea-919d13cea7d2"
      },
      "source": [
        "df1.join(df2, how ='inner')             # index key 값으로 join "
      ],
      "execution_count": 27,
      "outputs": [
        {
          "output_type": "execute_result",
          "data": {
            "text/html": [
              "<div>\n",
              "<style scoped>\n",
              "    .dataframe tbody tr th:only-of-type {\n",
              "        vertical-align: middle;\n",
              "    }\n",
              "\n",
              "    .dataframe tbody tr th {\n",
              "        vertical-align: top;\n",
              "    }\n",
              "\n",
              "    .dataframe thead th {\n",
              "        text-align: right;\n",
              "    }\n",
              "</style>\n",
              "<table border=\"1\" class=\"dataframe\">\n",
              "  <thead>\n",
              "    <tr style=\"text-align: right;\">\n",
              "      <th></th>\n",
              "      <th>이름</th>\n",
              "      <th>금액</th>\n",
              "    </tr>\n",
              "    <tr>\n",
              "      <th>고객번호</th>\n",
              "      <th></th>\n",
              "      <th></th>\n",
              "    </tr>\n",
              "  </thead>\n",
              "  <tbody>\n",
              "    <tr>\n",
              "      <th>1001</th>\n",
              "      <td>둘리</td>\n",
              "      <td>10000</td>\n",
              "    </tr>\n",
              "    <tr>\n",
              "      <th>1001</th>\n",
              "      <td>둘리</td>\n",
              "      <td>20000</td>\n",
              "    </tr>\n",
              "    <tr>\n",
              "      <th>1001</th>\n",
              "      <td>둘리</td>\n",
              "      <td>30000</td>\n",
              "    </tr>\n",
              "    <tr>\n",
              "      <th>1005</th>\n",
              "      <td>희동</td>\n",
              "      <td>15000</td>\n",
              "    </tr>\n",
              "    <tr>\n",
              "      <th>1006</th>\n",
              "      <td>마이콜</td>\n",
              "      <td>5000</td>\n",
              "    </tr>\n",
              "  </tbody>\n",
              "</table>\n",
              "</div>"
            ],
            "text/plain": [
              "       이름     금액\n",
              "고객번호            \n",
              "1001   둘리  10000\n",
              "1001   둘리  20000\n",
              "1001   둘리  30000\n",
              "1005   희동  15000\n",
              "1006  마이콜   5000"
            ]
          },
          "metadata": {
            "tags": []
          },
          "execution_count": 27
        }
      ]
    },
    {
      "cell_type": "markdown",
      "metadata": {
        "id": "Clpk9h5bHaH5"
      },
      "source": [
        "### concat 함수"
      ]
    },
    {
      "cell_type": "code",
      "metadata": {
        "id": "91CHbWiDGyyx"
      },
      "source": [
        "s1 = pd.Series([0, 1], index=['A', 'B'])\n",
        "s2 = pd.Series([2, 3, 4], index=['A', 'B', 'C'])"
      ],
      "execution_count": 28,
      "outputs": []
    },
    {
      "cell_type": "code",
      "metadata": {
        "colab": {
          "base_uri": "https://localhost:8080/"
        },
        "id": "U06k4GQhIJpG",
        "outputId": "87d8890d-530e-495b-9513-30e9874ba3c7"
      },
      "source": [
        "pd.concat([s1, s2])"
      ],
      "execution_count": 29,
      "outputs": [
        {
          "output_type": "execute_result",
          "data": {
            "text/plain": [
              "A    0\n",
              "B    1\n",
              "A    2\n",
              "B    3\n",
              "C    4\n",
              "dtype: int64"
            ]
          },
          "metadata": {
            "tags": []
          },
          "execution_count": 29
        }
      ]
    },
    {
      "cell_type": "code",
      "metadata": {
        "colab": {
          "base_uri": "https://localhost:8080/",
          "height": 142
        },
        "id": "luYs6cCJINAi",
        "outputId": "17dccc86-4ea8-4bdb-d20d-cf892d05a039"
      },
      "source": [
        "df1 = pd.DataFrame(\n",
        "    np.arange(6).reshape(3, 2),\n",
        "    index=['a', 'b', 'c'],\n",
        "    columns=['데이터1', '데이터2'])\n",
        "df1"
      ],
      "execution_count": 30,
      "outputs": [
        {
          "output_type": "execute_result",
          "data": {
            "text/html": [
              "<div>\n",
              "<style scoped>\n",
              "    .dataframe tbody tr th:only-of-type {\n",
              "        vertical-align: middle;\n",
              "    }\n",
              "\n",
              "    .dataframe tbody tr th {\n",
              "        vertical-align: top;\n",
              "    }\n",
              "\n",
              "    .dataframe thead th {\n",
              "        text-align: right;\n",
              "    }\n",
              "</style>\n",
              "<table border=\"1\" class=\"dataframe\">\n",
              "  <thead>\n",
              "    <tr style=\"text-align: right;\">\n",
              "      <th></th>\n",
              "      <th>데이터1</th>\n",
              "      <th>데이터2</th>\n",
              "    </tr>\n",
              "  </thead>\n",
              "  <tbody>\n",
              "    <tr>\n",
              "      <th>a</th>\n",
              "      <td>0</td>\n",
              "      <td>1</td>\n",
              "    </tr>\n",
              "    <tr>\n",
              "      <th>b</th>\n",
              "      <td>2</td>\n",
              "      <td>3</td>\n",
              "    </tr>\n",
              "    <tr>\n",
              "      <th>c</th>\n",
              "      <td>4</td>\n",
              "      <td>5</td>\n",
              "    </tr>\n",
              "  </tbody>\n",
              "</table>\n",
              "</div>"
            ],
            "text/plain": [
              "   데이터1  데이터2\n",
              "a     0     1\n",
              "b     2     3\n",
              "c     4     5"
            ]
          },
          "metadata": {
            "tags": []
          },
          "execution_count": 30
        }
      ]
    },
    {
      "cell_type": "code",
      "metadata": {
        "colab": {
          "base_uri": "https://localhost:8080/",
          "height": 111
        },
        "id": "PERi5_pRITp8",
        "outputId": "93aebe06-d205-4071-ba4d-354ffe0c6ebc"
      },
      "source": [
        "df2 = pd.DataFrame(\n",
        "    5 + np.arange(4).reshape(2, 2),\n",
        "    index=['a', 'c'],\n",
        "    columns=['데이터3', '데이터4'])\n",
        "df2"
      ],
      "execution_count": 31,
      "outputs": [
        {
          "output_type": "execute_result",
          "data": {
            "text/html": [
              "<div>\n",
              "<style scoped>\n",
              "    .dataframe tbody tr th:only-of-type {\n",
              "        vertical-align: middle;\n",
              "    }\n",
              "\n",
              "    .dataframe tbody tr th {\n",
              "        vertical-align: top;\n",
              "    }\n",
              "\n",
              "    .dataframe thead th {\n",
              "        text-align: right;\n",
              "    }\n",
              "</style>\n",
              "<table border=\"1\" class=\"dataframe\">\n",
              "  <thead>\n",
              "    <tr style=\"text-align: right;\">\n",
              "      <th></th>\n",
              "      <th>데이터3</th>\n",
              "      <th>데이터4</th>\n",
              "    </tr>\n",
              "  </thead>\n",
              "  <tbody>\n",
              "    <tr>\n",
              "      <th>a</th>\n",
              "      <td>5</td>\n",
              "      <td>6</td>\n",
              "    </tr>\n",
              "    <tr>\n",
              "      <th>c</th>\n",
              "      <td>7</td>\n",
              "      <td>8</td>\n",
              "    </tr>\n",
              "  </tbody>\n",
              "</table>\n",
              "</div>"
            ],
            "text/plain": [
              "   데이터3  데이터4\n",
              "a     5     6\n",
              "c     7     8"
            ]
          },
          "metadata": {
            "tags": []
          },
          "execution_count": 31
        }
      ]
    },
    {
      "cell_type": "code",
      "metadata": {
        "colab": {
          "base_uri": "https://localhost:8080/",
          "height": 142
        },
        "id": "vh2Fu5opIVLG",
        "outputId": "7d24c6ee-13c6-4ff9-bb59-d27c6538f4e0"
      },
      "source": [
        "pd.concat([df1, df2], axis=1)"
      ],
      "execution_count": 33,
      "outputs": [
        {
          "output_type": "execute_result",
          "data": {
            "text/html": [
              "<div>\n",
              "<style scoped>\n",
              "    .dataframe tbody tr th:only-of-type {\n",
              "        vertical-align: middle;\n",
              "    }\n",
              "\n",
              "    .dataframe tbody tr th {\n",
              "        vertical-align: top;\n",
              "    }\n",
              "\n",
              "    .dataframe thead th {\n",
              "        text-align: right;\n",
              "    }\n",
              "</style>\n",
              "<table border=\"1\" class=\"dataframe\">\n",
              "  <thead>\n",
              "    <tr style=\"text-align: right;\">\n",
              "      <th></th>\n",
              "      <th>데이터1</th>\n",
              "      <th>데이터2</th>\n",
              "      <th>데이터3</th>\n",
              "      <th>데이터4</th>\n",
              "    </tr>\n",
              "  </thead>\n",
              "  <tbody>\n",
              "    <tr>\n",
              "      <th>a</th>\n",
              "      <td>0</td>\n",
              "      <td>1</td>\n",
              "      <td>5.0</td>\n",
              "      <td>6.0</td>\n",
              "    </tr>\n",
              "    <tr>\n",
              "      <th>b</th>\n",
              "      <td>2</td>\n",
              "      <td>3</td>\n",
              "      <td>NaN</td>\n",
              "      <td>NaN</td>\n",
              "    </tr>\n",
              "    <tr>\n",
              "      <th>c</th>\n",
              "      <td>4</td>\n",
              "      <td>5</td>\n",
              "      <td>7.0</td>\n",
              "      <td>8.0</td>\n",
              "    </tr>\n",
              "  </tbody>\n",
              "</table>\n",
              "</div>"
            ],
            "text/plain": [
              "   데이터1  데이터2  데이터3  데이터4\n",
              "a     0     1   5.0   6.0\n",
              "b     2     3   NaN   NaN\n",
              "c     4     5   7.0   8.0"
            ]
          },
          "metadata": {
            "tags": []
          },
          "execution_count": 33
        }
      ]
    },
    {
      "cell_type": "markdown",
      "metadata": {
        "id": "8GvTzbHLIk17"
      },
      "source": [
        "### 연습문제"
      ]
    },
    {
      "cell_type": "code",
      "metadata": {
        "colab": {
          "base_uri": "https://localhost:8080/",
          "height": 235
        },
        "id": "LV63EZV4IbYo",
        "outputId": "ee9541b9-ac3d-4e51-b932-7c1da36e997a"
      },
      "source": [
        "df1= pd.DataFrame(np.random.randint(100,1000, size = (6,2)),\n",
        "                  columns = ['매출','비용'],\n",
        "                  index= ['1월','2월','3월','4월','5월','6월'])\n",
        "df1['이익'] = df1.매출 - df1.비용\n",
        "df1\n"
      ],
      "execution_count": 51,
      "outputs": [
        {
          "output_type": "execute_result",
          "data": {
            "text/html": [
              "<div>\n",
              "<style scoped>\n",
              "    .dataframe tbody tr th:only-of-type {\n",
              "        vertical-align: middle;\n",
              "    }\n",
              "\n",
              "    .dataframe tbody tr th {\n",
              "        vertical-align: top;\n",
              "    }\n",
              "\n",
              "    .dataframe thead th {\n",
              "        text-align: right;\n",
              "    }\n",
              "</style>\n",
              "<table border=\"1\" class=\"dataframe\">\n",
              "  <thead>\n",
              "    <tr style=\"text-align: right;\">\n",
              "      <th></th>\n",
              "      <th>매출</th>\n",
              "      <th>비용</th>\n",
              "      <th>이익</th>\n",
              "    </tr>\n",
              "  </thead>\n",
              "  <tbody>\n",
              "    <tr>\n",
              "      <th>1월</th>\n",
              "      <td>605</td>\n",
              "      <td>243</td>\n",
              "      <td>362</td>\n",
              "    </tr>\n",
              "    <tr>\n",
              "      <th>2월</th>\n",
              "      <td>261</td>\n",
              "      <td>179</td>\n",
              "      <td>82</td>\n",
              "    </tr>\n",
              "    <tr>\n",
              "      <th>3월</th>\n",
              "      <td>452</td>\n",
              "      <td>387</td>\n",
              "      <td>65</td>\n",
              "    </tr>\n",
              "    <tr>\n",
              "      <th>4월</th>\n",
              "      <td>649</td>\n",
              "      <td>604</td>\n",
              "      <td>45</td>\n",
              "    </tr>\n",
              "    <tr>\n",
              "      <th>5월</th>\n",
              "      <td>770</td>\n",
              "      <td>203</td>\n",
              "      <td>567</td>\n",
              "    </tr>\n",
              "    <tr>\n",
              "      <th>6월</th>\n",
              "      <td>446</td>\n",
              "      <td>827</td>\n",
              "      <td>-381</td>\n",
              "    </tr>\n",
              "  </tbody>\n",
              "</table>\n",
              "</div>"
            ],
            "text/plain": [
              "     매출   비용   이익\n",
              "1월  605  243  362\n",
              "2월  261  179   82\n",
              "3월  452  387   65\n",
              "4월  649  604   45\n",
              "5월  770  203  567\n",
              "6월  446  827 -381"
            ]
          },
          "metadata": {
            "tags": []
          },
          "execution_count": 51
        }
      ]
    },
    {
      "cell_type": "code",
      "metadata": {
        "colab": {
          "base_uri": "https://localhost:8080/",
          "height": 235
        },
        "id": "X0a-VRVZJUhW",
        "outputId": "d2e37c7d-7321-4806-c1f1-75716b548834"
      },
      "source": [
        "df2= pd.DataFrame(np.random.randint(100,1000, size = (6,2)),\n",
        "                  columns = ['매출','비용'],\n",
        "                  index= ['7월','8월','9월','10월','11월','12월'])\n",
        "df2['이익'] = df2.매출 - df2.비용\n",
        "df2"
      ],
      "execution_count": 52,
      "outputs": [
        {
          "output_type": "execute_result",
          "data": {
            "text/html": [
              "<div>\n",
              "<style scoped>\n",
              "    .dataframe tbody tr th:only-of-type {\n",
              "        vertical-align: middle;\n",
              "    }\n",
              "\n",
              "    .dataframe tbody tr th {\n",
              "        vertical-align: top;\n",
              "    }\n",
              "\n",
              "    .dataframe thead th {\n",
              "        text-align: right;\n",
              "    }\n",
              "</style>\n",
              "<table border=\"1\" class=\"dataframe\">\n",
              "  <thead>\n",
              "    <tr style=\"text-align: right;\">\n",
              "      <th></th>\n",
              "      <th>매출</th>\n",
              "      <th>비용</th>\n",
              "      <th>이익</th>\n",
              "    </tr>\n",
              "  </thead>\n",
              "  <tbody>\n",
              "    <tr>\n",
              "      <th>7월</th>\n",
              "      <td>401</td>\n",
              "      <td>372</td>\n",
              "      <td>29</td>\n",
              "    </tr>\n",
              "    <tr>\n",
              "      <th>8월</th>\n",
              "      <td>608</td>\n",
              "      <td>398</td>\n",
              "      <td>210</td>\n",
              "    </tr>\n",
              "    <tr>\n",
              "      <th>9월</th>\n",
              "      <td>420</td>\n",
              "      <td>602</td>\n",
              "      <td>-182</td>\n",
              "    </tr>\n",
              "    <tr>\n",
              "      <th>10월</th>\n",
              "      <td>449</td>\n",
              "      <td>877</td>\n",
              "      <td>-428</td>\n",
              "    </tr>\n",
              "    <tr>\n",
              "      <th>11월</th>\n",
              "      <td>849</td>\n",
              "      <td>691</td>\n",
              "      <td>158</td>\n",
              "    </tr>\n",
              "    <tr>\n",
              "      <th>12월</th>\n",
              "      <td>103</td>\n",
              "      <td>527</td>\n",
              "      <td>-424</td>\n",
              "    </tr>\n",
              "  </tbody>\n",
              "</table>\n",
              "</div>"
            ],
            "text/plain": [
              "      매출   비용   이익\n",
              "7월   401  372   29\n",
              "8월   608  398  210\n",
              "9월   420  602 -182\n",
              "10월  449  877 -428\n",
              "11월  849  691  158\n",
              "12월  103  527 -424"
            ]
          },
          "metadata": {
            "tags": []
          },
          "execution_count": 52
        }
      ]
    },
    {
      "cell_type": "code",
      "metadata": {
        "colab": {
          "base_uri": "https://localhost:8080/",
          "height": 421
        },
        "id": "69zJdxbgJaIW",
        "outputId": "d093265e-6f79-4442-e35f-3b16e42e1dd5"
      },
      "source": [
        "df = pd.concat([df1,df2])\n",
        "df"
      ],
      "execution_count": 53,
      "outputs": [
        {
          "output_type": "execute_result",
          "data": {
            "text/html": [
              "<div>\n",
              "<style scoped>\n",
              "    .dataframe tbody tr th:only-of-type {\n",
              "        vertical-align: middle;\n",
              "    }\n",
              "\n",
              "    .dataframe tbody tr th {\n",
              "        vertical-align: top;\n",
              "    }\n",
              "\n",
              "    .dataframe thead th {\n",
              "        text-align: right;\n",
              "    }\n",
              "</style>\n",
              "<table border=\"1\" class=\"dataframe\">\n",
              "  <thead>\n",
              "    <tr style=\"text-align: right;\">\n",
              "      <th></th>\n",
              "      <th>매출</th>\n",
              "      <th>비용</th>\n",
              "      <th>이익</th>\n",
              "    </tr>\n",
              "  </thead>\n",
              "  <tbody>\n",
              "    <tr>\n",
              "      <th>1월</th>\n",
              "      <td>605</td>\n",
              "      <td>243</td>\n",
              "      <td>362</td>\n",
              "    </tr>\n",
              "    <tr>\n",
              "      <th>2월</th>\n",
              "      <td>261</td>\n",
              "      <td>179</td>\n",
              "      <td>82</td>\n",
              "    </tr>\n",
              "    <tr>\n",
              "      <th>3월</th>\n",
              "      <td>452</td>\n",
              "      <td>387</td>\n",
              "      <td>65</td>\n",
              "    </tr>\n",
              "    <tr>\n",
              "      <th>4월</th>\n",
              "      <td>649</td>\n",
              "      <td>604</td>\n",
              "      <td>45</td>\n",
              "    </tr>\n",
              "    <tr>\n",
              "      <th>5월</th>\n",
              "      <td>770</td>\n",
              "      <td>203</td>\n",
              "      <td>567</td>\n",
              "    </tr>\n",
              "    <tr>\n",
              "      <th>6월</th>\n",
              "      <td>446</td>\n",
              "      <td>827</td>\n",
              "      <td>-381</td>\n",
              "    </tr>\n",
              "    <tr>\n",
              "      <th>7월</th>\n",
              "      <td>401</td>\n",
              "      <td>372</td>\n",
              "      <td>29</td>\n",
              "    </tr>\n",
              "    <tr>\n",
              "      <th>8월</th>\n",
              "      <td>608</td>\n",
              "      <td>398</td>\n",
              "      <td>210</td>\n",
              "    </tr>\n",
              "    <tr>\n",
              "      <th>9월</th>\n",
              "      <td>420</td>\n",
              "      <td>602</td>\n",
              "      <td>-182</td>\n",
              "    </tr>\n",
              "    <tr>\n",
              "      <th>10월</th>\n",
              "      <td>449</td>\n",
              "      <td>877</td>\n",
              "      <td>-428</td>\n",
              "    </tr>\n",
              "    <tr>\n",
              "      <th>11월</th>\n",
              "      <td>849</td>\n",
              "      <td>691</td>\n",
              "      <td>158</td>\n",
              "    </tr>\n",
              "    <tr>\n",
              "      <th>12월</th>\n",
              "      <td>103</td>\n",
              "      <td>527</td>\n",
              "      <td>-424</td>\n",
              "    </tr>\n",
              "  </tbody>\n",
              "</table>\n",
              "</div>"
            ],
            "text/plain": [
              "      매출   비용   이익\n",
              "1월   605  243  362\n",
              "2월   261  179   82\n",
              "3월   452  387   65\n",
              "4월   649  604   45\n",
              "5월   770  203  567\n",
              "6월   446  827 -381\n",
              "7월   401  372   29\n",
              "8월   608  398  210\n",
              "9월   420  602 -182\n",
              "10월  449  877 -428\n",
              "11월  849  691  158\n",
              "12월  103  527 -424"
            ]
          },
          "metadata": {
            "tags": []
          },
          "execution_count": 53
        }
      ]
    },
    {
      "cell_type": "code",
      "metadata": {
        "colab": {
          "base_uri": "https://localhost:8080/"
        },
        "id": "JIKhFLvxKYPT",
        "outputId": "420575f1-7643-4215-e3f6-9b0393161417"
      },
      "source": [
        "df.sum()"
      ],
      "execution_count": 54,
      "outputs": [
        {
          "output_type": "execute_result",
          "data": {
            "text/plain": [
              "매출    6013\n",
              "비용    5910\n",
              "이익     103\n",
              "dtype: int64"
            ]
          },
          "metadata": {
            "tags": []
          },
          "execution_count": 54
        }
      ]
    },
    {
      "cell_type": "code",
      "metadata": {
        "colab": {
          "base_uri": "https://localhost:8080/",
          "height": 452
        },
        "id": "pFWdJEvHJpE7",
        "outputId": "0b0937a1-cfe4-4b94-da40-36898000a719"
      },
      "source": [
        "df.loc['합계']= df.sum()\n",
        "df"
      ],
      "execution_count": 55,
      "outputs": [
        {
          "output_type": "execute_result",
          "data": {
            "text/html": [
              "<div>\n",
              "<style scoped>\n",
              "    .dataframe tbody tr th:only-of-type {\n",
              "        vertical-align: middle;\n",
              "    }\n",
              "\n",
              "    .dataframe tbody tr th {\n",
              "        vertical-align: top;\n",
              "    }\n",
              "\n",
              "    .dataframe thead th {\n",
              "        text-align: right;\n",
              "    }\n",
              "</style>\n",
              "<table border=\"1\" class=\"dataframe\">\n",
              "  <thead>\n",
              "    <tr style=\"text-align: right;\">\n",
              "      <th></th>\n",
              "      <th>매출</th>\n",
              "      <th>비용</th>\n",
              "      <th>이익</th>\n",
              "    </tr>\n",
              "  </thead>\n",
              "  <tbody>\n",
              "    <tr>\n",
              "      <th>1월</th>\n",
              "      <td>605</td>\n",
              "      <td>243</td>\n",
              "      <td>362</td>\n",
              "    </tr>\n",
              "    <tr>\n",
              "      <th>2월</th>\n",
              "      <td>261</td>\n",
              "      <td>179</td>\n",
              "      <td>82</td>\n",
              "    </tr>\n",
              "    <tr>\n",
              "      <th>3월</th>\n",
              "      <td>452</td>\n",
              "      <td>387</td>\n",
              "      <td>65</td>\n",
              "    </tr>\n",
              "    <tr>\n",
              "      <th>4월</th>\n",
              "      <td>649</td>\n",
              "      <td>604</td>\n",
              "      <td>45</td>\n",
              "    </tr>\n",
              "    <tr>\n",
              "      <th>5월</th>\n",
              "      <td>770</td>\n",
              "      <td>203</td>\n",
              "      <td>567</td>\n",
              "    </tr>\n",
              "    <tr>\n",
              "      <th>6월</th>\n",
              "      <td>446</td>\n",
              "      <td>827</td>\n",
              "      <td>-381</td>\n",
              "    </tr>\n",
              "    <tr>\n",
              "      <th>7월</th>\n",
              "      <td>401</td>\n",
              "      <td>372</td>\n",
              "      <td>29</td>\n",
              "    </tr>\n",
              "    <tr>\n",
              "      <th>8월</th>\n",
              "      <td>608</td>\n",
              "      <td>398</td>\n",
              "      <td>210</td>\n",
              "    </tr>\n",
              "    <tr>\n",
              "      <th>9월</th>\n",
              "      <td>420</td>\n",
              "      <td>602</td>\n",
              "      <td>-182</td>\n",
              "    </tr>\n",
              "    <tr>\n",
              "      <th>10월</th>\n",
              "      <td>449</td>\n",
              "      <td>877</td>\n",
              "      <td>-428</td>\n",
              "    </tr>\n",
              "    <tr>\n",
              "      <th>11월</th>\n",
              "      <td>849</td>\n",
              "      <td>691</td>\n",
              "      <td>158</td>\n",
              "    </tr>\n",
              "    <tr>\n",
              "      <th>12월</th>\n",
              "      <td>103</td>\n",
              "      <td>527</td>\n",
              "      <td>-424</td>\n",
              "    </tr>\n",
              "    <tr>\n",
              "      <th>합계</th>\n",
              "      <td>6013</td>\n",
              "      <td>5910</td>\n",
              "      <td>103</td>\n",
              "    </tr>\n",
              "  </tbody>\n",
              "</table>\n",
              "</div>"
            ],
            "text/plain": [
              "       매출    비용   이익\n",
              "1월    605   243  362\n",
              "2월    261   179   82\n",
              "3월    452   387   65\n",
              "4월    649   604   45\n",
              "5월    770   203  567\n",
              "6월    446   827 -381\n",
              "7월    401   372   29\n",
              "8월    608   398  210\n",
              "9월    420   602 -182\n",
              "10월   449   877 -428\n",
              "11월   849   691  158\n",
              "12월   103   527 -424\n",
              "합계   6013  5910  103"
            ]
          },
          "metadata": {
            "tags": []
          },
          "execution_count": 55
        }
      ]
    }
  ]
}