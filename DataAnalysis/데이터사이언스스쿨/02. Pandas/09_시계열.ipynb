{
  "nbformat": 4,
  "nbformat_minor": 0,
  "metadata": {
    "colab": {
      "name": "09_시계열.ipynb",
      "provenance": [],
      "collapsed_sections": []
    },
    "kernelspec": {
      "name": "python3",
      "display_name": "Python 3"
    },
    "language_info": {
      "name": "python"
    }
  },
  "cells": [
    {
      "cell_type": "markdown",
      "metadata": {
        "id": "DmpY_xwQ3pyf"
      },
      "source": [
        "# 시계열 자료 다루기"
      ]
    },
    {
      "cell_type": "code",
      "metadata": {
        "id": "g84vMdJ83k6q"
      },
      "source": [
        "import numpy as np\n",
        "import pandas as pd"
      ],
      "execution_count": 1,
      "outputs": []
    },
    {
      "cell_type": "markdown",
      "metadata": {
        "id": "1x5I0rVB3yuW"
      },
      "source": [
        "### DatetimeIndex 인덱스\n"
      ]
    },
    {
      "cell_type": "code",
      "metadata": {
        "colab": {
          "base_uri": "https://localhost:8080/"
        },
        "id": "gsRdmKhN3uoo",
        "outputId": "ab87dfc9-4ab8-4022-935c-377c32318dac"
      },
      "source": [
        "date_str = [\"2021, 8, 10\", \"2021-8-11\", \"20210812\", \"2021.8.13\", \"081521\"]\n",
        "idx = pd.to_datetime(date_str)\n",
        "idx"
      ],
      "execution_count": 7,
      "outputs": [
        {
          "output_type": "execute_result",
          "data": {
            "text/plain": [
              "DatetimeIndex(['2021-08-10', '2021-08-11', '2021-08-12', '2021-08-13',\n",
              "               '2021-08-15'],\n",
              "              dtype='datetime64[ns]', freq=None)"
            ]
          },
          "metadata": {
            "tags": []
          },
          "execution_count": 7
        }
      ]
    },
    {
      "cell_type": "code",
      "metadata": {
        "colab": {
          "base_uri": "https://localhost:8080/"
        },
        "id": "-G01EQXi4isg",
        "outputId": "01e86467-b964-4525-c987-4cd622f02693"
      },
      "source": [
        "np.random.seed(2021)\n",
        "s= pd.Series(np.random.randn(5), index=idx)\n",
        "s"
      ],
      "execution_count": 10,
      "outputs": [
        {
          "output_type": "execute_result",
          "data": {
            "text/plain": [
              "2021-08-10    1.488609\n",
              "2021-08-11    0.676011\n",
              "2021-08-12   -0.418451\n",
              "2021-08-13   -0.806521\n",
              "2021-08-15    0.555876\n",
              "dtype: float64"
            ]
          },
          "metadata": {
            "tags": []
          },
          "execution_count": 10
        }
      ]
    },
    {
      "cell_type": "code",
      "metadata": {
        "colab": {
          "base_uri": "https://localhost:8080/"
        },
        "id": "2vbZoSFH5pD8",
        "outputId": "ca421a31-586c-48e8-9c15-cb42706e6df5"
      },
      "source": [
        "pd.date_range('20210801','2021-08-31')"
      ],
      "execution_count": 11,
      "outputs": [
        {
          "output_type": "execute_result",
          "data": {
            "text/plain": [
              "DatetimeIndex(['2021-08-01', '2021-08-02', '2021-08-03', '2021-08-04',\n",
              "               '2021-08-05', '2021-08-06', '2021-08-07', '2021-08-08',\n",
              "               '2021-08-09', '2021-08-10', '2021-08-11', '2021-08-12',\n",
              "               '2021-08-13', '2021-08-14', '2021-08-15', '2021-08-16',\n",
              "               '2021-08-17', '2021-08-18', '2021-08-19', '2021-08-20',\n",
              "               '2021-08-21', '2021-08-22', '2021-08-23', '2021-08-24',\n",
              "               '2021-08-25', '2021-08-26', '2021-08-27', '2021-08-28',\n",
              "               '2021-08-29', '2021-08-30', '2021-08-31'],\n",
              "              dtype='datetime64[ns]', freq='D')"
            ]
          },
          "metadata": {
            "tags": []
          },
          "execution_count": 11
        }
      ]
    },
    {
      "cell_type": "code",
      "metadata": {
        "colab": {
          "base_uri": "https://localhost:8080/"
        },
        "id": "f9LwMt5p6Ci3",
        "outputId": "3ee799be-f49e-40fb-da16-8476595643cf"
      },
      "source": [
        "pd.date_range('20210801', periods=31)"
      ],
      "execution_count": 12,
      "outputs": [
        {
          "output_type": "execute_result",
          "data": {
            "text/plain": [
              "DatetimeIndex(['2021-08-01', '2021-08-02', '2021-08-03', '2021-08-04',\n",
              "               '2021-08-05', '2021-08-06', '2021-08-07', '2021-08-08',\n",
              "               '2021-08-09', '2021-08-10', '2021-08-11', '2021-08-12',\n",
              "               '2021-08-13', '2021-08-14', '2021-08-15', '2021-08-16',\n",
              "               '2021-08-17', '2021-08-18', '2021-08-19', '2021-08-20',\n",
              "               '2021-08-21', '2021-08-22', '2021-08-23', '2021-08-24',\n",
              "               '2021-08-25', '2021-08-26', '2021-08-27', '2021-08-28',\n",
              "               '2021-08-29', '2021-08-30', '2021-08-31'],\n",
              "              dtype='datetime64[ns]', freq='D')"
            ]
          },
          "metadata": {
            "tags": []
          },
          "execution_count": 12
        }
      ]
    },
    {
      "cell_type": "code",
      "metadata": {
        "colab": {
          "base_uri": "https://localhost:8080/"
        },
        "id": "QOAL6OJO6MqE",
        "outputId": "defa236e-a0eb-4ec4-a8e0-5fc3e84a01c2"
      },
      "source": [
        "# Biz-day\n",
        "pd.date_range('20210801', periods=22, freq='B')"
      ],
      "execution_count": 13,
      "outputs": [
        {
          "output_type": "execute_result",
          "data": {
            "text/plain": [
              "DatetimeIndex(['2021-08-02', '2021-08-03', '2021-08-04', '2021-08-05',\n",
              "               '2021-08-06', '2021-08-09', '2021-08-10', '2021-08-11',\n",
              "               '2021-08-12', '2021-08-13', '2021-08-16', '2021-08-17',\n",
              "               '2021-08-18', '2021-08-19', '2021-08-20', '2021-08-23',\n",
              "               '2021-08-24', '2021-08-25', '2021-08-26', '2021-08-27',\n",
              "               '2021-08-30', '2021-08-31'],\n",
              "              dtype='datetime64[ns]', freq='B')"
            ]
          },
          "metadata": {
            "tags": []
          },
          "execution_count": 13
        }
      ]
    },
    {
      "cell_type": "code",
      "metadata": {
        "colab": {
          "base_uri": "https://localhost:8080/"
        },
        "id": "ARIUEfel9gIg",
        "outputId": "9776f5ba-5108-4de2-9854-d4e6e76cb439"
      },
      "source": [
        "# 일요일(W)\n",
        "pd.date_range('20210801','20210831', freq='W')"
      ],
      "execution_count": 15,
      "outputs": [
        {
          "output_type": "execute_result",
          "data": {
            "text/plain": [
              "DatetimeIndex(['2021-08-01', '2021-08-08', '2021-08-15', '2021-08-22',\n",
              "               '2021-08-29'],\n",
              "              dtype='datetime64[ns]', freq='W-SUN')"
            ]
          },
          "metadata": {
            "tags": []
          },
          "execution_count": 15
        }
      ]
    },
    {
      "cell_type": "markdown",
      "metadata": {
        "id": "K9IFH9wr-Z82"
      },
      "source": [
        "### resample 연산\n"
      ]
    },
    {
      "cell_type": "code",
      "metadata": {
        "colab": {
          "base_uri": "https://localhost:8080/"
        },
        "id": "W-dzQlFZ98z3",
        "outputId": "7890418f-7d5a-4811-b64b-038b3dd498f5"
      },
      "source": [
        "ts = pd.Series(np.random.randn(100), \n",
        "               index=pd.date_range(\"2021-1-1\", periods=100))\n",
        "ts.tail(10)"
      ],
      "execution_count": 18,
      "outputs": [
        {
          "output_type": "execute_result",
          "data": {
            "text/plain": [
              "2021-04-01   -1.126551\n",
              "2021-04-02   -0.120349\n",
              "2021-04-03   -1.226517\n",
              "2021-04-04   -0.722695\n",
              "2021-04-05   -0.619026\n",
              "2021-04-06   -0.988081\n",
              "2021-04-07   -0.532415\n",
              "2021-04-08    1.182246\n",
              "2021-04-09    0.770814\n",
              "2021-04-10   -0.416720\n",
              "Freq: D, dtype: float64"
            ]
          },
          "metadata": {
            "tags": []
          },
          "execution_count": 18
        }
      ]
    },
    {
      "cell_type": "code",
      "metadata": {
        "colab": {
          "base_uri": "https://localhost:8080/"
        },
        "id": "9KuH1rvU-hBZ",
        "outputId": "2a456442-005a-4dff-9ce5-70167cbe124f"
      },
      "source": [
        "ts.resample('W').sum()"
      ],
      "execution_count": 20,
      "outputs": [
        {
          "output_type": "execute_result",
          "data": {
            "text/plain": [
              "2021-01-03   -3.509532\n",
              "2021-01-10    1.417503\n",
              "2021-01-17    0.516457\n",
              "2021-01-24   -0.423815\n",
              "2021-01-31    4.465036\n",
              "2021-02-07   -0.065563\n",
              "2021-02-14   -1.148762\n",
              "2021-02-21   -0.367756\n",
              "2021-02-28    0.376616\n",
              "2021-03-07    2.280861\n",
              "2021-03-14    5.245241\n",
              "2021-03-21   -4.639195\n",
              "2021-03-28   -0.553907\n",
              "2021-04-04    0.791485\n",
              "2021-04-11   -0.603182\n",
              "Freq: W-SUN, dtype: float64"
            ]
          },
          "metadata": {
            "tags": []
          },
          "execution_count": 20
        }
      ]
    },
    {
      "cell_type": "code",
      "metadata": {
        "colab": {
          "base_uri": "https://localhost:8080/"
        },
        "id": "TanEVTc6-0Vk",
        "outputId": "d2776297-52e5-44e7-cdb1-aaac09e83306"
      },
      "source": [
        "ts.resample('M').first()"
      ],
      "execution_count": 21,
      "outputs": [
        {
          "output_type": "execute_result",
          "data": {
            "text/plain": [
              "2021-01-31   -0.716528\n",
              "2021-02-28   -0.660724\n",
              "2021-03-31    1.583657\n",
              "2021-04-30   -1.126551\n",
              "Freq: M, dtype: float64"
            ]
          },
          "metadata": {
            "tags": []
          },
          "execution_count": 21
        }
      ]
    }
  ]
}