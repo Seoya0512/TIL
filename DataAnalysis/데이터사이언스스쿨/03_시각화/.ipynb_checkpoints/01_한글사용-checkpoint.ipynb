{
 "cells": [
  {
   "cell_type": "markdown",
   "metadata": {
    "id": "7kVxDItgEU-e"
   },
   "source": [
    "# Matplotlib에서 한글 폰트 사용하기"
   ]
  },
  {
   "cell_type": "markdown",
   "metadata": {
    "id": "OhaJcU1_EY8h"
   },
   "source": [
    "### 1. Colab 환경"
   ]
  },
  {
   "cell_type": "markdown",
   "metadata": {
    "id": "vGB8myLyEi50"
   },
   "source": [
    "#### 1) 한글 폰트 설치\n",
    "- 코랩 새로운 페이지 실행할 때 매번 적용"
   ]
  },
  {
   "cell_type": "code",
   "execution_count": 11,
   "metadata": {
    "colab": {
     "base_uri": "https://localhost:8080/"
    },
    "id": "2XmERIQ-CKP1",
    "outputId": "0ab8bf07-49e1-4acc-eac9-adafab158b2b"
   },
   "outputs": [
    {
     "name": "stdout",
     "output_type": "stream",
     "text": [
      "Reading package lists... Done\n",
      "Building dependency tree       \n",
      "Reading state information... Done\n",
      "fonts-nanum is already the newest version (20170925-1).\n",
      "0 upgraded, 0 newly installed, 0 to remove and 40 not upgraded.\n"
     ]
    }
   ],
   "source": [
    "!apt-get install -y fonts-nanum"
   ]
  },
  {
   "cell_type": "code",
   "execution_count": 14,
   "metadata": {
    "colab": {
     "base_uri": "https://localhost:8080/"
    },
    "id": "yWEmq889CQHG",
    "outputId": "fe24e84f-e982-4c71-a535-4286e6ce0ba9"
   },
   "outputs": [
    {
     "name": "stdout",
     "output_type": "stream",
     "text": [
      "/usr/share/fonts: caching, new cache contents: 0 fonts, 1 dirs\n",
      "/usr/share/fonts/truetype: caching, new cache contents: 0 fonts, 3 dirs\n",
      "/usr/share/fonts/truetype/humor-sans: caching, new cache contents: 1 fonts, 0 dirs\n",
      "/usr/share/fonts/truetype/liberation: caching, new cache contents: 16 fonts, 0 dirs\n",
      "/usr/share/fonts/truetype/nanum: caching, new cache contents: 10 fonts, 0 dirs\n",
      "/usr/local/share/fonts: caching, new cache contents: 0 fonts, 0 dirs\n",
      "/root/.local/share/fonts: skipping, no such directory\n",
      "/root/.fonts: skipping, no such directory\n",
      "/var/cache/fontconfig: cleaning cache directory\n",
      "/root/.cache/fontconfig: not cleaning non-existent cache directory\n",
      "/root/.fontconfig: not cleaning non-existent cache directory\n",
      "fc-cache: succeeded\n"
     ]
    }
   ],
   "source": [
    "!fc-cache -fv"
   ]
  },
  {
   "cell_type": "code",
   "execution_count": 15,
   "metadata": {
    "id": "Kc5aByo_Chq0"
   },
   "outputs": [],
   "source": [
    "!rm -rf ~/.cache/matplotlib"
   ]
  },
  {
   "cell_type": "markdown",
   "metadata": {
    "id": "KHTI0BhLC_AE"
   },
   "source": [
    "#### 2) Colab 런타임 다시 시작"
   ]
  },
  {
   "cell_type": "code",
   "execution_count": 1,
   "metadata": {
    "id": "033_q1WXCrAY"
   },
   "outputs": [],
   "source": [
    "import numpy as np\n",
    "import matplotlib as mpl\n",
    "import matplotlib.pyplot as plt"
   ]
  },
  {
   "cell_type": "code",
   "execution_count": 2,
   "metadata": {
    "id": "zg-QV8VIC9A8"
   },
   "outputs": [],
   "source": [
    "# minus 표시\n",
    "mpl.rcParams['axes.unicode_minus']=False\n",
    "plt.rc('font',family='NanumBarunGothic')"
   ]
  },
  {
   "cell_type": "code",
   "execution_count": 4,
   "metadata": {
    "colab": {
     "base_uri": "https://localhost:8080/",
     "height": 280
    },
    "id": "R-sAFC6pDV-I",
    "outputId": "6d02612e-9218-410b-cb1e-3e5327340121"
   },
   "outputs": [
    {
     "data": {
      "image/png": "[encoded data removed]",
      "text/plain": [
       "<Figure size 432x288 with 1 Axes>"
      ]
     },
     "metadata": {
      "needs_background": "light",
      "tags": []
     },
     "output_type": "display_data"
    }
   ],
   "source": [
    "plt.title(\"플롯 예\")\n",
    "plt.plot([1, 4, 9, 16])\n",
    "plt.show()"
   ]
  },
  {
   "cell_type": "markdown",
   "metadata": {
    "id": "myO0OXwnDfhF"
   },
   "source": [
    "### 2. Local 에 있는 jupyter notebook 에서 한글 파일 사용 "
   ]
  },
  {
   "cell_type": "code",
   "execution_count": null,
   "metadata": {},
   "outputs": [],
   "source": []
  }
 ],
 "metadata": {
  "colab": {
   "name": "01_한글사용.ipynb",
   "provenance": []
  },
  "kernelspec": {
   "display_name": "Python 3",
   "language": "python",
   "name": "python3"
  },
  "language_info": {
   "codemirror_mode": {
    "name": "ipython",
    "version": 3
   },
   "file_extension": ".py",
   "mimetype": "text/x-python",
   "name": "python",
   "nbconvert_exporter": "python",
   "pygments_lexer": "ipython3",
   "version": "3.8.10"
  }
 },
 "nbformat": 4,
 "nbformat_minor": 1
}
