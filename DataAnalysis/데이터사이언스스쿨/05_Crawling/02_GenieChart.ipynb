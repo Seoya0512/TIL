{
  "nbformat": 4,
  "nbformat_minor": 0,
  "metadata": {
    "colab": {
      "name": "02_GenieChart.ipynb",
      "provenance": [],
      "collapsed_sections": []
    },
    "kernelspec": {
      "name": "python3",
      "display_name": "Python 3"
    },
    "language_info": {
      "name": "python"
    }
  },
  "cells": [
    {
      "cell_type": "markdown",
      "metadata": {
        "id": "c0-jtcLza-cM"
      },
      "source": [
        "# Genie Top200 Chart"
      ]
    },
    {
      "cell_type": "code",
      "metadata": {
        "id": "29R-1FRJavF7"
      },
      "source": [
        "import requests\n",
        "import pandas as pd"
      ],
      "execution_count": 8,
      "outputs": []
    },
    {
      "cell_type": "code",
      "metadata": {
        "colab": {
          "base_uri": "https://localhost:8080/",
          "height": 137
        },
        "id": "qMhP2vC6bH6C",
        "outputId": "de17b7b6-a767-4fbd-b8b5-ed1904e720e3"
      },
      "source": [
        "# Genie Top200\n",
        "url='https://www.genie.co.kr/chart/top200'\n",
        "req = requests.get(url)\n",
        "html = req.text\n",
        "html"
      ],
      "execution_count": 13,
      "outputs": [
        {
          "output_type": "execute_result",
          "data": {
            "application/vnd.google.colaboratory.intrinsic+json": {
              "type": "string"
            },
            "text/plain": [
              "'<br>\\r\\n<br>\\r\\n<center>\\r\\n<img src=\"http://www.geniemusic.co.kr/images/common/logo_r1.png\"><br>\\r\\n<h2> <meta http-equiv=\"Content-Type\" content=\"text/html;charset=UTF-8\"> ì\\xa0\\x91ì\\x86\\x8dì\\x9a\\x94ì²\\xadì\\x9d´ ë³´ì\\x95\\x88ì\\xa0\\x95ì±\\x85ì\\x97\\x90 ì\\x9d\\x98í\\x95´ ì°¨ë\\x8b¨ë\\x90\\x98ì\\x97\\x88ì\\x8aµë\\x8b\\x88ë\\x8b¤. ë\\x8b¹ì\\x82¬ ê³\\xa0ê°\\x9dì\\x84¼í\\x84°ë¡\\x9c ë¬¸ì\\x9d\\x98í\\x95´ì£¼ì\\x8b\\xadì\\x8b\\x9cì\\x98¤.<br><br>\\r\\nThe security policy of the connection request is blocked. Contact your customer service representative.<br><br>\\r\\nì§\\x80ë\\x8b\\x88ë®¤ì§\\x81 ê³\\xa0ê°\\x9dì\\x84¼í\\x84° 1577-5337<br><br>\\r\\n</h2>\\r\\n</center>\\r\\n<br>'"
            ]
          },
          "metadata": {
            "tags": []
          },
          "execution_count": 13
        }
      ]
    },
    {
      "cell_type": "code",
      "metadata": {
        "id": "C5ubQ9N7blod"
      },
      "source": [
        "# Chrome User-Agent\n",
        "header = {'User-Agent':\n",
        "          'Mozilla/5.0 (X11; Linux x86_64) AppleWebKit/537.36 (KHTML, like Gecko) Chrome/51.0.2704.103 Safari/537.36'}\n",
        "req = requests.get(url, headers=header)\n",
        "html = req.text\n",
        "#html"
      ],
      "execution_count": 10,
      "outputs": []
    },
    {
      "cell_type": "code",
      "metadata": {
        "id": "y71vZ9YPcRmo"
      },
      "source": [
        "from bs4 import BeautifulSoup\n",
        "\n",
        "soup = BeautifulSoup(html, 'html.parser')"
      ],
      "execution_count": 12,
      "outputs": []
    },
    {
      "cell_type": "markdown",
      "metadata": {
        "id": "jsJlDnSifwGt"
      },
      "source": [
        "## 2. 데이터의 태그 찾기"
      ]
    },
    {
      "cell_type": "code",
      "metadata": {
        "colab": {
          "base_uri": "https://localhost:8080/"
        },
        "id": "LGjSiP_NfWIN",
        "outputId": "0fae2e81-1fb2-4d8d-d0ba-3921fcc8372f"
      },
      "source": [
        "# <table class>= \"list-wrap\">\n",
        "\n",
        "table = soup.select_one('table.list-wrap')\n",
        "trs = table.select('tr.list')\n",
        "len(trs)"
      ],
      "execution_count": 15,
      "outputs": [
        {
          "output_type": "execute_result",
          "data": {
            "text/plain": [
              "50"
            ]
          },
          "metadata": {
            "tags": []
          },
          "execution_count": 15
        }
      ]
    },
    {
      "cell_type": "markdown",
      "metadata": {
        "id": "t5F8zdp0hYNf"
      },
      "source": [
        "## 3. 여러개의 데이터 중 하나를 선택해서 원하는 정보 추출"
      ]
    },
    {
      "cell_type": "code",
      "metadata": {
        "id": "FPRzUf9ug3Pm"
      },
      "source": [
        "# rank, title, artist, album\n",
        "tr= trs[0]"
      ],
      "execution_count": 26,
      "outputs": []
    },
    {
      "cell_type": "code",
      "metadata": {
        "colab": {
          "base_uri": "https://localhost:8080/",
          "height": 52
        },
        "id": "w5494zO2iJgg",
        "outputId": "46417c7e-8018-4e35-f721-0af051b11150"
      },
      "source": [
        "# rank\n",
        "tr.select_one('.number').get_text()"
      ],
      "execution_count": 23,
      "outputs": [
        {
          "output_type": "execute_result",
          "data": {
            "application/vnd.google.colaboratory.intrinsic+json": {
              "type": "string"
            },
            "text/plain": [
              "'50\\n                                        \\n                                    \\n16하강\\n\\n'"
            ]
          },
          "metadata": {
            "tags": []
          },
          "execution_count": 23
        }
      ]
    },
    {
      "cell_type": "code",
      "metadata": {
        "colab": {
          "base_uri": "https://localhost:8080/",
          "height": 35
        },
        "id": "FgCyGaEJii9j",
        "outputId": "c023728c-8e43-44b7-c2d4-ab3b60b39988"
      },
      "source": [
        "tr.select_one('.number').get_text().split('\\n')[0]"
      ],
      "execution_count": 24,
      "outputs": [
        {
          "output_type": "execute_result",
          "data": {
            "application/vnd.google.colaboratory.intrinsic+json": {
              "type": "string"
            },
            "text/plain": [
              "'50'"
            ]
          },
          "metadata": {
            "tags": []
          },
          "execution_count": 24
        }
      ]
    },
    {
      "cell_type": "code",
      "metadata": {
        "colab": {
          "base_uri": "https://localhost:8080/"
        },
        "id": "ApHfuJuYirbM",
        "outputId": "508ba895-fccc-47b2-dc70-a0e4739cf838"
      },
      "source": [
        "rank= int(tr.select_one('.number').get_text().split('\\n')[0])\n",
        "rank"
      ],
      "execution_count": 25,
      "outputs": [
        {
          "output_type": "execute_result",
          "data": {
            "text/plain": [
              "50"
            ]
          },
          "metadata": {
            "tags": []
          },
          "execution_count": 25
        }
      ]
    },
    {
      "cell_type": "code",
      "metadata": {
        "colab": {
          "base_uri": "https://localhost:8080/",
          "height": 35
        },
        "id": "kdvm12Ahi2Sr",
        "outputId": "306fc5cb-92d2-421c-b469-a99dc49222d5"
      },
      "source": [
        "# title\n",
        "title= tr.select_one('.info').select_one('.title').get_text().strip()\n",
        "title"
      ],
      "execution_count": 35,
      "outputs": [
        {
          "output_type": "execute_result",
          "data": {
            "application/vnd.google.colaboratory.intrinsic+json": {
              "type": "string"
            },
            "text/plain": [
              "'Queendom'"
            ]
          },
          "metadata": {
            "tags": []
          },
          "execution_count": 35
        }
      ]
    },
    {
      "cell_type": "code",
      "metadata": {
        "colab": {
          "base_uri": "https://localhost:8080/",
          "height": 35
        },
        "id": "YoKbRBC1jYLF",
        "outputId": "84cab0d1-ed9a-4628-fa80-a4bf7feca9c8"
      },
      "source": [
        "# artist\n",
        "artist= tr.select_one('.info').select_one('.artist').get_text().strip()\n",
        "artist"
      ],
      "execution_count": 34,
      "outputs": [
        {
          "output_type": "execute_result",
          "data": {
            "application/vnd.google.colaboratory.intrinsic+json": {
              "type": "string"
            },
            "text/plain": [
              "'Red Velvet (레드벨벳)'"
            ]
          },
          "metadata": {
            "tags": []
          },
          "execution_count": 34
        }
      ]
    },
    {
      "cell_type": "code",
      "metadata": {
        "colab": {
          "base_uri": "https://localhost:8080/",
          "height": 35
        },
        "id": "Vx8h7YskkOP8",
        "outputId": "a559a7ab-cd59-4073-874d-e56843398f88"
      },
      "source": [
        "# album\n",
        "album= tr.select_one('.info').select_one('.albumtitle').get_text().strip()\n",
        "album"
      ],
      "execution_count": 37,
      "outputs": [
        {
          "output_type": "execute_result",
          "data": {
            "application/vnd.google.colaboratory.intrinsic+json": {
              "type": "string"
            },
            "text/plain": [
              "'Queendom - The 6th Mini Album'"
            ]
          },
          "metadata": {
            "tags": []
          },
          "execution_count": 37
        }
      ]
    },
    {
      "cell_type": "markdown",
      "metadata": {
        "id": "TC42YhbMkxL0"
      },
      "source": [
        "### 4. 한 페이지에 있는 모든 데이터를 반복문으로 가져오기 "
      ]
    },
    {
      "cell_type": "code",
      "metadata": {
        "id": "OVPzwDYFkjib"
      },
      "source": [
        "rank_list, title_list, artist_list, album_list = [], [],[],[]\n",
        "\n",
        "for tr in trs:\n",
        "  rank= int(tr.select_one('.number').get_text().split('\\n')[0])\n",
        "  title= tr.select_one('.info').select_one('.title').get_text().strip()\n",
        "  artist= tr.select_one('.info').select_one('.artist').get_text().strip()\n",
        "  album= tr.select_one('.info').select_one('.albumtitle').get_text().strip()\n",
        "  rank_list.append(rank)\n",
        "  title_list.append(title)\n",
        "  artist_list.append(artist)\n",
        "  album_list.append(album)"
      ],
      "execution_count": 38,
      "outputs": []
    },
    {
      "cell_type": "code",
      "metadata": {
        "colab": {
          "base_uri": "https://localhost:8080/",
          "height": 289
        },
        "id": "j9qk572alpPn",
        "outputId": "5b34bb4b-68bf-4109-e9d2-aaa2befe8f8a"
      },
      "source": [
        "df = pd.DataFrame({\n",
        "    '순위': rank_list,\n",
        "    '곡명' : title_list,\n",
        "    '가수' : artist_list,\n",
        "    '앨범' : album_list\n",
        "})\n",
        "df.tail()"
      ],
      "execution_count": 40,
      "outputs": [
        {
          "output_type": "execute_result",
          "data": {
            "text/html": [
              "<div>\n",
              "<style scoped>\n",
              "    .dataframe tbody tr th:only-of-type {\n",
              "        vertical-align: middle;\n",
              "    }\n",
              "\n",
              "    .dataframe tbody tr th {\n",
              "        vertical-align: top;\n",
              "    }\n",
              "\n",
              "    .dataframe thead th {\n",
              "        text-align: right;\n",
              "    }\n",
              "</style>\n",
              "<table border=\"1\" class=\"dataframe\">\n",
              "  <thead>\n",
              "    <tr style=\"text-align: right;\">\n",
              "      <th></th>\n",
              "      <th>순위</th>\n",
              "      <th>곡명</th>\n",
              "      <th>가수</th>\n",
              "      <th>앨범</th>\n",
              "    </tr>\n",
              "  </thead>\n",
              "  <tbody>\n",
              "    <tr>\n",
              "      <th>45</th>\n",
              "      <td>46</td>\n",
              "      <td>사이렌 Remix (Feat. UNEDUCATED KID &amp; Paul Blanco)</td>\n",
              "      <td>호미들</td>\n",
              "      <td>사이렌 Remix</td>\n",
              "    </tr>\n",
              "    <tr>\n",
              "      <th>46</th>\n",
              "      <td>47</td>\n",
              "      <td>어푸 (Ah puh)</td>\n",
              "      <td>아이유 (IU)</td>\n",
              "      <td>IU 5th Album 'LILAC'</td>\n",
              "    </tr>\n",
              "    <tr>\n",
              "      <th>47</th>\n",
              "      <td>48</td>\n",
              "      <td>가을 우체국 앞에서</td>\n",
              "      <td>김대명</td>\n",
              "      <td>슬기로운 의사생활 시즌2 OST Part 2 (tvN 목요드라마)</td>\n",
              "    </tr>\n",
              "    <tr>\n",
              "      <th>48</th>\n",
              "      <td>49</td>\n",
              "      <td>Life Goes On</td>\n",
              "      <td>방탄소년단</td>\n",
              "      <td>BE</td>\n",
              "    </tr>\n",
              "    <tr>\n",
              "      <th>49</th>\n",
              "      <td>50</td>\n",
              "      <td>그대라는 사치</td>\n",
              "      <td>임영웅</td>\n",
              "      <td>사랑의 콜센타 PART62</td>\n",
              "    </tr>\n",
              "  </tbody>\n",
              "</table>\n",
              "</div>"
            ],
            "text/plain": [
              "    순위  ...                                    앨범\n",
              "45  46  ...                             사이렌 Remix\n",
              "46  47  ...                  IU 5th Album 'LILAC'\n",
              "47  48  ...  슬기로운 의사생활 시즌2 OST Part 2 (tvN 목요드라마)\n",
              "48  49  ...                                    BE\n",
              "49  50  ...                        사랑의 콜센타 PART62\n",
              "\n",
              "[5 rows x 4 columns]"
            ]
          },
          "metadata": {
            "tags": []
          },
          "execution_count": 40
        }
      ]
    },
    {
      "cell_type": "code",
      "metadata": {
        "id": "DeSCT4okmAHS"
      },
      "source": [
        "lines = []\n",
        "for tr in trs:\n",
        "  rank= int(tr.select_one('.number').get_text().split('\\n')[0])\n",
        "  title= tr.select_one('.info').select_one('.title').get_text().strip()\n",
        "  artist= tr.select_one('.info').select_one('.artist').get_text().strip()\n",
        "  album= tr.select_one('.info').select_one('.albumtitle').get_text().strip()\n",
        "  lines.append([rank, title, artist, album])"
      ],
      "execution_count": 41,
      "outputs": []
    },
    {
      "cell_type": "code",
      "metadata": {
        "colab": {
          "base_uri": "https://localhost:8080/",
          "height": 204
        },
        "id": "d-ZXBZ1bm137",
        "outputId": "c6181780-0516-410f-f9c8-2614133e9960"
      },
      "source": [
        "df = pd.DataFrame(lines, columns=['순위','곡명','가수','앨범'])\n",
        "df.head()"
      ],
      "execution_count": 42,
      "outputs": [
        {
          "output_type": "execute_result",
          "data": {
            "text/html": [
              "<div>\n",
              "<style scoped>\n",
              "    .dataframe tbody tr th:only-of-type {\n",
              "        vertical-align: middle;\n",
              "    }\n",
              "\n",
              "    .dataframe tbody tr th {\n",
              "        vertical-align: top;\n",
              "    }\n",
              "\n",
              "    .dataframe thead th {\n",
              "        text-align: right;\n",
              "    }\n",
              "</style>\n",
              "<table border=\"1\" class=\"dataframe\">\n",
              "  <thead>\n",
              "    <tr style=\"text-align: right;\">\n",
              "      <th></th>\n",
              "      <th>순위</th>\n",
              "      <th>곡명</th>\n",
              "      <th>가수</th>\n",
              "      <th>앨범</th>\n",
              "    </tr>\n",
              "  </thead>\n",
              "  <tbody>\n",
              "    <tr>\n",
              "      <th>0</th>\n",
              "      <td>1</td>\n",
              "      <td>Queendom</td>\n",
              "      <td>Red Velvet (레드벨벳)</td>\n",
              "      <td>Queendom - The 6th Mini Album</td>\n",
              "    </tr>\n",
              "    <tr>\n",
              "      <th>1</th>\n",
              "      <td>2</td>\n",
              "      <td>신호등</td>\n",
              "      <td>이무진</td>\n",
              "      <td>신호등</td>\n",
              "    </tr>\n",
              "    <tr>\n",
              "      <th>2</th>\n",
              "      <td>3</td>\n",
              "      <td>낙하 (With 아이유)</td>\n",
              "      <td>AKMU (악뮤)</td>\n",
              "      <td>NEXT EPISODE</td>\n",
              "    </tr>\n",
              "    <tr>\n",
              "      <th>3</th>\n",
              "      <td>4</td>\n",
              "      <td>바라만 본다</td>\n",
              "      <td>MSG워너비 (M.O.M)</td>\n",
              "      <td>MSG워너비 1집</td>\n",
              "    </tr>\n",
              "    <tr>\n",
              "      <th>4</th>\n",
              "      <td>5</td>\n",
              "      <td>Weekend</td>\n",
              "      <td>태연 (TAEYEON)</td>\n",
              "      <td>Weekend</td>\n",
              "    </tr>\n",
              "  </tbody>\n",
              "</table>\n",
              "</div>"
            ],
            "text/plain": [
              "   순위             곡명                 가수                             앨범\n",
              "0   1       Queendom  Red Velvet (레드벨벳)  Queendom - The 6th Mini Album\n",
              "1   2            신호등                이무진                            신호등\n",
              "2   3  낙하 (With 아이유)          AKMU (악뮤)                   NEXT EPISODE\n",
              "3   4         바라만 본다     MSG워너비 (M.O.M)                      MSG워너비 1집\n",
              "4   5        Weekend       태연 (TAEYEON)                        Weekend"
            ]
          },
          "metadata": {
            "tags": []
          },
          "execution_count": 42
        }
      ]
    },
    {
      "cell_type": "markdown",
      "metadata": {
        "id": "ynktLtnXoC-x"
      },
      "source": [
        "### 5. 모든 페이지 데이터 가져오기"
      ]
    },
    {
      "cell_type": "code",
      "metadata": {
        "id": "cDQsRObonB48"
      },
      "source": [
        "sub= 'https://www.genie.co.kr/chart/top200?ditc=D&ymd=20210817&hh=14&rtm=Y&pg='\n",
        "rank_list, title_list, artist_list, album_list = [], [],[],[]\n",
        "\n",
        "for page in range(1,5):\n",
        "  url = f'{sub}{page}'\n",
        "  req = requests.get(url, headers=header)  \n",
        "  soup = BeautifulSoup(req.text, 'html.parser')\n",
        "  trs = soup.select('tr.list')\n",
        "  \n",
        "  for tr in trs:\n",
        "    rank= int(tr.select_one('.number').get_text().split('\\n')[0])\n",
        "    title= tr.select_one('.info').select_one('.title').get_text().strip()\n",
        "    artist= tr.select_one('.info').select_one('.artist').get_text().strip()\n",
        "    album= tr.select_one('.info').select_one('.albumtitle').get_text().strip()\n",
        "    rank_list.append(rank)\n",
        "    title_list.append(title)\n",
        "    artist_list.append(artist)\n",
        "    album_list.append(album)\n"
      ],
      "execution_count": 60,
      "outputs": []
    },
    {
      "cell_type": "code",
      "metadata": {
        "colab": {
          "base_uri": "https://localhost:8080/",
          "height": 419
        },
        "id": "v5ECVf7QpVHJ",
        "outputId": "d697a203-ad59-46e7-8166-084ad5be1cb1"
      },
      "source": [
        "df = pd.DataFrame({\n",
        "    '순위': rank_list, '곡명' : title_list,\n",
        "    '가수' : artist_list, '앨범' : album_list\n",
        "})\n",
        "df"
      ],
      "execution_count": 61,
      "outputs": [
        {
          "output_type": "execute_result",
          "data": {
            "text/html": [
              "<div>\n",
              "<style scoped>\n",
              "    .dataframe tbody tr th:only-of-type {\n",
              "        vertical-align: middle;\n",
              "    }\n",
              "\n",
              "    .dataframe tbody tr th {\n",
              "        vertical-align: top;\n",
              "    }\n",
              "\n",
              "    .dataframe thead th {\n",
              "        text-align: right;\n",
              "    }\n",
              "</style>\n",
              "<table border=\"1\" class=\"dataframe\">\n",
              "  <thead>\n",
              "    <tr style=\"text-align: right;\">\n",
              "      <th></th>\n",
              "      <th>순위</th>\n",
              "      <th>곡명</th>\n",
              "      <th>가수</th>\n",
              "      <th>앨범</th>\n",
              "    </tr>\n",
              "  </thead>\n",
              "  <tbody>\n",
              "    <tr>\n",
              "      <th>0</th>\n",
              "      <td>1</td>\n",
              "      <td>Queendom</td>\n",
              "      <td>Red Velvet (레드벨벳)</td>\n",
              "      <td>Queendom - The 6th Mini Album</td>\n",
              "    </tr>\n",
              "    <tr>\n",
              "      <th>1</th>\n",
              "      <td>2</td>\n",
              "      <td>신호등</td>\n",
              "      <td>이무진</td>\n",
              "      <td>신호등</td>\n",
              "    </tr>\n",
              "    <tr>\n",
              "      <th>2</th>\n",
              "      <td>3</td>\n",
              "      <td>낙하 (With 아이유)</td>\n",
              "      <td>AKMU (악뮤)</td>\n",
              "      <td>NEXT EPISODE</td>\n",
              "    </tr>\n",
              "    <tr>\n",
              "      <th>3</th>\n",
              "      <td>4</td>\n",
              "      <td>바라만 본다</td>\n",
              "      <td>MSG워너비 (M.O.M)</td>\n",
              "      <td>MSG워너비 1집</td>\n",
              "    </tr>\n",
              "    <tr>\n",
              "      <th>4</th>\n",
              "      <td>5</td>\n",
              "      <td>Weekend</td>\n",
              "      <td>태연 (TAEYEON)</td>\n",
              "      <td>Weekend</td>\n",
              "    </tr>\n",
              "    <tr>\n",
              "      <th>...</th>\n",
              "      <td>...</td>\n",
              "      <td>...</td>\n",
              "      <td>...</td>\n",
              "      <td>...</td>\n",
              "    </tr>\n",
              "    <tr>\n",
              "      <th>195</th>\n",
              "      <td>196</td>\n",
              "      <td>Downtown Baby</td>\n",
              "      <td>블루 (BLOO)</td>\n",
              "      <td>Downtown Baby</td>\n",
              "    </tr>\n",
              "    <tr>\n",
              "      <th>196</th>\n",
              "      <td>197</td>\n",
              "      <td>노래방에서</td>\n",
              "      <td>장범준</td>\n",
              "      <td>장범준 3집</td>\n",
              "    </tr>\n",
              "    <tr>\n",
              "      <th>197</th>\n",
              "      <td>198</td>\n",
              "      <td>널 너무 모르고</td>\n",
              "      <td>헤이즈 (Heize)</td>\n",
              "      <td>/// (너 먹구름 비)</td>\n",
              "    </tr>\n",
              "    <tr>\n",
              "      <th>198</th>\n",
              "      <td>199</td>\n",
              "      <td>너에게 난, 나에게 넌</td>\n",
              "      <td>미도와 파라솔</td>\n",
              "      <td>슬기로운 의사생활 OST Part 12 (tvN 목요드라마)</td>\n",
              "    </tr>\n",
              "    <tr>\n",
              "      <th>199</th>\n",
              "      <td>200</td>\n",
              "      <td>Rose</td>\n",
              "      <td>디오 (D.O.)</td>\n",
              "      <td>공감 - The 1st Mini Album</td>\n",
              "    </tr>\n",
              "  </tbody>\n",
              "</table>\n",
              "<p>200 rows × 4 columns</p>\n",
              "</div>"
            ],
            "text/plain": [
              "      순위             곡명                 가수                                 앨범\n",
              "0      1       Queendom  Red Velvet (레드벨벳)      Queendom - The 6th Mini Album\n",
              "1      2            신호등                이무진                                신호등\n",
              "2      3  낙하 (With 아이유)          AKMU (악뮤)                       NEXT EPISODE\n",
              "3      4         바라만 본다     MSG워너비 (M.O.M)                          MSG워너비 1집\n",
              "4      5        Weekend       태연 (TAEYEON)                            Weekend\n",
              "..   ...            ...                ...                                ...\n",
              "195  196  Downtown Baby          블루 (BLOO)                      Downtown Baby\n",
              "196  197          노래방에서                장범준                             장범준 3집\n",
              "197  198       널 너무 모르고        헤이즈 (Heize)                      /// (너 먹구름 비)\n",
              "198  199   너에게 난, 나에게 넌            미도와 파라솔  슬기로운 의사생활 OST Part 12 (tvN 목요드라마)\n",
              "199  200           Rose          디오 (D.O.)            공감 - The 1st Mini Album\n",
              "\n",
              "[200 rows x 4 columns]"
            ]
          },
          "metadata": {
            "tags": []
          },
          "execution_count": 61
        }
      ]
    },
    {
      "cell_type": "code",
      "metadata": {
        "id": "OxxUMtaIpcnt"
      },
      "source": [
        "df.to_csv('GenieTop200(210817).csv', index=False)"
      ],
      "execution_count": 62,
      "outputs": []
    },
    {
      "cell_type": "code",
      "metadata": {
        "id": "SIQ9NWYqrX8F"
      },
      "source": [
        ""
      ],
      "execution_count": null,
      "outputs": []
    }
  ]
}