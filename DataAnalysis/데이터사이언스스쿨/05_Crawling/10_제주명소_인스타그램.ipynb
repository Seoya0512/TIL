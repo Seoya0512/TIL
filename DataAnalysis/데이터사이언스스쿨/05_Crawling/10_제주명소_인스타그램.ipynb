{
 "cells": [
  {
   "cell_type": "markdown",
   "source": [
    "# 제주도 핫플레이스 - 인스타그램 크롤링"
   ],
   "metadata": {}
  },
  {
   "cell_type": "code",
   "execution_count": 1,
   "source": [
    "from selenium import webdriver\n",
    "from bs4 import BeautifulSoup\n",
    "import time\n",
    "import pandas as pd\n",
    "from urllib.parse import quote"
   ],
   "outputs": [],
   "metadata": {}
  },
  {
   "cell_type": "code",
   "execution_count": 2,
   "source": [
    "import unicodedata\n",
    "import re\n",
    "from tqdm.notebook import tqdm"
   ],
   "outputs": [],
   "metadata": {}
  },
  {
   "cell_type": "code",
   "execution_count": 4,
   "source": [
    "chromedriver ='/Users/youngseolee/Downloads/chromedriver'\n",
    "driver = webdriver.Chrome(chromedriver)"
   ],
   "outputs": [],
   "metadata": {}
  },
  {
   "cell_type": "markdown",
   "source": [
    "### 1. Instagram 에 접속하여 로그인"
   ],
   "metadata": {}
  },
  {
   "cell_type": "code",
   "execution_count": 5,
   "source": [
    "insta_url = 'https://www.instagram.com'\n",
    "driver.get(insta_url)\n",
    "time.sleep(1)"
   ],
   "outputs": [],
   "metadata": {}
  },
  {
   "cell_type": "code",
   "execution_count": 6,
   "source": [
    "with open('password.txt') as f:\n",
    "    password= f.read(10)"
   ],
   "outputs": [],
   "metadata": {}
  },
  {
   "cell_type": "code",
   "execution_count": 7,
   "source": [
    "user='seoya_lee'\n",
    "input_user = driver.find_element_by_css_selector('._2hvTZ.pexuQ.zyHYP')\n",
    "input_user.clear()\n",
    "input_user.send_keys(user)"
   ],
   "outputs": [],
   "metadata": {}
  },
  {
   "cell_type": "code",
   "execution_count": 8,
   "source": [
    "input_pwd = driver.find_element_by_name('password')\n",
    "input_pwd.clear()\n",
    "input_pwd.send_keys(password)\n",
    "input_pwd.submit()\n",
    "time.sleep(1)"
   ],
   "outputs": [],
   "metadata": {}
  },
  {
   "cell_type": "code",
   "execution_count": 10,
   "source": [
    "# 로그인 정보 저장 - 나중에하기\n",
    "try:\n",
    "    driver.find_element_by_css_selector('.sqdOP.yWX7d.y3zKF').click()\n",
    "    time.sleep(1)\n",
    "except:\n",
    "    pass"
   ],
   "outputs": [],
   "metadata": {}
  },
  {
   "cell_type": "code",
   "execution_count": 11,
   "source": [
    "# 알림 설정 - 나중에하기\n",
    "try:\n",
    "    driver.find_element_by_css_selector('.aOOlW.HoLwm').click()\n",
    "    time.sleep(1)\n",
    "except:\n",
    "    pass"
   ],
   "outputs": [],
   "metadata": {}
  },
  {
   "cell_type": "markdown",
   "source": [
    "### 2. 제주도 맛집으로 검색"
   ],
   "metadata": {}
  },
  {
   "cell_type": "code",
   "execution_count": 12,
   "source": [
    "keyword = '제주도맛집'\n",
    "search_url = 'https://www.instagram.com/explore/tags/'\n",
    "url = f'{search_url}{quote(keyword)}'\n",
    "url"
   ],
   "outputs": [
    {
     "output_type": "execute_result",
     "data": {
      "text/plain": [
       "'https://www.instagram.com/explore/tags/%EC%A0%9C%EC%A3%BC%EB%8F%84%EB%A7%9B%EC%A7%91'"
      ]
     },
     "metadata": {},
     "execution_count": 12
    }
   ],
   "metadata": {}
  },
  {
   "cell_type": "code",
   "execution_count": 13,
   "source": [
    "driver.get(url)\n",
    "time.sleep(5)                   # 화면 전환을 위한 충분한 시간을 허락해야한다"
   ],
   "outputs": [],
   "metadata": {}
  },
  {
   "cell_type": "markdown",
   "source": [
    "### 3. 첫번째 게시글 열기"
   ],
   "metadata": {}
  },
  {
   "cell_type": "code",
   "execution_count": 14,
   "source": [
    "driver.find_element_by_css_selector('div._9AhH0').click()\n",
    "time.sleep(1)"
   ],
   "outputs": [],
   "metadata": {}
  },
  {
   "cell_type": "markdown",
   "source": [
    "### 4. 게시글 정보 가져오기"
   ],
   "metadata": {}
  },
  {
   "cell_type": "code",
   "execution_count": 14,
   "source": [
    "html= driver.page_source\n",
    "soup= BeautifulSoup(html,'html.parser')"
   ],
   "outputs": [],
   "metadata": {}
  },
  {
   "cell_type": "code",
   "execution_count": 15,
   "source": [
    "# 1) 본문 내용 가져오기\n",
    "import unicodedata\n",
    "try:\n",
    "    content = soup.select_one('div.C4VMK > span').text\n",
    "    content = unicodedata.normalize('NFC',content)\n",
    "except:\n",
    "    content= ' '\n",
    "content"
   ],
   "outputs": [
    {
     "output_type": "execute_result",
     "data": {
      "text/plain": [
       "'빗소리 입니다!공지가 있어요~ 내일 부터 매장식사가 다시 가능해집니다.요 며칠 포장으로만 운영을 해본결과제주도도 상황이 상황인지라 손님이 부쩍 줄어서 매장내 취식을 그렇게 염려하지 않아도 될것같다는 판단이에요.다만 거리두기를 위해 좌석을 8개에서 6개로 줄여서 운영하게 되니 행여라도 웨이팅이 생길시에는 회전율이 엄청 떨어진다는 점 많은 양해 부탁드립니다 ㅜ숨좀돌릴만 하면 항상 귀신같이 다시 고개를 드는 코로나네요..😢여행하시는 와중에 좋은추억 많이 쌓으시고 꼭 방역수칙도 잘 지키시면서 안전하고 행복한 시간 되길 바랍니다!오늘(19일) 까지만 포장!내일(20일) 부턴 홀 오픈 다시 합니다.오늘 마감하면서 홀청소한번  제대로 해둘게요~!'"
      ]
     },
     "metadata": {},
     "execution_count": 15
    }
   ],
   "metadata": {}
  },
  {
   "cell_type": "code",
   "execution_count": 17,
   "source": [
    "# 2) 본문 내용에서 해쉬태그 가져오기 '#[^\\s#,\\\\]+'\n",
    "import re\n",
    "tags = re.findall(r'#[^\\s#,\\\\]+', content)\n",
    "tags"
   ],
   "outputs": [
    {
     "output_type": "execute_result",
     "data": {
      "text/plain": [
       "[]"
      ]
     },
     "metadata": {},
     "execution_count": 17
    }
   ],
   "metadata": {}
  },
  {
   "cell_type": "code",
   "execution_count": 18,
   "source": [
    "# 3) 작성일자 정보 가져오기\n",
    "\n",
    "date = soup.select_one('time.FH9sR.Nzb55')['datetime'][:10]\n",
    "date"
   ],
   "outputs": [
    {
     "output_type": "execute_result",
     "data": {
      "text/plain": [
       "'2021-08-19'"
      ]
     },
     "metadata": {},
     "execution_count": 18
    }
   ],
   "metadata": {}
  },
  {
   "cell_type": "code",
   "execution_count": 19,
   "source": [
    "# 4) 좋아요 수 가져오기\n",
    "try:\n",
    "    like= soup.select_one('div.Nm9Fw').text[4:-1]\n",
    "except:\n",
    "    like = 0 \n",
    "like"
   ],
   "outputs": [
    {
     "output_type": "execute_result",
     "data": {
      "text/plain": [
       "'170'"
      ]
     },
     "metadata": {},
     "execution_count": 19
    }
   ],
   "metadata": {}
  },
  {
   "cell_type": "code",
   "execution_count": 20,
   "source": [
    "# 5) 위치정보 가져오기\n",
    "try:\n",
    "    place = soup.select_one('div.M30cS')[0].text\n",
    "    place = unicodedata.normalize('NFC', place)\n",
    "except:\n",
    "    place= ''\n",
    "place\n"
   ],
   "outputs": [
    {
     "output_type": "execute_result",
     "data": {
      "text/plain": [
       "''"
      ]
     },
     "metadata": {},
     "execution_count": 20
    }
   ],
   "metadata": {}
  },
  {
   "cell_type": "code",
   "execution_count": 21,
   "source": [
    "row = [content, date, like, place, tags]\n",
    "row"
   ],
   "outputs": [
    {
     "output_type": "execute_result",
     "data": {
      "text/plain": [
       "['빗소리 입니다!공지가 있어요~ 내일 부터 매장식사가 다시 가능해집니다.요 며칠 포장으로만 운영을 해본결과제주도도 상황이 상황인지라 손님이 부쩍 줄어서 매장내 취식을 그렇게 염려하지 않아도 될것같다는 판단이에요.다만 거리두기를 위해 좌석을 8개에서 6개로 줄여서 운영하게 되니 행여라도 웨이팅이 생길시에는 회전율이 엄청 떨어진다는 점 많은 양해 부탁드립니다 ㅜ숨좀돌릴만 하면 항상 귀신같이 다시 고개를 드는 코로나네요..😢여행하시는 와중에 좋은추억 많이 쌓으시고 꼭 방역수칙도 잘 지키시면서 안전하고 행복한 시간 되길 바랍니다!오늘(19일) 까지만 포장!내일(20일) 부턴 홀 오픈 다시 합니다.오늘 마감하면서 홀청소한번  제대로 해둘게요~!',\n",
       " '2021-08-19',\n",
       " '170',\n",
       " '',\n",
       " []]"
      ]
     },
     "metadata": {},
     "execution_count": 21
    }
   ],
   "metadata": {}
  },
  {
   "cell_type": "markdown",
   "source": [
    "### 5. 다음 게시글로 이동"
   ],
   "metadata": {}
  },
  {
   "cell_type": "code",
   "execution_count": 22,
   "source": [
    "driver.find_element_by_css_selector('a._65Bje.coreSpriteRightPaginationArrow').click()\n",
    "time.sleep(2)"
   ],
   "outputs": [],
   "metadata": {}
  },
  {
   "cell_type": "code",
   "execution_count": 59,
   "source": [
    "# 6번을 진행하기 위해 팝업 화면에서 나가기('x' 클릭)\n",
    "driver.find_element_by_xpath('/html/body/div[6]/div[3]/button').click()"
   ],
   "outputs": [],
   "metadata": {}
  },
  {
   "cell_type": "markdown",
   "source": [
    "### 6. 여러개의 게시글 가져오기"
   ],
   "metadata": {}
  },
  {
   "cell_type": "code",
   "execution_count": 15,
   "source": [
    "def get_content(driver):\n",
    "    html= driver.page_source\n",
    "    soup= BeautifulSoup(html,'html.parser')\n",
    "    \n",
    "    try:\n",
    "        content = soup.select_one('div.C4VMK > span').text\n",
    "        content = unicodedata.normalize('NFC',content)\n",
    "    except:\n",
    "        content= ' '\n",
    "        \n",
    "    \n",
    "    tags = re.findall(r'#[^\\s#,\\\\]+', content)\n",
    "    date = soup.select_one('time.FH9sR.Nzb55')['datetime'][:10]\n",
    "\n",
    "    try:\n",
    "        like= soup.select_one('div.Nm9Fw').text[4:-1]\n",
    "    except:\n",
    "        like = 0 \n",
    "    \n",
    "    try:\n",
    "        place = soup.select_one('div.M30cS')[0].text\n",
    "        place = unicodedata.normalize('NFC', place)\n",
    "    except:\n",
    "        place= ''\n",
    "        \n",
    "    return [content, date, like, place, tags]"
   ],
   "outputs": [],
   "metadata": {}
  },
  {
   "cell_type": "markdown",
   "source": [
    "### - 제주도 맛집, 제주 맛집, 제주도관광, 제주여행 "
   ],
   "metadata": {}
  },
  {
   "cell_type": "code",
   "execution_count": 16,
   "source": [
    "driver.find_element_by_xpath('/html/body/div[6]/div[3]/button').click()"
   ],
   "outputs": [],
   "metadata": {}
  },
  {
   "cell_type": "code",
   "execution_count": 17,
   "source": [
    "keyword = '제주도맛집'\n",
    "search_url = 'https://www.instagram.com/explore/tags/'\n",
    "url = f'{search_url}{quote(keyword)}'\n",
    "driver.get(url)"
   ],
   "outputs": [],
   "metadata": {}
  },
  {
   "cell_type": "code",
   "execution_count": 18,
   "source": [
    "driver.find_element_by_css_selector('div._9AhH0').click()\n",
    "time.sleep(1)"
   ],
   "outputs": [],
   "metadata": {}
  },
  {
   "cell_type": "code",
   "execution_count": 19,
   "source": [
    "results = []\n",
    "for _ in tqdm(range(200)):\n",
    "    try:\n",
    "        row = get_content(driver)\n",
    "        results.append(row)\n",
    "        driver.find_element_by_css_selector('a._65Bje.coreSpriteRightPaginationArrow').click()\n",
    "        time.sleep(3)\n",
    "    except:\n",
    "        time.sleep(3)\n",
    "        driver.find_elements_by_css_selector('a._65Bje.coreSpriteRightPaginationArrow').click()\n",
    "        time.sleep(3)\n"
   ],
   "outputs": [
    {
     "output_type": "display_data",
     "data": {
      "text/plain": [
       "  0%|          | 0/200 [00:00<?, ?it/s]"
      ],
      "application/vnd.jupyter.widget-view+json": {
       "version_major": 2,
       "version_minor": 0,
       "model_id": "8501117f6bfd4193892dce3c8b16d8b3"
      }
     },
     "metadata": {}
    }
   ],
   "metadata": {}
  },
  {
   "cell_type": "code",
   "execution_count": 20,
   "source": [
    "df = pd.DataFrame(results, columns= ['content', 'date', 'like', 'place','tags'])\n",
    "df.head()"
   ],
   "outputs": [
    {
     "output_type": "execute_result",
     "data": {
      "text/plain": [
       "                                             content        date   like place  \\\n",
       "0  .#연동 #모니카옛날통닭간판부터 맛집포스 작렬하는 찐맛집이젠 인생치킨이라고 말하기도...  2021-08-19  1,013         \n",
       "1  .빵수니 빵도리들을 위한 <제주 빵지순례 모음! >맛있고 가볼만한 빵집들을 모아봤어...  2021-08-19  1,046         \n",
       "2  그 유명한 #연돈 에 다녀왔습니다. 그런데ㅎ;;;⠀⠀⠀⠀⠀⠀⠀어마무시한 웨이팅으로 ...  2021-08-18  5,150         \n",
       "3  42년 전통 도민 맛집. 태양을 품은 듯 화끈한 비주얼이다. 포슬포슬한 두부가 푸짐...  2021-08-18  1,331         \n",
       "4  .#연동 #모니카옛날통닭간판부터 맛집포스 작렬하는 찐맛집이젠 인생치킨이라고 말하기도...  2021-08-19  1,261         \n",
       "\n",
       "                                                tags  \n",
       "0  [#연동, #모니카옛날통닭간판부터, #제주맛집, #제주도맛집, #제주공항근처맛집, ...  \n",
       "1  [#제주맛집, #제주도맛집, #제주공항근처맛집, #제주시맛집, #애월맛집, #중문맛...  \n",
       "2  [#연돈, #제주도연돈, #테이블링, #등심까스, #수제볼카츠, #아토짱_제주, #...  \n",
       "3  [#신해바라기분식, #제주도맛집뜨끈한, #순두부찌개, #국밥맛집, #제주맛집, #제...  \n",
       "4  [#연동, #모니카옛날통닭간판부터, #제주맛집, #제주도맛집, #제주공항근처맛집, ...  "
      ],
      "text/html": [
       "<div>\n",
       "<style scoped>\n",
       "    .dataframe tbody tr th:only-of-type {\n",
       "        vertical-align: middle;\n",
       "    }\n",
       "\n",
       "    .dataframe tbody tr th {\n",
       "        vertical-align: top;\n",
       "    }\n",
       "\n",
       "    .dataframe thead th {\n",
       "        text-align: right;\n",
       "    }\n",
       "</style>\n",
       "<table border=\"1\" class=\"dataframe\">\n",
       "  <thead>\n",
       "    <tr style=\"text-align: right;\">\n",
       "      <th></th>\n",
       "      <th>content</th>\n",
       "      <th>date</th>\n",
       "      <th>like</th>\n",
       "      <th>place</th>\n",
       "      <th>tags</th>\n",
       "    </tr>\n",
       "  </thead>\n",
       "  <tbody>\n",
       "    <tr>\n",
       "      <th>0</th>\n",
       "      <td>.#연동 #모니카옛날통닭간판부터 맛집포스 작렬하는 찐맛집이젠 인생치킨이라고 말하기도...</td>\n",
       "      <td>2021-08-19</td>\n",
       "      <td>1,013</td>\n",
       "      <td></td>\n",
       "      <td>[#연동, #모니카옛날통닭간판부터, #제주맛집, #제주도맛집, #제주공항근처맛집, ...</td>\n",
       "    </tr>\n",
       "    <tr>\n",
       "      <th>1</th>\n",
       "      <td>.빵수니 빵도리들을 위한 &lt;제주 빵지순례 모음! &gt;맛있고 가볼만한 빵집들을 모아봤어...</td>\n",
       "      <td>2021-08-19</td>\n",
       "      <td>1,046</td>\n",
       "      <td></td>\n",
       "      <td>[#제주맛집, #제주도맛집, #제주공항근처맛집, #제주시맛집, #애월맛집, #중문맛...</td>\n",
       "    </tr>\n",
       "    <tr>\n",
       "      <th>2</th>\n",
       "      <td>그 유명한 #연돈 에 다녀왔습니다. 그런데ㅎ;;;⠀⠀⠀⠀⠀⠀⠀어마무시한 웨이팅으로 ...</td>\n",
       "      <td>2021-08-18</td>\n",
       "      <td>5,150</td>\n",
       "      <td></td>\n",
       "      <td>[#연돈, #제주도연돈, #테이블링, #등심까스, #수제볼카츠, #아토짱_제주, #...</td>\n",
       "    </tr>\n",
       "    <tr>\n",
       "      <th>3</th>\n",
       "      <td>42년 전통 도민 맛집. 태양을 품은 듯 화끈한 비주얼이다. 포슬포슬한 두부가 푸짐...</td>\n",
       "      <td>2021-08-18</td>\n",
       "      <td>1,331</td>\n",
       "      <td></td>\n",
       "      <td>[#신해바라기분식, #제주도맛집뜨끈한, #순두부찌개, #국밥맛집, #제주맛집, #제...</td>\n",
       "    </tr>\n",
       "    <tr>\n",
       "      <th>4</th>\n",
       "      <td>.#연동 #모니카옛날통닭간판부터 맛집포스 작렬하는 찐맛집이젠 인생치킨이라고 말하기도...</td>\n",
       "      <td>2021-08-19</td>\n",
       "      <td>1,261</td>\n",
       "      <td></td>\n",
       "      <td>[#연동, #모니카옛날통닭간판부터, #제주맛집, #제주도맛집, #제주공항근처맛집, ...</td>\n",
       "    </tr>\n",
       "  </tbody>\n",
       "</table>\n",
       "</div>"
      ]
     },
     "metadata": {},
     "execution_count": 20
    }
   ],
   "metadata": {}
  },
  {
   "cell_type": "code",
   "execution_count": 21,
   "source": [
    "df.tail()"
   ],
   "outputs": [
    {
     "output_type": "execute_result",
     "data": {
      "text/plain": [
       "                                               content        date  \\\n",
       "195  #빈_오월에제주 #항공샷⠀⠀⠀⠀⠀⠀⠀⠀⠀⠀⠀⠀⠀⠀ ⠀⠀⠀⠀⠀⠀⠀⠀⠀⠀⠀⠀⠀⠀ ⠀⠀⠀...  2021-08-19   \n",
       "196  #수르떡볶이 X 리얼클로젯어릴적 추억의 학교앞 분식집 떡볶이맛수르떡볶이 4종 + 치...  2021-08-19   \n",
       "197  #수르떡볶이 X 리얼클로젯어릴적 추억의 학교앞 분식집 떡볶이맛수르떡볶이 4종 + 치...  2021-08-19   \n",
       "198  - 제주도의 핫한 함덕해변독채형 가족펜션인 게으르게펜션 입니다..바쁜 일상에서 잠시...  2021-08-19   \n",
       "199  #수르떡볶이 X 리얼클로젯어릴적 추억의 학교앞 분식집 떡볶이맛수르떡볶이 4종 + 치...  2021-08-19   \n",
       "\n",
       "            like place                                               tags  \n",
       "195           20                           [#빈_오월에제주, #항공샷⠀⠀⠀⠀⠀⠀⠀⠀⠀⠀⠀⠀⠀⠀]  \n",
       "196           15                                                 [#수르떡볶이]  \n",
       "197           15                                                 [#수르떡볶이]  \n",
       "198  저 좋아요를 눌러보세        [#제주도펜션, #제주펜션, #함덕펜션, #함덕해수욕장펜션, #게으르게펜션, #함덕...  \n",
       "199           13                                                 [#수르떡볶이]  "
      ],
      "text/html": [
       "<div>\n",
       "<style scoped>\n",
       "    .dataframe tbody tr th:only-of-type {\n",
       "        vertical-align: middle;\n",
       "    }\n",
       "\n",
       "    .dataframe tbody tr th {\n",
       "        vertical-align: top;\n",
       "    }\n",
       "\n",
       "    .dataframe thead th {\n",
       "        text-align: right;\n",
       "    }\n",
       "</style>\n",
       "<table border=\"1\" class=\"dataframe\">\n",
       "  <thead>\n",
       "    <tr style=\"text-align: right;\">\n",
       "      <th></th>\n",
       "      <th>content</th>\n",
       "      <th>date</th>\n",
       "      <th>like</th>\n",
       "      <th>place</th>\n",
       "      <th>tags</th>\n",
       "    </tr>\n",
       "  </thead>\n",
       "  <tbody>\n",
       "    <tr>\n",
       "      <th>195</th>\n",
       "      <td>#빈_오월에제주 #항공샷⠀⠀⠀⠀⠀⠀⠀⠀⠀⠀⠀⠀⠀⠀ ⠀⠀⠀⠀⠀⠀⠀⠀⠀⠀⠀⠀⠀⠀ ⠀⠀⠀...</td>\n",
       "      <td>2021-08-19</td>\n",
       "      <td>20</td>\n",
       "      <td></td>\n",
       "      <td>[#빈_오월에제주, #항공샷⠀⠀⠀⠀⠀⠀⠀⠀⠀⠀⠀⠀⠀⠀]</td>\n",
       "    </tr>\n",
       "    <tr>\n",
       "      <th>196</th>\n",
       "      <td>#수르떡볶이 X 리얼클로젯어릴적 추억의 학교앞 분식집 떡볶이맛수르떡볶이 4종 + 치...</td>\n",
       "      <td>2021-08-19</td>\n",
       "      <td>15</td>\n",
       "      <td></td>\n",
       "      <td>[#수르떡볶이]</td>\n",
       "    </tr>\n",
       "    <tr>\n",
       "      <th>197</th>\n",
       "      <td>#수르떡볶이 X 리얼클로젯어릴적 추억의 학교앞 분식집 떡볶이맛수르떡볶이 4종 + 치...</td>\n",
       "      <td>2021-08-19</td>\n",
       "      <td>15</td>\n",
       "      <td></td>\n",
       "      <td>[#수르떡볶이]</td>\n",
       "    </tr>\n",
       "    <tr>\n",
       "      <th>198</th>\n",
       "      <td>- 제주도의 핫한 함덕해변독채형 가족펜션인 게으르게펜션 입니다..바쁜 일상에서 잠시...</td>\n",
       "      <td>2021-08-19</td>\n",
       "      <td>저 좋아요를 눌러보세</td>\n",
       "      <td></td>\n",
       "      <td>[#제주도펜션, #제주펜션, #함덕펜션, #함덕해수욕장펜션, #게으르게펜션, #함덕...</td>\n",
       "    </tr>\n",
       "    <tr>\n",
       "      <th>199</th>\n",
       "      <td>#수르떡볶이 X 리얼클로젯어릴적 추억의 학교앞 분식집 떡볶이맛수르떡볶이 4종 + 치...</td>\n",
       "      <td>2021-08-19</td>\n",
       "      <td>13</td>\n",
       "      <td></td>\n",
       "      <td>[#수르떡볶이]</td>\n",
       "    </tr>\n",
       "  </tbody>\n",
       "</table>\n",
       "</div>"
      ]
     },
     "metadata": {},
     "execution_count": 21
    }
   ],
   "metadata": {}
  },
  {
   "cell_type": "code",
   "execution_count": 22,
   "source": [
    "df.to_csv('data/제주도맛집.csv', index=False)"
   ],
   "outputs": [],
   "metadata": {}
  },
  {
   "cell_type": "code",
   "execution_count": 23,
   "source": [
    "driver.close()"
   ],
   "outputs": [],
   "metadata": {}
  },
  {
   "cell_type": "markdown",
   "source": [
    "4가지 CSV파일의 중복을 제거한 후 통합 저장 "
   ],
   "metadata": {}
  },
  {
   "cell_type": "code",
   "execution_count": 142,
   "source": [
    "jeju_df = pd.DataFrame([])\n",
    "for keyword in ['제주도맛집','제주맛집','제주도관광','제주여행']:\n",
    "    df= pd.read_csv(f'data/{keyword}.csv')\n",
    "    print(df.tail())"
   ],
   "outputs": [
    {
     "output_type": "stream",
     "name": "stdout",
     "text": [
      "                                               content        date like  \\\n",
      "195               사진도찍다말다그냥 처먹처먹 하다가 휴가끝 👋#찬진은진 #진바니먹방  2021-08-19   56   \n",
      "196  .빨주노초파보 🌈쫀득쫀득 꼬끄에 맛있는 필링🤤✨월정 바다와 함께일 때 더 빛이 나는...  2021-08-19    1   \n",
      "197  제주 금능 “율” 크로플바삭바삭한 크로플과 아이스아메리카노는 꿀조합💙꼬마손님들은 무...  2021-08-19    0   \n",
      "198  제주도 올때마다 항상 들리는 곳 ! 타르트로 시작하깅 ~~~일일일타르해야징 ㅎㅎㅎ ...  2021-08-19    3   \n",
      "199  제주에 가신다면 무조건 동귀리갈칫집 다녀와보시길 추천드려요!!생생정보에 나온 맛집인...  2021-08-19  208   \n",
      "\n",
      "     place                                               tags  \n",
      "195    NaN                                ['#찬진은진', '#진바니먹방']  \n",
      "196    NaN  ['#제주월정리', '#세화카페', '#제주월정리카페', '#서귀포맛집', '#제주...  \n",
      "197    NaN                                                 []  \n",
      "198    NaN  ['#제주도카페', '#제주도맛집', '#제주핫플', '#제주공항근처카페', '#j...  \n",
      "199    NaN  ['#동귀리갈칫집', '#제주맛집', '#제주시맛집', '#제주도맛집', '#노형동...  \n",
      "                                               content        date  \\\n",
      "155  카라바오 망고라고 기네스 북에올라간 최고 맛있는 망고~~!!인생망고 맛집 드디어 찾...  2021-08-19   \n",
      "156  ⠀⠀⠀⠀ˏ 𓏧 𓏲 𓏲 𓏲 𓋒 𓏲 𓏲 𓏲 𓏲 𓏧 ˎ⠀𝙋𝙧𝙚𝙢𝙞𝙪𝙢 𝙦𝙪𝙖𝙡𝙞𝙩𝙮𝙍𝙐𝘾...  2021-08-19   \n",
      "157  애월 로드129성게크림파스타흑돼지 멘치카츠흑돼지 치즈돈까스흑돼지 고구마치즈돈까스흑돼...  2021-08-19   \n",
      "158  뱅기 타기전에 꼭 한번씩 들려줘야하는 타르트 맛집 !!!!!공항근처라 랜트 반납하기...  2021-08-19   \n",
      "159  8월19일 목요일 11:30 - 19;00문 열어둡니다. 👍-너무 늦은 인사를 드리...  2021-08-19   \n",
      "\n",
      "            like  place                                               tags  \n",
      "155            2    NaN  ['#제주카페', '#제주도카페', '#제주도맛집', '#제주맛집', '#제주카페추...  \n",
      "156            3    NaN                                                 []  \n",
      "157  저 좋아요를 눌러보세    NaN  ['#애월맛집', '#제주맛집', '#애월읍맛집', '#애월항맛집', '#제주애월점...  \n",
      "158            3    NaN  ['#제주도카페', '#제주도맛집', '#제주핫플', '#제주공항근처카페', '#j...  \n",
      "159            7    NaN                                            ['#곳집']  \n",
      "                                               content        date like  \\\n",
      "195                         너무 이쁜 커플이네요😍(@duhyeon.hhh)  2021-08-06  521   \n",
      "196  21-22시즌을 홀리데이와 함께 만들어가실 스탭을 모집합니다~~ 🌏사람과 우리가 사...  2021-08-05   41   \n",
      "197  ..Q. 홍보효과를 위한 상위 노출 방법을 알 수 있나요!A. 바로스타 홈페이지(h...  2021-08-05   99   \n",
      "198  ..Q. 홍보효과를 위한 상위 노출 방법을 알 수 있나요!A. 바로스타 홈페이지(h...  2021-08-05  111   \n",
      "199  ..Q. 홍보효과를 위한 상위 노출 방법을 알 수 있나요!A. 바로스타 홈페이지(h...  2021-08-05  109   \n",
      "\n",
      "     place                                               tags  \n",
      "195    NaN                                                 []  \n",
      "196    NaN  ['#Scuba', '#Openwater', '#Advanced', '#제주도스킨스...  \n",
      "197    NaN  ['#섬여행', '#제주도관광', '#패키지여행', '#캠프장', '#3박4일', ...  \n",
      "198    NaN  ['#산행', '#제주도관광', '#소통소통', '#춘천가볼만한곳', '#3박4일'...  \n",
      "199    NaN  ['#감성여행', '#제주도관광', '#선팔환영', '#춘천가볼만한곳', '#1박2...  \n",
      "                                               content        date  \\\n",
      "152  🌾제주 2일차 2021.08.10🌾천제연 폭포 제1폭포 제2폭포까지 가고 제일 지옥...  2021-08-19   \n",
      "153               제주4단계? 🥺7월에 제주 너무 좋아뚜 🤍🤍#제주핫플싹스리 🖤👍🏻  2021-08-19   \n",
      "154                               올 여름 잘 보냈다😊물이랑 친해지는중  2021-08-19   \n",
      "155                                              코디컷 📷  2021-08-19   \n",
      "156                                          주렁주렁 꽃천지🌺  2021-08-19   \n",
      "\n",
      "                          like  place          tags  \n",
      "152  _jeoni_ye_yo님 외 34명이 좋아합니    NaN            []  \n",
      "153                         58    NaN  ['#제주핫플싹스리']  \n",
      "154                         25    NaN            []  \n",
      "155                         29    NaN            []  \n",
      "156                         55    NaN            []  \n"
     ]
    }
   ],
   "metadata": {}
  },
  {
   "cell_type": "code",
   "execution_count": 39,
   "source": [
    "driver.close()"
   ],
   "outputs": [],
   "metadata": {}
  }
 ],
 "metadata": {
  "orig_nbformat": 4,
  "language_info": {
   "name": "python",
   "version": "3.8.11",
   "mimetype": "text/x-python",
   "codemirror_mode": {
    "name": "ipython",
    "version": 3
   },
   "pygments_lexer": "ipython3",
   "nbconvert_exporter": "python",
   "file_extension": ".py"
  },
  "kernelspec": {
   "name": "python3",
   "display_name": "Python 3.8.11 64-bit ('base': conda)"
  },
  "interpreter": {
   "hash": "59aa76eec713a2e656bb9d4ddb5f36b21f3d4006b36f877fc5669415524b1415"
  }
 },
 "nbformat": 4,
 "nbformat_minor": 2
}