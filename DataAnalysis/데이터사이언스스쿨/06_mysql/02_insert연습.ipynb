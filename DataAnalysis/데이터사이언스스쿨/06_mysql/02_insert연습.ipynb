{
  "nbformat": 4,
  "nbformat_minor": 0,
  "metadata": {
    "colab": {
      "name": "02_insert연습.ipynb",
      "provenance": [],
      "collapsed_sections": []
    },
    "kernelspec": {
      "name": "python3",
      "display_name": "Python 3"
    },
    "language_info": {
      "name": "python"
    }
  },
  "cells": [
    {
      "cell_type": "markdown",
      "metadata": {
        "id": "laEy0dK6fLCu"
      },
      "source": [
        "# MySQL 테이블 생성 및 데이터 입력 방법"
      ]
    },
    {
      "cell_type": "code",
      "metadata": {
        "id": "Oz5LEQ_jfBhH"
      },
      "source": [
        "!pip install pymysql> /dev/null"
      ],
      "execution_count": null,
      "outputs": []
    },
    {
      "cell_type": "code",
      "metadata": {
        "id": "1fFZhiw1fH0e"
      },
      "source": [
        "from google.colab import files\n",
        "uploaded = files.upload()\n",
        "filename = list(uploaded.keys())[0]"
      ],
      "execution_count": null,
      "outputs": []
    },
    {
      "cell_type": "code",
      "metadata": {
        "id": "IXAYWhuXft-W"
      },
      "source": [
        "import json\n",
        "with open(filename) as fp:\n",
        "    config_str = fp.read()\n",
        "config = json.loads(config_str)"
      ],
      "execution_count": null,
      "outputs": []
    },
    {
      "cell_type": "code",
      "metadata": {
        "id": "WDylhJUnel7I"
      },
      "source": [
        "import pymysql\n",
        "conn = pymysql.connect(\n",
        "    host=config['host'], \n",
        "    user=config['user'], \n",
        "    password=config['password'], \n",
        "    database=config['database'], \n",
        "    port=config['port']\n",
        ")"
      ],
      "execution_count": null,
      "outputs": []
    },
    {
      "cell_type": "markdown",
      "metadata": {
        "id": "uMpynBEagIcC"
      },
      "source": [
        "## 테이블 생성"
      ]
    },
    {
      "cell_type": "code",
      "metadata": {
        "id": "NnFhE7aigG7R"
      },
      "source": [
        "cur = conn.cursor()\n",
        "sql_create_table = '''\n",
        "  create table if not exists users (\n",
        "    uid varchar(20) not null primary key,\n",
        "    pwd char(44) not null,\n",
        "    uname varchar(20) not null,\n",
        "    email varchar(40),\n",
        "    reg_date datetime default current_timestamp,\n",
        "    is_deleted int DEFAULT 0\n",
        "  );\n",
        "'''"
      ],
      "execution_count": null,
      "outputs": []
    },
    {
      "cell_type": "code",
      "metadata": {
        "colab": {
          "base_uri": "https://localhost:8080/"
        },
        "id": "ndEg_maUfv6x",
        "outputId": "0d698110-5b53-44fd-ce6e-f8c268451606"
      },
      "source": [
        "cur.execute(sql_create_table)"
      ],
      "execution_count": null,
      "outputs": [
        {
          "output_type": "execute_result",
          "data": {
            "text/plain": [
              "0"
            ]
          },
          "metadata": {},
          "execution_count": 9
        }
      ]
    },
    {
      "cell_type": "markdown",
      "metadata": {
        "id": "IrM-aVVHitoo"
      },
      "source": [
        "## 데이터 추가"
      ]
    },
    {
      "cell_type": "code",
      "metadata": {
        "colab": {
          "base_uri": "https://localhost:8080/"
        },
        "id": "VxGEewQXiLU4",
        "outputId": "cd3cb1f4-3788-4180-8f5a-ed6ea4edd318"
      },
      "source": [
        "cur=conn.cursor()\n",
        "sql_insert=\"INSERT INTO users(uid,pwd,uname) VALUES('admin', '1234','관리자');\"\n",
        "cur.execute(sql_insert)"
      ],
      "execution_count": null,
      "outputs": [
        {
          "output_type": "execute_result",
          "data": {
            "text/plain": [
              "1"
            ]
          },
          "metadata": {},
          "execution_count": 11
        }
      ]
    },
    {
      "cell_type": "code",
      "metadata": {
        "id": "qoPpkntHkWvh"
      },
      "source": [
        "sql_select='select * from users;'\n",
        "cur.execute(sql_select)\n",
        "row = cur.fetchone()"
      ],
      "execution_count": null,
      "outputs": []
    },
    {
      "cell_type": "code",
      "metadata": {
        "colab": {
          "base_uri": "https://localhost:8080/"
        },
        "id": "TfzxoiF_k1h-",
        "outputId": "661a12b8-bcdf-4891-88cb-711411ea4a52"
      },
      "source": [
        "row"
      ],
      "execution_count": null,
      "outputs": [
        {
          "output_type": "execute_result",
          "data": {
            "text/plain": [
              "('admin', '1234', '관리자', None, datetime.datetime(2021, 8, 25, 4, 30, 24), 0)"
            ]
          },
          "metadata": {},
          "execution_count": 13
        }
      ]
    },
    {
      "cell_type": "code",
      "metadata": {
        "id": "FhknId4rk2QM"
      },
      "source": [
        "# 데이터를 하드 디스크에 쓰게하는 명령\n",
        "conn.commit()"
      ],
      "execution_count": null,
      "outputs": []
    },
    {
      "cell_type": "markdown",
      "metadata": {
        "id": "4z3ZgYM2lr20"
      },
      "source": [
        "* 여러개의 데이터 추가"
      ]
    },
    {
      "cell_type": "code",
      "metadata": {
        "id": "DpBSxcgBleqf"
      },
      "source": [
        "sql_multi_insert= \"\"\"\n",
        "  INSERT INTO users(uid,pwd,uname) VALUES\n",
        "    ('eskim', '1234','김은숙'),('wjlee','1234','이우정');\n",
        "\"\"\""
      ],
      "execution_count": null,
      "outputs": []
    },
    {
      "cell_type": "code",
      "metadata": {
        "id": "sBpv8dg2mHML"
      },
      "source": [
        "cur.execute(sql_multi_insert)\n",
        "conn.commit()"
      ],
      "execution_count": null,
      "outputs": []
    },
    {
      "cell_type": "markdown",
      "metadata": {
        "id": "XzBFNegcnJp2"
      },
      "source": [
        "* **Placeholder**"
      ]
    },
    {
      "cell_type": "code",
      "metadata": {
        "id": "n9Ri013kmQxt"
      },
      "source": [
        "sql_insert_ph = \"INSERT INTO users(uid,pwd,uname) VALUES(%s,'1234',%s);\"\n",
        "uid, uname= 'djy', '대조영'\n",
        "cur.execute(sql_insert_ph, (uid,uname))\n",
        "conn.commit()"
      ],
      "execution_count": null,
      "outputs": []
    },
    {
      "cell_type": "markdown",
      "metadata": {
        "id": "c6epwIovobcI"
      },
      "source": [
        "* 여러개의 데이터를 placeholder를 이용해서 추가"
      ]
    },
    {
      "cell_type": "code",
      "metadata": {
        "id": "Oq_pO7utoFJF"
      },
      "source": [
        "users =(('gdhong', '홍길동'),('jbpark','박재범'))\n",
        "cur.executemany(sql_insert_ph, users)\n",
        "conn.commit()"
      ],
      "execution_count": null,
      "outputs": []
    },
    {
      "cell_type": "markdown",
      "metadata": {
        "id": "09DDre47uErn"
      },
      "source": [
        "* **for 반복문**을 이용해서 여러 데이터 추가"
      ]
    },
    {
      "cell_type": "code",
      "metadata": {
        "id": "eGa5b3_is084"
      },
      "source": [
        "# for 문을 이용해서 여러 데이터 입력받기\n",
        "users =(('yurilee', '이유리'),('yunao','오윤아'))\n",
        "for user in users:\n",
        "  cur.execute(sql_insert_ph,user)\n",
        "conn.commit()"
      ],
      "execution_count": null,
      "outputs": []
    },
    {
      "cell_type": "markdown",
      "metadata": {
        "id": "t9xx2eENt1ML"
      },
      "source": [
        "## 마무리"
      ]
    },
    {
      "cell_type": "code",
      "metadata": {
        "id": "FXcSpiGZtzsP"
      },
      "source": [
        "cur.close()\n",
        "conn.close()"
      ],
      "execution_count": null,
      "outputs": []
    }
  ]
}