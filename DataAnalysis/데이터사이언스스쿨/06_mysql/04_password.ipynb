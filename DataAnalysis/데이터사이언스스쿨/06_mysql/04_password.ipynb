{
  "nbformat": 4,
  "nbformat_minor": 0,
  "metadata": {
    "colab": {
      "name": "04_password.ipynb",
      "provenance": [],
      "collapsed_sections": []
    },
    "kernelspec": {
      "name": "python3",
      "display_name": "Python 3"
    },
    "language_info": {
      "name": "python"
    }
  },
  "cells": [
    {
      "cell_type": "code",
      "metadata": {
        "id": "EmdSiA297Ajr"
      },
      "source": [
        "!pip install pymysql> /dev/null"
      ],
      "execution_count": null,
      "outputs": []
    },
    {
      "cell_type": "code",
      "metadata": {
        "id": "Yj6CTu679JdS"
      },
      "source": [
        "import json\n",
        "import pymysql"
      ],
      "execution_count": null,
      "outputs": []
    },
    {
      "cell_type": "code",
      "metadata": {
        "id": "b2J70Wve9LGk"
      },
      "source": [
        "conn = pymysql.connect(\n",
        "    host='132.226.232.76',\n",
        "    user='test5',\n",
        "    password='Multicampus2021!',\n",
        "    database ='mcdb5',\n",
        "    port=3306\n",
        ")"
      ],
      "execution_count": null,
      "outputs": []
    },
    {
      "cell_type": "code",
      "metadata": {
        "id": "5e2_avH5eOOt"
      },
      "source": [
        "import pymysql\n",
        "conn = pymysql.connect(\n",
        "    host=config['host'], \n",
        "    user=config['user'], \n",
        "    password=config['password'], \n",
        "    database=config['database'], \n",
        "    port=config['port']\n",
        ")"
      ],
      "execution_count": null,
      "outputs": []
    },
    {
      "cell_type": "markdown",
      "metadata": {
        "id": "S06ImVdx9ODQ"
      },
      "source": [
        "# 패스워드 암호화\n",
        "* Secure Hash Algorithm(SHA-256)"
      ]
    },
    {
      "cell_type": "code",
      "metadata": {
        "colab": {
          "base_uri": "https://localhost:8080/"
        },
        "id": "-c7qpfu49M9W",
        "outputId": "aacdb19c-7bd4-4fb3-b172-b74b260e373f"
      },
      "source": [
        "import hashlib\n",
        "\n",
        "pwd='1234'\n",
        "pwd_sha256 = hashlib.sha256(pwd.encode())\n",
        "pwd_sha256.digest()"
      ],
      "execution_count": null,
      "outputs": [
        {
          "output_type": "execute_result",
          "data": {
            "text/plain": [
              "b'\\x03\\xacgB\\x16\\xf3\\xe1\\\\v\\x1e\\xe1\\xa5\\xe2U\\xf0g\\x956#\\xc8\\xb3\\x88\\xb4E\\x9e\\x13\\xf9x\\xd7\\xc8F\\xf4'"
            ]
          },
          "metadata": {},
          "execution_count": 4
        }
      ]
    },
    {
      "cell_type": "markdown",
      "metadata": {
        "id": "R6k8FEZx9fLh"
      },
      "source": [
        "* Base64로 인코딩"
      ]
    },
    {
      "cell_type": "code",
      "metadata": {
        "colab": {
          "base_uri": "https://localhost:8080/"
        },
        "id": "rImZ4Ogu9edr",
        "outputId": "6b34983c-cacf-4074-e590-6345e4d46f1d"
      },
      "source": [
        "import base64\n",
        "\n",
        "base64.b64encode(pwd_sha256.digest())"
      ],
      "execution_count": null,
      "outputs": [
        {
          "output_type": "execute_result",
          "data": {
            "text/plain": [
              "b'A6xnQhbz4Vx2HuGl4lXwZ5U2I8iziLRFnhP5eNfIRvQ='"
            ]
          },
          "metadata": {},
          "execution_count": 6
        }
      ]
    },
    {
      "cell_type": "code",
      "metadata": {
        "colab": {
          "base_uri": "https://localhost:8080/",
          "height": 35
        },
        "id": "wIVpkB7g9qTe",
        "outputId": "cdb3e771-a9ad-4921-86d9-4ca7cda14d62"
      },
      "source": [
        "hashed_pwd = base64.b64encode(pwd_sha256.digest()).decode('utf-8')\n",
        "hashed_pwd"
      ],
      "execution_count": null,
      "outputs": [
        {
          "output_type": "execute_result",
          "data": {
            "application/vnd.google.colaboratory.intrinsic+json": {
              "type": "string"
            },
            "text/plain": [
              "'A6xnQhbz4Vx2HuGl4lXwZ5U2I8iziLRFnhP5eNfIRvQ='"
            ]
          },
          "metadata": {},
          "execution_count": 48
        }
      ]
    },
    {
      "cell_type": "code",
      "metadata": {
        "colab": {
          "base_uri": "https://localhost:8080/"
        },
        "id": "RApsEI36-Pbn",
        "outputId": "481c51a3-f4da-4025-eb67-28134ce32dce"
      },
      "source": [
        "len(hashed_pwd)"
      ],
      "execution_count": null,
      "outputs": [
        {
          "output_type": "execute_result",
          "data": {
            "text/plain": [
              "44"
            ]
          },
          "metadata": {},
          "execution_count": 49
        }
      ]
    },
    {
      "cell_type": "markdown",
      "metadata": {
        "id": "MWd_c6-Q-e6I"
      },
      "source": [
        "* 패스워드를 생성하는 함수"
      ]
    },
    {
      "cell_type": "code",
      "metadata": {
        "id": "7CPkm__V-Zhe"
      },
      "source": [
        "import hashlib, base64\n",
        "\n",
        "def gen_pwd(pwd):\n",
        "    pwd_sha256 = hashlib.sha256(pwd.encode())\n",
        "    hashed_pwd = base64.b64encode(pwd_sha256.digest()).decode('utf-8')\n",
        "    return hashed_pwd\n"
      ],
      "execution_count": null,
      "outputs": []
    },
    {
      "cell_type": "code",
      "metadata": {
        "colab": {
          "base_uri": "https://localhost:8080/",
          "height": 35
        },
        "id": "ZsDz10Vn-sWj",
        "outputId": "1e583687-0348-4bb2-c6e5-6db66086ab89"
      },
      "source": [
        "gen_pwd('qwerty')"
      ],
      "execution_count": null,
      "outputs": [
        {
          "output_type": "execute_result",
          "data": {
            "application/vnd.google.colaboratory.intrinsic+json": {
              "type": "string"
            },
            "text/plain": [
              "'ZehL4zUy+3hMSBKWdfnv86aCsnFowOp0Syz1juAjN8U='"
            ]
          },
          "metadata": {},
          "execution_count": 51
        }
      ]
    },
    {
      "cell_type": "markdown",
      "metadata": {
        "id": "-40hdoGO_Ls9"
      },
      "source": [
        "## users table에 패스워드 넣기\n",
        "* uid +21"
      ]
    },
    {
      "cell_type": "code",
      "metadata": {
        "colab": {
          "base_uri": "https://localhost:8080/"
        },
        "id": "C0-MDXpj-ubB",
        "outputId": "5b477216-02d9-48f5-8d34-bcd993813603"
      },
      "source": [
        "sql = \"select uid from users;\"\n",
        "cur = conn.cursor()\n",
        "cur.execute(sql)\n",
        "results = cur.fetchall()\n",
        "results"
      ],
      "execution_count": null,
      "outputs": [
        {
          "output_type": "execute_result",
          "data": {
            "text/plain": [
              "(('admin',),\n",
              " ('djy',),\n",
              " ('eskim',),\n",
              " ('gdhong',),\n",
              " ('jbpark',),\n",
              " ('wjlee',),\n",
              " ('yunao',),\n",
              " ('yurilee',))"
            ]
          },
          "metadata": {},
          "execution_count": 52
        }
      ]
    },
    {
      "cell_type": "code",
      "metadata": {
        "id": "Appu5lyQ_dZE"
      },
      "source": [
        "sql_update =\"update users set pwd=%s where uid=%s;\"\n",
        "for line in results:\n",
        "  uid = line[0]\n",
        "  pwd= gen_pwd(uid+'21')\n",
        "  cur.execute(sql_update,(pwd, uid))\n",
        "conn.commit()"
      ],
      "execution_count": null,
      "outputs": []
    },
    {
      "cell_type": "markdown",
      "metadata": {
        "id": "2IsmbH2xCA-u"
      },
      "source": [
        "* email 추가 : uid@mc.com "
      ]
    },
    {
      "cell_type": "code",
      "metadata": {
        "id": "MPcgFZ1pBvjC"
      },
      "source": [
        "sql_email =\"update users set email=%s where uid=%s;\"\n",
        "\n",
        "for line in results:\n",
        "  uid = line[0]\n",
        "  email= uid + '@mc.com'\n",
        "  cur.execute(sql_email,(email, uid))\n",
        "conn.commit()"
      ],
      "execution_count": null,
      "outputs": []
    },
    {
      "cell_type": "markdown",
      "metadata": {
        "id": "G2J7KkRlDNjl"
      },
      "source": [
        "### 로그인\n",
        "* Case 1: 아이디가 없는 경우"
      ]
    },
    {
      "cell_type": "code",
      "metadata": {
        "id": "JXkYvmFYIJvk"
      },
      "source": [
        "sql_login = 'select uid, pwd from users where uid=%s and is_deleted=0'"
      ],
      "execution_count": null,
      "outputs": []
    },
    {
      "cell_type": "code",
      "metadata": {
        "id": "mNkGWZ6QCkap"
      },
      "source": [
        "# result = Null\n",
        "uid ='fool'\n",
        "cur.execute(sql_login,(uid,))\n",
        "result = cur.fetchone()\n",
        "result"
      ],
      "execution_count": null,
      "outputs": []
    },
    {
      "cell_type": "markdown",
      "metadata": {
        "id": "yB0VfgRiEJFZ"
      },
      "source": [
        "* Case 2: 비밀번호가 다른 경우"
      ]
    },
    {
      "cell_type": "code",
      "metadata": {
        "colab": {
          "base_uri": "https://localhost:8080/"
        },
        "id": "Fmb4IeRyEMQx",
        "outputId": "39844c66-69f5-4abf-c260-95f1946ce7c9"
      },
      "source": [
        "uid,pwd ='djy','djy23'\n",
        "cur.execute(sql_login,(uid,))\n",
        "result=cur.fetchone()\n",
        "result"
      ],
      "execution_count": null,
      "outputs": [
        {
          "output_type": "execute_result",
          "data": {
            "text/plain": [
              "('djy', 'mxsnWYLpB/nAOt37fpt3PMXpGGQprktT3vm2p9RfFyY=')"
            ]
          },
          "metadata": {},
          "execution_count": 57
        }
      ]
    },
    {
      "cell_type": "code",
      "metadata": {
        "colab": {
          "base_uri": "https://localhost:8080/"
        },
        "id": "d7XEUQPSIyWs",
        "outputId": "3e2e19ff-189f-4131-9c78-92af11c7e10b"
      },
      "source": [
        "db_pwd= result[1]\n",
        "hashed_pwd = gen_pwd(pwd)\n",
        "if db_pwd == hashed_pwd:\n",
        "  print('Login')\n",
        "else:\n",
        "  print('Incorrect password!')"
      ],
      "execution_count": null,
      "outputs": [
        {
          "output_type": "stream",
          "text": [
            "Incorrect password!\n"
          ],
          "name": "stdout"
        }
      ]
    },
    {
      "cell_type": "markdown",
      "metadata": {
        "id": "FUourgXREUbv"
      },
      "source": [
        "* Case 3: OK"
      ]
    },
    {
      "cell_type": "code",
      "metadata": {
        "colab": {
          "base_uri": "https://localhost:8080/"
        },
        "id": "68ayECbgERXt",
        "outputId": "f601eadf-4bf5-4891-8b57-57a4de555ca3"
      },
      "source": [
        "uid, pwd = 'djy', 'djy21'\n",
        "cur.execute(sql_login, (uid,))\n",
        "result = cur.fetchone()\n",
        "db_pwd = result[1]\n",
        "hashed_pwd = gen_pwd(pwd)\n",
        "if db_pwd == hashed_pwd:\n",
        "    print('Login')\n",
        "else:\n",
        "    print('Incorrect password!')"
      ],
      "execution_count": null,
      "outputs": [
        {
          "output_type": "stream",
          "text": [
            "Login\n"
          ],
          "name": "stdout"
        }
      ]
    },
    {
      "cell_type": "markdown",
      "metadata": {
        "id": "BhECEeuZKJ94"
      },
      "source": [
        "* 3가지 경우를 합침"
      ]
    },
    {
      "cell_type": "code",
      "metadata": {
        "colab": {
          "base_uri": "https://localhost:8080/"
        },
        "id": "0kOXOJ3XJJYm",
        "outputId": "53cea133-f4a7-4091-f79e-fe9b60ffeaf4"
      },
      "source": [
        "uid, pwd = 'djy1', 'djy23'\n",
        "cur.execute(sql_login, (uid,))\n",
        "result = cur.fetchone()\n",
        "if result:\n",
        "    db_pwd = result[1]\n",
        "    hashed_pwd = gen_pwd(pwd)\n",
        "    if db_pwd == hashed_pwd:\n",
        "        print('Login')\n",
        "    else:\n",
        "        print('Incorrect password!')\n",
        "else:\n",
        "    print('Bad uid!!!')"
      ],
      "execution_count": null,
      "outputs": [
        {
          "output_type": "stream",
          "text": [
            "Bad uid!!!\n"
          ],
          "name": "stdout"
        }
      ]
    },
    {
      "cell_type": "markdown",
      "metadata": {
        "id": "Q0CHaP70KNTo"
      },
      "source": [
        "* 예외처리를 통해 해결하는 경우"
      ]
    },
    {
      "cell_type": "code",
      "metadata": {
        "colab": {
          "base_uri": "https://localhost:8080/"
        },
        "id": "OC6rToEzKPYG",
        "outputId": "31691210-67a3-472a-928a-4a9f11cacb19"
      },
      "source": [
        "uid, pwd = 'djy', 'djy21'\n",
        "cur.execute(sql_login, (uid,))\n",
        "result = cur.fetchone()\n",
        "try:\n",
        "    db_pwd = result[1]\n",
        "    hashed_pwd = gen_pwd(pwd)\n",
        "    if db_pwd == hashed_pwd:\n",
        "        print('Login')\n",
        "    else:\n",
        "        print('Incorrect password!')\n",
        "except:\n",
        "    print('Bad uid!!!')"
      ],
      "execution_count": null,
      "outputs": [
        {
          "output_type": "stream",
          "text": [
            "Login\n"
          ],
          "name": "stdout"
        }
      ]
    },
    {
      "cell_type": "markdown",
      "metadata": {
        "id": "J8L6JD21Ksgu"
      },
      "source": [
        "### 마무리"
      ]
    },
    {
      "cell_type": "code",
      "metadata": {
        "id": "6QlWA-eeKXrU"
      },
      "source": [
        "cur.close()\n",
        "conn.close()"
      ],
      "execution_count": null,
      "outputs": []
    },
    {
      "cell_type": "code",
      "metadata": {
        "id": "DtcgUppHOovk"
      },
      "source": [
        ""
      ],
      "execution_count": null,
      "outputs": []
    }
  ]
}