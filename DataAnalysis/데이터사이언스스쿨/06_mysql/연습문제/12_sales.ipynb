{
  "nbformat": 4,
  "nbformat_minor": 0,
  "metadata": {
    "colab": {
      "name": "12_sales.ipynb",
      "provenance": [],
      "collapsed_sections": []
    },
    "kernelspec": {
      "name": "python3",
      "display_name": "Python 3"
    },
    "language_info": {
      "name": "python"
    }
  },
  "cells": [
    {
      "cell_type": "markdown",
      "metadata": {
        "id": "vfF-Yh-jMtM3"
      },
      "source": [
        "### 판매 분석"
      ]
    },
    {
      "cell_type": "code",
      "metadata": {
        "id": "mZmvp2NpMq0K"
      },
      "source": [
        "!apt-get install -y fonts-nanum > /dev/null\n",
        "!fc-cache -fv > /dev/null\n",
        "!rm -rf ~/.cache/matplotlib > /dev/null"
      ],
      "execution_count": null,
      "outputs": []
    },
    {
      "cell_type": "code",
      "metadata": {
        "colab": {
          "resources": {
            "http://localhost:8080/nbextensions/google.colab/files.js": {
              "data": "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",
              "ok": true,
              "headers": [
                [
                  "content-type",
                  "application/javascript"
                ]
              ],
              "status": 200,
              "status_text": ""
            }
          },
          "base_uri": "https://localhost:8080/",
          "height": 76
        },
        "id": "Uaz0ogW3Mvf5",
        "outputId": "44f5a401-5102-4d4f-8857-6fa91135c4b9"
      },
      "source": [
        "from google.colab import files\n",
        "uploaded = files.upload()\n",
        "filename = list(uploaded.keys())[0]"
      ],
      "execution_count": null,
      "outputs": [
        {
          "output_type": "display_data",
          "data": {
            "text/html": [
              "\n",
              "     <input type=\"file\" id=\"files-d12e4395-2a1d-425c-9e08-5980b33dfc48\" name=\"files[]\" multiple disabled\n",
              "        style=\"border:none\" />\n",
              "     <output id=\"result-d12e4395-2a1d-425c-9e08-5980b33dfc48\">\n",
              "      Upload widget is only available when the cell has been executed in the\n",
              "      current browser session. Please rerun this cell to enable.\n",
              "      </output>\n",
              "      <script src=\"/nbextensions/google.colab/files.js\"></script> "
            ],
            "text/plain": [
              "<IPython.core.display.HTML object>"
            ]
          },
          "metadata": {}
        },
        {
          "output_type": "stream",
          "text": [
            "Saving mysql.json to mysql (1).json\n"
          ],
          "name": "stdout"
        }
      ]
    },
    {
      "cell_type": "code",
      "metadata": {
        "id": "qLElNAaRM4h7"
      },
      "source": [
        "import json\n",
        "with open(filename) as fp:\n",
        "    config_str = fp.read()\n",
        "config = json.loads(config_str)"
      ],
      "execution_count": null,
      "outputs": []
    },
    {
      "cell_type": "code",
      "metadata": {
        "id": "smEiUCmZM9Hz"
      },
      "source": [
        "import numpy as np\n",
        "import pandas as pd\n",
        "import matplotlib as mpl\n",
        "import matplotlib.pyplot as plt\n",
        "mpl.rcParams['axes.unicode_minus'] = False\n",
        "plt.rc('font', family='NanumBarunGothic')"
      ],
      "execution_count": null,
      "outputs": []
    },
    {
      "cell_type": "code",
      "metadata": {
        "id": "-6exrsbwzv2s"
      },
      "source": [
        "!pip install pymysql > /dev/null"
      ],
      "execution_count": null,
      "outputs": []
    },
    {
      "cell_type": "code",
      "metadata": {
        "id": "NiirMEsPzNNt"
      },
      "source": [
        "# db 모듈을 가져옴 \n",
        "import db_module as dm"
      ],
      "execution_count": null,
      "outputs": []
    },
    {
      "cell_type": "markdown",
      "metadata": {
        "id": "DhIc-pM8NLqz"
      },
      "source": [
        "### 1. 월별 매출/ 이익"
      ]
    },
    {
      "cell_type": "code",
      "metadata": {
        "colab": {
          "base_uri": "https://localhost:8080/",
          "height": 452
        },
        "id": "Gr46IGUdNCpv",
        "outputId": "add55ca7-9bd3-4a53-8d32-cbcd32ec4763"
      },
      "source": [
        "results = dm.get_monthly(config)\n",
        "df = pd.DataFrame(results, columns=['월','매출','이익'])\n",
        "df.set_index('월', inplace=True)\n",
        "df['매출'] = df.매출.astype(int)\n",
        "df['이익'] = df.이익.astype(int)\n",
        "df"
      ],
      "execution_count": null,
      "outputs": [
        {
          "output_type": "execute_result",
          "data": {
            "text/html": [
              "<div>\n",
              "<style scoped>\n",
              "    .dataframe tbody tr th:only-of-type {\n",
              "        vertical-align: middle;\n",
              "    }\n",
              "\n",
              "    .dataframe tbody tr th {\n",
              "        vertical-align: top;\n",
              "    }\n",
              "\n",
              "    .dataframe thead th {\n",
              "        text-align: right;\n",
              "    }\n",
              "</style>\n",
              "<table border=\"1\" class=\"dataframe\">\n",
              "  <thead>\n",
              "    <tr style=\"text-align: right;\">\n",
              "      <th></th>\n",
              "      <th>매출</th>\n",
              "      <th>이익</th>\n",
              "    </tr>\n",
              "    <tr>\n",
              "      <th>월</th>\n",
              "      <th></th>\n",
              "      <th></th>\n",
              "    </tr>\n",
              "  </thead>\n",
              "  <tbody>\n",
              "    <tr>\n",
              "      <th>01</th>\n",
              "      <td>14070100</td>\n",
              "      <td>1256960</td>\n",
              "    </tr>\n",
              "    <tr>\n",
              "      <th>02</th>\n",
              "      <td>17884600</td>\n",
              "      <td>1656940</td>\n",
              "    </tr>\n",
              "    <tr>\n",
              "      <th>03</th>\n",
              "      <td>16806100</td>\n",
              "      <td>1576250</td>\n",
              "    </tr>\n",
              "    <tr>\n",
              "      <th>04</th>\n",
              "      <td>17143700</td>\n",
              "      <td>1672430</td>\n",
              "    </tr>\n",
              "    <tr>\n",
              "      <th>05</th>\n",
              "      <td>15607000</td>\n",
              "      <td>1456680</td>\n",
              "    </tr>\n",
              "    <tr>\n",
              "      <th>06</th>\n",
              "      <td>15963200</td>\n",
              "      <td>1614780</td>\n",
              "    </tr>\n",
              "    <tr>\n",
              "      <th>07</th>\n",
              "      <td>17085000</td>\n",
              "      <td>1837340</td>\n",
              "    </tr>\n",
              "    <tr>\n",
              "      <th>08</th>\n",
              "      <td>16331100</td>\n",
              "      <td>1705980</td>\n",
              "    </tr>\n",
              "    <tr>\n",
              "      <th>09</th>\n",
              "      <td>16034700</td>\n",
              "      <td>1680690</td>\n",
              "    </tr>\n",
              "    <tr>\n",
              "      <th>10</th>\n",
              "      <td>18455400</td>\n",
              "      <td>1828920</td>\n",
              "    </tr>\n",
              "    <tr>\n",
              "      <th>11</th>\n",
              "      <td>14640800</td>\n",
              "      <td>1000560</td>\n",
              "    </tr>\n",
              "    <tr>\n",
              "      <th>12</th>\n",
              "      <td>14233300</td>\n",
              "      <td>1268160</td>\n",
              "    </tr>\n",
              "  </tbody>\n",
              "</table>\n",
              "</div>"
            ],
            "text/plain": [
              "          매출       이익\n",
              "월                    \n",
              "01  14070100  1256960\n",
              "02  17884600  1656940\n",
              "03  16806100  1576250\n",
              "04  17143700  1672430\n",
              "05  15607000  1456680\n",
              "06  15963200  1614780\n",
              "07  17085000  1837340\n",
              "08  16331100  1705980\n",
              "09  16034700  1680690\n",
              "10  18455400  1828920\n",
              "11  14640800  1000560\n",
              "12  14233300  1268160"
            ]
          },
          "metadata": {},
          "execution_count": 12
        }
      ]
    },
    {
      "cell_type": "code",
      "metadata": {
        "colab": {
          "base_uri": "https://localhost:8080/",
          "height": 408
        },
        "id": "BEJ2WpkWPDyY",
        "outputId": "adee0bd9-504f-4d0f-e443-4d68bd1d26e1"
      },
      "source": [
        "df.plot.bar(figsize=(10,6))\n",
        "plt.title('월별 매출/이익', size= 15)\n",
        "plt.grid()\n",
        "plt.show()"
      ],
      "execution_count": null,
      "outputs": [
        {
          "output_type": "display_data",
          "data": {
            "image/png": "[encoded data removed]",
            "text/plain": [
              "<Figure size 720x432 with 1 Axes>"
            ]
          },
          "metadata": {
            "needs_background": "light"
          }
        }
      ]
    },
    {
      "cell_type": "markdown",
      "metadata": {
        "id": "nTQKtthVPQeB"
      },
      "source": [
        "### 2. 거래처별 매출/이익"
      ]
    },
    {
      "cell_type": "code",
      "metadata": {
        "id": "5i-TL1JRrqtj"
      },
      "source": [
        "# 소수점 자리 제한을 위한 코드\n",
        "pd.options.display.float_format= '{:.2}'.format"
      ],
      "execution_count": null,
      "outputs": []
    },
    {
      "cell_type": "code",
      "metadata": {
        "colab": {
          "base_uri": "https://localhost:8080/",
          "height": 235
        },
        "id": "Csmq6x1IQcYP",
        "outputId": "49c7ade5-87e1-4d65-94a8-47a327860723"
      },
      "source": [
        "results = dm.get_company(config)\n",
        "df = pd.DataFrame(results, columns=['거래처','매출','이익'])\n",
        "df.set_index('거래처', inplace=True)\n",
        "df['매출'] = df.매출.astype(int)\n",
        "df['이익'] = df.이익.astype(int)\n",
        "df['이익률'] = df.이익 / df.매출 * 100\n",
        "df"
      ],
      "execution_count": null,
      "outputs": [
        {
          "output_type": "execute_result",
          "data": {
            "text/html": [
              "<div>\n",
              "<style scoped>\n",
              "    .dataframe tbody tr th:only-of-type {\n",
              "        vertical-align: middle;\n",
              "    }\n",
              "\n",
              "    .dataframe tbody tr th {\n",
              "        vertical-align: top;\n",
              "    }\n",
              "\n",
              "    .dataframe thead th {\n",
              "        text-align: right;\n",
              "    }\n",
              "</style>\n",
              "<table border=\"1\" class=\"dataframe\">\n",
              "  <thead>\n",
              "    <tr style=\"text-align: right;\">\n",
              "      <th></th>\n",
              "      <th>매출</th>\n",
              "      <th>이익</th>\n",
              "      <th>이익률</th>\n",
              "    </tr>\n",
              "    <tr>\n",
              "      <th>거래처</th>\n",
              "      <th></th>\n",
              "      <th></th>\n",
              "      <th></th>\n",
              "    </tr>\n",
              "  </thead>\n",
              "  <tbody>\n",
              "    <tr>\n",
              "      <th>일룸</th>\n",
              "      <td>32064500</td>\n",
              "      <td>3145020</td>\n",
              "      <td>9.808417</td>\n",
              "    </tr>\n",
              "    <tr>\n",
              "      <th>리바트</th>\n",
              "      <td>41008000</td>\n",
              "      <td>3558590</td>\n",
              "      <td>8.677795</td>\n",
              "    </tr>\n",
              "    <tr>\n",
              "      <th>오늘의집</th>\n",
              "      <td>42066700</td>\n",
              "      <td>3563120</td>\n",
              "      <td>8.470168</td>\n",
              "    </tr>\n",
              "    <tr>\n",
              "      <th>한셈</th>\n",
              "      <td>36967800</td>\n",
              "      <td>3732880</td>\n",
              "      <td>10.097653</td>\n",
              "    </tr>\n",
              "    <tr>\n",
              "      <th>굿인테리어</th>\n",
              "      <td>42148000</td>\n",
              "      <td>4556080</td>\n",
              "      <td>10.809718</td>\n",
              "    </tr>\n",
              "  </tbody>\n",
              "</table>\n",
              "</div>"
            ],
            "text/plain": [
              "             매출       이익        이익률\n",
              "거래처                                \n",
              "일룸     32064500  3145020   9.808417\n",
              "리바트    41008000  3558590   8.677795\n",
              "오늘의집   42066700  3563120   8.470168\n",
              "한셈     36967800  3732880  10.097653\n",
              "굿인테리어  42148000  4556080  10.809718"
            ]
          },
          "metadata": {},
          "execution_count": 13
        }
      ]
    },
    {
      "cell_type": "code",
      "metadata": {
        "colab": {
          "base_uri": "https://localhost:8080/",
          "height": 405
        },
        "id": "_AtoVUz4QjKo",
        "outputId": "0148e8f4-039a-4a32-af6b-6edab52f373b"
      },
      "source": [
        "df[['매출','이익']].plot.barh(figsize=(10,6))\n",
        "plt.title('거래처별 매출/이익', size= 15)\n",
        "plt.grid()\n",
        "plt.show()"
      ],
      "execution_count": null,
      "outputs": [
        {
          "output_type": "display_data",
          "data": {
            "image/png": "[encoded data removed]",
            "text/plain": [
              "<Figure size 720x432 with 1 Axes>"
            ]
          },
          "metadata": {
            "needs_background": "light"
          }
        }
      ]
    },
    {
      "cell_type": "code",
      "metadata": {
        "colab": {
          "base_uri": "https://localhost:8080/",
          "height": 283
        },
        "id": "mnJ8vrkasdO7",
        "outputId": "3752e5d1-72da-4e0c-e10f-e0e56cc8c81a"
      },
      "source": [
        "df['이익률'].plot.barh(rot=0, figsize=(10,4))\n",
        "plt.title('거래처별 이익율(%)', size=15)\n",
        "plt.grid()\n",
        "plt.show()"
      ],
      "execution_count": null,
      "outputs": [
        {
          "output_type": "display_data",
          "data": {
            "image/png": "[encoded data removed]",
            "text/plain": [
              "<Figure size 720x288 with 1 Axes>"
            ]
          },
          "metadata": {
            "needs_background": "light"
          }
        }
      ]
    },
    {
      "cell_type": "markdown",
      "metadata": {
        "id": "MEslPFW9RSpC"
      },
      "source": [
        "### 3. 거래처별 판매제품 및 수량"
      ]
    },
    {
      "cell_type": "code",
      "metadata": {
        "colab": {
          "base_uri": "https://localhost:8080/",
          "height": 450
        },
        "id": "Z7krFEixW7vw",
        "outputId": "317acbf7-d1ae-4585-c94c-5974a4864e57"
      },
      "source": [
        "results = dm.get_product_list(config)\n",
        "df = pd.DataFrame(results, columns=['거래처', '상품', '수량'])\n",
        "df.set_index(['거래처','상품'], inplace=True)\n",
        "df['수량'] =df.수량.astype(int)\n",
        "df"
      ],
      "execution_count": null,
      "outputs": [
        {
          "output_type": "execute_result",
          "data": {
            "text/html": [
              "<div>\n",
              "<style scoped>\n",
              "    .dataframe tbody tr th:only-of-type {\n",
              "        vertical-align: middle;\n",
              "    }\n",
              "\n",
              "    .dataframe tbody tr th {\n",
              "        vertical-align: top;\n",
              "    }\n",
              "\n",
              "    .dataframe thead th {\n",
              "        text-align: right;\n",
              "    }\n",
              "</style>\n",
              "<table border=\"1\" class=\"dataframe\">\n",
              "  <thead>\n",
              "    <tr style=\"text-align: right;\">\n",
              "      <th></th>\n",
              "      <th></th>\n",
              "      <th>수량</th>\n",
              "    </tr>\n",
              "    <tr>\n",
              "      <th>거래처</th>\n",
              "      <th>상품</th>\n",
              "      <th></th>\n",
              "    </tr>\n",
              "  </thead>\n",
              "  <tbody>\n",
              "    <tr>\n",
              "      <th rowspan=\"5\" valign=\"top\">굿인테리어</th>\n",
              "      <th>거울</th>\n",
              "      <td>49</td>\n",
              "    </tr>\n",
              "    <tr>\n",
              "      <th>나이프</th>\n",
              "      <td>34</td>\n",
              "    </tr>\n",
              "    <tr>\n",
              "      <th>도시락통</th>\n",
              "      <td>8</td>\n",
              "    </tr>\n",
              "    <tr>\n",
              "      <th>병</th>\n",
              "      <td>80</td>\n",
              "    </tr>\n",
              "    <tr>\n",
              "      <th>샤워기</th>\n",
              "      <td>8</td>\n",
              "    </tr>\n",
              "    <tr>\n",
              "      <th>...</th>\n",
              "      <th>...</th>\n",
              "      <td>...</td>\n",
              "    </tr>\n",
              "    <tr>\n",
              "      <th rowspan=\"5\" valign=\"top\">한셈</th>\n",
              "      <th>침대</th>\n",
              "      <td>67</td>\n",
              "    </tr>\n",
              "    <tr>\n",
              "      <th>캔</th>\n",
              "      <td>33</td>\n",
              "    </tr>\n",
              "    <tr>\n",
              "      <th>컵</th>\n",
              "      <td>13</td>\n",
              "    </tr>\n",
              "    <tr>\n",
              "      <th>포크</th>\n",
              "      <td>21</td>\n",
              "    </tr>\n",
              "    <tr>\n",
              "      <th>휴지걸이</th>\n",
              "      <td>11</td>\n",
              "    </tr>\n",
              "  </tbody>\n",
              "</table>\n",
              "<p>132 rows × 1 columns</p>\n",
              "</div>"
            ],
            "text/plain": [
              "            수량\n",
              "거래처   상품      \n",
              "굿인테리어 거울    49\n",
              "      나이프   34\n",
              "      도시락통   8\n",
              "      병     80\n",
              "      샤워기    8\n",
              "...         ..\n",
              "한셈    침대    67\n",
              "      캔     33\n",
              "      컵     13\n",
              "      포크    21\n",
              "      휴지걸이  11\n",
              "\n",
              "[132 rows x 1 columns]"
            ]
          },
          "metadata": {},
          "execution_count": 14
        }
      ]
    },
    {
      "cell_type": "code",
      "metadata": {
        "colab": {
          "base_uri": "https://localhost:8080/"
        },
        "id": "j86AvvvwXIbt",
        "outputId": "bcb0db0f-b19c-46d3-95df-6e700269b5f9"
      },
      "source": [
        "df.reset_index()['거래처'].unique()"
      ],
      "execution_count": null,
      "outputs": [
        {
          "output_type": "execute_result",
          "data": {
            "text/plain": [
              "array(['굿인테리어', '리바트', '오늘의집', '일룸', '한셈'], dtype=object)"
            ]
          },
          "metadata": {},
          "execution_count": 122
        }
      ]
    },
    {
      "cell_type": "code",
      "metadata": {
        "colab": {
          "base_uri": "https://localhost:8080/",
          "height": 1000
        },
        "id": "cRyh6bPvvixE",
        "outputId": "43c1fab3-1911-4eaa-ced1-7ded01bf3d1a"
      },
      "source": [
        "# 각 회사의 제품\n",
        "for company in df.reset_index()['거래처'].unique():\n",
        "  sdf = df.loc[(company,)]\n",
        "  sdf.sort_values(by='수량').plot.barh(figsize=(10,6))\n",
        "  plt.title(f'{company}에 판매된 상품', size =15)\n",
        "  plt.grid()\n",
        "  plt.show()"
      ],
      "execution_count": null,
      "outputs": [
        {
          "output_type": "display_data",
          "data": {
            "image/png": "[encoded data removed]",
            "text/plain": [
              "<Figure size 720x432 with 1 Axes>"
            ]
          },
          "metadata": {
            "needs_background": "light"
          }
        },
        {
          "output_type": "display_data",
          "data": {
            "image/png": "[encoded data removed]",
            "text/plain": [
              "<Figure size 720x432 with 1 Axes>"
            ]
          },
          "metadata": {
            "needs_background": "light"
          }
        },
        {
          "output_type": "display_data",
          "data": {
            "image/png": "[encoded data removed]",
            "text/plain": [
              "<Figure size 720x432 with 1 Axes>"
            ]
          },
          "metadata": {
            "needs_background": "light"
          }
        },
        {
          "output_type": "display_data",
          "data": {
            "image/png": "[encoded data removed]",
            "text/plain": [
              "<Figure size 720x432 with 1 Axes>"
            ]
          },
          "metadata": {
            "needs_background": "light"
          }
        },
        {
          "output_type": "display_data",
          "data": {
            "image/png": "[encoded data removed]",
            "text/plain": [
              "<Figure size 720x432 with 1 Axes>"
            ]
          },
          "metadata": {
            "needs_background": "light"
          }
        }
      ]
    },
    {
      "cell_type": "markdown",
      "metadata": {
        "id": "PzLhKkuUaEjd"
      },
      "source": [
        "#### 4. 제품별 매출액, 이익"
      ]
    },
    {
      "cell_type": "code",
      "metadata": {
        "colab": {
          "base_uri": "https://localhost:8080/",
          "height": 979
        },
        "id": "oJSpQXjQaEJl",
        "outputId": "9ddc447a-588b-4e23-a7e9-7edd67e209b7"
      },
      "source": [
        "results = dm.get_products(config)\n",
        "df = pd.DataFrame(results,columns=['제품','판매수량','매출','이익'])\n",
        "df.set_index('제품', inplace=True)\n",
        "df['판매수량'] = df.astype(int)\n",
        "df['매출'] = df.매출.astype(int)\n",
        "df['이익'] = df.이익.astype(int)\n",
        "df"
      ],
      "execution_count": null,
      "outputs": [
        {
          "output_type": "execute_result",
          "data": {
            "text/html": [
              "<div>\n",
              "<style scoped>\n",
              "    .dataframe tbody tr th:only-of-type {\n",
              "        vertical-align: middle;\n",
              "    }\n",
              "\n",
              "    .dataframe tbody tr th {\n",
              "        vertical-align: top;\n",
              "    }\n",
              "\n",
              "    .dataframe thead th {\n",
              "        text-align: right;\n",
              "    }\n",
              "</style>\n",
              "<table border=\"1\" class=\"dataframe\">\n",
              "  <thead>\n",
              "    <tr style=\"text-align: right;\">\n",
              "      <th></th>\n",
              "      <th>판매수량</th>\n",
              "      <th>매출</th>\n",
              "      <th>이익</th>\n",
              "    </tr>\n",
              "    <tr>\n",
              "      <th>제품</th>\n",
              "      <th></th>\n",
              "      <th></th>\n",
              "      <th></th>\n",
              "    </tr>\n",
              "  </thead>\n",
              "  <tbody>\n",
              "    <tr>\n",
              "      <th>휴지걸이</th>\n",
              "      <td>64</td>\n",
              "      <td>3776000</td>\n",
              "      <td>377600</td>\n",
              "    </tr>\n",
              "    <tr>\n",
              "      <th>도시락통</th>\n",
              "      <td>65</td>\n",
              "      <td>5557500</td>\n",
              "      <td>278200</td>\n",
              "    </tr>\n",
              "    <tr>\n",
              "      <th>장식장</th>\n",
              "      <td>67</td>\n",
              "      <td>2204300</td>\n",
              "      <td>220430</td>\n",
              "    </tr>\n",
              "    <tr>\n",
              "      <th>수건걸이</th>\n",
              "      <td>78</td>\n",
              "      <td>1060800</td>\n",
              "      <td>63960</td>\n",
              "    </tr>\n",
              "    <tr>\n",
              "      <th>소파</th>\n",
              "      <td>82</td>\n",
              "      <td>2222200</td>\n",
              "      <td>266500</td>\n",
              "    </tr>\n",
              "    <tr>\n",
              "      <th>스푼</th>\n",
              "      <td>84</td>\n",
              "      <td>3780000</td>\n",
              "      <td>151200</td>\n",
              "    </tr>\n",
              "    <tr>\n",
              "      <th>젓가락</th>\n",
              "      <td>103</td>\n",
              "      <td>5407500</td>\n",
              "      <td>702460</td>\n",
              "    </tr>\n",
              "    <tr>\n",
              "      <th>의자</th>\n",
              "      <td>106</td>\n",
              "      <td>2883200</td>\n",
              "      <td>201400</td>\n",
              "    </tr>\n",
              "    <tr>\n",
              "      <th>어린이가구</th>\n",
              "      <td>113</td>\n",
              "      <td>2847600</td>\n",
              "      <td>170630</td>\n",
              "    </tr>\n",
              "    <tr>\n",
              "      <th>캔</th>\n",
              "      <td>120</td>\n",
              "      <td>7920000</td>\n",
              "      <td>475200</td>\n",
              "    </tr>\n",
              "    <tr>\n",
              "      <th>샤워커튼</th>\n",
              "      <td>120</td>\n",
              "      <td>10884000</td>\n",
              "      <td>979200</td>\n",
              "    </tr>\n",
              "    <tr>\n",
              "      <th>수납장</th>\n",
              "      <td>123</td>\n",
              "      <td>1574400</td>\n",
              "      <td>94710</td>\n",
              "    </tr>\n",
              "    <tr>\n",
              "      <th>샤워기</th>\n",
              "      <td>124</td>\n",
              "      <td>5468400</td>\n",
              "      <td>710520</td>\n",
              "    </tr>\n",
              "    <tr>\n",
              "      <th>거울</th>\n",
              "      <td>126</td>\n",
              "      <td>7887600</td>\n",
              "      <td>868140</td>\n",
              "    </tr>\n",
              "    <tr>\n",
              "      <th>접시</th>\n",
              "      <td>127</td>\n",
              "      <td>5676900</td>\n",
              "      <td>397510</td>\n",
              "    </tr>\n",
              "    <tr>\n",
              "      <th>포크</th>\n",
              "      <td>131</td>\n",
              "      <td>11200500</td>\n",
              "      <td>1568070</td>\n",
              "    </tr>\n",
              "    <tr>\n",
              "      <th>쓰레기통</th>\n",
              "      <td>133</td>\n",
              "      <td>6756400</td>\n",
              "      <td>473480</td>\n",
              "    </tr>\n",
              "    <tr>\n",
              "      <th>변기솔</th>\n",
              "      <td>136</td>\n",
              "      <td>8948800</td>\n",
              "      <td>1074400</td>\n",
              "    </tr>\n",
              "    <tr>\n",
              "      <th>컵</th>\n",
              "      <td>139</td>\n",
              "      <td>12106900</td>\n",
              "      <td>1331620</td>\n",
              "    </tr>\n",
              "    <tr>\n",
              "      <th>수건</th>\n",
              "      <td>141</td>\n",
              "      <td>7430700</td>\n",
              "      <td>743070</td>\n",
              "    </tr>\n",
              "    <tr>\n",
              "      <th>샤워볼</th>\n",
              "      <td>142</td>\n",
              "      <td>9982600</td>\n",
              "      <td>998260</td>\n",
              "    </tr>\n",
              "    <tr>\n",
              "      <th>옷장</th>\n",
              "      <td>144</td>\n",
              "      <td>8683200</td>\n",
              "      <td>607680</td>\n",
              "    </tr>\n",
              "    <tr>\n",
              "      <th>나이프</th>\n",
              "      <td>148</td>\n",
              "      <td>2057200</td>\n",
              "      <td>307840</td>\n",
              "    </tr>\n",
              "    <tr>\n",
              "      <th>침대</th>\n",
              "      <td>149</td>\n",
              "      <td>6377200</td>\n",
              "      <td>892510</td>\n",
              "    </tr>\n",
              "    <tr>\n",
              "      <th>책상</th>\n",
              "      <td>169</td>\n",
              "      <td>10849800</td>\n",
              "      <td>976820</td>\n",
              "    </tr>\n",
              "    <tr>\n",
              "      <th>선반</th>\n",
              "      <td>180</td>\n",
              "      <td>10163400</td>\n",
              "      <td>327480</td>\n",
              "    </tr>\n",
              "    <tr>\n",
              "      <th>와인잔</th>\n",
              "      <td>186</td>\n",
              "      <td>2734200</td>\n",
              "      <td>191580</td>\n",
              "    </tr>\n",
              "    <tr>\n",
              "      <th>식탁</th>\n",
              "      <td>187</td>\n",
              "      <td>10677700</td>\n",
              "      <td>534820</td>\n",
              "    </tr>\n",
              "    <tr>\n",
              "      <th>병</th>\n",
              "      <td>204</td>\n",
              "      <td>17136000</td>\n",
              "      <td>2570400</td>\n",
              "    </tr>\n",
              "  </tbody>\n",
              "</table>\n",
              "</div>"
            ],
            "text/plain": [
              "       판매수량        매출       이익\n",
              "제품                            \n",
              "휴지걸이     64   3776000   377600\n",
              "도시락통     65   5557500   278200\n",
              "장식장      67   2204300   220430\n",
              "수건걸이     78   1060800    63960\n",
              "소파       82   2222200   266500\n",
              "스푼       84   3780000   151200\n",
              "젓가락     103   5407500   702460\n",
              "의자      106   2883200   201400\n",
              "어린이가구   113   2847600   170630\n",
              "캔       120   7920000   475200\n",
              "샤워커튼    120  10884000   979200\n",
              "수납장     123   1574400    94710\n",
              "샤워기     124   5468400   710520\n",
              "거울      126   7887600   868140\n",
              "접시      127   5676900   397510\n",
              "포크      131  11200500  1568070\n",
              "쓰레기통    133   6756400   473480\n",
              "변기솔     136   8948800  1074400\n",
              "컵       139  12106900  1331620\n",
              "수건      141   7430700   743070\n",
              "샤워볼     142   9982600   998260\n",
              "옷장      144   8683200   607680\n",
              "나이프     148   2057200   307840\n",
              "침대      149   6377200   892510\n",
              "책상      169  10849800   976820\n",
              "선반      180  10163400   327480\n",
              "와인잔     186   2734200   191580\n",
              "식탁      187  10677700   534820\n",
              "병       204  17136000  2570400"
            ]
          },
          "metadata": {},
          "execution_count": 15
        }
      ]
    },
    {
      "cell_type": "code",
      "metadata": {
        "colab": {
          "base_uri": "https://localhost:8080/",
          "height": 623
        },
        "id": "ReXr8ClKbvaB",
        "outputId": "ef4581b4-2bfc-49ed-d72d-a37f00cfa073"
      },
      "source": [
        "df[['매출','이익']].sort_values(by='매출').plot.barh(rot=0, figsize=(10,10))\n",
        "plt.title ('상품별 매출/이익', size= 15)\n",
        "plt.grid()\n",
        "plt.show()"
      ],
      "execution_count": null,
      "outputs": [
        {
          "output_type": "display_data",
          "data": {
            "image/png": "[encoded data removed]",
            "text/plain": [
              "<Figure size 720x720 with 1 Axes>"
            ]
          },
          "metadata": {
            "needs_background": "light"
          }
        }
      ]
    },
    {
      "cell_type": "markdown",
      "metadata": {
        "id": "M68O9qivfLMJ"
      },
      "source": [
        "#### 카테고리별 매출/이익"
      ]
    },
    {
      "cell_type": "code",
      "metadata": {
        "colab": {
          "base_uri": "https://localhost:8080/",
          "height": 173
        },
        "id": "kcRPLfN-1DeS",
        "outputId": "9b2e437f-cced-4275-b4f5-24b92f5854bf"
      },
      "source": [
        "results = dm.get_category(config)\n",
        "df = pd.DataFrame(results, columns=['카테고리','매출','이익'])\n",
        "df.set_index('카테고리', inplace=True)\n",
        "df['매출'] = df.매출.astype(int)\n",
        "df['이익'] = df.이익.astype(int)\n",
        "df['이익율'] = df.이익 / df.매출 * 100\n",
        "df"
      ],
      "execution_count": null,
      "outputs": [
        {
          "output_type": "execute_result",
          "data": {
            "text/html": [
              "<div>\n",
              "<style scoped>\n",
              "    .dataframe tbody tr th:only-of-type {\n",
              "        vertical-align: middle;\n",
              "    }\n",
              "\n",
              "    .dataframe tbody tr th {\n",
              "        vertical-align: top;\n",
              "    }\n",
              "\n",
              "    .dataframe thead th {\n",
              "        text-align: right;\n",
              "    }\n",
              "</style>\n",
              "<table border=\"1\" class=\"dataframe\">\n",
              "  <thead>\n",
              "    <tr style=\"text-align: right;\">\n",
              "      <th></th>\n",
              "      <th>매출</th>\n",
              "      <th>이익</th>\n",
              "      <th>이익율</th>\n",
              "    </tr>\n",
              "    <tr>\n",
              "      <th>카테고리</th>\n",
              "      <th></th>\n",
              "      <th></th>\n",
              "      <th></th>\n",
              "    </tr>\n",
              "  </thead>\n",
              "  <tbody>\n",
              "    <tr>\n",
              "      <th>주방용품</th>\n",
              "      <td>73576700</td>\n",
              "      <td>7974080</td>\n",
              "      <td>10.837779</td>\n",
              "    </tr>\n",
              "    <tr>\n",
              "      <th>욕실용품</th>\n",
              "      <td>65318600</td>\n",
              "      <td>6475680</td>\n",
              "      <td>9.913991</td>\n",
              "    </tr>\n",
              "    <tr>\n",
              "      <th>가구</th>\n",
              "      <td>55359700</td>\n",
              "      <td>4105930</td>\n",
              "      <td>7.416821</td>\n",
              "    </tr>\n",
              "  </tbody>\n",
              "</table>\n",
              "</div>"
            ],
            "text/plain": [
              "            매출       이익        이익율\n",
              "카테고리                              \n",
              "주방용품  73576700  7974080  10.837779\n",
              "욕실용품  65318600  6475680   9.913991\n",
              "가구    55359700  4105930   7.416821"
            ]
          },
          "metadata": {},
          "execution_count": 17
        }
      ]
    },
    {
      "cell_type": "code",
      "metadata": {
        "colab": {
          "base_uri": "https://localhost:8080/",
          "height": 405
        },
        "id": "u46xxxCfcAAb",
        "outputId": "c3147118-789e-4745-e139-9d08048bb212"
      },
      "source": [
        "df.plot.barh(figsize=(10,6))\n",
        "plt.title('카테고리별 매출/이익', size= 15)\n",
        "plt.grid()\n",
        "plt.show()"
      ],
      "execution_count": null,
      "outputs": [
        {
          "output_type": "display_data",
          "data": {
            "image/png": "[encoded data removed]",
            "text/plain": [
              "<Figure size 720x432 with 1 Axes>"
            ]
          },
          "metadata": {
            "needs_background": "light"
          }
        }
      ]
    },
    {
      "cell_type": "code",
      "metadata": {
        "id": "m3F9LzXcckv0"
      },
      "source": [
        ""
      ],
      "execution_count": null,
      "outputs": []
    }
  ]
}