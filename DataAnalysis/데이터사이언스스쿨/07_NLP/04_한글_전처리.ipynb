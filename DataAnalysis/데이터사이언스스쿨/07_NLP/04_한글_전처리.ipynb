{
  "nbformat": 4,
  "nbformat_minor": 0,
  "metadata": {
    "colab": {
      "name": "04_한글_전처리.ipynb",
      "provenance": [],
      "collapsed_sections": []
    },
    "kernelspec": {
      "name": "python3",
      "display_name": "Python 3"
    },
    "language_info": {
      "name": "python"
    }
  },
  "cells": [
    {
      "cell_type": "markdown",
      "metadata": {
        "id": "9uQvLgTue7WG"
      },
      "source": [
        "# 1. 한글 전처리 패키지"
      ]
    },
    {
      "cell_type": "markdown",
      "metadata": {
        "id": "shLCon2He2PL"
      },
      "source": [
        "## 1.  PyKoSpacing\n",
        "* 띄어쓰기"
      ]
    },
    {
      "cell_type": "code",
      "metadata": {
        "colab": {
          "base_uri": "https://localhost:8080/",
          "height": 1000
        },
        "id": "l7ezyfEoeZqj",
        "outputId": "5f3a71f5-e2ac-4936-eb25-9a4c80b5a1b3"
      },
      "source": [
        "!pip install git+https://github.com/haven-jeon/PyKoSpacing.git"
      ],
      "execution_count": null,
      "outputs": [
        {
          "output_type": "stream",
          "text": [
            "Collecting git+https://github.com/haven-jeon/PyKoSpacing.git\n",
            "  Cloning https://github.com/haven-jeon/PyKoSpacing.git to /tmp/pip-req-build-gsp_1jya\n",
            "  Running command git clone -q https://github.com/haven-jeon/PyKoSpacing.git /tmp/pip-req-build-gsp_1jya\n",
            "Collecting tensorflow==2.5.0\n",
            "  Downloading tensorflow-2.5.0-cp37-cp37m-manylinux2010_x86_64.whl (454.3 MB)\n",
            "\u001b[K     |████████████████████████████████| 454.3 MB 15 kB/s \n",
            "\u001b[?25hRequirement already satisfied: h5py==3.1.0 in /usr/local/lib/python3.7/dist-packages (from pykospacing==0.5) (3.1.0)\n",
            "Collecting argparse>=1.4.0\n",
            "  Downloading argparse-1.4.0-py2.py3-none-any.whl (23 kB)\n",
            "Requirement already satisfied: cached-property in /usr/local/lib/python3.7/dist-packages (from h5py==3.1.0->pykospacing==0.5) (1.5.2)\n",
            "Requirement already satisfied: numpy>=1.14.5 in /usr/local/lib/python3.7/dist-packages (from h5py==3.1.0->pykospacing==0.5) (1.19.5)\n",
            "Requirement already satisfied: wheel~=0.35 in /usr/local/lib/python3.7/dist-packages (from tensorflow==2.5.0->pykospacing==0.5) (0.37.0)\n",
            "Requirement already satisfied: astunparse~=1.6.3 in /usr/local/lib/python3.7/dist-packages (from tensorflow==2.5.0->pykospacing==0.5) (1.6.3)\n",
            "Requirement already satisfied: absl-py~=0.10 in /usr/local/lib/python3.7/dist-packages (from tensorflow==2.5.0->pykospacing==0.5) (0.12.0)\n",
            "Requirement already satisfied: opt-einsum~=3.3.0 in /usr/local/lib/python3.7/dist-packages (from tensorflow==2.5.0->pykospacing==0.5) (3.3.0)\n",
            "Requirement already satisfied: google-pasta~=0.2 in /usr/local/lib/python3.7/dist-packages (from tensorflow==2.5.0->pykospacing==0.5) (0.2.0)\n",
            "Requirement already satisfied: gast==0.4.0 in /usr/local/lib/python3.7/dist-packages (from tensorflow==2.5.0->pykospacing==0.5) (0.4.0)\n",
            "Requirement already satisfied: termcolor~=1.1.0 in /usr/local/lib/python3.7/dist-packages (from tensorflow==2.5.0->pykospacing==0.5) (1.1.0)\n",
            "Requirement already satisfied: tensorboard~=2.5 in /usr/local/lib/python3.7/dist-packages (from tensorflow==2.5.0->pykospacing==0.5) (2.6.0)\n",
            "Requirement already satisfied: typing-extensions~=3.7.4 in /usr/local/lib/python3.7/dist-packages (from tensorflow==2.5.0->pykospacing==0.5) (3.7.4.3)\n",
            "Collecting keras-nightly~=2.5.0.dev\n",
            "  Downloading keras_nightly-2.5.0.dev2021032900-py2.py3-none-any.whl (1.2 MB)\n",
            "\u001b[K     |████████████████████████████████| 1.2 MB 57.5 MB/s \n",
            "\u001b[?25hRequirement already satisfied: protobuf>=3.9.2 in /usr/local/lib/python3.7/dist-packages (from tensorflow==2.5.0->pykospacing==0.5) (3.17.3)\n",
            "Collecting tensorflow-estimator<2.6.0,>=2.5.0rc0\n",
            "  Downloading tensorflow_estimator-2.5.0-py2.py3-none-any.whl (462 kB)\n",
            "\u001b[K     |████████████████████████████████| 462 kB 59.4 MB/s \n",
            "\u001b[?25hRequirement already satisfied: keras-preprocessing~=1.1.2 in /usr/local/lib/python3.7/dist-packages (from tensorflow==2.5.0->pykospacing==0.5) (1.1.2)\n",
            "Requirement already satisfied: wrapt~=1.12.1 in /usr/local/lib/python3.7/dist-packages (from tensorflow==2.5.0->pykospacing==0.5) (1.12.1)\n",
            "Requirement already satisfied: flatbuffers~=1.12.0 in /usr/local/lib/python3.7/dist-packages (from tensorflow==2.5.0->pykospacing==0.5) (1.12)\n",
            "Collecting grpcio~=1.34.0\n",
            "  Downloading grpcio-1.34.1-cp37-cp37m-manylinux2014_x86_64.whl (4.0 MB)\n",
            "\u001b[K     |████████████████████████████████| 4.0 MB 31.4 MB/s \n",
            "\u001b[?25hRequirement already satisfied: six~=1.15.0 in /usr/local/lib/python3.7/dist-packages (from tensorflow==2.5.0->pykospacing==0.5) (1.15.0)\n",
            "Requirement already satisfied: tensorboard-plugin-wit>=1.6.0 in /usr/local/lib/python3.7/dist-packages (from tensorboard~=2.5->tensorflow==2.5.0->pykospacing==0.5) (1.8.0)\n",
            "Requirement already satisfied: setuptools>=41.0.0 in /usr/local/lib/python3.7/dist-packages (from tensorboard~=2.5->tensorflow==2.5.0->pykospacing==0.5) (57.4.0)\n",
            "Requirement already satisfied: tensorboard-data-server<0.7.0,>=0.6.0 in /usr/local/lib/python3.7/dist-packages (from tensorboard~=2.5->tensorflow==2.5.0->pykospacing==0.5) (0.6.1)\n",
            "Requirement already satisfied: markdown>=2.6.8 in /usr/local/lib/python3.7/dist-packages (from tensorboard~=2.5->tensorflow==2.5.0->pykospacing==0.5) (3.3.4)\n",
            "Requirement already satisfied: requests<3,>=2.21.0 in /usr/local/lib/python3.7/dist-packages (from tensorboard~=2.5->tensorflow==2.5.0->pykospacing==0.5) (2.23.0)\n",
            "Requirement already satisfied: werkzeug>=0.11.15 in /usr/local/lib/python3.7/dist-packages (from tensorboard~=2.5->tensorflow==2.5.0->pykospacing==0.5) (1.0.1)\n",
            "Requirement already satisfied: google-auth<2,>=1.6.3 in /usr/local/lib/python3.7/dist-packages (from tensorboard~=2.5->tensorflow==2.5.0->pykospacing==0.5) (1.34.0)\n",
            "Requirement already satisfied: google-auth-oauthlib<0.5,>=0.4.1 in /usr/local/lib/python3.7/dist-packages (from tensorboard~=2.5->tensorflow==2.5.0->pykospacing==0.5) (0.4.5)\n",
            "Requirement already satisfied: cachetools<5.0,>=2.0.0 in /usr/local/lib/python3.7/dist-packages (from google-auth<2,>=1.6.3->tensorboard~=2.5->tensorflow==2.5.0->pykospacing==0.5) (4.2.2)\n",
            "Requirement already satisfied: rsa<5,>=3.1.4 in /usr/local/lib/python3.7/dist-packages (from google-auth<2,>=1.6.3->tensorboard~=2.5->tensorflow==2.5.0->pykospacing==0.5) (4.7.2)\n",
            "Requirement already satisfied: pyasn1-modules>=0.2.1 in /usr/local/lib/python3.7/dist-packages (from google-auth<2,>=1.6.3->tensorboard~=2.5->tensorflow==2.5.0->pykospacing==0.5) (0.2.8)\n",
            "Requirement already satisfied: requests-oauthlib>=0.7.0 in /usr/local/lib/python3.7/dist-packages (from google-auth-oauthlib<0.5,>=0.4.1->tensorboard~=2.5->tensorflow==2.5.0->pykospacing==0.5) (1.3.0)\n",
            "Requirement already satisfied: importlib-metadata in /usr/local/lib/python3.7/dist-packages (from markdown>=2.6.8->tensorboard~=2.5->tensorflow==2.5.0->pykospacing==0.5) (4.6.4)\n",
            "Requirement already satisfied: pyasn1<0.5.0,>=0.4.6 in /usr/local/lib/python3.7/dist-packages (from pyasn1-modules>=0.2.1->google-auth<2,>=1.6.3->tensorboard~=2.5->tensorflow==2.5.0->pykospacing==0.5) (0.4.8)\n",
            "Requirement already satisfied: certifi>=2017.4.17 in /usr/local/lib/python3.7/dist-packages (from requests<3,>=2.21.0->tensorboard~=2.5->tensorflow==2.5.0->pykospacing==0.5) (2021.5.30)\n",
            "Requirement already satisfied: urllib3!=1.25.0,!=1.25.1,<1.26,>=1.21.1 in /usr/local/lib/python3.7/dist-packages (from requests<3,>=2.21.0->tensorboard~=2.5->tensorflow==2.5.0->pykospacing==0.5) (1.24.3)\n",
            "Requirement already satisfied: idna<3,>=2.5 in /usr/local/lib/python3.7/dist-packages (from requests<3,>=2.21.0->tensorboard~=2.5->tensorflow==2.5.0->pykospacing==0.5) (2.10)\n",
            "Requirement already satisfied: chardet<4,>=3.0.2 in /usr/local/lib/python3.7/dist-packages (from requests<3,>=2.21.0->tensorboard~=2.5->tensorflow==2.5.0->pykospacing==0.5) (3.0.4)\n",
            "Requirement already satisfied: oauthlib>=3.0.0 in /usr/local/lib/python3.7/dist-packages (from requests-oauthlib>=0.7.0->google-auth-oauthlib<0.5,>=0.4.1->tensorboard~=2.5->tensorflow==2.5.0->pykospacing==0.5) (3.1.1)\n",
            "Requirement already satisfied: zipp>=0.5 in /usr/local/lib/python3.7/dist-packages (from importlib-metadata->markdown>=2.6.8->tensorboard~=2.5->tensorflow==2.5.0->pykospacing==0.5) (3.5.0)\n",
            "Building wheels for collected packages: pykospacing\n",
            "  Building wheel for pykospacing (setup.py) ... \u001b[?25l\u001b[?25hdone\n",
            "  Created wheel for pykospacing: filename=pykospacing-0.5-py3-none-any.whl size=2255830 sha256=0afc6eaab451d7f79207be69b59afdb5c6b20690f4a711e9610aaeccabb74278\n",
            "  Stored in directory: /tmp/pip-ephem-wheel-cache-ye2wdwnn/wheels/9b/93/81/a2a7dc8c66ede5bf30634d20635f32b95eac7ca2ea8844058b\n",
            "Successfully built pykospacing\n",
            "Installing collected packages: grpcio, tensorflow-estimator, keras-nightly, tensorflow, argparse, pykospacing\n",
            "  Attempting uninstall: grpcio\n",
            "    Found existing installation: grpcio 1.39.0\n",
            "    Uninstalling grpcio-1.39.0:\n",
            "      Successfully uninstalled grpcio-1.39.0\n",
            "  Attempting uninstall: tensorflow-estimator\n",
            "    Found existing installation: tensorflow-estimator 2.6.0\n",
            "    Uninstalling tensorflow-estimator-2.6.0:\n",
            "      Successfully uninstalled tensorflow-estimator-2.6.0\n",
            "  Attempting uninstall: tensorflow\n",
            "    Found existing installation: tensorflow 2.6.0\n",
            "    Uninstalling tensorflow-2.6.0:\n",
            "      Successfully uninstalled tensorflow-2.6.0\n",
            "Successfully installed argparse-1.4.0 grpcio-1.34.1 keras-nightly-2.5.0.dev2021032900 pykospacing-0.5 tensorflow-2.5.0 tensorflow-estimator-2.5.0\n"
          ],
          "name": "stdout"
        },
        {
          "output_type": "display_data",
          "data": {
            "application/vnd.colab-display-data+json": {
              "pip_warning": {
                "packages": [
                  "argparse"
                ]
              }
            }
          },
          "metadata": {}
        }
      ]
    },
    {
      "cell_type": "code",
      "metadata": {
        "id": "NuGYIn1demT-"
      },
      "source": [
        "sent = '김철수는 극중 두 인격의 사나이 이광수 역을 맡았다. 철수는 한국 유일의 태권도 전승자를 가리는 결전의 날을 앞두고 10년간 함께 훈련한 사형인 유연재(김광수 분)를 찾으러 속세로 내려온 인물이다.'"
      ],
      "execution_count": null,
      "outputs": []
    },
    {
      "cell_type": "code",
      "metadata": {
        "colab": {
          "base_uri": "https://localhost:8080/"
        },
        "id": "GEgeWzT6emRh",
        "outputId": "213a7a1a-e274-48ed-8878-9e9a7194bc68"
      },
      "source": [
        "new_sent = sent.replace(\" \", '') # 띄어쓰기가 없는 문장 임의로 만들기\n",
        "print(new_sent)"
      ],
      "execution_count": null,
      "outputs": [
        {
          "output_type": "stream",
          "text": [
            "김철수는극중두인격의사나이이광수역을맡았다.철수는한국유일의태권도전승자를가리는결전의날을앞두고10년간함께훈련한사형인유연재(김광수분)를찾으러속세로내려온인물이다.\n"
          ],
          "name": "stdout"
        }
      ]
    },
    {
      "cell_type": "markdown",
      "metadata": {
        "id": "ow8OLS71fAJO"
      },
      "source": [
        " ## 2. Py-Hanspell\n",
        "  * 띄어쓰기 \n",
        "  * 맞춤법"
      ]
    },
    {
      "cell_type": "code",
      "metadata": {
        "colab": {
          "base_uri": "https://localhost:8080/"
        },
        "id": "9yESZonoefRv",
        "outputId": "c6aff9b0-e9ff-4d17-c9ce-4826d08cacbb"
      },
      "source": [
        "!pip install git+https://github.com/ssut/py-hanspell.git"
      ],
      "execution_count": null,
      "outputs": [
        {
          "output_type": "stream",
          "text": [
            "Collecting git+https://github.com/ssut/py-hanspell.git\n",
            "  Cloning https://github.com/ssut/py-hanspell.git to /tmp/pip-req-build-f4y7oky5\n",
            "  Running command git clone -q https://github.com/ssut/py-hanspell.git /tmp/pip-req-build-f4y7oky5\n",
            "Requirement already satisfied: requests in /usr/local/lib/python3.7/dist-packages (from py-hanspell==1.1) (2.23.0)\n",
            "Requirement already satisfied: certifi>=2017.4.17 in /usr/local/lib/python3.7/dist-packages (from requests->py-hanspell==1.1) (2021.5.30)\n",
            "Requirement already satisfied: idna<3,>=2.5 in /usr/local/lib/python3.7/dist-packages (from requests->py-hanspell==1.1) (2.10)\n",
            "Requirement already satisfied: chardet<4,>=3.0.2 in /usr/local/lib/python3.7/dist-packages (from requests->py-hanspell==1.1) (3.0.4)\n",
            "Requirement already satisfied: urllib3!=1.25.0,!=1.25.1,<1.26,>=1.21.1 in /usr/local/lib/python3.7/dist-packages (from requests->py-hanspell==1.1) (1.24.3)\n",
            "Building wheels for collected packages: py-hanspell\n",
            "  Building wheel for py-hanspell (setup.py) ... \u001b[?25l\u001b[?25hdone\n",
            "  Created wheel for py-hanspell: filename=py_hanspell-1.1-py3-none-any.whl size=4868 sha256=d60b9493de85da7efef108aec5de2fb63a3227fe57e668549f60d75a3993e3ca\n",
            "  Stored in directory: /tmp/pip-ephem-wheel-cache-1zv2oab2/wheels/ab/f5/7b/d4124bb329c905301baed80e2ae45aa14e824f62ebc3ec2cc4\n",
            "Successfully built py-hanspell\n",
            "Installing collected packages: py-hanspell\n",
            "Successfully installed py-hanspell-1.1\n"
          ],
          "name": "stdout"
        }
      ]
    },
    {
      "cell_type": "code",
      "metadata": {
        "colab": {
          "base_uri": "https://localhost:8080/"
        },
        "id": "eTTMWDQoenBl",
        "outputId": "d8266e09-ffb8-41fb-a1bd-105ef63c1ddd"
      },
      "source": [
        "from hanspell import spell_checker\n",
        "\n",
        "sent = \"맞춤법 틀리면 외 않되? 쓰고싶은대로쓰면돼지 \"\n",
        "spelled_sent = spell_checker.check(sent)\n",
        "\n",
        "hanspell_sent = spelled_sent.checked\n",
        "print(hanspell_sent)"
      ],
      "execution_count": null,
      "outputs": [
        {
          "output_type": "stream",
          "text": [
            "맞춤법 틀리면 왜 안돼? 쓰고 싶은 대로 쓰면 되지\n"
          ],
          "name": "stdout"
        }
      ]
    },
    {
      "cell_type": "markdown",
      "metadata": {
        "id": "IXY2YddwfDLJ"
      },
      "source": [
        "## 3. SOYNLP를 이용한 단어토큰화"
      ]
    },
    {
      "cell_type": "code",
      "metadata": {
        "colab": {
          "base_uri": "https://localhost:8080/"
        },
        "id": "TVom0AwNfBoF",
        "outputId": "0b219a54-ffb3-42e4-b502-99494182c6cd"
      },
      "source": [
        "!pip install soynlp"
      ],
      "execution_count": 1,
      "outputs": [
        {
          "output_type": "stream",
          "name": "stdout",
          "text": [
            "Collecting soynlp\n",
            "  Downloading soynlp-0.0.493-py3-none-any.whl (416 kB)\n",
            "\u001b[?25l\r\u001b[K     |▉                               | 10 kB 23.5 MB/s eta 0:00:01\r\u001b[K     |█▋                              | 20 kB 30.3 MB/s eta 0:00:01\r\u001b[K     |██▍                             | 30 kB 16.9 MB/s eta 0:00:01\r\u001b[K     |███▏                            | 40 kB 12.2 MB/s eta 0:00:01\r\u001b[K     |████                            | 51 kB 7.4 MB/s eta 0:00:01\r\u001b[K     |████▊                           | 61 kB 7.8 MB/s eta 0:00:01\r\u001b[K     |█████▌                          | 71 kB 7.5 MB/s eta 0:00:01\r\u001b[K     |██████▎                         | 81 kB 8.4 MB/s eta 0:00:01\r\u001b[K     |███████                         | 92 kB 8.1 MB/s eta 0:00:01\r\u001b[K     |███████▉                        | 102 kB 7.0 MB/s eta 0:00:01\r\u001b[K     |████████▋                       | 112 kB 7.0 MB/s eta 0:00:01\r\u001b[K     |█████████▍                      | 122 kB 7.0 MB/s eta 0:00:01\r\u001b[K     |██████████▏                     | 133 kB 7.0 MB/s eta 0:00:01\r\u001b[K     |███████████                     | 143 kB 7.0 MB/s eta 0:00:01\r\u001b[K     |███████████▉                    | 153 kB 7.0 MB/s eta 0:00:01\r\u001b[K     |████████████▋                   | 163 kB 7.0 MB/s eta 0:00:01\r\u001b[K     |█████████████▍                  | 174 kB 7.0 MB/s eta 0:00:01\r\u001b[K     |██████████████▏                 | 184 kB 7.0 MB/s eta 0:00:01\r\u001b[K     |███████████████                 | 194 kB 7.0 MB/s eta 0:00:01\r\u001b[K     |███████████████▊                | 204 kB 7.0 MB/s eta 0:00:01\r\u001b[K     |████████████████▌               | 215 kB 7.0 MB/s eta 0:00:01\r\u001b[K     |█████████████████▎              | 225 kB 7.0 MB/s eta 0:00:01\r\u001b[K     |██████████████████              | 235 kB 7.0 MB/s eta 0:00:01\r\u001b[K     |██████████████████▉             | 245 kB 7.0 MB/s eta 0:00:01\r\u001b[K     |███████████████████▋            | 256 kB 7.0 MB/s eta 0:00:01\r\u001b[K     |████████████████████▍           | 266 kB 7.0 MB/s eta 0:00:01\r\u001b[K     |█████████████████████▎          | 276 kB 7.0 MB/s eta 0:00:01\r\u001b[K     |██████████████████████          | 286 kB 7.0 MB/s eta 0:00:01\r\u001b[K     |██████████████████████▉         | 296 kB 7.0 MB/s eta 0:00:01\r\u001b[K     |███████████████████████▋        | 307 kB 7.0 MB/s eta 0:00:01\r\u001b[K     |████████████████████████▍       | 317 kB 7.0 MB/s eta 0:00:01\r\u001b[K     |█████████████████████████▏      | 327 kB 7.0 MB/s eta 0:00:01\r\u001b[K     |██████████████████████████      | 337 kB 7.0 MB/s eta 0:00:01\r\u001b[K     |██████████████████████████▊     | 348 kB 7.0 MB/s eta 0:00:01\r\u001b[K     |███████████████████████████▌    | 358 kB 7.0 MB/s eta 0:00:01\r\u001b[K     |████████████████████████████▎   | 368 kB 7.0 MB/s eta 0:00:01\r\u001b[K     |█████████████████████████████   | 378 kB 7.0 MB/s eta 0:00:01\r\u001b[K     |█████████████████████████████▉  | 389 kB 7.0 MB/s eta 0:00:01\r\u001b[K     |██████████████████████████████▋ | 399 kB 7.0 MB/s eta 0:00:01\r\u001b[K     |███████████████████████████████▌| 409 kB 7.0 MB/s eta 0:00:01\r\u001b[K     |████████████████████████████████| 416 kB 7.0 MB/s \n",
            "\u001b[?25hRequirement already satisfied: scikit-learn>=0.20.0 in /usr/local/lib/python3.7/dist-packages (from soynlp) (0.22.2.post1)\n",
            "Requirement already satisfied: numpy>=1.12.1 in /usr/local/lib/python3.7/dist-packages (from soynlp) (1.19.5)\n",
            "Requirement already satisfied: scipy>=1.1.0 in /usr/local/lib/python3.7/dist-packages (from soynlp) (1.4.1)\n",
            "Requirement already satisfied: psutil>=5.0.1 in /usr/local/lib/python3.7/dist-packages (from soynlp) (5.4.8)\n",
            "Requirement already satisfied: joblib>=0.11 in /usr/local/lib/python3.7/dist-packages (from scikit-learn>=0.20.0->soynlp) (1.0.1)\n",
            "Installing collected packages: soynlp\n",
            "Successfully installed soynlp-0.0.493\n"
          ]
        }
      ]
    },
    {
      "cell_type": "code",
      "metadata": {
        "id": "-gv2MsDrfJ5N"
      },
      "source": [
        "!pip install Konlpy > /dev/null"
      ],
      "execution_count": 2,
      "outputs": []
    },
    {
      "cell_type": "code",
      "metadata": {
        "colab": {
          "base_uri": "https://localhost:8080/"
        },
        "id": "IdjT74eXfe0-",
        "outputId": "87ef41f7-3ee8-4647-fe27-717529a3a183"
      },
      "source": [
        "# okt 사전에 없는 데이터, 학습 필요\n",
        "from konlpy.tag import Okt\n",
        "tokenizer = Okt()\n",
        "print(tokenizer.morphs('에이비식스 이대휘 1월 최애돌 기부 요정'))"
      ],
      "execution_count": 3,
      "outputs": [
        {
          "output_type": "stream",
          "name": "stdout",
          "text": [
            "['에이', '비식스', '이대', '휘', '1월', '최애', '돌', '기부', '요정']\n"
          ]
        }
      ]
    },
    {
      "cell_type": "code",
      "metadata": {
        "id": "tEeRkzF4fmbw"
      },
      "source": [
        "import urllib.request\n",
        "from soynlp import DoublespaceLineCorpus\n",
        "from soynlp.word import WordExtractor"
      ],
      "execution_count": 4,
      "outputs": []
    },
    {
      "cell_type": "code",
      "metadata": {
        "colab": {
          "base_uri": "https://localhost:8080/"
        },
        "id": "cTk6qFhYg4b_",
        "outputId": "db804f65-652f-4f67-b511-8d797a729007"
      },
      "source": [
        "urllib.request.urlretrieve(\"https://raw.githubusercontent.com/lovit/soynlp/master/tutorials/2016-10-20.txt\", filename=\"2016-10-20.txt\")"
      ],
      "execution_count": 5,
      "outputs": [
        {
          "output_type": "execute_result",
          "data": {
            "text/plain": [
              "('2016-10-20.txt', <http.client.HTTPMessage at 0x7f629cd22a10>)"
            ]
          },
          "metadata": {},
          "execution_count": 5
        }
      ]
    },
    {
      "cell_type": "code",
      "metadata": {
        "colab": {
          "base_uri": "https://localhost:8080/"
        },
        "id": "QKp96-7Bf3YD",
        "outputId": "c226dcef-e901-4902-dbc9-b0b2a2e03128"
      },
      "source": [
        "corpus = DoublespaceLineCorpus(\"2016-10-20.txt\")\n",
        "len(corpus)"
      ],
      "execution_count": 6,
      "outputs": [
        {
          "output_type": "execute_result",
          "data": {
            "text/plain": [
              "30091"
            ]
          },
          "metadata": {},
          "execution_count": 6
        }
      ]
    },
    {
      "cell_type": "code",
      "metadata": {
        "colab": {
          "base_uri": "https://localhost:8080/"
        },
        "id": "MNrfG9mDg9Z3",
        "outputId": "1672f0fc-3403-40b5-d7f7-29ef9108460a"
      },
      "source": [
        "i = 0\n",
        "for document in corpus:\n",
        "    if len(document) > 0:\n",
        "        print(document)\n",
        "        i += 1\n",
        "    if i == 3:\n",
        "        break"
      ],
      "execution_count": 7,
      "outputs": [
        {
          "output_type": "stream",
          "name": "stdout",
          "text": [
            "19  1990  52 1 22\n",
            "오패산터널 총격전 용의자 검거 서울 연합뉴스 경찰 관계자들이 19일 오후 서울 강북구 오패산 터널 인근에서 사제 총기를 발사해 경찰을 살해한 용의자 성모씨를 검거하고 있다 성씨는 검거 당시 서바이벌 게임에서 쓰는 방탄조끼에 헬멧까지 착용한 상태였다 독자제공 영상 캡처 연합뉴스  서울 연합뉴스 김은경 기자 사제 총기로 경찰을 살해한 범인 성모 46 씨는 주도면밀했다  경찰에 따르면 성씨는 19일 오후 강북경찰서 인근 부동산 업소 밖에서 부동산업자 이모 67 씨가 나오기를 기다렸다 이씨와는 평소에도 말다툼을 자주 한 것으로 알려졌다  이씨가 나와 걷기 시작하자 성씨는 따라가면서 미리 준비해온 사제 총기를 이씨에게 발사했다 총알이 빗나가면서 이씨는 도망갔다 그 빗나간 총알은 지나가던 행인 71 씨의 배를 스쳤다  성씨는 강북서 인근 치킨집까지 이씨 뒤를 쫓으며 실랑이하다 쓰러뜨린 후 총기와 함께 가져온 망치로 이씨 머리를 때렸다  이 과정에서 오후 6시 20분께 강북구 번동 길 위에서 사람들이 싸우고 있다 총소리가 났다 는 등의 신고가 여러건 들어왔다  5분 후에 성씨의 전자발찌가 훼손됐다는 신고가 보호관찰소 시스템을 통해 들어왔다 성범죄자로 전자발찌를 차고 있던 성씨는 부엌칼로 직접 자신의 발찌를 끊었다  용의자 소지 사제총기 2정 서울 연합뉴스 임헌정 기자 서울 시내에서 폭행 용의자가 현장 조사를 벌이던 경찰관에게 사제총기를 발사해 경찰관이 숨졌다 19일 오후 6시28분 강북구 번동에서 둔기로 맞았다 는 폭행 피해 신고가 접수돼 현장에서 조사하던 강북경찰서 번동파출소 소속 김모 54 경위가 폭행 용의자 성모 45 씨가 쏜 사제총기에 맞고 쓰러진 뒤 병원에 옮겨졌으나 숨졌다 사진은 용의자가 소지한 사제총기  신고를 받고 번동파출소에서 김창호 54 경위 등 경찰들이 오후 6시 29분께 현장으로 출동했다 성씨는 그사이 부동산 앞에 놓아뒀던 가방을 챙겨 오패산 쪽으로 도망간 후였다  김 경위는 오패산 터널 입구 오른쪽의 급경사에서 성씨에게 접근하다가 오후 6시 33분께 풀숲에 숨은 성씨가 허공에 난사한 10여발의 총알 중 일부를 왼쪽 어깨 뒷부분에 맞고 쓰러졌다  김 경위는 구급차가 도착했을 때 이미 의식이 없었고 심폐소생술을 하며 병원으로 옮겨졌으나 총알이 폐를 훼손해 오후 7시 40분께 사망했다  김 경위는 외근용 조끼를 입고 있었으나 총알을 막기에는 역부족이었다  머리에 부상을 입은 이씨도 함께 병원으로 이송됐으나 생명에는 지장이 없는 것으로 알려졌다  성씨는 오패산 터널 밑쪽 숲에서 오후 6시 45분께 잡혔다  총격현장 수색하는 경찰들 서울 연합뉴스 이효석 기자 19일 오후 서울 강북구 오패산 터널 인근에서 경찰들이 폭행 용의자가 사제총기를 발사해 경찰관이 사망한 사건을 조사 하고 있다  총 때문에 쫓던 경관들과 민간인들이 몸을 숨겼는데 인근 신발가게 직원 이모씨가 다가가 성씨를 덮쳤고 이어 현장에 있던 다른 상인들과 경찰이 가세해 체포했다  성씨는 경찰에 붙잡힌 직후 나 자살하려고 한 거다 맞아 죽어도 괜찮다 고 말한 것으로 전해졌다  성씨 자신도 경찰이 발사한 공포탄 1발 실탄 3발 중 실탄 1발을 배에 맞았으나 방탄조끼를 입은 상태여서 부상하지는 않았다  경찰은 인근을 수색해 성씨가 만든 사제총 16정과 칼 7개를 압수했다 실제 폭발할지는 알 수 없는 요구르트병에 무언가를 채워두고 심지를 꽂은 사제 폭탄도 발견됐다  일부는 숲에서 발견됐고 일부는 성씨가 소지한 가방 안에 있었다\n",
            "테헤란 연합뉴스 강훈상 특파원 이용 승객수 기준 세계 최대 공항인 아랍에미리트 두바이국제공항은 19일 현지시간 이 공항을 이륙하는 모든 항공기의 탑승객은 삼성전자의 갤럭시노트7을 휴대하면 안 된다고 밝혔다  두바이국제공항은 여러 항공 관련 기구의 권고에 따라 안전성에 우려가 있는 스마트폰 갤럭시노트7을 휴대하고 비행기를 타면 안 된다 며 탑승 전 검색 중 발견되면 압수할 계획 이라고 발표했다  공항 측은 갤럭시노트7의 배터리가 폭발 우려가 제기된 만큼 이 제품을 갖고 공항 안으로 들어오지 말라고 이용객에 당부했다  이런 조치는 두바이국제공항 뿐 아니라 신공항인 두바이월드센터에도 적용된다  배터리 폭발문제로 회수된 갤럭시노트7 연합뉴스자료사진\n"
          ]
        }
      ]
    },
    {
      "cell_type": "code",
      "metadata": {
        "colab": {
          "base_uri": "https://localhost:8080/"
        },
        "id": "gmI-SEaVh1AY",
        "outputId": "7b08c287-0e7c-479a-f869-3654ef7b3a9f"
      },
      "source": [
        "word_extractor = WordExtractor()\n",
        "word_extractor.train(corpus)\n",
        "word_score_table = word_extractor.extract()"
      ],
      "execution_count": 11,
      "outputs": [
        {
          "output_type": "stream",
          "name": "stdout",
          "text": [
            "training was done. used memory 1.389 Gb\n",
            "all cohesion probabilities was computed. # words = 223348\n",
            "all branching entropies was computed # words = 361598\n",
            "all accessor variety was computed # words = 361598\n"
          ]
        }
      ]
    },
    {
      "cell_type": "code",
      "metadata": {
        "colab": {
          "base_uri": "https://localhost:8080/"
        },
        "id": "Y5Ao0ljNh5Yx",
        "outputId": "49caac26-383e-4f5e-c72a-f4eda1f7439e"
      },
      "source": [
        "word_score_table[\"반포한강공원\"].cohesion_forward"
      ],
      "execution_count": 12,
      "outputs": [
        {
          "output_type": "execute_result",
          "data": {
            "text/plain": [
              "0.37891487632839754"
            ]
          },
          "metadata": {},
          "execution_count": 12
        }
      ]
    },
    {
      "cell_type": "code",
      "metadata": {
        "id": "uOIpSQ2cihmX",
        "colab": {
          "base_uri": "https://localhost:8080/"
        },
        "outputId": "b898ec5c-f8ca-47ec-e0bf-87fadc60459a"
      },
      "source": [
        "word_score_table[\"반포한강공원에\"].cohesion_forward"
      ],
      "execution_count": 13,
      "outputs": [
        {
          "output_type": "execute_result",
          "data": {
            "text/plain": [
              "0.33492963377557666"
            ]
          },
          "metadata": {},
          "execution_count": 13
        }
      ]
    },
    {
      "cell_type": "markdown",
      "metadata": {
        "id": "0FVIeLdANKF6"
      },
      "source": [
        "* Soylnp의 L tokenizer\n",
        "  - L 토크나이저는 L 토큰 + R 토큰으로 나누되, 분리 기준을 점수가 가장 높은 L 토큰을 찾아내는 원리"
      ]
    },
    {
      "cell_type": "code",
      "metadata": {
        "colab": {
          "base_uri": "https://localhost:8080/"
        },
        "id": "LJYCQu7rOVga",
        "outputId": "fa2d5d40-b833-44aa-e3e7-59d196d71a8a"
      },
      "source": [
        "from soynlp.tokenizer import LTokenizer\n",
        "\n",
        "scores = {word:score.cohesion_forward for word, score in word_score_table.items()}\n",
        "l_tokenizer = LTokenizer(scores=scores)\n",
        "l_tokenizer.tokenize(\"국제사회와 우리의 노력들로 범죄를 척결하자\", flatten=False)"
      ],
      "execution_count": 15,
      "outputs": [
        {
          "output_type": "execute_result",
          "data": {
            "text/plain": [
              "[('국제사회', '와'), ('우리', '의'), ('노력', '들로'), ('범죄', '를'), ('척결', '하자')]"
            ]
          },
          "metadata": {},
          "execution_count": 15
        }
      ]
    },
    {
      "cell_type": "markdown",
      "metadata": {
        "id": "UIWfz7L0OfpM"
      },
      "source": [
        "* SOYNLP를 이용한 반복되는 문자 정제\n",
        "  - 띄어쓰기가 되어 있지 않은 문장을 넣어서 점수를 통해 토큰화 된 결과"
      ]
    },
    {
      "cell_type": "code",
      "metadata": {
        "id": "gLmHXFUJij2H",
        "colab": {
          "base_uri": "https://localhost:8080/"
        },
        "outputId": "b01a5284-fea1-4afd-ecde-e4c6029b2547"
      },
      "source": [
        "from soynlp.tokenizer import LTokenizer\n",
        "\n",
        "scores = {word:score.cohesion_forward for word, score in word_score_table.items()}\n",
        "l_tokenizer = LTokenizer(scores=scores)\n",
        "l_tokenizer.tokenize(\"국제사회와 우리의 노력들로 범죄를 척결하자\", flatten=False)"
      ],
      "execution_count": 14,
      "outputs": [
        {
          "output_type": "execute_result",
          "data": {
            "text/plain": [
              "[('국제사회', '와'), ('우리', '의'), ('노력', '들로'), ('범죄', '를'), ('척결', '하자')]"
            ]
          },
          "metadata": {},
          "execution_count": 14
        }
      ]
    },
    {
      "cell_type": "markdown",
      "metadata": {
        "id": "88TrP6HXOtQI"
      },
      "source": [
        "SOYNLP를 이용한 반복되는 문자 정제"
      ]
    },
    {
      "cell_type": "code",
      "metadata": {
        "id": "NcM9CNfaNTMN"
      },
      "source": [
        "from soynlp.normalizer import *"
      ],
      "execution_count": 17,
      "outputs": []
    },
    {
      "cell_type": "code",
      "metadata": {
        "colab": {
          "base_uri": "https://localhost:8080/"
        },
        "id": "MOBI_NQSOvgT",
        "outputId": "89ca0d2d-88c7-41e8-e70b-f9d31fac1792"
      },
      "source": [
        "print(emoticon_normalize('앜ㅋㅋㅋㅋ이영화존잼쓰ㅠㅠㅠㅠㅠ', num_repeats=2))\n",
        "print(emoticon_normalize('앜ㅋㅋㅋㅋㅋㅋㅋㅋㅋ이영화존잼쓰ㅠㅠㅠㅠ', num_repeats=2))\n",
        "print(emoticon_normalize('앜ㅋㅋㅋㅋㅋㅋㅋㅋㅋㅋㅋㅋ이영화존잼쓰ㅠㅠㅠㅠㅠㅠ', num_repeats=2))\n",
        "print(emoticon_normalize('앜ㅋㅋㅋㅋㅋㅋㅋㅋㅋㅋㅋㅋㅋㅋㅋㅋㅋ이영화존잼쓰ㅠㅠㅠㅠㅠㅠㅠㅠ', num_repeats=2))"
      ],
      "execution_count": 18,
      "outputs": [
        {
          "output_type": "stream",
          "name": "stdout",
          "text": [
            "아ㅋㅋ영화존잼쓰ㅠㅠ\n",
            "아ㅋㅋ영화존잼쓰ㅠㅠ\n",
            "아ㅋㅋ영화존잼쓰ㅠㅠ\n",
            "아ㅋㅋ영화존잼쓰ㅠㅠ\n"
          ]
        }
      ]
    },
    {
      "cell_type": "code",
      "metadata": {
        "colab": {
          "base_uri": "https://localhost:8080/"
        },
        "id": "hQRolj7BOyY0",
        "outputId": "b1b726b9-f003-49ab-9af4-a7358cbb3a49"
      },
      "source": [
        "print(repeat_normalize('와하하하하하하하하하핫', num_repeats=2))\n",
        "print(repeat_normalize('와하하하하하하핫', num_repeats=2))\n",
        "print(repeat_normalize('와하하하하핫', num_repeats=2))"
      ],
      "execution_count": 20,
      "outputs": [
        {
          "output_type": "stream",
          "name": "stdout",
          "text": [
            "와하하핫\n",
            "와하하핫\n",
            "와하하핫\n"
          ]
        }
      ]
    },
    {
      "cell_type": "markdown",
      "metadata": {
        "id": "PcmPy81cO4Q9"
      },
      "source": [
        "## 4. Customized KoNLPy\n",
        "-  형태소 분석기에 사용자 사전을 추가"
      ]
    },
    {
      "cell_type": "code",
      "metadata": {
        "colab": {
          "base_uri": "https://localhost:8080/"
        },
        "id": "uhLfc_MqO0W4",
        "outputId": "edcf76ea-6188-4b6c-b872-47bcce109116"
      },
      "source": [
        "!pip install customized_konlpy"
      ],
      "execution_count": 21,
      "outputs": [
        {
          "output_type": "stream",
          "name": "stdout",
          "text": [
            "Collecting customized_konlpy\n",
            "  Downloading customized_konlpy-0.0.64-py3-none-any.whl (881 kB)\n",
            "\u001b[?25l\r\u001b[K     |▍                               | 10 kB 23.2 MB/s eta 0:00:01\r\u001b[K     |▊                               | 20 kB 27.1 MB/s eta 0:00:01\r\u001b[K     |█▏                              | 30 kB 21.7 MB/s eta 0:00:01\r\u001b[K     |█▌                              | 40 kB 17.7 MB/s eta 0:00:01\r\u001b[K     |█▉                              | 51 kB 8.3 MB/s eta 0:00:01\r\u001b[K     |██▎                             | 61 kB 8.0 MB/s eta 0:00:01\r\u001b[K     |██▋                             | 71 kB 8.4 MB/s eta 0:00:01\r\u001b[K     |███                             | 81 kB 9.4 MB/s eta 0:00:01\r\u001b[K     |███▍                            | 92 kB 9.5 MB/s eta 0:00:01\r\u001b[K     |███▊                            | 102 kB 7.8 MB/s eta 0:00:01\r\u001b[K     |████                            | 112 kB 7.8 MB/s eta 0:00:01\r\u001b[K     |████▌                           | 122 kB 7.8 MB/s eta 0:00:01\r\u001b[K     |████▉                           | 133 kB 7.8 MB/s eta 0:00:01\r\u001b[K     |█████▏                          | 143 kB 7.8 MB/s eta 0:00:01\r\u001b[K     |█████▋                          | 153 kB 7.8 MB/s eta 0:00:01\r\u001b[K     |██████                          | 163 kB 7.8 MB/s eta 0:00:01\r\u001b[K     |██████▎                         | 174 kB 7.8 MB/s eta 0:00:01\r\u001b[K     |██████▊                         | 184 kB 7.8 MB/s eta 0:00:01\r\u001b[K     |███████                         | 194 kB 7.8 MB/s eta 0:00:01\r\u001b[K     |███████▍                        | 204 kB 7.8 MB/s eta 0:00:01\r\u001b[K     |███████▉                        | 215 kB 7.8 MB/s eta 0:00:01\r\u001b[K     |████████▏                       | 225 kB 7.8 MB/s eta 0:00:01\r\u001b[K     |████████▌                       | 235 kB 7.8 MB/s eta 0:00:01\r\u001b[K     |█████████                       | 245 kB 7.8 MB/s eta 0:00:01\r\u001b[K     |█████████▎                      | 256 kB 7.8 MB/s eta 0:00:01\r\u001b[K     |█████████▋                      | 266 kB 7.8 MB/s eta 0:00:01\r\u001b[K     |██████████                      | 276 kB 7.8 MB/s eta 0:00:01\r\u001b[K     |██████████▍                     | 286 kB 7.8 MB/s eta 0:00:01\r\u001b[K     |██████████▉                     | 296 kB 7.8 MB/s eta 0:00:01\r\u001b[K     |███████████▏                    | 307 kB 7.8 MB/s eta 0:00:01\r\u001b[K     |███████████▌                    | 317 kB 7.8 MB/s eta 0:00:01\r\u001b[K     |████████████                    | 327 kB 7.8 MB/s eta 0:00:01\r\u001b[K     |████████████▎                   | 337 kB 7.8 MB/s eta 0:00:01\r\u001b[K     |████████████▋                   | 348 kB 7.8 MB/s eta 0:00:01\r\u001b[K     |█████████████                   | 358 kB 7.8 MB/s eta 0:00:01\r\u001b[K     |█████████████▍                  | 368 kB 7.8 MB/s eta 0:00:01\r\u001b[K     |█████████████▊                  | 378 kB 7.8 MB/s eta 0:00:01\r\u001b[K     |██████████████▏                 | 389 kB 7.8 MB/s eta 0:00:01\r\u001b[K     |██████████████▌                 | 399 kB 7.8 MB/s eta 0:00:01\r\u001b[K     |██████████████▉                 | 409 kB 7.8 MB/s eta 0:00:01\r\u001b[K     |███████████████▎                | 419 kB 7.8 MB/s eta 0:00:01\r\u001b[K     |███████████████▋                | 430 kB 7.8 MB/s eta 0:00:01\r\u001b[K     |████████████████                | 440 kB 7.8 MB/s eta 0:00:01\r\u001b[K     |████████████████▍               | 450 kB 7.8 MB/s eta 0:00:01\r\u001b[K     |████████████████▊               | 460 kB 7.8 MB/s eta 0:00:01\r\u001b[K     |█████████████████               | 471 kB 7.8 MB/s eta 0:00:01\r\u001b[K     |█████████████████▌              | 481 kB 7.8 MB/s eta 0:00:01\r\u001b[K     |█████████████████▉              | 491 kB 7.8 MB/s eta 0:00:01\r\u001b[K     |██████████████████▏             | 501 kB 7.8 MB/s eta 0:00:01\r\u001b[K     |██████████████████▋             | 512 kB 7.8 MB/s eta 0:00:01\r\u001b[K     |███████████████████             | 522 kB 7.8 MB/s eta 0:00:01\r\u001b[K     |███████████████████▎            | 532 kB 7.8 MB/s eta 0:00:01\r\u001b[K     |███████████████████▊            | 542 kB 7.8 MB/s eta 0:00:01\r\u001b[K     |████████████████████            | 552 kB 7.8 MB/s eta 0:00:01\r\u001b[K     |████████████████████▌           | 563 kB 7.8 MB/s eta 0:00:01\r\u001b[K     |████████████████████▉           | 573 kB 7.8 MB/s eta 0:00:01\r\u001b[K     |█████████████████████▏          | 583 kB 7.8 MB/s eta 0:00:01\r\u001b[K     |█████████████████████▋          | 593 kB 7.8 MB/s eta 0:00:01\r\u001b[K     |██████████████████████          | 604 kB 7.8 MB/s eta 0:00:01\r\u001b[K     |██████████████████████▎         | 614 kB 7.8 MB/s eta 0:00:01\r\u001b[K     |██████████████████████▊         | 624 kB 7.8 MB/s eta 0:00:01\r\u001b[K     |███████████████████████         | 634 kB 7.8 MB/s eta 0:00:01\r\u001b[K     |███████████████████████▍        | 645 kB 7.8 MB/s eta 0:00:01\r\u001b[K     |███████████████████████▉        | 655 kB 7.8 MB/s eta 0:00:01\r\u001b[K     |████████████████████████▏       | 665 kB 7.8 MB/s eta 0:00:01\r\u001b[K     |████████████████████████▌       | 675 kB 7.8 MB/s eta 0:00:01\r\u001b[K     |█████████████████████████       | 686 kB 7.8 MB/s eta 0:00:01\r\u001b[K     |█████████████████████████▎      | 696 kB 7.8 MB/s eta 0:00:01\r\u001b[K     |█████████████████████████▋      | 706 kB 7.8 MB/s eta 0:00:01\r\u001b[K     |██████████████████████████      | 716 kB 7.8 MB/s eta 0:00:01\r\u001b[K     |██████████████████████████▍     | 727 kB 7.8 MB/s eta 0:00:01\r\u001b[K     |██████████████████████████▊     | 737 kB 7.8 MB/s eta 0:00:01\r\u001b[K     |███████████████████████████▏    | 747 kB 7.8 MB/s eta 0:00:01\r\u001b[K     |███████████████████████████▌    | 757 kB 7.8 MB/s eta 0:00:01\r\u001b[K     |███████████████████████████▉    | 768 kB 7.8 MB/s eta 0:00:01\r\u001b[K     |████████████████████████████▎   | 778 kB 7.8 MB/s eta 0:00:01\r\u001b[K     |████████████████████████████▋   | 788 kB 7.8 MB/s eta 0:00:01\r\u001b[K     |█████████████████████████████   | 798 kB 7.8 MB/s eta 0:00:01\r\u001b[K     |█████████████████████████████▍  | 808 kB 7.8 MB/s eta 0:00:01\r\u001b[K     |█████████████████████████████▊  | 819 kB 7.8 MB/s eta 0:00:01\r\u001b[K     |██████████████████████████████▏ | 829 kB 7.8 MB/s eta 0:00:01\r\u001b[K     |██████████████████████████████▌ | 839 kB 7.8 MB/s eta 0:00:01\r\u001b[K     |██████████████████████████████▉ | 849 kB 7.8 MB/s eta 0:00:01\r\u001b[K     |███████████████████████████████▎| 860 kB 7.8 MB/s eta 0:00:01\r\u001b[K     |███████████████████████████████▋| 870 kB 7.8 MB/s eta 0:00:01\r\u001b[K     |████████████████████████████████| 880 kB 7.8 MB/s eta 0:00:01\r\u001b[K     |████████████████████████████████| 881 kB 7.8 MB/s \n",
            "\u001b[?25hRequirement already satisfied: konlpy>=0.4.4 in /usr/local/lib/python3.7/dist-packages (from customized_konlpy) (0.5.2)\n",
            "Requirement already satisfied: Jpype1>=0.6.1 in /usr/local/lib/python3.7/dist-packages (from customized_konlpy) (1.3.0)\n",
            "Requirement already satisfied: typing-extensions in /usr/local/lib/python3.7/dist-packages (from Jpype1>=0.6.1->customized_konlpy) (3.7.4.3)\n",
            "Requirement already satisfied: lxml>=4.1.0 in /usr/local/lib/python3.7/dist-packages (from konlpy>=0.4.4->customized_konlpy) (4.2.6)\n",
            "Requirement already satisfied: tweepy>=3.7.0 in /usr/local/lib/python3.7/dist-packages (from konlpy>=0.4.4->customized_konlpy) (3.10.0)\n",
            "Requirement already satisfied: colorama in /usr/local/lib/python3.7/dist-packages (from konlpy>=0.4.4->customized_konlpy) (0.4.4)\n",
            "Requirement already satisfied: numpy>=1.6 in /usr/local/lib/python3.7/dist-packages (from konlpy>=0.4.4->customized_konlpy) (1.19.5)\n",
            "Requirement already satisfied: beautifulsoup4==4.6.0 in /usr/local/lib/python3.7/dist-packages (from konlpy>=0.4.4->customized_konlpy) (4.6.0)\n",
            "Requirement already satisfied: requests[socks]>=2.11.1 in /usr/local/lib/python3.7/dist-packages (from tweepy>=3.7.0->konlpy>=0.4.4->customized_konlpy) (2.23.0)\n",
            "Requirement already satisfied: six>=1.10.0 in /usr/local/lib/python3.7/dist-packages (from tweepy>=3.7.0->konlpy>=0.4.4->customized_konlpy) (1.15.0)\n",
            "Requirement already satisfied: requests-oauthlib>=0.7.0 in /usr/local/lib/python3.7/dist-packages (from tweepy>=3.7.0->konlpy>=0.4.4->customized_konlpy) (1.3.0)\n",
            "Requirement already satisfied: oauthlib>=3.0.0 in /usr/local/lib/python3.7/dist-packages (from requests-oauthlib>=0.7.0->tweepy>=3.7.0->konlpy>=0.4.4->customized_konlpy) (3.1.1)\n",
            "Requirement already satisfied: urllib3!=1.25.0,!=1.25.1,<1.26,>=1.21.1 in /usr/local/lib/python3.7/dist-packages (from requests[socks]>=2.11.1->tweepy>=3.7.0->konlpy>=0.4.4->customized_konlpy) (1.24.3)\n",
            "Requirement already satisfied: certifi>=2017.4.17 in /usr/local/lib/python3.7/dist-packages (from requests[socks]>=2.11.1->tweepy>=3.7.0->konlpy>=0.4.4->customized_konlpy) (2021.5.30)\n",
            "Requirement already satisfied: idna<3,>=2.5 in /usr/local/lib/python3.7/dist-packages (from requests[socks]>=2.11.1->tweepy>=3.7.0->konlpy>=0.4.4->customized_konlpy) (2.10)\n",
            "Requirement already satisfied: chardet<4,>=3.0.2 in /usr/local/lib/python3.7/dist-packages (from requests[socks]>=2.11.1->tweepy>=3.7.0->konlpy>=0.4.4->customized_konlpy) (3.0.4)\n",
            "Requirement already satisfied: PySocks!=1.5.7,>=1.5.6 in /usr/local/lib/python3.7/dist-packages (from requests[socks]>=2.11.1->tweepy>=3.7.0->konlpy>=0.4.4->customized_konlpy) (1.7.1)\n",
            "Installing collected packages: customized-konlpy\n",
            "Successfully installed customized-konlpy-0.0.64\n"
          ]
        }
      ]
    },
    {
      "cell_type": "code",
      "metadata": {
        "colab": {
          "base_uri": "https://localhost:8080/"
        },
        "id": "oIzU8hBaO771",
        "outputId": "45cdecc8-0674-42c5-c39a-c9bd7809f4fc"
      },
      "source": [
        "from ckonlpy.tag import Twitter\n",
        "twitter = Twitter()\n",
        "twitter.morphs('은경이는 사무실로 갔습니다.')"
      ],
      "execution_count": 22,
      "outputs": [
        {
          "output_type": "stream",
          "name": "stderr",
          "text": [
            "/usr/local/lib/python3.7/dist-packages/konlpy/tag/_okt.py:16: UserWarning: \"Twitter\" has changed to \"Okt\" since KoNLPy v0.4.5.\n",
            "  warn('\"Twitter\" has changed to \"Okt\" since KoNLPy v0.4.5.')\n"
          ]
        },
        {
          "output_type": "execute_result",
          "data": {
            "text/plain": [
              "['은', '경이', '는', '사무실', '로', '갔습니다', '.']"
            ]
          },
          "metadata": {},
          "execution_count": 22
        }
      ]
    },
    {
      "cell_type": "code",
      "metadata": {
        "id": "5Jok0GQ5PGkP"
      },
      "source": [
        "twitter.add_dictionary('은경이', 'Noun')"
      ],
      "execution_count": 24,
      "outputs": []
    },
    {
      "cell_type": "code",
      "metadata": {
        "colab": {
          "base_uri": "https://localhost:8080/"
        },
        "id": "zH8pB9YvPI4J",
        "outputId": "b999b80b-6f13-44ec-a73d-d50438c4534f"
      },
      "source": [
        "twitter.morphs('은경이는 사무실로 갔습니다.')"
      ],
      "execution_count": 25,
      "outputs": [
        {
          "output_type": "execute_result",
          "data": {
            "text/plain": [
              "['은경이', '는', '사무실', '로', '갔습니다', '.']"
            ]
          },
          "metadata": {},
          "execution_count": 25
        }
      ]
    }
  ]
}