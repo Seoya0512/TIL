{
 "cells": [
  {
   "cell_type": "code",
   "execution_count": 30,
   "source": [
    "from selenium import webdriver\n",
    "from bs4 import BeautifulSoup\n",
    "import time\n",
    "import pandas as pd\n",
    "from urllib.parse import quote"
   ],
   "outputs": [],
   "metadata": {}
  },
  {
   "cell_type": "code",
   "execution_count": 31,
   "source": [
    "chromedriver ='/Users/youngseolee/Downloads/chromedriver'\n",
    "driver = webdriver.Chrome(chromedriver)"
   ],
   "outputs": [],
   "metadata": {}
  },
  {
   "cell_type": "code",
   "execution_count": 32,
   "source": [
    "base_url='https://kin.naver.com/search/list.naver?query='\n",
    "url = base_url +quote('여친선물')\n",
    "driver.get(url)"
   ],
   "outputs": [],
   "metadata": {}
  },
  {
   "cell_type": "code",
   "execution_count": 5,
   "source": [
    "html = driver.page_source\n",
    "soup =BeautifulSoup(html, 'html.parser')"
   ],
   "outputs": [],
   "metadata": {}
  },
  {
   "cell_type": "code",
   "execution_count": 6,
   "source": [
    "lis = soup.select('ul.basic1 > li')\n",
    "len(lis)"
   ],
   "outputs": [
    {
     "output_type": "execute_result",
     "data": {
      "text/plain": [
       "10"
      ]
     },
     "metadata": {},
     "execution_count": 6
    }
   ],
   "metadata": {}
  },
  {
   "cell_type": "code",
   "execution_count": 7,
   "source": [
    "li = lis[0]\n",
    "sub_url = li.select_one('a._searchListTitleAnchor')['href']\n",
    "sub_url"
   ],
   "outputs": [
    {
     "output_type": "execute_result",
     "data": {
      "text/plain": [
       "'https://kin.naver.com/qna/detail.naver?d1id=8&dirId=80101&docId=395035694&qb=7Jes7Lmc7ISg66y8&enc=utf8&section=kin&rank=1&search_sort=0&spq=0'"
      ]
     },
     "metadata": {},
     "execution_count": 7
    }
   ],
   "metadata": {}
  },
  {
   "cell_type": "code",
   "execution_count": 8,
   "source": [
    "driver.get(sub_url)"
   ],
   "outputs": [],
   "metadata": {}
  },
  {
   "cell_type": "code",
   "execution_count": 14,
   "source": [
    "count = int(driver.find_element_by_css_selector('._answerCount.num').text)\n",
    "answer_page = (count-1) //5         # 한 페이지 당 5개의 포스트 \n",
    "print(count,answer_page)"
   ],
   "outputs": [
    {
     "output_type": "stream",
     "name": "stdout",
     "text": [
      "8 1\n"
     ]
    }
   ],
   "metadata": {}
  },
  {
   "cell_type": "code",
   "execution_count": 15,
   "source": [
    "for i in range(answer_page):\n",
    "    driver.find_element_by_id('nextPageButton').click()\n",
    "    time.sleep(2)"
   ],
   "outputs": [],
   "metadata": {}
  },
  {
   "cell_type": "code",
   "execution_count": 16,
   "source": [
    "html = driver.page_source\n",
    "soup = BeautifulSoup(html, 'html.parser')"
   ],
   "outputs": [],
   "metadata": {}
  },
  {
   "cell_type": "code",
   "execution_count": 20,
   "source": [
    "divs = soup.select('div.answer-content__item._contentWrap._answer')\n",
    "len(divs)"
   ],
   "outputs": [
    {
     "output_type": "execute_result",
     "data": {
      "text/plain": [
       "8"
      ]
     },
     "metadata": {},
     "execution_count": 20
    }
   ],
   "metadata": {}
  },
  {
   "cell_type": "code",
   "execution_count": 21,
   "source": [
    "div = divs[0]\n",
    "ps = div.select('p.se-text-paragraph')\n",
    "for p in ps:\n",
    "    print(p.get_text())"
   ],
   "outputs": [
    {
     "output_type": "stream",
     "name": "stdout",
     "text": [
      "혹시 여친분이 생리통이 있으시다면..여친선물로 복부온열기 어떠세요?\n",
      "저 생리통 너무 심해서 이번에 남자친구가 복부온열기 선물줬는데..\n",
      "뭔가 감동이더라구요. 절 많이 생각해서 준 선물 같이 느껴지더라구요.\n",
      "하고있으면 배가 뜨듯하고 진동마사지도 해줘서 생리통 거의 안느껴지고 좋아요!!\n",
      "​\n",
      "제가 쓰는건 배뜨끈 복부온열기이예요. 아래에 링크알려드릴게요.\n",
      "좋은 여친선물이 되셨으면 좋겠네요.\n"
     ]
    }
   ],
   "metadata": {}
  },
  {
   "cell_type": "code",
   "execution_count": 22,
   "source": [
    "driver.back()"
   ],
   "outputs": [],
   "metadata": {}
  },
  {
   "cell_type": "markdown",
   "source": [
    "## 첫 페이지의 8개 컨테츠 for loop 사용해서 들고오기"
   ],
   "metadata": {}
  },
  {
   "cell_type": "code",
   "execution_count": 28,
   "source": [
    "answer_list=[]\n",
    "for li in lis:\n",
    "    sub_url = li.select_one('a._searchListTitleAnchor')['href']\n",
    "    driver.get(sub_url)\n",
    "    time.sleep(2)\n",
    "\n",
    "    count = int(driver.find_element_by_css_selector('._answerCount.num').text)\n",
    "    answer_page = (count-1)//5\n",
    "    print(count, end=', ')\n",
    "    for i in range(answer_page):\n",
    "        driver.find_element_by_id('nextPageButton').click()\n",
    "        time.sleep(2)\n",
    "\n",
    "    html = driver.page_source\n",
    "    soup = BeautifulSoup(html, 'html.parser')\n",
    "    divs = soup.select('div.answer-content__item._contentWrap._answer')\n",
    "    print(len(divs))\n",
    "    for div in divs:\n",
    "        ps = div.select('p.se-text-paragraph')\n",
    "        for p in ps:\n",
    "            text = p.get_text()\n",
    "            answer_list.append(text)\n",
    "\n",
    "    driver.back()        \n",
    "    time.sleep(2)"
   ],
   "outputs": [
    {
     "output_type": "stream",
     "name": "stdout",
     "text": [
      "8, 8\n",
      "8, 8\n",
      "20, 20\n",
      "7, 7\n",
      "3, 3\n",
      "8, 8\n",
      "10, 10\n",
      "10, 10\n",
      "13, 13\n",
      "12, 12\n"
     ]
    }
   ],
   "metadata": {}
  },
  {
   "cell_type": "code",
   "execution_count": 34,
   "source": [
    "answer_list = []\n",
    "for page in range(1,11):\n",
    "    print('page', page)\n",
    "    url = f\"{base_url}{quote('여친선물')}&page={page}\"\n",
    "    driver.get(url)\n",
    "    time.sleep(2)\n",
    "\n",
    "    html = driver.page_source\n",
    "    soup = BeautifulSoup(html, 'html.parser')\n",
    "    lis = soup.select('ul.basic1 > li')\n",
    "\n",
    "    for li in lis:\n",
    "        sub_url = li.select_one('a._searchListTitleAnchor')['href']\n",
    "        driver.get(sub_url)\n",
    "        time.sleep(2)\n",
    "\n",
    "        count = int(driver.find_element_by_css_selector('._answerCount.num').text)\n",
    "        answer_page = (count - 1) // 5\n",
    "        #print(count, end=', ')\n",
    "        for i in range(answer_page):\n",
    "            driver.find_element_by_id('nextPageButton').click()\n",
    "            time.sleep(2)\n",
    "\n",
    "        html = driver.page_source\n",
    "        soup = BeautifulSoup(html, 'html.parser')\n",
    "        divs = soup.select('div.answer-content__item._contentWrap._answer')\n",
    "        #print(len(divs))\n",
    "        for div in divs:\n",
    "            ps = div.select('p.se-text-paragraph')\n",
    "            for p in ps:\n",
    "                text = p.get_text()\n",
    "                if text == ' ' or text == '\\u200b':\n",
    "                    continue\n",
    "                answer_list.append(text)\n",
    "\n",
    "        driver.back()\n",
    "        time.sleep(2)\n"
   ],
   "outputs": [
    {
     "output_type": "stream",
     "name": "stdout",
     "text": [
      "page 1\n",
      "page 2\n",
      "page 3\n",
      "page 4\n",
      "page 5\n",
      "page 6\n",
      "page 7\n",
      "page 8\n",
      "page 9\n",
      "page 10\n"
     ]
    }
   ],
   "metadata": {}
  },
  {
   "cell_type": "code",
   "execution_count": 35,
   "source": [
    "len(answer_list)"
   ],
   "outputs": [
    {
     "output_type": "execute_result",
     "data": {
      "text/plain": [
       "4801"
      ]
     },
     "metadata": {},
     "execution_count": 35
    }
   ],
   "metadata": {}
  },
  {
   "cell_type": "code",
   "execution_count": 36,
   "source": [
    "answer_list[0]"
   ],
   "outputs": [
    {
     "output_type": "execute_result",
     "data": {
      "text/plain": [
       "'혹시 여친분이 생리통이 있으시다면..여친선물로 복부온열기 어떠세요?'"
      ]
     },
     "metadata": {},
     "execution_count": 36
    }
   ],
   "metadata": {}
  },
  {
   "cell_type": "code",
   "execution_count": 37,
   "source": [
    "with open('new_gift.txt','w', encoding='utf-8') as fp:\n",
    "    for answer in answer_list:\n",
    "        fp.write(answer + '\\n') "
   ],
   "outputs": [],
   "metadata": {}
  },
  {
   "cell_type": "code",
   "execution_count": 38,
   "source": [
    "driver.close()"
   ],
   "outputs": [],
   "metadata": {}
  },
  {
   "cell_type": "code",
   "execution_count": null,
   "source": [],
   "outputs": [],
   "metadata": {}
  }
 ],
 "metadata": {
  "orig_nbformat": 4,
  "language_info": {
   "name": "python",
   "version": "3.8.11",
   "mimetype": "text/x-python",
   "codemirror_mode": {
    "name": "ipython",
    "version": 3
   },
   "pygments_lexer": "ipython3",
   "nbconvert_exporter": "python",
   "file_extension": ".py"
  },
  "kernelspec": {
   "name": "python3",
   "display_name": "Python 3.8.11 64-bit ('base': conda)"
  },
  "interpreter": {
   "hash": "59aa76eec713a2e656bb9d4ddb5f36b21f3d4006b36f877fc5669415524b1415"
  }
 },
 "nbformat": 4,
 "nbformat_minor": 2
}