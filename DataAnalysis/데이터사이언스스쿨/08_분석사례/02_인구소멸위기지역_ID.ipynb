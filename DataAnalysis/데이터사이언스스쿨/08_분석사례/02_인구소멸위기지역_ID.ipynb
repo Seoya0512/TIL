{
  "nbformat": 4,
  "nbformat_minor": 0,
  "metadata": {
    "colab": {
      "name": "02_인구소멸위기지역_ID.ipynb",
      "provenance": [],
      "collapsed_sections": []
    },
    "kernelspec": {
      "name": "python3",
      "display_name": "Python 3"
    },
    "language_info": {
      "name": "python"
    }
  },
  "cells": [
    {
      "cell_type": "markdown",
      "metadata": {
        "id": "rv3N3Rls50Y5"
      },
      "source": [
        "# 인구 소멸 위기지역 - ID 부여"
      ]
    },
    {
      "cell_type": "code",
      "metadata": {
        "id": "r4eRuqe05tBj"
      },
      "source": [
        "import numpy as np\n",
        "import pandas as pd\n",
        "import warnings \n",
        "warnings.filterwarnings('ignore')"
      ],
      "execution_count": 1,
      "outputs": []
    },
    {
      "cell_type": "code",
      "metadata": {
        "colab": {
          "base_uri": "https://localhost:8080/"
        },
        "id": "bxTNhEqU59LF",
        "outputId": "bf0e3b77-d130-4def-ed84-f22e2c40fad4"
      },
      "source": [
        "from google.colab import drive\n",
        "drive.mount('/content/mnt')"
      ],
      "execution_count": 2,
      "outputs": [
        {
          "output_type": "stream",
          "name": "stdout",
          "text": [
            "Mounted at /content/mnt\n"
          ]
        }
      ]
    },
    {
      "cell_type": "code",
      "metadata": {
        "id": "Sz4m-kOz6ABl"
      },
      "source": [
        "data_folder = '/content/mnt/MyDrive/Data/인구 소멸위기지역'"
      ],
      "execution_count": 3,
      "outputs": []
    },
    {
      "cell_type": "code",
      "metadata": {
        "colab": {
          "base_uri": "https://localhost:8080/",
          "height": 204
        },
        "id": "2VMGI0qj6UAP",
        "outputId": "0e4f7792-ec2e-47a1-d0a6-1cb504b1a2f2"
      },
      "source": [
        "pop = pd.read_csv(f'{data_folder}/시군구_전처리완료.csv', encoding='euc-kr')\n",
        "pop.head()"
      ],
      "execution_count": 4,
      "outputs": [
        {
          "output_type": "execute_result",
          "data": {
            "text/html": [
              "<div>\n",
              "<style scoped>\n",
              "    .dataframe tbody tr th:only-of-type {\n",
              "        vertical-align: middle;\n",
              "    }\n",
              "\n",
              "    .dataframe tbody tr th {\n",
              "        vertical-align: top;\n",
              "    }\n",
              "\n",
              "    .dataframe thead th {\n",
              "        text-align: right;\n",
              "    }\n",
              "</style>\n",
              "<table border=\"1\" class=\"dataframe\">\n",
              "  <thead>\n",
              "    <tr style=\"text-align: right;\">\n",
              "      <th></th>\n",
              "      <th>광역시도</th>\n",
              "      <th>시군구</th>\n",
              "      <th>20-39세계</th>\n",
              "      <th>20-39세남자</th>\n",
              "      <th>20-39세여자</th>\n",
              "      <th>65세이상계</th>\n",
              "      <th>65세이상남자</th>\n",
              "      <th>65세이상여자</th>\n",
              "      <th>인구수계</th>\n",
              "      <th>인구수남자</th>\n",
              "      <th>인구수여자</th>\n",
              "      <th>소멸비율</th>\n",
              "      <th>소멸위기지역</th>\n",
              "      <th>소멸위기고위험지역</th>\n",
              "    </tr>\n",
              "  </thead>\n",
              "  <tbody>\n",
              "    <tr>\n",
              "      <th>0</th>\n",
              "      <td>강원도</td>\n",
              "      <td>강릉시</td>\n",
              "      <td>47006</td>\n",
              "      <td>25199</td>\n",
              "      <td>21807</td>\n",
              "      <td>43830</td>\n",
              "      <td>18604</td>\n",
              "      <td>25227</td>\n",
              "      <td>211643</td>\n",
              "      <td>105025</td>\n",
              "      <td>106618</td>\n",
              "      <td>0.497536</td>\n",
              "      <td>True</td>\n",
              "      <td>False</td>\n",
              "    </tr>\n",
              "    <tr>\n",
              "      <th>1</th>\n",
              "      <td>강원도</td>\n",
              "      <td>고성군</td>\n",
              "      <td>5217</td>\n",
              "      <td>3175</td>\n",
              "      <td>2042</td>\n",
              "      <td>7755</td>\n",
              "      <td>3237</td>\n",
              "      <td>4519</td>\n",
              "      <td>26792</td>\n",
              "      <td>13864</td>\n",
              "      <td>12928</td>\n",
              "      <td>0.263314</td>\n",
              "      <td>True</td>\n",
              "      <td>False</td>\n",
              "    </tr>\n",
              "    <tr>\n",
              "      <th>2</th>\n",
              "      <td>강원도</td>\n",
              "      <td>동해시</td>\n",
              "      <td>18727</td>\n",
              "      <td>10469</td>\n",
              "      <td>8258</td>\n",
              "      <td>17572</td>\n",
              "      <td>7624</td>\n",
              "      <td>9949</td>\n",
              "      <td>89814</td>\n",
              "      <td>45572</td>\n",
              "      <td>44242</td>\n",
              "      <td>0.469952</td>\n",
              "      <td>True</td>\n",
              "      <td>False</td>\n",
              "    </tr>\n",
              "    <tr>\n",
              "      <th>3</th>\n",
              "      <td>강원도</td>\n",
              "      <td>삼척시</td>\n",
              "      <td>13583</td>\n",
              "      <td>7469</td>\n",
              "      <td>6117</td>\n",
              "      <td>16077</td>\n",
              "      <td>6766</td>\n",
              "      <td>9311</td>\n",
              "      <td>65623</td>\n",
              "      <td>33275</td>\n",
              "      <td>32348</td>\n",
              "      <td>0.380481</td>\n",
              "      <td>True</td>\n",
              "      <td>False</td>\n",
              "    </tr>\n",
              "    <tr>\n",
              "      <th>4</th>\n",
              "      <td>강원도</td>\n",
              "      <td>속초시</td>\n",
              "      <td>18080</td>\n",
              "      <td>9909</td>\n",
              "      <td>8171</td>\n",
              "      <td>15170</td>\n",
              "      <td>6345</td>\n",
              "      <td>8826</td>\n",
              "      <td>81497</td>\n",
              "      <td>40312</td>\n",
              "      <td>41185</td>\n",
              "      <td>0.538629</td>\n",
              "      <td>False</td>\n",
              "      <td>False</td>\n",
              "    </tr>\n",
              "  </tbody>\n",
              "</table>\n",
              "</div>"
            ],
            "text/plain": [
              "  광역시도  시군구  20-39세계  20-39세남자  ...   인구수여자      소멸비율  소멸위기지역  소멸위기고위험지역\n",
              "0  강원도  강릉시    47006     25199  ...  106618  0.497536    True      False\n",
              "1  강원도  고성군     5217      3175  ...   12928  0.263314    True      False\n",
              "2  강원도  동해시    18727     10469  ...   44242  0.469952    True      False\n",
              "3  강원도  삼척시    13583      7469  ...   32348  0.380481    True      False\n",
              "4  강원도  속초시    18080      9909  ...   41185  0.538629   False      False\n",
              "\n",
              "[5 rows x 14 columns]"
            ]
          },
          "metadata": {},
          "execution_count": 4
        }
      ]
    },
    {
      "cell_type": "markdown",
      "metadata": {
        "id": "5niocM9z6zjP"
      },
      "source": [
        "## 고유 ID 만들기"
      ]
    },
    {
      "cell_type": "code",
      "metadata": {
        "colab": {
          "base_uri": "https://localhost:8080/"
        },
        "id": "dhw1YAjq6n0v",
        "outputId": "a9a5c007-87fc-41eb-ece0-0ad7e2c7e9db"
      },
      "source": [
        "print(len(pop))\n",
        "print(len(pop.시군구.unique()))\n",
        "pop.시군구.unique()"
      ],
      "execution_count": 5,
      "outputs": [
        {
          "output_type": "stream",
          "name": "stdout",
          "text": [
            "250\n",
            "226\n"
          ]
        },
        {
          "output_type": "execute_result",
          "data": {
            "text/plain": [
              "array(['강릉시', '고성군', '동해시', '삼척시', '속초시', '양구군', '양양군', '영월군', '원주시',\n",
              "       '인제군', '정선군', '철원군', '춘천시', '태백시', '평창군', '홍천군', '화천군', '횡성군',\n",
              "       '가평군', '과천시', '광명시', '광주시', '구리시', '군포시', '권선구', '기흥구', '김포시',\n",
              "       '남양주시', '단원구', '덕양구', '동두천시', '동안구', '만안구', '부천시', '분당구', '상록구',\n",
              "       '수정구', '수지구', '시흥시', '안성시', '양주시', '양평군', '여주시', '연천군', '영통구',\n",
              "       '오산시', '의왕시', '의정부시', '이천시', '일산동구', '일산서구', '장안구', '중원구', '처인구',\n",
              "       '파주시', '팔달구', '평택시', '포천시', '하남시', '화성시', '거제시', '거창군', '김해시',\n",
              "       '남해군', '마산합포구', '마산회원구', '밀양시', '사천시', '산청군', '성산구', '양산시', '의령군',\n",
              "       '의창구', '진주시', '진해구', '창녕군', '통영시', '하동군', '함안군', '함양군', '합천군',\n",
              "       '경산시', '경주시', '고령군', '구미시', '군위군', '김천시', '남구', '문경시', '봉화군', '북구',\n",
              "       '상주시', '성주군', '안동시', '영덕군', '영양군', '영주시', '영천시', '예천군', '울릉군',\n",
              "       '울진군', '의성군', '청도군', '청송군', '칠곡군', '광산구', '동구', '서구', '달서구', '달성군',\n",
              "       '수성구', '중구', '대덕구', '유성구', '강서구', '금정구', '기장군', '동래구', '부산진구',\n",
              "       '사상구', '사하구', '수영구', '연제구', '영도구', '해운대구', '강남구', '강동구', '강북구',\n",
              "       '관악구', '광진구', '구로구', '금천구', '노원구', '도봉구', '동대문구', '동작구', '마포구',\n",
              "       '서대문구', '서초구', '성동구', '성북구', '송파구', '양천구', '영등포구', '용산구', '은평구',\n",
              "       '종로구', '중랑구', '세종시', '울주군', '강화군', '계양구', '남동구', '미추홀구', '부평구',\n",
              "       '연수구', '옹진군', '강진군', '고흥군', '곡성군', '광양시', '구례군', '나주시', '담양군',\n",
              "       '목포시', '무안군', '보성군', '순천시', '신안군', '여수시', '영광군', '영암군', '완도군',\n",
              "       '장성군', '장흥군', '진도군', '함평군', '해남군', '화순군', '고창군', '군산시', '김제시',\n",
              "       '남원시', '덕진구', '무주군', '부안군', '순창군', '완산구', '완주군', '익산시', '임실군',\n",
              "       '장수군', '정읍시', '진안군', '서귀포시', '제주시', '계룡시', '공주시', '금산군', '논산시',\n",
              "       '당진시', '동남구', '보령시', '부여군', '서북구', '서산시', '서천군', '아산시', '예산군',\n",
              "       '청양군', '태안군', '홍성군', '괴산군', '단양군', '보은군', '상당구', '서원구', '영동군',\n",
              "       '옥천군', '음성군', '제천시', '증평군', '진천군', '청원구', '충주시', '흥덕구'],\n",
              "      dtype=object)"
            ]
          },
          "metadata": {},
          "execution_count": 5
        }
      ]
    },
    {
      "cell_type": "code",
      "metadata": {
        "id": "FdVVwdHK7btA"
      },
      "source": [
        "# 고성군 - 고성(강원), 고성(경남)\n",
        "# 광역시 - 서울 용산, 서울 서대문, 대전 서구, 대전 유성 세종\n",
        "# 행정구 - 수원 장안, 용인 수지, 고양 일산동, 창원 합포, 창원 회원 \n",
        "tmp_gu_dict = {\n",
        "    '수원':['장안구', '권선구', '팔달구', '영통구'], \n",
        "    '성남':['수정구', '중원구', '분당구'], \n",
        "    '안양':['만안구', '동안구'], \n",
        "    '안산':['상록구', '단원구'], \n",
        "    '고양':['덕양구', '일산동구', '일산서구'], \n",
        "    '용인':['처인구', '기흥구', '수지구'], \n",
        "    '청주':['상당구', '서원구', '흥덕구', '청원구'], \n",
        "    '천안':['동남구', '서북구'], \n",
        "    '전주':['완산구', '덕진구'], \n",
        "    '포항':['남구', '북구'], \n",
        "    '창원':['의창구', '성산구', '진해구', '마산합포구', '마산회원구']\n",
        "}"
      ],
      "execution_count": 6,
      "outputs": []
    },
    {
      "cell_type": "code",
      "metadata": {
        "id": "rf-pzU_B8hYl"
      },
      "source": [
        "metro_list =['서울특별시', '부산광역시', '대구광역시', '인천광역시', '대전광역시', '광주광역시', '울산광역시']\n",
        "si_name = [None] * len(pop)\n",
        "\n",
        "for i in pop.index:\n",
        "    if pop.광역시도[i] in metro_list:\n",
        "        if len(pop.시군구[i]) == 2:\n",
        "            si_name[i] = pop.광역시도[i][:2] + ' ' + pop.시군구[i]\n",
        "        else:\n",
        "            si_name[i] = pop.광역시도[i][:2] + ' ' + pop.시군구[i][:-1]     # 긴 구 이름에서 '구' 제외\n",
        "    else:\n",
        "        if pop.시군구[i][:-1] == '고성':\n",
        "            if pop.광역시도[i] == '강원도':\n",
        "                si_name[i] = '고성(강원)'\n",
        "            else:\n",
        "                si_name[i] = '고성(경남)'\n",
        "        else:\n",
        "            si_name[i] = pop.시군구[i][:-1]\n",
        "\n",
        "        for key, values in tmp_gu_dict.items():\n",
        "            if pop.시군구[i] in values:\n",
        "                if len(pop.시군구[i]) == 2:\n",
        "                    si_name[i] = key + ' ' + pop.시군구[i]\n",
        "                elif pop.시군구[i] in ['마산합포구', '마산회원구']:\n",
        "                    si_name[i] = key + ' ' + pop.시군구[i][2:-1]\n",
        "                else:\n",
        "                    si_name[i] = key + ' ' + pop.시군구[i][:-1]"
      ],
      "execution_count": 7,
      "outputs": []
    },
    {
      "cell_type": "code",
      "metadata": {
        "colab": {
          "base_uri": "https://localhost:8080/"
        },
        "id": "Eqw8tSrG-OHW",
        "outputId": "055deb6b-9db4-4d24-a518-d57ae2d5129b"
      },
      "source": [
        "print(si_name)"
      ],
      "execution_count": 8,
      "outputs": [
        {
          "output_type": "stream",
          "name": "stdout",
          "text": [
            "['강릉', '고성(강원)', '동해', '삼척', '속초', '양구', '양양', '영월', '원주', '인제', '정선', '철원', '춘천', '태백', '평창', '홍천', '화천', '횡성', '가평', '과천', '광명', '광주', '구리', '군포', '수원 권선', '용인 기흥', '김포', '남양주', '안산 단원', '고양 덕양', '동두천', '안양 동안', '안양 만안', '부천', '성남 분당', '안산 상록', '성남 수정', '용인 수지', '시흥', '안성', '양주', '양평', '여주', '연천', '수원 영통', '오산', '의왕', '의정부', '이천', '고양 일산동', '고양 일산서', '수원 장안', '성남 중원', '용인 처인', '파주', '수원 팔달', '평택', '포천', '하남', '화성', '거제', '거창', '고성(경남)', '김해', '남해', '창원 합포', '창원 회원', '밀양', '사천', '산청', '창원 성산', '양산', '의령', '창원 의창', '진주', '창원 진해', '창녕', '통영', '하동', '함안', '함양', '합천', '경산', '경주', '고령', '구미', '군위', '김천', '포항 남구', '문경', '봉화', '포항 북구', '상주', '성주', '안동', '영덕', '영양', '영주', '영천', '예천', '울릉', '울진', '의성', '청도', '청송', '칠곡', '광주 광산', '광주 남구', '광주 동구', '광주 북구', '광주 서구', '대구 남구', '대구 달서', '대구 달성', '대구 동구', '대구 북구', '대구 서구', '대구 수성', '대구 중구', '대전 대덕', '대전 동구', '대전 서구', '대전 유성', '대전 중구', '부산 강서', '부산 금정', '부산 기장', '부산 남구', '부산 동구', '부산 동래', '부산 부산진', '부산 북구', '부산 사상', '부산 사하', '부산 서구', '부산 수영', '부산 연제', '부산 영도', '부산 중구', '부산 해운대', '서울 강남', '서울 강동', '서울 강북', '서울 강서', '서울 관악', '서울 광진', '서울 구로', '서울 금천', '서울 노원', '서울 도봉', '서울 동대문', '서울 동작', '서울 마포', '서울 서대문', '서울 서초', '서울 성동', '서울 성북', '서울 송파', '서울 양천', '서울 영등포', '서울 용산', '서울 은평', '서울 종로', '서울 중구', '서울 중랑', '세종', '울산 남구', '울산 동구', '울산 북구', '울산 울주', '울산 중구', '인천 강화', '인천 계양', '인천 남동', '인천 동구', '인천 미추홀', '인천 부평', '인천 서구', '인천 연수', '인천 옹진', '인천 중구', '강진', '고흥', '곡성', '광양', '구례', '나주', '담양', '목포', '무안', '보성', '순천', '신안', '여수', '영광', '영암', '완도', '장성', '장흥', '진도', '함평', '해남', '화순', '고창', '군산', '김제', '남원', '전주 덕진', '무주', '부안', '순창', '전주 완산', '완주', '익산', '임실', '장수', '정읍', '진안', '서귀포', '제주', '계룡', '공주', '금산', '논산', '당진', '천안 동남', '보령', '부여', '천안 서북', '서산', '서천', '아산', '예산', '청양', '태안', '홍성', '괴산', '단양', '보은', '청주 상당', '청주 서원', '영동', '옥천', '음성', '제천', '증평', '진천', '청주 청원', '충주', '청주 흥덕']\n"
          ]
        }
      ]
    },
    {
      "cell_type": "code",
      "metadata": {
        "colab": {
          "base_uri": "https://localhost:8080/",
          "height": 221
        },
        "id": "aQBjPx8d-UW7",
        "outputId": "18698467-0ed0-4dc7-c24c-e51bf400e094"
      },
      "source": [
        "pop['ID'] = si_name\n",
        "del pop['20-39세남자']\n",
        "del pop['65세이상남자']\n",
        "del pop['65세이상여자']\n",
        "print(pop.shape)\n",
        "pop.head()"
      ],
      "execution_count": 9,
      "outputs": [
        {
          "output_type": "stream",
          "name": "stdout",
          "text": [
            "(250, 12)\n"
          ]
        },
        {
          "output_type": "execute_result",
          "data": {
            "text/html": [
              "<div>\n",
              "<style scoped>\n",
              "    .dataframe tbody tr th:only-of-type {\n",
              "        vertical-align: middle;\n",
              "    }\n",
              "\n",
              "    .dataframe tbody tr th {\n",
              "        vertical-align: top;\n",
              "    }\n",
              "\n",
              "    .dataframe thead th {\n",
              "        text-align: right;\n",
              "    }\n",
              "</style>\n",
              "<table border=\"1\" class=\"dataframe\">\n",
              "  <thead>\n",
              "    <tr style=\"text-align: right;\">\n",
              "      <th></th>\n",
              "      <th>광역시도</th>\n",
              "      <th>시군구</th>\n",
              "      <th>20-39세계</th>\n",
              "      <th>20-39세여자</th>\n",
              "      <th>65세이상계</th>\n",
              "      <th>인구수계</th>\n",
              "      <th>인구수남자</th>\n",
              "      <th>인구수여자</th>\n",
              "      <th>소멸비율</th>\n",
              "      <th>소멸위기지역</th>\n",
              "      <th>소멸위기고위험지역</th>\n",
              "      <th>ID</th>\n",
              "    </tr>\n",
              "  </thead>\n",
              "  <tbody>\n",
              "    <tr>\n",
              "      <th>0</th>\n",
              "      <td>강원도</td>\n",
              "      <td>강릉시</td>\n",
              "      <td>47006</td>\n",
              "      <td>21807</td>\n",
              "      <td>43830</td>\n",
              "      <td>211643</td>\n",
              "      <td>105025</td>\n",
              "      <td>106618</td>\n",
              "      <td>0.497536</td>\n",
              "      <td>True</td>\n",
              "      <td>False</td>\n",
              "      <td>강릉</td>\n",
              "    </tr>\n",
              "    <tr>\n",
              "      <th>1</th>\n",
              "      <td>강원도</td>\n",
              "      <td>고성군</td>\n",
              "      <td>5217</td>\n",
              "      <td>2042</td>\n",
              "      <td>7755</td>\n",
              "      <td>26792</td>\n",
              "      <td>13864</td>\n",
              "      <td>12928</td>\n",
              "      <td>0.263314</td>\n",
              "      <td>True</td>\n",
              "      <td>False</td>\n",
              "      <td>고성(강원)</td>\n",
              "    </tr>\n",
              "    <tr>\n",
              "      <th>2</th>\n",
              "      <td>강원도</td>\n",
              "      <td>동해시</td>\n",
              "      <td>18727</td>\n",
              "      <td>8258</td>\n",
              "      <td>17572</td>\n",
              "      <td>89814</td>\n",
              "      <td>45572</td>\n",
              "      <td>44242</td>\n",
              "      <td>0.469952</td>\n",
              "      <td>True</td>\n",
              "      <td>False</td>\n",
              "      <td>동해</td>\n",
              "    </tr>\n",
              "    <tr>\n",
              "      <th>3</th>\n",
              "      <td>강원도</td>\n",
              "      <td>삼척시</td>\n",
              "      <td>13583</td>\n",
              "      <td>6117</td>\n",
              "      <td>16077</td>\n",
              "      <td>65623</td>\n",
              "      <td>33275</td>\n",
              "      <td>32348</td>\n",
              "      <td>0.380481</td>\n",
              "      <td>True</td>\n",
              "      <td>False</td>\n",
              "      <td>삼척</td>\n",
              "    </tr>\n",
              "    <tr>\n",
              "      <th>4</th>\n",
              "      <td>강원도</td>\n",
              "      <td>속초시</td>\n",
              "      <td>18080</td>\n",
              "      <td>8171</td>\n",
              "      <td>15170</td>\n",
              "      <td>81497</td>\n",
              "      <td>40312</td>\n",
              "      <td>41185</td>\n",
              "      <td>0.538629</td>\n",
              "      <td>False</td>\n",
              "      <td>False</td>\n",
              "      <td>속초</td>\n",
              "    </tr>\n",
              "  </tbody>\n",
              "</table>\n",
              "</div>"
            ],
            "text/plain": [
              "  광역시도  시군구  20-39세계  20-39세여자  ...      소멸비율  소멸위기지역  소멸위기고위험지역      ID\n",
              "0  강원도  강릉시    47006     21807  ...  0.497536    True      False      강릉\n",
              "1  강원도  고성군     5217      2042  ...  0.263314    True      False  고성(강원)\n",
              "2  강원도  동해시    18727      8258  ...  0.469952    True      False      동해\n",
              "3  강원도  삼척시    13583      6117  ...  0.380481    True      False      삼척\n",
              "4  강원도  속초시    18080      8171  ...  0.538629   False      False      속초\n",
              "\n",
              "[5 rows x 12 columns]"
            ]
          },
          "metadata": {},
          "execution_count": 9
        }
      ]
    },
    {
      "cell_type": "code",
      "metadata": {
        "id": "Hfhwz3lw-1Ke"
      },
      "source": [
        "pop.to_csv(f'{data_folder}/시군구_ID부여.csv', encoding='euc-kr', index=False)"
      ],
      "execution_count": 10,
      "outputs": []
    },
    {
      "cell_type": "code",
      "metadata": {
        "id": "sd28dYhU_Qxa"
      },
      "source": [
        ""
      ],
      "execution_count": null,
      "outputs": []
    }
  ]
}