{
  "nbformat": 4,
  "nbformat_minor": 0,
  "metadata": {
    "colab": {
      "name": "01_FastAPI.ipynb",
      "provenance": [],
      "collapsed_sections": []
    },
    "kernelspec": {
      "name": "python3",
      "display_name": "Python 3"
    },
    "language_info": {
      "name": "python"
    }
  },
  "cells": [
    {
      "cell_type": "markdown",
      "metadata": {
        "id": "W_xhO0A6cneq"
      },
      "source": [
        "# Fast API \n",
        "  ##### Reference: https://fastapi.tiangolo.com/ko/\n",
        "- Modern(현대적), fast(high-performance), **web framework for building APIs** \n",
        "\n",
        "- Requirements \n",
        "  - Python 3.6+\n",
        "  - Starlette : for the web parts \n",
        "  - Pydantic  : for the data parts "
      ]
    },
    {
      "cell_type": "markdown",
      "metadata": {
        "id": "U4WEryUru_nh"
      },
      "source": [
        "### Documnet everything with Open API\n",
        "* Interactive API docs (대화형 문서)\n",
        "  - 예시) http://192.168.1.199:8000/docs \n",
        "\n",
        "* Alternative API docs (대안문서)\n",
        "  - 예시) http://192.168.1.199:8000/redoc"
      ]
    },
    {
      "cell_type": "code",
      "metadata": {
        "colab": {
          "base_uri": "https://localhost:8080/"
        },
        "id": "cPq-KXfwcn8U",
        "outputId": "2dae1264-3011-4885-caa5-e33819445475"
      },
      "source": [
        "!pip install fastapi nest-asyncio pyngrok uvicorn"
      ],
      "execution_count": 1,
      "outputs": [
        {
          "output_type": "stream",
          "name": "stdout",
          "text": [
            "Collecting fastapi\n",
            "  Downloading fastapi-0.68.1-py3-none-any.whl (52 kB)\n",
            "\u001b[?25l\r\u001b[K     |██████▎                         | 10 kB 28.7 MB/s eta 0:00:01\r\u001b[K     |████████████▌                   | 20 kB 33.1 MB/s eta 0:00:01\r\u001b[K     |██████████████████▉             | 30 kB 22.5 MB/s eta 0:00:01\r\u001b[K     |█████████████████████████       | 40 kB 17.7 MB/s eta 0:00:01\r\u001b[K     |███████████████████████████████▍| 51 kB 8.1 MB/s eta 0:00:01\r\u001b[K     |████████████████████████████████| 52 kB 978 kB/s \n",
            "\u001b[?25hRequirement already satisfied: nest-asyncio in /usr/local/lib/python3.7/dist-packages (1.5.1)\n",
            "Collecting pyngrok\n",
            "  Downloading pyngrok-5.1.0.tar.gz (745 kB)\n",
            "\u001b[K     |████████████████████████████████| 745 kB 12.7 MB/s \n",
            "\u001b[?25hCollecting uvicorn\n",
            "  Downloading uvicorn-0.15.0-py3-none-any.whl (54 kB)\n",
            "\u001b[K     |████████████████████████████████| 54 kB 3.5 MB/s \n",
            "\u001b[?25hCollecting starlette==0.14.2\n",
            "  Downloading starlette-0.14.2-py3-none-any.whl (60 kB)\n",
            "\u001b[K     |████████████████████████████████| 60 kB 5.6 MB/s \n",
            "\u001b[?25hCollecting pydantic!=1.7,!=1.7.1,!=1.7.2,!=1.7.3,!=1.8,!=1.8.1,<2.0.0,>=1.6.2\n",
            "  Downloading pydantic-1.8.2-cp37-cp37m-manylinux2014_x86_64.whl (10.1 MB)\n",
            "\u001b[K     |████████████████████████████████| 10.1 MB 40.4 MB/s \n",
            "\u001b[?25hRequirement already satisfied: typing-extensions>=3.7.4.3 in /usr/local/lib/python3.7/dist-packages (from pydantic!=1.7,!=1.7.1,!=1.7.2,!=1.7.3,!=1.8,!=1.8.1,<2.0.0,>=1.6.2->fastapi) (3.7.4.3)\n",
            "Requirement already satisfied: PyYAML in /usr/local/lib/python3.7/dist-packages (from pyngrok) (3.13)\n",
            "Collecting h11>=0.8\n",
            "  Downloading h11-0.12.0-py3-none-any.whl (54 kB)\n",
            "\u001b[K     |████████████████████████████████| 54 kB 4.1 MB/s \n",
            "\u001b[?25hCollecting asgiref>=3.4.0\n",
            "  Downloading asgiref-3.4.1-py3-none-any.whl (25 kB)\n",
            "Requirement already satisfied: click>=7.0 in /usr/local/lib/python3.7/dist-packages (from uvicorn) (7.1.2)\n",
            "Building wheels for collected packages: pyngrok\n",
            "  Building wheel for pyngrok (setup.py) ... \u001b[?25l\u001b[?25hdone\n",
            "  Created wheel for pyngrok: filename=pyngrok-5.1.0-py3-none-any.whl size=19006 sha256=aad99af615ef0b6fdcbb1b530e0573bcf4b94f04f395e4c947e6c59f8df6f030\n",
            "  Stored in directory: /root/.cache/pip/wheels/bf/e6/af/ccf6598ecefecd44104069371795cb9b3afbcd16987f6ccfb3\n",
            "Successfully built pyngrok\n",
            "Installing collected packages: starlette, pydantic, h11, asgiref, uvicorn, pyngrok, fastapi\n",
            "Successfully installed asgiref-3.4.1 fastapi-0.68.1 h11-0.12.0 pydantic-1.8.2 pyngrok-5.1.0 starlette-0.14.2 uvicorn-0.15.0\n"
          ]
        }
      ]
    },
    {
      "cell_type": "code",
      "metadata": {
        "id": "p0B26X9lbf7q"
      },
      "source": [
        "from typing import Optional\n",
        "from fastapi import FastAPI\n",
        "\n",
        "# Pydantic을 이용해 파이썬 표준 타입으로 분문을 선언 \n",
        "from pydantic import BaseModel\n",
        "\n",
        "import nest_asyncio\n",
        "from pyngrok import ngrok\n",
        "import uvicorn"
      ],
      "execution_count": 3,
      "outputs": []
    },
    {
      "cell_type": "markdown",
      "metadata": {
        "id": "N1RTYQc2wLFy"
      },
      "source": [
        "### Step-by-Step 👣\n",
        "\n",
        "#### Operation\n",
        "- HTTP methods \n",
        "  - POST \n",
        "    - to create data \n",
        "    - @app.post()\n",
        "  - GET\n",
        "    - to read data \n",
        "    - @app.get()\n",
        "  - PUT\n",
        "    - to update data \n",
        "    - @app.put()\n",
        "  - DELETE \n",
        "    - to delete data \n",
        "    - @app.delete()\n"
      ]
    },
    {
      "cell_type": "code",
      "metadata": {
        "colab": {
          "base_uri": "https://localhost:8080/"
        },
        "id": "nuam_M_wbaC9",
        "outputId": "a3c83aad-f9b0-44fd-aeee-bcf5bd031d6d"
      },
      "source": [
        "app =FastAPI()\n",
        "\n",
        "class Item(BaseModel):\n",
        "  name: str\n",
        "  price: float\n",
        "  is_offer: Optional[bool] = None\n",
        "\n",
        "@app.get('/')\n",
        "def read_root():\n",
        "    return {'message': 'Hello, World'}\n",
        "\n",
        "@app.get('/items/{item_id}')\n",
        "def read_item(item_id: int, q:Optional[str] = None):\n",
        "    return{'item_id': item_id, 'q':q}\n",
        "\n",
        "@app.put('/items/{item_id}')\n",
        "def update_item(item_id: int, item: Item):\n",
        "  return {'item_name': item.name, 'item_id': item_id}\n",
        "\n",
        "ngrok_tunnel = ngrok.connect(8000)\n",
        "print('Public URL:', ngrok_tunnel.public_url)\n",
        "nest_asyncio.apply()\n",
        "uvicorn.run(app, host='0.0.0.0', port=8000)"
      ],
      "execution_count": 5,
      "outputs": [
        {
          "output_type": "stream",
          "name": "stdout",
          "text": [
            "Public URL: http://e13d-34-125-182-32.ngrok.io\n"
          ]
        },
        {
          "output_type": "stream",
          "name": "stderr",
          "text": [
            "INFO:     Started server process [63]\n",
            "INFO:     Waiting for application startup.\n",
            "INFO:     Application startup complete.\n",
            "INFO:     Uvicorn running on http://0.0.0.0:8000 (Press CTRL+C to quit)\n"
          ]
        },
        {
          "output_type": "stream",
          "name": "stdout",
          "text": [
            "INFO:     114.203.149.236:0 - \"GET / HTTP/1.1\" 200 OK\n",
            "INFO:     114.203.149.236:0 - \"GET /favicon.ico HTTP/1.1\" 404 Not Found\n",
            "INFO:     114.203.149.236:0 - \"GET / HTTP/1.1\" 200 OK\n",
            "INFO:     114.203.149.236:0 - \"GET / HTTP/1.1\" 200 OK\n",
            "INFO:     114.203.149.236:0 - \"GET / HTTP/1.1\" 200 OK\n",
            "INFO:     114.203.149.236:0 - \"GET / HTTP/1.1\" 200 OK\n",
            "INFO:     114.203.149.236:0 - \"GET /docs HTTP/1.1\" 200 OK\n",
            "INFO:     114.203.149.236:0 - \"GET /openapi.json HTTP/1.1\" 200 OK\n",
            "INFO:     114.203.149.236:0 - \"PUT /items/2 HTTP/1.1\" 200 OK\n"
          ]
        },
        {
          "output_type": "stream",
          "name": "stderr",
          "text": [
            "INFO:     Shutting down\n",
            "INFO:     Waiting for application shutdown.\n",
            "INFO:     Application shutdown complete.\n",
            "INFO:     Finished server process [63]\n"
          ]
        }
      ]
    },
    {
      "cell_type": "markdown",
      "metadata": {
        "id": "0icbzQdV7sSO"
      },
      "source": [
        "* Reference :https://github.com/ChristopherGS/ultimate-fastapi-tutorial/tree/main/part-4-pydantic-schemas"
      ]
    },
    {
      "cell_type": "code",
      "metadata": {
        "id": "zvvw95lo40tJ"
      },
      "source": [
        "RECIPES = [ \n",
        "           { \n",
        "            \"id\": 1,\n",
        "            \"label\": \"Chicken Vesuvio\",\n",
        "            \"source\": \"Serious Eats\",\n",
        "            \"url\": \"http://www.seriouseats.com/recipes/2011/12/chicken-vesuvio-recipe.html\",\n",
        "           },\n",
        "           {\n",
        "            \"id\": 2,\n",
        "            \"label\": \"Chicken Paprikash\",\n",
        "            \"source\": \"No Recipes\",\n",
        "            \"url\": \"http://norecipes.com/recipe/chicken-paprikash/\",\n",
        "           },\n",
        "           {\n",
        "            \"id\": 3,\n",
        "            \"label\": \"Cauliflower and Tofu Curry Recipe\",\n",
        "            \"source\": \"Serious Eats\",\n",
        "            \"url\": \"http://www.seriouseats.com/recipes/2011/02/cauliflower-and-tofu-curry-recipe.html\",\n",
        "           },\n",
        "]"
      ],
      "execution_count": 8,
      "outputs": []
    },
    {
      "cell_type": "code",
      "metadata": {
        "colab": {
          "base_uri": "https://localhost:8080/"
        },
        "id": "F6fqmJy9RtCQ",
        "outputId": "2b34b4dc-7e19-40fd-9b31-3ef11884d802"
      },
      "source": [
        "%%writefile schemas.py\n",
        "\n",
        "from pydantic import BaseModel, HttpUrl\n",
        "from typing import Sequence\n",
        "\n",
        "\n",
        "class Recipe(BaseModel):\n",
        "    id: int\n",
        "    label: str\n",
        "    source: str\n",
        "    url: HttpUrl\n",
        "\n",
        "\n",
        "class RecipeSearchResults(BaseModel):\n",
        "    results: Sequence[Recipe]\n",
        "\n",
        "\n",
        "class RecipeCreate(BaseModel):\n",
        "    label: str\n",
        "    source: str\n",
        "    url: HttpUrl\n",
        "    submitter_id: int"
      ],
      "execution_count": 9,
      "outputs": [
        {
          "output_type": "stream",
          "name": "stdout",
          "text": [
            "Overwriting schemas.py\n"
          ]
        }
      ]
    },
    {
      "cell_type": "code",
      "metadata": {
        "colab": {
          "base_uri": "https://localhost:8080/"
        },
        "id": "Sm0--_yybJWI",
        "outputId": "dccc0b79-e780-4bb1-c145-bf9ce6b39d44"
      },
      "source": [
        "from fastapi import FastAPI, APIRouter, Query\n",
        "from typing import Optional\n",
        "from schemas import RecipeSearchResults, Recipe, RecipeCreate\n",
        "\n",
        "\n",
        "api_router = FastAPI()\n",
        "\n",
        "@api_router.get(\"/\", status_code=200)\n",
        "def root() -> dict:\n",
        "    \"\"\"\n",
        "    Root GET\n",
        "    \"\"\"\n",
        "    return {\"msg\": \"Hello, World!\"}\n",
        "\n",
        "\n",
        "# Updated using to use a response_model\n",
        "@api_router.get(\"/recipe/{recipe_id}\", status_code=200, response_model=Recipe)\n",
        "def fetch_recipe(*, recipe_id: int) -> dict:\n",
        "    \"\"\"\n",
        "    Fetch a single recipe by ID\n",
        "    \"\"\"\n",
        "\n",
        "    result = [recipe for recipe in RECIPES if recipe[\"id\"] == recipe_id]\n",
        "    if result:\n",
        "        return result[0]\n",
        "\n",
        "\n",
        "# Updated using the FastAPI parameter validation `Query` class\n",
        "@api_router.get(\"/search/\", status_code=200, response_model=RecipeSearchResults)\n",
        "def search_recipes(\n",
        "    *,\n",
        "    keyword: Optional[str] = Query(None, min_length=3, example=\"chicken\"),\n",
        "    max_results: Optional[int] = 10\n",
        ") -> dict:\n",
        "    \"\"\"\n",
        "    Search for recipes based on label keyword\n",
        "    \"\"\"\n",
        "    if not keyword:\n",
        "        # we use Python list slicing to limit results\n",
        "        # based on the max_results query parameter\n",
        "        return {\"results\": RECIPES[:max_results]}\n",
        "\n",
        "    results = filter(lambda recipe: keyword.lower() in recipe[\"label\"].lower(), RECIPES)\n",
        "    return {\"results\": list(results)[:max_results]}\n",
        "\n",
        "\n",
        "# New addition, using Pydantic model `RecipeCreate` to define\n",
        "# the POST request body\n",
        "@api_router.post(\"/recipe/\", status_code=201, response_model=Recipe)\n",
        "def create_recipe(*, recipe_in: RecipeCreate) -> dict:\n",
        "    \"\"\"\n",
        "    Create a new recipe (in memory only)\n",
        "    \"\"\"\n",
        "    new_entry_id = len(RECIPES) + 1\n",
        "    recipe_entry = Recipe(\n",
        "        id=new_entry_id,\n",
        "        label=recipe_in.label,\n",
        "        source=recipe_in.source,\n",
        "        url=recipe_in.url,\n",
        "    )\n",
        "    RECIPES.append(recipe_entry.dict())\n",
        "\n",
        "    return recipe_entry\n",
        "\n",
        "\n",
        "ngrok_tunnel = ngrok.connect(8000)\n",
        "print('Public URL:', ngrok_tunnel.public_url)\n",
        "nest_asyncio.apply()\n",
        "uvicorn.run(api_router, host='0.0.0.0', port=8000)"
      ],
      "execution_count": 14,
      "outputs": [
        {
          "output_type": "stream",
          "name": "stdout",
          "text": [
            "Public URL: http://dacc-34-125-182-32.ngrok.io\n"
          ]
        },
        {
          "output_type": "stream",
          "name": "stderr",
          "text": [
            "INFO:     Started server process [63]\n",
            "INFO:     Waiting for application startup.\n",
            "INFO:     Application startup complete.\n",
            "INFO:     Uvicorn running on http://0.0.0.0:8000 (Press CTRL+C to quit)\n"
          ]
        },
        {
          "output_type": "stream",
          "name": "stdout",
          "text": [
            "INFO:     114.203.149.236:0 - \"GET / HTTP/1.1\" 200 OK\n",
            "INFO:     114.203.149.236:0 - \"GET /favicon.ico HTTP/1.1\" 404 Not Found\n",
            "INFO:     114.203.149.236:0 - \"GET / HTTP/1.1\" 200 OK\n",
            "INFO:     114.203.149.236:0 - \"GET / HTTP/1.1\" 200 OK\n",
            "INFO:     114.203.149.236:0 - \"GET /docs HTTP/1.1\" 200 OK\n",
            "INFO:     114.203.149.236:0 - \"GET /openapi.json HTTP/1.1\" 200 OK\n",
            "INFO:     114.203.149.236:0 - \"GET /recipe/3 HTTP/1.1\" 200 OK\n",
            "INFO:     114.203.149.236:0 - \"GET /search/?keyword=chicken&max_results=10 HTTP/1.1\" 200 OK\n"
          ]
        },
        {
          "output_type": "stream",
          "name": "stderr",
          "text": [
            "INFO:     Shutting down\n",
            "INFO:     Waiting for application shutdown.\n",
            "INFO:     Application shutdown complete.\n",
            "INFO:     Finished server process [63]\n"
          ]
        }
      ]
    },
    {
      "cell_type": "markdown",
      "metadata": {
        "id": "OdAJ-Z8FyUyH"
      },
      "source": [
        "### Optional parameter \n",
        "- 함수 파라미터에 path가 정의되지 않은 변수를 정의할 경우, Query Parameter로 인식 \n",
        "- Query는 'key-value'형식으로 되고, URL enldp `?`를 붙이고 여러개일 경우 `&` 사용 \n",
        "- Default 는 `None`"
      ]
    },
    {
      "cell_type": "markdown",
      "metadata": {
        "id": "VVtqk3LA0I3l"
      },
      "source": [
        "### Request Body - Pydantic \n",
        "- Data validation and settings management using python type annotation \n",
        "- Class 함수 사용"
      ]
    },
    {
      "cell_type": "code",
      "metadata": {
        "id": "LVp-tTauttzz"
      },
      "source": [
        "app = FastAPI()\n",
        "\n",
        "\n",
        "# Optional parameter\n",
        "course_items = [{\"course_nmae\": \"Python\"}, {\"course_name\" : \"SQLAlchemy\"},{\"course_name\": \"NodeJS\"}]\n",
        "@app.get(\"/courses/\")\n",
        "def read_courses(start: int, end: int):\n",
        "  return course_items[start : start + end]\n",
        "\n",
        "\n",
        "# Data sent by the client to API \n",
        "# to declare one in Fast API, we can use Pydantic models\n",
        "class Course(BaseModel):\n",
        "  name: str\n",
        "  description : Optional[str] = None\n",
        "  price : int\n",
        "  author : Optional[str] = None\n",
        "\n",
        "@app.post(\"/courses/\")\n",
        "def create_course(course: Course):\n",
        "  print('course name: '+ course.name)\n",
        "  if course.description is not None:\n",
        "    print('description: '+ course.description)\n",
        "  print('price: ' + str(course))\n",
        "  if course.author is not None:\n",
        "    print('author: '+ course.author)\n",
        "  return course"
      ],
      "execution_count": null,
      "outputs": []
    },
    {
      "cell_type": "code",
      "metadata": {
        "id": "PKhqdjBvdlPx"
      },
      "source": [
        ""
      ],
      "execution_count": null,
      "outputs": []
    }
  ]
}