{
  "nbformat": 4,
  "nbformat_minor": 0,
  "metadata": {
    "colab": {
      "name": "네이버영화_FastApi.ipynb",
      "provenance": []
    },
    "kernelspec": {
      "name": "python3",
      "display_name": "Python 3"
    },
    "language_info": {
      "name": "python"
    }
  },
  "cells": [
    {
      "cell_type": "markdown",
      "metadata": {
        "id": "V_LdXogZ3IWH"
      },
      "source": [
        "# 네이버 영화순위 데이터 크롤링 및 FastApi 활용하기 \n",
        "  - 데이터 크롤링 : Beautiful Soup 활용 \n",
        "  "
      ]
    },
    {
      "cell_type": "code",
      "metadata": {
        "colab": {
          "base_uri": "https://localhost:8080/"
        },
        "id": "e8-bckbywzBD",
        "outputId": "dd30daff-c0ca-484b-99ed-d47374a52d18"
      },
      "source": [
        "!pip install fastapi nest-asyncio pyngrok uvicorn"
      ],
      "execution_count": 1,
      "outputs": [
        {
          "output_type": "stream",
          "name": "stdout",
          "text": [
            "Collecting fastapi\n",
            "  Downloading fastapi-0.68.1-py3-none-any.whl (52 kB)\n",
            "\u001b[?25l\r\u001b[K     |██████▎                         | 10 kB 18.7 MB/s eta 0:00:01\r\u001b[K     |████████████▌                   | 20 kB 25.3 MB/s eta 0:00:01\r\u001b[K     |██████████████████▉             | 30 kB 13.1 MB/s eta 0:00:01\r\u001b[K     |█████████████████████████       | 40 kB 9.8 MB/s eta 0:00:01\r\u001b[K     |███████████████████████████████▍| 51 kB 4.5 MB/s eta 0:00:01\r\u001b[K     |████████████████████████████████| 52 kB 810 kB/s \n",
            "\u001b[?25hRequirement already satisfied: nest-asyncio in /usr/local/lib/python3.7/dist-packages (1.5.1)\n",
            "Collecting pyngrok\n",
            "  Downloading pyngrok-5.1.0.tar.gz (745 kB)\n",
            "\u001b[K     |████████████████████████████████| 745 kB 7.0 MB/s \n",
            "\u001b[?25hCollecting uvicorn\n",
            "  Downloading uvicorn-0.15.0-py3-none-any.whl (54 kB)\n",
            "\u001b[K     |████████████████████████████████| 54 kB 2.8 MB/s \n",
            "\u001b[?25hCollecting pydantic!=1.7,!=1.7.1,!=1.7.2,!=1.7.3,!=1.8,!=1.8.1,<2.0.0,>=1.6.2\n",
            "  Downloading pydantic-1.8.2-cp37-cp37m-manylinux2014_x86_64.whl (10.1 MB)\n",
            "\u001b[K     |████████████████████████████████| 10.1 MB 46.5 MB/s \n",
            "\u001b[?25hCollecting starlette==0.14.2\n",
            "  Downloading starlette-0.14.2-py3-none-any.whl (60 kB)\n",
            "\u001b[K     |████████████████████████████████| 60 kB 7.6 MB/s \n",
            "\u001b[?25hRequirement already satisfied: typing-extensions>=3.7.4.3 in /usr/local/lib/python3.7/dist-packages (from pydantic!=1.7,!=1.7.1,!=1.7.2,!=1.7.3,!=1.8,!=1.8.1,<2.0.0,>=1.6.2->fastapi) (3.7.4.3)\n",
            "Requirement already satisfied: PyYAML in /usr/local/lib/python3.7/dist-packages (from pyngrok) (3.13)\n",
            "Requirement already satisfied: click>=7.0 in /usr/local/lib/python3.7/dist-packages (from uvicorn) (7.1.2)\n",
            "Collecting asgiref>=3.4.0\n",
            "  Downloading asgiref-3.4.1-py3-none-any.whl (25 kB)\n",
            "Collecting h11>=0.8\n",
            "  Downloading h11-0.12.0-py3-none-any.whl (54 kB)\n",
            "\u001b[K     |████████████████████████████████| 54 kB 3.1 MB/s \n",
            "\u001b[?25hBuilding wheels for collected packages: pyngrok\n",
            "  Building wheel for pyngrok (setup.py) ... \u001b[?25l\u001b[?25hdone\n",
            "  Created wheel for pyngrok: filename=pyngrok-5.1.0-py3-none-any.whl size=19006 sha256=1224c7fa53a3ca9fe2e0fa18b907e37c39683a1472c8dacc7901dc8c1c1646d7\n",
            "  Stored in directory: /root/.cache/pip/wheels/bf/e6/af/ccf6598ecefecd44104069371795cb9b3afbcd16987f6ccfb3\n",
            "Successfully built pyngrok\n",
            "Installing collected packages: starlette, pydantic, h11, asgiref, uvicorn, pyngrok, fastapi\n",
            "Successfully installed asgiref-3.4.1 fastapi-0.68.1 h11-0.12.0 pydantic-1.8.2 pyngrok-5.1.0 starlette-0.14.2 uvicorn-0.15.0\n"
          ]
        }
      ]
    },
    {
      "cell_type": "code",
      "metadata": {
        "id": "0j0skdGtynuy"
      },
      "source": [
        "import requests\n",
        "import pandas as pd"
      ],
      "execution_count": 7,
      "outputs": []
    },
    {
      "cell_type": "markdown",
      "metadata": {
        "id": "0xARsF4y3WWE"
      },
      "source": [
        "* Beautifulsoup 활용하여 네이버에서 영화 목록 가져오기"
      ]
    },
    {
      "cell_type": "code",
      "metadata": {
        "id": "G-RFDUzjySPI"
      },
      "source": [
        "url='https://movie.naver.com/movie/sdb/rank/rmovie.naver'\n",
        "req = requests.get(url)\n",
        "html = req.text"
      ],
      "execution_count": 9,
      "outputs": []
    },
    {
      "cell_type": "code",
      "metadata": {
        "id": "8FxXatRXyhWV"
      },
      "source": [
        "from bs4 import BeautifulSoup\n",
        "\n",
        "soup = BeautifulSoup(html, 'html.parser')"
      ],
      "execution_count": 10,
      "outputs": []
    },
    {
      "cell_type": "code",
      "metadata": {
        "colab": {
          "base_uri": "https://localhost:8080/",
          "height": 37
        },
        "id": "4g-AuDWL0LkN",
        "outputId": "5fdde93c-3bc9-47e2-a45c-bf6a3d98c9a3"
      },
      "source": [
        "# BS4를 사용해 네이버에서 영화 목록 가져오기 \n",
        "soup.find_all('div', 'tit3')[0].a.string\n",
        "movie_name = [i.a.string for i in soup.find_all('div','tit3')]\n",
        "index = [index for index in range(1,51)]\n",
        "\n",
        "movie_name [0]\n"
      ],
      "execution_count": 27,
      "outputs": [
        {
          "output_type": "execute_result",
          "data": {
            "application/vnd.google.colaboratory.intrinsic+json": {
              "type": "string"
            },
            "text/plain": [
              "'보이스'"
            ]
          },
          "metadata": {},
          "execution_count": 27
        }
      ]
    },
    {
      "cell_type": "code",
      "metadata": {
        "id": "ZArmxpYkw0EU"
      },
      "source": [
        "from typing import Optional\n",
        "from fastapi import FastAPI\n",
        "import nest_asyncio\n",
        "from pyngrok import ngrok\n",
        "import uvicorn\n",
        "\n",
        "from pydantic import BaseModel"
      ],
      "execution_count": 2,
      "outputs": []
    },
    {
      "cell_type": "code",
      "metadata": {
        "colab": {
          "base_uri": "https://localhost:8080/"
        },
        "id": "4ryxfI2QxUnU",
        "outputId": "a7b22118-dbe6-4ce2-b086-a2c4a496b200"
      },
      "source": [
        "%%writefile movies.py\n",
        "\n",
        "from pydantic import BaseModel\n",
        "class Movie(BaseModel):\n",
        "  name: str"
      ],
      "execution_count": 21,
      "outputs": [
        {
          "output_type": "stream",
          "name": "stdout",
          "text": [
            "Overwriting movies.py\n"
          ]
        }
      ]
    },
    {
      "cell_type": "code",
      "metadata": {
        "id": "YpP4_cYizNTi"
      },
      "source": [
        "import movies"
      ],
      "execution_count": 22,
      "outputs": []
    },
    {
      "cell_type": "code",
      "metadata": {
        "colab": {
          "base_uri": "https://localhost:8080/"
        },
        "id": "9H11_4qxw7DA",
        "outputId": "fde05401-9d32-4a68-d790-26faa13becef"
      },
      "source": [
        "app =FastAPI()\n",
        "\n",
        "@app.get('/')\n",
        "def read_root():\n",
        "    return {'message': 'Movie Ranking'}\n",
        "\n",
        "@app.get('/movie/')\n",
        "def get_movies(top: int=10):\n",
        "  movie_list=[i.a.string for i in soup.find_all('div','tit3')]\n",
        "\n",
        "  # for 루프로 출력할 영화 리스트 만들기 \n",
        "  result = ''\n",
        "  for i in range(top):\n",
        "    result += \"%d: %s\"%((i+1), movie_list[i])\n",
        "  return result\n",
        "\n",
        "ngrok_tunnel = ngrok.connect(8000)\n",
        "print('Public URL:', ngrok_tunnel.public_url)\n",
        "nest_asyncio.apply()\n",
        "uvicorn.run(app, port=8000)"
      ],
      "execution_count": 26,
      "outputs": [
        {
          "output_type": "stream",
          "name": "stdout",
          "text": [
            "Public URL: http://0fd6-34-80-201-10.ngrok.io\n"
          ]
        },
        {
          "output_type": "stream",
          "name": "stderr",
          "text": [
            "INFO:     Started server process [62]\n",
            "INFO:     Waiting for application startup.\n",
            "INFO:     Application startup complete.\n",
            "INFO:     Uvicorn running on http://127.0.0.1:8000 (Press CTRL+C to quit)\n"
          ]
        },
        {
          "output_type": "stream",
          "name": "stdout",
          "text": [
            "INFO:     114.203.149.236:0 - \"GET / HTTP/1.1\" 200 OK\n",
            "INFO:     114.203.149.236:0 - \"GET /favicon.ico HTTP/1.1\" 404 Not Found\n",
            "INFO:     114.203.149.236:0 - \"GET / HTTP/1.1\" 200 OK\n",
            "INFO:     114.203.149.236:0 - \"GET / HTTP/1.1\" 200 OK\n",
            "INFO:     114.203.149.236:0 - \"GET /docs HTTP/1.1\" 200 OK\n",
            "INFO:     114.203.149.236:0 - \"GET /openapi.json HTTP/1.1\" 200 OK\n",
            "INFO:     114.203.149.236:0 - \"GET /movie/?top=5 HTTP/1.1\" 200 OK\n"
          ]
        },
        {
          "output_type": "stream",
          "name": "stderr",
          "text": [
            "INFO:     Shutting down\n",
            "INFO:     Waiting for application shutdown.\n",
            "INFO:     Application shutdown complete.\n",
            "INFO:     Finished server process [62]\n"
          ]
        }
      ]
    },
    {
      "cell_type": "code",
      "metadata": {
        "id": "w37BHlIS1wQw"
      },
      "source": [
        ""
      ],
      "execution_count": 24,
      "outputs": []
    }
  ]
}