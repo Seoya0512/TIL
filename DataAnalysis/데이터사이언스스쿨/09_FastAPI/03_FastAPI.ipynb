{
  "nbformat": 4,
  "nbformat_minor": 0,
  "metadata": {
    "colab": {
      "name": "03_FastAPI.ipynb",
      "provenance": [],
      "collapsed_sections": []
    },
    "kernelspec": {
      "display_name": "Python 3",
      "name": "python3"
    },
    "language_info": {
      "name": "python"
    }
  },
  "cells": [
    {
      "cell_type": "markdown",
      "metadata": {
        "id": "MCLAO_lZHjJG"
      },
      "source": [
        "# FastAPI 개념 (2)\n"
      ]
    },
    {
      "cell_type": "code",
      "metadata": {
        "colab": {
          "base_uri": "https://localhost:8080/"
        },
        "id": "eRc4JsSHb5ae",
        "outputId": "2ffd438d-cd88-4483-bbad-92b391a454ff"
      },
      "source": [
        "!pip install fastapi uvicorn pyngrok nest_asyncio aiofiles python-multipart"
      ],
      "execution_count": null,
      "outputs": [
        {
          "output_type": "stream",
          "name": "stdout",
          "text": [
            "Requirement already satisfied: fastapi in /usr/local/lib/python3.7/dist-packages (0.68.1)\n",
            "Requirement already satisfied: uvicorn in /usr/local/lib/python3.7/dist-packages (0.15.0)\n",
            "Requirement already satisfied: pyngrok in /usr/local/lib/python3.7/dist-packages (5.1.0)\n",
            "Requirement already satisfied: nest_asyncio in /usr/local/lib/python3.7/dist-packages (1.5.1)\n",
            "Collecting aiofiles\n",
            "  Downloading aiofiles-0.7.0-py3-none-any.whl (13 kB)\n",
            "Requirement already satisfied: python-multipart in /usr/local/lib/python3.7/dist-packages (0.0.5)\n",
            "Requirement already satisfied: starlette==0.14.2 in /usr/local/lib/python3.7/dist-packages (from fastapi) (0.14.2)\n",
            "Requirement already satisfied: pydantic!=1.7,!=1.7.1,!=1.7.2,!=1.7.3,!=1.8,!=1.8.1,<2.0.0,>=1.6.2 in /usr/local/lib/python3.7/dist-packages (from fastapi) (1.8.2)\n",
            "Requirement already satisfied: typing-extensions>=3.7.4.3 in /usr/local/lib/python3.7/dist-packages (from pydantic!=1.7,!=1.7.1,!=1.7.2,!=1.7.3,!=1.8,!=1.8.1,<2.0.0,>=1.6.2->fastapi) (3.7.4.3)\n",
            "Requirement already satisfied: h11>=0.8 in /usr/local/lib/python3.7/dist-packages (from uvicorn) (0.12.0)\n",
            "Requirement already satisfied: click>=7.0 in /usr/local/lib/python3.7/dist-packages (from uvicorn) (7.1.2)\n",
            "Requirement already satisfied: asgiref>=3.4.0 in /usr/local/lib/python3.7/dist-packages (from uvicorn) (3.4.1)\n",
            "Requirement already satisfied: PyYAML in /usr/local/lib/python3.7/dist-packages (from pyngrok) (3.13)\n",
            "Requirement already satisfied: six>=1.4.0 in /usr/local/lib/python3.7/dist-packages (from python-multipart) (1.15.0)\n",
            "Installing collected packages: aiofiles\n",
            "Successfully installed aiofiles-0.7.0\n"
          ]
        }
      ]
    },
    {
      "cell_type": "code",
      "metadata": {
        "colab": {
          "base_uri": "https://localhost:8080/"
        },
        "id": "seVRSnNHar77",
        "outputId": "2fb4b323-cd54-428d-eeec-6f2077f0ffa8"
      },
      "source": [
        "!pip install aiofiles"
      ],
      "execution_count": null,
      "outputs": [
        {
          "output_type": "stream",
          "name": "stdout",
          "text": [
            "Requirement already satisfied: aiofiles in /usr/local/lib/python3.7/dist-packages (0.7.0)\n"
          ]
        }
      ]
    },
    {
      "cell_type": "code",
      "metadata": {
        "colab": {
          "base_uri": "https://localhost:8080/"
        },
        "id": "0_6nHw8hHCbN",
        "outputId": "1148a742-a61d-409a-faf2-97ed3688412e"
      },
      "source": [
        "%%writefile test.txt\n",
        "\n",
        "'Hello, World!'"
      ],
      "execution_count": null,
      "outputs": [
        {
          "output_type": "stream",
          "name": "stdout",
          "text": [
            "Overwriting test.txt\n"
          ]
        }
      ]
    },
    {
      "cell_type": "markdown",
      "metadata": {
        "id": "0VYE49i9HaXw"
      },
      "source": [
        "#### Templates을 사용하는 이유❓\n",
        "- 매번 텍스트로 작성할 수 도있지만, 번거롭고 예쁘게 디자인하기 힘들다 \n",
        "- 형식을 만들어 놓고 재활용 할 수 있도록 templates를 구성한다 \n",
        "- templates 기반으로 **치환**이 되는 부분, `{key : value}` 값이 입력됨 "
      ]
    },
    {
      "cell_type": "code",
      "metadata": {
        "colab": {
          "base_uri": "https://localhost:8080/"
        },
        "id": "xuDxmc-ldCuh",
        "outputId": "965bce3f-5887-453b-b2ca-7417fe139c3b"
      },
      "source": [
        "%%writefile templates/item.html\n",
        "\n",
        "<html>\n",
        "<head>\n",
        "    <title>Item Details</title>\n",
        "    <link href=\"{{ url_for('static', path='/styles.css') }}\" rel=\"stylesheet\">\n",
        "</head>\n",
        "<body>\n",
        "    <h1>Item ID: {{ id }}</h1>\n",
        "</body>\n",
        "</html>"
      ],
      "execution_count": null,
      "outputs": [
        {
          "output_type": "stream",
          "name": "stdout",
          "text": [
            "Writing templates/item.html\n"
          ]
        }
      ]
    },
    {
      "cell_type": "code",
      "metadata": {
        "colab": {
          "base_uri": "https://localhost:8080/"
        },
        "id": "bM5JOmCBd513",
        "outputId": "96af5227-f5fc-4880-d346-582cb35e89e2"
      },
      "source": [
        "%%writefile static/styles.css\n",
        "h1 {\n",
        "    color: green;\n",
        "}"
      ],
      "execution_count": null,
      "outputs": [
        {
          "output_type": "stream",
          "name": "stdout",
          "text": [
            "Writing static/styles.css\n"
          ]
        }
      ]
    },
    {
      "cell_type": "code",
      "metadata": {
        "id": "w7uE8Iamb6dn"
      },
      "source": [
        "from fastapi import FastAPI, File, UploadFile\n",
        "from typing import List\n",
        "import os\n",
        "\n",
        "import nest_asyncio\n",
        "from pyngrok import ngrok\n",
        "import uvicorn"
      ],
      "execution_count": null,
      "outputs": []
    },
    {
      "cell_type": "markdown",
      "metadata": {
        "id": "EXTQZu1OdK-J"
      },
      "source": [
        "* File Upload & Downloads"
      ]
    },
    {
      "cell_type": "code",
      "metadata": {
        "colab": {
          "base_uri": "https://localhost:8080/"
        },
        "id": "aqCCo37LnaX2",
        "outputId": "fb0b5c9e-7a86-4c26-d34b-82b91009a1e7"
      },
      "source": [
        "# 에러 발생시 코드 확인 \n",
        "!ps\n",
        "\n",
        "# 에러 유발 코드 삭제 \n",
        "!kill -9 292"
      ],
      "execution_count": null,
      "outputs": [
        {
          "name": "stdout",
          "output_type": "stream",
          "text": [
            "    PID TTY          TIME CMD\n",
            "      1 ?        00:00:06 node\n",
            "     17 ?        00:00:00 tail\n",
            "     53 ?        00:00:07 jupyter-noteboo\n",
            "     54 ?        00:00:04 dap_multiplexer\n",
            "     65 ?        00:00:23 python3\n",
            "     85 ?        00:00:09 python3\n",
            "    723 ?        00:00:00 ps\n"
          ]
        }
      ]
    },
    {
      "cell_type": "code",
      "metadata": {
        "colab": {
          "base_uri": "https://localhost:8080/"
        },
        "id": "VvaV6F5dcAAF",
        "outputId": "240aff5d-b8dd-4f6c-ff0d-7cbc420874e5"
      },
      "source": [
        "from fastapi import FastAPI, Request\n",
        "from fastapi import File, UploadFile\n",
        "from fastapi.responses import FileResponse\n",
        "from fastapi.responses import HTMLResponse\n",
        "from fastapi.staticfiles import StaticFiles\n",
        "from fastapi.templating import Jinja2Templates\n",
        "from typing import List\n",
        "import os\n",
        "import nest_asyncio\n",
        "from pyngrok import ngrok\n",
        "import uvicorn\n",
        "\n",
        "app = FastAPI()\n",
        "\n",
        "# get file \n",
        "@app.get('/getfile/{fn}')\n",
        "async def getFile(fn:str):\n",
        "  file_path = os.getcwd() + '/' + fn\n",
        "  return FileResponse(path = file_path, media_type='application/octet-stream', filename=fn)\n",
        "\n",
        "# file upload\n",
        "@app.post(\"/uploadfiles\")\n",
        "async def create_upload_files(files: List[UploadFile] = File(...)):\n",
        "    UPLOAD_DIRECTORY = \"./\"\n",
        "    for file in files:\n",
        "        contents = await file.read()\n",
        "        with open(os.path.join(UPLOAD_DIRECTORY, file.filename), \"wb\") as fp:\n",
        "            fp.write(contents)\n",
        "        print(file.filename)\n",
        "    return {\"filenames\": [file.filename for file in files]}\n",
        "\n",
        "# Using Templates (Jinja2)\n",
        "app.mount(\"/static\", StaticFiles(directory=\"static\"), name=\"static\")\n",
        "templates = Jinja2Templates(directory=\"templates\")\n",
        "\n",
        "@app.get(\"/items/{id}\", response_class=HTMLResponse)\n",
        "async def read_item(request: Request, id: str):\n",
        "    return templates.TemplateResponse(\"item.html\", {\"request\": request, \"id\": id})\n",
        "\n",
        "\n",
        "ngrok_tunnel = ngrok.connect(8000)\n",
        "print ('Public URL:', ngrok_tunnel.public_url)\n",
        "nest_asyncio.apply()\n",
        "uvicorn.run(app, host='0.0.0.0', port=8000)"
      ],
      "execution_count": null,
      "outputs": [
        {
          "output_type": "stream",
          "name": "stdout",
          "text": [
            "Public URL: http://0ea9-35-247-35-82.ngrok.io\n"
          ]
        },
        {
          "output_type": "stream",
          "name": "stderr",
          "text": [
            "INFO:     Started server process [2286]\n",
            "INFO:     Waiting for application startup.\n",
            "INFO:     Application startup complete.\n",
            "INFO:     Uvicorn running on http://0.0.0.0:8000 (Press CTRL+C to quit)\n"
          ]
        },
        {
          "output_type": "stream",
          "name": "stdout",
          "text": [
            "INFO:     114.203.149.236:0 - \"GET /docs HTTP/1.1\" 200 OK\n",
            "INFO:     114.203.149.236:0 - \"GET /openapi.json HTTP/1.1\" 200 OK\n",
            "INFO:     114.203.149.236:0 - \"GET /items/test HTTP/1.1\" 200 OK\n",
            "INFO:     114.203.149.236:0 - \"GET /items/test HTTP/1.1\" 200 OK\n",
            "INFO:     114.203.149.236:0 - \"GET /static/styles.css HTTP/1.1\" 200 OK\n",
            "INFO:     114.203.149.236:0 - \"GET /favicon.ico HTTP/1.1\" 404 Not Found\n"
          ]
        },
        {
          "output_type": "stream",
          "name": "stderr",
          "text": [
            "INFO:     Shutting down\n",
            "INFO:     Waiting for application shutdown.\n",
            "INFO:     Application shutdown complete.\n",
            "INFO:     Finished server process [2286]\n"
          ]
        }
      ]
    }
  ]
}