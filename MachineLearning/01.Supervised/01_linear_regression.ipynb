{
  "nbformat": 4,
  "nbformat_minor": 0,
  "metadata": {
    "colab": {
      "name": "01_linear_regression.ipynb",
      "provenance": []
    },
    "kernelspec": {
      "name": "python3",
      "display_name": "Python 3"
    },
    "language_info": {
      "name": "python"
    }
  },
  "cells": [
    {
      "cell_type": "code",
      "metadata": {
        "colab": {
          "resources": {
            "http://localhost:8080/nbextensions/google.colab/files.js": {
              "data": "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",
              "ok": true,
              "headers": [
                [
                  "content-type",
                  "application/javascript"
                ]
              ],
              "status": 200,
              "status_text": ""
            }
          },
          "base_uri": "https://localhost:8080/",
          "height": 91
        },
        "id": "Zo4-JvyRpOis",
        "outputId": "b0b4bb0b-9864-47cf-de97-e347d36c948a"
      },
      "source": [
        "from google.colab import files\n",
        "uploaded= files.upload()\n",
        "filename= list(uploaded.keys())[0]\n",
        "filename"
      ],
      "execution_count": 1,
      "outputs": [
        {
          "output_type": "display_data",
          "data": {
            "text/html": [
              "\n",
              "     <input type=\"file\" id=\"files-80f2a3bd-be87-41f3-973b-da99e94a6013\" name=\"files[]\" multiple disabled\n",
              "        style=\"border:none\" />\n",
              "     <output id=\"result-80f2a3bd-be87-41f3-973b-da99e94a6013\">\n",
              "      Upload widget is only available when the cell has been executed in the\n",
              "      current browser session. Please rerun this cell to enable.\n",
              "      </output>\n",
              "      <script src=\"/nbextensions/google.colab/files.js\"></script> "
            ],
            "text/plain": [
              "<IPython.core.display.HTML object>"
            ]
          },
          "metadata": {}
        },
        {
          "output_type": "stream",
          "name": "stdout",
          "text": [
            "Saving slr12.csv to slr12.csv\n"
          ]
        },
        {
          "output_type": "execute_result",
          "data": {
            "application/vnd.google.colaboratory.intrinsic+json": {
              "type": "string"
            },
            "text/plain": [
              "'slr12.csv'"
            ]
          },
          "metadata": {},
          "execution_count": 1
        }
      ]
    },
    {
      "cell_type": "markdown",
      "metadata": {
        "id": "TXnkTvD1_Dwm"
      },
      "source": [
        "# Linear Regression\n",
        "- 지도학습 머신 러닝 알고리즘\n",
        "\n",
        "### Function \n",
        "- y = mx + b\n",
        "\n",
        "  - y : predicted value\n",
        "  - x : independent variable\n",
        "  - m, b : coefficients  👈 *need to optimize in order to fit the regression line to our data*\n",
        "\n",
        "#### How does it work?\n",
        "+ coefficients(m,b)는 train과정에서 찾는다\n",
        "  * train 과정에서 그려진 linear regression line 을 바탕으로 \n",
        "+ test과정에서 y값을 예측! \n",
        "+ 예측된 y값과 실제 result 값을 비교해서 오차를 판단, 정확성 비교\n",
        "___\n",
        "\n"
      ]
    },
    {
      "cell_type": "markdown",
      "metadata": {
        "id": "hhq8XU6hpnf2"
      },
      "source": [
        "# Linear Regression in Python\n",
        "1. 필요 함수 생성\n",
        "2. Coefficient, Linear Regression 구하기\n",
        "3. Visualization\n",
        "4. 결과값 평가하기"
      ]
    },
    {
      "cell_type": "markdown",
      "metadata": {
        "id": "jDp3_XeJqLjg"
      },
      "source": [
        "1. Mean, Covariance, Variance 함수 식 만들기\n",
        "\n",
        "- $ variance = \\frac{\\sum_{i=1}^n{(x_i-\\bar{x})^2}}{n}, (\\bar{x}:평균) $\n",
        "- $ covariance = \\frac{\\sum_{i=1}^{n}{(x_i-\\bar{x})(y_i-\\bar{y})}}{n}, (\\bar{x}:x의 평균, \\bar{y}:y의 평균) $"
      ]
    },
    {
      "cell_type": "code",
      "metadata": {
        "id": "B9mewRAPpcYb"
      },
      "source": [
        "# mean\n",
        "def get_mean(arr):\n",
        "  return np.sum(arr)/len(arr)\n",
        "\n",
        "# variacne \n",
        "def get_variacne(arr, mean):\n",
        "  return np.sum((arr-mean)**2)\n",
        "\n",
        "# covariance\n",
        "def get_covariance(arr_x, mean_x, arr_y, mean_y):\n",
        "  final_arr = (arr_x - mean_x) *(arr_y - mean_y)\n",
        "  return np.sum(final_arr)"
      ],
      "execution_count": 3,
      "outputs": []
    },
    {
      "cell_type": "markdown",
      "metadata": {
        "id": "Mymf_2AbqxYY"
      },
      "source": [
        "2. Coefficients, Linear Regression 계산하기 \n",
        "- 그래프에서 train 시키고 line 을 그리는 작업"
      ]
    },
    {
      "cell_type": "code",
      "metadata": {
        "id": "2ePUO-KeBvuN"
      },
      "source": [
        "# find_coeff\n",
        "def get_coefficients(x,y):\n",
        "  x_mean = get_mean(x)\n",
        "  y_mean = get_mean(y)\n",
        "  m = get_covariance(x, x_mean, y, y_mean)/get_variacne(x, x_mean)\n",
        "  c = y_mean - x_mean*m\n",
        "  return m, c\n",
        "\n",
        "# Regression Fuction\n",
        "def linear_regression(x_train, y_train, x_test, y_test):\n",
        "  prediction = []\n",
        "  # sckit-learn에서 fit (train)과정 \n",
        "  m, c = get_coefficients(x_train, y_train)\n",
        "  # 예측 \n",
        "  for x in x_test:\n",
        "    y = m*x + c\n",
        "    prediction.append(y)"
      ],
      "execution_count": 64,
      "outputs": []
    },
    {
      "cell_type": "markdown",
      "metadata": {
        "id": "I1fJ3Btutqd2"
      },
      "source": [
        "3. 모델의 정확성을 측정하는 방법\n",
        "- r2_score\n",
        "- mean_squared_error (MSE)\n",
        "- root_mean_squared_error (RMSE)\n",
        "-  mean_absolute_error"
      ]
    },
    {
      "cell_type": "code",
      "metadata": {
        "id": "YtGSAqmPB233"
      },
      "source": [
        "# 평가, 판단하기 \n",
        "mse = mean_squared_error(prediction, y_test)\n",
        "print(\"The MSE score of the model is : \", mse)\n",
        "return prediction\n",
        "\n",
        "# There are 36 sample out of which 30 are for training and 6 are for testing \n",
        "linear_regression(x[:30], y[:30], x[30:], y[30:])"
      ],
      "execution_count": null,
      "outputs": []
    },
    {
      "cell_type": "markdown",
      "metadata": {
        "id": "9kPo6X4nr0Vd"
      },
      "source": [
        "4. 시각화 \n",
        " - Matplotlib 과 seaborn을 이용해서 regression line 그리기"
      ]
    },
    {
      "cell_type": "code",
      "metadata": {
        "id": "g7YsHkuqruNd"
      },
      "source": [
        "# Visualize\n",
        "def plot_reg_line(x, y):\n",
        "  prediction = []\n",
        "  m,c = get_coefficients(x,y)\n",
        "  for x0 in range(650, 1400):\n",
        "    yhat = m*x0 + c\n",
        "    prediction. append(yhat)\n",
        "  \n",
        "\n",
        "  fig = plt.figure(figsize=(20,7))     # Scatter plot \n",
        "  plt.subplot(1,2,1)\n",
        "  sns.scatterplot(x=x, y=y)\n",
        "  plt.xlabel('X')\n",
        "  plt.ylabel('Y')\n",
        "  plt.title('Scatter Plot between X and Y')\n",
        "\n",
        "  plt.subplot(1,2,2)                       # Scatter + line plot \n",
        "  sns.scatterplot(x=x, y=y, color = 'blue')\n",
        "  sns.lineplot(x=[i for i in range(650,1400)], y= prediction, color ='red')\n",
        "  plt.xlabel('X')\n",
        "  plt.ylabel('Y')\n",
        "  plt.title('Regression Plot')\n",
        "  plt.show()"
      ],
      "execution_count": 10,
      "outputs": []
    },
    {
      "cell_type": "markdown",
      "metadata": {
        "id": "UqXk0FrKtRH5"
      },
      "source": [
        " 5. 시각화\n",
        "- Seaborn의 Regplot 을 사용하면 scatter plot + line plot 을 한번에 구할 수 있음"
      ]
    },
    {
      "cell_type": "code",
      "metadata": {
        "id": "xUk5uISwsrrP"
      },
      "source": [
        "sns.regplot(x,y)\n",
        "plt.xlabel('X')\n",
        "plt.ylabel('Y')\n",
        "plt.title('Regression Plot')\n",
        "plt.show()"
      ],
      "execution_count": null,
      "outputs": []
    },
    {
      "cell_type": "markdown",
      "metadata": {
        "id": "xN8w0mbot7MU"
      },
      "source": [
        "# Linear Regression 이용해서 실제 데이터 평가하기\n",
        "Dataset : Pizza Franchise Data\n",
        "\n",
        "* X 열 : Annual Franchise Fee\n",
        "* Y 열 : Start Up Cost \n",
        "\n",
        "Reference : Business Opportunity- Handbook"
      ]
    },
    {
      "cell_type": "code",
      "metadata": {
        "id": "-7jGM7DVt48L"
      },
      "source": [
        "# Import necessary Libraries \n",
        "import numpy as np\n",
        "import pandas as pd\n",
        "import matplotlib.pyplot as plt\n",
        "import seaborn as sns\n",
        "from sklearn.metrics import r2_score, mean_squared_error\n",
        "\n",
        "\n",
        "# Read Data\n",
        "df = pd.read_csv('slr12.csv')\n",
        "x = df['AnnualFranchiseFee'].values\n",
        "y = df['StartUpCost'].values\n",
        "\n",
        "# mean\n",
        "def get_mean(arr):\n",
        "  return np.sum(arr)/len(arr)\n",
        "\n",
        "# variacne \n",
        "def get_variacne(arr, mean):\n",
        "  return np.sum((arr-mean)**2)\n",
        "\n",
        "# covariance\n",
        "def get_covariance(arr_x, mean_x, arr_y, mean_y):\n",
        "  final_arr = (arr_x - mean_x) *(arr_y - mean_y)\n",
        "  return np.sum(final_arr)"
      ],
      "execution_count": 50,
      "outputs": []
    },
    {
      "cell_type": "code",
      "metadata": {
        "colab": {
          "base_uri": "https://localhost:8080/"
        },
        "id": "5pxh84cqusy9",
        "outputId": "277afa5c-0707-401a-9436-00f3942e0088"
      },
      "source": [
        "# find_coeff\n",
        "def get_coefficients(x,y):\n",
        "  x_mean = get_mean(x)\n",
        "  y_mean = get_mean(y)\n",
        "  m = get_covariance(x, x_mean, y, y_mean)/get_variacne(x, x_mean)\n",
        "  c = y_mean - x_mean*m\n",
        "  return m, c\n",
        "\n",
        "# Regression Fuction\n",
        "def linear_regression(x_train, y_train, x_test, y_test):\n",
        "  prediction = []\n",
        "  m, c = get_coefficients(x_train, y_train)\n",
        "  for x in x_test:\n",
        "    y = m*x + c\n",
        "    prediction.append(y)\n",
        "\n",
        "# 평가, 판단하기 \n",
        "  mse = mean_squared_error(prediction, y_test)\n",
        "  print(\"The MSE score of the model is : \", mse)\n",
        "  return prediction\n",
        "\n",
        "# There are 36 sample out of which 30 are for training and 6 are for testing \n",
        "linear_regression(x[:30], y[:30], x[30:], y[30:])\n"
      ],
      "execution_count": 52,
      "outputs": [
        {
          "output_type": "stream",
          "name": "stdout",
          "text": [
            "The MSE score of the model is :  97482.15509744169\n"
          ]
        },
        {
          "output_type": "execute_result",
          "data": {
            "text/plain": [
              "[863.2891581051077,\n",
              " 1237.6414070056592,\n",
              " 813.3755249183675,\n",
              " 1013.0300576653283,\n",
              " 1013.0300576653283,\n",
              " 963.1164244785881]"
            ]
          },
          "metadata": {},
          "execution_count": 52
        }
      ]
    },
    {
      "cell_type": "code",
      "metadata": {
        "colab": {
          "base_uri": "https://localhost:8080/",
          "height": 406
        },
        "id": "7Ia4FxeBu8fR",
        "outputId": "c91361fd-1dca-408e-ca52-a69b50cc3d90"
      },
      "source": [
        "# Visualize\n",
        "def plot_reg_line(x, y):\n",
        "  prediction = []\n",
        "  m,c = get_coefficients(x,y)\n",
        "  for x0 in range(650, 1400):\n",
        "    yhat = m*x0 + c\n",
        "    prediction. append(yhat)\n",
        "  \n",
        "\n",
        "  fig = plt.figure(figsize=(20,7))     # Scatter plot \n",
        "  plt.subplot(1,2,1)\n",
        "  sns.scatterplot(x=x, y=y)\n",
        "  plt.xlabel('X')\n",
        "  plt.ylabel('Y')\n",
        "  plt.title('Scatter Plot between X and Y')\n",
        "\n",
        "  plt.subplot(1,2,2)                       # Scatter + line plot \n",
        "  sns.scatterplot(x=x, y=y, color = 'blue')\n",
        "  sns.lineplot(x=[i for i in range(650,1400)], y= prediction, color ='red')\n",
        "  plt.xlabel('X')\n",
        "  plt.ylabel('Y')\n",
        "  plt.title('Regression Plot')\n",
        "  plt.show()\n",
        "\n",
        "plot_reg_line(x, y)"
      ],
      "execution_count": 56,
      "outputs": [
        {
          "output_type": "display_data",
          "data": {
            "image/png": "[encoded data removed]",
            "text/plain": [
              "<Figure size 1440x504 with 2 Axes>"
            ]
          },
          "metadata": {
            "needs_background": "light"
          }
        }
      ]
    },
    {
      "cell_type": "markdown",
      "metadata": {
        "id": "qDHc9Yu2xT3T"
      },
      "source": [
        "### 정확하게 linear regression을 만들었는지 확인하기 \n",
        "- scikit learn의 LinearRegression 사용"
      ]
    },
    {
      "cell_type": "code",
      "metadata": {
        "colab": {
          "base_uri": "https://localhost:8080/"
        },
        "id": "l1vbFc7Nxeus",
        "outputId": "e396bd39-e90f-4492-91f6-b8ca66354ea5"
      },
      "source": [
        "from sklearn.linear_model import LinearRegression\n",
        "\n",
        "reg = LinearRegression()\n",
        "reg.fit(x[:30].reshape(-1,1), y[:30])\n",
        "prediction = reg.predict(x[30:].reshape(-1,1))\n",
        "mse = mean_squared_error(prediction, y[30:])\n",
        "\n",
        "print('The MSE score of the model is: ', mse)"
      ],
      "execution_count": 57,
      "outputs": [
        {
          "output_type": "stream",
          "name": "stdout",
          "text": [
            "The MSE score of the model is:  97482.15509744169\n"
          ]
        }
      ]
    },
    {
      "cell_type": "code",
      "metadata": {
        "colab": {
          "base_uri": "https://localhost:8080/",
          "height": 349
        },
        "id": "rKXt9ckM4K-_",
        "outputId": "a89af54a-60e4-409e-edfc-ddbeb982806f"
      },
      "source": [
        "sns.regplot(x,y)\n",
        "plt.xlabel('X')\n",
        "plt.ylabel('Y')\n",
        "plt.title('Regression Plot')\n",
        "plt.show()"
      ],
      "execution_count": 61,
      "outputs": [
        {
          "output_type": "stream",
          "name": "stderr",
          "text": [
            "/usr/local/lib/python3.7/dist-packages/seaborn/_decorators.py:43: FutureWarning: Pass the following variables as keyword args: x, y. From version 0.12, the only valid positional argument will be `data`, and passing other arguments without an explicit keyword will result in an error or misinterpretation.\n",
            "  FutureWarning\n"
          ]
        },
        {
          "output_type": "display_data",
          "data": {
            "image/png": "[encoded data removed]",
            "text/plain": [
              "<Figure size 432x288 with 1 Axes>"
            ]
          },
          "metadata": {
            "needs_background": "light"
          }
        }
      ]
    },
    {
      "cell_type": "code",
      "metadata": {
        "colab": {
          "base_uri": "https://localhost:8080/",
          "height": 406
        },
        "id": "XtVNwq8Bx9C6",
        "outputId": "7cb5b4b6-61bf-4894-ae26-6c92e0162038"
      },
      "source": [
        "prediction = reg.predict(np.array([i for i in range(650, 1400)]).reshape(-1,1))\n",
        "\n",
        "fig = plt.figure(figsize=(20,7))     # Scatter plot \n",
        "plt.subplot(1,2,1)\n",
        "sns.scatterplot(x=x, y=y)\n",
        "plt.xlabel('X')\n",
        "plt.ylabel('Y')\n",
        "plt.title('Scatter Plot between X and Y')\n",
        "\n",
        "plt.subplot(1,2,2)                       # Scatter + line plot \n",
        "sns.scatterplot(x=x, y=y, color = 'blue')\n",
        "sns.lineplot(x=[i for i in range(650,1400)], y= prediction, color ='red')\n",
        "plt.xlabel('X')\n",
        "plt.ylabel('Y')\n",
        "plt.title('Regression Plot')\n",
        "plt.show()"
      ],
      "execution_count": 63,
      "outputs": [
        {
          "output_type": "display_data",
          "data": {
            "image/png": "[encoded data removed]",
            "text/plain": [
              "<Figure size 1440x504 with 2 Axes>"
            ]
          },
          "metadata": {
            "needs_background": "light"
          }
        }
      ]
    }
  ]
}