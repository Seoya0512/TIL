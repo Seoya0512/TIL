{
  "nbformat": 4,
  "nbformat_minor": 2,
  "metadata": {
    "colab": {
      "name": "01_K_Nearest_Neighbor.ipynb",
      "provenance": []
    },
    "kernelspec": {
      "name": "python3",
      "display_name": "Python 3"
    },
    "language_info": {
      "name": "python"
    }
  },
  "cells": [
    {
      "cell_type": "markdown",
      "source": [
        "# Classification (분류)\n",
        "___\n",
        "## K-Nearest Neighbor 🗳\n",
        "머신 러닝 모델 중 가장 직관적이고 간단한 지도학습 분류 모델 <br>\n",
        "다수결의 원칙과 매우 유사\n",
        "- 유사성 척도(거리함수) 기반 분류 방법 <br>\n",
        "✔️ Euclidean distance = $\\sqrt{\\displaystyle\\sum_{i=1}^{k} (x_i - y_i)^2}$\n",
        "\n",
        "### 알고리즘 \n",
        "1. 학습데이터가 주어짐 : 클래스(카테고리)별로 저장 \n",
        "2. 분류할 새로운 데이터가 들어옴 (Train)<br>\n",
        "  1) 입력 데이터와 '가장 가까운' <span style= 'color:red'>k개의 (학습)데이터</span>를 찾음 <br>\n",
        "  2) K개의 점이 속한 그룹 중에서 데이터가 <u>가장 많은 그룹</u>을 입력데이터의 그룹으로 정함 (k는 항상 홀수!!) \n",
        "\n",
        "\n",
        "### 데이터 정규화 변환 \n",
        "✔️ **Minmax Scaling** : 가장 큰 값은 1, 가장 작은 값은 0\n",
        "- 각 feature의 범위가 다르면 범위가 작은 feature1 보다 범위가 큰 feature 2가 값을 예측하는데 더 많은 영향을 준다. \n",
        "- 이를 피하기 위해서는, **데이터 정규화**가 필요하다 \n",
        "\n",
        "\n"
      ],
      "metadata": {
        "id": "ctIAXHLoJgd4"
      }
    },
    {
      "cell_type": "code",
      "execution_count": 1,
      "source": [
        "import pandas as pd\n",
        "import numpy as np\n",
        "from sklearn.datasets import load_iris\n",
        "import matplotlib.pyplot as plt\n",
        "import seaborn as sns; sns.set()\n",
        "%matplotlib inline"
      ],
      "outputs": [],
      "metadata": {
        "id": "vJyYOjqLJdt2"
      }
    },
    {
      "cell_type": "markdown",
      "source": [
        "### 데이터로 실습하기"
      ],
      "metadata": {
        "id": "GBD00NaZQddE"
      }
    },
    {
      "cell_type": "code",
      "execution_count": 2,
      "source": [
        "iris = load_iris()"
      ],
      "outputs": [],
      "metadata": {
        "id": "Bo-igogiMDTB"
      }
    },
    {
      "cell_type": "code",
      "execution_count": 4,
      "source": [
        "df = pd.DataFrame(iris.data, columns= iris.feature_names)\n",
        "df['species'] = pd.Series(iris.target)\n",
        "df.head()\n",
        "\n",
        "# df.describe()를 통해서 각 데이터의 특성 혹은 통계값을 확인해야한다\n",
        "# 필요시 정규화도 진행 "
      ],
      "outputs": [
        {
          "output_type": "execute_result",
          "data": {
            "text/html": [
              "<div>\n",
              "<style scoped>\n",
              "    .dataframe tbody tr th:only-of-type {\n",
              "        vertical-align: middle;\n",
              "    }\n",
              "\n",
              "    .dataframe tbody tr th {\n",
              "        vertical-align: top;\n",
              "    }\n",
              "\n",
              "    .dataframe thead th {\n",
              "        text-align: right;\n",
              "    }\n",
              "</style>\n",
              "<table border=\"1\" class=\"dataframe\">\n",
              "  <thead>\n",
              "    <tr style=\"text-align: right;\">\n",
              "      <th></th>\n",
              "      <th>sepal length (cm)</th>\n",
              "      <th>sepal width (cm)</th>\n",
              "      <th>petal length (cm)</th>\n",
              "      <th>petal width (cm)</th>\n",
              "      <th>species</th>\n",
              "    </tr>\n",
              "  </thead>\n",
              "  <tbody>\n",
              "    <tr>\n",
              "      <th>0</th>\n",
              "      <td>5.1</td>\n",
              "      <td>3.5</td>\n",
              "      <td>1.4</td>\n",
              "      <td>0.2</td>\n",
              "      <td>0</td>\n",
              "    </tr>\n",
              "    <tr>\n",
              "      <th>1</th>\n",
              "      <td>4.9</td>\n",
              "      <td>3.0</td>\n",
              "      <td>1.4</td>\n",
              "      <td>0.2</td>\n",
              "      <td>0</td>\n",
              "    </tr>\n",
              "    <tr>\n",
              "      <th>2</th>\n",
              "      <td>4.7</td>\n",
              "      <td>3.2</td>\n",
              "      <td>1.3</td>\n",
              "      <td>0.2</td>\n",
              "      <td>0</td>\n",
              "    </tr>\n",
              "    <tr>\n",
              "      <th>3</th>\n",
              "      <td>4.6</td>\n",
              "      <td>3.1</td>\n",
              "      <td>1.5</td>\n",
              "      <td>0.2</td>\n",
              "      <td>0</td>\n",
              "    </tr>\n",
              "    <tr>\n",
              "      <th>4</th>\n",
              "      <td>5.0</td>\n",
              "      <td>3.6</td>\n",
              "      <td>1.4</td>\n",
              "      <td>0.2</td>\n",
              "      <td>0</td>\n",
              "    </tr>\n",
              "  </tbody>\n",
              "</table>\n",
              "</div>"
            ],
            "text/plain": [
              "   sepal length (cm)  sepal width (cm)  ...  petal width (cm)  species\n",
              "0                5.1               3.5  ...               0.2        0\n",
              "1                4.9               3.0  ...               0.2        0\n",
              "2                4.7               3.2  ...               0.2        0\n",
              "3                4.6               3.1  ...               0.2        0\n",
              "4                5.0               3.6  ...               0.2        0\n",
              "\n",
              "[5 rows x 5 columns]"
            ]
          },
          "metadata": {},
          "execution_count": 4
        }
      ],
      "metadata": {
        "colab": {
          "base_uri": "https://localhost:8080/",
          "height": 204
        },
        "id": "EU1N9d-LMFaM",
        "outputId": "b892b157-23e2-48cb-d8fd-41f4d2ceed72"
      }
    },
    {
      "cell_type": "code",
      "execution_count": 37,
      "source": [
        "df.describe()"
      ],
      "outputs": [
        {
          "output_type": "execute_result",
          "data": {
            "text/html": [
              "<div>\n",
              "<style scoped>\n",
              "    .dataframe tbody tr th:only-of-type {\n",
              "        vertical-align: middle;\n",
              "    }\n",
              "\n",
              "    .dataframe tbody tr th {\n",
              "        vertical-align: top;\n",
              "    }\n",
              "\n",
              "    .dataframe thead th {\n",
              "        text-align: right;\n",
              "    }\n",
              "</style>\n",
              "<table border=\"1\" class=\"dataframe\">\n",
              "  <thead>\n",
              "    <tr style=\"text-align: right;\">\n",
              "      <th></th>\n",
              "      <th>sepal length (cm)</th>\n",
              "      <th>sepal width (cm)</th>\n",
              "      <th>petal length (cm)</th>\n",
              "      <th>petal width (cm)</th>\n",
              "      <th>species</th>\n",
              "    </tr>\n",
              "  </thead>\n",
              "  <tbody>\n",
              "    <tr>\n",
              "      <th>count</th>\n",
              "      <td>150.000000</td>\n",
              "      <td>150.000000</td>\n",
              "      <td>150.000000</td>\n",
              "      <td>150.000000</td>\n",
              "      <td>150.000000</td>\n",
              "    </tr>\n",
              "    <tr>\n",
              "      <th>mean</th>\n",
              "      <td>5.843333</td>\n",
              "      <td>3.057333</td>\n",
              "      <td>3.758000</td>\n",
              "      <td>1.199333</td>\n",
              "      <td>1.000000</td>\n",
              "    </tr>\n",
              "    <tr>\n",
              "      <th>std</th>\n",
              "      <td>0.828066</td>\n",
              "      <td>0.435866</td>\n",
              "      <td>1.765298</td>\n",
              "      <td>0.762238</td>\n",
              "      <td>0.819232</td>\n",
              "    </tr>\n",
              "    <tr>\n",
              "      <th>min</th>\n",
              "      <td>4.300000</td>\n",
              "      <td>2.000000</td>\n",
              "      <td>1.000000</td>\n",
              "      <td>0.100000</td>\n",
              "      <td>0.000000</td>\n",
              "    </tr>\n",
              "    <tr>\n",
              "      <th>25%</th>\n",
              "      <td>5.100000</td>\n",
              "      <td>2.800000</td>\n",
              "      <td>1.600000</td>\n",
              "      <td>0.300000</td>\n",
              "      <td>0.000000</td>\n",
              "    </tr>\n",
              "    <tr>\n",
              "      <th>50%</th>\n",
              "      <td>5.800000</td>\n",
              "      <td>3.000000</td>\n",
              "      <td>4.350000</td>\n",
              "      <td>1.300000</td>\n",
              "      <td>1.000000</td>\n",
              "    </tr>\n",
              "    <tr>\n",
              "      <th>75%</th>\n",
              "      <td>6.400000</td>\n",
              "      <td>3.300000</td>\n",
              "      <td>5.100000</td>\n",
              "      <td>1.800000</td>\n",
              "      <td>2.000000</td>\n",
              "    </tr>\n",
              "    <tr>\n",
              "      <th>max</th>\n",
              "      <td>7.900000</td>\n",
              "      <td>4.400000</td>\n",
              "      <td>6.900000</td>\n",
              "      <td>2.500000</td>\n",
              "      <td>2.000000</td>\n",
              "    </tr>\n",
              "  </tbody>\n",
              "</table>\n",
              "</div>"
            ],
            "text/plain": [
              "       sepal length (cm)  sepal width (cm)  ...  petal width (cm)     species\n",
              "count         150.000000        150.000000  ...        150.000000  150.000000\n",
              "mean            5.843333          3.057333  ...          1.199333    1.000000\n",
              "std             0.828066          0.435866  ...          0.762238    0.819232\n",
              "min             4.300000          2.000000  ...          0.100000    0.000000\n",
              "25%             5.100000          2.800000  ...          0.300000    0.000000\n",
              "50%             5.800000          3.000000  ...          1.300000    1.000000\n",
              "75%             6.400000          3.300000  ...          1.800000    2.000000\n",
              "max             7.900000          4.400000  ...          2.500000    2.000000\n",
              "\n",
              "[8 rows x 5 columns]"
            ]
          },
          "metadata": {},
          "execution_count": 37
        }
      ],
      "metadata": {
        "colab": {
          "base_uri": "https://localhost:8080/",
          "height": 314
        },
        "id": "YtvpiBULX8Ne",
        "outputId": "e45e83b9-f38b-40ac-f44d-95ba59310d46"
      }
    },
    {
      "cell_type": "markdown",
      "source": [
        "* 데이터 확인하기"
      ],
      "metadata": {
        "id": "7psTxX0lMWSo"
      }
    },
    {
      "cell_type": "code",
      "execution_count": 5,
      "source": [
        "def setcolor(value):\n",
        "  color = [ ]\n",
        "  colors= ['r', 'g', 'b']\n",
        "  for i in value.values:\n",
        "    color.append(colors[i])\n",
        "  return color"
      ],
      "outputs": [],
      "metadata": {
        "id": "dnc0VF7aMNm5"
      }
    },
    {
      "cell_type": "code",
      "execution_count": 6,
      "source": [
        "# species 별로 다른 색의 점으로 표기 \n",
        "plt.scatter(x=df['petal length (cm)'], y=df['petal width (cm)'],\n",
        "            color =setcolor(df['species']))"
      ],
      "outputs": [
        {
          "output_type": "execute_result",
          "data": {
            "text/plain": [
              "<matplotlib.collections.PathCollection at 0x7f67aa58e410>"
            ]
          },
          "metadata": {},
          "execution_count": 6
        },
        {
          "output_type": "display_data",
          "data": {
            "image/png": "[encoded data removed]",
            "text/plain": [
              "<Figure size 432x288 with 1 Axes>"
            ]
          },
          "metadata": {
            "needs_background": "light"
          }
        }
      ],
      "metadata": {
        "colab": {
          "base_uri": "https://localhost:8080/",
          "height": 285
        },
        "id": "6TKgfPA1MhZc",
        "outputId": "8ec98b63-a0eb-403e-bf54-4b76e35ed38d"
      }
    },
    {
      "cell_type": "markdown",
      "source": [
        "* Iris 모델 적용하기 \n",
        "  -  kNN = 3 으로 kNN 알고리즘 학습하기"
      ],
      "metadata": {
        "id": "yd75gUWNMyuK"
      }
    },
    {
      "cell_type": "code",
      "execution_count": 10,
      "source": [
        "from sklearn.neighbors import KNeighborsClassifier\n",
        "\n",
        "# kNN = 3 으로 학습하기 \n",
        "column_train = ['petal length (cm)', 'petal width (cm)']\n",
        "neigh_3 = KNeighborsClassifier(n_neighbors =3,  weights ='distance')"
      ],
      "outputs": [],
      "metadata": {
        "id": "hkVcjc77Mt8-"
      }
    },
    {
      "cell_type": "code",
      "execution_count": 11,
      "source": [
        "# 학습\n",
        "neigh_3_train = neigh_3.fit(df[column_train], df['species'])"
      ],
      "outputs": [],
      "metadata": {
        "id": "fY7p22GNNE0q"
      }
    },
    {
      "cell_type": "markdown",
      "source": [
        "* 학습한 결과를 새로운 점에 적용해 예측하기"
      ],
      "metadata": {
        "id": "7yzUJk1BNZzd"
      }
    },
    {
      "cell_type": "code",
      "execution_count": 12,
      "source": [
        "new_data = np.array([2.5, 0.8]).reshape(1,-1)\n",
        "new_data"
      ],
      "outputs": [
        {
          "output_type": "execute_result",
          "data": {
            "text/plain": [
              "array([[2.5, 0.8]])"
            ]
          },
          "metadata": {},
          "execution_count": 12
        }
      ],
      "metadata": {
        "colab": {
          "base_uri": "https://localhost:8080/"
        },
        "id": "ngvq-Kw1NR71",
        "outputId": "11d7d7ff-03e7-4635-a944-1ed231e30af9"
      }
    },
    {
      "cell_type": "code",
      "execution_count": 13,
      "source": [
        "# 학습 자료 출력 \n",
        "plt.scatter(x=df['petal length (cm)'], y=df['petal width (cm)'],\n",
        "            color =setcolor(df['species']))\n",
        "\n",
        "# 새 자료의 위치 출력 \n",
        "plt.scatter(x=new_data[0,0], y=new_data[0,1], color='orange')"
      ],
      "outputs": [
        {
          "output_type": "execute_result",
          "data": {
            "text/plain": [
              "<matplotlib.collections.PathCollection at 0x7f67a9ce0c10>"
            ]
          },
          "metadata": {},
          "execution_count": 13
        },
        {
          "output_type": "display_data",
          "data": {
            "image/png": "[encoded data removed]",
            "text/plain": [
              "<Figure size 432x288 with 1 Axes>"
            ]
          },
          "metadata": {
            "needs_background": "light"
          }
        }
      ],
      "metadata": {
        "colab": {
          "base_uri": "https://localhost:8080/",
          "height": 285
        },
        "id": "3sWCC8d2NiPQ",
        "outputId": "e3c5872e-f552-4dde-ad3e-f903076e5e0c"
      }
    },
    {
      "cell_type": "code",
      "execution_count": 14,
      "source": [
        "# class 예측하기 \n",
        "neigh_3_class = neigh_3_train.predict(new_data)\n",
        "print(neigh_3_class)"
      ],
      "outputs": [
        {
          "output_type": "stream",
          "name": "stdout",
          "text": [
            "[1]\n"
          ]
        }
      ],
      "metadata": {
        "colab": {
          "base_uri": "https://localhost:8080/"
        },
        "id": "cPurdcIeNygV",
        "outputId": "849da705-6ae4-4dea-9e63-e5c8deca610b"
      }
    },
    {
      "cell_type": "markdown",
      "source": [
        "* 새로운 데이터 적용하기"
      ],
      "metadata": {
        "id": "NOpPmHHYOEas"
      }
    },
    {
      "cell_type": "code",
      "execution_count": 16,
      "source": [
        "# 학습 자료 출력 \n",
        "plt.scatter(x=df['petal length (cm)'], y=df['petal width (cm)'],\n",
        "            color =setcolor(df['species']))\n",
        "\n",
        "# 새 자료의 위치 출력 \n",
        "c3 = pd.DataFrame(np.array(neigh_3_class), columns=['c'])\n",
        "col3 = c3['c']\n",
        "plt.scatter(x=new_data[0,0], y=new_data[0,1], color=setcolor(col3))"
      ],
      "outputs": [
        {
          "output_type": "execute_result",
          "data": {
            "text/plain": [
              "<matplotlib.collections.PathCollection at 0x7f67a9b59810>"
            ]
          },
          "metadata": {},
          "execution_count": 16
        },
        {
          "output_type": "display_data",
          "data": {
            "image/png": "[encoded data removed]",
            "text/plain": [
              "<Figure size 432x288 with 1 Axes>"
            ]
          },
          "metadata": {
            "needs_background": "light"
          }
        }
      ],
      "metadata": {
        "colab": {
          "base_uri": "https://localhost:8080/",
          "height": 285
        },
        "id": "KWI_3FvkN_0X",
        "outputId": "01de3716-86b3-4573-86aa-ac1eacb314da"
      }
    },
    {
      "cell_type": "markdown",
      "source": [
        "* Iris 모델 적용하기 \n",
        "  -  kNN = 7 으로 kNN 알고리즘 학습하기"
      ],
      "metadata": {
        "id": "614bXtFIOlmY"
      }
    },
    {
      "cell_type": "code",
      "execution_count": 25,
      "source": [
        "column_train = ['petal length (cm)', 'petal width (cm)']\n",
        "neigh_7 = KNeighborsClassifier(n_neighbors =7,  weights ='distance')"
      ],
      "outputs": [],
      "metadata": {
        "id": "s9SKojtiOSf6"
      }
    },
    {
      "cell_type": "code",
      "execution_count": 26,
      "source": [
        "neigh_7_train = neigh_7.fit(df[column_train], df['species'])"
      ],
      "outputs": [],
      "metadata": {
        "id": "fvDeLYOPOvw1"
      }
    },
    {
      "cell_type": "code",
      "execution_count": 30,
      "source": [
        "neigh_7_class = neigh_7_train.predict(new_data)\n",
        "print(neigh_7_class)"
      ],
      "outputs": [
        {
          "output_type": "stream",
          "name": "stdout",
          "text": [
            "[0]\n"
          ]
        }
      ],
      "metadata": {
        "colab": {
          "base_uri": "https://localhost:8080/"
        },
        "id": "2dNhM-xwO0aC",
        "outputId": "f70504a3-b9cc-4ce9-89b5-d98f7a76b687"
      }
    },
    {
      "cell_type": "code",
      "execution_count": 28,
      "source": [
        "plt.scatter(x=df['petal length (cm)'], y=df['petal width (cm)'],\n",
        "            color =setcolor(df['species']))\n",
        "# 새 자료의 위치 출력 \n",
        "plt.scatter(x=new_data[0,0], y=new_data[0,1], color='orange')"
      ],
      "outputs": [
        {
          "output_type": "execute_result",
          "data": {
            "text/plain": [
              "<matplotlib.collections.PathCollection at 0x7f67a9a2ed10>"
            ]
          },
          "metadata": {},
          "execution_count": 28
        },
        {
          "output_type": "display_data",
          "data": {
            "image/png": "[encoded data removed]",
            "text/plain": [
              "<Figure size 432x288 with 1 Axes>"
            ]
          },
          "metadata": {
            "needs_background": "light"
          }
        }
      ],
      "metadata": {
        "colab": {
          "base_uri": "https://localhost:8080/",
          "height": 285
        },
        "id": "H_bgD0F2O4rJ",
        "outputId": "9611edcb-bbea-45f7-e54e-42fd6867212e"
      }
    },
    {
      "cell_type": "code",
      "execution_count": 29,
      "source": [
        "# 학습 자료 출력 \n",
        "plt.scatter(x=df['petal length (cm)'], y=df['petal width (cm)'],\n",
        "            color =setcolor(df['species']))\n",
        "\n",
        "# 새 자료의 위치 출력 \n",
        "c7 = pd.DataFrame(np.array(neigh_7_class), columns=['c'])\n",
        "col7 = c7['c']\n",
        "plt.scatter(x=new_data[0,0], y=new_data[0,1], color=setcolor(col7))"
      ],
      "outputs": [
        {
          "output_type": "execute_result",
          "data": {
            "text/plain": [
              "<matplotlib.collections.PathCollection at 0x7f67a99a4610>"
            ]
          },
          "metadata": {},
          "execution_count": 29
        },
        {
          "output_type": "display_data",
          "data": {
            "image/png": "[encoded data removed]",
            "text/plain": [
              "<Figure size 432x288 with 1 Axes>"
            ]
          },
          "metadata": {
            "needs_background": "light"
          }
        }
      ],
      "metadata": {
        "colab": {
          "base_uri": "https://localhost:8080/",
          "height": 285
        },
        "id": "t77ffNr2PJTE",
        "outputId": "5559576f-eddc-443e-a61a-4e0afa01f494"
      }
    },
    {
      "cell_type": "markdown",
      "source": [
        "* n_neighbor 모델의 accuracy 평가하기"
      ],
      "metadata": {
        "id": "qoXmgF7hVTZC"
      }
    },
    {
      "cell_type": "code",
      "execution_count": 31,
      "source": [
        "# Data를 train, test로 나눠서 정확도 확인하기 (1)\n",
        "\n",
        "from sklearn.model_selection import train_test_split\n",
        "from sklearn.metrics import classification_report, confusion_matrix"
      ],
      "outputs": [],
      "metadata": {
        "id": "T6hOu-tKP4Ak"
      }
    },
    {
      "cell_type": "code",
      "execution_count": 32,
      "source": [
        "X_train, X_test, y_train, y_test = train_test_split(df[column_train],\n",
        "                                                    df['species'], test_size=0.33)"
      ],
      "outputs": [],
      "metadata": {
        "id": "Al10F5ZhVnLk"
      }
    },
    {
      "cell_type": "code",
      "execution_count": 35,
      "source": [
        "# n_neighbor= 3 으로 학습시키기 \n",
        "neigh3 = KNeighborsClassifier(n_neighbors=3, weights='distance')\n",
        "neigh3.fit(X_train, y_train)"
      ],
      "outputs": [
        {
          "output_type": "execute_result",
          "data": {
            "text/plain": [
              "KNeighborsClassifier(algorithm='auto', leaf_size=30, metric='minkowski',\n",
              "                     metric_params=None, n_jobs=None, n_neighbors=3, p=2,\n",
              "                     weights='distance')"
            ]
          },
          "metadata": {},
          "execution_count": 35
        }
      ],
      "metadata": {
        "colab": {
          "base_uri": "https://localhost:8080/"
        },
        "id": "RRYMNRo8VyT_",
        "outputId": "44e9f95a-94a2-419b-d535-55f7258b14da"
      }
    },
    {
      "cell_type": "code",
      "execution_count": 36,
      "source": [
        "# 학습시킨 모델의 정확도 테스트 \n",
        "\n",
        "print('--------- 3개의 이웃 데이터 ----------')\n",
        "print(classification_report(y_test, neigh3.predict(X_test)))"
      ],
      "outputs": [
        {
          "output_type": "stream",
          "name": "stdout",
          "text": [
            "--------- 3개의 이웃 데이터 ----------\n",
            "              precision    recall  f1-score   support\n",
            "\n",
            "           0       1.00      1.00      1.00        11\n",
            "           1       0.87      0.91      0.89        22\n",
            "           2       0.88      0.82      0.85        17\n",
            "\n",
            "    accuracy                           0.90        50\n",
            "   macro avg       0.91      0.91      0.91        50\n",
            "weighted avg       0.90      0.90      0.90        50\n",
            "\n"
          ]
        }
      ],
      "metadata": {
        "colab": {
          "base_uri": "https://localhost:8080/"
        },
        "id": "CUAL06HbWNcf",
        "outputId": "0fd4b803-6199-4de8-dc7e-2c0d3c930b2f"
      }
    },
    {
      "cell_type": "code",
      "execution_count": null,
      "source": [],
      "outputs": [],
      "metadata": {
        "id": "LPo8pFXQWfuB"
      }
    }
  ]
}