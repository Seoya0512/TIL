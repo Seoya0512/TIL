{
  "nbformat": 4,
  "nbformat_minor": 0,
  "metadata": {
    "colab": {
      "name": "SVM_support_vector_machine.ipynb",
      "provenance": []
    },
    "kernelspec": {
      "name": "python3",
      "display_name": "Python 3"
    },
    "language_info": {
      "name": "python"
    }
  },
  "cells": [
    {
      "cell_type": "markdown",
      "metadata": {
        "id": "Kg5rg1Ow6K42"
      },
      "source": [
        "# Classification (분류)\n",
        "___\n",
        "##SVM (Support Vector Machine)\n",
        "✔️ 보편적으로 사용된 분류 머신 러닝 모델 <br>\n",
        "✔️ 주어진 데이터를 기반으로 새로운 데이터가 어느쪽인지 판단하는 모델을 만들고 **경계**를 구함 \n",
        "\n",
        "\n",
        "### SVM 구성요소 \n",
        "- Hyper plane(초평면)\n",
        "  - 두 그룹을 나누는 경계선 \n",
        "  - 특징(feature)의 수 보다 한 차원 낮음 \n",
        "\n",
        "- Support vector\n",
        "  - 경계에서 <u>가장 가까운</u> 각 클래스의 데이터의 점 \n",
        "\n",
        "- Margin \n",
        "  - 초평면과 써포트 벡터까지의 <u>수직 거리</u> <br>\n",
        "  Margin = $\\frac{2}{\\sqrt{w_1i^2 + w_2^2}} $\n",
        "\n",
        "\n",
        "\n",
        "### SVM의 목표 \n",
        "1. 벡터 공간에서 학습 데이터가 속한 **2개의 그룹** 을 분류하는 <span style ='color: red'>선형 분리자 </span> 를 찾는다. \n",
        "  -  2개의 그룹을 가장 멀리 구분할 수 있는 선형 분리자 \n",
        "  - Soft Margin (소프트 마진)\n",
        "    - 약간의 벗어남은 허용한다\n",
        "\n",
        "2. 선형 분류가 불가능한 현재공간을 **한 차원 높은 공간으로 변환** 하여 선형 분류가 가능하게 분포되는 공간으로 변환하여 분리 \n",
        "  - Kernel trick (커널 트릭)\n",
        "    - 다항 커널 \n",
        "    - 가우시안 커널\n",
        "\n"
      ]
    },
    {
      "cell_type": "code",
      "metadata": {
        "id": "e6H9Bf7n6JT4"
      },
      "source": [
        "import numpy as np\n",
        "from sklearn import svm"
      ],
      "execution_count": 1,
      "outputs": []
    },
    {
      "cell_type": "code",
      "metadata": {
        "id": "Q6DPadZO6Wvu"
      },
      "source": [
        "X = np.array([[0,0], [1,1]])\n",
        "y = [0,1]"
      ],
      "execution_count": 3,
      "outputs": []
    },
    {
      "cell_type": "code",
      "metadata": {
        "colab": {
          "base_uri": "https://localhost:8080/"
        },
        "id": "6yqJ7oSB6bWZ",
        "outputId": "d77a1c71-0a80-49c3-f60f-6a1923bd608e"
      },
      "source": [
        "# 선형 SVM 선언 및 데이터 학습 (선형분류)\n",
        "LinearSVM = svm.LinearSVC()\n",
        "LinearSVM.fit(X,y)"
      ],
      "execution_count": 5,
      "outputs": [
        {
          "output_type": "execute_result",
          "data": {
            "text/plain": [
              "LinearSVC(C=1.0, class_weight=None, dual=True, fit_intercept=True,\n",
              "          intercept_scaling=1, loss='squared_hinge', max_iter=1000,\n",
              "          multi_class='ovr', penalty='l2', random_state=None, tol=0.0001,\n",
              "          verbose=0)"
            ]
          },
          "metadata": {},
          "execution_count": 5
        }
      ]
    },
    {
      "cell_type": "code",
      "metadata": {
        "colab": {
          "base_uri": "https://localhost:8080/"
        },
        "id": "HBrYpuic6oVd",
        "outputId": "a7e96320-5bcd-4f66-81f5-93cb29848e1e"
      },
      "source": [
        "# 선형 SVM 학습 결과 확인 \n",
        "LinearSVM.predict([[2,2]])"
      ],
      "execution_count": 6,
      "outputs": [
        {
          "output_type": "execute_result",
          "data": {
            "text/plain": [
              "array([1])"
            ]
          },
          "metadata": {},
          "execution_count": 6
        }
      ]
    },
    {
      "cell_type": "code",
      "metadata": {
        "colab": {
          "base_uri": "https://localhost:8080/"
        },
        "id": "O9xYOY2C65j3",
        "outputId": "6bda1d5e-0757-4335-cbbc-eba1c3bb46f5"
      },
      "source": [
        "print(LinearSVM.coef_[0])\n",
        "print(LinearSVM.intercept_[0])"
      ],
      "execution_count": 7,
      "outputs": [
        {
          "output_type": "stream",
          "name": "stdout",
          "text": [
            "[0.58823254 0.58823254]\n",
            "-0.47058135542107304\n"
          ]
        }
      ]
    },
    {
      "cell_type": "markdown",
      "metadata": {
        "id": "c3Daxxt-7Aet"
      },
      "source": [
        "학습된 선형 공식 ✔️ <br>\n",
        "$ y = 0.59x_1 + 0.59x_2 - 0.47 $"
      ]
    },
    {
      "cell_type": "code",
      "metadata": {
        "id": "03jf56hS6_ob"
      },
      "source": [
        "# 선형 SVM의 초평면 그려보기\n",
        "import matplotlib.pyplot as plt\n",
        "from matplotlib import style\n",
        "style.use('ggplot')"
      ],
      "execution_count": 8,
      "outputs": []
    },
    {
      "cell_type": "code",
      "metadata": {
        "colab": {
          "base_uri": "https://localhost:8080/",
          "height": 282
        },
        "id": "pFpTqdsd7efO",
        "outputId": "64a03010-bacb-498c-eaba-ff3247b3a03b"
      },
      "source": [
        "w = LinearSVM.coef_[0]\n",
        "print(w)\n",
        "b = LinearSVM.intercept_[0]\n",
        "slope = -w[0] /w[1]\n",
        "xx = np.linspace(0, 1.5)\n",
        "yy = slope * xx - b/w[1]\n",
        "h0 = plt.plot(xx, yy, 'k-', label='Hyperplane')\n",
        "plt.scatter(X[:, 0], X[:,1], c=y)\n",
        "plt.legend()\n",
        "plt.show()"
      ],
      "execution_count": 9,
      "outputs": [
        {
          "output_type": "stream",
          "name": "stdout",
          "text": [
            "[0.58823254 0.58823254]\n"
          ]
        },
        {
          "output_type": "display_data",
          "data": {
            "image/png": "[encoded data removed]",
            "text/plain": [
              "<Figure size 432x288 with 1 Axes>"
            ]
          },
          "metadata": {}
        }
      ]
    },
    {
      "cell_type": "markdown",
      "metadata": {
        "id": "5zdHz401ENQD"
      },
      "source": [
        "## 비선형 SVM : XOR 문제 "
      ]
    },
    {
      "cell_type": "code",
      "metadata": {
        "id": "9g2q4kvk8TGf"
      },
      "source": [
        "# 데이터 준비\n",
        "X = np.array([[0,0], [0,1], [1,0], [1,1]])\n",
        "y = [0, 1, 1, 0]"
      ],
      "execution_count": 10,
      "outputs": []
    },
    {
      "cell_type": "code",
      "metadata": {
        "colab": {
          "base_uri": "https://localhost:8080/"
        },
        "id": "uy_X_1nCEbmG",
        "outputId": "05b4c9cb-3160-45c2-ecf8-19e1fef08f25"
      },
      "source": [
        "# 선언 및 학습 \n",
        "# 필요한 커널및 차원 조절은 자동적으로 진행 \n",
        "SVM_XOR = svm.SVC()\n",
        "SVM_XOR.fit(X,y)"
      ],
      "execution_count": 13,
      "outputs": [
        {
          "output_type": "execute_result",
          "data": {
            "text/plain": [
              "SVC(C=1.0, break_ties=False, cache_size=200, class_weight=None, coef0=0.0,\n",
              "    decision_function_shape='ovr', degree=3, gamma='scale', kernel='rbf',\n",
              "    max_iter=-1, probability=False, random_state=None, shrinking=True,\n",
              "    tol=0.001, verbose=False)"
            ]
          },
          "metadata": {},
          "execution_count": 13
        }
      ]
    },
    {
      "cell_type": "code",
      "metadata": {
        "colab": {
          "base_uri": "https://localhost:8080/"
        },
        "id": "PggIz_paEmC2",
        "outputId": "60253012-17ac-4032-e0e4-52e5354d4634"
      },
      "source": [
        "# 새로운 데이터 예측 \n",
        "test_data = np.array([[0.8, 0.8],[0.2, 0.9]])\n",
        "SVM_XOR.predict(test_data)"
      ],
      "execution_count": 12,
      "outputs": [
        {
          "output_type": "execute_result",
          "data": {
            "text/plain": [
              "array([0, 1])"
            ]
          },
          "metadata": {},
          "execution_count": 12
        }
      ]
    },
    {
      "cell_type": "code",
      "metadata": {
        "id": "6kpO_wzxE40R"
      },
      "source": [
        ""
      ],
      "execution_count": null,
      "outputs": []
    }
  ]
}