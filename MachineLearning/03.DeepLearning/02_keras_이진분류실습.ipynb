{
  "nbformat": 4,
  "nbformat_minor": 0,
  "metadata": {
    "colab": {
      "name": "02_keras_이진분류실습.ipynb",
      "provenance": []
    },
    "kernelspec": {
      "name": "python3",
      "display_name": "Python 3"
    },
    "language_info": {
      "name": "python"
    }
  },
  "cells": [
    {
      "cell_type": "markdown",
      "metadata": {
        "id": "F5D3AOGO9WmY"
      },
      "source": [
        "참고교제 : 딥러닝 입문 with 텐서플로우 2.x (조휘용 지음, 로드북)"
      ]
    },
    {
      "cell_type": "markdown",
      "metadata": {
        "id": "LsWarVR5obi6"
      },
      "source": [
        "# Keras란? \n",
        "누구나 쉽게 사용하고 접할 수 있도록 파이썬으로 설계된 머신러닝 라이브러리 <br>\n",
        " <br>\n",
        "\n",
        "* 특징 \n",
        "  - 단순성 및 간결성 (Simplicity)\n",
        "  - 유연성 (Easy extensibility)\n",
        "  - 모듈화 (Modularity)\n",
        "  - 파이썬 기반 (Python base)\n",
        "\n",
        "* 단계 📍\n",
        "  1. Data Preparing, Preprocessing \n",
        "  2. Model (Sequential, Funcional API)\n",
        "  3. Compile (loss, optimizer)\n",
        "  4. fit(), evaluate(),predict()"
      ]
    },
    {
      "cell_type": "markdown",
      "metadata": {
        "id": "gJjFQmCiqKpj"
      },
      "source": [
        "* Model  - Sequential 클래스 또는 함수형 API를 사용해 모델 정의"
      ]
    },
    {
      "cell_type": "code",
      "metadata": {
        "id": "lgcyxSWVoXXJ"
      },
      "source": [
        "# sequential - 더 많이 사용함 \n",
        "from keras import models\n",
        "from keras import layers \n",
        "\n",
        "model = models.Sequential()\n",
        "model.add(layers.Dense(32, activation='relu', input_shape=(784,)))\n",
        "model.add(layers.Dense(10, activation='softmax'))"
      ],
      "execution_count": 1,
      "outputs": []
    },
    {
      "cell_type": "code",
      "metadata": {
        "id": "LYZeu8Flo0ZS"
      },
      "source": [
        "# 함수형 API \n",
        "\n",
        "input_tensor = layers.Input(shape=(784,))\n",
        "x = layers.Dense(32, activation='relu')(input_tensor)\n",
        "output_tensor = layers.Dense(10, activation='softmax')(x)\n",
        "\n",
        "model = models.Model(inputs= input_tensor, outputs= output_tensor)"
      ],
      "execution_count": 3,
      "outputs": []
    },
    {
      "cell_type": "markdown",
      "metadata": {
        "id": "rU1R2Oy9pVqk"
      },
      "source": [
        "* Compile  - 컴파일 단계에서 학습과정이 설정 \n",
        "  - 모델이 사용할 optimizer, loss function \n",
        "  - 훈련하는 동안 모니터링하기 위해 필요한 측정지표를 지정"
      ]
    },
    {
      "cell_type": "code",
      "metadata": {
        "colab": {
          "base_uri": "https://localhost:8080/"
        },
        "id": "gxR_F2tCqOD0",
        "outputId": "94ae6988-92ef-4b18-c1ae-0135570feb1a"
      },
      "source": [
        "from tensorflow.keras import optimizers\n",
        "\n",
        "model.compile(optimizer=optimizers.RMSprop(lr=0.001), loss='mse', metrics=['accuracy'])"
      ],
      "execution_count": 22,
      "outputs": [
        {
          "output_type": "stream",
          "name": "stderr",
          "text": [
            "/usr/local/lib/python3.7/dist-packages/keras/optimizer_v2/optimizer_v2.py:356: UserWarning: The `lr` argument is deprecated, use `learning_rate` instead.\n",
            "  \"The `lr` argument is deprecated, use `learning_rate` instead.\")\n"
          ]
        }
      ]
    },
    {
      "cell_type": "markdown",
      "metadata": {
        "id": "cJ2XKM-LqQAi"
      },
      "source": [
        "* 학습 - 입력데이터의 넘파이 배열을 모델의 fit( ) 메서드에 전달함으로써 '학습'"
      ]
    },
    {
      "cell_type": "code",
      "metadata": {
        "id": "sM-nVVj1y7xV"
      },
      "source": [
        "model.fit(input_tensor, target_tensor, barch_size=128, epochs=10)"
      ],
      "execution_count": null,
      "outputs": []
    },
    {
      "cell_type": "markdown",
      "metadata": {
        "id": "r85KIc2pqntq"
      },
      "source": [
        "# 실습) 영화리뷰 분류 - 이진 분류 🎬\n",
        "IMDB 데이터셋은 keras에 포함되어 있음 (전처리가 되어 있어 각 리뷰가 숫자 시퀀스로 변환되어 있음) ➡️ 각 숫자는 사전에 있는 <u>고유한단어</u> 를 나타냄 \n",
        "\n",
        "- 리뷰 텍스트를 기반으로 영화리뷰를 긍정 과 부정으로 분류\n",
        "- 인터넷 영화 데이터 베이스에서 가져온 양극단의 리뷰 5만개로 이루어 진 IMDB데이터 셋을 사용 \n",
        "- Train data : 25,000개\n",
        "- Test data : 25,000개 \n",
        "- 각각 50%는 긍정 , 50%는 부정 리뷰로 구성"
      ]
    },
    {
      "cell_type": "code",
      "metadata": {
        "id": "Cw8BnGF4puF-"
      },
      "source": [
        "# 데이터셋 로드 \n",
        "# num_words= 10000 매개변수는 훈련데이터에서 가장 자주 나타나는 단어 1만개만 사용하겠다는 의미 \n",
        "from keras.datasets import imdb \n",
        "(train_data, train_labels), (test_data, test_labels)= imdb.load_data(num_words=10000)"
      ],
      "execution_count": 1,
      "outputs": []
    },
    {
      "cell_type": "code",
      "metadata": {
        "colab": {
          "base_uri": "https://localhost:8080/"
        },
        "id": "TuxC-J7Oru0S",
        "outputId": "0f462352-8659-4eb7-a8c9-a8fdcdcfa50d"
      },
      "source": [
        "# train 데이터 확인 \n",
        "print(train_data[0])"
      ],
      "execution_count": 6,
      "outputs": [
        {
          "output_type": "stream",
          "name": "stdout",
          "text": [
            "[1, 14, 22, 16, 43, 530, 973, 1622, 1385, 65, 458, 4468, 66, 3941, 4, 173, 36, 256, 5, 25, 100, 43, 838, 112, 50, 670, 2, 9, 35, 480, 284, 5, 150, 4, 172, 112, 167, 2, 336, 385, 39, 4, 172, 4536, 1111, 17, 546, 38, 13, 447, 4, 192, 50, 16, 6, 147, 2025, 19, 14, 22, 4, 1920, 4613, 469, 4, 22, 71, 87, 12, 16, 43, 530, 38, 76, 15, 13, 1247, 4, 22, 17, 515, 17, 12, 16, 626, 18, 2, 5, 62, 386, 12, 8, 316, 8, 106, 5, 4, 2223, 5244, 16, 480, 66, 3785, 33, 4, 130, 12, 16, 38, 619, 5, 25, 124, 51, 36, 135, 48, 25, 1415, 33, 6, 22, 12, 215, 28, 77, 52, 5, 14, 407, 16, 82, 2, 8, 4, 107, 117, 5952, 15, 256, 4, 2, 7, 3766, 5, 723, 36, 71, 43, 530, 476, 26, 400, 317, 46, 7, 4, 2, 1029, 13, 104, 88, 4, 381, 15, 297, 98, 32, 2071, 56, 26, 141, 6, 194, 7486, 18, 4, 226, 22, 21, 134, 476, 26, 480, 5, 144, 30, 5535, 18, 51, 36, 28, 224, 92, 25, 104, 4, 226, 65, 16, 38, 1334, 88, 12, 16, 283, 5, 16, 4472, 113, 103, 32, 15, 16, 5345, 19, 178, 32]\n"
          ]
        }
      ]
    },
    {
      "cell_type": "code",
      "metadata": {
        "colab": {
          "base_uri": "https://localhost:8080/"
        },
        "id": "7xZVOSQLr0em",
        "outputId": "eb5c55da-b7be-419e-c724-ed935829d987"
      },
      "source": [
        "print(train_labels[0])"
      ],
      "execution_count": 7,
      "outputs": [
        {
          "output_type": "stream",
          "name": "stdout",
          "text": [
            "1\n"
          ]
        }
      ]
    },
    {
      "cell_type": "code",
      "metadata": {
        "colab": {
          "base_uri": "https://localhost:8080/"
        },
        "id": "3ZRlGDPir4Nb",
        "outputId": "998d438c-fcf7-47ea-89a5-8dbc155e9dd5"
      },
      "source": [
        "print(max([max(sequence) for sequence in train_data]))"
      ],
      "execution_count": 8,
      "outputs": [
        {
          "output_type": "stream",
          "name": "stdout",
          "text": [
            "9999\n"
          ]
        }
      ]
    },
    {
      "cell_type": "code",
      "metadata": {
        "colab": {
          "base_uri": "https://localhost:8080/"
        },
        "id": "d3R_bRRor_Ft",
        "outputId": "7e9b6b7a-7033-4d53-e9cd-0a882b9114a0"
      },
      "source": [
        "# 사전에 저장된 단어, 숫자 -> 문자로 출력 \n",
        "word_index = imdb.get_word_index()\n",
        "reverse_word_index = dict([(value, key) for (key, value) in word_index.items()])\n",
        "decoded_review = ' '.join([reverse_word_index.get(i-3, '?') for i in train_data[0]])\n",
        "print(decoded_review)"
      ],
      "execution_count": 5,
      "outputs": [
        {
          "output_type": "stream",
          "name": "stdout",
          "text": [
            "? this film was just brilliant casting location scenery story direction everyone's really suited the part they played and you could just imagine being there robert ? is an amazing actor and now the same being director ? father came from the same scottish island as myself so i loved the fact there was a real connection with this film the witty remarks throughout the film were great it was just brilliant so much that i bought the film as soon as it was released for ? and would recommend it to everyone to watch and the fly fishing was amazing really cried at the end it was so sad and you know what they say if you cry at a film it must have been good and this definitely was also ? to the two little boy's that played the ? of norman and paul they were just brilliant children are often left out of the ? list i think because the stars that play them all grown up are such a big profile for the whole film but these children are amazing and should be praised for what they have done don't you think the whole story was so lovely because it was true and was someone's life after all that was shared with us all\n"
          ]
        }
      ]
    },
    {
      "cell_type": "markdown",
      "metadata": {
        "id": "-r71PVA4spxF"
      },
      "source": [
        "* 신경망에 숫자 리스트를 주입할 수 없음\n",
        "  - 리스트를 텐서로 변환\n",
        "  1. 같은 길이가 되도록 리스트에 패딩(padding)을 추가하고(samples, sequence_length)크기의 정수 텐서로 변환 \n",
        "    - 정수 텐서를 다룰 수 있는 층(Embedding)을 신경망의 첫번째 층으로 사용 \n",
        "  2. 리스트를 원-핫 인코딩(one-hot encoding)하영 0과 1의 벡터로 변환 \n",
        "    - 부동 소수 벡터데이터를 다룰 수 있는 Dense층을 신경망의 첫번째 층으로 사용"
      ]
    },
    {
      "cell_type": "code",
      "metadata": {
        "id": "0hPmPhmBsWNP"
      },
      "source": [
        "# 정수 시퀀서를 이진 행렬로 인코딩 \n",
        "import numpy as np\n",
        "\n",
        "def vectorize_sequences(seqs, dim=10000):\n",
        "  results = np.zeros((len(seqs), dim))\n",
        "  for i, seq in enumerate(seqs):\n",
        "    results[i, seq] = 1.\n",
        "  return results \n",
        "\n",
        "x_train = vectorize_sequences(train_data)\n",
        "x_test = vectorize_sequences(test_data)"
      ],
      "execution_count": 2,
      "outputs": []
    },
    {
      "cell_type": "code",
      "metadata": {
        "colab": {
          "base_uri": "https://localhost:8080/"
        },
        "id": "kCwqh3i8t5hE",
        "outputId": "9b6b6d9d-5c1c-47a4-9ca4-7d19493f4c56"
      },
      "source": [
        "# 숫자가 있는 부분은 1, 없는 부분은 0\n",
        "print(x_train[0])"
      ],
      "execution_count": 7,
      "outputs": [
        {
          "output_type": "stream",
          "name": "stdout",
          "text": [
            "[0. 1. 1. ... 0. 0. 0.]\n"
          ]
        }
      ]
    },
    {
      "cell_type": "code",
      "metadata": {
        "id": "Nhs0j2j4t8d0"
      },
      "source": [
        "# 부동 소수점으로 변환 \n",
        "y_train = np.asarray(train_labels).astype('float32')\n",
        "y_test = np.asarray(test_labels).astype('float32')"
      ],
      "execution_count": 3,
      "outputs": []
    },
    {
      "cell_type": "markdown",
      "metadata": {
        "id": "pZGRVLXKuoac"
      },
      "source": [
        "* 신경망 모델 만들기 \n",
        "  - 입력 데이터가 벡터, 레이블은 스칼라(0 또는 1)\n",
        "  - relu 활성화 함수를 사용한 완전연결층(Dense(16, activation ='relu'))을 그냥 쌓은 것 \n",
        "  - 매개변수 15은 은닉유닛(hidden unit)의 개수 \n",
        "    - 가중치 행렬 W의 크기가 (input_dimension, 16)\n",
        "    - 입력 데이터와 W를 점곱하면 입력 데이터가 16차원으로 표현된 공간으로 투영 \n",
        "  - 표현 공간의 차원 : 신경망이 내재된 표현을 학습할 때 가질 수 있는 자유도\n",
        "<br>\n",
        "\n",
        "* ⚠️ 표현공간을 더 고차원으로 만들면 신경망이 더 복잡한 표현을 학습 할 수 있으나, 계산 비용이 커지고 원하지 않는 패턴을 학습할 수도 있음\n",
        "\n",
        "* Dense층을 쌓을 때 두가지 중요한 구조성 결정이 필요❗️\n",
        "   - 얼마나 많은 층을 사용 \n",
        "   - 각 층에 얼마나 많은 은닉유닛을 사용 "
      ]
    },
    {
      "cell_type": "code",
      "metadata": {
        "id": "SyU9zuVCuMso"
      },
      "source": [
        "from keras import models\n",
        "from keras import layers \n",
        "\n",
        "model = models.Sequential()\n",
        "model.add(layers.Dense(16, activation='relu', input_shape=(10000,)))\n",
        "# keras가 첫번째 층 이후 input shape를 자동으로 설정함 \n",
        "model.add(layers.Dense(16, activation='relu'))\n",
        "# 출력 값이 확률이므로, sigmoid를 사용\n",
        "# 이진 분류임으로 0 또는 1값을 반환해야함으로 마지막 units은 1로 FIX\n",
        "model.add(layers.Dense(1, activation='sigmoid'))"
      ],
      "execution_count": 4,
      "outputs": []
    },
    {
      "cell_type": "markdown",
      "metadata": {
        "id": "k6vusOTAwuXH"
      },
      "source": [
        "* 손실함수와 옵티마이저를 선택 \n",
        "  - 이진분류 문제이며, 신경망의 출력이 '확률'이므로 네트워크 마지막에 '시그모이드 활성화 함수'를 사용한 하느이 유닛으로 된 층을 사용 \n",
        "    - 'binary crossentropy 손실함수' 적합 \n",
        "    - MSE 도 사용할 수 있음 \n",
        "    - **확률을 출력하는 모델을 사용할 때는 크로스엔트로피가 최선의 선택** ✅"
      ]
    },
    {
      "cell_type": "code",
      "metadata": {
        "id": "MhPutE0bwcnI"
      },
      "source": [
        "model.compile(optimizer='rmsprop', loss='binary_crossentropy', metrics=['accuracy'])"
      ],
      "execution_count": 7,
      "outputs": []
    },
    {
      "cell_type": "code",
      "metadata": {
        "id": "QGnDP-j9xaLM"
      },
      "source": [
        "# 같은의미, 표현이 다른 공식(1)\n",
        "from tensorflow.keras import optimizers\n",
        "\n",
        "model.compile(optimizer=optimizers.RMSprop(lr=0.001), loss='binary_crossentropy', metrics=['accuracy'])\n",
        "\n",
        "\n",
        "# 같은의미, 표현이 다른공식 공식(2)\n",
        "from keras import losses\n",
        "from keras import metrics \n",
        "\n",
        "model.compile(optimizer=optimizers.RMSprop(lr=0.001), loss=losses.binary_crossentropy, metrics=[metrics.binary_accuracy])"
      ],
      "execution_count": null,
      "outputs": []
    },
    {
      "cell_type": "markdown",
      "metadata": {
        "id": "vMvFys0xyf5C"
      },
      "source": [
        "* 훈련 검증 \n",
        "  - 훈련하는 동안 처음 본 데이터에 대한 모델의 정확도를 측정하기 위해 원본 훈련데이터에서 10000개의 샘플을 떼어 검증 세트를 만듬 "
      ]
    },
    {
      "cell_type": "code",
      "metadata": {
        "id": "Gxe69KJJyFPP"
      },
      "source": [
        "# train, validation을 분리 \n",
        "x_val = x_train[:10000]\n",
        "partial_x_train = x_train[10000:]\n",
        "y_val = y_train[:10000]\n",
        "partial_y_train = y_train[10000:]"
      ],
      "execution_count": 5,
      "outputs": []
    },
    {
      "cell_type": "code",
      "metadata": {
        "colab": {
          "base_uri": "https://localhost:8080/"
        },
        "id": "eaiJlp0ZzTpI",
        "outputId": "3a85e86d-253d-46cb-a6ee-374b43b7add6"
      },
      "source": [
        "model.compile(optimizer='rmsprop', loss='binary_crossentropy', metrics=['acc'])\n",
        "# 모델을 512개의 샘플씩 미니 배치를 만들어 20번의 에포크 동안 훈련시킴\n",
        "# 동시에 1만개 샘플에 대해 손실과 정확도를 측정 \n",
        "history = model.fit(partial_x_train, partial_y_train, epochs= 20, batch_size=512, validation_data=(x_val, y_val))"
      ],
      "execution_count": 6,
      "outputs": [
        {
          "output_type": "stream",
          "name": "stdout",
          "text": [
            "Epoch 1/20\n",
            "30/30 [==============================] - 3s 54ms/step - loss: 0.5330 - acc: 0.7707 - val_loss: 0.4073 - val_acc: 0.8717\n",
            "Epoch 2/20\n",
            "30/30 [==============================] - 1s 38ms/step - loss: 0.3289 - acc: 0.8982 - val_loss: 0.3158 - val_acc: 0.8862\n",
            "Epoch 3/20\n",
            "30/30 [==============================] - 1s 36ms/step - loss: 0.2355 - acc: 0.9270 - val_loss: 0.2817 - val_acc: 0.8918\n",
            "Epoch 4/20\n",
            "30/30 [==============================] - 1s 35ms/step - loss: 0.1839 - acc: 0.9414 - val_loss: 0.2731 - val_acc: 0.8890\n",
            "Epoch 5/20\n",
            "30/30 [==============================] - 1s 36ms/step - loss: 0.1464 - acc: 0.9555 - val_loss: 0.2878 - val_acc: 0.8837\n",
            "Epoch 6/20\n",
            "30/30 [==============================] - 1s 36ms/step - loss: 0.1221 - acc: 0.9623 - val_loss: 0.2941 - val_acc: 0.8833\n",
            "Epoch 7/20\n",
            "30/30 [==============================] - 1s 37ms/step - loss: 0.1008 - acc: 0.9705 - val_loss: 0.3065 - val_acc: 0.8838\n",
            "Epoch 8/20\n",
            "30/30 [==============================] - 1s 36ms/step - loss: 0.0808 - acc: 0.9793 - val_loss: 0.3420 - val_acc: 0.8746\n",
            "Epoch 9/20\n",
            "30/30 [==============================] - 1s 36ms/step - loss: 0.0680 - acc: 0.9827 - val_loss: 0.3625 - val_acc: 0.8740\n",
            "Epoch 10/20\n",
            "30/30 [==============================] - 1s 36ms/step - loss: 0.0557 - acc: 0.9862 - val_loss: 0.3763 - val_acc: 0.8744\n",
            "Epoch 11/20\n",
            "30/30 [==============================] - 1s 36ms/step - loss: 0.0443 - acc: 0.9905 - val_loss: 0.4313 - val_acc: 0.8677\n",
            "Epoch 12/20\n",
            "30/30 [==============================] - 1s 36ms/step - loss: 0.0384 - acc: 0.9917 - val_loss: 0.4173 - val_acc: 0.8737\n",
            "Epoch 13/20\n",
            "30/30 [==============================] - 1s 37ms/step - loss: 0.0273 - acc: 0.9952 - val_loss: 0.4428 - val_acc: 0.8739\n",
            "Epoch 14/20\n",
            "30/30 [==============================] - 1s 36ms/step - loss: 0.0237 - acc: 0.9959 - val_loss: 0.4814 - val_acc: 0.8714\n",
            "Epoch 15/20\n",
            "30/30 [==============================] - 1s 36ms/step - loss: 0.0159 - acc: 0.9988 - val_loss: 0.5139 - val_acc: 0.8701\n",
            "Epoch 16/20\n",
            "30/30 [==============================] - 1s 36ms/step - loss: 0.0134 - acc: 0.9985 - val_loss: 0.5847 - val_acc: 0.8620\n",
            "Epoch 17/20\n",
            "30/30 [==============================] - 1s 36ms/step - loss: 0.0114 - acc: 0.9990 - val_loss: 0.5751 - val_acc: 0.8705\n",
            "Epoch 18/20\n",
            "30/30 [==============================] - 1s 36ms/step - loss: 0.0099 - acc: 0.9988 - val_loss: 0.6075 - val_acc: 0.8680\n",
            "Epoch 19/20\n",
            "30/30 [==============================] - 1s 36ms/step - loss: 0.0048 - acc: 0.9999 - val_loss: 0.6488 - val_acc: 0.8675\n",
            "Epoch 20/20\n",
            "30/30 [==============================] - 1s 37ms/step - loss: 0.0059 - acc: 0.9993 - val_loss: 0.6820 - val_acc: 0.8676\n"
          ]
        }
      ]
    },
    {
      "cell_type": "code",
      "metadata": {
        "colab": {
          "base_uri": "https://localhost:8080/"
        },
        "id": "2kWX8Hbh0Dvu",
        "outputId": "d50811bb-78ad-4fb0-b90a-48f93d06e566"
      },
      "source": [
        "# history = model.fit()\n",
        "# 훈련하는 동안 발생한 모든 정보를 담고 있는 딕셔너리인 history 속성을 가지고 있음 \n",
        "history_dict = history.history\n",
        "history_dict.keys()"
      ],
      "execution_count": 7,
      "outputs": [
        {
          "output_type": "execute_result",
          "data": {
            "text/plain": [
              "dict_keys(['loss', 'acc', 'val_loss', 'val_acc'])"
            ]
          },
          "metadata": {},
          "execution_count": 7
        }
      ]
    },
    {
      "cell_type": "markdown",
      "metadata": {
        "id": "jCpnYi4Z1BdF"
      },
      "source": [
        "* 표를 그려서 loss 확인해보기 "
      ]
    },
    {
      "cell_type": "code",
      "metadata": {
        "colab": {
          "base_uri": "https://localhost:8080/",
          "height": 730
        },
        "id": "0YWlFkOI0_ZE",
        "outputId": "ac5b01fd-a72b-4be4-c32b-07f8cc5b9860"
      },
      "source": [
        "# Train data에 최적화된 상태라 overfitting이 발생함 \n",
        "import matplotlib.pyplot as plt\n",
        "\n",
        "history_dict = history.history\n",
        "loss = history_dict['loss']\n",
        "val_loss = history_dict['val_loss']\n",
        "\n",
        "epochs = range(1, len(loss)+1)\n",
        "\n",
        "plt.figure(figsize=(14,12))\n",
        "plt.plot(epochs, loss, 'bo', label = 'Training loss')\n",
        "plt.plot(epochs, val_loss, 'b', label = 'Validation loss')\n",
        "plt.title('Training and Validation loss')\n",
        "plt.xlabel('Epochs')\n",
        "plt.ylabel('loss')\n",
        "plt.legend()\n",
        "plt.show()"
      ],
      "execution_count": 8,
      "outputs": [
        {
          "output_type": "display_data",
          "data": {
            "image/png": "[encoded data removed]",
            "text/plain": [
              "<Figure size 1008x864 with 1 Axes>"
            ]
          },
          "metadata": {
            "needs_background": "light"
          }
        }
      ]
    },
    {
      "cell_type": "code",
      "metadata": {
        "colab": {
          "base_uri": "https://localhost:8080/",
          "height": 747
        },
        "id": "-WTDM6T11m8v",
        "outputId": "c4d7da1a-4294-4781-844c-9527a7af7754"
      },
      "source": [
        "# accuracy 확인하기 \n",
        "# 4번째 epoch 에서 역전됨 \n",
        "plt.clf()\n",
        "acc = history_dict['acc']\n",
        "val_acc = history_dict['val_acc']\n",
        "\n",
        "plt.figure(figsize=(14,12))\n",
        "plt.plot(epochs, acc, 'bo', label = 'Training acc')\n",
        "plt.plot(epochs, val_acc, 'b', label = 'Validation acc')\n",
        "plt.title('Training and Validation accuracy')\n",
        "plt.xlabel('Epochs')\n",
        "plt.ylabel('loss')\n",
        "plt.legend()\n",
        "plt.show()"
      ],
      "execution_count": 9,
      "outputs": [
        {
          "output_type": "display_data",
          "data": {
            "text/plain": [
              "<Figure size 432x288 with 0 Axes>"
            ]
          },
          "metadata": {}
        },
        {
          "output_type": "display_data",
          "data": {
            "image/png": "[encoded data removed]",
            "text/plain": [
              "<Figure size 1008x864 with 1 Axes>"
            ]
          },
          "metadata": {
            "needs_background": "light"
          }
        }
      ]
    },
    {
      "cell_type": "markdown",
      "metadata": {
        "id": "enS_jOjf2T4V"
      },
      "source": [
        "* 과대적합을 방지하기 위해 세번째 에포크 이후에 훈련을 중지할 수 있음 "
      ]
    },
    {
      "cell_type": "code",
      "metadata": {
        "colab": {
          "base_uri": "https://localhost:8080/"
        },
        "id": "dk7ihlpv2DWe",
        "outputId": "5381e34f-19f3-4a16-ff20-1b2681495bda"
      },
      "source": [
        "model = models.Sequential()\n",
        "model.add(layers.Dense(16, activation='relu', input_shape=(10000,)))\n",
        "model.add(layers.Dense(16, activation='relu'))\n",
        "model.add(layers.Dense(1, activation='sigmoid'))\n",
        "\n",
        "model.compile(optimizer='rmsprop', loss='binary_crossentropy', metrics=['accuracy'])\n",
        "model.fit(x_train, y_train, epochs=4, batch_size=512)\n",
        "results = model.evaluate(x_test, y_test)\n",
        "print(results)"
      ],
      "execution_count": 10,
      "outputs": [
        {
          "output_type": "stream",
          "name": "stdout",
          "text": [
            "Epoch 1/4\n",
            "49/49 [==============================] - 2s 29ms/step - loss: 0.4577 - accuracy: 0.8179\n",
            "Epoch 2/4\n",
            "49/49 [==============================] - 1s 29ms/step - loss: 0.2610 - accuracy: 0.9100\n",
            "Epoch 3/4\n",
            "49/49 [==============================] - 1s 28ms/step - loss: 0.2027 - accuracy: 0.9290\n",
            "Epoch 4/4\n",
            "49/49 [==============================] - 1s 28ms/step - loss: 0.1697 - accuracy: 0.9402\n",
            "782/782 [==============================] - 2s 2ms/step - loss: 0.3148 - accuracy: 0.8752\n",
            "[0.3147919178009033, 0.8751599788665771]\n"
          ]
        }
      ]
    },
    {
      "cell_type": "code",
      "metadata": {
        "colab": {
          "base_uri": "https://localhost:8080/"
        },
        "id": "ngaXM4792x3z",
        "outputId": "54e03eb2-a25c-4dbc-a84b-35efdb273c6f"
      },
      "source": [
        "# 훈련된 새로운 데이터에 대해 예측 \n",
        "model.predict(x_test)"
      ],
      "execution_count": 11,
      "outputs": [
        {
          "output_type": "execute_result",
          "data": {
            "text/plain": [
              "array([[0.2741062 ],\n",
              "       [0.9988246 ],\n",
              "       [0.98190385],\n",
              "       ...,\n",
              "       [0.20400572],\n",
              "       [0.11658061],\n",
              "       [0.84246314]], dtype=float32)"
            ]
          },
          "metadata": {},
          "execution_count": 11
        }
      ]
    },
    {
      "cell_type": "markdown",
      "metadata": {
        "id": "B60HH5hP3fS9"
      },
      "source": [
        "### 추가실험 1) \n",
        "- 1개 또는 3개의 은닉층을 사용 \n",
        "  - 결과 : 1개, 3개 모두 더 높은 값을 나타냄 "
      ]
    },
    {
      "cell_type": "code",
      "metadata": {
        "colab": {
          "base_uri": "https://localhost:8080/"
        },
        "id": "T5yme7qC31yH",
        "outputId": "95e28b9c-e5d0-4a71-ed03-e8b824ca8c8d"
      },
      "source": [
        "# 1개 은닉층 사용\n",
        "model = models.Sequential()\n",
        "model.add(layers.Dense(16, activation='relu', input_shape=(10000,)))\n",
        "model.add(layers.Dense(1, activation='sigmoid'))\n",
        "\n",
        "model.compile(optimizer='rmsprop', loss='binary_crossentropy', metrics=['accuracy'])\n",
        "model.fit(x_train, y_train, epochs=4, batch_size=512)\n",
        "results = model.evaluate(x_test, y_test)\n",
        "print(results)"
      ],
      "execution_count": 41,
      "outputs": [
        {
          "output_type": "stream",
          "name": "stdout",
          "text": [
            "Epoch 1/4\n",
            "49/49 [==============================] - 2s 29ms/step - loss: 0.4351 - accuracy: 0.8282\n",
            "Epoch 2/4\n",
            "49/49 [==============================] - 2s 49ms/step - loss: 0.2676 - accuracy: 0.9090\n",
            "Epoch 3/4\n",
            "49/49 [==============================] - 1s 28ms/step - loss: 0.2119 - accuracy: 0.9275\n",
            "Epoch 4/4\n",
            "49/49 [==============================] - 1s 27ms/step - loss: 0.1808 - accuracy: 0.9379\n",
            "782/782 [==============================] - 2s 2ms/step - loss: 0.2883 - accuracy: 0.8836\n",
            "[0.2882618308067322, 0.8836399912834167]\n"
          ]
        }
      ]
    },
    {
      "cell_type": "markdown",
      "metadata": {
        "id": "TG8gFJ5G4OAz"
      },
      "source": [
        "### 추가실험 2)\n",
        "  - 층의 은닉 유닛을 추가하거나 줄여보기 \n",
        "    - 32개 또는 64개\n",
        "      - 기존의 결과보다 정확성이 떨어짐 "
      ]
    },
    {
      "cell_type": "code",
      "metadata": {
        "colab": {
          "base_uri": "https://localhost:8080/"
        },
        "id": "J_In-ACd4INg",
        "outputId": "e3a07747-d066-4f5f-abf6-620adb04e765"
      },
      "source": [
        "# unit 32개\n",
        "model = models.Sequential()\n",
        "model.add(layers.Dense(32, activation='relu', input_shape=(10000,)))\n",
        "model.add(layers.Dense(32, activation='relu'))\n",
        "model.add(layers.Dense(1, activation='sigmoid'))\n",
        "\n",
        "model.compile(optimizer='rmsprop', loss='binary_crossentropy', metrics=['accuracy'])\n",
        "model.fit(x_train, y_train, epochs=4, batch_size=512)\n",
        "results = model.evaluate(x_test, y_test)\n",
        "print(results)"
      ],
      "execution_count": 42,
      "outputs": [
        {
          "output_type": "stream",
          "name": "stdout",
          "text": [
            "Epoch 1/4\n",
            "49/49 [==============================] - 2s 34ms/step - loss: 0.4304 - accuracy: 0.8166\n",
            "Epoch 2/4\n",
            "49/49 [==============================] - 2s 33ms/step - loss: 0.2378 - accuracy: 0.9133\n",
            "Epoch 3/4\n",
            "49/49 [==============================] - 2s 35ms/step - loss: 0.1899 - accuracy: 0.9291\n",
            "Epoch 4/4\n",
            "49/49 [==============================] - 2s 34ms/step - loss: 0.1540 - accuracy: 0.9442\n",
            "782/782 [==============================] - 2s 2ms/step - loss: 0.3635 - accuracy: 0.8624\n",
            "[0.36346566677093506, 0.8624399900436401]\n"
          ]
        }
      ]
    },
    {
      "cell_type": "markdown",
      "metadata": {
        "id": "sgz4Jftu5lMY"
      },
      "source": [
        "### 추가실험 3) \n",
        "  - binary_crossentropy 대신 mse 사용 \n",
        "    - 결과 : mse 사용하면 왜 더 높지?"
      ]
    },
    {
      "cell_type": "code",
      "metadata": {
        "colab": {
          "base_uri": "https://localhost:8080/"
        },
        "id": "QXj_yRln4j9V",
        "outputId": "c2ba1142-58fb-4a9c-e0f0-19739b432324"
      },
      "source": [
        "model = models.Sequential()\n",
        "model.add(layers.Dense(16, activation='relu', input_shape=(10000,)))\n",
        "model.add(layers.Dense(16, activation='relu'))\n",
        "model.add(layers.Dense(1, activation='sigmoid'))\n",
        "\n",
        "model.compile(optimizer='rmsprop', loss='mse', metrics=['accuracy'])\n",
        "model.fit(x_train, y_train, epochs=4, batch_size=512)\n",
        "results = model.evaluate(x_test, y_test)\n",
        "print(results)"
      ],
      "execution_count": 10,
      "outputs": [
        {
          "output_type": "stream",
          "name": "stdout",
          "text": [
            "Epoch 1/4\n",
            "49/49 [==============================] - 2s 28ms/step - loss: 0.1436 - accuracy: 0.8265\n",
            "Epoch 2/4\n",
            "49/49 [==============================] - 1s 28ms/step - loss: 0.0785 - accuracy: 0.9072\n",
            "Epoch 3/4\n",
            "49/49 [==============================] - 1s 29ms/step - loss: 0.0588 - accuracy: 0.9309\n",
            "Epoch 4/4\n",
            "49/49 [==============================] - 1s 28ms/step - loss: 0.0483 - accuracy: 0.9436\n",
            "782/782 [==============================] - 2s 2ms/step - loss: 0.0896 - accuracy: 0.8789\n",
            "[0.08962143212556839, 0.8789200186729431]\n"
          ]
        }
      ]
    },
    {
      "cell_type": "markdown",
      "metadata": {
        "id": "LoQYpYNK6JHo"
      },
      "source": [
        "### 추가 실험 4) \n",
        "- Activation 함수로 relu 대신 tanh 사용\n",
        "  - 결과 : 기존보다 정확성이 떨어짐 "
      ]
    },
    {
      "cell_type": "code",
      "metadata": {
        "colab": {
          "base_uri": "https://localhost:8080/"
        },
        "id": "0Qifx1SL5t7D",
        "outputId": "7a1069c0-3b6f-4255-fde6-837e41bab264"
      },
      "source": [
        "model = models.Sequential()\n",
        "model.add(layers.Dense(16, activation='tanh', input_shape=(10000,)))\n",
        "model.add(layers.Dense(16, activation='tanh'))\n",
        "model.add(layers.Dense(1, activation='sigmoid'))\n",
        "\n",
        "model.compile(optimizer='rmsprop', loss='binary_crossentropy', metrics=['accuracy'])\n",
        "model.fit(x_train, y_train, epochs=4, batch_size=512)\n",
        "results = model.evaluate(x_test, y_test)\n",
        "print(results)"
      ],
      "execution_count": 11,
      "outputs": [
        {
          "output_type": "stream",
          "name": "stdout",
          "text": [
            "Epoch 1/4\n",
            "49/49 [==============================] - 2s 29ms/step - loss: 0.4463 - accuracy: 0.8238\n",
            "Epoch 2/4\n",
            "49/49 [==============================] - 1s 29ms/step - loss: 0.2443 - accuracy: 0.9146\n",
            "Epoch 3/4\n",
            "49/49 [==============================] - 1s 28ms/step - loss: 0.1809 - accuracy: 0.9347\n",
            "Epoch 4/4\n",
            "49/49 [==============================] - 1s 27ms/step - loss: 0.1479 - accuracy: 0.9481\n",
            "782/782 [==============================] - 2s 2ms/step - loss: 0.3260 - accuracy: 0.8762\n",
            "[0.3259769082069397, 0.8761600255966187]\n"
          ]
        }
      ]
    },
    {
      "cell_type": "code",
      "metadata": {
        "id": "F6UA5QHA6Y1R"
      },
      "source": [
        ""
      ],
      "execution_count": null,
      "outputs": []
    }
  ]
}