{
  "nbformat": 4,
  "nbformat_minor": 0,
  "metadata": {
    "colab": {
      "name": "03_keras_다중분류.ipynb",
      "provenance": []
    },
    "kernelspec": {
      "name": "python3",
      "display_name": "Python 3"
    },
    "language_info": {
      "name": "python"
    }
  },
  "cells": [
    {
      "cell_type": "markdown",
      "metadata": {
        "id": "CYpsHr4pcrPL"
      },
      "source": [
        "# Keras- 다중분류 실습 \n",
        "### 로이터 뉴스 기사 분류 \n",
        "- 46개의 상호 배타적 토픽으로 분류\n",
        "- 로이터 Dataset\n",
        "  - 1986년 로이터에서 공개한 짧은 뉴스 기사와 토픽의 집합 \n",
        "  - 46개의 토픽\n",
        "  - 각 토픽은 훈련세트에 최소한 10개의 샘플을 가지고 있음 "
      ]
    },
    {
      "cell_type": "code",
      "metadata": {
        "id": "LWNOXE7Mcobz"
      },
      "source": [
        "# 데이터 로드 \n",
        "from keras.datasets import reuters \n",
        "(train_data, train_labels), (test_data, test_labels) = reuters.load_data(num_words=10000)"
      ],
      "execution_count": 1,
      "outputs": []
    },
    {
      "cell_type": "code",
      "metadata": {
        "colab": {
          "base_uri": "https://localhost:8080/"
        },
        "id": "lP3YFFeRdI2V",
        "outputId": "f13835e5-d8d1-4aee-84f8-12cefc8fc72b"
      },
      "source": [
        "# 데이터 길이 확인 \n",
        "print(len(train_data))\n",
        "print(len(test_data))"
      ],
      "execution_count": 13,
      "outputs": [
        {
          "output_type": "stream",
          "name": "stdout",
          "text": [
            "8982\n",
            "2246\n"
          ]
        }
      ]
    },
    {
      "cell_type": "code",
      "metadata": {
        "colab": {
          "base_uri": "https://localhost:8080/"
        },
        "id": "A3FVyC6PdULk",
        "outputId": "b2560814-df99-4f94-9eb1-9fa7b3619006"
      },
      "source": [
        "# 데이터 확인 \n",
        "print(train_data[0])"
      ],
      "execution_count": 14,
      "outputs": [
        {
          "output_type": "stream",
          "name": "stdout",
          "text": [
            "[1, 2, 2, 8, 43, 10, 447, 5, 25, 207, 270, 5, 3095, 111, 16, 369, 186, 90, 67, 7, 89, 5, 19, 102, 6, 19, 124, 15, 90, 67, 84, 22, 482, 26, 7, 48, 4, 49, 8, 864, 39, 209, 154, 6, 151, 6, 83, 11, 15, 22, 155, 11, 15, 7, 48, 9, 4579, 1005, 504, 6, 258, 6, 272, 11, 15, 22, 134, 44, 11, 15, 16, 8, 197, 1245, 90, 67, 52, 29, 209, 30, 32, 132, 6, 109, 15, 17, 12]\n"
          ]
        }
      ]
    },
    {
      "cell_type": "code",
      "metadata": {
        "colab": {
          "base_uri": "https://localhost:8080/"
        },
        "id": "wEwyVBlAdYTp",
        "outputId": "96ff38ab-3d3a-4632-cf3e-7292edd56b69"
      },
      "source": [
        "print(train_labels[0])"
      ],
      "execution_count": 15,
      "outputs": [
        {
          "output_type": "stream",
          "name": "stdout",
          "text": [
            "3\n"
          ]
        }
      ]
    },
    {
      "cell_type": "markdown",
      "metadata": {
        "id": "Ba7w28FyddW1"
      },
      "source": [
        "* 데이터 준비 (데이터를 벡터로 변환)"
      ]
    },
    {
      "cell_type": "code",
      "metadata": {
        "id": "mDU6z1wJdbg9"
      },
      "source": [
        "import numpy as np\n",
        "\n",
        "def vectorize_sequence(seqs, dim=10000):\n",
        "  results = np.zeros((len(seqs), dim))\n",
        "  for i, seq in enumerate(seqs):\n",
        "    results[i, seq] = 1.    # 특정 인덱스의 위치를 1.으로 만듬 \n",
        "  return results \n",
        "\n",
        "x_train = vectorize_sequence(train_data)\n",
        "x_test = vectorize_sequence(test_data)"
      ],
      "execution_count": 2,
      "outputs": []
    },
    {
      "cell_type": "markdown",
      "metadata": {
        "id": "Nfb2ju-LeB8E"
      },
      "source": [
        "* 레이블을 벡터로 변환 (one-hot encoding)"
      ]
    },
    {
      "cell_type": "code",
      "metadata": {
        "id": "fKyOiDZyd2ET"
      },
      "source": [
        "from keras.utils.np_utils import to_categorical\n",
        "\n",
        "one_hot_train_labels = to_categorical(train_labels)\n",
        "one_hot_test_labels = to_categorical(test_labels)"
      ],
      "execution_count": 3,
      "outputs": []
    },
    {
      "cell_type": "code",
      "metadata": {
        "id": "6t_Fy9RReYXZ"
      },
      "source": [
        "# 함수를 직접 만들어서 사용해도됨 \n",
        "# 그렇지만 잘 사용 하지 않음 \n",
        "\n",
        "def to_one_hot(labels, dim=46):\n",
        "  results = np.zeros((len(labels), dim))\n",
        "  for i, l in enumerate(labels):\n",
        "    results[i, l] = 1.    # 특정 인덱스의 위치를 1.으로 만듬 \n",
        "  return results \n",
        "\n",
        "one_hot_train_labels = to_one_hot(train_labels)\n",
        "one_hot_test_labels = to_one_hot(test_labels)"
      ],
      "execution_count": 4,
      "outputs": []
    },
    {
      "cell_type": "markdown",
      "metadata": {
        "id": "I3Un7Ffze758"
      },
      "source": [
        "* 모델 구성 \n",
        "  - 출력 클래스의 개수가 2개에서 46개로 늘어남 (= 출력 공간의 차원이 훨씬 커짐) \n",
        "  - Dense 층을 쌓으면 각 층은 이전 층의 출력에서 제공한 정보만 사용가능 \n",
        "  - 한 층이 분류문제에 필요한 일부 정보를 누락하면 그 다음 층에서 이를 복원 할 수 없음 \n"
      ]
    },
    {
      "cell_type": "code",
      "metadata": {
        "id": "FZWoQoLJe1Vs"
      },
      "source": [
        "from keras import models \n",
        "from keras import layers \n",
        "\n",
        "model = models.Sequential()\n",
        "model.add(layers.Dense(64, activation='relu', input_shape=(10000,)))\n",
        "model.add(layers.Dense(64, activation='relu'))\n",
        "# 마지막 층: 각 입력 샘플에 대해 46차원 벡터를 출력, 이 벡터의 각 원소는 각기 다른 출력 클래스가 인코딩 된 것 \n",
        "# sofmax 활성화 함수 : 46개의 출력 클래스에 대한 '확률분포'출력, 46차원 출력 벡터를 만들어 output[i]는 어떤 샘플이 클래스 i에 속할 확률 \n",
        "model.add(layers.Dense(46, activation='softmax'))"
      ],
      "execution_count": 4,
      "outputs": []
    },
    {
      "cell_type": "markdown",
      "metadata": {
        "id": "bOMzCBiJgTZu"
      },
      "source": [
        "* 훈련 검증 \n",
        "  - 훈련 데이터에서 1000개의 샘플을 따로 떼어 검증세트로 사용 "
      ]
    },
    {
      "cell_type": "code",
      "metadata": {
        "id": "rMVcxW0BgRWy"
      },
      "source": [
        "x_val = x_train[:1000]\n",
        "partial_x_trian = x_train[1000:]\n",
        "y_val = one_hot_train_labels[:1000]\n",
        "partial_y_train = one_hot_train_labels[1000:]"
      ],
      "execution_count": 5,
      "outputs": []
    },
    {
      "cell_type": "code",
      "metadata": {
        "colab": {
          "base_uri": "https://localhost:8080/"
        },
        "id": "gRQZouvCgjUd",
        "outputId": "efa7a54e-0460-4095-a171-9c50a93b0cdd"
      },
      "source": [
        "# 20번의 에포크로 모델을 훈련 \n",
        "model.compile(optimizer='rmsprop', loss='categorical_crossentropy', metrics=['accuracy'])\n",
        "history = model.fit(partial_x_trian, partial_y_train, epochs= 20, batch_size=512, validation_data=(x_val, y_val))"
      ],
      "execution_count": 6,
      "outputs": [
        {
          "output_type": "stream",
          "name": "stdout",
          "text": [
            "Epoch 1/20\n",
            "16/16 [==============================] - 2s 62ms/step - loss: 2.4838 - accuracy: 0.5499 - val_loss: 1.6710 - val_accuracy: 0.6460\n",
            "Epoch 2/20\n",
            "16/16 [==============================] - 1s 49ms/step - loss: 1.3780 - accuracy: 0.7108 - val_loss: 1.2936 - val_accuracy: 0.7180\n",
            "Epoch 3/20\n",
            "16/16 [==============================] - 1s 47ms/step - loss: 1.0366 - accuracy: 0.7795 - val_loss: 1.1401 - val_accuracy: 0.7390\n",
            "Epoch 4/20\n",
            "16/16 [==============================] - 1s 47ms/step - loss: 0.8177 - accuracy: 0.8306 - val_loss: 1.0322 - val_accuracy: 0.7770\n",
            "Epoch 5/20\n",
            "16/16 [==============================] - 1s 47ms/step - loss: 0.6499 - accuracy: 0.8649 - val_loss: 0.9596 - val_accuracy: 0.7960\n",
            "Epoch 6/20\n",
            "16/16 [==============================] - 1s 47ms/step - loss: 0.5188 - accuracy: 0.8955 - val_loss: 0.9138 - val_accuracy: 0.8180\n",
            "Epoch 7/20\n",
            "16/16 [==============================] - 1s 46ms/step - loss: 0.4139 - accuracy: 0.9158 - val_loss: 0.8910 - val_accuracy: 0.8240\n",
            "Epoch 8/20\n",
            "16/16 [==============================] - 1s 48ms/step - loss: 0.3407 - accuracy: 0.9272 - val_loss: 0.8777 - val_accuracy: 0.8210\n",
            "Epoch 9/20\n",
            "16/16 [==============================] - 1s 47ms/step - loss: 0.2845 - accuracy: 0.9380 - val_loss: 0.8890 - val_accuracy: 0.8160\n",
            "Epoch 10/20\n",
            "16/16 [==============================] - 1s 47ms/step - loss: 0.2362 - accuracy: 0.9450 - val_loss: 0.8685 - val_accuracy: 0.8190\n",
            "Epoch 11/20\n",
            "16/16 [==============================] - 1s 46ms/step - loss: 0.2046 - accuracy: 0.9500 - val_loss: 0.8833 - val_accuracy: 0.8230\n",
            "Epoch 12/20\n",
            "16/16 [==============================] - 1s 48ms/step - loss: 0.1801 - accuracy: 0.9524 - val_loss: 0.9652 - val_accuracy: 0.8130\n",
            "Epoch 13/20\n",
            "16/16 [==============================] - 1s 48ms/step - loss: 0.1599 - accuracy: 0.9559 - val_loss: 0.9709 - val_accuracy: 0.8100\n",
            "Epoch 14/20\n",
            "16/16 [==============================] - 1s 48ms/step - loss: 0.1494 - accuracy: 0.9550 - val_loss: 0.9367 - val_accuracy: 0.8130\n",
            "Epoch 15/20\n",
            "16/16 [==============================] - 1s 46ms/step - loss: 0.1370 - accuracy: 0.9535 - val_loss: 0.9682 - val_accuracy: 0.8110\n",
            "Epoch 16/20\n",
            "16/16 [==============================] - 1s 47ms/step - loss: 0.1287 - accuracy: 0.9565 - val_loss: 0.9933 - val_accuracy: 0.8110\n",
            "Epoch 17/20\n",
            "16/16 [==============================] - 1s 48ms/step - loss: 0.1249 - accuracy: 0.9577 - val_loss: 1.0205 - val_accuracy: 0.8050\n",
            "Epoch 18/20\n",
            "16/16 [==============================] - 1s 46ms/step - loss: 0.1165 - accuracy: 0.9567 - val_loss: 1.1069 - val_accuracy: 0.7900\n",
            "Epoch 19/20\n",
            "16/16 [==============================] - 1s 46ms/step - loss: 0.1137 - accuracy: 0.9575 - val_loss: 1.0095 - val_accuracy: 0.8130\n",
            "Epoch 20/20\n",
            "16/16 [==============================] - 1s 47ms/step - loss: 0.1093 - accuracy: 0.9588 - val_loss: 1.0537 - val_accuracy: 0.8060\n"
          ]
        }
      ]
    },
    {
      "cell_type": "code",
      "metadata": {
        "colab": {
          "base_uri": "https://localhost:8080/",
          "height": 730
        },
        "id": "MqW1adrSjdJQ",
        "outputId": "02a7ea64-2f1d-4124-d4d5-ec317a759cd6"
      },
      "source": [
        "# Train data에 최적화된 상태라 overfitting이 발생함 \n",
        "import matplotlib.pyplot as plt\n",
        "\n",
        "history_dict = history.history\n",
        "loss = history_dict['loss']\n",
        "val_loss = history_dict['val_loss']\n",
        "\n",
        "epochs = range(1, len(loss)+1)\n",
        "\n",
        "plt.figure(figsize=(14,12))\n",
        "plt.plot(epochs, loss, 'bo', label = 'Training loss')\n",
        "plt.plot(epochs, val_loss, 'b', label = 'Validation loss')\n",
        "plt.title('Training and Validation loss')\n",
        "plt.xlabel('Epochs')\n",
        "plt.ylabel('loss')\n",
        "plt.legend()\n",
        "plt.show()"
      ],
      "execution_count": 7,
      "outputs": [
        {
          "output_type": "display_data",
          "data": {
            "image/png": "[encoded data removed]",
            "text/plain": [
              "<Figure size 1008x864 with 1 Axes>"
            ]
          },
          "metadata": {
            "needs_background": "light"
          }
        }
      ]
    },
    {
      "cell_type": "code",
      "metadata": {
        "colab": {
          "base_uri": "https://localhost:8080/",
          "height": 747
        },
        "id": "cPsoKalhjh-r",
        "outputId": "1a9a0e2d-f5c7-4777-ab8b-9dc36b02988c"
      },
      "source": [
        "# accuracy 확인하기 \n",
        "# 9번째 epoch 에서 역전됨 \n",
        "plt.clf()\n",
        "acc = history_dict['accuracy']\n",
        "val_acc = history_dict['val_accuracy']\n",
        "\n",
        "plt.figure(figsize=(14,12))\n",
        "plt.plot(epochs, acc, 'bo', label = 'Training acc')\n",
        "plt.plot(epochs, val_acc, 'b', label = 'Validation acc')\n",
        "plt.title('Training and Validation accuracy')\n",
        "plt.xlabel('Epochs')\n",
        "plt.ylabel('loss')\n",
        "plt.legend()\n",
        "plt.show()"
      ],
      "execution_count": 8,
      "outputs": [
        {
          "output_type": "display_data",
          "data": {
            "text/plain": [
              "<Figure size 432x288 with 0 Axes>"
            ]
          },
          "metadata": {}
        },
        {
          "output_type": "display_data",
          "data": {
            "image/png": "[encoded data removed]",
            "text/plain": [
              "<Figure size 1008x864 with 1 Axes>"
            ]
          },
          "metadata": {
            "needs_background": "light"
          }
        }
      ]
    },
    {
      "cell_type": "markdown",
      "metadata": {
        "id": "FHMm3LFkiSy7"
      },
      "source": [
        "* 9번째 에포크에서 과대적합 시작 "
      ]
    },
    {
      "cell_type": "code",
      "metadata": {
        "colab": {
          "base_uri": "https://localhost:8080/"
        },
        "id": "P2gnOTZ1gwtq",
        "outputId": "4c843c87-1ac7-4114-f192-6c54ff4a2e58"
      },
      "source": [
        "model = models.Sequential()\n",
        "model.add(layers.Dense(64, activation='relu', input_shape=(10000,)))\n",
        "model.add(layers.Dense(64, activation='relu'))\n",
        "model.add(layers.Dense(46, activation='softmax'))\n",
        "\n",
        "model.compile(optimizer='rmsprop', loss='categorical_crossentropy', metrics=['accuracy'])\n",
        "model.fit(partial_x_trian, partial_y_train, epochs=9, batch_size=512)\n",
        "results = model.evaluate(x_test, one_hot_test_labels)\n",
        "print(results)"
      ],
      "execution_count": 11,
      "outputs": [
        {
          "output_type": "stream",
          "name": "stdout",
          "text": [
            "Epoch 1/9\n",
            "16/16 [==============================] - 1s 44ms/step - loss: 2.6820 - accuracy: 0.5238\n",
            "Epoch 2/9\n",
            "16/16 [==============================] - 1s 44ms/step - loss: 1.4237 - accuracy: 0.7127\n",
            "Epoch 3/9\n",
            "16/16 [==============================] - 1s 44ms/step - loss: 1.0263 - accuracy: 0.7840\n",
            "Epoch 4/9\n",
            "16/16 [==============================] - 1s 43ms/step - loss: 0.8034 - accuracy: 0.8280\n",
            "Epoch 5/9\n",
            "16/16 [==============================] - 1s 43ms/step - loss: 0.6402 - accuracy: 0.8638\n",
            "Epoch 6/9\n",
            "16/16 [==============================] - 1s 44ms/step - loss: 0.5110 - accuracy: 0.8940\n",
            "Epoch 7/9\n",
            "16/16 [==============================] - 1s 45ms/step - loss: 0.4124 - accuracy: 0.9163\n",
            "Epoch 8/9\n",
            "16/16 [==============================] - 1s 45ms/step - loss: 0.3370 - accuracy: 0.9290\n",
            "Epoch 9/9\n",
            "16/16 [==============================] - 1s 42ms/step - loss: 0.2770 - accuracy: 0.9397\n",
            "71/71 [==============================] - 0s 3ms/step - loss: 0.9458 - accuracy: 0.7934\n",
            "[0.9458222985267639, 0.7934104800224304]\n"
          ]
        }
      ]
    },
    {
      "cell_type": "markdown",
      "metadata": {
        "id": "acMDYArBj2Yv"
      },
      "source": [
        "* 새로운 데이터에 대해 예측 "
      ]
    },
    {
      "cell_type": "code",
      "metadata": {
        "colab": {
          "base_uri": "https://localhost:8080/"
        },
        "id": "LjOFiGhni5fK",
        "outputId": "87ff36b7-fa49-4b4a-dce8-b0888fa87ff9"
      },
      "source": [
        "predictions = model.predict(x_test)\n",
        "predictions[0].shape"
      ],
      "execution_count": 12,
      "outputs": [
        {
          "output_type": "execute_result",
          "data": {
            "text/plain": [
              "(46,)"
            ]
          },
          "metadata": {},
          "execution_count": 12
        }
      ]
    },
    {
      "cell_type": "code",
      "metadata": {
        "colab": {
          "base_uri": "https://localhost:8080/"
        },
        "id": "RfI9xIyUlE0m",
        "outputId": "bb875409-61fe-408e-b112-c0742130e318"
      },
      "source": [
        "# 마지막 층 sofmax 활성화 함수 사용으로 46개의 값을 모두 더하면 1 \n",
        "np.sum(predictions[0])"
      ],
      "execution_count": 14,
      "outputs": [
        {
          "output_type": "execute_result",
          "data": {
            "text/plain": [
              "1.0000001"
            ]
          },
          "metadata": {},
          "execution_count": 14
        }
      ]
    },
    {
      "cell_type": "code",
      "metadata": {
        "colab": {
          "base_uri": "https://localhost:8080/"
        },
        "id": "TkQcrxOplG1X",
        "outputId": "50aa0182-ab65-4940-a58b-10eb13203089"
      },
      "source": [
        "np.argmax(predictions[0])"
      ],
      "execution_count": 15,
      "outputs": [
        {
          "output_type": "execute_result",
          "data": {
            "text/plain": [
              "3"
            ]
          },
          "metadata": {},
          "execution_count": 15
        }
      ]
    },
    {
      "cell_type": "markdown",
      "metadata": {
        "id": "9ZXVMEx8lVTQ"
      },
      "source": [
        "* 충분히 큰 중간층을 두어야 하는 이유\n",
        "  - 마지막 출력이 46차원 이므로, 중간 층의 히든 유닛이 46보다 많이 적어서는 안됨 \n",
        "  - 정확성이 떨어짐 "
      ]
    },
    {
      "cell_type": "code",
      "metadata": {
        "colab": {
          "base_uri": "https://localhost:8080/"
        },
        "id": "hkpExE88lTaU",
        "outputId": "30b71c3d-ee27-4acf-95b6-2d6e9e4ec5d4"
      },
      "source": [
        "model = models.Sequential()\n",
        "model.add(layers.Dense(64, activation='relu', input_shape=(10000,)))\n",
        "model.add(layers.Dense(4, activation='relu'))\n",
        "model.add(layers.Dense(46, activation='softmax'))\n",
        "\n",
        "model.compile(optimizer='rmsprop', loss='categorical_crossentropy', metrics=['accuracy'])\n",
        "model.fit(partial_x_trian, partial_y_train, epochs=9, batch_size=512)\n",
        "results = model.evaluate(x_test, one_hot_test_labels)\n",
        "print(results)"
      ],
      "execution_count": 20,
      "outputs": [
        {
          "output_type": "stream",
          "name": "stdout",
          "text": [
            "Epoch 1/9\n",
            "16/16 [==============================] - 1s 46ms/step - loss: 3.7186 - accuracy: 0.0291\n",
            "Epoch 2/9\n",
            "16/16 [==============================] - 1s 44ms/step - loss: 3.4871 - accuracy: 0.0575\n",
            "Epoch 3/9\n",
            "16/16 [==============================] - 1s 44ms/step - loss: 3.2550 - accuracy: 0.1027\n",
            "Epoch 4/9\n",
            "16/16 [==============================] - 1s 44ms/step - loss: 3.0049 - accuracy: 0.1165\n",
            "Epoch 5/9\n",
            "16/16 [==============================] - 1s 45ms/step - loss: 2.7232 - accuracy: 0.1847\n",
            "Epoch 6/9\n",
            "16/16 [==============================] - 1s 44ms/step - loss: 2.4332 - accuracy: 0.3115\n",
            "Epoch 7/9\n",
            "16/16 [==============================] - 1s 42ms/step - loss: 2.1742 - accuracy: 0.3042\n",
            "Epoch 8/9\n",
            "16/16 [==============================] - 1s 43ms/step - loss: 1.9089 - accuracy: 0.3673\n",
            "Epoch 9/9\n",
            "16/16 [==============================] - 1s 43ms/step - loss: 1.6247 - accuracy: 0.6378\n",
            "71/71 [==============================] - 0s 3ms/step - loss: 1.8215 - accuracy: 0.6082\n",
            "[1.8214852809906006, 0.6081923246383667]\n"
          ]
        }
      ]
    },
    {
      "cell_type": "code",
      "metadata": {
        "id": "D90sNlS5lfaI"
      },
      "source": [
        ""
      ],
      "execution_count": null,
      "outputs": []
    }
  ]
}