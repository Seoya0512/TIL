{
  "nbformat": 4,
  "nbformat_minor": 0,
  "metadata": {
    "colab": {
      "name": "10_CNN_Heatmap.ipynb",
      "provenance": []
    },
    "kernelspec": {
      "name": "python3",
      "display_name": "Python 3"
    },
    "language_info": {
      "name": "python"
    }
  },
  "cells": [
    {
      "cell_type": "markdown",
      "metadata": {
        "id": "iaJT2gODzEKS"
      },
      "source": [
        "## Visualization of CNN - Heatmap 🌈\n",
        "모델이 학습한 특징, 근거를 시각화 하는 것, 예를들어 '왜 암으로 판별 했는지', '왜 고양이로 판단했는지' 등등 \n",
        "\n",
        "- 시각화에 유용한 기법 (3)\n",
        "  - Heatmap of class activation "
      ]
    },
    {
      "cell_type": "code",
      "metadata": {
        "id": "Dkeprmgdwe4L"
      },
      "source": [
        "from tensorflow.keras.applications import VGG16\n",
        "\n",
        "model = VGG16(weights='imagenet')"
      ],
      "execution_count": null,
      "outputs": []
    },
    {
      "cell_type": "code",
      "metadata": {
        "id": "NigLGsTOzURC"
      },
      "source": [
        "from keras.preprocessing import image \n",
        "from keras.applications.vgg16 import preprocess_input, decode_predictions\n",
        "import numpy as np\n",
        "\n",
        "# Path to our target image \n",
        "img_path  = './creative_commons_elephant.jpg'\n",
        "\n",
        "# 'img' is a PIL image of size 224 X 224\n",
        "img = image.load_img(img_path, target_size=(224,224))"
      ],
      "execution_count": null,
      "outputs": []
    },
    {
      "cell_type": "code",
      "metadata": {
        "id": "RngKSY1Czupg"
      },
      "source": [
        "# 'x' is a float32 Numpy array of shape (224,224,3)\n",
        "# add a dimension to transform array into a 'batch'\n",
        "x = image.img_to_array(img)\n",
        "x = np.expand_dims(x, axis=0)\n",
        "\n",
        "# preprocess the batch \n",
        "x = preprocess_input(x)"
      ],
      "execution_count": null,
      "outputs": []
    },
    {
      "cell_type": "code",
      "metadata": {
        "colab": {
          "base_uri": "https://localhost:8080/"
        },
        "id": "QlVnBY8Y0LvW",
        "outputId": "f369eb35-bcd7-49f5-e712-1f3e6fd51663"
      },
      "source": [
        "# class 예측 (아프리카 코끼리: 89.5%, 코끼리: 9%, 인도 코끼리: 0.4%)\n",
        "preds = model.predict(x)\n",
        "print('Predicted: ', decode_predictions(preds, top=3)[0])"
      ],
      "execution_count": null,
      "outputs": [
        {
          "output_type": "stream",
          "name": "stderr",
          "text": [
            "/usr/local/lib/python3.7/dist-packages/keras/engine/training.py:2470: UserWarning: `Model.state_updates` will be removed in a future version. This property should not be used in TensorFlow 2.0, as `updates` are applied automatically.\n",
            "  warnings.warn('`Model.state_updates` will be removed in a future version. '\n"
          ]
        },
        {
          "output_type": "stream",
          "name": "stdout",
          "text": [
            "Predicted:  [('n02504458', 'African_elephant', 0.89544886), ('n01871265', 'tusker', 0.09967599), ('n02504013', 'Indian_elephant', 0.004639555)]\n"
          ]
        }
      ]
    },
    {
      "cell_type": "code",
      "metadata": {
        "colab": {
          "base_uri": "https://localhost:8080/"
        },
        "id": "L_rRsXtbDcsi",
        "outputId": "a1fd5c15-009c-41f4-d321-b7325731733c"
      },
      "source": [
        "# class 예측 \n",
        "preds = model.predict(x)\n",
        "print('Predicted: ', decode_predictions(preds, top=3)[0])"
      ],
      "execution_count": null,
      "outputs": [
        {
          "output_type": "stream",
          "name": "stdout",
          "text": [
            "Predicted:  [('n02504458', 'African_elephant', 0.89544886), ('n01871265', 'tusker', 0.09967599), ('n02504013', 'Indian_elephant', 0.004639555)]\n"
          ]
        }
      ]
    },
    {
      "cell_type": "code",
      "metadata": {
        "id": "4STUPnvs9Jsg",
        "colab": {
          "base_uri": "https://localhost:8080/"
        },
        "outputId": "bc998145-5b06-4baf-dc65-a5bf30f9df59"
      },
      "source": [
        "np.argmax(preds[0])"
      ],
      "execution_count": null,
      "outputs": [
        {
          "output_type": "execute_result",
          "data": {
            "text/plain": [
              "386"
            ]
          },
          "metadata": {},
          "execution_count": 15
        }
      ]
    },
    {
      "cell_type": "code",
      "metadata": {
        "id": "z7StRfDa3qy9"
      },
      "source": [
        "from tensorflow.keras import backend as K\n",
        "import tensorflow as tf\n",
        "tf.compat.v1.disable_eager_execution()"
      ],
      "execution_count": null,
      "outputs": []
    },
    {
      "cell_type": "code",
      "metadata": {
        "id": "KE-APqy10h0b"
      },
      "source": [
        "# Grad-CAM 알고리즘 설정 \n",
        "african_elephant_output = model.output[:, 386]\n",
        "last_conv_layer = model.get_layer('block5_conv3')\n",
        "grads = K.gradients(african_elephant_output, last_conv_layer.output)[0]\n",
        "pooled_grads = K.mean(grads, axis=(0,1,2))\n",
        "iterate = K.function([model.input], [pooled_grads, last_conv_layer.output[0]])\n",
        "pooled_grads_value, conv_layer_output_value = iterate([x])\n",
        "\n",
        "for i in range(512):\n",
        "  conv_layer_output_value[:,:, i] *= pooled_grads_value[i]\n",
        "\n",
        "heatmap = np.mean(conv_layer_output_value, axis=-1)"
      ],
      "execution_count": null,
      "outputs": []
    },
    {
      "cell_type": "code",
      "metadata": {
        "id": "V9xagYG34iJz"
      },
      "source": [
        "import matplotlib.pyplot as plt"
      ],
      "execution_count": null,
      "outputs": []
    },
    {
      "cell_type": "code",
      "metadata": {
        "colab": {
          "base_uri": "https://localhost:8080/",
          "height": 292
        },
        "id": "312YnZYW1crw",
        "outputId": "683aaab8-8f03-47ec-cd3b-2c0bbc5e534b"
      },
      "source": [
        "# Heatmap post-processing\n",
        "\n",
        "heatmap = np.maximum(heatmap,0)\n",
        "heatmap /= np.max(heatmap, 0)\n",
        "plt.matshow(heatmap)"
      ],
      "execution_count": null,
      "outputs": [
        {
          "output_type": "execute_result",
          "data": {
            "text/plain": [
              "<matplotlib.image.AxesImage at 0x7f27854cedd0>"
            ]
          },
          "metadata": {},
          "execution_count": 19
        },
        {
          "output_type": "display_data",
          "data": {
            "image/png": "[encoded data removed]",
            "text/plain": [
              "<Figure size 288x288 with 1 Axes>"
            ]
          },
          "metadata": {
            "needs_background": "light"
          }
        }
      ]
    },
    {
      "cell_type": "code",
      "metadata": {
        "colab": {
          "base_uri": "https://localhost:8080/"
        },
        "id": "nLGNjD2j4ehZ",
        "outputId": "fd09a96e-2e3e-4870-f435-9eec61a69538"
      },
      "source": [
        "# 원본이미지에 heatmap 덧붙이기 \n",
        "\n",
        "import cv2 \n",
        "\n",
        "img = cv2.imread(img_path)\n",
        "heatmap = cv2.resize(heatmap, (img.shape[1], img.shape[0]))\n",
        "heatmap = np.uint8(255 * heatmap)\n",
        "heatmap = cv2.applyColorMap(heatmap, cv2.COLORMAP_JET)\n",
        "superimposed_img = heatmap * 0.4 + img\n",
        "\n",
        "# 저장 \n",
        "cv2.imwrite('./elephantheat.jpg', superimposed_img)"
      ],
      "execution_count": null,
      "outputs": [
        {
          "output_type": "execute_result",
          "data": {
            "text/plain": [
              "True"
            ]
          },
          "metadata": {},
          "execution_count": 20
        }
      ]
    },
    {
      "cell_type": "code",
      "metadata": {
        "id": "_AUQkYjZ5lNr"
      },
      "source": [
        ""
      ],
      "execution_count": null,
      "outputs": []
    }
  ]
}