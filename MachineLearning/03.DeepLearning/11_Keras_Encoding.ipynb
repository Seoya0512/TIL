{
  "nbformat": 4,
  "nbformat_minor": 0,
  "metadata": {
    "colab": {
      "name": "11_Keras_Encoding.ipynb",
      "provenance": []
    },
    "kernelspec": {
      "name": "python3",
      "display_name": "Python 3"
    },
    "language_info": {
      "name": "python"
    }
  },
  "cells": [
    {
      "cell_type": "markdown",
      "metadata": {
        "id": "yeTDfEQZe6xl"
      },
      "source": [
        "# One-Hot Encoding\n",
        "- 토큰을 벡터로 변화하는 가장 일반적이고 기본적인 방법 \n",
        "- 모든 단어에 고유한 정수 인덱스를 부여 ➡️ 정수 인덱스 i를 크기가 N(어휘 사전의 크기)인 이진 벡터로 변환 ➡️ **i번째 원소만 1이고 나머지는 모두 0**\n",
        "- 희소행렬(Sparse Matrix) : 존재하는 단어의 인덱스를 제외하고 전부 0으로  표현 \n",
        "  - 고차원에 해당되며, 단어의 유사성을 표현할 수 없음 "
      ]
    },
    {
      "cell_type": "code",
      "metadata": {
        "id": "rI-s0Py6eyn0"
      },
      "source": [
        "# word- level one-hot encoding \n",
        "import numpy as np\n",
        "\n",
        "samples = ['The cat sat on the mat.', 'The dog ate my homework.']\n",
        "\n",
        "# 사전 제작 \n",
        "token_index = {}\n",
        "for sample in samples:\n",
        "  for word in sample.split():\n",
        "    if word not in token_index:\n",
        "      token_index[word] = len(token_index)+1\n",
        "\n",
        "max_length = 10 \n",
        "\n",
        "# tokenize \n",
        "results = np.zeros(shape=(len(samples), max_length, max(token_index.values())+1))\n",
        "for i, sample in enumerate(samples):\n",
        "  for j, word in list(enumerate(sample.split()))[:max_length]:\n",
        "    index = token_index.get(word)\n",
        "    results[i,j, index] = 1."
      ],
      "execution_count": 1,
      "outputs": []
    },
    {
      "cell_type": "code",
      "metadata": {
        "colab": {
          "base_uri": "https://localhost:8080/"
        },
        "id": "2H-aG9jlf-pA",
        "outputId": "e77d6987-576a-4133-9a5a-eccb2b2a67eb"
      },
      "source": [
        "results"
      ],
      "execution_count": 2,
      "outputs": [
        {
          "output_type": "execute_result",
          "data": {
            "text/plain": [
              "array([[[0., 1., 0., 0., 0., 0., 0., 0., 0., 0., 0.],\n",
              "        [0., 0., 1., 0., 0., 0., 0., 0., 0., 0., 0.],\n",
              "        [0., 0., 0., 1., 0., 0., 0., 0., 0., 0., 0.],\n",
              "        [0., 0., 0., 0., 1., 0., 0., 0., 0., 0., 0.],\n",
              "        [0., 0., 0., 0., 0., 1., 0., 0., 0., 0., 0.],\n",
              "        [0., 0., 0., 0., 0., 0., 1., 0., 0., 0., 0.],\n",
              "        [0., 0., 0., 0., 0., 0., 0., 0., 0., 0., 0.],\n",
              "        [0., 0., 0., 0., 0., 0., 0., 0., 0., 0., 0.],\n",
              "        [0., 0., 0., 0., 0., 0., 0., 0., 0., 0., 0.],\n",
              "        [0., 0., 0., 0., 0., 0., 0., 0., 0., 0., 0.]],\n",
              "\n",
              "       [[0., 1., 0., 0., 0., 0., 0., 0., 0., 0., 0.],\n",
              "        [0., 0., 0., 0., 0., 0., 0., 1., 0., 0., 0.],\n",
              "        [0., 0., 0., 0., 0., 0., 0., 0., 1., 0., 0.],\n",
              "        [0., 0., 0., 0., 0., 0., 0., 0., 0., 1., 0.],\n",
              "        [0., 0., 0., 0., 0., 0., 0., 0., 0., 0., 1.],\n",
              "        [0., 0., 0., 0., 0., 0., 0., 0., 0., 0., 0.],\n",
              "        [0., 0., 0., 0., 0., 0., 0., 0., 0., 0., 0.],\n",
              "        [0., 0., 0., 0., 0., 0., 0., 0., 0., 0., 0.],\n",
              "        [0., 0., 0., 0., 0., 0., 0., 0., 0., 0., 0.],\n",
              "        [0., 0., 0., 0., 0., 0., 0., 0., 0., 0., 0.]]])"
            ]
          },
          "metadata": {},
          "execution_count": 2
        }
      ]
    },
    {
      "cell_type": "code",
      "metadata": {
        "id": "yJyDs12oeylP"
      },
      "source": [
        "# character-level, one-hot encoding \n",
        "import string \n",
        "\n",
        "samples = ['The cat sat on the mat.', 'The dog ate my homework.']\n",
        "characters = string.printable\n",
        "token_index = dict(zip(range(1, len(characters)+1), characters))\n",
        "\n",
        "max_length = 50\n",
        "results = np.zeros((len(samples), max_length, max(token_index.keys())+1))\n",
        "for i, sample in enumerate(samples):\n",
        "  for j, word in list(enumerate(sample.split()))[:max_length]:\n",
        "    index = token_index.get(word)\n",
        "    results[i,j, index] = 1."
      ],
      "execution_count": 3,
      "outputs": []
    },
    {
      "cell_type": "code",
      "metadata": {
        "colab": {
          "base_uri": "https://localhost:8080/"
        },
        "id": "EeLec6rweybR",
        "outputId": "fa1b07e9-8171-4985-9e8c-141e2241604d"
      },
      "source": [
        "results"
      ],
      "execution_count": 4,
      "outputs": [
        {
          "output_type": "execute_result",
          "data": {
            "text/plain": [
              "array([[[1., 1., 1., ..., 1., 1., 1.],\n",
              "        [1., 1., 1., ..., 1., 1., 1.],\n",
              "        [1., 1., 1., ..., 1., 1., 1.],\n",
              "        ...,\n",
              "        [0., 0., 0., ..., 0., 0., 0.],\n",
              "        [0., 0., 0., ..., 0., 0., 0.],\n",
              "        [0., 0., 0., ..., 0., 0., 0.]],\n",
              "\n",
              "       [[1., 1., 1., ..., 1., 1., 1.],\n",
              "        [1., 1., 1., ..., 1., 1., 1.],\n",
              "        [1., 1., 1., ..., 1., 1., 1.],\n",
              "        ...,\n",
              "        [0., 0., 0., ..., 0., 0., 0.],\n",
              "        [0., 0., 0., ..., 0., 0., 0.],\n",
              "        [0., 0., 0., ..., 0., 0., 0.]]])"
            ]
          },
          "metadata": {},
          "execution_count": 4
        }
      ]
    },
    {
      "cell_type": "markdown",
      "metadata": {
        "id": "48NBZRas1L5f"
      },
      "source": [
        "- One-hot hashing \n",
        "  - 어휘 사전에 있는 고유한 토큰의 수가 너무 커서 모두 다루기 어려울 때 사용 \n",
        "  - 각 단어에 명시적으로 인덱스를 할당 ➡️ 단어를 해싱해 고정된 크기의 벡터로 변환 \n",
        "  - 단점 : 해시 충돌(hash conflict)의 문제가 있음 \n",
        "\n",
        "✔️ Feature Hashing \n",
        "- Hash 함수를 활용하여 여러개의 feature를 정해진 차원의 벡터로 표현 하는 방법 \n",
        "- feature 개수가 많아서 피처 개수를 압축하는 방법 \n"
      ]
    },
    {
      "cell_type": "code",
      "metadata": {
        "id": "keFrQ6511LPT"
      },
      "source": [
        "# Word-level one-hot encoding with hash trick \n",
        "\n",
        "samples = ['The cat sat on the mat.', 'The dog ate my homework.']\n",
        "\n",
        "dimensionality = 1000\n",
        "max_length = 10\n",
        "\n",
        "results= np.zeros((len(samples), max_length, dimensionality))\n",
        "for i, sample in enumerate(samples):\n",
        "  for j, word in list(enumerate(sample.split()))[:max_length]:\n",
        "    index = abs(hash(word)) % dimensionality\n",
        "    results[i,j, index] = 1."
      ],
      "execution_count": 6,
      "outputs": []
    },
    {
      "cell_type": "markdown",
      "metadata": {
        "id": "i1FYuZLk3XVP"
      },
      "source": [
        "- Keras 사용 "
      ]
    },
    {
      "cell_type": "code",
      "metadata": {
        "colab": {
          "base_uri": "https://localhost:8080/"
        },
        "id": "UJ9gP2Ppgh47",
        "outputId": "fb45b5c8-48ea-41d8-c11d-36d1f60e7d81"
      },
      "source": [
        "# using Keras for word-level one-hot encoding \n",
        "# to_categorical()사용 \n",
        "\n",
        "from keras.preprocessing.text import Tokenizer\n",
        "\n",
        "samples = ['The cat sat on the mat.', 'The dog ate my homework.']\n",
        "\n",
        "tokenizer = Tokenizer(num_words = 1000)\n",
        "tokenizer.fit_on_texts(samples)\n",
        "\n",
        "# texts_to_sequences : 이진 행렬 형태로 인코딩\n",
        "sequences = tokenizer.texts_to_sequences(samples)\n",
        "print(f'sequences:{sequences}\\n')\n",
        "one_hot_results = tokenizer.texts_to_matrix(samples, mode='binary')\n",
        "\n",
        "word_index = tokenizer.word_index\n",
        "print('Found %s unique tokens.' %len(word_index))"
      ],
      "execution_count": 10,
      "outputs": [
        {
          "output_type": "stream",
          "name": "stdout",
          "text": [
            "sequences:[[1, 2, 3, 4, 1, 5], [1, 6, 7, 8, 9]]\n",
            "\n",
            "Found 9 unique tokens.\n"
          ]
        }
      ]
    },
    {
      "cell_type": "markdown",
      "metadata": {
        "id": "XmTOB1o9eEg-"
      },
      "source": [
        "# Embedding\n",
        "- 밀집행렬(Dense Matrix) : 각 단어의 관계를 실수로 표현, 저차원에 해당 \n",
        "\n",
        "#### 단어 임베딩을 만드는 방법 \n",
        "- 관심 대상인 문제와 함께 단어 임베딩을 학습\n",
        "- 다른 머신러닝 작업에서 미리 계산된 단어 임베딩을 로드 ➡️ 사전 훈련된 단어 임베딩(pre-trained word embedding)"
      ]
    },
    {
      "cell_type": "markdown",
      "metadata": {
        "id": "stnOPP0UrXwV"
      },
      "source": [
        "### IMDB movie-review sentiment prediction 🎬\n",
        "- 데이터 준비 \n",
        "  - 영화 리뷰에서 가장 빈도가 높은 1만개의 단어를 추출 \n",
        "  - 리뷰에서 20개 단어 이후는 버림 "
      ]
    },
    {
      "cell_type": "code",
      "metadata": {
        "id": "6uJLgr2Mbq0S"
      },
      "source": [
        "from keras.datasets import imdb\n",
        "from keras import preprocessing"
      ],
      "execution_count": 19,
      "outputs": []
    },
    {
      "cell_type": "code",
      "metadata": {
        "id": "HLwAj1ZKbvJz"
      },
      "source": [
        "# 1만개 단어, 20개 단어 버림 \n",
        "max_features = 1000\n",
        "maxlen = 20"
      ],
      "execution_count": 20,
      "outputs": []
    },
    {
      "cell_type": "markdown",
      "metadata": {
        "id": "m36jl6V05kok"
      },
      "source": [
        "- pad_sequences( ) \n",
        " - Embedding층을 사용하기 위해서는 시퀀스 데이터의 길이가 동일해야함 \n",
        " - 지정해준 길이보다 짧은 경우 0을 채워주며 긴 경우 잘라낸다 "
      ]
    },
    {
      "cell_type": "code",
      "metadata": {
        "id": "bgDwi0uNbyOY"
      },
      "source": [
        "# 데이터 불러오기 \n",
        "(x_train, y_train), (x_test, y_test) = imdb.load_data(num_words=max_features)\n",
        "x_train = preprocessing.sequence.pad_sequences(x_train, maxlen=maxlen)\n",
        "x_test = preprocessing.sequence.pad_sequences(x_test, maxlen=maxlen)"
      ],
      "execution_count": 21,
      "outputs": []
    },
    {
      "cell_type": "markdown",
      "metadata": {
        "id": "7burIWL-4nfc"
      },
      "source": [
        "- IMDB 데이터셋에서 가장 빈번하게 사용되는 세개의 단어 "
      ]
    },
    {
      "cell_type": "code",
      "metadata": {
        "colab": {
          "base_uri": "https://localhost:8080/"
        },
        "id": "GOoji9it4u81",
        "outputId": "cc41623d-f53b-4ba1-a23e-28192301b343"
      },
      "source": [
        "imdb_get_word_index = {}\n",
        "\n",
        "for key,value in imdb.get_word_index().items():\n",
        "  imdb_get_word_index[value] = key\n",
        "\n",
        "for i in range(1,4):\n",
        "  print(f'{i}번째로 가장 많이 쓰는 단어 = {imdb_get_word_index[i]}')"
      ],
      "execution_count": 22,
      "outputs": [
        {
          "output_type": "stream",
          "name": "stdout",
          "text": [
            "1번째로 가장 많이 쓰는 단어 = the\n",
            "2번째로 가장 많이 쓰는 단어 = and\n",
            "3번째로 가장 많이 쓰는 단어 = a\n"
          ]
        }
      ]
    },
    {
      "cell_type": "markdown",
      "metadata": {
        "id": "L1EE7-QJ6XKD"
      },
      "source": [
        "- 모델 구성하기 🧩\n",
        "  - Embedding 층은 모델의 **첫 번째 층**으로만 사용 할 수 있음 \n",
        "    - 입력 : (batch_size, sequence_length)\n",
        "    - 출력 : (batch_size, sequence_length, output_dim)"
      ]
    },
    {
      "cell_type": "code",
      "metadata": {
        "id": "NZR4boglcBxJ"
      },
      "source": [
        "# 모델 생성 \n",
        "from tensorflow.keras.models import Sequential \n",
        "from tensorflow.keras.layers import Flatten, Dense, Embedding\n",
        "\n",
        "model = Sequential()\n",
        "\n",
        "# Flatten층을 사용하기 위해서 input_length를 전달 \n",
        "model.add(Embedding(input_dim = max_features, output_dim = 8, input_length=maxlen))\n",
        "model.add(Flatten())\n",
        "model.add(Dense(1, activation='sigmoid'))\n",
        "\n",
        "model.compile(optimizer='rmsprop', loss='binary_crossentropy', metrics=['acc'])"
      ],
      "execution_count": 27,
      "outputs": []
    },
    {
      "cell_type": "code",
      "metadata": {
        "colab": {
          "base_uri": "https://localhost:8080/"
        },
        "id": "1xf7oNXjZQ5U",
        "outputId": "652745ba-878e-4038-e6ff-36f82db2a500"
      },
      "source": [
        "model.summary()"
      ],
      "execution_count": 28,
      "outputs": [
        {
          "output_type": "stream",
          "name": "stdout",
          "text": [
            "Model: \"sequential\"\n",
            "_________________________________________________________________\n",
            "Layer (type)                 Output Shape              Param #   \n",
            "=================================================================\n",
            "embedding (Embedding)        (None, 20, 8)             8000      \n",
            "_________________________________________________________________\n",
            "flatten (Flatten)            (None, 160)               0         \n",
            "_________________________________________________________________\n",
            "dense (Dense)                (None, 1)                 161       \n",
            "=================================================================\n",
            "Total params: 8,161\n",
            "Trainable params: 8,161\n",
            "Non-trainable params: 0\n",
            "_________________________________________________________________\n"
          ]
        }
      ]
    },
    {
      "cell_type": "markdown",
      "metadata": {
        "id": "YyT4q3Am8QX2"
      },
      "source": [
        "- validation_split : 학습 데이터의 끝에 해당 비율만큼 떼어내어 검증 데이터 셋으로 활용 "
      ]
    },
    {
      "cell_type": "code",
      "metadata": {
        "colab": {
          "base_uri": "https://localhost:8080/"
        },
        "id": "Zn6ahtbbchNR",
        "outputId": "e69b3faf-3c00-40f4-9cd1-bd12c4e503a2"
      },
      "source": [
        "# 모델 학습 \n",
        "history = model.fit(x_train, y_train, epochs=10, batch_size=32, validation_split=0.2)"
      ],
      "execution_count": 29,
      "outputs": [
        {
          "output_type": "stream",
          "name": "stdout",
          "text": [
            "Epoch 1/10\n",
            "625/625 [==============================] - 2s 2ms/step - loss: 0.6711 - acc: 0.6169 - val_loss: 0.6261 - val_acc: 0.6922\n",
            "Epoch 2/10\n",
            "625/625 [==============================] - 1s 1ms/step - loss: 0.5671 - acc: 0.7246 - val_loss: 0.5495 - val_acc: 0.7146\n",
            "Epoch 3/10\n",
            "625/625 [==============================] - 1s 1ms/step - loss: 0.5103 - acc: 0.7484 - val_loss: 0.5302 - val_acc: 0.7264\n",
            "Epoch 4/10\n",
            "625/625 [==============================] - 1s 1ms/step - loss: 0.4887 - acc: 0.7603 - val_loss: 0.5301 - val_acc: 0.7302\n",
            "Epoch 5/10\n",
            "625/625 [==============================] - 1s 1ms/step - loss: 0.4777 - acc: 0.7665 - val_loss: 0.5277 - val_acc: 0.7328\n",
            "Epoch 6/10\n",
            "625/625 [==============================] - 1s 1ms/step - loss: 0.4694 - acc: 0.7727 - val_loss: 0.5298 - val_acc: 0.7338\n",
            "Epoch 7/10\n",
            "625/625 [==============================] - 1s 1ms/step - loss: 0.4621 - acc: 0.7782 - val_loss: 0.5340 - val_acc: 0.7294\n",
            "Epoch 8/10\n",
            "625/625 [==============================] - 1s 1ms/step - loss: 0.4550 - acc: 0.7818 - val_loss: 0.5346 - val_acc: 0.7322\n",
            "Epoch 9/10\n",
            "625/625 [==============================] - 1s 1ms/step - loss: 0.4477 - acc: 0.7865 - val_loss: 0.5385 - val_acc: 0.7286\n",
            "Epoch 10/10\n",
            "625/625 [==============================] - 1s 1ms/step - loss: 0.4407 - acc: 0.7918 - val_loss: 0.5421 - val_acc: 0.7280\n"
          ]
        }
      ]
    },
    {
      "cell_type": "markdown",
      "metadata": {
        "id": "NnhoVklR8qKP"
      },
      "source": [
        "- 모델 평가하기 "
      ]
    },
    {
      "cell_type": "code",
      "metadata": {
        "colab": {
          "base_uri": "https://localhost:8080/"
        },
        "id": "Iz1z82_28pCx",
        "outputId": "7d774b8b-4592-403f-b4be-f473136860de"
      },
      "source": [
        "model.evaluate(x_test, y_test)"
      ],
      "execution_count": 33,
      "outputs": [
        {
          "output_type": "stream",
          "name": "stdout",
          "text": [
            "782/782 [==============================] - 1s 1ms/step - loss: 0.5314 - acc: 0.7330\n"
          ]
        },
        {
          "output_type": "execute_result",
          "data": {
            "text/plain": [
              "[0.5313838124275208, 0.7329599857330322]"
            ]
          },
          "metadata": {},
          "execution_count": 33
        }
      ]
    },
    {
      "cell_type": "code",
      "metadata": {
        "id": "XBat6fiPcofl"
      },
      "source": [
        "# 정확성 확인 \n",
        "import matplotlib.pyplot as plt\n",
        "\n",
        "acc = history.history['acc']\n",
        "val_acc = history.history['val_acc']\n",
        "loss = history.history['loss']\n",
        "val_loss =history.history['val_loss']\n",
        "\n",
        "epochs = range(1, len(acc)+1)"
      ],
      "execution_count": 30,
      "outputs": []
    },
    {
      "cell_type": "code",
      "metadata": {
        "colab": {
          "base_uri": "https://localhost:8080/",
          "height": 562
        },
        "id": "gwDVH1KIcwc1",
        "outputId": "8fb167f5-d144-4613-8038-600d491ea78e"
      },
      "source": [
        "# accuracy 그래프 \n",
        "plt.plot(epochs, acc, 'bo', label = 'Training acc')\n",
        "plt.plot(epochs, val_acc, 'b', label = 'Validation acc')\n",
        "plt.title('Training and Validation accuracy')\n",
        "plt.legend()\n",
        "plt.figure()\n",
        "\n",
        "# loss 그래프 \n",
        "plt.plot(epochs, loss, 'bo', label = 'Training loss')\n",
        "plt.plot(epochs, val_loss, 'b', label = 'Validation loss')\n",
        "plt.title('Training and Validation loss')\n",
        "plt.legend()\n",
        "plt.figure()\n",
        "plt.show()"
      ],
      "execution_count": 31,
      "outputs": [
        {
          "output_type": "display_data",
          "data": {
            "image/png": "[encoded data removed]",
            "text/plain": [
              "<Figure size 432x288 with 1 Axes>"
            ]
          },
          "metadata": {
            "needs_background": "light"
          }
        },
        {
          "output_type": "display_data",
          "data": {
            "image/png": "[encoded data removed]",
            "text/plain": [
              "<Figure size 432x288 with 1 Axes>"
            ]
          },
          "metadata": {
            "needs_background": "light"
          }
        },
        {
          "output_type": "display_data",
          "data": {
            "text/plain": [
              "<Figure size 432x288 with 0 Axes>"
            ]
          },
          "metadata": {}
        }
      ]
    },
    {
      "cell_type": "code",
      "metadata": {
        "id": "a0VMcbuEd90z"
      },
      "source": [
        ""
      ],
      "execution_count": null,
      "outputs": []
    }
  ]
}