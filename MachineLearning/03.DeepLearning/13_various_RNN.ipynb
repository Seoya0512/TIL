{
  "nbformat": 4,
  "nbformat_minor": 0,
  "metadata": {
    "colab": {
      "name": "13_various_RNN.ipynb",
      "provenance": []
    },
    "kernelspec": {
      "name": "python3",
      "display_name": "Python 3"
    },
    "language_info": {
      "name": "python"
    }
  },
  "cells": [
    {
      "cell_type": "markdown",
      "metadata": {
        "id": "Akv90r1a_ehE"
      },
      "source": [
        "# 여러가지 순환신경망 학습 - IMDB 데이터 🎬 "
      ]
    },
    {
      "cell_type": "markdown",
      "metadata": {
        "id": "BcKEF1QkqZ5a"
      },
      "source": [
        "## RNN(Recurrent Neural Network)\n",
        "- Simple RNN \n",
        "  - input : (batch_size, timesteps, input_dim)\n",
        "     - timesteps : 1개의 샘플에 포함된 정보의 개수\n",
        "  - output : (batch_size, units)"
      ]
    },
    {
      "cell_type": "code",
      "metadata": {
        "id": "SmWJ40HlqYhi"
      },
      "source": [
        "from tensorflow.keras.datasets import imdb\n",
        "from keras import preprocessing\n",
        "\n",
        "max_features = 10000\n",
        "maxlen = 500\n",
        "batch_size = 32"
      ],
      "execution_count": 7,
      "outputs": []
    },
    {
      "cell_type": "code",
      "metadata": {
        "colab": {
          "base_uri": "https://localhost:8080/"
        },
        "id": "NOgeIv3OqZJz",
        "outputId": "1a2c89ce-eb1e-4ac2-a583-68a752948c16"
      },
      "source": [
        "print('Loading data...')\n",
        "(x_train, y_train), (x_test, y_test) = imdb.load_data(num_words=max_features)\n",
        "\n",
        "print(len(x_train), 'train_sequences')\n",
        "print(len(x_test), 'test_sequences')\n",
        "\n",
        "print('Pad sequences (samples x time)')\n",
        "x_train = preprocessing.sequence.pad_sequences(x_train, maxlen=maxlen)\n",
        "x_test = preprocessing.sequence.pad_sequences(x_test, maxlen=maxlen)\n",
        "print('input_train shape:', x_train.shape)\n",
        "print('input_test shape:', x_test.shape)"
      ],
      "execution_count": 8,
      "outputs": [
        {
          "output_type": "stream",
          "name": "stdout",
          "text": [
            "Loading data...\n",
            "25000 train_sequences\n",
            "25000 test_sequences\n",
            "Pad sequences (samples x time)\n",
            "input_train shape: (25000, 500)\n",
            "input_test shape: (25000, 500)\n"
          ]
        }
      ]
    },
    {
      "cell_type": "markdown",
      "metadata": {
        "id": "I6RkY3HhFGus"
      },
      "source": [
        "- 네트워크의 표현력을 증가시키기 위해 <u>여러개의 순환층을 차례대로 쌓는 것이 유용할 수도 있음</u>\n",
        "  - 이런 설정에서는 중간층들이 **전체 출력 시퀀스를 반환** 하도록 설정 (**return_sequences= True**)"
      ]
    },
    {
      "cell_type": "code",
      "metadata": {
        "id": "vgnGLmIo09iS"
      },
      "source": [
        "from keras.layers import Dense\n",
        "from keras.models import Sequential\n",
        "from keras.layers import Embedding, SimpleRNN\n",
        "\n",
        "model = Sequential()\n",
        "model.add(Embedding(max_features,32))\n",
        "model.add(SimpleRNN(32,return_sequences=True))\n",
        "model.add(SimpleRNN(32,return_sequences=True))\n",
        "model.add(SimpleRNN(32))\n",
        "model.add(Dense(1, activation='sigmoid'))\n",
        "\n",
        "model.compile(optimizer='rmsprop', loss='binary_crossentropy', metrics=['acc'])"
      ],
      "execution_count": 3,
      "outputs": []
    },
    {
      "cell_type": "code",
      "metadata": {
        "colab": {
          "base_uri": "https://localhost:8080/"
        },
        "id": "5gL46F5r1dzf",
        "outputId": "8a6807bf-a106-4623-a091-f38e0616dfb9"
      },
      "source": [
        "history = model.fit(x_train, y_train, epochs=10, batch_size=128, validation_split=0.2)"
      ],
      "execution_count": 4,
      "outputs": [
        {
          "output_type": "stream",
          "name": "stdout",
          "text": [
            "Epoch 1/10\n",
            "157/157 [==============================] - 75s 462ms/step - loss: 0.6761 - acc: 0.5561 - val_loss: 0.5859 - val_acc: 0.6892\n",
            "Epoch 2/10\n",
            "157/157 [==============================] - 78s 497ms/step - loss: 0.4174 - acc: 0.8134 - val_loss: 0.3756 - val_acc: 0.8346\n",
            "Epoch 3/10\n",
            "157/157 [==============================] - 73s 465ms/step - loss: 0.2797 - acc: 0.8892 - val_loss: 0.3461 - val_acc: 0.8592\n",
            "Epoch 4/10\n",
            "157/157 [==============================] - 72s 459ms/step - loss: 0.1808 - acc: 0.9322 - val_loss: 0.5941 - val_acc: 0.7356\n",
            "Epoch 5/10\n",
            "157/157 [==============================] - 70s 448ms/step - loss: 0.0992 - acc: 0.9654 - val_loss: 0.5579 - val_acc: 0.8426\n",
            "Epoch 6/10\n",
            "157/157 [==============================] - 71s 450ms/step - loss: 0.0465 - acc: 0.9848 - val_loss: 0.6335 - val_acc: 0.8410\n",
            "Epoch 7/10\n",
            "157/157 [==============================] - 70s 447ms/step - loss: 0.0201 - acc: 0.9938 - val_loss: 0.8629 - val_acc: 0.8042\n",
            "Epoch 8/10\n",
            "157/157 [==============================] - 70s 447ms/step - loss: 0.0227 - acc: 0.9928 - val_loss: 1.1014 - val_acc: 0.7484\n",
            "Epoch 9/10\n",
            "157/157 [==============================] - 70s 447ms/step - loss: 0.0098 - acc: 0.9970 - val_loss: 1.2335 - val_acc: 0.7448\n",
            "Epoch 10/10\n",
            "157/157 [==============================] - 71s 455ms/step - loss: 0.0076 - acc: 0.9975 - val_loss: 1.2096 - val_acc: 0.7702\n"
          ]
        }
      ]
    },
    {
      "cell_type": "code",
      "metadata": {
        "colab": {
          "base_uri": "https://localhost:8080/",
          "height": 562
        },
        "id": "V9Go3bOM8H4P",
        "outputId": "fddfb47a-9298-4e98-e355-f17d46fb656d"
      },
      "source": [
        "# 정확성 확인 \n",
        "import matplotlib.pyplot as plt\n",
        "\n",
        "acc = history.history['acc']\n",
        "val_acc = history.history['val_acc']\n",
        "loss = history.history['loss']\n",
        "val_loss =history.history['val_loss']\n",
        "\n",
        "epochs = range(1, len(acc)+1)\n",
        "\n",
        "# accuracy 그래프 \n",
        "plt.plot(epochs, acc, 'bo', label = 'Training acc')\n",
        "plt.plot(epochs, val_acc, 'b', label = 'Validation acc')\n",
        "plt.title('Training and Validation accuracy')\n",
        "plt.legend()\n",
        "plt.figure()\n",
        "\n",
        "# loss 그래프 \n",
        "plt.plot(epochs, loss, 'bo', label = 'Training loss')\n",
        "plt.plot(epochs, val_loss, 'b', label = 'Validation loss')\n",
        "plt.title('Training and Validation loss')\n",
        "plt.legend()\n",
        "plt.figure()\n",
        "plt.show()"
      ],
      "execution_count": 5,
      "outputs": [
        {
          "output_type": "display_data",
          "data": {
            "image/png": "[encoded data removed]",
            "text/plain": [
              "<Figure size 432x288 with 1 Axes>"
            ]
          },
          "metadata": {
            "needs_background": "light"
          }
        },
        {
          "output_type": "display_data",
          "data": {
            "image/png": "[encoded data removed]",
            "text/plain": [
              "<Figure size 432x288 with 1 Axes>"
            ]
          },
          "metadata": {
            "needs_background": "light"
          }
        },
        {
          "output_type": "display_data",
          "data": {
            "text/plain": [
              "<Figure size 432x288 with 0 Axes>"
            ]
          },
          "metadata": {}
        }
      ]
    },
    {
      "cell_type": "code",
      "metadata": {
        "colab": {
          "base_uri": "https://localhost:8080/"
        },
        "id": "NYVQV1_R8Vn_",
        "outputId": "21825e9a-3c18-4c05-9aa1-c31fcc93feee"
      },
      "source": [
        "# 데이터 테스트(검증)\n",
        "model.evaluate(x_test, y_test)"
      ],
      "execution_count": 6,
      "outputs": [
        {
          "output_type": "stream",
          "name": "stdout",
          "text": [
            "782/782 [==============================] - 61s 78ms/step - loss: 1.2662 - acc: 0.7624\n"
          ]
        },
        {
          "output_type": "execute_result",
          "data": {
            "text/plain": [
              "[1.2662094831466675, 0.762440025806427]"
            ]
          },
          "metadata": {},
          "execution_count": 6
        }
      ]
    },
    {
      "cell_type": "markdown",
      "metadata": {
        "id": "JA4XAS3R9ZcM"
      },
      "source": [
        "- 정확성: 76%\n",
        "  - Embedding층을 사용하여 구성한 모델 보다 낮음, 성능이 높지 않음 \n",
        "  - Simple RNN은 영화 리뷰와 같이 긴 문장의 데이터를 처리하기에는 적합하지 않음 \n",
        "  - 문제점 ❗️\n",
        "    - **Vanishing gradient problem**: 앞 부분을 시점이 흐를 수록 지속해서 기억하지 못함, 오래된 값은 영향력이 줄어든다 "
      ]
    },
    {
      "cell_type": "markdown",
      "metadata": {
        "id": "3k0WPfvQ5hVH"
      },
      "source": [
        "## LTSM (Long Short-Term Memory)\n",
        "- RNN의 그래디언트 소실 문제에 대한 대응방안 \n",
        "- 'Cell state'를 통해 이전 정보를 계속해서 사용하여 그래디언트 손실 문제를 방지하는 것"
      ]
    },
    {
      "cell_type": "code",
      "metadata": {
        "id": "tm2ywXp_2_Ke"
      },
      "source": [
        "from keras.layers import LSTM\n",
        "\n",
        "model = Sequential()\n",
        "model.add(Embedding(max_features,32))\n",
        "model.add(LSTM(32))\n",
        "model.add(Dense(1, activation='sigmoid'))\n",
        "\n",
        "model.compile(optimizer='rmsprop', loss='binary_crossentropy', metrics=['acc'])"
      ],
      "execution_count": null,
      "outputs": []
    },
    {
      "cell_type": "code",
      "metadata": {
        "colab": {
          "base_uri": "https://localhost:8080/"
        },
        "id": "PZjwxKnd8knN",
        "outputId": "e2c268c6-1068-4600-8984-6f63e178b6fb"
      },
      "source": [
        "history = model.fit(x_train, y_train, epochs=10, batch_size=128, validation_split=0.2)"
      ],
      "execution_count": null,
      "outputs": [
        {
          "output_type": "stream",
          "name": "stdout",
          "text": [
            "Epoch 1/10\n",
            "157/157 [==============================] - 57s 350ms/step - loss: 0.5003 - acc: 0.7703 - val_loss: 0.4493 - val_acc: 0.8312\n",
            "Epoch 2/10\n",
            "157/157 [==============================] - 56s 354ms/step - loss: 0.2864 - acc: 0.8887 - val_loss: 0.3002 - val_acc: 0.8752\n",
            "Epoch 3/10\n",
            "157/157 [==============================] - 55s 351ms/step - loss: 0.2291 - acc: 0.9136 - val_loss: 0.3194 - val_acc: 0.8632\n",
            "Epoch 4/10\n",
            "157/157 [==============================] - 56s 356ms/step - loss: 0.1976 - acc: 0.9264 - val_loss: 0.4325 - val_acc: 0.8388\n",
            "Epoch 5/10\n",
            "157/157 [==============================] - 56s 356ms/step - loss: 0.1728 - acc: 0.9374 - val_loss: 0.2860 - val_acc: 0.8872\n",
            "Epoch 6/10\n",
            "157/157 [==============================] - 56s 355ms/step - loss: 0.1531 - acc: 0.9449 - val_loss: 0.3169 - val_acc: 0.8802\n",
            "Epoch 7/10\n",
            "157/157 [==============================] - 56s 357ms/step - loss: 0.1407 - acc: 0.9500 - val_loss: 0.4716 - val_acc: 0.8540\n",
            "Epoch 8/10\n",
            "157/157 [==============================] - 56s 354ms/step - loss: 0.1237 - acc: 0.9553 - val_loss: 0.3815 - val_acc: 0.8436\n",
            "Epoch 9/10\n",
            "157/157 [==============================] - 58s 373ms/step - loss: 0.1185 - acc: 0.9583 - val_loss: 0.4210 - val_acc: 0.8832\n",
            "Epoch 10/10\n",
            "157/157 [==============================] - 61s 391ms/step - loss: 0.1069 - acc: 0.9621 - val_loss: 0.5414 - val_acc: 0.8540\n"
          ]
        }
      ]
    },
    {
      "cell_type": "code",
      "metadata": {
        "colab": {
          "base_uri": "https://localhost:8080/",
          "height": 562
        },
        "id": "BGm7zOmZ2Xwi",
        "outputId": "b2639280-7730-43bd-c110-54ebf9757601"
      },
      "source": [
        "# 정확성 확인 \n",
        "import matplotlib.pyplot as plt\n",
        "\n",
        "acc = history.history['acc']\n",
        "val_acc = history.history['val_acc']\n",
        "loss = history.history['loss']\n",
        "val_loss =history.history['val_loss']\n",
        "\n",
        "epochs = range(1, len(acc)+1)\n",
        "\n",
        "# accuracy 그래프 \n",
        "plt.plot(epochs, acc, 'bo', label = 'Training acc')\n",
        "plt.plot(epochs, val_acc, 'b', label = 'Validation acc')\n",
        "plt.title('Training and Validation accuracy')\n",
        "plt.legend()\n",
        "plt.figure()\n",
        "\n",
        "# loss 그래프 \n",
        "plt.plot(epochs, loss, 'bo', label = 'Training loss')\n",
        "plt.plot(epochs, val_loss, 'b', label = 'Validation loss')\n",
        "plt.title('Training and Validation loss')\n",
        "plt.legend()\n",
        "plt.figure()\n",
        "plt.show()"
      ],
      "execution_count": null,
      "outputs": [
        {
          "output_type": "display_data",
          "data": {
            "image/png": "[encoded data removed]",
            "text/plain": [
              "<Figure size 432x288 with 1 Axes>"
            ]
          },
          "metadata": {
            "needs_background": "light"
          }
        },
        {
          "output_type": "display_data",
          "data": {
            "image/png": "[encoded data removed]",
            "text/plain": [
              "<Figure size 432x288 with 1 Axes>"
            ]
          },
          "metadata": {
            "needs_background": "light"
          }
        },
        {
          "output_type": "display_data",
          "data": {
            "text/plain": [
              "<Figure size 432x288 with 0 Axes>"
            ]
          },
          "metadata": {}
        }
      ]
    },
    {
      "cell_type": "code",
      "metadata": {
        "colab": {
          "base_uri": "https://localhost:8080/"
        },
        "id": "kFncesFc8gj3",
        "outputId": "b1e3bafe-7410-4712-d076-072bfa180a08"
      },
      "source": [
        "# 모델 평가하기\n",
        "model.evaluate(x_test, y_test)"
      ],
      "execution_count": null,
      "outputs": [
        {
          "output_type": "stream",
          "name": "stdout",
          "text": [
            "782/782 [==============================] - 32s 41ms/step - loss: 0.6665 - acc: 0.8244\n"
          ]
        },
        {
          "output_type": "execute_result",
          "data": {
            "text/plain": [
              "[0.666522741317749, 0.824400007724762]"
            ]
          },
          "metadata": {},
          "execution_count": 27
        }
      ]
    },
    {
      "cell_type": "markdown",
      "metadata": {
        "id": "E5oUM8-E_Qgd"
      },
      "source": [
        "- 정확성: 82%\n",
        "  - RNN 보다 정확성이 높아짐을 확인할 수 있음 \n",
        "    - 기본적으로 Simple RNN 보다 LSTM이 더 성능이 좋음 "
      ]
    },
    {
      "cell_type": "markdown",
      "metadata": {
        "id": "ajRJfs5bDumo"
      },
      "source": [
        "## LSTM을 이용해서 반대되는 시퀀스 데이터 훈련 "
      ]
    },
    {
      "cell_type": "code",
      "metadata": {
        "id": "WpIT5IpPD5pA"
      },
      "source": [
        "from tensorflow.keras.datasets import imdb\n",
        "from tensorflow.keras.preprocessing import sequence\n",
        "from tensorflow.keras import layers\n",
        "from tensorflow.keras import Sequential\n",
        "\n",
        "max_features =100000\n",
        "maxlen = 500\n",
        "\n",
        "(x_train, y_train),(x_test, y_test) = imdb.load_data(num_words = max_features)\n",
        "\n",
        "# 시간의 반대 방향의 시퀀스를 생성한다 \n",
        "x_train = [x[::-1] for x in x_train] \n",
        "x_test = [x[::-1] for x in x_test] \n",
        "\n",
        "x_train = sequence.pad_sequences(x_train, maxlen=maxlen)\n",
        "x_test = sequence.pad_sequences(x_test, maxlen=maxlen)"
      ],
      "execution_count": 18,
      "outputs": []
    },
    {
      "cell_type": "code",
      "metadata": {
        "id": "yb0uQYaWEeWH"
      },
      "source": [
        "from keras.layers import LSTM\n",
        "\n",
        "model = Sequential()\n",
        "model.add(Embedding(max_features,32))\n",
        "model.add(LSTM(32))\n",
        "model.add(Dense(1, activation='sigmoid'))\n",
        "\n",
        "model.compile(optimizer='rmsprop', loss='binary_crossentropy', metrics=['acc'])"
      ],
      "execution_count": 19,
      "outputs": []
    },
    {
      "cell_type": "code",
      "metadata": {
        "colab": {
          "base_uri": "https://localhost:8080/"
        },
        "id": "qLSUhOlEFY5p",
        "outputId": "a643cdd5-4937-40ca-e674-70b77da951c7"
      },
      "source": [
        "history = model.fit(x_train, y_train, epochs=10, batch_size=128, validation_split=0.2)"
      ],
      "execution_count": 20,
      "outputs": [
        {
          "output_type": "stream",
          "name": "stdout",
          "text": [
            "Epoch 1/10\n",
            "157/157 [==============================] - 61s 375ms/step - loss: 0.5382 - acc: 0.7247 - val_loss: 0.3883 - val_acc: 0.8430\n",
            "Epoch 2/10\n",
            "157/157 [==============================] - 59s 374ms/step - loss: 0.2947 - acc: 0.8885 - val_loss: 0.3000 - val_acc: 0.8878\n",
            "Epoch 3/10\n",
            "157/157 [==============================] - 58s 371ms/step - loss: 0.2068 - acc: 0.9265 - val_loss: 0.3660 - val_acc: 0.8400\n",
            "Epoch 4/10\n",
            "157/157 [==============================] - 58s 372ms/step - loss: 0.1583 - acc: 0.9470 - val_loss: 0.3031 - val_acc: 0.8908\n",
            "Epoch 5/10\n",
            "157/157 [==============================] - 58s 371ms/step - loss: 0.1288 - acc: 0.9580 - val_loss: 0.3412 - val_acc: 0.8834\n",
            "Epoch 6/10\n",
            "157/157 [==============================] - 58s 372ms/step - loss: 0.0921 - acc: 0.9704 - val_loss: 0.3811 - val_acc: 0.8744\n",
            "Epoch 7/10\n",
            "157/157 [==============================] - 58s 368ms/step - loss: 0.0732 - acc: 0.9769 - val_loss: 0.3830 - val_acc: 0.8828\n",
            "Epoch 8/10\n",
            "157/157 [==============================] - 57s 364ms/step - loss: 0.0708 - acc: 0.9804 - val_loss: 0.4288 - val_acc: 0.8856\n",
            "Epoch 9/10\n",
            "157/157 [==============================] - 57s 365ms/step - loss: 0.0594 - acc: 0.9826 - val_loss: 0.4179 - val_acc: 0.8776\n",
            "Epoch 10/10\n",
            "157/157 [==============================] - 56s 359ms/step - loss: 0.0456 - acc: 0.9856 - val_loss: 0.4822 - val_acc: 0.8596\n"
          ]
        }
      ]
    },
    {
      "cell_type": "code",
      "metadata": {
        "colab": {
          "base_uri": "https://localhost:8080/"
        },
        "id": "xP9P7BMvFac6",
        "outputId": "e0a6363f-c4a8-4704-bb5e-76071d37804f"
      },
      "source": [
        "# 모델 평가하기\n",
        "model.evaluate(x_test, y_test)"
      ],
      "execution_count": 21,
      "outputs": [
        {
          "output_type": "stream",
          "name": "stdout",
          "text": [
            "782/782 [==============================] - 30s 39ms/step - loss: 0.7134 - acc: 0.7961\n"
          ]
        },
        {
          "output_type": "execute_result",
          "data": {
            "text/plain": [
              "[0.7133788466453552, 0.7961199879646301]"
            ]
          },
          "metadata": {},
          "execution_count": 21
        }
      ]
    },
    {
      "cell_type": "markdown",
      "metadata": {
        "id": "qPQgsIElL0oB"
      },
      "source": [
        "- 정확성 : 80 % \n",
        "   - 단일 LSTM과 매우 유사하다 "
      ]
    },
    {
      "cell_type": "markdown",
      "metadata": {
        "id": "zDOImt5h-Hlo"
      },
      "source": [
        "## Bidirectional RNNs 🔛\n",
        "  - 각 RNN은 입력 시퀀스를 한 방향(시간순서나 반대순서)로 처리한 후 각 표현을 합친다 \n",
        "    - 시퀀스를 양쪽 방향으로 처리하기 때문에 양방향 RNN은 단 방향 RNN이 놓치기 쉬운 패턴을 감지할 수 있음 "
      ]
    },
    {
      "cell_type": "code",
      "metadata": {
        "id": "5B4If6iv_NXu"
      },
      "source": [
        "from tensorflow.keras.layers import Dense, Embedding, SimpleRNN,Bidirectional,LSTM\n",
        "from tensorflow.keras.models import Sequential\n",
        "\n",
        "model = Sequential()\n",
        "model.add(Embedding(max_features,32))\n",
        "model.add(Bidirectional(LSTM(32)))\n",
        "model.add(Dense(1, activation='sigmoid'))\n",
        "\n",
        "model.compile(optimizer='rmsprop', loss='binary_crossentropy', metrics=['acc'])"
      ],
      "execution_count": 11,
      "outputs": []
    },
    {
      "cell_type": "code",
      "metadata": {
        "colab": {
          "base_uri": "https://localhost:8080/"
        },
        "id": "19RqPnaK-mjN",
        "outputId": "c88f80c9-47db-4661-bf44-41783741e290"
      },
      "source": [
        "history = model.fit(x_train, y_train, epochs=10, batch_size=128, validation_split=0.2)"
      ],
      "execution_count": 12,
      "outputs": [
        {
          "output_type": "stream",
          "name": "stdout",
          "text": [
            "Epoch 1/10\n",
            "157/157 [==============================] - 106s 651ms/step - loss: 0.5253 - acc: 0.7455 - val_loss: 0.3729 - val_acc: 0.8594\n",
            "Epoch 2/10\n",
            "157/157 [==============================] - 102s 649ms/step - loss: 0.3139 - acc: 0.8778 - val_loss: 0.3292 - val_acc: 0.8682\n",
            "Epoch 3/10\n",
            "157/157 [==============================] - 102s 651ms/step - loss: 0.2478 - acc: 0.9064 - val_loss: 0.3041 - val_acc: 0.8708\n",
            "Epoch 4/10\n",
            "157/157 [==============================] - 103s 657ms/step - loss: 0.2089 - acc: 0.9223 - val_loss: 0.2990 - val_acc: 0.8726\n",
            "Epoch 5/10\n",
            "157/157 [==============================] - 102s 650ms/step - loss: 0.1853 - acc: 0.9331 - val_loss: 0.3288 - val_acc: 0.8602\n",
            "Epoch 6/10\n",
            "157/157 [==============================] - 102s 648ms/step - loss: 0.1641 - acc: 0.9411 - val_loss: 0.3757 - val_acc: 0.8702\n",
            "Epoch 7/10\n",
            "157/157 [==============================] - 102s 647ms/step - loss: 0.1435 - acc: 0.9495 - val_loss: 0.3086 - val_acc: 0.8892\n",
            "Epoch 8/10\n",
            "157/157 [==============================] - 102s 647ms/step - loss: 0.1326 - acc: 0.9537 - val_loss: 0.3061 - val_acc: 0.8748\n",
            "Epoch 9/10\n",
            "157/157 [==============================] - 102s 648ms/step - loss: 0.1263 - acc: 0.9569 - val_loss: 0.4758 - val_acc: 0.8530\n",
            "Epoch 10/10\n",
            "157/157 [==============================] - 101s 646ms/step - loss: 0.1139 - acc: 0.9615 - val_loss: 0.4231 - val_acc: 0.8782\n"
          ]
        }
      ]
    },
    {
      "cell_type": "code",
      "metadata": {
        "colab": {
          "base_uri": "https://localhost:8080/",
          "height": 562
        },
        "id": "avQZKtNvDhf-",
        "outputId": "a5ead602-b67e-42d5-bfb1-4a4b34cfcbdc"
      },
      "source": [
        "# 정확성 확인 \n",
        "import matplotlib.pyplot as plt\n",
        "\n",
        "acc = history.history['acc']\n",
        "val_acc = history.history['val_acc']\n",
        "loss = history.history['loss']\n",
        "val_loss =history.history['val_loss']\n",
        "\n",
        "epochs = range(1, len(acc)+1)\n",
        "\n",
        "# accuracy 그래프 \n",
        "plt.plot(epochs, acc, 'bo', label = 'Training acc')\n",
        "plt.plot(epochs, val_acc, 'b', label = 'Validation acc')\n",
        "plt.title('Training and Validation accuracy')\n",
        "plt.legend()\n",
        "plt.figure()\n",
        "\n",
        "# loss 그래프 \n",
        "plt.plot(epochs, loss, 'bo', label = 'Training loss')\n",
        "plt.plot(epochs, val_loss, 'b', label = 'Validation loss')\n",
        "plt.title('Training and Validation loss')\n",
        "plt.legend()\n",
        "plt.figure()\n",
        "plt.show()"
      ],
      "execution_count": 14,
      "outputs": [
        {
          "output_type": "display_data",
          "data": {
            "image/png": "[encoded data removed]",
            "text/plain": [
              "<Figure size 432x288 with 1 Axes>"
            ]
          },
          "metadata": {
            "needs_background": "light"
          }
        },
        {
          "output_type": "display_data",
          "data": {
            "image/png": "[encoded data removed]",
            "text/plain": [
              "<Figure size 432x288 with 1 Axes>"
            ]
          },
          "metadata": {
            "needs_background": "light"
          }
        },
        {
          "output_type": "display_data",
          "data": {
            "text/plain": [
              "<Figure size 432x288 with 0 Axes>"
            ]
          },
          "metadata": {}
        }
      ]
    },
    {
      "cell_type": "code",
      "metadata": {
        "colab": {
          "base_uri": "https://localhost:8080/"
        },
        "id": "TdE48yAX-yFG",
        "outputId": "d6511dee-4325-4fd7-83c1-1d80e0cfd51d"
      },
      "source": [
        "# 모델 평가하기\n",
        "model.evaluate(x_test, y_test)"
      ],
      "execution_count": 13,
      "outputs": [
        {
          "output_type": "stream",
          "name": "stdout",
          "text": [
            "782/782 [==============================] - 53s 68ms/step - loss: 0.5229 - acc: 0.8482\n"
          ]
        },
        {
          "output_type": "execute_result",
          "data": {
            "text/plain": [
              "[0.5229334235191345, 0.8481600284576416]"
            ]
          },
          "metadata": {},
          "execution_count": 13
        }
      ]
    },
    {
      "cell_type": "markdown",
      "metadata": {
        "id": "ZRHeWoYtDTfX"
      },
      "source": [
        "- 정확성: 84%\n",
        "  - 단방향 LTSM보다 약간 향상됨 "
      ]
    },
    {
      "cell_type": "code",
      "metadata": {
        "id": "5OBxJMR-CyRY"
      },
      "source": [
        ""
      ],
      "execution_count": null,
      "outputs": []
    }
  ]
}