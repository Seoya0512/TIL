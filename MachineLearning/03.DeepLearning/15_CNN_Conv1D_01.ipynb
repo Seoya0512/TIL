{
  "nbformat": 4,
  "nbformat_minor": 0,
  "metadata": {
    "colab": {
      "name": "15_CNN_Conv1D_01.ipynb",
      "provenance": []
    },
    "kernelspec": {
      "name": "python3",
      "display_name": "Python 3"
    },
    "language_info": {
      "name": "python"
    }
  },
  "cells": [
    {
      "cell_type": "markdown",
      "metadata": {
        "id": "FsaTtArngd4J"
      },
      "source": [
        "# IMDB 데이터 실습 \n",
        "  - Conv 1D 와 LSTM 성능 평가 \n"
      ]
    },
    {
      "cell_type": "markdown",
      "metadata": {
        "id": "J0gU1QbRTBF6"
      },
      "source": [
        "# Conv 1D \n",
        "- 시퀀스 데이터의 특징을 추출하기 위한 방법 "
      ]
    },
    {
      "cell_type": "code",
      "metadata": {
        "id": "u-87vJX4PjXV"
      },
      "source": [
        "from tensorflow.keras.datasets import imdb\n",
        "from tensorflow.keras.preprocessing import sequence \n",
        "\n",
        "max_features= 100000\n",
        "max_len = 500"
      ],
      "execution_count": 13,
      "outputs": []
    },
    {
      "cell_type": "code",
      "metadata": {
        "colab": {
          "base_uri": "https://localhost:8080/"
        },
        "id": "7UlNkbbbTTQM",
        "outputId": "a919824f-f9f2-495f-b273-813b15e984c6"
      },
      "source": [
        "print('Loading data....')\n",
        "\n",
        "(x_train, y_train),(x_test, y_test) = imdb.load_data(num_words=max_features)\n",
        "print(len(x_train), 'train_sequences')\n",
        "print(len(x_test), 'test_sequences')\n"
      ],
      "execution_count": 14,
      "outputs": [
        {
          "output_type": "stream",
          "name": "stdout",
          "text": [
            "Loading data....\n",
            "25000 train_sequences\n",
            "25000 test_sequences\n"
          ]
        }
      ]
    },
    {
      "cell_type": "code",
      "metadata": {
        "colab": {
          "base_uri": "https://localhost:8080/"
        },
        "id": "GlzSFq2BTrZD",
        "outputId": "ec4713fe-5eb5-4497-f9c9-006ae9628467"
      },
      "source": [
        "print('Pad sequences (samples x time)')\n",
        "x_train = sequence.pad_sequences(x_train, maxlen=max_len)\n",
        "x_test = sequence.pad_sequences(x_test, maxlen=max_len)\n",
        "print('x_train shape: ', x_train.shape)\n",
        "print('x_test shape:', x_test.shape)"
      ],
      "execution_count": 15,
      "outputs": [
        {
          "output_type": "stream",
          "name": "stdout",
          "text": [
            "Pad sequences (samples x time)\n",
            "x_train shape:  (25000, 500)\n",
            "x_test shape: (25000, 500)\n"
          ]
        }
      ]
    },
    {
      "cell_type": "markdown",
      "metadata": {
        "id": "afXqMxkkUP_J"
      },
      "source": [
        "#### Conv 1D Modeling \n",
        "- 1D 컨브넷은 2D 컨브넷과 미슷한 방식으로 구성 \n",
        "  - Conv1D 와 MaxPooling 1D층을 쌓고 전역 풀링층이나 Flatten층으로 마침 \n",
        "  - 1D 컨브넷에 큰 합성곱 윈도우를 사용할 수 있음 \n",
        "    - 1D 합성곱에 크기 7이나 9의 윈도우를 사용할 수 있음 "
      ]
    },
    {
      "cell_type": "code",
      "metadata": {
        "id": "vQrFgGpkUFxO"
      },
      "source": [
        "from tensorflow.keras.models import Sequential\n",
        "from tensorflow.keras.layers import Dense, Embedding, Conv1D, MaxPooling1D, GlobalMaxPooling1D\n",
        "from tensorflow.keras.optimizers import RMSprop\n",
        "\n",
        "model = Sequential()\n",
        "model.add(Embedding(max_features, 128, input_length=max_len))\n",
        "model.add(Conv1D(32, 7, activation='relu'))\n",
        "model.add(MaxPooling1D(5))\n",
        "model.add(Conv1D(32, 7, activation='relu'))\n",
        "# GlobalMaxPooling1d : 2차원 형태를 1차원 형태로 바꿔주어 Dense층과 연결을 가능하게 한다.\n",
        "# Flatten층을 사용해도 된다 \n",
        "model.add(GlobalMaxPooling1D())\n",
        "model.add(Dense(1, activation='sigmoid'))"
      ],
      "execution_count": 23,
      "outputs": []
    },
    {
      "cell_type": "code",
      "metadata": {
        "colab": {
          "base_uri": "https://localhost:8080/"
        },
        "id": "igX4Yu5QVXmY",
        "outputId": "495a9a80-f019-49cc-f695-e0cd72edcc8d"
      },
      "source": [
        "model.summary()"
      ],
      "execution_count": 24,
      "outputs": [
        {
          "output_type": "stream",
          "name": "stdout",
          "text": [
            "Model: \"sequential_6\"\n",
            "_________________________________________________________________\n",
            "Layer (type)                 Output Shape              Param #   \n",
            "=================================================================\n",
            "embedding_6 (Embedding)      (None, 500, 128)          12800000  \n",
            "_________________________________________________________________\n",
            "conv1d_12 (Conv1D)           (None, 494, 32)           28704     \n",
            "_________________________________________________________________\n",
            "max_pooling1d_8 (MaxPooling1 (None, 98, 32)            0         \n",
            "_________________________________________________________________\n",
            "conv1d_13 (Conv1D)           (None, 92, 32)            7200      \n",
            "_________________________________________________________________\n",
            "global_max_pooling1d_4 (Glob (None, 32)                0         \n",
            "_________________________________________________________________\n",
            "dense_2 (Dense)              (None, 1)                 33        \n",
            "=================================================================\n",
            "Total params: 12,835,937\n",
            "Trainable params: 12,835,937\n",
            "Non-trainable params: 0\n",
            "_________________________________________________________________\n"
          ]
        }
      ]
    },
    {
      "cell_type": "code",
      "metadata": {
        "colab": {
          "base_uri": "https://localhost:8080/"
        },
        "id": "dzKDuQbBWIIy",
        "outputId": "ba7ad14e-992c-4d25-af11-688796a67eef"
      },
      "source": [
        "model.compile(optimizer=RMSprop(lr=1e-4), loss='binary_crossentropy',\n",
        "              metrics=['acc'])\n",
        "\n",
        "history = model.fit(x_train, y_train, epochs=10, batch_size=128, validation_split= 0.2)"
      ],
      "execution_count": 25,
      "outputs": [
        {
          "output_type": "stream",
          "name": "stderr",
          "text": [
            "/usr/local/lib/python3.7/dist-packages/keras/optimizer_v2/optimizer_v2.py:356: UserWarning: The `lr` argument is deprecated, use `learning_rate` instead.\n",
            "  \"The `lr` argument is deprecated, use `learning_rate` instead.\")\n"
          ]
        },
        {
          "output_type": "stream",
          "name": "stdout",
          "text": [
            "Epoch 1/10\n",
            "157/157 [==============================] - 81s 512ms/step - loss: 0.6921 - acc: 0.5391 - val_loss: 0.6908 - val_acc: 0.5588\n",
            "Epoch 2/10\n",
            "157/157 [==============================] - 80s 510ms/step - loss: 0.6835 - acc: 0.7074 - val_loss: 0.6840 - val_acc: 0.6426\n",
            "Epoch 3/10\n",
            "157/157 [==============================] - 80s 509ms/step - loss: 0.6653 - acc: 0.8007 - val_loss: 0.6555 - val_acc: 0.7278\n",
            "Epoch 4/10\n",
            "157/157 [==============================] - 81s 515ms/step - loss: 0.6073 - acc: 0.8146 - val_loss: 0.5643 - val_acc: 0.8136\n",
            "Epoch 5/10\n",
            "157/157 [==============================] - 83s 526ms/step - loss: 0.4839 - acc: 0.8400 - val_loss: 0.4370 - val_acc: 0.8380\n",
            "Epoch 6/10\n",
            "157/157 [==============================] - 81s 514ms/step - loss: 0.3642 - acc: 0.8673 - val_loss: 0.3616 - val_acc: 0.8544\n",
            "Epoch 7/10\n",
            "157/157 [==============================] - 81s 514ms/step - loss: 0.2936 - acc: 0.8902 - val_loss: 0.3275 - val_acc: 0.8608\n",
            "Epoch 8/10\n",
            "157/157 [==============================] - 80s 512ms/step - loss: 0.2494 - acc: 0.9068 - val_loss: 0.3234 - val_acc: 0.8644\n",
            "Epoch 9/10\n",
            "157/157 [==============================] - 80s 511ms/step - loss: 0.2178 - acc: 0.9193 - val_loss: 0.3086 - val_acc: 0.8698\n",
            "Epoch 10/10\n",
            "157/157 [==============================] - 80s 511ms/step - loss: 0.1924 - acc: 0.9299 - val_loss: 0.3041 - val_acc: 0.8728\n"
          ]
        }
      ]
    },
    {
      "cell_type": "code",
      "metadata": {
        "colab": {
          "base_uri": "https://localhost:8080/",
          "height": 562
        },
        "id": "gt9XRZRFWajT",
        "outputId": "c6b5187c-ef72-4199-cfaa-16c4a4fd055b"
      },
      "source": [
        "# 정확성 확인 \n",
        "import matplotlib.pyplot as plt\n",
        "\n",
        "acc = history.history['acc']\n",
        "val_acc = history.history['val_acc']\n",
        "loss = history.history['loss']\n",
        "val_loss =history.history['val_loss']\n",
        "\n",
        "epochs = range(1, len(acc)+1)\n",
        "\n",
        "# accuracy 그래프 \n",
        "plt.plot(epochs, acc, 'bo', label = 'Training acc')\n",
        "plt.plot(epochs, val_acc, 'b', label = 'Validation acc')\n",
        "plt.title('Training and Validation accuracy')\n",
        "plt.legend()\n",
        "plt.figure()\n",
        "\n",
        "# loss 그래프 \n",
        "plt.plot(epochs, loss, 'bo', label = 'Training loss')\n",
        "plt.plot(epochs, val_loss, 'b', label = 'Validation loss')\n",
        "plt.title('Training and Validation loss')\n",
        "plt.legend()\n",
        "plt.figure()\n",
        "plt.show()"
      ],
      "execution_count": 26,
      "outputs": [
        {
          "output_type": "display_data",
          "data": {
            "image/png": "[encoded data removed]",
            "text/plain": [
              "<Figure size 432x288 with 1 Axes>"
            ]
          },
          "metadata": {
            "needs_background": "light"
          }
        },
        {
          "output_type": "display_data",
          "data": {
            "image/png": "[encoded data removed]",
            "text/plain": [
              "<Figure size 432x288 with 1 Axes>"
            ]
          },
          "metadata": {
            "needs_background": "light"
          }
        },
        {
          "output_type": "display_data",
          "data": {
            "text/plain": [
              "<Figure size 432x288 with 0 Axes>"
            ]
          },
          "metadata": {}
        }
      ]
    },
    {
      "cell_type": "markdown",
      "metadata": {
        "id": "ez2Xnuh9j-DH"
      },
      "source": [
        "- 정확도 : 82 % \n",
        "  - 검증 정확도는 LSTM보다 조금 낮지만 CPU나 GPU에서 더 빠르게 실행됨 \n",
        "  - 단어 수준의 감성분류 작업에 RNN을 대신하여 빠르고 경제적인 1D컨브넷을 사용할 수 있음을 보여줌 "
      ]
    },
    {
      "cell_type": "markdown",
      "metadata": {
        "id": "BQSl3rFUjkrM"
      },
      "source": [
        "### LSTM\n",
        "- 정확성 : 88% 정도"
      ]
    },
    {
      "cell_type": "code",
      "metadata": {
        "id": "mrBTMWoSfbrK"
      },
      "source": [
        "from tensorflow.keras.layers import LSTM\n",
        "\n",
        "model = Sequential()\n",
        "model.add(Embedding(max_features,32))\n",
        "model.add(LSTM(32))\n",
        "model.add(Dense(1, activation='sigmoid'))\n",
        "\n",
        "model.compile(optimizer='rmsprop', loss='binary_crossentropy', metrics=['acc'])"
      ],
      "execution_count": 28,
      "outputs": []
    },
    {
      "cell_type": "code",
      "metadata": {
        "colab": {
          "base_uri": "https://localhost:8080/"
        },
        "id": "-jdByssdfetC",
        "outputId": "fec3dc8c-d06f-4fbe-8964-fad056b33722"
      },
      "source": [
        "history = model.fit(x_train, y_train, epochs=10, batch_size=128, validation_split=0.2)"
      ],
      "execution_count": 29,
      "outputs": [
        {
          "output_type": "stream",
          "name": "stdout",
          "text": [
            "Epoch 1/10\n",
            "157/157 [==============================] - 62s 383ms/step - loss: 0.5036 - acc: 0.7695 - val_loss: 0.4387 - val_acc: 0.7954\n",
            "Epoch 2/10\n",
            "157/157 [==============================] - 60s 381ms/step - loss: 0.2656 - acc: 0.8988 - val_loss: 0.2750 - val_acc: 0.8910\n",
            "Epoch 3/10\n",
            "157/157 [==============================] - 59s 376ms/step - loss: 0.1905 - acc: 0.9316 - val_loss: 0.5689 - val_acc: 0.8190\n",
            "Epoch 4/10\n",
            "157/157 [==============================] - 58s 372ms/step - loss: 0.1384 - acc: 0.9511 - val_loss: 0.2820 - val_acc: 0.8938\n",
            "Epoch 5/10\n",
            "157/157 [==============================] - 58s 372ms/step - loss: 0.1070 - acc: 0.9658 - val_loss: 0.2999 - val_acc: 0.8942\n",
            "Epoch 6/10\n",
            "157/157 [==============================] - 58s 373ms/step - loss: 0.0811 - acc: 0.9746 - val_loss: 0.4868 - val_acc: 0.8442\n",
            "Epoch 7/10\n",
            "157/157 [==============================] - 59s 375ms/step - loss: 0.0654 - acc: 0.9775 - val_loss: 0.4779 - val_acc: 0.8554\n",
            "Epoch 8/10\n",
            "157/157 [==============================] - 58s 372ms/step - loss: 0.0545 - acc: 0.9824 - val_loss: 0.4456 - val_acc: 0.8722\n",
            "Epoch 9/10\n",
            "157/157 [==============================] - 58s 370ms/step - loss: 0.0456 - acc: 0.9859 - val_loss: 0.4011 - val_acc: 0.8844\n",
            "Epoch 10/10\n",
            "157/157 [==============================] - 58s 370ms/step - loss: 0.0374 - acc: 0.9886 - val_loss: 0.3992 - val_acc: 0.8480\n"
          ]
        }
      ]
    },
    {
      "cell_type": "code",
      "metadata": {
        "colab": {
          "base_uri": "https://localhost:8080/"
        },
        "id": "SDpR2NVpfhfw",
        "outputId": "b1acfb86-be11-4f2c-ea78-a117aec48a38"
      },
      "source": [
        "# 모델 평가하기\n",
        "model.evaluate(x_test, y_test)"
      ],
      "execution_count": 30,
      "outputs": [
        {
          "output_type": "stream",
          "name": "stdout",
          "text": [
            "782/782 [==============================] - 32s 41ms/step - loss: 0.4771 - acc: 0.8274\n"
          ]
        },
        {
          "output_type": "execute_result",
          "data": {
            "text/plain": [
              "[0.4770931303501129, 0.8274400234222412]"
            ]
          },
          "metadata": {},
          "execution_count": 30
        }
      ]
    },
    {
      "cell_type": "code",
      "metadata": {
        "colab": {
          "base_uri": "https://localhost:8080/",
          "height": 545
        },
        "id": "yC6Pe_KWiETt",
        "outputId": "b6198500-d903-4bc0-bc6f-37027af5d61e"
      },
      "source": [
        "import matplotlib.pyplot as plt\n",
        "\n",
        "acc = history.history['acc']\n",
        "val_acc = history.history['val_acc']\n",
        "loss = history.history['loss']\n",
        "val_loss = history.history['val_loss']\n",
        "\n",
        "epochs = range(1, len(acc) + 1)\n",
        "\n",
        "plt.plot(epochs, acc, 'b', label = 'Training acc')\n",
        "plt.plot(epochs, val_acc, 'r', label = 'Validation acc')\n",
        "plt.title('Training and validation accuracy')\n",
        "plt.legend()\n",
        "\n",
        "plt.figure()\n",
        "\n",
        "plt.plot(epochs, loss, 'b', label = 'Training loss')\n",
        "plt.plot(epochs, val_loss, 'r', label = 'Validation loss')\n",
        "plt.title('Training and validation loss')\n",
        "plt.legend()\n",
        "\n",
        "plt.show()"
      ],
      "execution_count": 31,
      "outputs": [
        {
          "output_type": "display_data",
          "data": {
            "image/png": "[encoded data removed]",
            "text/plain": [
              "<Figure size 432x288 with 1 Axes>"
            ]
          },
          "metadata": {
            "needs_background": "light"
          }
        },
        {
          "output_type": "display_data",
          "data": {
            "image/png": "[encoded data removed]",
            "text/plain": [
              "<Figure size 432x288 with 1 Axes>"
            ]
          },
          "metadata": {
            "needs_background": "light"
          }
        }
      ]
    },
    {
      "cell_type": "code",
      "metadata": {
        "id": "P68ZGgYDjMAU"
      },
      "source": [
        ""
      ],
      "execution_count": null,
      "outputs": []
    }
  ]
}