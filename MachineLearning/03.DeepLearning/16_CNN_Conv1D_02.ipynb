{
  "nbformat": 4,
  "nbformat_minor": 0,
  "metadata": {
    "colab": {
      "name": "16_CNN_Conv1D_02.ipynb",
      "provenance": []
    },
    "kernelspec": {
      "name": "python3",
      "display_name": "Python 3"
    },
    "language_info": {
      "name": "python"
    },
    "accelerator": "GPU"
  },
  "cells": [
    {
      "cell_type": "code",
      "metadata": {
        "colab": {
          "base_uri": "https://localhost:8080/"
        },
        "id": "6wUYPpT6uHw2",
        "outputId": "f3b3bf9a-f5b3-4ab5-d254-6992a7c0d302"
      },
      "source": [
        "from google.colab import drive\n",
        "drive.mount('/gdrive', force_remount=True)\n",
        "drive.mount('/content/drive')"
      ],
      "execution_count": 2,
      "outputs": [
        {
          "output_type": "stream",
          "name": "stdout",
          "text": [
            "Mounted at /gdrive\n",
            "Mounted at /content/drive\n"
          ]
        }
      ]
    },
    {
      "cell_type": "markdown",
      "metadata": {
        "id": "vTSFT7IJyl9C"
      },
      "source": [
        "# Conv1D + RNN (GRU)\n",
        "- 1D컨브넷이 입력 패치를 독립적으로 처리하기 때문에 <u>타임스텝의 순서에는 민감하지 않음</u>\n",
        "- 컨브넷의 한계\n",
        "  - 장기간 패턴을 인식하기 위해 많은 합성곱층과 풀링층을 쌓을 수 있음 ➡️ 상위층은 원본 입력에서 긴 범위를 보게되며 순서를 감지하기에 부족함 \n",
        "  - 온도 예측 문제에 1D를 적용하면 정확성이 떨어짐 (패턴의 시간축의 위치를 고려하지 않았기 때문)"
      ]
    },
    {
      "cell_type": "code",
      "metadata": {
        "id": "Ezl2_driuIwg"
      },
      "source": [
        "weather_dir = '/content/drive/MyDrive/Data/Encoding/jena_climate_2009_2016.csv'"
      ],
      "execution_count": 4,
      "outputs": []
    },
    {
      "cell_type": "code",
      "metadata": {
        "id": "8hjHJzyMuU5o"
      },
      "source": [
        "# 데이터 불러오기 \n",
        "import os\n",
        "\n",
        "fname = os.path.join(weather_dir)\n",
        "\n",
        "f = open(fname)\n",
        "data = f.read()\n",
        "f.close()"
      ],
      "execution_count": 5,
      "outputs": []
    },
    {
      "cell_type": "code",
      "metadata": {
        "colab": {
          "base_uri": "https://localhost:8080/"
        },
        "id": "f9sLXq5Wxi55",
        "outputId": "90a5579c-53f6-446c-ac63-459fce2d3a01"
      },
      "source": [
        "# 데이터 탐색 \n",
        "# 총 42만 551줄 \n",
        "# header는 14개의 날씨 정보를 포함하고 있음 \n",
        "\n",
        "lines = data.split('\\n')\n",
        "header = lines[0].split(',')\n",
        "lines = lines[1:]\n",
        "\n",
        "print(len(lines))\n",
        "print(header)"
      ],
      "execution_count": 7,
      "outputs": [
        {
          "output_type": "stream",
          "name": "stdout",
          "text": [
            "420451\n",
            "['\"Date Time\"', '\"p (mbar)\"', '\"T (degC)\"', '\"Tpot (K)\"', '\"Tdew (degC)\"', '\"rh (%)\"', '\"VPmax (mbar)\"', '\"VPact (mbar)\"', '\"VPdef (mbar)\"', '\"sh (g/kg)\"', '\"H2OC (mmol/mol)\"', '\"rho (g/m**3)\"', '\"wv (m/s)\"', '\"max. wv (m/s)\"', '\"wd (deg)\"']\n"
          ]
        }
      ]
    },
    {
      "cell_type": "code",
      "metadata": {
        "id": "WQj7Uz3PvKnX"
      },
      "source": [
        "# Parsing the data \n",
        "\n",
        "import numpy as np\n",
        "\n",
        "float_data = np.zeros((len(lines), len(header)-1))\n",
        "\n",
        "for i, line in enumerate(lines):\n",
        "  values = [float(x) for x in line.split(',')[1:]]\n",
        "  float_data[i, :] = values"
      ],
      "execution_count": 8,
      "outputs": []
    },
    {
      "cell_type": "code",
      "metadata": {
        "id": "YaqQZryHvVWa"
      },
      "source": [
        "# 데이터 전처리 1 : 데이터의 범위가 다름, 정규화 하여 비슷한 범위를 가진 작은 값으로 변경 \n",
        "# 시계열 특성에 대해 평균을 빼고 표준 편차로 나눠 전처리 \n",
        "\n",
        "mean = float_data[:200000].mean()\n",
        "float_data -= mean\n",
        "\n",
        "std = float_data[:200000].std(axis=0)\n",
        "float_data /= std"
      ],
      "execution_count": 9,
      "outputs": []
    },
    {
      "cell_type": "code",
      "metadata": {
        "id": "m_VSeV1Pva8X"
      },
      "source": [
        "# 데이터 전처리 2: float data 배열을 받아 과거 데이터의 배치와 미래 타깃 온도를 추출하는 파이썬 제너레이터 생성 \n",
        "\n",
        "def generator(data, lookback, delay, min_index, max_index,\n",
        "              shuffle=False, batch_size=128, step=6):\n",
        "  if max_index is None:\n",
        "    max_index = len(data) - delay - 1\n",
        "  i = min_index + lookback\n",
        "  while 1:\n",
        "    if shuffle:\n",
        "      rows = np.random.randint(min_index + lookback, max_index, size=batch_size)\n",
        "    else:\n",
        "      if i + batch_size >= max_index:\n",
        "        i = min_index + lookback\n",
        "      rows = np.arange(i, min(i + batch_size, max_index))\n",
        "      i += len(rows)\n",
        "    \n",
        "    samples = np.zeros((len(rows), lookback // step, data.shape[-1]))\n",
        "    targets = np.zeros((len(rows),))\n",
        "    for j, row in enumerate(rows):\n",
        "      indices = range(rows[j] - lookback, rows[j], step)\n",
        "      samples[j] = data[indices]\n",
        "      targets[j] = data[rows[j]+delay][1]\n",
        "    yield samples, targets"
      ],
      "execution_count": 10,
      "outputs": []
    },
    {
      "cell_type": "code",
      "metadata": {
        "id": "aEbBDOKKvdIt"
      },
      "source": [
        "step =3 \n",
        "lookback = 720\n",
        "delay = 144\n",
        "\n",
        "train_gen = generator(float_data,\n",
        "                      lookback = lookback,\n",
        "                      delay = delay,\n",
        "                      min_index=0,\n",
        "                      max_index=200000,\n",
        "                      shuffle=True,\n",
        "                      step=step)\n",
        "\n",
        "val_gen = generator(float_data,\n",
        "                    lookback = lookback,\n",
        "                    delay = delay,\n",
        "                    min_index=200001,\n",
        "                    max_index=300000,\n",
        "                    shuffle=True,\n",
        "                    step=step)\n",
        "\n",
        "test_gen = generator(float_data,\n",
        "                    lookback = lookback,\n",
        "                    delay = delay,\n",
        "                    min_index=300001,\n",
        "                    max_index=None,\n",
        "                    shuffle=True,\n",
        "                    step=step)\n",
        "\n",
        "val_steps = (300000 - 200001 - lookback) //128\n",
        "test_steps = (len(float_data) - 300001 - lookback) //128"
      ],
      "execution_count": 11,
      "outputs": []
    },
    {
      "cell_type": "markdown",
      "metadata": {
        "id": "o1LQ5P2j8-rl"
      },
      "source": [
        "### Combining CNNs and RNNs to process long sequences \n",
        "- 컨브넷의 속도와 경량함을 RNN의 순서 감지 능력과 결합 \n",
        "  - 컨브넷 1D를 RNN이전에 전처리 단계로 사용 (너무 긴 시퀀스를 처리)🧹\n",
        "  - Conv1D 다운샘플된 시퀀스로 변환 ➡️ 추출된 특성의 시퀀스는 RNN의 입력이됨 \n",
        "\n",
        "#### 온도 예측 문제에 적용 🌡\n",
        "- 훨씬 긴 시퀀스를 다룰 수 있으므로, 더 오래전 데이터를 바라보거나 시계열 데이터를 더 정밀히 볼 수 있음 \n",
        "- steps를 절반으로 줄임 : 온도 데이터가 30분마다 1포인트씩 샘플링 되므로 결과 시계열 데이터는 2배로 길어짐 "
      ]
    },
    {
      "cell_type": "code",
      "metadata": {
        "colab": {
          "base_uri": "https://localhost:8080/"
        },
        "id": "H2gH5hNevikb",
        "outputId": "82036db3-f31e-4cdf-979b-fefc7a7bf630"
      },
      "source": [
        "from tensorflow.keras.models import Sequential\n",
        "from tensorflow.keras import layers\n",
        "from tensorflow.keras.optimizers import RMSprop\n",
        "\n",
        "model = Sequential()\n",
        "model.add(layers.Conv1D(32, 5, activation='relu', input_shape=(None, float_data.shape[-1])))\n",
        "model.add(layers.MaxPooling1D(3))\n",
        "model.add(layers.Conv1D(32, 5, activation='relu'))\n",
        "model.add(layers.GRU(32, dropout=0.1, recurrent_dropout=0.5))\n",
        "model.add(layers.Dense(1))\n",
        "\n",
        "model.summary()"
      ],
      "execution_count": 12,
      "outputs": [
        {
          "output_type": "stream",
          "name": "stdout",
          "text": [
            "WARNING:tensorflow:Layer gru will not use cuDNN kernels since it doesn't meet the criteria. It will use a generic GPU kernel as fallback when running on GPU.\n",
            "Model: \"sequential\"\n",
            "_________________________________________________________________\n",
            "Layer (type)                 Output Shape              Param #   \n",
            "=================================================================\n",
            "conv1d (Conv1D)              (None, None, 32)          2272      \n",
            "_________________________________________________________________\n",
            "max_pooling1d (MaxPooling1D) (None, None, 32)          0         \n",
            "_________________________________________________________________\n",
            "conv1d_1 (Conv1D)            (None, None, 32)          5152      \n",
            "_________________________________________________________________\n",
            "gru (GRU)                    (None, 32)                6336      \n",
            "_________________________________________________________________\n",
            "dense (Dense)                (None, 1)                 33        \n",
            "=================================================================\n",
            "Total params: 13,793\n",
            "Trainable params: 13,793\n",
            "Non-trainable params: 0\n",
            "_________________________________________________________________\n"
          ]
        }
      ]
    },
    {
      "cell_type": "code",
      "metadata": {
        "colab": {
          "base_uri": "https://localhost:8080/"
        },
        "id": "aPm_3hBDwoCD",
        "outputId": "3c034d19-35e5-408b-e899-1d992aadd0e9"
      },
      "source": [
        "model.compile(optimizer=RMSprop(), loss='mae')\n",
        "\n",
        "history =model.fit_generator(train_gen,\n",
        "                             steps_per_epoch=500,\n",
        "                             epochs=20,\n",
        "                             validation_data=val_gen,\n",
        "                             validation_steps= val_steps)"
      ],
      "execution_count": 14,
      "outputs": [
        {
          "output_type": "stream",
          "name": "stderr",
          "text": [
            "/usr/local/lib/python3.7/dist-packages/keras/engine/training.py:1972: UserWarning: `Model.fit_generator` is deprecated and will be removed in a future version. Please use `Model.fit`, which supports generators.\n",
            "  warnings.warn('`Model.fit_generator` is deprecated and '\n"
          ]
        },
        {
          "output_type": "stream",
          "name": "stdout",
          "text": [
            "Epoch 1/20\n",
            "500/500 [==============================] - 265s 465ms/step - loss: 7.8227 - val_loss: 0.7667\n",
            "Epoch 2/20\n",
            "500/500 [==============================] - 232s 463ms/step - loss: 0.8065 - val_loss: 0.7351\n",
            "Epoch 3/20\n",
            "500/500 [==============================] - 231s 462ms/step - loss: 0.6949 - val_loss: 0.4781\n",
            "Epoch 4/20\n",
            "500/500 [==============================] - 229s 458ms/step - loss: 0.6058 - val_loss: 0.5888\n",
            "Epoch 5/20\n",
            "500/500 [==============================] - 229s 458ms/step - loss: 0.5391 - val_loss: 0.5882\n",
            "Epoch 6/20\n",
            "500/500 [==============================] - 227s 455ms/step - loss: 0.4980 - val_loss: 0.4050\n",
            "Epoch 7/20\n",
            "500/500 [==============================] - 229s 458ms/step - loss: 0.4703 - val_loss: 0.4781\n",
            "Epoch 8/20\n",
            "500/500 [==============================] - 233s 466ms/step - loss: 0.4553 - val_loss: 0.4833\n",
            "Epoch 9/20\n",
            "500/500 [==============================] - 231s 462ms/step - loss: 0.4383 - val_loss: 0.3650\n",
            "Epoch 10/20\n",
            "500/500 [==============================] - 229s 459ms/step - loss: 0.4309 - val_loss: 0.4038\n",
            "Epoch 11/20\n",
            "500/500 [==============================] - 228s 457ms/step - loss: 0.4199 - val_loss: 0.3956\n",
            "Epoch 12/20\n",
            "500/500 [==============================] - 229s 459ms/step - loss: 0.4114 - val_loss: 0.3216\n",
            "Epoch 13/20\n",
            "500/500 [==============================] - 230s 459ms/step - loss: 0.4061 - val_loss: 0.3428\n",
            "Epoch 14/20\n",
            "500/500 [==============================] - 228s 456ms/step - loss: 0.3978 - val_loss: 0.3920\n",
            "Epoch 15/20\n",
            "500/500 [==============================] - 229s 458ms/step - loss: 0.3922 - val_loss: 0.3377\n",
            "Epoch 16/20\n",
            "500/500 [==============================] - 228s 456ms/step - loss: 0.3893 - val_loss: 0.3703\n",
            "Epoch 17/20\n",
            "500/500 [==============================] - 230s 461ms/step - loss: 0.3866 - val_loss: 0.3201\n",
            "Epoch 18/20\n",
            "500/500 [==============================] - 228s 455ms/step - loss: 0.3839 - val_loss: 0.3968\n",
            "Epoch 19/20\n",
            "500/500 [==============================] - 227s 454ms/step - loss: 0.3780 - val_loss: 0.3286\n",
            "Epoch 20/20\n",
            "500/500 [==============================] - 229s 459ms/step - loss: 0.3742 - val_loss: 0.3880\n"
          ]
        }
      ]
    },
    {
      "cell_type": "markdown",
      "metadata": {
        "id": "MVTpaaLlHks4"
      },
      "source": [
        "✅ 결과 : GRU모델 만큼 좋지 않으나 훨씬 빠르기 때문에 데이터를 2배 더 많이 처리할 수 있음 "
      ]
    },
    {
      "cell_type": "code",
      "metadata": {
        "id": "8WyxZKBkGFYi"
      },
      "source": [
        ""
      ],
      "execution_count": null,
      "outputs": []
    }
  ]
}