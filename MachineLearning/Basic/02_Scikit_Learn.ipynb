{
  "nbformat": 4,
  "nbformat_minor": 0,
  "metadata": {
    "colab": {
      "name": "02_Scikit_Learn.ipynb",
      "provenance": [],
      "collapsed_sections": []
    },
    "kernelspec": {
      "name": "python3",
      "display_name": "Python 3"
    },
    "language_info": {
      "name": "python"
    }
  },
  "cells": [
    {
      "cell_type": "markdown",
      "metadata": {
        "id": "grulswZ1HzPS"
      },
      "source": [
        "# Scikit-learn\n",
        "\n",
        "특징 \n",
        "\n",
        "1. 파이썬으로 구현된 라이브러리 중에서 머신 러닝 교육 및 실무용으로 가장 많이 사용 되고 있는 open source library\n",
        "2. API 가 일관되고 간결함 "
      ]
    },
    {
      "cell_type": "markdown",
      "metadata": {
        "id": "jPfSlJvAQ2e5"
      },
      "source": [
        "### Bunch 클래스\n",
        "- 속성\n",
        "  - **data**(필수) : 독립변수 ndarray 배열\n",
        "  - **target**(필수) : 종속변수 ndarray 배열\n",
        "  - feature_names : 독립 변수 이름 리스트\n",
        "  - target_names : 종속 변수 이름 리스트 \n",
        "  - DESCR : 자료에 대한 설명 "
      ]
    },
    {
      "cell_type": "code",
      "metadata": {
        "id": "3qTORo7rHxUK"
      },
      "source": [
        "# 데이터세트 로딩 \n",
        "from sklearn.datasets import load_iris\n",
        "data = load_iris()"
      ],
      "execution_count": 5,
      "outputs": []
    },
    {
      "cell_type": "code",
      "metadata": {
        "id": "T8AGHWzGIB__"
      },
      "source": [
        "# 데이터에 대한 정보를 출력 \n",
        "load_iris??"
      ],
      "execution_count": 2,
      "outputs": []
    },
    {
      "cell_type": "code",
      "metadata": {
        "colab": {
          "base_uri": "https://localhost:8080/"
        },
        "id": "bLLLcu4HIGcQ",
        "outputId": "2c1e08ef-a85d-40d2-eefe-4f35746bcc0d"
      },
      "source": [
        "# data의 유형 \n",
        "type(data)"
      ],
      "execution_count": 6,
      "outputs": [
        {
          "output_type": "execute_result",
          "data": {
            "text/plain": [
              "sklearn.utils.Bunch"
            ]
          },
          "metadata": {},
          "execution_count": 6
        }
      ]
    },
    {
      "cell_type": "code",
      "metadata": {
        "colab": {
          "base_uri": "https://localhost:8080/"
        },
        "id": "RnIIrekrIXq2",
        "outputId": "88c9f3f1-1849-43a0-888c-1f9d0abcb9a0"
      },
      "source": [
        "# dir (data 안에 어떤 것들이 포함되어 있는지?)\n",
        "dir(data)"
      ],
      "execution_count": 7,
      "outputs": [
        {
          "output_type": "execute_result",
          "data": {
            "text/plain": [
              "['DESCR', 'data', 'feature_names', 'filename', 'target', 'target_names']"
            ]
          },
          "metadata": {},
          "execution_count": 7
        }
      ]
    },
    {
      "cell_type": "code",
      "metadata": {
        "colab": {
          "base_uri": "https://localhost:8080/"
        },
        "id": "rD4Y9r5SIcgU",
        "outputId": "8019a031-f2f8-45c4-ccf5-2edad8bcc905"
      },
      "source": [
        "print(data.feature_names)"
      ],
      "execution_count": 8,
      "outputs": [
        {
          "output_type": "stream",
          "name": "stdout",
          "text": [
            "['sepal length (cm)', 'sepal width (cm)', 'petal length (cm)', 'petal width (cm)']\n"
          ]
        }
      ]
    },
    {
      "cell_type": "code",
      "metadata": {
        "id": "XZ15JN-5Iixl"
      },
      "source": [
        "# 데이터 정보(설명)를 출력 하는 코드 (DESC)\n",
        "from IPython.display import HTML\n",
        "\n",
        "#HTML(data.DESCR.replace('\\n','\\<br/>'))"
      ],
      "execution_count": 11,
      "outputs": []
    },
    {
      "cell_type": "markdown",
      "metadata": {
        "id": "nOnqaoR7SgQu"
      },
      "source": [
        "### 데이터 전처리 🧹\n",
        "✅ 현실에서 가져오는 raw 데이터의품질을 보완하는 작업 (중요..중요)\n",
        "<br>\n",
        "<br>\n",
        "#### 데이터 전처리의 주요 작업 \n",
        "- 데이터 정제(Cleaning, Cleansing)\n",
        "  - 결측값(missing value)를 채우거나, 잡음값(noisy data)를 평활화(smoothing), 이상치(outlier) 발견하여 제거, 불일치 해결 \n",
        "\n",
        "- 데이터 통합(Integration) \n",
        "  - 다수의 소스에서 얻은 데이터를 합쳐서 표현 \n",
        "\n",
        "- 축소(Reduction)\n",
        "  - 크기는 작지만 분석 결과는 동일한 데이터로 표현 \n",
        "\n",
        "- 변환(Transformation)\n",
        "  - 기계학습 알고리즘의 효율성을 극대화하기 위한 변형\n",
        "___\n"
      ]
    },
    {
      "cell_type": "markdown",
      "metadata": {
        "id": "kw9FgYQPTfHv"
      },
      "source": [
        "\n",
        "### 표준화 (Standardization, mean removal and variance scaling)\n",
        "\n",
        "목표 : 자료에 선형 변환을 적용하여 전체 자료의 **평균 = 0, 분산 = 1** 이 되도록 설정 \n",
        "\n",
        "목적 : overflow 혹은 underflow 방지하기 위함 \n",
        "\n",
        "##### 제공되는 함수와 클래스 🧮\n",
        "- scale(x) \n",
        "- robust_scale(x)\n",
        "- minmax_scale(x)\n",
        "- maxabs_scale(x)"
      ]
    },
    {
      "cell_type": "code",
      "metadata": {
        "id": "Bb4bq09PIykt"
      },
      "source": [
        "# 함수, 클래스 가져오기 \n",
        "from sklearn.preprocessing import scale, robust_scale, minmax_scale, maxabs_scale"
      ],
      "execution_count": 12,
      "outputs": []
    },
    {
      "cell_type": "code",
      "metadata": {
        "colab": {
          "base_uri": "https://localhost:8080/"
        },
        "id": "_u-8rFX_Uldv",
        "outputId": "42e08702-9ee6-48e1-963a-7d5711c55bea"
      },
      "source": [
        "# 전처리 하려는 데이터 값 \n",
        "import numpy as np\n",
        "x = (np.arange(10, dtype=np.float) - 3).reshape(-1,1)\n",
        "x"
      ],
      "execution_count": 34,
      "outputs": [
        {
          "output_type": "execute_result",
          "data": {
            "text/plain": [
              "array([[-3.],\n",
              "       [-2.],\n",
              "       [-1.],\n",
              "       [ 0.],\n",
              "       [ 1.],\n",
              "       [ 2.],\n",
              "       [ 3.],\n",
              "       [ 4.],\n",
              "       [ 5.],\n",
              "       [ 6.]])"
            ]
          },
          "metadata": {},
          "execution_count": 34
        }
      ]
    },
    {
      "cell_type": "markdown",
      "metadata": {
        "id": "A2EU0uHpeeVf"
      },
      "source": [
        "___\n",
        "\n",
        "\n",
        "표준화에서는 데이터의 \n",
        "- scale(x) \n",
        "  - 표준 정규분포 스케일 \n",
        "\n",
        "- robust_scale(X)\n",
        "  - median 사용. Outlier의 영향 최소화 \n",
        "  - 범위 : -1 ~ 1\n",
        "\n",
        "- minmax_scale(X)\n",
        "  - 최대, 최소값 아용 \n",
        "  - 범위 : 0 ~ 1, 근사치 사용 \n",
        "\n",
        "- maxabs_scale(X)\n",
        "  - 최대 절대값 (1) 사용 \n",
        "  - 절대값이 가장 큰 수를 1로 두며, 음수값이 큰 경우 그 값은 -1 "
      ]
    },
    {
      "cell_type": "code",
      "metadata": {
        "colab": {
          "base_uri": "https://localhost:8080/",
          "height": 359
        },
        "id": "B3FTNY64Upd7",
        "outputId": "ca3d0216-7af8-48c4-9e49-8d8c421922cf"
      },
      "source": [
        "# 전처리 결과 출력 \n",
        "import pandas as pd \n",
        "df = pd.DataFrame(np.hstack([x, scale(x), robust_scale(x), minmax_scale(x), maxabs_scale(x)]), \n",
        "columns = [\"x\",\"scale(x)\", 'robust_scale(x)', 'minmax_scale(x)', 'maxabs_scale(x)'])\n",
        "df"
      ],
      "execution_count": 15,
      "outputs": [
        {
          "output_type": "execute_result",
          "data": {
            "text/html": [
              "<div>\n",
              "<style scoped>\n",
              "    .dataframe tbody tr th:only-of-type {\n",
              "        vertical-align: middle;\n",
              "    }\n",
              "\n",
              "    .dataframe tbody tr th {\n",
              "        vertical-align: top;\n",
              "    }\n",
              "\n",
              "    .dataframe thead th {\n",
              "        text-align: right;\n",
              "    }\n",
              "</style>\n",
              "<table border=\"1\" class=\"dataframe\">\n",
              "  <thead>\n",
              "    <tr style=\"text-align: right;\">\n",
              "      <th></th>\n",
              "      <th>x</th>\n",
              "      <th>scale(x)</th>\n",
              "      <th>robust_scale(x)</th>\n",
              "      <th>minmax_scale(x)</th>\n",
              "      <th>maxabs_scale(x)</th>\n",
              "    </tr>\n",
              "  </thead>\n",
              "  <tbody>\n",
              "    <tr>\n",
              "      <th>0</th>\n",
              "      <td>-3.0</td>\n",
              "      <td>-1.566699</td>\n",
              "      <td>-1.000000</td>\n",
              "      <td>0.000000</td>\n",
              "      <td>-0.500000</td>\n",
              "    </tr>\n",
              "    <tr>\n",
              "      <th>1</th>\n",
              "      <td>-2.0</td>\n",
              "      <td>-1.218544</td>\n",
              "      <td>-0.777778</td>\n",
              "      <td>0.111111</td>\n",
              "      <td>-0.333333</td>\n",
              "    </tr>\n",
              "    <tr>\n",
              "      <th>2</th>\n",
              "      <td>-1.0</td>\n",
              "      <td>-0.870388</td>\n",
              "      <td>-0.555556</td>\n",
              "      <td>0.222222</td>\n",
              "      <td>-0.166667</td>\n",
              "    </tr>\n",
              "    <tr>\n",
              "      <th>3</th>\n",
              "      <td>0.0</td>\n",
              "      <td>-0.522233</td>\n",
              "      <td>-0.333333</td>\n",
              "      <td>0.333333</td>\n",
              "      <td>0.000000</td>\n",
              "    </tr>\n",
              "    <tr>\n",
              "      <th>4</th>\n",
              "      <td>1.0</td>\n",
              "      <td>-0.174078</td>\n",
              "      <td>-0.111111</td>\n",
              "      <td>0.444444</td>\n",
              "      <td>0.166667</td>\n",
              "    </tr>\n",
              "    <tr>\n",
              "      <th>5</th>\n",
              "      <td>2.0</td>\n",
              "      <td>0.174078</td>\n",
              "      <td>0.111111</td>\n",
              "      <td>0.555556</td>\n",
              "      <td>0.333333</td>\n",
              "    </tr>\n",
              "    <tr>\n",
              "      <th>6</th>\n",
              "      <td>3.0</td>\n",
              "      <td>0.522233</td>\n",
              "      <td>0.333333</td>\n",
              "      <td>0.666667</td>\n",
              "      <td>0.500000</td>\n",
              "    </tr>\n",
              "    <tr>\n",
              "      <th>7</th>\n",
              "      <td>4.0</td>\n",
              "      <td>0.870388</td>\n",
              "      <td>0.555556</td>\n",
              "      <td>0.777778</td>\n",
              "      <td>0.666667</td>\n",
              "    </tr>\n",
              "    <tr>\n",
              "      <th>8</th>\n",
              "      <td>5.0</td>\n",
              "      <td>1.218544</td>\n",
              "      <td>0.777778</td>\n",
              "      <td>0.888889</td>\n",
              "      <td>0.833333</td>\n",
              "    </tr>\n",
              "    <tr>\n",
              "      <th>9</th>\n",
              "      <td>6.0</td>\n",
              "      <td>1.566699</td>\n",
              "      <td>1.000000</td>\n",
              "      <td>1.000000</td>\n",
              "      <td>1.000000</td>\n",
              "    </tr>\n",
              "  </tbody>\n",
              "</table>\n",
              "</div>"
            ],
            "text/plain": [
              "     x  scale(x)  robust_scale(x)  minmax_scale(x)  maxabs_scale(x)\n",
              "0 -3.0 -1.566699        -1.000000         0.000000        -0.500000\n",
              "1 -2.0 -1.218544        -0.777778         0.111111        -0.333333\n",
              "2 -1.0 -0.870388        -0.555556         0.222222        -0.166667\n",
              "3  0.0 -0.522233        -0.333333         0.333333         0.000000\n",
              "4  1.0 -0.174078        -0.111111         0.444444         0.166667\n",
              "5  2.0  0.174078         0.111111         0.555556         0.333333\n",
              "6  3.0  0.522233         0.333333         0.666667         0.500000\n",
              "7  4.0  0.870388         0.555556         0.777778         0.666667\n",
              "8  5.0  1.218544         0.777778         0.888889         0.833333\n",
              "9  6.0  1.566699         1.000000         1.000000         1.000000"
            ]
          },
          "metadata": {},
          "execution_count": 15
        }
      ]
    },
    {
      "cell_type": "markdown",
      "metadata": {
        "id": "mmpc-CMzfpuJ"
      },
      "source": [
        "* 표준화에서는 데이터의 모양에 변화가 없다 "
      ]
    },
    {
      "cell_type": "code",
      "metadata": {
        "id": "9lI7hiEBVDCM"
      },
      "source": [
        "import seaborn as sns\n",
        "import matplotlib.pyplot as plt\n",
        "\n",
        "from sklearn.datasets import load_iris\n",
        "iris = load_iris()\n",
        "data1 = iris.data\n",
        "data4 = minmax_scale(data1)"
      ],
      "execution_count": 22,
      "outputs": []
    },
    {
      "cell_type": "code",
      "metadata": {
        "colab": {
          "base_uri": "https://localhost:8080/",
          "height": 953
        },
        "id": "Oft46mnuf4-I",
        "outputId": "a97587bf-0639-4dec-b659-2fedb0faa0fc"
      },
      "source": [
        "# original \n",
        "sns.jointplot(data1[:,0], data1[:, 1])\n",
        "plt.title('Original')\n",
        "plt.show()\n",
        "# minmax_scale\n",
        "sns.jointplot(data1[:,0], data4[:,1])\n",
        "plt.title('minmax_scale')\n",
        "plt.show()"
      ],
      "execution_count": 25,
      "outputs": [
        {
          "output_type": "stream",
          "name": "stderr",
          "text": [
            "/usr/local/lib/python3.7/dist-packages/seaborn/_decorators.py:43: FutureWarning: Pass the following variables as keyword args: x, y. From version 0.12, the only valid positional argument will be `data`, and passing other arguments without an explicit keyword will result in an error or misinterpretation.\n",
            "  FutureWarning\n"
          ]
        },
        {
          "output_type": "display_data",
          "data": {
            "image/png": "[encoded data removed]",
            "text/plain": [
              "<Figure size 432x432 with 3 Axes>"
            ]
          },
          "metadata": {
            "needs_background": "light"
          }
        },
        {
          "output_type": "stream",
          "name": "stderr",
          "text": [
            "/usr/local/lib/python3.7/dist-packages/seaborn/_decorators.py:43: FutureWarning: Pass the following variables as keyword args: x, y. From version 0.12, the only valid positional argument will be `data`, and passing other arguments without an explicit keyword will result in an error or misinterpretation.\n",
            "  FutureWarning\n"
          ]
        },
        {
          "output_type": "display_data",
          "data": {
            "image/png": "[encoded data removed]",
            "text/plain": [
              "<Figure size 432x432 with 3 Axes>"
            ]
          },
          "metadata": {
            "needs_background": "light"
          }
        }
      ]
    },
    {
      "cell_type": "markdown",
      "metadata": {
        "id": "M67L1kXRg5ns"
      },
      "source": [
        "___\n",
        "\n",
        "### 정규화(Normalization, Scaling and Centering)\n",
        "\n",
        "목적 : 개별 데이터의 크기를 모두 같게 만들기 위한 변환\n",
        "\n",
        "##### 제공되는 함수와 클래스 🧮\n",
        "- normalize(x) \n",
        "\n",
        " "
      ]
    },
    {
      "cell_type": "code",
      "metadata": {
        "id": "qzwn-km6gB9P"
      },
      "source": [
        "from sklearn.preprocessing import scale, normalize \n",
        "y1 = scale(x)\n",
        "y2 = normalize(x)"
      ],
      "execution_count": 35,
      "outputs": []
    },
    {
      "cell_type": "code",
      "metadata": {
        "colab": {
          "base_uri": "https://localhost:8080/"
        },
        "id": "V22JRAXAhZLr",
        "outputId": "49a4df18-3f57-4bb0-8ecf-937a09c250ea"
      },
      "source": [
        "print('original x:\\n', x)\n",
        "print('scale:\\n', y1)\n",
        "print('norms:\\n', np.linalg.norm(y1, axis=1))\n",
        "# 크기를 동일하게 만든다 (normalize)\n",
        "print('normalize:\\n', y2)\n",
        "print('norms (normalize)\\n', np.linalg.norm(y2, axis=1))"
      ],
      "execution_count": 37,
      "outputs": [
        {
          "output_type": "stream",
          "name": "stdout",
          "text": [
            "original x:\n",
            " [[-3.]\n",
            " [-2.]\n",
            " [-1.]\n",
            " [ 0.]\n",
            " [ 1.]\n",
            " [ 2.]\n",
            " [ 3.]\n",
            " [ 4.]\n",
            " [ 5.]\n",
            " [ 6.]]\n",
            "scale:\n",
            " [[-1.5666989 ]\n",
            " [-1.21854359]\n",
            " [-0.87038828]\n",
            " [-0.52223297]\n",
            " [-0.17407766]\n",
            " [ 0.17407766]\n",
            " [ 0.52223297]\n",
            " [ 0.87038828]\n",
            " [ 1.21854359]\n",
            " [ 1.5666989 ]]\n",
            "norms:\n",
            " [1.5666989  1.21854359 0.87038828 0.52223297 0.17407766 0.17407766\n",
            " 0.52223297 0.87038828 1.21854359 1.5666989 ]\n",
            "normalize:\n",
            " [[-1.]\n",
            " [-1.]\n",
            " [-1.]\n",
            " [ 0.]\n",
            " [ 1.]\n",
            " [ 1.]\n",
            " [ 1.]\n",
            " [ 1.]\n",
            " [ 1.]\n",
            " [ 1.]]\n",
            "norms (normalize)\n",
            " [1. 1. 1. 0. 1. 1. 1. 1. 1. 1.]\n"
          ]
        }
      ]
    },
    {
      "cell_type": "markdown",
      "metadata": {
        "id": "qxRUwQkPiqw_"
      },
      "source": [
        "* 정규화에서는 데이터의 모양에 변화가 생긴다 "
      ]
    },
    {
      "cell_type": "code",
      "metadata": {
        "colab": {
          "base_uri": "https://localhost:8080/",
          "height": 953
        },
        "id": "KYRqLNMGhvx0",
        "outputId": "4e710e53-03ce-4770-f650-2f39f5348d9d"
      },
      "source": [
        "data1 = iris.data[:, :2]\n",
        "data3 = normalize(data1)\n",
        "# original \n",
        "sns.jointplot(data1[:,0], data1[:, 1])\n",
        "plt.title('Original')\n",
        "plt.show()\n",
        "# normalize\n",
        "sns.jointplot(data3[:,0], data3[:, 1])\n",
        "plt.title('Normalize')\n",
        "plt.show()"
      ],
      "execution_count": 38,
      "outputs": [
        {
          "output_type": "stream",
          "name": "stderr",
          "text": [
            "/usr/local/lib/python3.7/dist-packages/seaborn/_decorators.py:43: FutureWarning: Pass the following variables as keyword args: x, y. From version 0.12, the only valid positional argument will be `data`, and passing other arguments without an explicit keyword will result in an error or misinterpretation.\n",
            "  FutureWarning\n"
          ]
        },
        {
          "output_type": "display_data",
          "data": {
            "image/png": "[encoded data removed]",
            "text/plain": [
              "<Figure size 432x432 with 3 Axes>"
            ]
          },
          "metadata": {
            "needs_background": "light"
          }
        },
        {
          "output_type": "stream",
          "name": "stderr",
          "text": [
            "/usr/local/lib/python3.7/dist-packages/seaborn/_decorators.py:43: FutureWarning: Pass the following variables as keyword args: x, y. From version 0.12, the only valid positional argument will be `data`, and passing other arguments without an explicit keyword will result in an error or misinterpretation.\n",
            "  FutureWarning\n"
          ]
        },
        {
          "output_type": "display_data",
          "data": {
            "image/png": "[encoded data removed]",
            "text/plain": [
              "<Figure size 432x432 with 3 Axes>"
            ]
          },
          "metadata": {
            "needs_background": "light"
          }
        }
      ]
    }
  ]
}