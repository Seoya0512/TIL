{
  "nbformat": 4,
  "nbformat_minor": 2,
  "metadata": {
    "colab": {
      "name": "test1_6회차_이영서.ipynb",
      "provenance": []
    },
    "kernelspec": {
      "name": "python3",
      "display_name": "Python 3.8.11 64-bit ('base': conda)"
    },
    "language_info": {
      "name": "python",
      "version": "3.8.11",
      "mimetype": "text/x-python",
      "codemirror_mode": {
        "name": "ipython",
        "version": 3
      },
      "pygments_lexer": "ipython3",
      "nbconvert_exporter": "python",
      "file_extension": ".py"
    },
    "interpreter": {
      "hash": "59aa76eec713a2e656bb9d4ddb5f36b21f3d4006b36f877fc5669415524b1415"
    }
  },
  "cells": [
    {
      "cell_type": "markdown",
      "source": [
        "# 과제 ✅\n",
        "### 필기체 숫자를 분류할 수 있는 분류기 모델을 구성 (K-NN classifier)"
      ],
      "metadata": {
        "id": "OdoMJlKHrIWT"
      }
    },
    {
      "cell_type": "code",
      "execution_count": 12,
      "source": [
        "from sklearn.datasets import load_digits\n",
        "import pandas as pd\n",
        "import numpy as np\n",
        "import seaborn as sns\n",
        "import matplotlib.pyplot as plt\n",
        "import math\n",
        "%matplotlib inline"
      ],
      "outputs": [],
      "metadata": {
        "id": "W_t2Zm6okc2Y"
      }
    },
    {
      "cell_type": "markdown",
      "source": [
        "* digits 데이터 불러오기 "
      ],
      "metadata": {
        "id": "-P9hy6i4q2Jn"
      }
    },
    {
      "cell_type": "code",
      "execution_count": 2,
      "source": [
        "digits = load_digits()\n",
        "digits.data.shape"
      ],
      "outputs": [
        {
          "output_type": "execute_result",
          "data": {
            "text/plain": [
              "(1797, 64)"
            ]
          },
          "metadata": {},
          "execution_count": 2
        }
      ],
      "metadata": {
        "colab": {
          "base_uri": "https://localhost:8080/"
        },
        "id": "Ow83Agi2kbnH",
        "outputId": "05cff8b7-30d5-461b-f804-d5b8b02a5f70"
      }
    },
    {
      "cell_type": "markdown",
      "source": [
        "* train data 훈련(모델 생성) 및 예측"
      ],
      "metadata": {
        "id": "ncTQkQBNq7nr"
      }
    },
    {
      "cell_type": "code",
      "execution_count": 8,
      "source": [
        "from sklearn.model_selection import train_test_split\n",
        "\n",
        "X,y = load_digits(return_X_y= True)\n",
        "X_train, X_test, y_train, y_test = train_test_split(X,y, test_size=0.1, random_state=42)"
      ],
      "outputs": [],
      "metadata": {
        "id": "F4AGrjeklfDc"
      }
    },
    {
      "cell_type": "code",
      "execution_count": 9,
      "source": [
        "# n_neighbor = 10 \n",
        "from sklearn.neighbors import KNeighborsClassifier\n",
        "\n",
        "neigh10 = KNeighborsClassifier(n_neighbors= 10)\n",
        "neigh10.fit(X_train, y_train)"
      ],
      "outputs": [
        {
          "output_type": "execute_result",
          "data": {
            "text/plain": [
              "KNeighborsClassifier(n_neighbors=10)"
            ]
          },
          "metadata": {},
          "execution_count": 9
        }
      ],
      "metadata": {
        "colab": {
          "base_uri": "https://localhost:8080/"
        },
        "id": "sK8MZKJimOOa",
        "outputId": "a3ee886b-b4af-4e18-d673-6e5c4873f73a"
      }
    },
    {
      "cell_type": "code",
      "execution_count": 5,
      "source": [
        "y_pred = neigh10.predict(X_test)"
      ],
      "outputs": [],
      "metadata": {
        "id": "Q2MRf0oCpvL0"
      }
    },
    {
      "cell_type": "markdown",
      "source": [
        "#### 테스트 성능 평가\n",
        "* Accuracy Test "
      ],
      "metadata": {
        "id": "czqXD0QrqZyx"
      }
    },
    {
      "cell_type": "code",
      "execution_count": 10,
      "source": [
        "from sklearn.metrics import accuracy_score, confusion_matrix \n",
        "\n",
        "accuracy = accuracy_score(y_test, y_pred)\n",
        "print(\"Accuracy: {:.2f}%\".format(accuracy*100))"
      ],
      "outputs": [
        {
          "output_type": "stream",
          "name": "stdout",
          "text": [
            "Accuracy: 99.44%\n"
          ]
        }
      ],
      "metadata": {
        "colab": {
          "base_uri": "https://localhost:8080/"
        },
        "id": "jVvtLTjppU1O",
        "outputId": "14c13526-65d2-41bf-a981-2ffef80ad106"
      }
    },
    {
      "cell_type": "markdown",
      "source": [
        "* Confusion Matrix"
      ],
      "metadata": {
        "id": "COpVw_nuqUpR"
      }
    },
    {
      "cell_type": "code",
      "execution_count": 13,
      "source": [
        "cf= confusion_matrix(y_test, y_pred)\n",
        "plt.figure()\n",
        "sns.heatmap(cf, annot = True)\n",
        "plt.xlabel('Prediction')\n",
        "plt.ylabel('Target')\n",
        "plt.title('Confusion Matrix')"
      ],
      "outputs": [
        {
          "output_type": "execute_result",
          "data": {
            "text/plain": [
              "Text(0.5, 1.0, 'Confusion Matrix')"
            ]
          },
          "metadata": {},
          "execution_count": 13
        },
        {
          "output_type": "display_data",
          "data": {
            "image/png": "[encoded data removed]",
            "text/plain": [
              "<Figure size 432x288 with 2 Axes>"
            ]
          },
          "metadata": {
            "needs_background": "light"
          }
        }
      ],
      "metadata": {
        "colab": {
          "base_uri": "https://localhost:8080/",
          "height": 318
        },
        "id": "Rk6VStYyp3O4",
        "outputId": "3ebafea6-116a-4d40-af19-c3aad489b22c"
      }
    },
    {
      "cell_type": "code",
      "execution_count": null,
      "source": [],
      "outputs": [],
      "metadata": {
        "id": "97gUz5Rap7zA"
      }
    }
  ]
}