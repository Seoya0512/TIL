{
 "cells": [
  {
   "cell_type": "code",
   "execution_count": 10,
   "metadata": {},
   "outputs": [
    {
     "name": "stdout",
     "output_type": "stream",
     "text": [
      "1 0 0 0 0 1 "
     ]
    }
   ],
   "source": [
    "# 3003번 \n",
    "original = [1,1,2,2,2,8]\n",
    "number = list(map(int,input().split()))\n",
    "\n",
    "for i in range(len(original)):\n",
    "    print(original[i] - number[i], end=' ')\n",
    "    # print(end='')는 현재 속한 출력물을 그 다음 출력값과 이어지게 "
   ]
  },
  {
   "cell_type": "code",
   "execution_count": 16,
   "metadata": {},
   "outputs": [
    {
     "name": "stdout",
     "output_type": "stream",
     "text": [
      "1\n",
      "1\n",
      "0\n",
      "0\n"
     ]
    }
   ],
   "source": [
    "#10430번 \n",
    "\n",
    "A,B,C = map(int,input().split())\n",
    "print((A+B)%C)\n",
    "print(((A%C) + (B%C))%C)\n",
    "print((A*B)%C)\n",
    "print(((A%C) * (B%C))%C)\n"
   ]
  },
  {
   "cell_type": "code",
   "execution_count": 39,
   "metadata": {},
   "outputs": [
    {
     "name": "stdout",
     "output_type": "stream",
     "text": [
      "2360\n",
      "3776\n",
      "1416\n",
      "181720\n"
     ]
    }
   ],
   "source": [
    "#2588번 \n",
    "\n",
    "num1 = int(input())\n",
    "num2 = input()\n",
    "\n",
    "for i in range(len(num2)):\n",
    "    num2_re = num2[::-1]\n",
    "    print(num1 * int(num2_re[i]))\n",
    "\n",
    "print(num1 * int(num2))"
   ]
  },
  {
   "cell_type": "code",
   "execution_count": null,
   "metadata": {},
   "outputs": [],
   "source": []
  }
 ],
 "metadata": {
  "kernelspec": {
   "display_name": "Python 3.9.7 ('base')",
   "language": "python",
   "name": "python3"
  },
  "language_info": {
   "codemirror_mode": {
    "name": "ipython",
    "version": 3
   },
   "file_extension": ".py",
   "mimetype": "text/x-python",
   "name": "python",
   "nbconvert_exporter": "python",
   "pygments_lexer": "ipython3",
   "version": "3.9.7"
  },
  "orig_nbformat": 4,
  "vscode": {
   "interpreter": {
    "hash": "c725d78b4f5601c8a85ce6b1d2fdb2e37cff07ced64b275a1bb2fdc836d1f30a"
   }
  }
 },
 "nbformat": 4,
 "nbformat_minor": 2
}
