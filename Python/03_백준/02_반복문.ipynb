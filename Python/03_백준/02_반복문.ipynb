{
 "cells": [
  {
   "cell_type": "code",
   "execution_count": null,
   "metadata": {},
   "outputs": [],
   "source": [
    "# 2739번 \n",
    "\n",
    "N = int(input())\n",
    "\n",
    "for i in range(1,10):\n",
    "    gugudan = f'{N} * {i} = {N*i}'\n",
    "    print(gugudan)"
   ]
  },
  {
   "cell_type": "code",
   "execution_count": null,
   "metadata": {},
   "outputs": [],
   "source": [
    "# 10950번 \n",
    "\n",
    "T = int(input())\n",
    "\n",
    "for i in range(T):\n",
    "    A,B = map(int, input().split())\n",
    "    num_sum = A + B\n",
    "    print(num_sum)"
   ]
  },
  {
   "cell_type": "code",
   "execution_count": null,
   "metadata": {},
   "outputs": [],
   "source": [
    "# 8393번 \n",
    "\n",
    "n = int(input())\n",
    "total = 0\n",
    "\n",
    "for k in range(1, n+1):\n",
    "    total += k\n",
    "print(total)"
   ]
  },
  {
   "cell_type": "code",
   "execution_count": null,
   "metadata": {},
   "outputs": [],
   "source": [
    "# 25304번 \n",
    "\n",
    "total = int(input())\n",
    "num = int(input())\n",
    "result = 0\n",
    "\n",
    "for i in range(num):\n",
    "    cost, units = map(int, input().split())\n",
    "    result += cost * units\n",
    "\n",
    "answer = 'Yes' if total == result else 'No'\n",
    "print(answer)"
   ]
  }
 ],
 "metadata": {
  "kernelspec": {
   "display_name": "Python 3.9.7 ('base')",
   "language": "python",
   "name": "python3"
  },
  "language_info": {
   "codemirror_mode": {
    "name": "ipython",
    "version": 3
   },
   "file_extension": ".py",
   "mimetype": "text/x-python",
   "name": "python",
   "nbconvert_exporter": "python",
   "pygments_lexer": "ipython3",
   "version": "3.9.7"
  },
  "orig_nbformat": 4,
  "vscode": {
   "interpreter": {
    "hash": "c725d78b4f5601c8a85ce6b1d2fdb2e37cff07ced64b275a1bb2fdc836d1f30a"
   }
  }
 },
 "nbformat": 4,
 "nbformat_minor": 2
}
