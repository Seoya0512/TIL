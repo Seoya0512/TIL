{
 "cells": [
  {
   "cell_type": "code",
   "execution_count": null,
   "metadata": {},
   "outputs": [],
   "source": [
    "# 2739번 \n",
    "\n",
    "N = int(input())\n",
    "\n",
    "for i in range(1,10):\n",
    "    gugudan = f'{N} * {i} = {N*i}'\n",
    "    print(gugudan)"
   ]
  },
  {
   "cell_type": "code",
   "execution_count": null,
   "metadata": {},
   "outputs": [],
   "source": [
    "# 10950번 \n",
    "\n",
    "T = int(input())\n",
    "\n",
    "for i in range(T):\n",
    "    A,B = map(int, input().split())\n",
    "    num_sum = A + B\n",
    "    print(num_sum)"
   ]
  },
  {
   "cell_type": "code",
   "execution_count": null,
   "metadata": {},
   "outputs": [],
   "source": [
    "# 8393번 \n",
    "\n",
    "n = int(input())\n",
    "total = 0\n",
    "\n",
    "for k in range(1, n+1):\n",
    "    total += k\n",
    "print(total)"
   ]
  },
  {
   "cell_type": "code",
   "execution_count": null,
   "metadata": {},
   "outputs": [],
   "source": [
    "# 25304번 \n",
    "\n",
    "total = int(input())\n",
    "num = int(input())\n",
    "result = 0\n",
    "\n",
    "for i in range(num):\n",
    "    cost, units = map(int, input().split())\n",
    "    result += cost * units\n",
    "\n",
    "answer = 'Yes' if total == result else 'No'\n",
    "print(answer)"
   ]
  },
  {
   "cell_type": "code",
   "execution_count": null,
   "metadata": {},
   "outputs": [],
   "source": [
    "# 11021번 \n",
    "\n",
    "times = int(input())\n",
    "\n",
    "for i in range(times):\n",
    "    A, B = map(int, input().split())\n",
    "    print(f'Case #{i+1}: {A+B}')"
   ]
  },
  {
   "cell_type": "code",
   "execution_count": null,
   "metadata": {},
   "outputs": [],
   "source": [
    "# 11022번 \n",
    "\n",
    "times = int(input())\n",
    "\n",
    "for i in range(times):\n",
    "    A, B = map(int, input().split())\n",
    "    print(f'Case #{i+1}: {A} + {B} = {A+B}')"
   ]
  },
  {
   "cell_type": "code",
   "execution_count": null,
   "metadata": {},
   "outputs": [],
   "source": [
    "# 2438번 \n",
    "\n",
    "times = int(input())\n",
    "\n",
    "for i in range(times):\n",
    "    print(\"*\" * (i+1))"
   ]
  },
  {
   "cell_type": "code",
   "execution_count": null,
   "metadata": {},
   "outputs": [],
   "source": [
    "# 2439번 \n",
    "\n",
    "times = int(input())\n",
    "\n",
    "for i in range(times):\n",
    "    result = \"*\" * (i+1)\n",
    "    print(result.rjust(times))"
   ]
  },
  {
   "cell_type": "code",
   "execution_count": null,
   "metadata": {},
   "outputs": [],
   "source": [
    "# 10871번\n",
    "N,X = map(int, input().split())\n",
    "A = list(map(int, input().split()))\n",
    "\n",
    "for i in range(N):\n",
    "    if A[i] < X:\n",
    "        print(A[i], end=' ')"
   ]
  },
  {
   "cell_type": "code",
   "execution_count": null,
   "metadata": {},
   "outputs": [],
   "source": [
    "# 10952번 \n",
    "\n",
    "while True:  # while에 True를 지정하면 무한 루프\n",
    "    A, B = map(int, input().split())\n",
    "    if A == 0 & B ==0:\n",
    "        break\n",
    "    print(A+B)\n"
   ]
  },
  {
   "cell_type": "code",
   "execution_count": null,
   "metadata": {},
   "outputs": [],
   "source": [
    "#10951번 \n",
    "\n",
    "while True:\n",
    "    try:\n",
    "        A, B = map(int, input().split())\n",
    "        print(A+B)\n",
    "    except:\n",
    "        break\n"
   ]
  },
  {
   "cell_type": "code",
   "execution_count": null,
   "metadata": {},
   "outputs": [],
   "source": [
    "# 1110 번 \n",
    "N = int(input())\n",
    "num = N\n",
    "count = 0\n",
    "\n",
    "while True:\n",
    "    # (10의 자리 + 1의자리)의 합을 구하고, 1의 자리수 추출 \n",
    "    # (ex) 68 = > (6 + 8) = 14의 1의 자리수 = > 4\n",
    "    temp = (num // 10 + num % 10) % 10\n",
    "\n",
    "    # 새로운 숫자 만들기 \n",
    "    num = (num % 10) * 10  + temp\n",
    "    count += 1\n",
    "\n",
    "    # 처음 숫자와 같으면 멈추기 \n",
    "    if num == N :\n",
    "        break\n",
    "\n",
    "print(count)"
   ]
  }
 ],
 "metadata": {
  "kernelspec": {
   "display_name": "Python 3.9.7 ('base')",
   "language": "python",
   "name": "python3"
  },
  "language_info": {
   "codemirror_mode": {
    "name": "ipython",
    "version": 3
   },
   "file_extension": ".py",
   "mimetype": "text/x-python",
   "name": "python",
   "nbconvert_exporter": "python",
   "pygments_lexer": "ipython3",
   "version": "3.9.7"
  },
  "orig_nbformat": 4,
  "vscode": {
   "interpreter": {
    "hash": "c725d78b4f5601c8a85ce6b1d2fdb2e37cff07ced64b275a1bb2fdc836d1f30a"
   }
  }
 },
 "nbformat": 4,
 "nbformat_minor": 2
}
