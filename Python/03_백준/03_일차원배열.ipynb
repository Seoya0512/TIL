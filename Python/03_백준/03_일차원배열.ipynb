{
 "cells": [
  {
   "cell_type": "code",
   "execution_count": 3,
   "metadata": {},
   "outputs": [
    {
     "name": "stdout",
     "output_type": "stream",
     "text": [
      "7 35\n"
     ]
    }
   ],
   "source": [
    "# 10818번 \n",
    "\n",
    "N = int(input())\n",
    "array = list(map(int,input().split()))\n",
    "\n",
    "print(min(array),max(array))"
   ]
  },
  {
   "cell_type": "code",
   "execution_count": 10,
   "metadata": {},
   "outputs": [
    {
     "name": "stdout",
     "output_type": "stream",
     "text": [
      "[3, 29, 38, 12, 57, 74, 40, 85, 61]\n",
      "85\n",
      "8\n"
     ]
    }
   ],
   "source": [
    "# 2562번 \n",
    "\n",
    "num_list = []\n",
    "\n",
    "for i in range(9):\n",
    "    num = int(input())\n",
    "    num_list.append(num)\n",
    "\n",
    "print(max(num_list))\n",
    "print(num_list.index(max(num_list))+1)"
   ]
  },
  {
   "cell_type": "code",
   "execution_count": 17,
   "metadata": {},
   "outputs": [
    {
     "name": "stdout",
     "output_type": "stream",
     "text": [
      "1\n"
     ]
    }
   ],
   "source": [
    "# 3052번 \n",
    "\n",
    "num_list = []\n",
    "\n",
    "for i in range(10):\n",
    "    num = int(input())\n",
    "    num_list.append(num % 42)\n",
    "\n",
    "    # 리스트에서 중복되는 값 제거 (set) ->> 리스트 변환 \n",
    "    num_list = set(num_list)\n",
    "    num_list = list(num_list)\n",
    "\n",
    "print(len(num_list))"
   ]
  },
  {
   "cell_type": "code",
   "execution_count": 22,
   "metadata": {},
   "outputs": [
    {
     "name": "stdout",
     "output_type": "stream",
     "text": [
      "65.0\n"
     ]
    }
   ],
   "source": [
    "# 1546번 \n",
    "\n",
    "N = int(input())\n",
    "scores = list(map(int, input().split()))\n",
    "new_scores = []\n",
    "\n",
    "for i in range(len(scores)):\n",
    "    new_score = scores[i] /max(scores) * 100\n",
    "    new_scores.append(new_score)\n",
    "\n",
    "print(sum(new_scores)/ len(new_scores))"
   ]
  },
  {
   "cell_type": "code",
   "execution_count": null,
   "metadata": {},
   "outputs": [],
   "source": []
  }
 ],
 "metadata": {
  "kernelspec": {
   "display_name": "Python 3.9.7 ('base')",
   "language": "python",
   "name": "python3"
  },
  "language_info": {
   "codemirror_mode": {
    "name": "ipython",
    "version": 3
   },
   "file_extension": ".py",
   "mimetype": "text/x-python",
   "name": "python",
   "nbconvert_exporter": "python",
   "pygments_lexer": "ipython3",
   "version": "3.9.7"
  },
  "orig_nbformat": 4,
  "vscode": {
   "interpreter": {
    "hash": "c725d78b4f5601c8a85ce6b1d2fdb2e37cff07ced64b275a1bb2fdc836d1f30a"
   }
  }
 },
 "nbformat": 4,
 "nbformat_minor": 2
}
