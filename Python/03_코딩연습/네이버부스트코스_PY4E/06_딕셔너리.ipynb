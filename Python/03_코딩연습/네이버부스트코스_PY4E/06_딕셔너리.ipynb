{
 "cells": [
  {
   "cell_type": "markdown",
   "source": [
    "📌Q1. 역사 문제를 하나 내보겠습니다. 고려시대와 조선시대 왕 이름 중에서 고려에도 있고 조선에도 있는 이름은 몇개 일까요? 한 번에 딱 안 떠오른다면 왕 이름을 드릴테니 파이썬 함수로 만들어서 출력 해봅시다.\n",
    "\n",
    "😲조건1 - 중복되는 왕 이름 출력\n",
    "😲조건2 - 중복되는 왕 이름의 수 출력"
   ],
   "metadata": {}
  },
  {
   "cell_type": "code",
   "execution_count": 1,
   "source": [
    "# 왕이름\n",
    "korea_king = \"태조,혜종,정종,광종,경종,성종,목종,현종,덕종,정종,문종,순종,선종,헌종,숙종,예종,인종,의종,명종,신종,희종,강종,고종,원조,충렬왕,충선왕,충숙왕,충혜왕,충목왕,충정왕,공민왕,우왕,창왕,공양왕\"\n",
    "chosun_king = \"태조,정종,태종,세종,문종,단종,세조,예종,성종,연산군,중종,인종,명종,선조,광해군,인조,효종,현종,숙종,경종,영조,정조,순조,헌종,철종,고종,순종\""
   ],
   "outputs": [],
   "metadata": {}
  },
  {
   "cell_type": "code",
   "execution_count": 2,
   "source": [
    "def king(korea_king,chosun_king):\n",
    "    name_list= []\n",
    "    korea = korea_king.split(',')           # 고려왕 리스트 만들기\n",
    "    chosun = chosun_king.split(',')         # 조선시대 왕 리스트 만들기\n",
    "    \n",
    "    # 중복이 되지 않는 왕 리스트 만들기 \n",
    "    for kor in korea:\n",
    "        for cho in chosun:\n",
    "            if kor == cho :\n",
    "                name = kor\n",
    "                name_list.append(name)\n",
    "\n",
    "    # 리스트에서 중복을 제거하는 dict.fromkeys 사용해서 한번 더 정리          \n",
    "    kings= dict.fromkeys(name_list)\n",
    "    king_list= list(kings)\n",
    "    king_list\n",
    "\n",
    "    count = 0\n",
    "    for king in king_list:\n",
    "        print(f'조선과 고려에 모두 있는 왕 이름: {king}')\n",
    "        count += 1\n",
    "    print(f'조선과 고려에 모두 있는 왕 이름은 총 {count}개 입니다')"
   ],
   "outputs": [],
   "metadata": {}
  },
  {
   "cell_type": "code",
   "execution_count": 3,
   "source": [
    "king(korea_king,chosun_king)"
   ],
   "outputs": [
    {
     "output_type": "stream",
     "name": "stdout",
     "text": [
      "조선과 고려에 모두 있는 왕 이름: 태조\n",
      "조선과 고려에 모두 있는 왕 이름: 정종\n",
      "조선과 고려에 모두 있는 왕 이름: 경종\n",
      "조선과 고려에 모두 있는 왕 이름: 성종\n",
      "조선과 고려에 모두 있는 왕 이름: 현종\n",
      "조선과 고려에 모두 있는 왕 이름: 문종\n",
      "조선과 고려에 모두 있는 왕 이름: 순종\n",
      "조선과 고려에 모두 있는 왕 이름: 헌종\n",
      "조선과 고려에 모두 있는 왕 이름: 숙종\n",
      "조선과 고려에 모두 있는 왕 이름: 예종\n",
      "조선과 고려에 모두 있는 왕 이름: 인종\n",
      "조선과 고려에 모두 있는 왕 이름: 명종\n",
      "조선과 고려에 모두 있는 왕 이름: 고종\n",
      "조선과 고려에 모두 있는 왕 이름은 총 13개 입니다\n"
     ]
    }
   ],
   "metadata": {}
  },
  {
   "cell_type": "markdown",
   "source": [
    "📌Q2.  여러분은 6명의 멤버를 거느리는 영업팀의 영업관리자 입니다. 각 멤버별로 올해 실적을 보고 잘한 멤버는 보너스를 주고 못한 멤버는 면담을 하려고 합니다. 파이썬을 이용하여 함수를 만들어 보너스 대상자와 면담 대상자를 골라주세요.\n",
    "\n",
    "😲조건 1 - 예비 보너스 대상자는 평균 실적 1등 2등 입니다.\n",
    "😲조건 2 - 예비 면담 대상자는 평균 실적 5등 6등 입니다.\n",
    "😲조건 3 - 보너스 대상자의 평균 실적이 5보다 크지 않으면 보너스 대상자에서 제외 됩니다.\n",
    "😲조건 4 - 면담 대상자의 평균 실적이 3보다 크면 면담 대상자에서 제외 됩니다.\n"
   ],
   "metadata": {}
  },
  {
   "cell_type": "markdown",
   "source": [
    "sales_management(member_names, member_records)\n",
    "보너스 대상자 병돌이\n",
    "보너스 대상자 을순이\n",
    "\n",
    "면담 대상자 갑순이"
   ],
   "metadata": {}
  },
  {
   "cell_type": "code",
   "execution_count": 4,
   "source": [
    "# 이름, 실적\n",
    "member_names = [\"갑돌이\", \"갑순이\", \"을돌이\", \"을순이\", \"병돌이\", \"병순이\"]\n",
    "member_records = [[4,5,3,5,6,5,3,4,1,3,4,5],[2,3,4,3,1,2,0,3,2,5,7,2], \n",
    "           [1,3,0,3,3,4,5,6,7,2,2,1],[3,2,9,2,3,5,6,6,4,6,9,9],\n",
    "           [8,7,7,5,6,7,5,8,8,6,10,9],[7,8,4,9,5,10,3,3,2,2,1,3]]"
   ],
   "outputs": [],
   "metadata": {}
  },
  {
   "cell_type": "code",
   "execution_count": 5,
   "source": [
    "# 직원별 평균 실적 구하기 \n",
    "mean_list= []\n",
    "\n",
    "def sales_management(member_names, member_records):\n",
    "    for i in range(len(member_records)):                                # 행을 불러오기 \n",
    "        mean= sum(member_records[i])/len(member_records[i])\n",
    "        mean_list.append(mean)                                          # 평균 리스트 구하기 \n",
    "     \n",
    "     # recrd_dict() 만들어 정리 {name: mean}\n",
    "    record_dict= dict(zip(member_names, mean_list))\n",
    "     # value 기준으로 ranking 정리             \n",
    "    ranking = [ (v,k) for k,v in record_dict.items() ]           \n",
    "    ranking = sorted(ranking, reverse=True)\n",
    "\n",
    "    # 보너스 대상자 구하기 \n",
    "    bonus_names = (ranking[0][1], ranking[1][1])\n",
    "    for i in bonus_names:\n",
    "        if record_dict[i] < 5:\n",
    "            continue\n",
    "        print(f\"보너스 대상자 {i}\")\n",
    "    print()\n",
    "\n",
    "    # 면담 대상자 구하기\n",
    "    counsel_name = (ranking[4][1], ranking[5][1])\n",
    "    for k in counsel_name:\n",
    "        if record_dict[k] > 3:\n",
    "            continue\n",
    "        print(f'면담 대상자 {k}')\n",
    "    print()"
   ],
   "outputs": [],
   "metadata": {}
  },
  {
   "cell_type": "markdown",
   "source": [
    "📌Q4. 여러분은 어떤 상품을 판매하고 있습니다. 매월 상품을 많이 구매해준 VIP회원에게 할인 쿠폰을 제공해주려고 합니다. 아래와 같은 회원 정보가 있을 때 회원 정보를 출력하고 할인 쿠폰을 받을 회원이 누구인지 출력하는 함수를 만들어 주세요.\n",
    "\n",
    "😲조건1 - 8회 이상 구매한 회원이 VIP대상\n",
    "😲조건2 - 전화번호가 없으면 쿠폰을 받을 수 없음\n",
    "😲조건3 - 전화번호가 없으면 000-0000-0000으로 출력할 것"
   ],
   "metadata": {}
  },
  {
   "cell_type": "code",
   "execution_count": 6,
   "source": [
    "# 6명의 회원이고 \"아이디,나이,전화번호,성별,지역,구매횟수\" 순서로 입력되어 있음\n",
    "info = \"abc,21세,010-1234-5678,남자,서울,5,cdb,25세,x,남자,서울,4,bbc,30세,010-2222-3333,여자,서울,3,ccb,29세,x,여자,경기,9,dab,26세,x,남자,인천,8,aab,23세,010-3333-1111,여자,경기,10\"\n"
   ],
   "outputs": [],
   "metadata": {}
  },
  {
   "cell_type": "code",
   "execution_count": 7,
   "source": [
    "def good_customer(info):\n",
    "    # ,를 기준으로 분리\n",
    "    info = info.split(\",\")\n",
    "    # 정보를 담을 dict 생성\n",
    "    info_dict = dict()\n",
    "    # 정보 6개가 반복되므로 6으로 나눈 나머지를 이용하여 항목 구분하여 저장\n",
    "    for i in range(len(info)):\n",
    "        if i % 6 == 0:\n",
    "            if info_dict.get(\"아이디\", \"\") == \"\":\n",
    "                info_dict[\"아이디\"] = [info[i]]\n",
    "            else:\n",
    "                info_dict[\"아이디\"].append(info[i])\n",
    "\n",
    "        elif i % 6 == 1:\n",
    "            if info_dict.get(\"나이\", \"\") == \"\":\n",
    "                info_dict[\"나이\"] = [info[i]]\n",
    "            else:\n",
    "                info_dict[\"나이\"].append(info[i])\n",
    "\n",
    "        elif i % 6 == 2:\n",
    "            if info_dict.get(\"전화번호\", \"\") == \"\":\n",
    "                info_dict[\"전화번호\"] = [info[i]]\n",
    "            else:\n",
    "                info_dict[\"전화번호\"].append(info[i])\n",
    "\n",
    "        elif i % 6 == 3:\n",
    "            if info_dict.get(\"성별\", \"\") == \"\":\n",
    "                info_dict[\"성별\"] = [info[i]]\n",
    "            else:\n",
    "                info_dict[\"성별\"].append(info[i])\n",
    "        elif i % 6 == 4:\n",
    "            if info_dict.get(\"지역\", \"\") == \"\":\n",
    "                info_dict[\"지역\"] = [info[i]]\n",
    "            else:\n",
    "                info_dict[\"지역\"].append(info[i])\n",
    "        elif i % 6 == 5:\n",
    "            if info_dict.get(\"구매횟수\" , \"\") == \"\":\n",
    "                info_dict[\"구매횟수\"] = [int(info[i])]\n",
    "            else:\n",
    "                info_dict[\"구매횟수\"].append(int(info[i]))\n",
    "\n",
    "    index = [] # 전화번호가 없는 회원의 인덱스 저장\n",
    "    buy = [] # 구매횟수가 8회 이상인 회원 인덱스 저장\n",
    "    for i in range(len(info_dict[\"전화번호\"])):\n",
    "        if info_dict[\"전화번호\"][i] == \"x\":\n",
    "            index.append(i)\n",
    "            info_dict[\"전화번호\"][i] = \"000-0000-0000\"\n",
    "        if info_dict[\"구매횟수\"][i] >= 8:\n",
    "            buy.append(i)\n",
    "    # 구매횟수가 8회 넘는 회원 중에 전화번호가 있는 회원 인덱스 저장 \n",
    "    true_index = []\n",
    "    for i in buy:\n",
    "        if i not in index:\n",
    "            true_index.append(i)\n",
    "    info_list = list(info_dict.items())\n",
    "    \n",
    "    # 정보 출력\n",
    "    print(info_dict)\n",
    "    for i in true_index:\n",
    "        print(f\"할인 쿠폰을 받을 회원정보 아이디:{info_list[0][1][i]}, 나이:{info_list[1][1][i]}, 전화번호:{info_list[2][1][i]}, 성별:{info_list[3][1][i]}, 지역:{info_list[4][1][i]}, 구매횟수: {info_list[5][1][i]}\")"
   ],
   "outputs": [],
   "metadata": {}
  },
  {
   "cell_type": "code",
   "execution_count": 8,
   "source": [
    "good_customer(info)"
   ],
   "outputs": [
    {
     "output_type": "stream",
     "name": "stdout",
     "text": [
      "{'아이디': ['abc', 'cdb', 'bbc', 'ccb', 'dab', 'aab'], '나이': ['21세', '25세', '30세', '29세', '26세', '23세'], '전화번호': ['010-1234-5678', '000-0000-0000', '010-2222-3333', '000-0000-0000', '000-0000-0000', '010-3333-1111'], '성별': ['남자', '남자', '여자', '여자', '남자', '여자'], '지역': ['서울', '서울', '서울', '경기', '인천', '경기'], '구매횟수': [5, 4, 3, 9, 8, 10]}\n",
      "할인 쿠폰을 받을 회원정보 아이디:aab, 나이:23세, 전화번호:010-3333-1111, 성별:여자, 지역:경기, 구매횟수: 10\n"
     ]
    }
   ],
   "metadata": {}
  },
  {
   "cell_type": "code",
   "execution_count": null,
   "source": [],
   "outputs": [],
   "metadata": {}
  }
 ],
 "metadata": {
  "orig_nbformat": 4,
  "language_info": {
   "name": "python",
   "version": "3.8.11",
   "mimetype": "text/x-python",
   "codemirror_mode": {
    "name": "ipython",
    "version": 3
   },
   "pygments_lexer": "ipython3",
   "nbconvert_exporter": "python",
   "file_extension": ".py"
  },
  "kernelspec": {
   "name": "python3",
   "display_name": "Python 3.8.11 64-bit ('base': conda)"
  },
  "interpreter": {
   "hash": "59aa76eec713a2e656bb9d4ddb5f36b21f3d4006b36f877fc5669415524b1415"
  }
 },
 "nbformat": 4,
 "nbformat_minor": 2
}