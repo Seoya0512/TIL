{
 "cells": [
  {
   "cell_type": "markdown",
   "source": [
    "## 문제 출처 ✅\n",
    "- 파이썬(PY4E)코칭스터디 미션 4주차 문제 "
   ],
   "metadata": {}
  },
  {
   "cell_type": "markdown",
   "source": [
    "📌Q1. 우리는 큰 수를 나타낼 때 3자리마다 , 를 찍어서 구분해 줍니다. 파이썬에서는 아래와 같이 쉽게 나타낼 수 있습니다."
   ],
   "metadata": {}
  },
  {
   "cell_type": "markdown",
   "source": [
    "- 100 = 점 없음 = > 숫자 3개 : 점 0개 \n",
    "- 1000 = 1,000 1개 => 숫자 4개 : 점 1개 (4/3 = 1.xxx)\n",
    "- 100000 = 100,000 = > 숫자 6개 : 점 1개 (6/3 = 2.xxx -1)\n",
    "- 10000000 = 1,000,000 = > 숫자 7개 : 점 2개 (7/3 = 2.xxx)"
   ],
   "metadata": {}
  },
  {
   "cell_type": "code",
   "execution_count": 147,
   "source": [
    "def make_comma(number):\n",
    "    number = str(number)\n",
    "    num_comma = len(number)//3\n",
    "    if num_comma % 3 == 0:\n",
    "        num_comma = num_comma -1 \n",
    "    \n",
    "    new_number =''\n",
    "    n = -1      # index 맨 끝 부터시작. 뒤에서 부터 숫자를 count 해서 ',' 넣어야함 \n",
    "    while num_comma != 0:\n",
    "        new_number = number[n] + new_number\n",
    "        if n % 3 == 0:\n",
    "            new_number = ',' + new_number\n",
    "            num_comma = num_comma - 1\n",
    "        n = n-1     # 뒤에서 차곡 차곡 쌓아가야함 \n",
    "\n",
    "    # comma 찍은 부분까지가 new_number이기 때문에, 그 앞에 부분은 합쳐줘야함 \n",
    "    print(number[:n+1] + new_number)"
   ],
   "outputs": [],
   "metadata": {}
  },
  {
   "cell_type": "code",
   "execution_count": 151,
   "source": [
    "make_comma(1000000)"
   ],
   "outputs": [
    {
     "output_type": "stream",
     "name": "stdout",
     "text": [
      "1,000,000\n"
     ]
    }
   ],
   "metadata": {}
  },
  {
   "cell_type": "markdown",
   "source": [
    "📌Q2. 어느날 여러분이 어떤 글을 읽고 있는데, 갑자기 특정 글자가 전체 글에서 몇개 들어있는지 궁금해졌습니다. 그럼 한 번 파이썬 함수로 만들어 봅시다.\n",
    "\n",
    "\n",
    "- 글은 어떤 글이 좋습니다. 인터넷에서 검색해서 복사 붙여넣기로 변수에 넣어 줍니다.\n",
    "\n",
    "- 변수에 담긴 글을 함수에 넣어주면 txt 파일로 저장도 함께 되도록 해줍니다."
   ],
   "metadata": {}
  },
  {
   "cell_type": "code",
   "execution_count": 14,
   "source": [
    "text = \"\"\"\n",
    "여호와는 나의 목자시니 내게 부족함이 없으리로다\n",
    "그가 나를 푸른 풀밭에 누이시며 쉴 만한 물 가로 인도하시는도다\n",
    "내 영혼을 소생시키시고 자기 이름을 위하여 의의 길로 인도하시는도다\n",
    "내가 사망의 음침한 골짜기로 다닐지라도 해를 두려워하지 않을 것은 주께서 나와 함께 하심이라 주의 지팡이와 막대기가 나를 안위하시나이다\n",
    "주께서 내 원수의 목전에서 내게 상을 차려 주시고 기름을 내 머리에 부으셨으니 내 잔이 넘치나이다\n",
    "내 평생에 선하심과 인자하심이 반드시 나를 따르리니 내가 여호와의 집에 영원히 살리로다\n",
    "\"\"\""
   ],
   "outputs": [],
   "metadata": {}
  },
  {
   "cell_type": "code",
   "execution_count": 64,
   "source": [
    "def count_word(text, word):\n",
    "    text_save = open('text.txt', 'w', encoding='UTF8')\n",
    "    text_save.write(text)\n",
    "    text_save.close()\n",
    "\n",
    "    count = 0\n",
    "    word_save = ''  # 문자의 길이만큼 저장 \n",
    "    psalm= open('text.txt')\n",
    "\n",
    "    for line in psalm: # 한 줄씩 불러오기\n",
    "        if word in line:    # 특정문자가 현재 문장에 있다면 \n",
    "            for s in line:  # line 을 한 글자씩 추출해서 \n",
    "                word_save = word_save + s     # 글자를 이어 붙이고 (word_save에 저장)\n",
    "                if word_save == word:         # 그 단어가 특정문자와 일치하면 \n",
    "                    count += 1 \n",
    "                    # 다음 문자 저장을 위해 1칸씩 앞으로 이동 \n",
    "                    # 이는 문장 내에 또 다른 특정 문자가 있는지 여부를 확인하기 위함임 \n",
    "                if len(word_save) == len(word):\n",
    "                    word_save = word_save[1:]        \n",
    "    print(count)"
   ],
   "outputs": [],
   "metadata": {}
  },
  {
   "cell_type": "code",
   "execution_count": 66,
   "source": [
    "count_word(text, '내')"
   ],
   "outputs": [
    {
     "output_type": "stream",
     "name": "stdout",
     "text": [
      "9\n"
     ]
    }
   ],
   "metadata": {}
  },
  {
   "cell_type": "markdown",
   "source": [
    "* 문자 개수 세기(count)함수 \n"
   ],
   "metadata": {}
  },
  {
   "cell_type": "code",
   "execution_count": 67,
   "source": [
    "text.count('내')"
   ],
   "outputs": [
    {
     "output_type": "execute_result",
     "data": {
      "text/plain": [
       "9"
      ]
     },
     "metadata": {},
     "execution_count": 67
    }
   ],
   "metadata": {}
  },
  {
   "cell_type": "markdown",
   "source": [
    "📌Q3. 요즘 식당에 들어가면 방명록을 적게 되어있습니다.\n",
    "\n",
    "어느 식당의 사장님이 여러분에게 방명록을 주면서 전화번호를 제대로 적었는지 검사해달라는 부탁을 했습니다.\n",
    "\n",
    "아래와 같은 방명록이 있을 때 방명록을 잘 못쓴 사람의 이름과 잘 못된 번호를 출력하는 함수를 만들어 봅시다."
   ],
   "metadata": {}
  },
  {
   "cell_type": "code",
   "execution_count": 28,
   "source": [
    "guest_book = \"\"\"김갑,123456789\n",
    "이을,010-1234-5678\n",
    "박병,010-5678-111\n",
    "최정,111-1111-1111\n",
    "정무,010-3333-3333\"\"\""
   ],
   "outputs": [],
   "metadata": {}
  },
  {
   "cell_type": "markdown",
   "source": [
    "- 함수에 방명록을 넣으면 txt 파일로 저장되게 해줍니다.\n",
    "- 제대로 적은 방명록의 조건은 다음과 같습니다\n",
    "    - 010 으로 시작함\n",
    "    - 번호가 - 로 구분이 되어 있음\n",
    "    - -를 포함하여 길이가 13임"
   ],
   "metadata": {}
  },
  {
   "cell_type": "code",
   "execution_count": 29,
   "source": [
    "def wrong_guest_book(guest_book):\n",
    "    # text 파일 저장\n",
    "    text_save = open('guest_book.txt', 'w', encoding='UTF8')\n",
    "    text_save.write(guest_book)\n",
    "    text_save.close()\n",
    "\n",
    "    file= open('guest_book.txt')\n",
    "    for line in file:\n",
    "        name = line[:2]\n",
    "        phone_number = line[3:].strip()\n",
    "\n",
    "        if len(phone_number) == 13 and phone_number.find('-')!= -1 and phone_number.startswith('010'):\n",
    "            continue\n",
    "        else:\n",
    "            print(f'잘못 쓴 사람: {name}')\n",
    "            print(f'잘못 쓴 번호:{phone_number}')\n"
   ],
   "outputs": [],
   "metadata": {}
  },
  {
   "cell_type": "code",
   "execution_count": 30,
   "source": [
    "wrong_guest_book(guest_book)"
   ],
   "outputs": [
    {
     "output_type": "stream",
     "name": "stdout",
     "text": [
      "잘못 쓴 사람: 김갑\n",
      "잘못 쓴 번호:123456789\n",
      "잘못 쓴 사람: 박병\n",
      "잘못 쓴 번호:010-5678-111\n",
      "잘못 쓴 사람: 최정\n",
      "잘못 쓴 번호:111-1111-1111\n"
     ]
    }
   ],
   "metadata": {}
  },
  {
   "cell_type": "markdown",
   "source": [
    "📌Q4.  주민등록번호의 앞 6자리는 생년월일이고 뒷자리의 시작번호는 성별을 나타냅니다. 주민등록번호를 입력하면 몇년 몇월 생인지 그리고 남자인지 여자인지 출력하는 함수를 만들어 봅시다.\n",
    "\n",
    "- 주민등록번호는 6자리 이후에 -로 구분되어야 하고 길이는 -포함 14임\n",
    "- 뒷자리는 1,3 은 남자 2,4는 여자\n",
    "- 00 ~ 21로 시작할 경우 2000년 이후 출생자인지 물어 볼 것 (맞으면 o 틀리면 x)\n",
    "- 뒷자리 3, 4를 가질 수 있는 사람은 00년생 이후 출생자 밖에 없음\n",
    "\n",
    "주민등록번호 조건을 만족하지 않는 수가 입력되면 \"잘 못된 번호입니다\"를 출력해주세요."
   ],
   "metadata": {}
  },
  {
   "cell_type": "code",
   "execution_count": 77,
   "source": [
    "a = \"500629-2222222\"\n",
    "b = \"000629-2222222\""
   ],
   "outputs": [],
   "metadata": {}
  },
  {
   "cell_type": "markdown",
   "source": [
    "* 경우의 수를 따져야함..!!! \n",
    "    - 예) 1900년 생의 경우에도 앞자리는 00\n",
    "    - 예) 1921년 생의 경우데오 앞자리는 21 "
   ],
   "metadata": {}
  },
  {
   "cell_type": "code",
   "execution_count": 110,
   "source": [
    "def check_id(id_number):\n",
    "    while True:\n",
    "        if len(id_number) != 14 and a.find('-')==-1:\n",
    "            print('잘못된 번호입니다.')\n",
    "            break\n",
    "        \n",
    "        # 2000년대생 이후 출생일 때 \n",
    "        if int(id_number[:2]) <= 21:\n",
    "            q = input('2000년 이후 출생자 입니까? 맞으면 o 아니면 x: ')\n",
    "            if q == 'o':\n",
    "                if id_number[7] not in ['3', '4']:\n",
    "                    print('잘못된 번호입니다.')\n",
    "                else:\n",
    "                    if id_number[7] =='3':\n",
    "                        gender ='남자'\n",
    "                    else:\n",
    "                        gender ='여자'\n",
    "\n",
    "            # 1900년 ~ 1921년 사이 출생 \n",
    "            elif q =='x':\n",
    "                if id_number[7] in ['1', '2']:\n",
    "                    if id_number[7] =='1':\n",
    "                        gender ='남자'\n",
    "                    else:\n",
    "                        gender ='여자'\n",
    "\n",
    "            # 1992년 ~ 1999년 사이 출생       \n",
    "        else:\n",
    "            if id_number[7] =='1':\n",
    "                gender ='남자'\n",
    "            else:\n",
    "                gender ='여자'\n",
    "           \n",
    "                \n",
    "        year = id_number[:2]\n",
    "        month = id_number[2:4]\n",
    "        day = id_number[4:6]\n",
    "        try:\n",
    "            print(f'{year}년 {month}월 {day}일 {gender}')\n",
    "        except:\n",
    "            print('올바른 번호를 넣어주세요.')\n",
    "        break"
   ],
   "outputs": [],
   "metadata": {}
  },
  {
   "cell_type": "code",
   "execution_count": 111,
   "source": [
    "check_id(b)"
   ],
   "outputs": [
    {
     "output_type": "stream",
     "name": "stdout",
     "text": [
      "잘못된 번호입니다.\n",
      "올바른 번호를 넣어주세요.\n"
     ]
    }
   ],
   "metadata": {}
  },
  {
   "cell_type": "code",
   "execution_count": null,
   "source": [],
   "outputs": [],
   "metadata": {}
  }
 ],
 "metadata": {
  "orig_nbformat": 4,
  "language_info": {
   "name": "python",
   "version": "3.8.11",
   "mimetype": "text/x-python",
   "codemirror_mode": {
    "name": "ipython",
    "version": 3
   },
   "pygments_lexer": "ipython3",
   "nbconvert_exporter": "python",
   "file_extension": ".py"
  },
  "kernelspec": {
   "name": "python3",
   "display_name": "Python 3.8.11 64-bit ('base': conda)"
  },
  "interpreter": {
   "hash": "59aa76eec713a2e656bb9d4ddb5f36b21f3d4006b36f877fc5669415524b1415"
  }
 },
 "nbformat": 4,
 "nbformat_minor": 2
}