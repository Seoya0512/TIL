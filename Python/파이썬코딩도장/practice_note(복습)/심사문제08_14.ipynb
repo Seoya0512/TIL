{
  "nbformat": 4,
  "nbformat_minor": 0,
  "metadata": {
    "colab": {
      "name": "6회차_이영서.ipynb",
      "provenance": [],
      "collapsed_sections": []
    },
    "kernelspec": {
      "name": "python3",
      "display_name": "Python 3"
    },
    "language_info": {
      "name": "python"
    }
  },
  "cells": [
    {
      "cell_type": "markdown",
      "metadata": {
        "id": "VdL88DaKyz6X"
      },
      "source": [
        "# Unit 8. 불(Bool)과 비교, 논리 연산자"
      ]
    },
    {
      "cell_type": "markdown",
      "metadata": {
        "id": "tiVtiDyx2WFq"
      },
      "source": [
        "### 문제 :표준 입력으로 국어, 영어, 수학, 과학 점수가 입력됩니다. 국어는 90점 이상, 영어는 80점 초과, 수학은 85점 초과, 과학은 80점 이상일 때 합격이라고 정했습니다(한 과목이라도 조건에 만족하지 않으면 불합격). 다음 소스 코드를 완성하여 합격이면 True, 불합격이면 False가 출력되게 만드세요."
      ]
    },
    {
      "cell_type": "code",
      "metadata": {
        "colab": {
          "base_uri": "https://localhost:8080/"
        },
        "id": "CcCsUZESyuwi",
        "outputId": "63613336-3eb7-4671-ab87-1d3171c54032"
      },
      "source": [
        "kor, eng, math, sci=map(int, input('국어, 영어, 수학, 과학 점수> ').split())\n",
        "\n",
        "print(kor>= 90 and eng > 80 and math >85 and sci >= 80)"
      ],
      "execution_count": 7,
      "outputs": [
        {
          "output_type": "stream",
          "text": [
            "100 90 90 80\n",
            "True\n"
          ],
          "name": "stdout"
        }
      ]
    },
    {
      "cell_type": "markdown",
      "metadata": {
        "id": "92bg0CfQ2FNu"
      },
      "source": [
        "# Unit 9. 문자열 "
      ]
    },
    {
      "cell_type": "markdown",
      "metadata": {
        "id": "0aVC4fFM2YmM"
      },
      "source": [
        "### 문제 : 다음 소스 코드를 완성하여 실행 결과대로 문자열이 출력되게 만드세요."
      ]
    },
    {
      "cell_type": "code",
      "metadata": {
        "colab": {
          "base_uri": "https://localhost:8080/"
        },
        "id": "qDjRr_VazTwm",
        "outputId": "84cefaee-711e-4b91-9213-c02b8f27a12f"
      },
      "source": [
        "s=''''Python' is a \"programming language\"\n",
        "that lets you work quickly\n",
        "and\n",
        "integrate systems more effectively.'''\n",
        "\n",
        "print(s)"
      ],
      "execution_count": 13,
      "outputs": [
        {
          "output_type": "stream",
          "text": [
            "'Python' is a \"programming language\"\n",
            "that lets you work quickly\n",
            "and\n",
            "integrate systems more effectively.\n"
          ],
          "name": "stdout"
        }
      ]
    },
    {
      "cell_type": "markdown",
      "metadata": {
        "id": "uc3htcOm8V4i"
      },
      "source": [
        "# Unit 10. 리스트 와 튜플"
      ]
    },
    {
      "cell_type": "markdown",
      "metadata": {
        "id": "1U6Cb_Sq8gys"
      },
      "source": [
        "### 문제 : 표준 입력으로 정수가 입력됩니다. range의 시작하는 숫자는 -10, 끝나는 숫자는 10이며 입력된 정수만큼 증가하는 숫자가 들어가도록 튜플을 만들고, 해당 튜플을 출력하는 프로그램을 만드세요."
      ]
    },
    {
      "cell_type": "code",
      "metadata": {
        "colab": {
          "base_uri": "https://localhost:8080/"
        },
        "id": "Y1775kbi04XS",
        "outputId": "0b3c5a14-dce9-4ce7-d02b-ecd9e311805f"
      },
      "source": [
        "step = int(input('증가폭> '))\n",
        "\n",
        "tuple(range(-10,10, step ))"
      ],
      "execution_count": 17,
      "outputs": [
        {
          "output_type": "stream",
          "text": [
            "증가폭> 3\n"
          ],
          "name": "stdout"
        },
        {
          "output_type": "execute_result",
          "data": {
            "text/plain": [
              "(-10, -7, -4, -1, 2, 5, 8)"
            ]
          },
          "metadata": {
            "tags": []
          },
          "execution_count": 17
        }
      ]
    },
    {
      "cell_type": "markdown",
      "metadata": {
        "id": "ik5djO9p-MU4"
      },
      "source": [
        "# Unit 11. 시퀀스 자료형"
      ]
    },
    {
      "cell_type": "markdown",
      "metadata": {
        "id": "w8DrJIdy_xAA"
      },
      "source": [
        "### 문제 : 표준 입력으로 숫자 또는 문자열 여러 개가 입력되어 리스트 x에 저장됩니다(입력되는 숫자 또는 문자열의 개수는 정해져 있지 않음). 다음 소스 코드를 완성하여 리스트 x의 마지막 요소 5개를 삭제한 뒤 튜플로 출력되게 만드세요."
      ]
    },
    {
      "cell_type": "code",
      "metadata": {
        "colab": {
          "base_uri": "https://localhost:8080/"
        },
        "id": "wAEeOKZm9Dww",
        "outputId": "6518dc87-69fe-483c-ad06-88a11652a3a5"
      },
      "source": [
        "x = input().split()\n",
        "del x[-5:]\n",
        "print(tuple(x))"
      ],
      "execution_count": 45,
      "outputs": [
        {
          "output_type": "stream",
          "text": [
            "oven bat pony total leak wreck curl crop space navy loss knee\n",
            "('oven', 'bat', 'pony', 'total', 'leak', 'wreck', 'curl')\n"
          ],
          "name": "stdout"
        }
      ]
    },
    {
      "cell_type": "markdown",
      "metadata": {
        "id": "Y69riYAcDvfv"
      },
      "source": [
        "# Unit 12. 딕셔너리"
      ]
    },
    {
      "cell_type": "markdown",
      "metadata": {
        "id": "dKBzfWx0Dx-t"
      },
      "source": [
        "### 문제 :표준 입력으로 문자열 여러 개와 숫자(실수) 여러 개가 두 줄로 입력됩니다. 입력된 첫 번째 줄은 키, 두 번째 줄은 값으로 하여 딕셔너리를 생성한 뒤 딕셔너리를 출력하는 프로그램을 만드세요. input().split()의 결과를 변수 한 개에 저장하면 리스트로 저장됩니다."
      ]
    },
    {
      "cell_type": "code",
      "metadata": {
        "colab": {
          "base_uri": "https://localhost:8080/"
        },
        "id": "9JSEhpMYAFh_",
        "outputId": "33121bbf-8e40-43cc-a0a8-658faade1a63"
      },
      "source": [
        "string = input( ).split()\n",
        "number = map(float, input( ).split( ))\n",
        "\n",
        "a= dict(zip(string,number))\n",
        "print(a)"
      ],
      "execution_count": 56,
      "outputs": [
        {
          "output_type": "stream",
          "text": [
            "health mana melee attack_speed magic_resistance\n",
            "573.6 308.8 600 0.625 35.7\n",
            "{'health': 573.6, 'mana': 308.8, 'melee': 600.0, 'attack_speed': 0.625, 'magic_resistance': 35.7}\n"
          ],
          "name": "stdout"
        }
      ]
    },
    {
      "cell_type": "markdown",
      "metadata": {
        "id": "22OGrjk5Gt3f"
      },
      "source": [
        "# Unit 13. if 조건문"
      ]
    },
    {
      "cell_type": "markdown",
      "metadata": {
        "id": "d8LfIaO7GySQ"
      },
      "source": [
        "### 문제 : 표준 입력으로 가격(정수)과 쿠폰 이름이 각 줄에 입력됩니다. Cash3000 쿠폰은 3,000원, Cash5000 쿠폰은 5,000원을 할인합니다. 쿠폰에 따라 할인된 가격을 출력하는 프로그램을 만드세요."
      ]
    },
    {
      "cell_type": "code",
      "metadata": {
        "colab": {
          "base_uri": "https://localhost:8080/"
        },
        "id": "LqkLP0h7Auo4",
        "outputId": "c81756c7-45e1-42c2-b402-e7c10093fb69"
      },
      "source": [
        "price = int(input('가격 > '))\n",
        "coupon = input('쿠폰 종류> ')\n",
        "\n",
        "if coupon == 'Cash3000':\n",
        "  total = price - 3000\n",
        "if coupon == 'Cash5000':\n",
        "  total= price-5000\n",
        "\n",
        "total"
      ],
      "execution_count": 58,
      "outputs": [
        {
          "output_type": "stream",
          "text": [
            "가격 > 27000\n",
            "쿠폰 종류> Cash3000\n"
          ],
          "name": "stdout"
        },
        {
          "output_type": "execute_result",
          "data": {
            "text/plain": [
              "24000"
            ]
          },
          "metadata": {
            "tags": []
          },
          "execution_count": 58
        }
      ]
    },
    {
      "cell_type": "code",
      "metadata": {
        "colab": {
          "base_uri": "https://localhost:8080/"
        },
        "id": "FxIg_zObHwvJ",
        "outputId": "dbd0263c-84c9-4812-9a94-47e70ade6243"
      },
      "source": [
        "price = int(input( ))\n",
        "coupon = input( )\n",
        "\n",
        "if coupon == 'Cash3000':\n",
        "  price-= 3000\n",
        "if coupon == 'Cash5000':\n",
        "  price-= 5000\n",
        "\n",
        "print(price)"
      ],
      "execution_count": 61,
      "outputs": [
        {
          "output_type": "stream",
          "text": [
            "가격 > 50000\n",
            "쿠폰 종류> Cash5000\n"
          ],
          "name": "stdout"
        },
        {
          "output_type": "execute_result",
          "data": {
            "text/plain": [
              "45000"
            ]
          },
          "metadata": {
            "tags": []
          },
          "execution_count": 61
        }
      ]
    },
    {
      "cell_type": "markdown",
      "metadata": {
        "id": "8iOpMfd0KLJ3"
      },
      "source": [
        "# Unit 14. else 구문"
      ]
    },
    {
      "cell_type": "markdown",
      "metadata": {
        "id": "Oi7YOE22KOWg"
      },
      "source": [
        "### 문제 : 표준 입력으로 국어, 영어, 수학, 과학 점수가 입력됩니다. 여기서 네 과목의 평균 점수가 80점 이상일 때 합격이라고 정했습니다. 평균 점수에 따라 '합격', '불합격'을 출력하는 프로그램을 만드세요. 단, 점수는 0점부터 100점까지만 입력받을 수 있으며 범위를 벗어났다면 '잘못된 점수'를 출력하고 합격, 불합격 여부는 출력하지 않아야 합니다."
      ]
    },
    {
      "cell_type": "code",
      "metadata": {
        "colab": {
          "base_uri": "https://localhost:8080/"
        },
        "id": "CjpiRQGmIXFx",
        "outputId": "3990fbf8-e3a2-4078-b838-37aecd0bc7bc"
      },
      "source": [
        "kor, eng, math, sci=map(int, input('국어, 영어, 수학, 과학 점수> ').split())\n",
        "avg= (kor + eng + math+ sci) / 4\n",
        "# score = list(map (int, input('국어, 영어, 수학, 과학 점수> ').split()))\n",
        "# avg= sum(score)/len(score)\n",
        "\n",
        "if  0 <= kor <= 100 and 0 <= eng <= 100 and 0 <= math <= 100 and 0 <= sci <= 100 :\n",
        "  if avg >= 80:\n",
        "    print('합격')  \n",
        "  else: \n",
        "    print('불합격')\n",
        "else:\n",
        "  print('잘못된 점수')"
      ],
      "execution_count": 69,
      "outputs": [
        {
          "output_type": "stream",
          "text": [
            "국어, 영어, 수학, 과학 점수> 100 200 300 400\n",
            "잘못된 점수\n"
          ],
          "name": "stdout"
        }
      ]
    },
    {
      "cell_type": "code",
      "metadata": {
        "id": "0dlKaMmvJT2R"
      },
      "source": [
        ""
      ],
      "execution_count": 70,
      "outputs": []
    },
    {
      "cell_type": "code",
      "metadata": {
        "id": "Aq8IrITFQjXX"
      },
      "source": [
        ""
      ],
      "execution_count": null,
      "outputs": []
    }
  ]
}