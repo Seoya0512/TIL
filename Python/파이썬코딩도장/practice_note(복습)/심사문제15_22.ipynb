{
    "cells": [
        {
            "cell_type": "markdown",
            "source": [
                "## Unit 22\n",
                "### 문제 : 표준 입력으로 정수 두 개가 입력됩니다(첫 번째 입력 값의 범위는 1~20, 두 번째 입력 값의 범위는 10~30이며 첫 번째 입력 값은 두 번째 입력 값보다 항상 작습니다). 첫 번째 정수부터 두 번째 정수까지를 지수로 하는 2의 거듭제곱 리스트를 출력하는 프로그램을 만드세요. 단, 리스트의 두 번째 요소와 뒤에서 두 번째 요소는 삭제한 뒤 출력하세요. 출력 결과는 리스트 형태라야 합니다."
            ],
            "metadata": {}
        },
        {
            "cell_type": "code",
            "execution_count": 5,
            "source": [
                "start, stop= map(int, input().split())\n",
                "\n",
                "s_list= [2**i for i in range(start, (stop+1))]\n",
                "s_list.pop(1), s_list.pop(-2)\n",
                "s_list"
            ],
            "outputs": [
                {
                    "output_type": "execute_result",
                    "data": {
                        "text/plain": [
                            "[1024, 4096, 8192, 16384, 32768, 65536, 131072, 262144, 1048576]"
                        ]
                    },
                    "metadata": {},
                    "execution_count": 5
                }
            ],
            "metadata": {}
        },
        {
            "cell_type": "markdown",
            "source": [
                "## Unit 19.\n",
                "### 표준 입력으로 삼각형의 높이가 입력됩니다. 입력된 높이만큼 산 모양으로 별을 출력하는 프로그램을 만드세요. 이때 출력 결과는 예제와 정확히 일치해야 합니다. 모양이 같더라도 공백이나 빈 줄이 더 들어가면 틀린 것으로 처리됩니다."
            ],
            "metadata": {}
        },
        {
            "cell_type": "code",
            "execution_count": 12,
            "source": [
                "height = int(input())\n",
                "\n",
                "for i in range(height):\n",
                "    for _ in range((height-1)-i):\n",
                "        print(' ', end=' ')\n",
                "    for _ in range((2*i)+1):\n",
                "        print('*', end=' ')\n",
                "    print()"
            ],
            "outputs": [
                {
                    "output_type": "stream",
                    "name": "stdout",
                    "text": [
                        "        * \n",
                        "      * * * \n",
                        "    * * * * * \n",
                        "  * * * * * * * \n",
                        "* * * * * * * * * \n"
                    ]
                }
            ],
            "metadata": {}
        },
        {
            "cell_type": "code",
            "execution_count": 20,
            "source": [
                "#교과서 풀이\n",
                "height = int(input()) \n",
                "\n",
                "for i in range(height):\n",
                "    for j in reversed(range(height)):\n",
                "        if j > i:\n",
                "            print(' ', end='')\n",
                "        else:\n",
                "            print('*', end='')\n",
                "    for j in range(height):\n",
                "        if j < i:\n",
                "            print('*', end='')\n",
                "    print()"
            ],
            "outputs": [
                {
                    "output_type": "stream",
                    "name": "stdout",
                    "text": [
                        "  *\n",
                        " ***\n",
                        "*****\n"
                    ]
                }
            ],
            "metadata": {}
        },
        {
            "cell_type": "markdown",
            "source": [
                "## Unit 18\n",
                "### 표준 입력으로 정수 두 개가 입력됩니다(첫 번째 입력 값의 범위는 1~200, 두 번째 입력 값의 범위는 10~200이며 첫 번째 입력 값은 두 번째 입력 값보다 항상 작습니다). 다음 소스 코드를 완성하여 첫 번째 정수와 두 번째 정수 사이의 숫자 중 3으로 끝나지 않는 숫자가 출력되게 만드세요. 정답에 코드를 작성할 때는 while True:에 맞춰서 들여쓰기를 해주세요."
            ],
            "metadata": {}
        },
        {
            "cell_type": "code",
            "execution_count": 32,
            "source": [
                "start, stop= map(int, input().split())\n",
                " \n",
                "i = start\n",
                " \n",
                "while True:\n",
                "    if i % 10 == 3:\n",
                "        i +=1\n",
                "        continue\n",
                "    if i > stop:\n",
                "        break\n",
                "    print(i, end=' ')\n",
                "    i += 1\n"
            ],
            "outputs": [
                {
                    "output_type": "stream",
                    "name": "stdout",
                    "text": [
                        "10 11 12 14 15 16 17 18 19 20 "
                    ]
                }
            ],
            "metadata": {}
        },
        {
            "cell_type": "markdown",
            "source": [
                "## Unit 17\n",
                "###표준 입력으로 금액(정수)이 입력됩니다. 1회당 요금은 1,350원이고, 교통카드를 사용했을 때마다의 잔액을 각 줄에 출력하는 프로그램을 만드세요(input에서 안내 문자열은 출력하지 않아야 합니다). 단, 최초 금액은 출력하지 않아야 합니다. 그리고 잔액은 음수가 될 수 없으며 잔액이 부족하면 출력을 끝냅니다."
            ],
            "metadata": {}
        },
        {
            "cell_type": "code",
            "execution_count": 37,
            "source": [
                "amount = int(input())\n",
                "\n",
                "while amount >= 1350:\n",
                "        amount -= 1350\n",
                "        print(amount)\n"
            ],
            "outputs": [
                {
                    "output_type": "stream",
                    "name": "stdout",
                    "text": [
                        "8650\n",
                        "7300\n",
                        "5950\n",
                        "4600\n",
                        "3250\n",
                        "1900\n",
                        "550\n"
                    ]
                }
            ],
            "metadata": {}
        },
        {
            "cell_type": "code",
            "execution_count": 3,
            "source": [
                "amount = int(input())\n",
                "\n",
                "fare =1350\n",
                "while amount-fare>= 0:\n",
                "    amount -= fare\n",
                "    print(amount)\n"
            ],
            "outputs": [
                {
                    "output_type": "stream",
                    "name": "stdout",
                    "text": [
                        "8650\n",
                        "7300\n",
                        "5950\n",
                        "4600\n",
                        "3250\n",
                        "1900\n",
                        "550\n"
                    ]
                }
            ],
            "metadata": {}
        },
        {
            "cell_type": "markdown",
            "source": [
                "## Unit 16\n",
                "### 표준 입력으로 정수가 입력됩니다. 입력된 정수의 구구단을 출력하는 프로그램을 만드세요(input에서 안내 문자열은 출력하지 않아야 합니다). 출력 형식은 숫자 * 숫자 = 숫자처럼 만들고 숫자와 *, = 사이는 공백을 한 칸 띄웁니다."
            ],
            "metadata": {}
        },
        {
            "cell_type": "code",
            "execution_count": 39,
            "source": [
                "i = int(input())\n",
                "\n",
                "for k in range(1,10):\n",
                "    print(f'{i} * {k} = {i*k}')"
            ],
            "outputs": [
                {
                    "output_type": "stream",
                    "name": "stdout",
                    "text": [
                        "2 * 1 = 2\n",
                        "2 * 2 = 4\n",
                        "2 * 3 = 6\n",
                        "2 * 4 = 8\n",
                        "2 * 5 = 10\n",
                        "2 * 6 = 12\n",
                        "2 * 7 = 14\n",
                        "2 * 8 = 16\n",
                        "2 * 9 = 18\n"
                    ]
                }
            ],
            "metadata": {}
        },
        {
            "cell_type": "markdown",
            "source": [
                "## Unit 15\n",
                "### 표준 입력으로 나이(만 나이)가 입력됩니다(입력 값은 7 이상 입력됨). 교통카드 시스템에서 시내버스 요금은 다음과 같으며 각 나이에 맞게 요금을 차감한 뒤 잔액이 출력되게 만드세요(if, elif 사용). 현재 교통카드에는 9,000원이 들어있습니다.\n",
                "\n",
                "어린이(초등학생, 만 7세 이상 12세 이하): 650원 <br>\n",
                "청소년(중∙고등학생, 만 13세 이상 18세 이하): 1,050원 <br>\n",
                "어른(일반, 만 19세 이상): 1,250원 <br>"
            ],
            "metadata": {}
        },
        {
            "cell_type": "code",
            "execution_count": 42,
            "source": [
                "age = int(input())\n",
                "balance = 9000    # 교통카드 잔액\n",
                "\n",
                "if 7 <= age <= 12 :\n",
                "    balance -= 650\n",
                "elif 13 <= age <= 18:\n",
                "    balance -= 1050\n",
                "else:\n",
                "    balance -= 1250\n",
                "print(balance)"
            ],
            "outputs": [
                {
                    "output_type": "stream",
                    "name": "stdout",
                    "text": [
                        "7950\n"
                    ]
                }
            ],
            "metadata": {}
        },
        {
            "cell_type": "markdown",
            "source": [
                "## 추가문제 1\n",
                "a + b + c= 1000    (a<b<c) <br>\n",
                "<br>\n",
                "(a*a) * (b*b) = (c*c) 인 피타고라스 수는?"
            ],
            "metadata": {}
        },
        {
            "cell_type": "code",
            "execution_count": 6,
            "source": [
                "for a in range(1,333):\n",
                "    for b in range(a+1,500):\n",
                "        c = 1000 - a -b\n",
                "        if (a*a)+(b*b)== (c*c):\n",
                "            print(a,b,c)"
            ],
            "outputs": [
                {
                    "output_type": "stream",
                    "name": "stdout",
                    "text": [
                        "200 375 425\n"
                    ]
                }
            ],
            "metadata": {}
        },
        {
            "cell_type": "code",
            "execution_count": 242,
            "source": [
                "for a in range(1,1000):\n",
                "    for b in range(a+1,1000):\n",
                "        c = 1000-a-b\n",
                "        if (a*a)+(b*b)==(c*c):\n",
                "            print(a,b,c)"
            ],
            "outputs": [
                {
                    "output_type": "stream",
                    "name": "stdout",
                    "text": [
                        "200 375 425\n"
                    ]
                }
            ],
            "metadata": {}
        },
        {
            "cell_type": "markdown",
            "source": [
                "## 추가문제 2\n",
                "본인의 생일을 1998 12 15 과 같이 년 월 일로 입력받아\u000b오늘 날짜의 만 나이를 구하는 프로그램을 작성하시오.\n"
            ],
            "metadata": {}
        },
        {
            "cell_type": "code",
            "execution_count": 15,
            "source": [
                "from datetime import date\n",
                "today = date.today()\n",
                "year, month, day = map(int,input().split())\n",
                "\n",
                "age= 0 \n",
                "if today.year > year : \n",
                "    if today.month > month and today.day > day:\n",
                "        age = today.year - year\n",
                "    else:\n",
                "        age = today.year - year \n",
                "print(age)"
            ],
            "outputs": [
                {
                    "output_type": "stream",
                    "name": "stdout",
                    "text": [
                        "23\n"
                    ]
                }
            ],
            "metadata": {}
        },
        {
            "cell_type": "markdown",
            "source": [
                "디지털 시계에 하루동안(00:00~23:59) 3이 표시되는 시간을 초로 환산하면 총 몇 초(second) \u000b일까요?\u000b- 디지털 시계는 하루동안 다음과 같이 시:분(00:00~23:59)으로 표시됨."
            ],
            "metadata": {}
        },
        {
            "cell_type": "code",
            "execution_count": 244,
            "source": [
                "time = [ ]\n",
                "time_in_sec = 0\n",
                "\n",
                "for hour in range(24):\n",
                "    for minuite in range(60):\n",
                "        if hour % 10 == 3 or minuite in range(30,40) or minuite % 10 ==3:\n",
                "            x=(hour, minuite)\n",
                "            time.append(x)\n",
                "            time_in_sec += 60\n",
                "            \n",
                "print(time_in_sec)"
            ],
            "outputs": [
                {
                    "output_type": "stream",
                    "name": "stdout",
                    "text": [
                        "29700\n"
                    ]
                }
            ],
            "metadata": {}
        },
        {
            "cell_type": "code",
            "execution_count": 257,
            "source": [
                "time = [ ]\n",
                "time_in_sec = 0\n",
                "\n",
                "for hour in range(24):\n",
                "    for minuite in range(60):\n",
                "        if '3' in str(hour) or '3' in str(minuite):\n",
                "            x=(hour, minuite)\n",
                "            time.append(x)\n",
                "            time_in_sec += 60\n",
                "            \n",
                "print(time_in_sec)"
            ],
            "outputs": [
                {
                    "output_type": "stream",
                    "name": "stdout",
                    "text": [
                        "29700\n"
                    ]
                }
            ],
            "metadata": {}
        }
    ],
    "metadata": {
        "orig_nbformat": 4,
        "language_info": {
            "name": "python",
            "version": "3.8.10",
            "mimetype": "text/x-python",
            "codemirror_mode": {
                "name": "ipython",
                "version": 3
            },
            "pygments_lexer": "ipython3",
            "nbconvert_exporter": "python",
            "file_extension": ".py"
        },
        "kernelspec": {
            "name": "python3",
            "display_name": "Python 3.8.10 64-bit ('base': conda)"
        },
        "interpreter": {
            "hash": "59aa76eec713a2e656bb9d4ddb5f36b21f3d4006b36f877fc5669415524b1415"
        }
    },
    "nbformat": 4,
    "nbformat_minor": 2
}