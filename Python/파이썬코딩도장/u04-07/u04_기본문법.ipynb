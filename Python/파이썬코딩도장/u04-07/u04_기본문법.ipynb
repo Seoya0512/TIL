{
  "nbformat": 4,
  "nbformat_minor": 2,
  "metadata": {
    "colab": {
      "name": "u04_기본문법.ipynb",
      "provenance": []
    },
    "kernelspec": {
      "name": "python3",
      "display_name": "Python 3"
    },
    "language_info": {
      "name": "python"
    }
  },
  "cells": [
    {
      "cell_type": "markdown",
      "source": [
        "#Unit 4. 기본 문법 알아보기"
      ],
      "metadata": {
        "id": "pzqkVPb8a-MB"
      }
    },
    {
      "cell_type": "markdown",
      "source": [
        "## 4.1 세미콜론"
      ],
      "metadata": {
        "id": "Yvla1rqxbHEs"
      }
    },
    {
      "cell_type": "code",
      "execution_count": 2,
      "source": [
        "print(\"Hello, World!\")"
      ],
      "outputs": [
        {
          "output_type": "stream",
          "name": "stdout",
          "text": [
            "Hello, World!\n"
          ]
        }
      ],
      "metadata": {
        "colab": {
          "base_uri": "https://localhost:8080/"
        },
        "id": "NlyFQ7M5azCX",
        "outputId": "3bc66977-271e-4976-bc21-4326003fc846"
      }
    },
    {
      "cell_type": "code",
      "execution_count": 3,
      "source": [
        "print(\"Hello\"); print('1234')"
      ],
      "outputs": [
        {
          "output_type": "stream",
          "name": "stdout",
          "text": [
            "Hello\n",
            "1234\n"
          ]
        }
      ],
      "metadata": {
        "colab": {
          "base_uri": "https://localhost:8080/"
        },
        "id": "20anR-oxbRIH",
        "outputId": "39352bad-c129-4152-c52b-da6348a2dcb6"
      }
    },
    {
      "cell_type": "markdown",
      "source": [
        "## 4.2 주석"
      ],
      "metadata": {
        "id": "LepxcdNvbvFv"
      }
    },
    {
      "cell_type": "markdown",
      "source": [
        "### 4.2.1 한 줄 주석"
      ],
      "metadata": {
        "id": "cNkOxPYGb5e5"
      }
    },
    {
      "cell_type": "code",
      "execution_count": 4,
      "source": [
        "# Hello, World! 출력\n",
        "print('Hello, World!')"
      ],
      "outputs": [
        {
          "output_type": "stream",
          "name": "stdout",
          "text": [
            "Hello, World!\n"
          ]
        }
      ],
      "metadata": {
        "colab": {
          "base_uri": "https://localhost:8080/"
        },
        "id": "x52y-RSgblcg",
        "outputId": "2897eb44-2d40-4ce3-fc0e-0d96df8d7fcd"
      }
    },
    {
      "cell_type": "code",
      "execution_count": 5,
      "source": [
        "print('Hello, World!')  #comment"
      ],
      "outputs": [
        {
          "output_type": "stream",
          "name": "stdout",
          "text": [
            "Hello, World!\n"
          ]
        }
      ],
      "metadata": {
        "colab": {
          "base_uri": "https://localhost:8080/"
        },
        "id": "48v5nQ26cRro",
        "outputId": "36f3d97f-4b64-41d1-cc26-63833f2df489"
      }
    },
    {
      "cell_type": "markdown",
      "source": [
        "### 4.2.2 블록 주석"
      ],
      "metadata": {
        "id": "rBN-zDYHb47s"
      }
    },
    {
      "cell_type": "code",
      "execution_count": 6,
      "source": [
        "#더하기\n",
        "#a= 1+2\n",
        "# print('Hello, world!')"
      ],
      "outputs": [],
      "metadata": {
        "id": "FAQirulUe-Gu"
      }
    },
    {
      "cell_type": "code",
      "execution_count": 7,
      "source": [
        "#더하기\n",
        "'''a= 1+2\n",
        "print('Hello, world!')'''"
      ],
      "outputs": [
        {
          "output_type": "execute_result",
          "data": {
            "text/plain": [
              "\"a= 1+2\\nprint('Hello, world!')\""
            ],
            "application/vnd.google.colaboratory.intrinsic+json": {
              "type": "string"
            }
          },
          "metadata": {
            "tags": []
          },
          "execution_count": 7
        }
      ],
      "metadata": {
        "colab": {
          "base_uri": "https://localhost:8080/",
          "height": 35
        },
        "id": "MSnETnY4fEag",
        "outputId": "0a24f43a-6115-49f8-b640-b7d673e3c054"
      }
    },
    {
      "cell_type": "code",
      "execution_count": 9,
      "source": [
        "\"\"\"\n",
        "이 안에 포함된 내용이 블록 주석\n",
        "\"\"\"\n"
      ],
      "outputs": [
        {
          "output_type": "execute_result",
          "data": {
            "text/plain": [
              "'\\n이 안에 포함된 내용이 블록 주석\\n'"
            ],
            "application/vnd.google.colaboratory.intrinsic+json": {
              "type": "string"
            }
          },
          "metadata": {
            "tags": []
          },
          "execution_count": 9
        }
      ],
      "metadata": {
        "colab": {
          "base_uri": "https://localhost:8080/",
          "height": 35
        },
        "id": "oG1QHGLCfJaF",
        "outputId": "0e8d261b-209b-4a14-d1ea-fb871f3a379a"
      }
    },
    {
      "cell_type": "markdown",
      "source": [
        "### 4.3 들여쓰기 (Indentation)"
      ],
      "metadata": {
        "id": "GrK2QT4JiWvH"
      }
    },
    {
      "cell_type": "code",
      "execution_count": 14,
      "source": [
        "# 파이썬 예\n",
        "sum = 0\n",
        "for i in range(1,11):\n",
        "  sum += i\n",
        "  # print(sum)  #for문 안에서 돌아가는 print, 변수의 값이 계속 나옴\n",
        "\n",
        "print(sum)  #마지막 최종의 답이 1번 나옴"
      ],
      "outputs": [
        {
          "output_type": "stream",
          "name": "stdout",
          "text": [
            "10\n",
            "55\n"
          ]
        }
      ],
      "metadata": {
        "colab": {
          "base_uri": "https://localhost:8080/"
        },
        "id": "7ppR4QgbfXLM",
        "outputId": "e594e2aa-4cd0-4b9b-e82c-df788f398cc8"
      }
    },
    {
      "cell_type": "code",
      "execution_count": 15,
      "source": [
        "# 기본 공백 : 공백 4개, 탭/백탭(shift+ Tab)\n",
        "sum = 0\n",
        "for i in range(1,11):\n",
        "  sum += i\n",
        "  if i >9:\n",
        "    print(i)\n",
        "print(sum)  "
      ],
      "outputs": [
        {
          "output_type": "stream",
          "name": "stdout",
          "text": [
            "10\n",
            "55\n"
          ]
        }
      ],
      "metadata": {
        "colab": {
          "base_uri": "https://localhost:8080/"
        },
        "id": "O9pgyINKjowG",
        "outputId": "8832107c-2840-40aa-b786-387fea1dddbd"
      }
    },
    {
      "cell_type": "code",
      "execution_count": null,
      "source": [],
      "outputs": [],
      "metadata": {
        "id": "luS73Dh7k05t"
      }
    }
  ]
}