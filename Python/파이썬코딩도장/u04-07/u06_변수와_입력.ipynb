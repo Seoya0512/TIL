{
  "nbformat": 4,
  "nbformat_minor": 2,
  "metadata": {
    "colab": {
      "name": "u06 변수와 입력.ipynb",
      "provenance": []
    },
    "kernelspec": {
      "name": "python3",
      "display_name": "Python 3"
    },
    "language_info": {
      "name": "python"
    }
  },
  "cells": [
    {
      "cell_type": "markdown",
      "source": [
        "# Unit 6. 변수와 입력 사용하기"
      ],
      "metadata": {
        "id": "PbUCDriGL3AH"
      }
    },
    {
      "cell_type": "markdown",
      "source": [
        "## 6.1 변수 (variable)\n",
        "- 영문 문자와 숫자를 사용할 수 있습니다.\n",
        "- 대소문자를 구분합니다.\n",
        "- 문자부터 시작해야 하며 숫자부터 시작하면 안 됩니다.\n",
        "- _(밑줄 문자)로 시작할 수 있습니다.\n",
        "- 특수 문자(+, -, *, /, $, @, &, % 등)는 사용할 수 없습니다.\n",
        "- 파이썬의 키워드(if, for, while, and, or 등)는 사용할 수 없습니다."
      ],
      "metadata": {
        "id": "Cdp52bC8MA6z"
      }
    },
    {
      "cell_type": "code",
      "execution_count": null,
      "source": [
        "x=10\n",
        "x"
      ],
      "outputs": [
        {
          "output_type": "execute_result",
          "data": {
            "text/plain": [
              "10"
            ]
          },
          "metadata": {
            "tags": []
          },
          "execution_count": 1
        }
      ],
      "metadata": {
        "colab": {
          "base_uri": "https://localhost:8080/"
        },
        "id": "GgigmfArL1zl",
        "outputId": "da2c7047-a751-4823-c8ec-19d698ac951e"
      }
    },
    {
      "cell_type": "code",
      "execution_count": null,
      "source": [
        "s= 'Hello'\n",
        "s\n",
        "#변수 유형 파악\n",
        "type(s)"
      ],
      "outputs": [
        {
          "output_type": "execute_result",
          "data": {
            "text/plain": [
              "str"
            ]
          },
          "metadata": {
            "tags": []
          },
          "execution_count": 7
        }
      ],
      "metadata": {
        "colab": {
          "base_uri": "https://localhost:8080/"
        },
        "id": "5cGgysc9NMEn",
        "outputId": "12faa562-b4f6-4ef8-e841-4396a9bd2c41"
      }
    },
    {
      "cell_type": "code",
      "execution_count": null,
      "source": [
        "#변수 여러 개를 한 번에 만들기\n",
        "x,y,z=10,20,30\n",
        "x,y,z"
      ],
      "outputs": [
        {
          "output_type": "execute_result",
          "data": {
            "text/plain": [
              "(10, 20, 30)"
            ]
          },
          "metadata": {
            "tags": []
          },
          "execution_count": 6
        }
      ],
      "metadata": {
        "colab": {
          "base_uri": "https://localhost:8080/"
        },
        "id": "9fAzgCOlNP1c",
        "outputId": "5880c246-e881-4ede-ea41-6803825ab1c5"
      }
    },
    {
      "cell_type": "code",
      "execution_count": null,
      "source": [
        "x=y=z=10\n",
        "x,y,z"
      ],
      "outputs": [
        {
          "output_type": "execute_result",
          "data": {
            "text/plain": [
              "(10, 10, 10)"
            ]
          },
          "metadata": {
            "tags": []
          },
          "execution_count": 5
        }
      ],
      "metadata": {
        "colab": {
          "base_uri": "https://localhost:8080/"
        },
        "id": "8gDyD2GCNpF5",
        "outputId": "b1130257-542b-4a9c-d602-54d1822da64f"
      }
    },
    {
      "cell_type": "code",
      "execution_count": null,
      "source": [
        "# 변수를 삭제할 때 사용한다\n",
        "del z\n",
        "print(z)            #변수가 삭제되었다는 error 발생"
      ],
      "outputs": [
        {
          "output_type": "error",
          "ename": "NameError",
          "evalue": "ignored",
          "traceback": [
            "\u001b[0;31m---------------------------------------------------------------------------\u001b[0m",
            "\u001b[0;31mNameError\u001b[0m                                 Traceback (most recent call last)",
            "\u001b[0;32m<ipython-input-8-8f47a1d0824e>\u001b[0m in \u001b[0;36m<module>\u001b[0;34m()\u001b[0m\n\u001b[1;32m      1\u001b[0m \u001b[0;32mdel\u001b[0m \u001b[0mz\u001b[0m\u001b[0;34m\u001b[0m\u001b[0;34m\u001b[0m\u001b[0m\n\u001b[0;32m----> 2\u001b[0;31m \u001b[0mprint\u001b[0m\u001b[0;34m(\u001b[0m\u001b[0mz\u001b[0m\u001b[0;34m)\u001b[0m\u001b[0;34m\u001b[0m\u001b[0;34m\u001b[0m\u001b[0m\n\u001b[0m",
            "\u001b[0;31mNameError\u001b[0m: name 'z' is not defined"
          ]
        }
      ],
      "metadata": {
        "colab": {
          "base_uri": "https://localhost:8080/",
          "height": 189
        },
        "id": "HcPX1VQaNrpu",
        "outputId": "0d4ddc92-cb3f-40af-bf12-b34544719b3a"
      }
    },
    {
      "cell_type": "code",
      "execution_count": null,
      "source": [
        "# 빈 변수 만들기, 값이 들어있지 않는 변수\n",
        "x =None\n",
        "print(x)"
      ],
      "outputs": [
        {
          "output_type": "stream",
          "name": "stdout",
          "text": [
            "None\n"
          ]
        }
      ],
      "metadata": {
        "colab": {
          "base_uri": "https://localhost:8080/"
        },
        "id": "VcYgiHNKN3lD",
        "outputId": "be0ed7c8-5119-4cf0-e1b3-8a692978e46f"
      }
    },
    {
      "cell_type": "markdown",
      "source": [
        "### 6.2 변수로 계산"
      ],
      "metadata": {
        "id": "_SNQn3H1OeqP"
      }
    },
    {
      "cell_type": "code",
      "execution_count": null,
      "source": [
        "a = 10\n",
        "a= a + 10 #프로그램에서 자주 사용되는 코드 \n",
        "a"
      ],
      "outputs": [
        {
          "output_type": "execute_result",
          "data": {
            "text/plain": [
              "20"
            ]
          },
          "metadata": {
            "tags": []
          },
          "execution_count": 12
        }
      ],
      "metadata": {
        "colab": {
          "base_uri": "https://localhost:8080/"
        },
        "id": "BlqDtZEGONdU",
        "outputId": "2988cdd0-90f2-420d-9ecb-f23de634449e"
      }
    },
    {
      "cell_type": "code",
      "execution_count": null,
      "source": [
        "a = 10\n",
        "a += 10   # a = a+10\n",
        "a"
      ],
      "outputs": [
        {
          "output_type": "execute_result",
          "data": {
            "text/plain": [
              "20"
            ]
          },
          "metadata": {
            "tags": []
          },
          "execution_count": 13
        }
      ],
      "metadata": {
        "colab": {
          "base_uri": "https://localhost:8080/"
        },
        "id": "3xu4m8msOxcC",
        "outputId": "b7ed3fc4-238e-4686-c453-fbb4e21a6d5f"
      }
    },
    {
      "cell_type": "code",
      "execution_count": null,
      "source": [
        "sum, prod = 0, 1    #최초 값을 할당해야함 \n",
        "for i in range(1,11):\n",
        "  sum += i\n",
        "  prod *= i\n",
        "\n",
        "sum, prod"
      ],
      "outputs": [
        {
          "output_type": "execute_result",
          "data": {
            "text/plain": [
              "(55, 3628800)"
            ]
          },
          "metadata": {
            "tags": []
          },
          "execution_count": 15
        }
      ],
      "metadata": {
        "colab": {
          "base_uri": "https://localhost:8080/"
        },
        "id": "SVBRqGECPA2P",
        "outputId": "e06e3a9c-231c-4459-a824-cc1ff288bf51"
      }
    },
    {
      "cell_type": "markdown",
      "source": [
        "### 6.3 입력 (input)"
      ],
      "metadata": {
        "id": "STNw2k24QJx0"
      }
    },
    {
      "cell_type": "code",
      "execution_count": null,
      "source": [
        "s= input()"
      ],
      "outputs": [
        {
          "output_type": "stream",
          "name": "stdout",
          "text": [
            "hello, world!\n"
          ]
        }
      ],
      "metadata": {
        "colab": {
          "base_uri": "https://localhost:8080/"
        },
        "id": "74X8qDSFPopR",
        "outputId": "181603a4-c523-4b6c-e505-3aabf1efa94a"
      }
    },
    {
      "cell_type": "code",
      "execution_count": null,
      "source": [
        "s"
      ],
      "outputs": [
        {
          "output_type": "execute_result",
          "data": {
            "text/plain": [
              "'hello, world!'"
            ],
            "application/vnd.google.colaboratory.intrinsic+json": {
              "type": "string"
            }
          },
          "metadata": {
            "tags": []
          },
          "execution_count": 34
        }
      ],
      "metadata": {
        "colab": {
          "base_uri": "https://localhost:8080/",
          "height": 35
        },
        "id": "buHnxMOxQXLA",
        "outputId": "0ac67758-8f4f-40d8-b814-064f5dd3c35d"
      }
    },
    {
      "cell_type": "code",
      "execution_count": null,
      "source": [
        "x= input('1에서 10사이의 정수값> ')   #prompt"
      ],
      "outputs": [
        {
          "output_type": "stream",
          "name": "stdout",
          "text": [
            "1에서 10사의 정수값> 7\n"
          ]
        }
      ],
      "metadata": {
        "colab": {
          "base_uri": "https://localhost:8080/"
        },
        "id": "xap5fePGQjom",
        "outputId": "b9ecbc1f-1ab2-4030-a182-fac095fbe48c"
      }
    },
    {
      "cell_type": "code",
      "execution_count": null,
      "source": [
        "# 입력한 두 정수의 합\n",
        "a= int(input ('첫번째 정수'))\n",
        "b= int(input ('두번째 정수'))\n",
        "\n",
        "a+b"
      ],
      "outputs": [
        {
          "output_type": "stream",
          "name": "stdout",
          "text": [
            "첫번째 정수10\n",
            "두번째 정수0\n"
          ]
        },
        {
          "output_type": "execute_result",
          "data": {
            "text/plain": [
              "10"
            ]
          },
          "metadata": {
            "tags": []
          },
          "execution_count": 24
        }
      ],
      "metadata": {
        "colab": {
          "base_uri": "https://localhost:8080/"
        },
        "id": "-aXF4vElQ6M6",
        "outputId": "11db9902-6dc4-48f7-b2e1-f3b7aff4e030"
      }
    },
    {
      "cell_type": "code",
      "execution_count": null,
      "source": [
        "a= (input ('첫번째 정수'))\n",
        "b= (input ('두번째 정수'))\n",
        "\n",
        "int(a)+int(b)"
      ],
      "outputs": [
        {
          "output_type": "stream",
          "name": "stdout",
          "text": [
            "첫번째 정수10\n",
            "두번째 정수20\n"
          ]
        },
        {
          "output_type": "execute_result",
          "data": {
            "text/plain": [
              "30"
            ]
          },
          "metadata": {
            "tags": []
          },
          "execution_count": 25
        }
      ],
      "metadata": {
        "colab": {
          "base_uri": "https://localhost:8080/"
        },
        "id": "g9WyypfvRUmG",
        "outputId": "ae8b539f-ae87-4303-e6c2-f7fa024a951d"
      }
    },
    {
      "cell_type": "markdown",
      "source": [
        "### 6.4 입력값 두개"
      ],
      "metadata": {
        "id": "CulvotnJSRZZ"
      }
    },
    {
      "cell_type": "code",
      "execution_count": null,
      "source": [
        "s.split()"
      ],
      "outputs": [
        {
          "output_type": "execute_result",
          "data": {
            "text/plain": [
              "['hello,', 'world!']"
            ]
          },
          "metadata": {
            "tags": []
          },
          "execution_count": 35
        }
      ],
      "metadata": {
        "colab": {
          "base_uri": "https://localhost:8080/"
        },
        "id": "VR1yi4DBR7nV",
        "outputId": "7fcb1175-fb85-491f-a0f7-69a5c552413d"
      }
    },
    {
      "cell_type": "code",
      "execution_count": null,
      "source": [
        "a,b= s.split()\n",
        "a,b"
      ],
      "outputs": [
        {
          "output_type": "execute_result",
          "data": {
            "text/plain": [
              "('hello,', 'world!')"
            ]
          },
          "metadata": {
            "tags": []
          },
          "execution_count": 36
        }
      ],
      "metadata": {
        "colab": {
          "base_uri": "https://localhost:8080/"
        },
        "id": "moWcotCuSmw-",
        "outputId": "fab15618-137a-4ffb-c25d-caa43fbfbbbd"
      }
    },
    {
      "cell_type": "code",
      "execution_count": null,
      "source": [
        "a,b,c= 'A quick brown'.split()\n",
        "a,b,c"
      ],
      "outputs": [
        {
          "output_type": "execute_result",
          "data": {
            "text/plain": [
              "('A', 'quick', 'brown')"
            ]
          },
          "metadata": {
            "tags": []
          },
          "execution_count": 38
        }
      ],
      "metadata": {
        "colab": {
          "base_uri": "https://localhost:8080/"
        },
        "id": "_kTt4B8VSx-1",
        "outputId": "a4b3bba1-184c-43fd-bba4-3ce54c34033e"
      }
    },
    {
      "cell_type": "code",
      "execution_count": 41,
      "source": [
        "a, b = input('정수 두개 입력> ').split()"
      ],
      "outputs": [
        {
          "output_type": "stream",
          "name": "stdout",
          "text": [
            "정수 두개 입력> 10 20\n"
          ]
        }
      ],
      "metadata": {
        "id": "VCDj6SrhTDmQ",
        "colab": {
          "base_uri": "https://localhost:8080/"
        },
        "outputId": "46f6744e-2184-4ab5-9d3a-463dad6de5a8"
      }
    },
    {
      "cell_type": "code",
      "execution_count": 42,
      "source": [
        "a= int(a)\n",
        "b= int(b)\n",
        "a+b"
      ],
      "outputs": [
        {
          "output_type": "execute_result",
          "data": {
            "text/plain": [
              "30"
            ]
          },
          "metadata": {
            "tags": []
          },
          "execution_count": 42
        }
      ],
      "metadata": {
        "colab": {
          "base_uri": "https://localhost:8080/"
        },
        "id": "ornFBHk4V2dz",
        "outputId": "24186b82-f3bc-4012-a583-36ca7551f0a3"
      }
    },
    {
      "cell_type": "code",
      "execution_count": 43,
      "source": [
        "a,b = input('정수 두개 입력, comma로 구분하세요.> ').split(',')\n",
        "a=int(a)\n",
        "b= int(b)\n",
        "a+b"
      ],
      "outputs": [
        {
          "output_type": "stream",
          "name": "stdout",
          "text": [
            "정수 두개 입력, comma로 구분하세요.> 10,20\n"
          ]
        },
        {
          "output_type": "execute_result",
          "data": {
            "text/plain": [
              "30"
            ]
          },
          "metadata": {
            "tags": []
          },
          "execution_count": 43
        }
      ],
      "metadata": {
        "colab": {
          "base_uri": "https://localhost:8080/"
        },
        "id": "52OzFp5KWCb8",
        "outputId": "ecbaa3ba-a79a-497c-a5cd-cd4967fd62e4"
      }
    },
    {
      "cell_type": "markdown",
      "source": [
        "### map 활용\n",
        "- 리스트 각 엘리먼트(element)에 지정한 함수를 적용"
      ],
      "metadata": {
        "id": "4bcwjKeuXNJn"
      }
    },
    {
      "cell_type": "code",
      "execution_count": 44,
      "source": [
        "a,b= map(int, [10.2, 11.4])\n",
        "a,b"
      ],
      "outputs": [
        {
          "output_type": "execute_result",
          "data": {
            "text/plain": [
              "(10, 11)"
            ]
          },
          "metadata": {
            "tags": []
          },
          "execution_count": 44
        }
      ],
      "metadata": {
        "colab": {
          "base_uri": "https://localhost:8080/"
        },
        "id": "dvWOpWZrWTNe",
        "outputId": "23d530fe-f948-46e2-8e5b-213690433411"
      }
    },
    {
      "cell_type": "code",
      "execution_count": 45,
      "source": [
        "a, b = map(int, input('정수 두개 입력> ').split())\n",
        "a+b"
      ],
      "outputs": [
        {
          "output_type": "stream",
          "name": "stdout",
          "text": [
            "정수 두개 입력> 10 20\n"
          ]
        },
        {
          "output_type": "execute_result",
          "data": {
            "text/plain": [
              "30"
            ]
          },
          "metadata": {
            "tags": []
          },
          "execution_count": 45
        }
      ],
      "metadata": {
        "colab": {
          "base_uri": "https://localhost:8080/"
        },
        "id": "73S9qdbLXSqa",
        "outputId": "10b640ed-4e86-406c-fc82-d1fa3137a07a"
      }
    }
  ]
}