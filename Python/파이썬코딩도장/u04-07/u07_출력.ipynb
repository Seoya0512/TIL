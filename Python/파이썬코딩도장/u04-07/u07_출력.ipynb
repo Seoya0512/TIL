{
  "nbformat": 4,
  "nbformat_minor": 2,
  "metadata": {
    "colab": {
      "name": "u07_출력.ipynb",
      "provenance": [],
      "collapsed_sections": []
    },
    "kernelspec": {
      "name": "python3",
      "display_name": "Python 3"
    },
    "language_info": {
      "name": "python"
    }
  },
  "cells": [
    {
      "cell_type": "markdown",
      "source": [
        "# Unit 7. 출력"
      ],
      "metadata": {
        "id": "R1x_c350Z2zq"
      }
    },
    {
      "cell_type": "markdown",
      "source": [
        "## 7.1 여러개 값을 출력"
      ],
      "metadata": {
        "id": "0lThk8yXalcj"
      }
    },
    {
      "cell_type": "code",
      "execution_count": 2,
      "source": [
        "a, b = map (int, input('정수 두개 입력> ').split())\n",
        "a\n",
        "b     #마지막 값만 출력이됨 "
      ],
      "outputs": [
        {
          "output_type": "stream",
          "name": "stdout",
          "text": [
            "정수 두개 입력> 10 20\n"
          ]
        },
        {
          "output_type": "execute_result",
          "data": {
            "text/plain": [
              "20"
            ]
          },
          "metadata": {
            "tags": []
          },
          "execution_count": 2
        }
      ],
      "metadata": {
        "colab": {
          "base_uri": "https://localhost:8080/"
        },
        "id": "npaXb_IkZyxF",
        "outputId": "65cf5e2d-02e8-496a-cbe2-f66591209cbd"
      }
    },
    {
      "cell_type": "code",
      "execution_count": 4,
      "source": [
        "a, b = map (int, input('정수 두개 입력> ').split())\n",
        "print(a)\n",
        "print(b)      "
      ],
      "outputs": [
        {
          "output_type": "stream",
          "name": "stdout",
          "text": [
            "정수 두개 입력> 10 20\n",
            "10\n",
            "20\n"
          ]
        }
      ],
      "metadata": {
        "colab": {
          "base_uri": "https://localhost:8080/"
        },
        "id": "zxINMlFJaFqr",
        "outputId": "ec9bcc64-ab8a-4d27-f66a-b8b036ab020b"
      }
    },
    {
      "cell_type": "code",
      "execution_count": 5,
      "source": [
        "#sep = separator(구분자)\n",
        "\n",
        "print(a, b, sep=',')"
      ],
      "outputs": [
        {
          "output_type": "stream",
          "name": "stdout",
          "text": [
            "10,20\n"
          ]
        }
      ],
      "metadata": {
        "colab": {
          "base_uri": "https://localhost:8080/"
        },
        "id": "28S2iBHbadYd",
        "outputId": "82d8e8c2-ac72-4f5c-da27-11bed16256fa"
      }
    },
    {
      "cell_type": "markdown",
      "source": [
        "## 7.2 줄바꿈 활용"
      ],
      "metadata": {
        "id": "1lksjp2vbOwK"
      }
    },
    {
      "cell_type": "code",
      "execution_count": 8,
      "source": [
        "print (a,b, sep='\\n')"
      ],
      "outputs": [
        {
          "output_type": "stream",
          "name": "stdout",
          "text": [
            "10\n",
            "20\n"
          ]
        }
      ],
      "metadata": {
        "colab": {
          "base_uri": "https://localhost:8080/"
        },
        "id": "j48aexYya5XU",
        "outputId": "ac4ba59d-c3d2-4f5b-c77b-9f6c78ed1416"
      }
    },
    {
      "cell_type": "code",
      "execution_count": 9,
      "source": [
        "print(a,b, sep='/\\\\')"
      ],
      "outputs": [
        {
          "output_type": "stream",
          "name": "stdout",
          "text": [
            "10/\\20\n"
          ]
        }
      ],
      "metadata": {
        "colab": {
          "base_uri": "https://localhost:8080/"
        },
        "id": "_SQvSTVWbTrf",
        "outputId": "0f3b885f-0f94-4aa4-c95d-4ae14718530f"
      }
    },
    {
      "cell_type": "code",
      "execution_count": 10,
      "source": [
        "print(a)\n",
        "print(b)"
      ],
      "outputs": [
        {
          "output_type": "stream",
          "name": "stdout",
          "text": [
            "10\n",
            "20\n"
          ]
        }
      ],
      "metadata": {
        "colab": {
          "base_uri": "https://localhost:8080/"
        },
        "id": "lt8CnjDFb2dx",
        "outputId": "bfb42b50-cba5-4933-f23f-3222c782652b"
      }
    },
    {
      "cell_type": "code",
      "execution_count": 11,
      "source": [
        "print(a, end= ' ')    # 적절하게 출력값을 정리할 수 있다\n",
        "print(b)"
      ],
      "outputs": [
        {
          "output_type": "stream",
          "name": "stdout",
          "text": [
            "10 20\n"
          ]
        }
      ],
      "metadata": {
        "colab": {
          "base_uri": "https://localhost:8080/"
        },
        "id": "u6kc8rYbcooS",
        "outputId": "5d26b659-a376-4b16-d8c2-d56171d3f4da"
      }
    },
    {
      "cell_type": "code",
      "execution_count": 12,
      "source": [
        "for i in range (0,5):\n",
        "  print(i, end=' ')"
      ],
      "outputs": [
        {
          "output_type": "stream",
          "name": "stdout",
          "text": [
            "0 1 2 3 4 "
          ]
        }
      ],
      "metadata": {
        "colab": {
          "base_uri": "https://localhost:8080/"
        },
        "id": "OxzTOIF0cr4J",
        "outputId": "ba1f7135-f30c-497c-d7df-2ef086635fc4"
      }
    }
  ]
}