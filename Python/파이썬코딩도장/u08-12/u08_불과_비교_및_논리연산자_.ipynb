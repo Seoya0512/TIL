{
  "nbformat": 4,
  "nbformat_minor": 2,
  "metadata": {
    "colab": {
      "name": "u08_불과 비교 및 논리연산자 .ipynb",
      "provenance": [],
      "collapsed_sections": []
    },
    "kernelspec": {
      "name": "python3",
      "display_name": "Python 3"
    },
    "language_info": {
      "name": "python"
    }
  },
  "cells": [
    {
      "cell_type": "markdown",
      "source": [
        "# Unit 8. 불과 비교/논리 연산자"
      ],
      "metadata": {
        "id": "DT9-MYhoekKv"
      }
    },
    {
      "cell_type": "markdown",
      "source": [
        "## 8.1 불(Bool)과 비교연산자\n",
        "- 불(Bool) : 참과 거짓"
      ],
      "metadata": {
        "id": "eBA5t5rtepmn"
      }
    },
    {
      "cell_type": "code",
      "execution_count": 1,
      "source": [
        "True, False"
      ],
      "outputs": [
        {
          "output_type": "execute_result",
          "data": {
            "text/plain": [
              "(True, False)"
            ]
          },
          "metadata": {
            "tags": []
          },
          "execution_count": 1
        }
      ],
      "metadata": {
        "colab": {
          "base_uri": "https://localhost:8080/"
        },
        "id": "H6_mzk6oei0U",
        "outputId": "63fe7cec-1c99-4bfb-b56b-bdb10431f61d"
      }
    },
    {
      "cell_type": "code",
      "execution_count": 2,
      "source": [
        "# >, >= , <, <=, ==, != \n",
        "\n",
        "10 >= 5"
      ],
      "outputs": [
        {
          "output_type": "execute_result",
          "data": {
            "text/plain": [
              "True"
            ]
          },
          "metadata": {
            "tags": []
          },
          "execution_count": 2
        }
      ],
      "metadata": {
        "colab": {
          "base_uri": "https://localhost:8080/"
        },
        "id": "PZZwb-Ove7Fu",
        "outputId": "49363298-6737-40ab-f242-1933f2e1e6a0"
      }
    },
    {
      "cell_type": "code",
      "execution_count": 3,
      "source": [
        "a= 10 != 5\n",
        "a"
      ],
      "outputs": [
        {
          "output_type": "execute_result",
          "data": {
            "text/plain": [
              "True"
            ]
          },
          "metadata": {
            "tags": []
          },
          "execution_count": 3
        }
      ],
      "metadata": {
        "colab": {
          "base_uri": "https://localhost:8080/"
        },
        "id": "EqNqZQ9ofxzA",
        "outputId": "28be15a7-1a2d-43ef-c1ea-143f12a0ac42"
      }
    },
    {
      "cell_type": "code",
      "execution_count": 4,
      "source": [
        "'Python' == 'python'"
      ],
      "outputs": [
        {
          "output_type": "execute_result",
          "data": {
            "text/plain": [
              "False"
            ]
          },
          "metadata": {
            "tags": []
          },
          "execution_count": 4
        }
      ],
      "metadata": {
        "colab": {
          "base_uri": "https://localhost:8080/"
        },
        "id": "oWdg_KyPgEIW",
        "outputId": "b14775dd-6f7e-4cc6-eed7-50c7b6e7c810"
      }
    },
    {
      "cell_type": "markdown",
      "source": [
        "## 8.2 논리연산자\n",
        "- and, or, not"
      ],
      "metadata": {
        "id": "7e5xPaoygn-O"
      }
    },
    {
      "cell_type": "code",
      "execution_count": 5,
      "source": [
        "not True and False or not False"
      ],
      "outputs": [
        {
          "output_type": "execute_result",
          "data": {
            "text/plain": [
              "True"
            ]
          },
          "metadata": {
            "tags": []
          },
          "execution_count": 5
        }
      ],
      "metadata": {
        "colab": {
          "base_uri": "https://localhost:8080/"
        },
        "id": "ALlmhWn0gM5U",
        "outputId": "ee95ef78-f408-4b4f-ea28-2b726e742905"
      }
    },
    {
      "cell_type": "code",
      "execution_count": 6,
      "source": [
        "((not True) and False) or not False"
      ],
      "outputs": [
        {
          "output_type": "execute_result",
          "data": {
            "text/plain": [
              "True"
            ]
          },
          "metadata": {
            "tags": []
          },
          "execution_count": 6
        }
      ],
      "metadata": {
        "colab": {
          "base_uri": "https://localhost:8080/"
        },
        "id": "_TKKd-7QkDAE",
        "outputId": "a46e2a0c-3b58-4c77-edf8-0b9dde5fc3fc"
      }
    },
    {
      "cell_type": "code",
      "execution_count": 7,
      "source": [
        "# x > 10, x < 5\n",
        "\n",
        "x = 6\n",
        "x > 10 or x <5"
      ],
      "outputs": [
        {
          "output_type": "execute_result",
          "data": {
            "text/plain": [
              "False"
            ]
          },
          "metadata": {
            "tags": []
          },
          "execution_count": 7
        }
      ],
      "metadata": {
        "colab": {
          "base_uri": "https://localhost:8080/"
        },
        "id": "LyvEaagIkP5L",
        "outputId": "417deb3f-6a6a-431e-bb21-0871383f6751"
      }
    },
    {
      "cell_type": "code",
      "execution_count": 10,
      "source": [
        "# 5 < x < 10\n",
        "\n",
        "x = 6 \n",
        "x > 5 and x < 10"
      ],
      "outputs": [
        {
          "output_type": "execute_result",
          "data": {
            "text/plain": [
              "True"
            ]
          },
          "metadata": {
            "tags": []
          },
          "execution_count": 10
        }
      ],
      "metadata": {
        "colab": {
          "base_uri": "https://localhost:8080/"
        },
        "id": "ECh5cvMhki0r",
        "outputId": "eb6d41d1-99e6-4e3f-88f7-8cf5e6b52699"
      }
    },
    {
      "cell_type": "code",
      "execution_count": 12,
      "source": [
        "# 파이썬에서만 쓸 수 있는 표현\n",
        "5 < x < 10"
      ],
      "outputs": [
        {
          "output_type": "execute_result",
          "data": {
            "text/plain": [
              "True"
            ]
          },
          "metadata": {
            "tags": []
          },
          "execution_count": 12
        }
      ],
      "metadata": {
        "colab": {
          "base_uri": "https://localhost:8080/"
        },
        "id": "NC8sAIKPktWu",
        "outputId": "dd0df2c3-32b4-4474-f0e8-92871eecb8a1"
      }
    },
    {
      "cell_type": "markdown",
      "source": [
        "### 정수, 실수, 문자열 (많이 사용됨)\n"
      ],
      "metadata": {
        "id": "FkIj3Cs-lGcO"
      }
    },
    {
      "cell_type": "code",
      "execution_count": 19,
      "source": [
        "# 정수\n",
        "bool(0), bool(1), bool(5)"
      ],
      "outputs": [
        {
          "output_type": "execute_result",
          "data": {
            "text/plain": [
              "(False, True, True)"
            ]
          },
          "metadata": {
            "tags": []
          },
          "execution_count": 19
        }
      ],
      "metadata": {
        "colab": {
          "base_uri": "https://localhost:8080/"
        },
        "id": "dw_63pRmk2wV",
        "outputId": "42531f12-0bb5-4e6b-c74d-335455533fc7"
      }
    },
    {
      "cell_type": "code",
      "execution_count": 17,
      "source": [
        "# 실수\n",
        "bool(0.0), bool(1.), bool(-4.)"
      ],
      "outputs": [
        {
          "output_type": "execute_result",
          "data": {
            "text/plain": [
              "(False, True, True)"
            ]
          },
          "metadata": {
            "tags": []
          },
          "execution_count": 17
        }
      ],
      "metadata": {
        "colab": {
          "base_uri": "https://localhost:8080/"
        },
        "id": "5Zza2VuPlRD1",
        "outputId": "fc0a4fe7-7bf3-4439-b337-74498a367d40"
      }
    },
    {
      "cell_type": "code",
      "execution_count": 20,
      "source": [
        "# 문자열 \n",
        "bool('') , bool('s')"
      ],
      "outputs": [
        {
          "output_type": "execute_result",
          "data": {
            "text/plain": [
              "(False, True)"
            ]
          },
          "metadata": {
            "tags": []
          },
          "execution_count": 20
        }
      ],
      "metadata": {
        "colab": {
          "base_uri": "https://localhost:8080/"
        },
        "id": "HzBRM3_6lTOr",
        "outputId": "e068ed25-03eb-4f5c-98cb-3ac5ebd134f8"
      }
    },
    {
      "cell_type": "code",
      "execution_count": 21,
      "source": [
        "if 4:\n",
        "  print('4 is Ture')"
      ],
      "outputs": [
        {
          "output_type": "stream",
          "name": "stdout",
          "text": [
            "4 is Ture\n"
          ]
        }
      ],
      "metadata": {
        "colab": {
          "base_uri": "https://localhost:8080/"
        },
        "id": "jhV2ds44lqLm",
        "outputId": "59542a13-e127-4238-9358-c292b99c22a7"
      }
    },
    {
      "cell_type": "code",
      "execution_count": 23,
      "source": [
        "int(True), int(False)"
      ],
      "outputs": [
        {
          "output_type": "execute_result",
          "data": {
            "text/plain": [
              "(1, 0)"
            ]
          },
          "metadata": {
            "tags": []
          },
          "execution_count": 23
        }
      ],
      "metadata": {
        "colab": {
          "base_uri": "https://localhost:8080/"
        },
        "id": "-12Wc04hlzGL",
        "outputId": "f2e5e52b-541f-4fbc-cd7c-c6171ed2283d"
      }
    },
    {
      "cell_type": "markdown",
      "source": [
        "### Short-circuit evaluation"
      ],
      "metadata": {
        "id": "mi8ksiZBmpYd"
      }
    },
    {
      "cell_type": "code",
      "execution_count": 24,
      "source": [
        "# 앞에 값이 true인 경우\n",
        "1 or 'python'"
      ],
      "outputs": [
        {
          "output_type": "execute_result",
          "data": {
            "text/plain": [
              "1"
            ]
          },
          "metadata": {
            "tags": []
          },
          "execution_count": 24
        }
      ],
      "metadata": {
        "colab": {
          "base_uri": "https://localhost:8080/"
        },
        "id": "9JCnLidkl_Jb",
        "outputId": "8c1d3202-6fea-40a1-85ae-405a1c7651a8"
      }
    },
    {
      "cell_type": "code",
      "execution_count": 26,
      "source": [
        "# 앞에 값이 False 인 경우\n",
        "0 or 'python'"
      ],
      "outputs": [
        {
          "output_type": "execute_result",
          "data": {
            "text/plain": [
              "'python'"
            ],
            "application/vnd.google.colaboratory.intrinsic+json": {
              "type": "string"
            }
          },
          "metadata": {
            "tags": []
          },
          "execution_count": 26
        }
      ],
      "metadata": {
        "colab": {
          "base_uri": "https://localhost:8080/",
          "height": 35
        },
        "id": "k6m3guNomTXi",
        "outputId": "41bcb001-77a3-4ab3-a367-26cbc9b7ece5"
      }
    },
    {
      "cell_type": "code",
      "execution_count": 27,
      "source": [
        "1 and 'python'"
      ],
      "outputs": [
        {
          "output_type": "execute_result",
          "data": {
            "text/plain": [
              "'python'"
            ],
            "application/vnd.google.colaboratory.intrinsic+json": {
              "type": "string"
            }
          },
          "metadata": {
            "tags": []
          },
          "execution_count": 27
        }
      ],
      "metadata": {
        "colab": {
          "base_uri": "https://localhost:8080/",
          "height": 35
        },
        "id": "CvwItziAmVAW",
        "outputId": "f9452af3-3469-42d0-8886-f7343dbc4a9b"
      }
    },
    {
      "cell_type": "code",
      "execution_count": 28,
      "source": [
        "0 and 'python'"
      ],
      "outputs": [
        {
          "output_type": "execute_result",
          "data": {
            "text/plain": [
              "0"
            ]
          },
          "metadata": {
            "tags": []
          },
          "execution_count": 28
        }
      ],
      "metadata": {
        "colab": {
          "base_uri": "https://localhost:8080/"
        },
        "id": "gf6yQUIGmgKa",
        "outputId": "5da13f11-16d3-47d6-eced-7597a44c176a"
      }
    }
  ]
}