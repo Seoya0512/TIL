{
  "nbformat": 4,
  "nbformat_minor": 0,
  "metadata": {
    "colab": {
      "name": "u09 문자열.ipynb",
      "provenance": [],
      "collapsed_sections": []
    },
    "kernelspec": {
      "name": "python3",
      "display_name": "Python 3"
    },
    "language_info": {
      "name": "python"
    }
  },
  "cells": [
    {
      "cell_type": "markdown",
      "metadata": {
        "id": "90C2vVZpcP_M"
      },
      "source": [
        "# Unit.9 문자열"
      ]
    },
    {
      "cell_type": "code",
      "metadata": {
        "colab": {
          "base_uri": "https://localhost:8080/"
        },
        "id": "8Wg31JcScNHQ",
        "outputId": "3bd7751e-9070-4202-ad14-a79b1bd5c33a"
      },
      "source": [
        "hello = 'Hello, world!'\n",
        "hello2=\"Hello, wolrd!\"\n",
        "hello, hello2"
      ],
      "execution_count": 2,
      "outputs": [
        {
          "output_type": "execute_result",
          "data": {
            "text/plain": [
              "('Hello, world!', 'Hello, wolrd!')"
            ]
          },
          "metadata": {
            "tags": []
          },
          "execution_count": 2
        }
      ]
    },
    {
      "cell_type": "code",
      "metadata": {
        "colab": {
          "base_uri": "https://localhost:8080/"
        },
        "id": "SLahbnOGc7QX",
        "outputId": "d0313d32-2f1d-44a7-b047-444db2b5f676"
      },
      "source": [
        "multiline='''Hello, world!\n",
        "안녕하세요. \n",
        "Python입니다.'''\n",
        "\n",
        "multiline\n",
        "print(multiline)      #출력을 원할시 반드시 print 사용해야함 "
      ],
      "execution_count": 12,
      "outputs": [
        {
          "output_type": "stream",
          "text": [
            "Hello, world!\n",
            "안녕하세요. \n",
            "Python입니다.\n"
          ],
          "name": "stdout"
        }
      ]
    },
    {
      "cell_type": "code",
      "metadata": {
        "colab": {
          "base_uri": "https://localhost:8080/",
          "height": 35
        },
        "id": "DYrhXndRdeR8",
        "outputId": "c62097cd-cc2e-471c-ff2f-15dd32cf81c3"
      },
      "source": [
        "multi= 'Hello! \\nWorld!'\n",
        "multi"
      ],
      "execution_count": 10,
      "outputs": [
        {
          "output_type": "execute_result",
          "data": {
            "application/vnd.google.colaboratory.intrinsic+json": {
              "type": "string"
            },
            "text/plain": [
              "'Hello! \\nWorld!'"
            ]
          },
          "metadata": {
            "tags": []
          },
          "execution_count": 10
        }
      ]
    },
    {
      "cell_type": "code",
      "metadata": {
        "colab": {
          "base_uri": "https://localhost:8080/"
        },
        "id": "MLjj832Pdypg",
        "outputId": "a496b4a2-07c9-46c7-c84f-7f10ca760cec"
      },
      "source": [
        "print(multi)"
      ],
      "execution_count": 11,
      "outputs": [
        {
          "output_type": "stream",
          "text": [
            "Hello! \n",
            "World!\n"
          ],
          "name": "stdout"
        }
      ]
    },
    {
      "cell_type": "code",
      "metadata": {
        "colab": {
          "base_uri": "https://localhost:8080/",
          "height": 35
        },
        "id": "OVVZNoHWd25a",
        "outputId": "0b4e17cc-58b5-4584-c504-aad1b0bab2db"
      },
      "source": [
        "# 문자열 안에 작은 따옴표나 큰따옴표 포함하기\n",
        "\n",
        "s =\"Python isn't difficult.\"\n",
        "s"
      ],
      "execution_count": 16,
      "outputs": [
        {
          "output_type": "execute_result",
          "data": {
            "application/vnd.google.colaboratory.intrinsic+json": {
              "type": "string"
            },
            "text/plain": [
              "\"Python isn't difficult.\""
            ]
          },
          "metadata": {
            "tags": []
          },
          "execution_count": 16
        }
      ]
    },
    {
      "cell_type": "code",
      "metadata": {
        "colab": {
          "base_uri": "https://localhost:8080/",
          "height": 35
        },
        "id": "O_kyHjnOeijz",
        "outputId": "e544907f-6644-41bd-c6b0-fad5724e7b1b"
      },
      "source": [
        "s= 'Alice said \"I love you\"'\n",
        "s"
      ],
      "execution_count": 17,
      "outputs": [
        {
          "output_type": "execute_result",
          "data": {
            "application/vnd.google.colaboratory.intrinsic+json": {
              "type": "string"
            },
            "text/plain": [
              "'Alice said \"I love you\"'"
            ]
          },
          "metadata": {
            "tags": []
          },
          "execution_count": 17
        }
      ]
    },
    {
      "cell_type": "code",
      "metadata": {
        "colab": {
          "base_uri": "https://localhost:8080/",
          "height": 35
        },
        "id": "KPfr5QEJetGG",
        "outputId": "2b7729bd-13b0-4b83-9da0-f34576e08404"
      },
      "source": [
        "s ='Python isn\\'t difficult.'   # \\(역슬래시) 사용해서 문장 안의 '를 무력화 시킨다.\n",
        "s"
      ],
      "execution_count": 21,
      "outputs": [
        {
          "output_type": "execute_result",
          "data": {
            "application/vnd.google.colaboratory.intrinsic+json": {
              "type": "string"
            },
            "text/plain": [
              "\"Python isn't difficult.\""
            ]
          },
          "metadata": {
            "tags": []
          },
          "execution_count": 21
        }
      ]
    },
    {
      "cell_type": "code",
      "metadata": {
        "id": "KRo0OH1Te7Xh"
      },
      "source": [
        ""
      ],
      "execution_count": null,
      "outputs": []
    }
  ]
}