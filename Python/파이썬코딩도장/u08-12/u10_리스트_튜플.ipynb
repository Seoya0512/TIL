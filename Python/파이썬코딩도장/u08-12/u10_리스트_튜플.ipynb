{
  "nbformat": 4,
  "nbformat_minor": 0,
  "metadata": {
    "colab": {
      "name": "u10_리스트_튜플.ipynb",
      "provenance": [],
      "collapsed_sections": []
    },
    "kernelspec": {
      "name": "python3",
      "display_name": "Python 3"
    },
    "language_info": {
      "name": "python"
    }
  },
  "cells": [
    {
      "cell_type": "markdown",
      "metadata": {
        "id": "6-lTJstbgl83"
      },
      "source": [
        "# Unit 10. 리스트와 튜플"
      ]
    },
    {
      "cell_type": "markdown",
      "metadata": {
        "id": "8-KTm72fiFSU"
      },
      "source": [
        "## 10.1 리스트 (List)"
      ]
    },
    {
      "cell_type": "code",
      "metadata": {
        "colab": {
          "base_uri": "https://localhost:8080/"
        },
        "id": "mr5UtHPDghSq",
        "outputId": "8f4e9ba7-21d9-4491-a64c-d54bf92b641b"
      },
      "source": [
        "a = [ 38, 21,53,62, 19]\n",
        "a"
      ],
      "execution_count": 1,
      "outputs": [
        {
          "output_type": "execute_result",
          "data": {
            "text/plain": [
              "[38, 21, 53, 62, 19]"
            ]
          },
          "metadata": {
            "tags": []
          },
          "execution_count": 1
        }
      ]
    },
    {
      "cell_type": "code",
      "metadata": {
        "colab": {
          "base_uri": "https://localhost:8080/"
        },
        "id": "rTFRyo5BiMq2",
        "outputId": "281c8c8c-05c4-49d4-8071-ac375266f8f5"
      },
      "source": [
        "# 파이썬에서 리스트를 저장할때, 리스트 요소(List element)가 다른 자료형도 가능\n",
        "person = ['James', 19, 175.4, True, [210, 80]]\n",
        "person"
      ],
      "execution_count": 3,
      "outputs": [
        {
          "output_type": "execute_result",
          "data": {
            "text/plain": [
              "['James', 19, 175.4, True, [210, 80]]"
            ]
          },
          "metadata": {
            "tags": []
          },
          "execution_count": 3
        }
      ]
    },
    {
      "cell_type": "code",
      "metadata": {
        "colab": {
          "base_uri": "https://localhost:8080/"
        },
        "id": "GG3FpmRTijF-",
        "outputId": "2fd75ac9-d1c6-4082-e428-4cb49cc38391"
      },
      "source": [
        "#위의 person과 같이 여러 자료형을 함께 넣을때는 dictionary 유형을 쓰는 것을 권장\n",
        "\n",
        "person_dict = {'name':'james', 'age':19, 'height':175.4, \n",
        "               'is_male':True, 'bp': [120, 80]}           #dictionary는 순서가 보장되지 않음\n",
        "person_dict"
      ],
      "execution_count": 6,
      "outputs": [
        {
          "output_type": "execute_result",
          "data": {
            "text/plain": [
              "{'age': 19, 'bp': [120, 80], 'height': 175.4, 'is_male': True, 'name': 'james'}"
            ]
          },
          "metadata": {
            "tags": []
          },
          "execution_count": 6
        }
      ]
    },
    {
      "cell_type": "markdown",
      "metadata": {
        "id": "xcEMPk6Wjy4j"
      },
      "source": [
        "### 빈 리스트 만들기"
      ]
    },
    {
      "cell_type": "code",
      "metadata": {
        "colab": {
          "base_uri": "https://localhost:8080/"
        },
        "id": "tFi_J2JhjOcZ",
        "outputId": "6571d53b-32f9-46e0-bd32-2925d23662f4"
      },
      "source": [
        "a = []\n",
        "b= list()\n",
        "a,b"
      ],
      "execution_count": 7,
      "outputs": [
        {
          "output_type": "execute_result",
          "data": {
            "text/plain": [
              "([], [])"
            ]
          },
          "metadata": {
            "tags": []
          },
          "execution_count": 7
        }
      ]
    },
    {
      "cell_type": "code",
      "metadata": {
        "id": "kbm1LAPbj7vA"
      },
      "source": [
        "a, b = [], []"
      ],
      "execution_count": 8,
      "outputs": []
    },
    {
      "cell_type": "markdown",
      "metadata": {
        "id": "rOl51F57kXNg"
      },
      "source": [
        "### range\n",
        "- 연속된 숫자를 생성, 범위를 지정\n",
        "- range([시작숫자,] 끝나는 숫자+1)\n",
        "- range([시작숫자,] 끝나는 숫자+1, [증가폭])\n",
        "- 시작 숫자를 정하지 않은 경우 : 0 으로 시작함"
      ]
    },
    {
      "cell_type": "code",
      "metadata": {
        "colab": {
          "base_uri": "https://localhost:8080/"
        },
        "id": "WebrM4qekQhv",
        "outputId": "548de74a-4176-4713-bf93-118dc0473b05"
      },
      "source": [
        "a= range(10)\n",
        "a"
      ],
      "execution_count": 9,
      "outputs": [
        {
          "output_type": "execute_result",
          "data": {
            "text/plain": [
              "range(0, 10)"
            ]
          },
          "metadata": {
            "tags": []
          },
          "execution_count": 9
        }
      ]
    },
    {
      "cell_type": "code",
      "metadata": {
        "colab": {
          "base_uri": "https://localhost:8080/"
        },
        "id": "fkaeLudqlDyM",
        "outputId": "346e8ff6-3e77-4428-b713-1e8100c251f6"
      },
      "source": [
        "list(a)"
      ],
      "execution_count": 10,
      "outputs": [
        {
          "output_type": "execute_result",
          "data": {
            "text/plain": [
              "[0, 1, 2, 3, 4, 5, 6, 7, 8, 9]"
            ]
          },
          "metadata": {
            "tags": []
          },
          "execution_count": 10
        }
      ]
    },
    {
      "cell_type": "code",
      "metadata": {
        "colab": {
          "base_uri": "https://localhost:8080/"
        },
        "id": "-IGkYsZglE_F",
        "outputId": "15f57256-f7ea-4d99-e7a0-cbbd582d7f25"
      },
      "source": [
        "list(range(1,11))"
      ],
      "execution_count": 11,
      "outputs": [
        {
          "output_type": "execute_result",
          "data": {
            "text/plain": [
              "[1, 2, 3, 4, 5, 6, 7, 8, 9, 10]"
            ]
          },
          "metadata": {
            "tags": []
          },
          "execution_count": 11
        }
      ]
    },
    {
      "cell_type": "code",
      "metadata": {
        "colab": {
          "base_uri": "https://localhost:8080/"
        },
        "id": "53dCJLPzlS7x",
        "outputId": "8d83121d-444b-461a-81a3-1d57e4a200cd"
      },
      "source": [
        "# 1~10까지 홀수\n",
        "list(range(1,10,2))"
      ],
      "execution_count": 12,
      "outputs": [
        {
          "output_type": "execute_result",
          "data": {
            "text/plain": [
              "[1, 3, 5, 7, 9]"
            ]
          },
          "metadata": {
            "tags": []
          },
          "execution_count": 12
        }
      ]
    },
    {
      "cell_type": "code",
      "metadata": {
        "colab": {
          "base_uri": "https://localhost:8080/"
        },
        "id": "i-aOEf2ylqs0",
        "outputId": "88d9bad1-0381-4ee8-b9d5-91550a9ef493"
      },
      "source": [
        "# 2~ 10까지 짝수\n",
        "list(range(2,11,2))"
      ],
      "execution_count": 13,
      "outputs": [
        {
          "output_type": "execute_result",
          "data": {
            "text/plain": [
              "[2, 4, 6, 8, 10]"
            ]
          },
          "metadata": {
            "tags": []
          },
          "execution_count": 13
        }
      ]
    },
    {
      "cell_type": "code",
      "metadata": {
        "colab": {
          "base_uri": "https://localhost:8080/"
        },
        "id": "Rky80pgVlwgI",
        "outputId": "e194657a-e476-44b0-f142-525d6db7361b"
      },
      "source": [
        "#증가폭을 음수로 지정하면 해당 값 만큼 숫자가 감소함\n",
        "\n",
        "list(range(10,0,-1))"
      ],
      "execution_count": 15,
      "outputs": [
        {
          "output_type": "execute_result",
          "data": {
            "text/plain": [
              "[10, 9, 8, 7, 6, 5, 4, 3, 2, 1]"
            ]
          },
          "metadata": {
            "tags": []
          },
          "execution_count": 15
        }
      ]
    },
    {
      "cell_type": "markdown",
      "metadata": {
        "id": "bJgo40Awor8i"
      },
      "source": [
        "## 10.2 튜플(tuple)\n",
        "- 안에 저장된 요소를 변경, 추가, 삭제 할 수 없다 **\n",
        "- Read-only 특성 (변경 불가)"
      ]
    },
    {
      "cell_type": "code",
      "metadata": {
        "colab": {
          "base_uri": "https://localhost:8080/"
        },
        "id": "EA3wPJbAobsc",
        "outputId": "e3212131-be1d-483e-f3b7-57204df4c2fa"
      },
      "source": [
        "a=(38, 21,47)\n",
        "a"
      ],
      "execution_count": 17,
      "outputs": [
        {
          "output_type": "execute_result",
          "data": {
            "text/plain": [
              "(38, 21, 47)"
            ]
          },
          "metadata": {
            "tags": []
          },
          "execution_count": 17
        }
      ]
    },
    {
      "cell_type": "code",
      "metadata": {
        "colab": {
          "base_uri": "https://localhost:8080/"
        },
        "id": "taPSrS7po7A5",
        "outputId": "50d19fe3-050b-4c66-a971-20fd5aa05a30"
      },
      "source": [
        "# 괄호가 없어도 tuple\n",
        "\n",
        "a= 38,21,47\n",
        "a"
      ],
      "execution_count": 35,
      "outputs": [
        {
          "output_type": "execute_result",
          "data": {
            "text/plain": [
              "(38, 21, 47)"
            ]
          },
          "metadata": {
            "tags": []
          },
          "execution_count": 35
        }
      ]
    },
    {
      "cell_type": "code",
      "metadata": {
        "colab": {
          "base_uri": "https://localhost:8080/"
        },
        "id": "JXs5z9ZCo-Bf",
        "outputId": "2359d4b2-0e51-413b-edb0-cd8730b6f845"
      },
      "source": [
        "#list와 마찬가지로 여러 자료형을 섞어서 저장 가능\n",
        "\n",
        "person = ('James', 19, 175.4, True, [210, 80])\n",
        "person"
      ],
      "execution_count": 21,
      "outputs": [
        {
          "output_type": "execute_result",
          "data": {
            "text/plain": [
              "('James', 19, 175.4, True, [210, 80])"
            ]
          },
          "metadata": {
            "tags": []
          },
          "execution_count": 21
        }
      ]
    },
    {
      "cell_type": "code",
      "metadata": {
        "colab": {
          "base_uri": "https://localhost:8080/"
        },
        "id": "aU59pQXrpPvz",
        "outputId": "aa4962af-7d95-46f3-88a8-17da9acb3b88"
      },
      "source": [
        "a = tuple()\n",
        "a"
      ],
      "execution_count": 22,
      "outputs": [
        {
          "output_type": "execute_result",
          "data": {
            "text/plain": [
              "()"
            ]
          },
          "metadata": {
            "tags": []
          },
          "execution_count": 22
        }
      ]
    },
    {
      "cell_type": "code",
      "metadata": {
        "colab": {
          "base_uri": "https://localhost:8080/"
        },
        "id": "K0BzztyIp-9J",
        "outputId": "9d398796-1b96-4aba-ea95-3417ceb52973"
      },
      "source": [
        "# scalar (sigle element) 값\n",
        "a = (38)\n",
        "a"
      ],
      "execution_count": 23,
      "outputs": [
        {
          "output_type": "execute_result",
          "data": {
            "text/plain": [
              "38"
            ]
          },
          "metadata": {
            "tags": []
          },
          "execution_count": 23
        }
      ]
    },
    {
      "cell_type": "code",
      "metadata": {
        "colab": {
          "base_uri": "https://localhost:8080/"
        },
        "id": "C-zoD66MqOIK",
        "outputId": "ddaf9511-71d7-4773-cba8-bd0786d46636"
      },
      "source": [
        "# tuple로 출력하기 위해서는 ,(콤마)를 함께 사용해서 출력\n",
        "a= (38,)\n",
        "a"
      ],
      "execution_count": 24,
      "outputs": [
        {
          "output_type": "execute_result",
          "data": {
            "text/plain": [
              "(38,)"
            ]
          },
          "metadata": {
            "tags": []
          },
          "execution_count": 24
        }
      ]
    },
    {
      "cell_type": "code",
      "metadata": {
        "colab": {
          "base_uri": "https://localhost:8080/"
        },
        "id": "czXh8LRzqWxx",
        "outputId": "deb75158-e387-4d42-e7ce-48c9d01b87a2"
      },
      "source": [
        "tuple(range(5))"
      ],
      "execution_count": 25,
      "outputs": [
        {
          "output_type": "execute_result",
          "data": {
            "text/plain": [
              "(0, 1, 2, 3, 4)"
            ]
          },
          "metadata": {
            "tags": []
          },
          "execution_count": 25
        }
      ]
    },
    {
      "cell_type": "markdown",
      "metadata": {
        "id": "Gup0VPUTqzTB"
      },
      "source": [
        "### 리스트 < -- > 튜플"
      ]
    },
    {
      "cell_type": "code",
      "metadata": {
        "colab": {
          "base_uri": "https://localhost:8080/"
        },
        "id": "j07SFCMnqu4Y",
        "outputId": "bcb37c29-ff59-4272-e359-3bfa1db95f5e"
      },
      "source": [
        "a = [1, 3, 4]\n",
        "b= tuple(a)\n",
        "b"
      ],
      "execution_count": 26,
      "outputs": [
        {
          "output_type": "execute_result",
          "data": {
            "text/plain": [
              "(1, 3, 4)"
            ]
          },
          "metadata": {
            "tags": []
          },
          "execution_count": 26
        }
      ]
    },
    {
      "cell_type": "code",
      "metadata": {
        "colab": {
          "base_uri": "https://localhost:8080/"
        },
        "id": "VXa3XFwZrFPx",
        "outputId": "43581508-1f28-4e2e-aff2-f10dee32c0b7"
      },
      "source": [
        "c= list(b)\n",
        "c"
      ],
      "execution_count": 27,
      "outputs": [
        {
          "output_type": "execute_result",
          "data": {
            "text/plain": [
              "[1, 3, 4]"
            ]
          },
          "metadata": {
            "tags": []
          },
          "execution_count": 27
        }
      ]
    },
    {
      "cell_type": "markdown",
      "metadata": {
        "id": "ifW-qK8erc8u"
      },
      "source": [
        "### 문자열"
      ]
    },
    {
      "cell_type": "code",
      "metadata": {
        "colab": {
          "base_uri": "https://localhost:8080/"
        },
        "id": "tA2cSQk8rLcV",
        "outputId": "457d3c35-e581-45b1-f35b-dfa6d3739ebd"
      },
      "source": [
        "# 문자 하나 하나가 리스트, 튜플의 요소로 들어가서 만들어짐\n",
        "tuple('Hello')"
      ],
      "execution_count": 29,
      "outputs": [
        {
          "output_type": "execute_result",
          "data": {
            "text/plain": [
              "('H', 'e', 'l', 'l', 'o')"
            ]
          },
          "metadata": {
            "tags": []
          },
          "execution_count": 29
        }
      ]
    },
    {
      "cell_type": "code",
      "metadata": {
        "colab": {
          "base_uri": "https://localhost:8080/"
        },
        "id": "nxl8LcdCrYrB",
        "outputId": "ad8e1b40-025e-4595-efa4-5fe8ea35907a"
      },
      "source": [
        "list('안녕하세요')"
      ],
      "execution_count": 30,
      "outputs": [
        {
          "output_type": "execute_result",
          "data": {
            "text/plain": [
              "['안', '녕', '하', '세', '요']"
            ]
          },
          "metadata": {
            "tags": []
          },
          "execution_count": 30
        }
      ]
    },
    {
      "cell_type": "markdown",
      "metadata": {
        "id": "l8IhWuyIr4Or"
      },
      "source": [
        "### 언팩킹(Unpacking)"
      ]
    },
    {
      "cell_type": "code",
      "metadata": {
        "colab": {
          "base_uri": "https://localhost:8080/"
        },
        "id": "RYRpjj4zrrrU",
        "outputId": "4b25c401-2f9e-4ca7-c0ae-4789c619c08f"
      },
      "source": [
        "# tuple element의 개수와 변수의 개수가 동일하면 unpacking 가능\n",
        "a= (1,3,4)\n",
        "x,y,z =a\n",
        "x,y,z"
      ],
      "execution_count": 33,
      "outputs": [
        {
          "output_type": "execute_result",
          "data": {
            "text/plain": [
              "(1, 3, 4)"
            ]
          },
          "metadata": {
            "tags": []
          },
          "execution_count": 33
        }
      ]
    },
    {
      "cell_type": "code",
      "metadata": {
        "colab": {
          "base_uri": "https://localhost:8080/"
        },
        "id": "7BhPZvkGsFje",
        "outputId": "fcd1e4d5-3daf-49f6-d892-b3b75408f8f8"
      },
      "source": [
        "# list unpacking\n",
        "x,y,z = [1,3,5]\n",
        "x,y,z"
      ],
      "execution_count": 34,
      "outputs": [
        {
          "output_type": "execute_result",
          "data": {
            "text/plain": [
              "(1, 3, 5)"
            ]
          },
          "metadata": {
            "tags": []
          },
          "execution_count": 34
        }
      ]
    }
  ]
}