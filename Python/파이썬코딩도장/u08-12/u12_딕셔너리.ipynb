{
  "nbformat": 4,
  "nbformat_minor": 0,
  "metadata": {
    "colab": {
      "name": "u12 딕셔너리.ipynb",
      "provenance": [],
      "collapsed_sections": []
    },
    "kernelspec": {
      "name": "python3",
      "display_name": "Python 3"
    },
    "language_info": {
      "name": "python"
    }
  },
  "cells": [
    {
      "cell_type": "markdown",
      "metadata": {
        "id": "F6uoZsZERpzl"
      },
      "source": [
        "# Unit 12. 딕셔너리 (Dictionary)"
      ]
    },
    {
      "cell_type": "code",
      "metadata": {
        "id": "zBw4EWUjRi0w"
      },
      "source": [
        "lux = [490, 334, 550, 18.72]"
      ],
      "execution_count": 1,
      "outputs": []
    },
    {
      "cell_type": "code",
      "metadata": {
        "colab": {
          "base_uri": "https://localhost:8080/"
        },
        "id": "lvEHJJoWSNYG",
        "outputId": "58ed811b-6660-43f2-b545-d918df101b0c"
      },
      "source": [
        "#딕셔너리 작성 1\n",
        "lux= {\n",
        "    'health': 490,     # 체력\n",
        "    'mana': 334,       # 마력\n",
        "    'melee': 500,      # 사거리\n",
        "    'armor': 18.72     # 방어력 \n",
        "}\n",
        "lux"
      ],
      "execution_count": 3,
      "outputs": [
        {
          "output_type": "execute_result",
          "data": {
            "text/plain": [
              "{'armor': 18.72, 'health': 490, 'mana': 334, 'melee': 500}"
            ]
          },
          "metadata": {
            "tags": []
          },
          "execution_count": 3
        }
      ]
    },
    {
      "cell_type": "markdown",
      "metadata": {
        "id": "fKmYjigKSwA0"
      },
      "source": [
        "## 12.1 딕셔너리 생성\n",
        "- {key : value} , key-value pair"
      ]
    },
    {
      "cell_type": "code",
      "metadata": {
        "colab": {
          "base_uri": "https://localhost:8080/"
        },
        "id": "JMsWQujgSi6F",
        "outputId": "9ce73d84-b56f-4cfb-daf7-ff61ed62ab15"
      },
      "source": [
        "# 동일한 key 값이 나오면, 나중에 저장된 값으로 입력\n",
        "\n",
        "lux = {'health': 490, 'health': 800, 'mana': 334, 'melee': 550, 'armor': 18.72}\n",
        "lux"
      ],
      "execution_count": 5,
      "outputs": [
        {
          "output_type": "execute_result",
          "data": {
            "text/plain": [
              "{'armor': 18.72, 'health': 800, 'mana': 334, 'melee': 550}"
            ]
          },
          "metadata": {
            "tags": []
          },
          "execution_count": 5
        }
      ]
    },
    {
      "cell_type": "code",
      "metadata": {
        "colab": {
          "base_uri": "https://localhost:8080/"
        },
        "id": "8l8L0I4LTo--",
        "outputId": "ab6707b2-3973-4dea-cc11-83697bee5982"
      },
      "source": [
        "# 빈 딕셔너리 생성\n",
        "a= {}\n",
        "b= dict()\n",
        "a,b"
      ],
      "execution_count": 6,
      "outputs": [
        {
          "output_type": "execute_result",
          "data": {
            "text/plain": [
              "({}, {})"
            ]
          },
          "metadata": {
            "tags": []
          },
          "execution_count": 6
        }
      ]
    },
    {
      "cell_type": "code",
      "metadata": {
        "colab": {
          "base_uri": "https://localhost:8080/"
        },
        "id": "dX5TtQU3UCJF",
        "outputId": "9d038776-48ac-4ff2-815b-439375d33f1c"
      },
      "source": [
        "#집합\n",
        "a= set((1,2,3))\n",
        "a"
      ],
      "execution_count": 8,
      "outputs": [
        {
          "output_type": "execute_result",
          "data": {
            "text/plain": [
              "{1, 2, 3}"
            ]
          },
          "metadata": {
            "tags": []
          },
          "execution_count": 8
        }
      ]
    },
    {
      "cell_type": "code",
      "metadata": {
        "colab": {
          "base_uri": "https://localhost:8080/"
        },
        "id": "RWS2FHTaVHrI",
        "outputId": "084c511c-f907-435a-d77b-4f673de08d37"
      },
      "source": [
        "#딕셔너리 작성2\n",
        "a = ['a','b','c','d']\n",
        "b = [1,2,3,4]\n",
        "dict(zip(a,b))"
      ],
      "execution_count": 11,
      "outputs": [
        {
          "output_type": "execute_result",
          "data": {
            "text/plain": [
              "{'a': 1, 'b': 2, 'c': 3, 'd': 4}"
            ]
          },
          "metadata": {
            "tags": []
          },
          "execution_count": 11
        }
      ]
    },
    {
      "cell_type": "markdown",
      "metadata": {
        "id": "x7T9WSG7V9GI"
      },
      "source": [
        "## 12.2 딕셔너리 키에 접근하고 값 할당하기"
      ]
    },
    {
      "cell_type": "code",
      "metadata": {
        "colab": {
          "base_uri": "https://localhost:8080/"
        },
        "id": "3WBncQ0jVgCz",
        "outputId": "aa5e07ce-ff4b-424f-f8fb-94b473150c81"
      },
      "source": [
        "lux"
      ],
      "execution_count": 12,
      "outputs": [
        {
          "output_type": "execute_result",
          "data": {
            "text/plain": [
              "{'armor': 18.72, 'health': 800, 'mana': 334, 'melee': 550}"
            ]
          },
          "metadata": {
            "tags": []
          },
          "execution_count": 12
        }
      ]
    },
    {
      "cell_type": "code",
      "metadata": {
        "colab": {
          "base_uri": "https://localhost:8080/"
        },
        "id": "ux9HbEkcWDxC",
        "outputId": "0e8b5ad1-78a6-415e-b144-026e89c56a4d"
      },
      "source": [
        "lux['mana'], lux['armor']"
      ],
      "execution_count": 15,
      "outputs": [
        {
          "output_type": "execute_result",
          "data": {
            "text/plain": [
              "(334, 18.72)"
            ]
          },
          "metadata": {
            "tags": []
          },
          "execution_count": 15
        }
      ]
    },
    {
      "cell_type": "code",
      "metadata": {
        "colab": {
          "base_uri": "https://localhost:8080/"
        },
        "id": "49zgJ8x5WJzn",
        "outputId": "c2b9d074-698c-4b60-fa4a-0ab53bdcad25"
      },
      "source": [
        "# 기존 딕셔너리에 없는 새로운 키 값을 추가\n",
        "lux['new'] = 10\n",
        "lux"
      ],
      "execution_count": 17,
      "outputs": [
        {
          "output_type": "execute_result",
          "data": {
            "text/plain": [
              "{'armor': 18.72, 'health': 800, 'mana': 334, 'melee': 550, 'new': 10}"
            ]
          },
          "metadata": {
            "tags": []
          },
          "execution_count": 17
        }
      ]
    },
    {
      "cell_type": "code",
      "metadata": {
        "colab": {
          "base_uri": "https://localhost:8080/"
        },
        "id": "W0NI7PWCWOFt",
        "outputId": "4aeeccc8-837c-4114-97a0-ad47adfee324"
      },
      "source": [
        "# 기존 딕셔너리에 있는 키 값은 변경된다\n",
        "lux['mana'] = 1000\n",
        "lux"
      ],
      "execution_count": 18,
      "outputs": [
        {
          "output_type": "execute_result",
          "data": {
            "text/plain": [
              "{'armor': 18.72, 'health': 800, 'mana': 1000, 'melee': 550, 'new': 10}"
            ]
          },
          "metadata": {
            "tags": []
          },
          "execution_count": 18
        }
      ]
    },
    {
      "cell_type": "code",
      "metadata": {
        "colab": {
          "base_uri": "https://localhost:8080/"
        },
        "id": "I0E3UzwJYF1P",
        "outputId": "ebb75c83-4a94-403f-acda-741c00f79f30"
      },
      "source": [
        "'mana'in lux"
      ],
      "execution_count": 19,
      "outputs": [
        {
          "output_type": "execute_result",
          "data": {
            "text/plain": [
              "True"
            ]
          },
          "metadata": {
            "tags": []
          },
          "execution_count": 19
        }
      ]
    },
    {
      "cell_type": "code",
      "metadata": {
        "colab": {
          "base_uri": "https://localhost:8080/"
        },
        "id": "f2aa0hCLXdYB",
        "outputId": "1333c024-0584-4baf-d660-7c2e649b49cc"
      },
      "source": [
        "# 'mana'항목이 존재하면 기존 값 + 100, 없으면 값이 50이 되게 만드시오\n",
        "d = {}\n",
        "e = {}\n",
        "\n",
        "if 'mana' in e:\n",
        "  e['mana']= e['mana'] + 100\n",
        "else:\n",
        "  e['mana'] = 50\n",
        "\n",
        "e"
      ],
      "execution_count": 22,
      "outputs": [
        {
          "output_type": "execute_result",
          "data": {
            "text/plain": [
              "{'mana': 50}"
            ]
          },
          "metadata": {
            "tags": []
          },
          "execution_count": 22
        }
      ]
    },
    {
      "cell_type": "markdown",
      "metadata": {
        "id": "zajBSsFEZL5b"
      },
      "source": [
        "### 딕셔너리 키의 갯수"
      ]
    },
    {
      "cell_type": "code",
      "metadata": {
        "colab": {
          "base_uri": "https://localhost:8080/"
        },
        "id": "3G9pF2VCYud9",
        "outputId": "d426f2e3-3297-44b7-c700-bc96e15a7bbc"
      },
      "source": [
        "lux"
      ],
      "execution_count": 23,
      "outputs": [
        {
          "output_type": "execute_result",
          "data": {
            "text/plain": [
              "{'armor': 18.72, 'health': 800, 'mana': 1000, 'melee': 550, 'new': 10}"
            ]
          },
          "metadata": {
            "tags": []
          },
          "execution_count": 23
        }
      ]
    },
    {
      "cell_type": "code",
      "metadata": {
        "colab": {
          "base_uri": "https://localhost:8080/"
        },
        "id": "VGPf8S1HZR8L",
        "outputId": "c7cf25ef-2f52-42c2-d6ba-5fc16469e7ef"
      },
      "source": [
        "len(lux)"
      ],
      "execution_count": 24,
      "outputs": [
        {
          "output_type": "execute_result",
          "data": {
            "text/plain": [
              "5"
            ]
          },
          "metadata": {
            "tags": []
          },
          "execution_count": 24
        }
      ]
    },
    {
      "cell_type": "markdown",
      "metadata": {
        "id": "8mzkeqD6aAFO"
      },
      "source": [
        "### 자료형"
      ]
    },
    {
      "cell_type": "code",
      "metadata": {
        "colab": {
          "base_uri": "https://localhost:8080/"
        },
        "id": "7GZa0Zg-ZS1J",
        "outputId": "1abd8e3d-1862-4559-f05e-6da612057f4d"
      },
      "source": [
        "type(lux)"
      ],
      "execution_count": 25,
      "outputs": [
        {
          "output_type": "execute_result",
          "data": {
            "text/plain": [
              "dict"
            ]
          },
          "metadata": {
            "tags": []
          },
          "execution_count": 25
        }
      ]
    },
    {
      "cell_type": "code",
      "metadata": {
        "colab": {
          "base_uri": "https://localhost:8080/"
        },
        "id": "pgvhPnq6aDQ3",
        "outputId": "240bdbdf-29e1-48e4-a94a-1dfa51378c64"
      },
      "source": [
        "# lux dict의 armor 키의 값은?\n",
        "\n",
        "type(lux['armor'])"
      ],
      "execution_count": 29,
      "outputs": [
        {
          "output_type": "execute_result",
          "data": {
            "text/plain": [
              "float"
            ]
          },
          "metadata": {
            "tags": []
          },
          "execution_count": 29
        }
      ]
    },
    {
      "cell_type": "code",
      "metadata": {
        "colab": {
          "base_uri": "https://localhost:8080/"
        },
        "id": "DL0Ec29EaGsB",
        "outputId": "8111a94a-53fe-4f50-f276-4149d9537dd7"
      },
      "source": [
        "lux.keys()"
      ],
      "execution_count": 30,
      "outputs": [
        {
          "output_type": "execute_result",
          "data": {
            "text/plain": [
              "dict_keys(['health', 'mana', 'melee', 'armor', 'new'])"
            ]
          },
          "metadata": {
            "tags": []
          },
          "execution_count": 30
        }
      ]
    },
    {
      "cell_type": "code",
      "metadata": {
        "colab": {
          "base_uri": "https://localhost:8080/"
        },
        "id": "BcwDeT_BbK8z",
        "outputId": "affd7e54-b8a0-465a-ad58-6a7c31530e98"
      },
      "source": [
        "# 딕셔너리 자체로는 반복문을 사용할 수 없음\n",
        "# 딕셔너리에 변형을 줘서 사용 가능함 .keys() 혹은 .items()\n",
        "\n",
        "for key in lux.keys():\n",
        "  print(f'{key} : {lux[key]}')"
      ],
      "execution_count": 32,
      "outputs": [
        {
          "output_type": "stream",
          "text": [
            "health : 800\n",
            "mana : 1000\n",
            "melee : 550\n",
            "armor : 18.72\n",
            "new : 10\n"
          ],
          "name": "stdout"
        }
      ]
    },
    {
      "cell_type": "code",
      "metadata": {
        "colab": {
          "base_uri": "https://localhost:8080/"
        },
        "id": "UvjiSp5gbTaF",
        "outputId": "36ed19ab-de29-40cc-9e28-d34648f7e574"
      },
      "source": [
        "for key,value in lux.items():\n",
        "  print(f'{key} : {value}')"
      ],
      "execution_count": 34,
      "outputs": [
        {
          "output_type": "stream",
          "text": [
            "health : 800\n",
            "mana : 1000\n",
            "melee : 550\n",
            "armor : 18.72\n",
            "new : 10\n"
          ],
          "name": "stdout"
        }
      ]
    },
    {
      "cell_type": "code",
      "metadata": {
        "id": "vW0E2xHCbeXX"
      },
      "source": [
        ""
      ],
      "execution_count": null,
      "outputs": []
    }
  ]
}