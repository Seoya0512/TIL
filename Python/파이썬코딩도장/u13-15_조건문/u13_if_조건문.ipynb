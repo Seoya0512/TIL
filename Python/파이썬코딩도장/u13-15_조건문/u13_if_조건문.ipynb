{
  "nbformat": 4,
  "nbformat_minor": 0,
  "metadata": {
    "colab": {
      "name": "u13_if 조건문.ipynb",
      "provenance": [],
      "collapsed_sections": []
    },
    "kernelspec": {
      "name": "python3",
      "display_name": "Python 3"
    },
    "language_info": {
      "name": "python"
    }
  },
  "cells": [
    {
      "cell_type": "markdown",
      "metadata": {
        "id": "Jw3VHdzJgw9O"
      },
      "source": [
        "# Unit 13. if 조건문"
      ]
    },
    {
      "cell_type": "markdown",
      "metadata": {
        "id": "fSRIo-qqhep1"
      },
      "source": [
        "## 13.1 if 조건문"
      ]
    },
    {
      "cell_type": "code",
      "metadata": {
        "colab": {
          "base_uri": "https://localhost:8080/"
        },
        "id": "fal2drtXgJpj",
        "outputId": "316cbd31-c072-483b-dedd-f8e0344a648d"
      },
      "source": [
        "x = 10\n",
        "if x == 10:\n",
        "  print('It is 10.')"
      ],
      "execution_count": 1,
      "outputs": [
        {
          "output_type": "stream",
          "text": [
            "It is 10.\n"
          ],
          "name": "stdout"
        }
      ]
    },
    {
      "cell_type": "code",
      "metadata": {
        "colab": {
          "base_uri": "https://localhost:8080/"
        },
        "id": "Mv117D4hhtwG",
        "outputId": "bb0157a4-1b2e-418f-b97d-a8874462e219"
      },
      "source": [
        "x = 9\n",
        "if x:         # x 가 0이 아니면 True\n",
        "  print('It is 10.')       "
      ],
      "execution_count": 2,
      "outputs": [
        {
          "output_type": "stream",
          "text": [
            "It is 10.\n"
          ],
          "name": "stdout"
        }
      ]
    },
    {
      "cell_type": "markdown",
      "metadata": {
        "id": "McfhTU0iizPg"
      },
      "source": [
        "## 13.2 조건문과 들여쓰기"
      ]
    },
    {
      "cell_type": "code",
      "metadata": {
        "colab": {
          "base_uri": "https://localhost:8080/"
        },
        "id": "GRwfKahbijs7",
        "outputId": "1298621e-0162-4b79-af60-24d35afe1dab"
      },
      "source": [
        "# 조건문을 작성할 때 Indentation을 신경써야한다😉\n",
        "x = 9\n",
        "\n",
        "if x == 10:\n",
        "  print('x값은')\n",
        "  print('10입니다.')     \n",
        "print('언제나 출력됩니다.')"
      ],
      "execution_count": 11,
      "outputs": [
        {
          "output_type": "stream",
          "text": [
            "언제나 출력됩니다.\n"
          ],
          "name": "stdout"
        }
      ]
    },
    {
      "cell_type": "markdown",
      "metadata": {
        "id": "6oUJRzidj8Bs"
      },
      "source": [
        "## 13.3 중첩 if조건문 "
      ]
    },
    {
      "cell_type": "code",
      "metadata": {
        "colab": {
          "base_uri": "https://localhost:8080/"
        },
        "id": "f_9VfRo6jI60",
        "outputId": "c17cbe54-18de-4bcd-e6e9-5fdf1421efb7"
      },
      "source": [
        "# if문 안에 또 다른 if 문이 들어온 경우\n",
        "\n",
        "x =15\n",
        "\n",
        "if x >= 10:\n",
        "  print('10보다 큰 숫자입니다.')\n",
        "  if x == 15:\n",
        "    print('15입니다.')\n",
        "  if x == 20:\n",
        "    print('20입니다.')"
      ],
      "execution_count": 13,
      "outputs": [
        {
          "output_type": "stream",
          "text": [
            "10보다 큰 숫자입니다.\n",
            "15입니다.\n"
          ],
          "name": "stdout"
        }
      ]
    },
    {
      "cell_type": "code",
      "metadata": {
        "colab": {
          "base_uri": "https://localhost:8080/"
        },
        "id": "SoMXiCjqkZ8T",
        "outputId": "40de5b45-8fe5-478e-f123-f4e2a5224125"
      },
      "source": [
        "# if문 안에 또 다른 if 문이 들어온 경우\n",
        "\n",
        "x = int(input('정수를 입력하세요> '))\n",
        "\n",
        "if x >= 10:\n",
        "  print('10보다 큰 숫자입니다.')\n",
        "  if x == 15:\n",
        "    print('15입니다.')\n",
        "  if x == 20:\n",
        "    print('20입니다.')"
      ],
      "execution_count": 14,
      "outputs": [
        {
          "output_type": "stream",
          "text": [
            "정수를 입력하세요> 12\n",
            "10보다 큰 숫자입니다.\n"
          ],
          "name": "stdout"
        }
      ]
    },
    {
      "cell_type": "code",
      "metadata": {
        "id": "xLjMNoxWlEVO"
      },
      "source": [
        ""
      ],
      "execution_count": 14,
      "outputs": []
    }
  ]
}