{
  "nbformat": 4,
  "nbformat_minor": 0,
  "metadata": {
    "colab": {
      "name": "u14_else .ipynb",
      "provenance": [],
      "collapsed_sections": []
    },
    "kernelspec": {
      "name": "python3",
      "display_name": "Python 3"
    },
    "language_info": {
      "name": "python"
    }
  },
  "cells": [
    {
      "cell_type": "markdown",
      "metadata": {
        "id": "yQt89eTQl6XD"
      },
      "source": [
        "# Unit14. else"
      ]
    },
    {
      "cell_type": "code",
      "metadata": {
        "colab": {
          "base_uri": "https://localhost:8080/"
        },
        "id": "q5CQ43XWl15e",
        "outputId": "e7d8fa26-aaa7-4f17-f535-7ced8aef0706"
      },
      "source": [
        "x = 5\n",
        "if x == 10:\n",
        "  print('10입니다.')\n",
        "else:\n",
        "  print('10이 아닙니다')"
      ],
      "execution_count": 1,
      "outputs": [
        {
          "output_type": "stream",
          "text": [
            "10이 아닙니다\n"
          ],
          "name": "stdout"
        }
      ]
    },
    {
      "cell_type": "markdown",
      "metadata": {
        "id": "JsK2JXZMmx9H"
      },
      "source": [
        "### 3항 연산자\n",
        "- Java: a = (조건 ) ? 참일때의 값 : 거짓일 때의 값\n",
        "- Python: a = 참일때의 값 if 조건 else 거짓일때의 값"
      ]
    },
    {
      "cell_type": "code",
      "metadata": {
        "colab": {
          "base_uri": "https://localhost:8080/",
          "height": 35
        },
        "id": "snK38cV9mZYx",
        "outputId": "98fb1b23-2ee5-421a-f113-80d154e7aae0"
      },
      "source": [
        "x = 1\n",
        "\n",
        "if x % 2 ==0:\n",
        "  y='even'\n",
        "else:\n",
        "  y='odd'\n",
        "  \n",
        "y"
      ],
      "execution_count": 3,
      "outputs": [
        {
          "output_type": "execute_result",
          "data": {
            "application/vnd.google.colaboratory.intrinsic+json": {
              "type": "string"
            },
            "text/plain": [
              "'odd'"
            ]
          },
          "metadata": {
            "tags": []
          },
          "execution_count": 3
        }
      ]
    },
    {
      "cell_type": "code",
      "metadata": {
        "colab": {
          "base_uri": "https://localhost:8080/",
          "height": 35
        },
        "id": "SoQTQVQUm_Co",
        "outputId": "c01c8ac3-c024-4e96-e4e8-27af568aca8f"
      },
      "source": [
        "x=4\n",
        "y= 'even' if x%2 ==0 else 'odd'. #3항 연산자 (conditional expression)\n",
        "y"
      ],
      "execution_count": 5,
      "outputs": [
        {
          "output_type": "execute_result",
          "data": {
            "application/vnd.google.colaboratory.intrinsic+json": {
              "type": "string"
            },
            "text/plain": [
              "'even'"
            ]
          },
          "metadata": {
            "tags": []
          },
          "execution_count": 5
        }
      ]
    },
    {
      "cell_type": "code",
      "metadata": {
        "colab": {
          "base_uri": "https://localhost:8080/"
        },
        "id": "6w8J30tXnPvk",
        "outputId": "f31ebe80-8d7d-4453-b4a5-2867e8515f51"
      },
      "source": [
        "# 90점 이상이면 'A', 80 ~ 89 :'B', 70~79 :'C', 60~69 :'D', ~59: F\n",
        "\n",
        "score = int(input('점수 입력: '))\n",
        "\n",
        "if score >= 92:\n",
        "    grade ='A'\n",
        "else: \n",
        "  if score >= 80:\n",
        "    grade ='B'\n",
        "  else:\n",
        "    if score >=70:\n",
        "      grade='C'\n",
        "    else:\n",
        "      if score >= 60:\n",
        "        grade ='D'\n",
        "      else:\n",
        "        grade ='F'\n",
        "\n",
        "print(grade)\n"
      ],
      "execution_count": 18,
      "outputs": [
        {
          "output_type": "stream",
          "text": [
            "점수 입력: 82\n",
            "B\n"
          ],
          "name": "stdout"
        }
      ]
    },
    {
      "cell_type": "code",
      "metadata": {
        "colab": {
          "base_uri": "https://localhost:8080/",
          "height": 35
        },
        "id": "VQBP4ksEojI5",
        "outputId": "e6867311-764a-4919-a484-4412cbabca52"
      },
      "source": [
        "grade = 'A' if score >=90 else \\\n",
        "            'B' if score >= 80 else\\\n",
        "                 'C' if score >=70 else\\\n",
        "                     'D' if score >=60 else 'F'\n",
        "\n",
        "grade           "
      ],
      "execution_count": 19,
      "outputs": [
        {
          "output_type": "execute_result",
          "data": {
            "application/vnd.google.colaboratory.intrinsic+json": {
              "type": "string"
            },
            "text/plain": [
              "'B'"
            ]
          },
          "metadata": {
            "tags": []
          },
          "execution_count": 19
        }
      ]
    },
    {
      "cell_type": "markdown",
      "metadata": {
        "id": "pCXCb9ibu_PF"
      },
      "source": [
        "조건식에서의 논리 연산자"
      ]
    },
    {
      "cell_type": "code",
      "metadata": {
        "colab": {
          "base_uri": "https://localhost:8080/"
        },
        "id": "Pf-nKHmYrKPK",
        "outputId": "b0336c2d-a302-4ae5-c6bc-3b302c38755e"
      },
      "source": [
        "x = 5\n",
        "if x > 0 and x< 10:\n",
        "  print('10보다 작은 양의 정수입니다.')\n"
      ],
      "execution_count": 20,
      "outputs": [
        {
          "output_type": "stream",
          "text": [
            "10보다 작은 양의 정수입니다.\n"
          ],
          "name": "stdout"
        }
      ]
    },
    {
      "cell_type": "code",
      "metadata": {
        "colab": {
          "base_uri": "https://localhost:8080/"
        },
        "id": "HIvjPopRvJdY",
        "outputId": "992eff74-98f5-4381-a83a-96f1590defa5"
      },
      "source": [
        "if 0 < x < 10:\n",
        "   print('10보다 작은 양의 정수입니다.')"
      ],
      "execution_count": 22,
      "outputs": [
        {
          "output_type": "stream",
          "text": [
            "10보다 작은 양의 정수입니다.\n"
          ],
          "name": "stdout"
        }
      ]
    },
    {
      "cell_type": "code",
      "metadata": {
        "id": "glSnUBqqvNuP"
      },
      "source": [
        ""
      ],
      "execution_count": null,
      "outputs": []
    }
  ]
}