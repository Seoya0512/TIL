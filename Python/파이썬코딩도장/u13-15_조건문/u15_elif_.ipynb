{
  "nbformat": 4,
  "nbformat_minor": 0,
  "metadata": {
    "colab": {
      "name": "u15_elif .ipynb",
      "provenance": [],
      "collapsed_sections": []
    },
    "kernelspec": {
      "name": "python3",
      "display_name": "Python 3"
    },
    "language_info": {
      "name": "python"
    }
  },
  "cells": [
    {
      "cell_type": "code",
      "metadata": {
        "colab": {
          "base_uri": "https://localhost:8080/"
        },
        "id": "Gz5tDssfn2sV",
        "outputId": "054a2201-a495-4d37-e3f6-0e369b7645ac"
      },
      "source": [
        "x = 20\n",
        "if x == 10:\n",
        "  print('It is 10.')\n",
        "elif x == 20:\n",
        "  print('It is 20.')\n",
        "else:\n",
        "  print('10, 20이 아닙니다')"
      ],
      "execution_count": 2,
      "outputs": [
        {
          "output_type": "stream",
          "text": [
            "It is 20.\n"
          ],
          "name": "stdout"
        }
      ]
    },
    {
      "cell_type": "code",
      "metadata": {
        "colab": {
          "base_uri": "https://localhost:8080/"
        },
        "id": "uDYUGz80oa-R",
        "outputId": "3550c887-51d5-49e3-e407-207310b1949e"
      },
      "source": [
        "# 숫자- 입력, 3의 배수면 fizz 출력, 5의 배수 buzz, 15의 배수면 fizzbuzz\n",
        "\n",
        "number= int(input( ))\n",
        "\n",
        "if number % 15 == 0 :   # 제일 엄격한 조건을 제일 앞으로! 옵션이 적은 것..\n",
        "  print('fizzbuzz')\n",
        "elif number % 5 == 0 :\n",
        "  print('buzz')\n",
        "elif number % 3 == 0 :\n",
        "  print('fizz')\n",
        "else:\n",
        "  print(number)"
      ],
      "execution_count": 12,
      "outputs": [
        {
          "output_type": "stream",
          "text": [
            "14\n",
            "14\n"
          ],
          "name": "stdout"
        }
      ]
    },
    {
      "cell_type": "code",
      "metadata": {
        "colab": {
          "base_uri": "https://localhost:8080/"
        },
        "id": "biig2vzppWPc",
        "outputId": "e9d58dd7-ad86-4c44-f9f7-1f41a0106c52"
      },
      "source": [
        "# 한줄로 표현하기\n",
        "\n",
        "print('Fizz'*(number%3==0) + 'Buzz'*(number%5==0) or number)    # or의 성질 파악"
      ],
      "execution_count": 13,
      "outputs": [
        {
          "output_type": "stream",
          "text": [
            "14\n"
          ],
          "name": "stdout"
        }
      ]
    },
    {
      "cell_type": "code",
      "metadata": {
        "id": "YOae4S5AqBj-"
      },
      "source": [
        ""
      ],
      "execution_count": null,
      "outputs": []
    },
    {
      "cell_type": "code",
      "metadata": {
        "id": "5zDR3VwLrrhu"
      },
      "source": [
        ""
      ],
      "execution_count": null,
      "outputs": []
    }
  ]
}