{
  "nbformat": 4,
  "nbformat_minor": 0,
  "metadata": {
    "colab": {
      "name": "u16_for반복문 ipynb",
      "provenance": [],
      "collapsed_sections": []
    },
    "kernelspec": {
      "name": "python3",
      "display_name": "Python 3"
    },
    "language_info": {
      "name": "python"
    }
  },
  "cells": [
    {
      "cell_type": "markdown",
      "metadata": {
        "id": "K8ER-FJBtHWC"
      },
      "source": [
        "# Unit16. for 반복문\n"
      ]
    },
    {
      "cell_type": "markdown",
      "metadata": {
        "id": "0sbrHdw7tL1s"
      },
      "source": [
        "##16.1 for와 range"
      ]
    },
    {
      "cell_type": "code",
      "metadata": {
        "colab": {
          "base_uri": "https://localhost:8080/"
        },
        "id": "FfNhvPa6tAXu",
        "outputId": "368b93d6-a307-4ac9-c0d7-c0af738a377c"
      },
      "source": [
        "for i in range(10):\n",
        "  print('Hello, World')"
      ],
      "execution_count": 1,
      "outputs": [
        {
          "output_type": "stream",
          "text": [
            "Hello, World\n",
            "Hello, World\n",
            "Hello, World\n",
            "Hello, World\n",
            "Hello, World\n",
            "Hello, World\n",
            "Hello, World\n",
            "Hello, World\n",
            "Hello, World\n",
            "Hello, World\n"
          ],
          "name": "stdout"
        }
      ]
    },
    {
      "cell_type": "code",
      "metadata": {
        "colab": {
          "base_uri": "https://localhost:8080/"
        },
        "id": "geG1tu36tcKo",
        "outputId": "92bf96e3-055b-4ca4-87fe-cd810959351b"
      },
      "source": [
        "for i in range(10):\n",
        "  print(i, 'Hello, World')"
      ],
      "execution_count": 2,
      "outputs": [
        {
          "output_type": "stream",
          "text": [
            "0 Hello, World\n",
            "1 Hello, World\n",
            "2 Hello, World\n",
            "3 Hello, World\n",
            "4 Hello, World\n",
            "5 Hello, World\n",
            "6 Hello, World\n",
            "7 Hello, World\n",
            "8 Hello, World\n",
            "9 Hello, World\n"
          ],
          "name": "stdout"
        }
      ]
    },
    {
      "cell_type": "code",
      "metadata": {
        "colab": {
          "base_uri": "https://localhost:8080/"
        },
        "id": "eguhYpF5vWls",
        "outputId": "26df46c5-d99f-44c0-9383-e4b0beb12c77"
      },
      "source": [
        "for _ in range(5):      # 변수가 있는건 알지만, _더미를 사용할거야 \n",
        "  print('Hello, World')"
      ],
      "execution_count": 4,
      "outputs": [
        {
          "output_type": "stream",
          "text": [
            "Hello, World\n",
            "Hello, World\n",
            "Hello, World\n",
            "Hello, World\n",
            "Hello, World\n"
          ],
          "name": "stdout"
        }
      ]
    },
    {
      "cell_type": "markdown",
      "metadata": {
        "id": "SpFzdOeOyZZo"
      },
      "source": [
        "## 16.2 for와 range 응용"
      ]
    },
    {
      "cell_type": "code",
      "metadata": {
        "colab": {
          "base_uri": "https://localhost:8080/"
        },
        "id": "NQwAUAU4vj7A",
        "outputId": "9fdd2d73-3c3c-4a32-e95d-22247ea256ed"
      },
      "source": [
        "for i in range(6, 10):\n",
        "  print(i, 'Hello, World')"
      ],
      "execution_count": 5,
      "outputs": [
        {
          "output_type": "stream",
          "text": [
            "6 Hello, World\n",
            "7 Hello, World\n",
            "8 Hello, World\n",
            "9 Hello, World\n"
          ],
          "name": "stdout"
        }
      ]
    },
    {
      "cell_type": "code",
      "metadata": {
        "colab": {
          "base_uri": "https://localhost:8080/"
        },
        "id": "L4wNAVdSyiBQ",
        "outputId": "8aca30c0-9a8a-46b8-ce20-eeb9599e40a1"
      },
      "source": [
        "for i in range(0, 10, 2):\n",
        "  print(i, 'Hello, World')"
      ],
      "execution_count": 6,
      "outputs": [
        {
          "output_type": "stream",
          "text": [
            "0 Hello, World\n",
            "2 Hello, World\n",
            "4 Hello, World\n",
            "6 Hello, World\n",
            "8 Hello, World\n"
          ],
          "name": "stdout"
        }
      ]
    },
    {
      "cell_type": "code",
      "metadata": {
        "colab": {
          "base_uri": "https://localhost:8080/"
        },
        "id": "np4VNZe0ymrs",
        "outputId": "d4b4e59f-65e4-45d7-ce90-c5566810c66b"
      },
      "source": [
        "for i in range(10, 0, -2):\n",
        "  print(i, 'Hello, World')"
      ],
      "execution_count": 8,
      "outputs": [
        {
          "output_type": "stream",
          "text": [
            "10 Hello, World\n",
            "8 Hello, World\n",
            "6 Hello, World\n",
            "4 Hello, World\n",
            "2 Hello, World\n"
          ],
          "name": "stdout"
        }
      ]
    },
    {
      "cell_type": "code",
      "metadata": {
        "colab": {
          "base_uri": "https://localhost:8080/"
        },
        "id": "l3JV65tVyp1j",
        "outputId": "8a0313b9-039a-489c-b900-f6bb242527aa"
      },
      "source": [
        "for i in range(1, 101):\n",
        "  print('Fizz'*(i%3==0) + 'Buzz'*(i %5==0) or i, end= ' ')\n",
        "  if (i %10 ==0):\n",
        "    print()"
      ],
      "execution_count": 11,
      "outputs": [
        {
          "output_type": "stream",
          "text": [
            "1 2 Fizz 4 Buzz Fizz 7 8 Fizz Buzz \n",
            "11 Fizz 13 14 FizzBuzz 16 17 Fizz 19 Buzz \n",
            "Fizz 22 23 Fizz Buzz 26 Fizz 28 29 FizzBuzz \n",
            "31 32 Fizz 34 Buzz Fizz 37 38 Fizz Buzz \n",
            "41 Fizz 43 44 FizzBuzz 46 47 Fizz 49 Buzz \n",
            "Fizz 52 53 Fizz Buzz 56 Fizz 58 59 FizzBuzz \n",
            "61 62 Fizz 64 Buzz Fizz 67 68 Fizz Buzz \n",
            "71 Fizz 73 74 FizzBuzz 76 77 Fizz 79 Buzz \n",
            "Fizz 82 83 Fizz Buzz 86 Fizz 88 89 FizzBuzz \n",
            "91 92 Fizz 94 Buzz Fizz 97 98 Fizz Buzz \n"
          ],
          "name": "stdout"
        }
      ]
    },
    {
      "cell_type": "markdown",
      "metadata": {
        "id": "-AL2qG0Nz4pH"
      },
      "source": [
        "## 16.3 시퀀스 객체 반복\n",
        "- 반복문 구문들과 궁합이 잘 맞는다"
      ]
    },
    {
      "cell_type": "code",
      "metadata": {
        "colab": {
          "base_uri": "https://localhost:8080/"
        },
        "id": "pAdabhbgzQVZ",
        "outputId": "fdf6fe70-0ec3-45a4-e823-5edd998a295f"
      },
      "source": [
        "fruits = ['apple', 'banana', 'cherry']\n",
        "for element in fruits:\n",
        "  print(element)"
      ],
      "execution_count": 13,
      "outputs": [
        {
          "output_type": "stream",
          "text": [
            "apple\n",
            "banana\n",
            "cherry\n"
          ],
          "name": "stdout"
        }
      ]
    },
    {
      "cell_type": "code",
      "metadata": {
        "colab": {
          "base_uri": "https://localhost:8080/"
        },
        "id": "fE5qTIZC0OeL",
        "outputId": "b532ac13-766e-4d1b-90df-8f82037f0539"
      },
      "source": [
        "# 의미를 갖는 변수명으로 정해준다 \n",
        "\n",
        "fruit_list = ['apple', 'banana', 'cherry']\n",
        "for fruit in fruits:\n",
        "  print(fruit)"
      ],
      "execution_count": 15,
      "outputs": [
        {
          "output_type": "stream",
          "text": [
            "apple\n",
            "banana\n",
            "cherry\n"
          ],
          "name": "stdout"
        }
      ]
    },
    {
      "cell_type": "code",
      "metadata": {
        "colab": {
          "base_uri": "https://localhost:8080/"
        },
        "id": "N8WYwggt0j9C",
        "outputId": "00d0ce1f-39e2-4b65-90d1-e961b9085dd9"
      },
      "source": [
        "for letter in 'Python':\n",
        "  print(letter, end= ' ')"
      ],
      "execution_count": 17,
      "outputs": [
        {
          "output_type": "stream",
          "text": [
            "P y t h o n "
          ],
          "name": "stdout"
        }
      ]
    },
    {
      "cell_type": "code",
      "metadata": {
        "colab": {
          "base_uri": "https://localhost:8080/"
        },
        "id": "vgoILbgA2ZVj",
        "outputId": "4a48faea-1e3d-4aa5-93ee-49a7c4b10b9b"
      },
      "source": [
        "# 문자를 뒤집어 준다\n",
        "\n",
        "for letter in reversed('Python'):\n",
        "  print(letter, end =' ')"
      ],
      "execution_count": 19,
      "outputs": [
        {
          "output_type": "stream",
          "text": [
            "n o h t y P "
          ],
          "name": "stdout"
        }
      ]
    },
    {
      "cell_type": "code",
      "metadata": {
        "colab": {
          "base_uri": "https://localhost:8080/"
        },
        "id": "2Yk4y6yJ2sON",
        "outputId": "12a2562a-1c4f-4f21-a524-985afcc17e63"
      },
      "source": [
        "for number in (10,20, 30):\n",
        "  print(number)"
      ],
      "execution_count": 20,
      "outputs": [
        {
          "output_type": "stream",
          "text": [
            "10\n",
            "20\n",
            "30\n"
          ],
          "name": "stdout"
        }
      ]
    },
    {
      "cell_type": "markdown",
      "metadata": {
        "id": "GyJu3rOD3iSG"
      },
      "source": [
        "### Perfect Number\n",
        "- 자기자신을 제외한 약수의 합이 자기자신과 같은 수 \n",
        "- 6의 약수 : 1, 2, 3,6\n",
        "- 6 = 1 + 2 + 3\n",
        "- 10000이하의 자연수 중에서는 4개가 존재"
      ]
    },
    {
      "cell_type": "code",
      "metadata": {
        "colab": {
          "base_uri": "https://localhost:8080/"
        },
        "id": "3PZUhn3_3B1e",
        "outputId": "c6ce061b-1bb9-4096-fb98-765bce9d2db0"
      },
      "source": [
        "for i in range (2,10001):\n",
        "  sum_of_divisor = 0\n",
        "  for k in range(1, i):\n",
        "    if i % k == 0:\n",
        "      sum_of_divisor += k\n",
        "\n",
        "  if i == sum_of_divisor:\n",
        "    print(i)"
      ],
      "execution_count": 46,
      "outputs": [
        {
          "output_type": "stream",
          "text": [
            "6\n",
            "28\n",
            "496\n",
            "8128\n"
          ],
          "name": "stdout"
        }
      ]
    },
    {
      "cell_type": "code",
      "metadata": {
        "id": "5_z3KKeF4wWq"
      },
      "source": [
        ""
      ],
      "execution_count": 44,
      "outputs": []
    },
    {
      "cell_type": "code",
      "metadata": {
        "id": "CoykOtQo86Bm"
      },
      "source": [
        ""
      ],
      "execution_count": null,
      "outputs": []
    }
  ]
}