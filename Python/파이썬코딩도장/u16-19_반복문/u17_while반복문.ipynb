{
  "nbformat": 4,
  "nbformat_minor": 0,
  "metadata": {
    "colab": {
      "name": "u17_while반복문.ipynb",
      "provenance": [],
      "collapsed_sections": []
    },
    "kernelspec": {
      "name": "python3",
      "display_name": "Python 3"
    },
    "language_info": {
      "name": "python"
    }
  },
  "cells": [
    {
      "cell_type": "markdown",
      "metadata": {
        "id": "pCLv3A9LA9B4"
      },
      "source": [
        "# Unit 17. While 반복문"
      ]
    },
    {
      "cell_type": "markdown",
      "metadata": {
        "id": "DqH18cXrA80Z"
      },
      "source": [
        "## 17.1 while 반복문\n",
        "- 반복횟수가 정해져 있는 반복문은 while을 쓰지 않는다.\n",
        "- for문 사용"
      ]
    },
    {
      "cell_type": "code",
      "metadata": {
        "id": "OthnHrdNA7HA"
      },
      "source": [
        "import random"
      ],
      "execution_count": 3,
      "outputs": []
    },
    {
      "cell_type": "code",
      "metadata": {
        "colab": {
          "base_uri": "https://localhost:8080/"
        },
        "id": "6_EOKUm2BQVN",
        "outputId": "621e0011-1251-4c67-b3a8-5a8cd7875721"
      },
      "source": [
        "random.random()"
      ],
      "execution_count": 4,
      "outputs": [
        {
          "output_type": "execute_result",
          "data": {
            "text/plain": [
              "0.19220026260506062"
            ]
          },
          "metadata": {
            "tags": []
          },
          "execution_count": 4
        }
      ]
    },
    {
      "cell_type": "code",
      "metadata": {
        "colab": {
          "base_uri": "https://localhost:8080/"
        },
        "id": "VY7TILNTCYt-",
        "outputId": "4f74b20c-8b26-4e00-c6c9-3c82fd27402f"
      },
      "source": [
        "random.randint(1,6)"
      ],
      "execution_count": 5,
      "outputs": [
        {
          "output_type": "execute_result",
          "data": {
            "text/plain": [
              "5"
            ]
          },
          "metadata": {
            "tags": []
          },
          "execution_count": 5
        }
      ]
    },
    {
      "cell_type": "code",
      "metadata": {
        "colab": {
          "base_uri": "https://localhost:8080/"
        },
        "id": "akj1UqQsCiay",
        "outputId": "1b8bcda4-36b2-49fb-c590-071ead320802"
      },
      "source": [
        "i = 0\n",
        "while i != 3:\n",
        "  i = random.randint(1,6)\n",
        "  print(i)"
      ],
      "execution_count": 7,
      "outputs": [
        {
          "output_type": "stream",
          "text": [
            "3\n"
          ],
          "name": "stdout"
        }
      ]
    },
    {
      "cell_type": "code",
      "metadata": {
        "colab": {
          "base_uri": "https://localhost:8080/"
        },
        "id": "UDepYKsUDD1S",
        "outputId": "190570a9-b2be-4168-a884-2018f0db174b"
      },
      "source": [
        "i=0\n",
        "dice = [1,2,3,4,5,6]\n",
        "while i !=3:\n",
        "  i = random.choice(dice)\n",
        "  print(i)"
      ],
      "execution_count": 9,
      "outputs": [
        {
          "output_type": "stream",
          "text": [
            "5\n",
            "5\n",
            "3\n"
          ],
          "name": "stdout"
        }
      ]
    },
    {
      "cell_type": "code",
      "metadata": {
        "id": "nBNG63jdDbHQ"
      },
      "source": [
        ""
      ],
      "execution_count": null,
      "outputs": []
    }
  ]
}