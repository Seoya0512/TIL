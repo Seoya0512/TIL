{
  "nbformat": 4,
  "nbformat_minor": 0,
  "metadata": {
    "colab": {
      "name": "u18_반복문 제어.ipynb",
      "provenance": [],
      "collapsed_sections": []
    },
    "kernelspec": {
      "name": "python3",
      "display_name": "Python 3"
    },
    "language_info": {
      "name": "python"
    }
  },
  "cells": [
    {
      "cell_type": "markdown",
      "metadata": {
        "id": "A5CQ1PS0FAdG"
      },
      "source": [
        "# Unit 18. break, continue"
      ]
    },
    {
      "cell_type": "markdown",
      "metadata": {
        "id": "G9lJAl74FDaL"
      },
      "source": [
        "## 18.1 break"
      ]
    },
    {
      "cell_type": "code",
      "metadata": {
        "id": "9btVIa8mE73E"
      },
      "source": [
        "import random"
      ],
      "execution_count": null,
      "outputs": []
    },
    {
      "cell_type": "code",
      "metadata": {
        "colab": {
          "base_uri": "https://localhost:8080/"
        },
        "id": "AELRF9BrFGIl",
        "outputId": "f4c749f2-ff63-4636-9f6d-36bc62b9e6d8"
      },
      "source": [
        "while True:\n",
        "  i = random.randint(1,6)\n",
        "  print(i)\n",
        "  if i == 3:\n",
        "    break"
      ],
      "execution_count": null,
      "outputs": [
        {
          "output_type": "stream",
          "text": [
            "4\n",
            "1\n",
            "6\n",
            "1\n",
            "5\n",
            "1\n",
            "4\n",
            "1\n",
            "5\n",
            "6\n",
            "1\n",
            "6\n",
            "1\n",
            "3\n"
          ],
          "name": "stdout"
        }
      ]
    },
    {
      "cell_type": "code",
      "metadata": {
        "colab": {
          "base_uri": "https://localhost:8080/"
        },
        "id": "zs_p0hmkFNBo",
        "outputId": "587cfe12-6ea9-45c2-c786-1cd01bc828f2"
      },
      "source": [
        "for i in range(5):\n",
        "  print(i, end= ' ')\n",
        "  for k in range(5):\n",
        "    print('*', end=' ')\n",
        "    if i==k:\n",
        "      break\n",
        "  print( )"
      ],
      "execution_count": null,
      "outputs": [
        {
          "output_type": "stream",
          "text": [
            "0 * \n",
            "1 * * \n",
            "2 * * * \n",
            "3 * * * * \n",
            "4 * * * * * \n"
          ],
          "name": "stdout"
        }
      ]
    },
    {
      "cell_type": "markdown",
      "metadata": {
        "id": "cql4noPeGtTJ"
      },
      "source": [
        "## 18.2 Continue"
      ]
    },
    {
      "cell_type": "code",
      "metadata": {
        "id": "Dj62M9MlF8bC",
        "colab": {
          "base_uri": "https://localhost:8080/"
        },
        "outputId": "b4195641-4a1a-4394-fda1-6803f1726505"
      },
      "source": [
        "for i in range(10):\n",
        "  if i % 2 == 0 : \n",
        "    continue\n",
        "  print(i)"
      ],
      "execution_count": null,
      "outputs": [
        {
          "output_type": "stream",
          "text": [
            "1\n",
            "3\n",
            "5\n",
            "7\n",
            "9\n"
          ],
          "name": "stdout"
        }
      ]
    },
    {
      "cell_type": "code",
      "metadata": {
        "id": "8RCFv8eLG6Nf"
      },
      "source": [
        ""
      ],
      "execution_count": null,
      "outputs": []
    }
  ]
}