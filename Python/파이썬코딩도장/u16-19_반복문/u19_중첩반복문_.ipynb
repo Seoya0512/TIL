{
  "nbformat": 4,
  "nbformat_minor": 0,
  "metadata": {
    "colab": {
      "name": "u19_중첩반복문 .ipynb",
      "provenance": [],
      "collapsed_sections": []
    },
    "kernelspec": {
      "name": "python3",
      "display_name": "Python 3"
    },
    "language_info": {
      "name": "python"
    }
  },
  "cells": [
    {
      "cell_type": "markdown",
      "metadata": {
        "id": "05IIXc8ubewr"
      },
      "source": [
        "# Unit 19. 중첩반복문\n",
        "\n"
      ]
    },
    {
      "cell_type": "markdown",
      "metadata": {
        "id": "koPALsxPbiwg"
      },
      "source": [
        "## 19.1 중첩(Nested) for loop"
      ]
    },
    {
      "cell_type": "code",
      "metadata": {
        "colab": {
          "base_uri": "https://localhost:8080/"
        },
        "id": "32BrcMo_bduE",
        "outputId": "a291296f-9741-4f59-a0ad-e7fab4eaa552"
      },
      "source": [
        "for i in range(1,6):\n",
        "  for k in range(10, 60, 10):\n",
        "    print(k, end= ' ')\n",
        "  print(i)"
      ],
      "execution_count": 2,
      "outputs": [
        {
          "output_type": "stream",
          "text": [
            "10 20 30 40 50 1\n",
            "10 20 30 40 50 2\n",
            "10 20 30 40 50 3\n",
            "10 20 30 40 50 4\n",
            "10 20 30 40 50 5\n"
          ],
          "name": "stdout"
        }
      ]
    },
    {
      "cell_type": "markdown",
      "metadata": {
        "id": "ajEumfHccrKB"
      },
      "source": [
        "## 19.2 별 사각형"
      ]
    },
    {
      "cell_type": "code",
      "metadata": {
        "colab": {
          "base_uri": "https://localhost:8080/"
        },
        "id": "SlTYqH-ucV5q",
        "outputId": "acbeab9e-0d51-4c49-e336-00d151352005"
      },
      "source": [
        "for i in range(5):\n",
        "  for _ in range(5):\n",
        "    print('*', end= ' ')\n",
        "  print( )"
      ],
      "execution_count": 4,
      "outputs": [
        {
          "output_type": "stream",
          "text": [
            "* * * * * \n",
            "* * * * * \n",
            "* * * * * \n",
            "* * * * * \n",
            "* * * * * \n"
          ],
          "name": "stdout"
        }
      ]
    },
    {
      "cell_type": "code",
      "metadata": {
        "colab": {
          "base_uri": "https://localhost:8080/"
        },
        "id": "a-7HOasrc65v",
        "outputId": "4f82b8aa-513c-4cbf-a560-3743fba6f567"
      },
      "source": [
        "# 평행사변형\n",
        "\n",
        "for i in range(4):\n",
        "  for _ in range(0,i):      #공백 만들기\n",
        "    print(' ', end ='')\n",
        "  for _ in range(5):\n",
        "    print('*', end= ' ')\n",
        "  print( )"
      ],
      "execution_count": 7,
      "outputs": [
        {
          "output_type": "stream",
          "text": [
            "* * * * * \n",
            " * * * * * \n",
            "  * * * * * \n",
            "   * * * * * \n"
          ],
          "name": "stdout"
        }
      ]
    },
    {
      "cell_type": "code",
      "metadata": {
        "colab": {
          "base_uri": "https://localhost:8080/"
        },
        "id": "62yf5Vxceabw",
        "outputId": "3708382f-770c-4034-fdb3-c4503c00ebea"
      },
      "source": [
        "for i in range(4):\n",
        "  print(' '*i, '*'*5, sep=' ')"
      ],
      "execution_count": 10,
      "outputs": [
        {
          "output_type": "stream",
          "text": [
            " *****\n",
            "  *****\n",
            "   *****\n",
            "    *****\n"
          ],
          "name": "stdout"
        }
      ]
    },
    {
      "cell_type": "markdown",
      "metadata": {
        "id": "vobAkYUzfK95"
      },
      "source": [
        "## 19.3 계단식 별모양"
      ]
    },
    {
      "cell_type": "code",
      "metadata": {
        "colab": {
          "base_uri": "https://localhost:8080/"
        },
        "id": "aYItN-r-e3Vg",
        "outputId": "6ca68baf-12b8-445a-ae3f-6c4f44c728c9"
      },
      "source": [
        "for i in range(5):\n",
        "  for _ in range(i+1):\n",
        "    print('*', end= '')\n",
        "  print()"
      ],
      "execution_count": 11,
      "outputs": [
        {
          "output_type": "stream",
          "text": [
            "*\n",
            "**\n",
            "***\n",
            "****\n",
            "*****\n"
          ],
          "name": "stdout"
        }
      ]
    },
    {
      "cell_type": "code",
      "metadata": {
        "colab": {
          "base_uri": "https://localhost:8080/"
        },
        "id": "6HiPQb50fzi9",
        "outputId": "591a9894-6b21-4852-f6d7-96c3b1227238"
      },
      "source": [
        "for i in range(5):\n",
        "  for _ in range(5-i):\n",
        "    print('*', end='')\n",
        "  print()"
      ],
      "execution_count": 12,
      "outputs": [
        {
          "output_type": "stream",
          "text": [
            "*****\n",
            "****\n",
            "***\n",
            "**\n",
            "*\n"
          ],
          "name": "stdout"
        }
      ]
    },
    {
      "cell_type": "code",
      "metadata": {
        "colab": {
          "base_uri": "https://localhost:8080/"
        },
        "id": "rkajk2_qgL6k",
        "outputId": "085bdc96-a3a1-47f7-88f1-3a3889283837"
      },
      "source": [
        "for i in range(5):\n",
        "  for _ in range(i):        #공백 생성\n",
        "    print(' ', end = '')\n",
        "  for _ in range(5-i):\n",
        "    print('*', end='')\n",
        "  print()\n",
        "    "
      ],
      "execution_count": 13,
      "outputs": [
        {
          "output_type": "stream",
          "text": [
            "*****\n",
            " ****\n",
            "  ***\n",
            "   **\n",
            "    *\n"
          ],
          "name": "stdout"
        }
      ]
    },
    {
      "cell_type": "code",
      "metadata": {
        "colab": {
          "base_uri": "https://localhost:8080/"
        },
        "id": "2kEK2aqOgld_",
        "outputId": "7c9ccfaa-0a40-4ff8-abba-5358998935a2"
      },
      "source": [
        "for i in range(5):\n",
        "  for _ in range(5-i):\n",
        "    print(' ', end = '')\n",
        "  for _ in range(i+1):\n",
        "    print('*', end= '')\n",
        "  print()"
      ],
      "execution_count": 34,
      "outputs": [
        {
          "output_type": "stream",
          "text": [
            "     *\n",
            "    **\n",
            "   ***\n",
            "  ****\n",
            " *****\n"
          ],
          "name": "stdout"
        }
      ]
    },
    {
      "cell_type": "markdown",
      "metadata": {
        "id": "AdH6pG4ll4Tt"
      },
      "source": [
        "### Diamond 그리기"
      ]
    },
    {
      "cell_type": "code",
      "metadata": {
        "colab": {
          "base_uri": "https://localhost:8080/"
        },
        "id": "j6QI6ROwhBLA",
        "outputId": "ce30fd39-db32-48d4-e65d-e09c075ca0ba"
      },
      "source": [
        "for i in range(5):\n",
        "  for _ in range(4-i):\n",
        "      print(' ', end = '')\n",
        "  for _ in range(2*i +1):\n",
        "    print('*', end='')\n",
        "  print()\n",
        "\n",
        "for i in range(4):\n",
        "  for _ in range(i+1):\n",
        "      print(' ', end = '')\n",
        "  for _ in range(7-2*i):\n",
        "    print('*', end='')\n",
        "  print()"
      ],
      "execution_count": 44,
      "outputs": [
        {
          "output_type": "stream",
          "text": [
            "    *\n",
            "   ***\n",
            "  *****\n",
            " *******\n",
            "*********\n",
            " *******\n",
            "  *****\n",
            "   ***\n",
            "    *\n"
          ],
          "name": "stdout"
        }
      ]
    },
    {
      "cell_type": "code",
      "metadata": {
        "colab": {
          "base_uri": "https://localhost:8080/"
        },
        "id": "9hTS1FD3iEOD",
        "outputId": "3235166b-a071-4e84-caec-2ad9316d5dde"
      },
      "source": [
        "for i in range(5): \n",
        "  print(' '*(4-i), '*'*(2*i+1), sep=' ')\n",
        "for i in range(4):\n",
        "  print(' '*(i+1), '*'*(7-2*i), sep=' ')"
      ],
      "execution_count": 47,
      "outputs": [
        {
          "output_type": "stream",
          "text": [
            "     *\n",
            "    ***\n",
            "   *****\n",
            "  *******\n",
            " *********\n",
            "  *******\n",
            "   *****\n",
            "    ***\n",
            "     *\n"
          ],
          "name": "stdout"
        }
      ]
    },
    {
      "cell_type": "code",
      "metadata": {
        "id": "gd54Y8VhlXHx"
      },
      "source": [
        ""
      ],
      "execution_count": null,
      "outputs": []
    }
  ]
}