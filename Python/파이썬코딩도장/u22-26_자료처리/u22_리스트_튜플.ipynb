{
  "nbformat": 4,
  "nbformat_minor": 0,
  "metadata": {
    "colab": {
      "name": "u22_리스트_튜플.ipynb",
      "provenance": [],
      "collapsed_sections": []
    },
    "kernelspec": {
      "name": "python3",
      "display_name": "Python 3"
    },
    "language_info": {
      "name": "python"
    }
  },
  "cells": [
    {
      "cell_type": "markdown",
      "metadata": {
        "id": "xoduD0ZSqWus"
      },
      "source": [
        "# Unit 22. 리스트 튜플 응용"
      ]
    },
    {
      "cell_type": "markdown",
      "metadata": {
        "id": "KYKjvWY8qdlN"
      },
      "source": [
        "## 22.1 리스트 조작"
      ]
    },
    {
      "cell_type": "code",
      "metadata": {
        "id": "XK4Kacx9qTRj"
      },
      "source": [
        "a = [10, 20, 30]"
      ],
      "execution_count": 1,
      "outputs": []
    },
    {
      "cell_type": "code",
      "metadata": {
        "colab": {
          "base_uri": "https://localhost:8080/"
        },
        "id": "Ngc2QYIMrNLC",
        "outputId": "8c1a2ab4-76d8-442c-bba7-bf1c3d0c06de"
      },
      "source": [
        "# 리스트 맨 뒤에 요소 하나를 추가하는 메쏘드(method)\n",
        "a.append(500)\n",
        "a"
      ],
      "execution_count": 4,
      "outputs": [
        {
          "output_type": "execute_result",
          "data": {
            "text/plain": [
              "[10, 20, 30, 500, 500, 500]"
            ]
          },
          "metadata": {
            "tags": []
          },
          "execution_count": 4
        }
      ]
    },
    {
      "cell_type": "code",
      "metadata": {
        "colab": {
          "base_uri": "https://localhost:8080/"
        },
        "id": "NH9_ExYGrdWP",
        "outputId": "774a599d-d360-486b-f6b3-d344712bea9f"
      },
      "source": [
        "a.append(['x','y'])\n",
        "a"
      ],
      "execution_count": 5,
      "outputs": [
        {
          "output_type": "execute_result",
          "data": {
            "text/plain": [
              "[10, 20, 30, 500, 500, 500, ['x', 'y']]"
            ]
          },
          "metadata": {
            "tags": []
          },
          "execution_count": 5
        }
      ]
    },
    {
      "cell_type": "code",
      "metadata": {
        "colab": {
          "base_uri": "https://localhost:8080/"
        },
        "id": "aFCAxVXhrr1i",
        "outputId": "07310208-6e94-4530-dd69-1b4c3091efdc"
      },
      "source": [
        "b = [10, 20, 30]\n",
        "b.extend(['x','y'])\n",
        "b"
      ],
      "execution_count": 7,
      "outputs": [
        {
          "output_type": "execute_result",
          "data": {
            "text/plain": [
              "[10, 20, 30, 'x', 'y']"
            ]
          },
          "metadata": {
            "tags": []
          },
          "execution_count": 7
        }
      ]
    },
    {
      "cell_type": "code",
      "metadata": {
        "colab": {
          "base_uri": "https://localhost:8080/"
        },
        "id": "90h-a19Rr48m",
        "outputId": "a8846c71-9efe-4e01-dad4-2b8f36332a72"
      },
      "source": [
        "# 정말 많이 사용되는 코드 \n",
        "empty_list=[]\n",
        "for i in range(5):\n",
        "  empty_list.append(i)\n",
        "empty_list"
      ],
      "execution_count": 9,
      "outputs": [
        {
          "output_type": "execute_result",
          "data": {
            "text/plain": [
              "[0, 1, 2, 3, 4]"
            ]
          },
          "metadata": {
            "tags": []
          },
          "execution_count": 9
        }
      ]
    },
    {
      "cell_type": "code",
      "metadata": {
        "colab": {
          "base_uri": "https://localhost:8080/"
        },
        "id": "_fLn2KFLsRWk",
        "outputId": "e6ee60fc-97bc-4331-d1b0-1aff40a31b85"
      },
      "source": [
        "del a[4]\n",
        "a"
      ],
      "execution_count": 11,
      "outputs": [
        {
          "output_type": "execute_result",
          "data": {
            "text/plain": [
              "[10, 20, 30, 500, ['x', 'y']]"
            ]
          },
          "metadata": {
            "tags": []
          },
          "execution_count": 11
        }
      ]
    },
    {
      "cell_type": "markdown",
      "metadata": {
        "id": "jcTdFLsCt62J"
      },
      "source": [
        "### Stack and Queue"
      ]
    },
    {
      "cell_type": "code",
      "metadata": {
        "colab": {
          "base_uri": "https://localhost:8080/"
        },
        "id": "b18NHxkJtBTz",
        "outputId": "802b06db-e156-45ee-fd71-b40a9c2a52bb"
      },
      "source": [
        "stack = []\n",
        "# Stack에 push \n",
        "stack.append(1); stack.append(2); stack.append(3);\n",
        "stack"
      ],
      "execution_count": 21,
      "outputs": [
        {
          "output_type": "execute_result",
          "data": {
            "text/plain": [
              "[1, 2, 3]"
            ]
          },
          "metadata": {
            "tags": []
          },
          "execution_count": 21
        }
      ]
    },
    {
      "cell_type": "code",
      "metadata": {
        "colab": {
          "base_uri": "https://localhost:8080/"
        },
        "id": "187nQBD1t_so",
        "outputId": "d4d76598-bf19-4ba7-ed9c-ae29c1bcb6ac"
      },
      "source": [
        "#stack 으로부터 pop\n",
        "value= stack.pop()\n",
        "print(value, stack)"
      ],
      "execution_count": 22,
      "outputs": [
        {
          "output_type": "stream",
          "text": [
            "3 [1, 2]\n"
          ],
          "name": "stdout"
        }
      ]
    },
    {
      "cell_type": "code",
      "metadata": {
        "colab": {
          "base_uri": "https://localhost:8080/"
        },
        "id": "FbjKvRRXuKt6",
        "outputId": "0234180b-b575-40fc-dbc9-71a6a97f55fc"
      },
      "source": [
        "queue = []\n",
        "# queue에 insert\n",
        "queue.insert(0, 1); queue.insert(0, 2); queue.insert(0, 3); \n",
        "queue"
      ],
      "execution_count": 27,
      "outputs": [
        {
          "output_type": "execute_result",
          "data": {
            "text/plain": [
              "[3, 2, 1]"
            ]
          },
          "metadata": {
            "tags": []
          },
          "execution_count": 27
        }
      ]
    },
    {
      "cell_type": "code",
      "metadata": {
        "colab": {
          "base_uri": "https://localhost:8080/"
        },
        "id": "tCkn7vBEuOUO",
        "outputId": "090281fc-7d44-4800-adaf-7a9808768bba"
      },
      "source": [
        "# queue로부터 끄집어내기\n",
        "value= queue.pop()\n",
        "print(value, queue)"
      ],
      "execution_count": 28,
      "outputs": [
        {
          "output_type": "stream",
          "text": [
            "1 [3, 2]\n"
          ],
          "name": "stdout"
        }
      ]
    },
    {
      "cell_type": "markdown",
      "metadata": {
        "id": "xwQomc5bvjFV"
      },
      "source": [
        "### 다양한 Method"
      ]
    },
    {
      "cell_type": "code",
      "metadata": {
        "colab": {
          "base_uri": "https://localhost:8080/"
        },
        "id": "FwUDV2IavUP2",
        "outputId": "21e07723-a5ef-4149-e21d-70db213f87fe"
      },
      "source": [
        "a = [10, 20, 30, 40, 50, 60]\n",
        "a.index(30)"
      ],
      "execution_count": 31,
      "outputs": [
        {
          "output_type": "execute_result",
          "data": {
            "text/plain": [
              "2"
            ]
          },
          "metadata": {
            "tags": []
          },
          "execution_count": 31
        }
      ]
    },
    {
      "cell_type": "code",
      "metadata": {
        "id": "L5miNKGRv2hq"
      },
      "source": [
        "num= 45\n",
        "if num in a:\n",
        "  idx = a.index(num)"
      ],
      "execution_count": 32,
      "outputs": []
    },
    {
      "cell_type": "code",
      "metadata": {
        "colab": {
          "base_uri": "https://localhost:8080/"
        },
        "id": "IRKZCMnGv6Xv",
        "outputId": "6b570d2c-130a-465f-8261-df8054783938"
      },
      "source": [
        "a.count(10)"
      ],
      "execution_count": 33,
      "outputs": [
        {
          "output_type": "execute_result",
          "data": {
            "text/plain": [
              "1"
            ]
          },
          "metadata": {
            "tags": []
          },
          "execution_count": 33
        }
      ]
    },
    {
      "cell_type": "markdown",
      "metadata": {
        "id": "tNO6JRE3xOkZ"
      },
      "source": [
        "### 정렬(Sort)"
      ]
    },
    {
      "cell_type": "code",
      "metadata": {
        "colab": {
          "base_uri": "https://localhost:8080/"
        },
        "id": "rGBFbHCewPDl",
        "outputId": "c2e9b9c1-1c99-49bc-ed38-bd30c262e92c"
      },
      "source": [
        "# 오름차순(Ascending order)\n",
        "\n",
        "a= [20, 10, 15, 30, 40]\n",
        "a.sort()                  #method 사용으로 a가 변화\n",
        "a"
      ],
      "execution_count": 35,
      "outputs": [
        {
          "output_type": "execute_result",
          "data": {
            "text/plain": [
              "[10, 15, 20, 30, 40]"
            ]
          },
          "metadata": {
            "tags": []
          },
          "execution_count": 35
        }
      ]
    },
    {
      "cell_type": "code",
      "metadata": {
        "colab": {
          "base_uri": "https://localhost:8080/"
        },
        "id": "xFO5bVBnxVRP",
        "outputId": "075c91e7-50f3-4792-e33a-cde56a5e7e6e"
      },
      "source": [
        "b=[20,10,15,30,40]\n",
        "sorted(b)                 #함수 사용"
      ],
      "execution_count": 37,
      "outputs": [
        {
          "output_type": "execute_result",
          "data": {
            "text/plain": [
              "[10, 15, 20, 30, 40]"
            ]
          },
          "metadata": {
            "tags": []
          },
          "execution_count": 37
        }
      ]
    },
    {
      "cell_type": "code",
      "metadata": {
        "colab": {
          "base_uri": "https://localhost:8080/"
        },
        "id": "Q5GOqXjXxuz_",
        "outputId": "964ec595-06a4-46d5-e312-3e1845e6d541"
      },
      "source": [
        "b"
      ],
      "execution_count": 38,
      "outputs": [
        {
          "output_type": "execute_result",
          "data": {
            "text/plain": [
              "[20, 10, 15, 30, 40]"
            ]
          },
          "metadata": {
            "tags": []
          },
          "execution_count": 38
        }
      ]
    },
    {
      "cell_type": "code",
      "metadata": {
        "colab": {
          "base_uri": "https://localhost:8080/"
        },
        "id": "B1J19wE6xwj0",
        "outputId": "b5a62bf3-510e-4ef4-fa09-c774b83f3f39"
      },
      "source": [
        "# 함수 사용한 값을 변경하고 싶을때 \n",
        "\n",
        "b=[20,10,15,30,40]\n",
        "b= sorted(b) \n",
        "b   "
      ],
      "execution_count": 40,
      "outputs": [
        {
          "output_type": "execute_result",
          "data": {
            "text/plain": [
              "[10, 15, 20, 30, 40]"
            ]
          },
          "metadata": {
            "tags": []
          },
          "execution_count": 40
        }
      ]
    },
    {
      "cell_type": "code",
      "metadata": {
        "colab": {
          "base_uri": "https://localhost:8080/"
        },
        "id": "FGABFbFUx8yw",
        "outputId": "e4f4fb80-34e9-4030-f401-6fcc6ee8e56f"
      },
      "source": [
        "# reverse = True, 내림차순 정렬\n",
        "\n",
        "a= [20, 10, 15, 30, 40]\n",
        "a.sort(reverse=True)          #내림차순 정렬\n",
        "a"
      ],
      "execution_count": 45,
      "outputs": [
        {
          "output_type": "execute_result",
          "data": {
            "text/plain": [
              "[40, 30, 20, 15, 10]"
            ]
          },
          "metadata": {
            "tags": []
          },
          "execution_count": 45
        }
      ]
    },
    {
      "cell_type": "markdown",
      "metadata": {
        "id": "8rwvGMOczKUE"
      },
      "source": [
        "## 22.2 리스트 할당과 복사"
      ]
    },
    {
      "cell_type": "code",
      "metadata": {
        "colab": {
          "base_uri": "https://localhost:8080/"
        },
        "id": "bV1lS9AJyqzQ",
        "outputId": "ee378daf-98fb-442e-c8b7-a790989903ac"
      },
      "source": [
        "# Shallow copy, pointer만 복사\n",
        "\n",
        "a = [0,0,0,0]\n",
        "b = a\n",
        "b"
      ],
      "execution_count": 56,
      "outputs": [
        {
          "output_type": "execute_result",
          "data": {
            "text/plain": [
              "[0, 0, 0, 0]"
            ]
          },
          "metadata": {
            "tags": []
          },
          "execution_count": 56
        }
      ]
    },
    {
      "cell_type": "code",
      "metadata": {
        "colab": {
          "base_uri": "https://localhost:8080/"
        },
        "id": "HjCpMPvWzh6w",
        "outputId": "d20c8cd6-2cd0-4ce3-abed-0b3fa1bd6b28"
      },
      "source": [
        "b[3]=99\n",
        "b"
      ],
      "execution_count": 50,
      "outputs": [
        {
          "output_type": "execute_result",
          "data": {
            "text/plain": [
              "[0, 0, 0, 99]"
            ]
          },
          "metadata": {
            "tags": []
          },
          "execution_count": 50
        }
      ]
    },
    {
      "cell_type": "code",
      "metadata": {
        "colab": {
          "base_uri": "https://localhost:8080/"
        },
        "id": "Q87WFk1bzkEr",
        "outputId": "3a0f8a88-37f0-4d7b-8feb-ddb0581b85eb"
      },
      "source": [
        "a             #shallow copy (데이터 주소가 동일하다)"
      ],
      "execution_count": 51,
      "outputs": [
        {
          "output_type": "execute_result",
          "data": {
            "text/plain": [
              "[0, 0, 0, 99]"
            ]
          },
          "metadata": {
            "tags": []
          },
          "execution_count": 51
        }
      ]
    },
    {
      "cell_type": "code",
      "metadata": {
        "colab": {
          "base_uri": "https://localhost:8080/"
        },
        "id": "dwz5d9Spzkdh",
        "outputId": "35b69f9a-4551-4409-f847-a2d33dd24b58"
      },
      "source": [
        "# 데이터 완전체로 별도의 기억장소에 복사\n",
        "a = [0,0,0,0]\n",
        "b = a.copy()\n",
        "b"
      ],
      "execution_count": 54,
      "outputs": [
        {
          "output_type": "execute_result",
          "data": {
            "text/plain": [
              "[0, 0, 0, 0]"
            ]
          },
          "metadata": {
            "tags": []
          },
          "execution_count": 54
        }
      ]
    },
    {
      "cell_type": "code",
      "metadata": {
        "colab": {
          "base_uri": "https://localhost:8080/"
        },
        "id": "WFrgJiMkz448",
        "outputId": "5b01f804-e676-46f7-c727-b8983ed9bb31"
      },
      "source": [
        "b[2]=99\n",
        "a"
      ],
      "execution_count": 53,
      "outputs": [
        {
          "output_type": "execute_result",
          "data": {
            "text/plain": [
              "[0, 0, 0, 0]"
            ]
          },
          "metadata": {
            "tags": []
          },
          "execution_count": 53
        }
      ]
    },
    {
      "cell_type": "markdown",
      "metadata": {
        "id": "2FWhLoj62ndq"
      },
      "source": [
        "## 22.3 리스트와 반복문"
      ]
    },
    {
      "cell_type": "code",
      "metadata": {
        "colab": {
          "base_uri": "https://localhost:8080/"
        },
        "id": "v3akFJIpz66N",
        "outputId": "45575b1a-29f0-4867-ec73-21f0199eee9a"
      },
      "source": [
        "for fruit in ['apple', 'banana', 'cherry']:\n",
        "  print(fruit)"
      ],
      "execution_count": 57,
      "outputs": [
        {
          "output_type": "stream",
          "text": [
            "apple\n",
            "banana\n",
            "cherry\n"
          ],
          "name": "stdout"
        }
      ]
    },
    {
      "cell_type": "code",
      "metadata": {
        "colab": {
          "base_uri": "https://localhost:8080/"
        },
        "id": "BkNNnZBC22EC",
        "outputId": "6ae8cca7-ba4d-4f44-91a8-81cecdc77ad9"
      },
      "source": [
        "# for 인덱스, 요소 enumerate(a):\n",
        "\n",
        "fruits= ['apple', 'banana', 'cherry']\n",
        "\n",
        "for index, fruit in enumerate(fruits):\n",
        "  print(index, fruit)"
      ],
      "execution_count": 58,
      "outputs": [
        {
          "output_type": "stream",
          "text": [
            "0 apple\n",
            "1 banana\n",
            "2 cherry\n"
          ],
          "name": "stdout"
        }
      ]
    },
    {
      "cell_type": "code",
      "metadata": {
        "colab": {
          "base_uri": "https://localhost:8080/"
        },
        "id": "TYE7F9Rd3Jyc",
        "outputId": "c0bcce3f-4ca1-4d8b-8b19-32a0b95020a0"
      },
      "source": [
        "for i in range(len(fruits)):\n",
        "  print(fruits[i])"
      ],
      "execution_count": 59,
      "outputs": [
        {
          "output_type": "stream",
          "text": [
            "apple\n",
            "banana\n",
            "cherry\n"
          ],
          "name": "stdout"
        }
      ]
    },
    {
      "cell_type": "markdown",
      "metadata": {
        "id": "Y85z_53w4LMX"
      },
      "source": [
        "## 22.4 리스트에서 min, max, sum 함수 활용"
      ]
    },
    {
      "cell_type": "code",
      "metadata": {
        "colab": {
          "base_uri": "https://localhost:8080/"
        },
        "id": "3oJJfKi832Aq",
        "outputId": "f7288a3e-a3ea-4056-9a9d-7e50cea90040"
      },
      "source": [
        "a= [38, 21, 53, 62, 19]\n",
        "a.sort()\n",
        "a[0]            #min(a)"
      ],
      "execution_count": 62,
      "outputs": [
        {
          "output_type": "execute_result",
          "data": {
            "text/plain": [
              "19"
            ]
          },
          "metadata": {
            "tags": []
          },
          "execution_count": 62
        }
      ]
    },
    {
      "cell_type": "code",
      "metadata": {
        "colab": {
          "base_uri": "https://localhost:8080/"
        },
        "id": "EDKNN35D4oKs",
        "outputId": "6add2334-f638-4f12-81f1-5cf8b658bfe8"
      },
      "source": [
        "a[-1]           #max(a)"
      ],
      "execution_count": 63,
      "outputs": [
        {
          "output_type": "execute_result",
          "data": {
            "text/plain": [
              "62"
            ]
          },
          "metadata": {
            "tags": []
          },
          "execution_count": 63
        }
      ]
    },
    {
      "cell_type": "code",
      "metadata": {
        "colab": {
          "base_uri": "https://localhost:8080/"
        },
        "id": "CzhNSBR340IQ",
        "outputId": "a916015a-6522-45a6-a617-db3614531a2f"
      },
      "source": [
        "# a 원소의 합\n",
        "sum_of_list = 0         #변수 이름 sum 으로 노노 \n",
        "for elem in a:\n",
        "  sum_of_list += elem\n",
        "\n",
        "sum_of_list,  sum(a)"
      ],
      "execution_count": 65,
      "outputs": [
        {
          "output_type": "execute_result",
          "data": {
            "text/plain": [
              "(193, 193)"
            ]
          },
          "metadata": {
            "tags": []
          },
          "execution_count": 65
        }
      ]
    },
    {
      "cell_type": "markdown",
      "metadata": {
        "id": "PdmNOocu5tRe"
      },
      "source": [
        "## 22.5 리스트 표현식 (List Comprehension)❗️"
      ]
    },
    {
      "cell_type": "code",
      "metadata": {
        "colab": {
          "base_uri": "https://localhost:8080/"
        },
        "id": "2EP-zJwB5RS7",
        "outputId": "ac21dccd-2045-4203-c873-6adfead5dfa2"
      },
      "source": [
        "[fruit for fruit in fruits]"
      ],
      "execution_count": 66,
      "outputs": [
        {
          "output_type": "execute_result",
          "data": {
            "text/plain": [
              "['apple', 'banana', 'cherry']"
            ]
          },
          "metadata": {
            "tags": []
          },
          "execution_count": 66
        }
      ]
    },
    {
      "cell_type": "code",
      "metadata": {
        "colab": {
          "base_uri": "https://localhost:8080/"
        },
        "id": "WAndpS2S6LIC",
        "outputId": "22f7fb32-7670-4f28-ef8e-1beb746a1956"
      },
      "source": [
        "[ index*fruit for index, fruit in enumerate(fruits)]"
      ],
      "execution_count": 68,
      "outputs": [
        {
          "output_type": "execute_result",
          "data": {
            "text/plain": [
              "['', 'banana', 'cherrycherry']"
            ]
          },
          "metadata": {
            "tags": []
          },
          "execution_count": 68
        }
      ]
    },
    {
      "cell_type": "code",
      "metadata": {
        "colab": {
          "base_uri": "https://localhost:8080/"
        },
        "id": "c4EEPllk7TR1",
        "outputId": "62f15ba7-bbfc-4b48-a69b-2302a927e2cb"
      },
      "source": [
        "# 이런 식을 list comprehension 을 사용하면 더욱 간단하다\n",
        "\n",
        "for i in range(1,11):\n",
        "  sq_list.append(i*i)\n",
        "\n",
        "sq_list"
      ],
      "execution_count": 76,
      "outputs": [
        {
          "output_type": "execute_result",
          "data": {
            "text/plain": [
              "[1, 4, 9, 16, 25, 36, 49, 64, 81, 100, 1, 4, 9, 16, 25, 36, 49, 64, 81, 100]"
            ]
          },
          "metadata": {
            "tags": []
          },
          "execution_count": 76
        }
      ]
    },
    {
      "cell_type": "code",
      "metadata": {
        "colab": {
          "base_uri": "https://localhost:8080/"
        },
        "id": "2UvydxGJ6f4r",
        "outputId": "7c327418-4f1d-4b23-b8fa-8cdde27b5c0c"
      },
      "source": [
        "[i*i for i in range(11)]"
      ],
      "execution_count": 70,
      "outputs": [
        {
          "output_type": "execute_result",
          "data": {
            "text/plain": [
              "[0, 1, 4, 9, 16, 25, 36, 49, 64, 81, 100]"
            ]
          },
          "metadata": {
            "tags": []
          },
          "execution_count": 70
        }
      ]
    },
    {
      "cell_type": "code",
      "metadata": {
        "colab": {
          "base_uri": "https://localhost:8080/"
        },
        "id": "xvJlyOrT6630",
        "outputId": "7f51803a-fd63-47b8-8c0a-5e7fa9dad2d4"
      },
      "source": [
        "list(i*i for i in range(11))"
      ],
      "execution_count": 71,
      "outputs": [
        {
          "output_type": "execute_result",
          "data": {
            "text/plain": [
              "[0, 1, 4, 9, 16, 25, 36, 49, 64, 81, 100]"
            ]
          },
          "metadata": {
            "tags": []
          },
          "execution_count": 71
        }
      ]
    },
    {
      "cell_type": "markdown",
      "metadata": {
        "id": "Zl3r-ZKw7-pQ"
      },
      "source": [
        "### 표현식에서 if 조건문 사용하기\n"
      ]
    },
    {
      "cell_type": "code",
      "metadata": {
        "colab": {
          "base_uri": "https://localhost:8080/"
        },
        "id": "RhJas2Il7g2T",
        "outputId": "8cc4e3ab-b0ae-479f-d3ce-d2ac12560027"
      },
      "source": [
        "[i*i for i in range(1,11,2)]"
      ],
      "execution_count": 77,
      "outputs": [
        {
          "output_type": "execute_result",
          "data": {
            "text/plain": [
              "[1, 9, 25, 49, 81]"
            ]
          },
          "metadata": {
            "tags": []
          },
          "execution_count": 77
        }
      ]
    },
    {
      "cell_type": "code",
      "metadata": {
        "colab": {
          "base_uri": "https://localhost:8080/"
        },
        "id": "MoDo22so8Ysr",
        "outputId": "4027b4a8-c8fc-43ae-c4a1-a1e7e9ef5235"
      },
      "source": [
        "[i*i for i in range(1,11) if i %2==1]"
      ],
      "execution_count": 78,
      "outputs": [
        {
          "output_type": "execute_result",
          "data": {
            "text/plain": [
              "[1, 9, 25, 49, 81]"
            ]
          },
          "metadata": {
            "tags": []
          },
          "execution_count": 78
        }
      ]
    },
    {
      "cell_type": "markdown",
      "metadata": {
        "id": "t7VoZBeD9A0j"
      },
      "source": [
        "### for가 여러번 나오게 할 수 있음"
      ]
    },
    {
      "cell_type": "code",
      "metadata": {
        "colab": {
          "base_uri": "https://localhost:8080/"
        },
        "id": "sgKFtNeC8eJx",
        "outputId": "f83e7660-402b-4d66-bba0-44825df93164"
      },
      "source": [
        "# 구구단 \n",
        "\n",
        "a= [ i* k for i in range(2,10) for k in range(1,10)]\n",
        "print(a)"
      ],
      "execution_count": 80,
      "outputs": [
        {
          "output_type": "stream",
          "text": [
            "[2, 4, 6, 8, 10, 12, 14, 16, 18, 3, 6, 9, 12, 15, 18, 21, 24, 27, 4, 8, 12, 16, 20, 24, 28, 32, 36, 5, 10, 15, 20, 25, 30, 35, 40, 45, 6, 12, 18, 24, 30, 36, 42, 48, 54, 7, 14, 21, 28, 35, 42, 49, 56, 63, 8, 16, 24, 32, 40, 48, 56, 64, 72, 9, 18, 27, 36, 45, 54, 63, 72, 81]\n"
          ],
          "name": "stdout"
        }
      ]
    },
    {
      "cell_type": "code",
      "metadata": {
        "colab": {
          "base_uri": "https://localhost:8080/"
        },
        "id": "8_zUwmxJ9T2H",
        "outputId": "18339883-c60c-45f2-94b6-cfe7b4b32761"
      },
      "source": [
        "a= [ i* k for i in range(2,10) \n",
        "            for k in range(1,10)]\n",
        "print(a)"
      ],
      "execution_count": 81,
      "outputs": [
        {
          "output_type": "stream",
          "text": [
            "[2, 4, 6, 8, 10, 12, 14, 16, 18, 3, 6, 9, 12, 15, 18, 21, 24, 27, 4, 8, 12, 16, 20, 24, 28, 32, 36, 5, 10, 15, 20, 25, 30, 35, 40, 45, 6, 12, 18, 24, 30, 36, 42, 48, 54, 7, 14, 21, 28, 35, 42, 49, 56, 63, 8, 16, 24, 32, 40, 48, 56, 64, 72, 9, 18, 27, 36, 45, 54, 63, 72, 81]\n"
          ],
          "name": "stdout"
        }
      ]
    },
    {
      "cell_type": "markdown",
      "metadata": {
        "id": "7LcOHiH_9_0I"
      },
      "source": [
        "## 22.6 map"
      ]
    },
    {
      "cell_type": "code",
      "metadata": {
        "colab": {
          "base_uri": "https://localhost:8080/"
        },
        "id": "Lzlbawzy9sH8",
        "outputId": "b9a71dbc-7d66-452e-ca45-a6453fb71896"
      },
      "source": [
        " a = [1.2, 2.5, 3.7, 4.6]\n",
        " for i in range(len(a)):\n",
        "   a[i] = int(a[i])\n",
        "a"
      ],
      "execution_count": 89,
      "outputs": [
        {
          "output_type": "execute_result",
          "data": {
            "text/plain": [
              "[1, 2, 3, 4]"
            ]
          },
          "metadata": {
            "tags": []
          },
          "execution_count": 89
        }
      ]
    },
    {
      "cell_type": "code",
      "metadata": {
        "colab": {
          "base_uri": "https://localhost:8080/"
        },
        "id": "MvOTE4gC-RyZ",
        "outputId": "b7ad35f6-7156-4778-8740-1b73519a96f7"
      },
      "source": [
        "a= list(map(int, a))      #원하는 함수를 지정해서 넣을 수 있다\n",
        "a"
      ],
      "execution_count": 91,
      "outputs": [
        {
          "output_type": "execute_result",
          "data": {
            "text/plain": [
              "[1, 2, 3, 4]"
            ]
          },
          "metadata": {
            "tags": []
          },
          "execution_count": 91
        }
      ]
    },
    {
      "cell_type": "markdown",
      "metadata": {
        "id": "OFX6yfYy_44u"
      },
      "source": [
        "## 22.7 tuple"
      ]
    },
    {
      "cell_type": "code",
      "metadata": {
        "colab": {
          "base_uri": "https://localhost:8080/"
        },
        "id": "nBqSN-2V_Bkr",
        "outputId": "afb9d0cb-f246-4fd0-a2de-a465c7129509"
      },
      "source": [
        "tuple(i*i for i in range(1,11) if i % 2==0)"
      ],
      "execution_count": 92,
      "outputs": [
        {
          "output_type": "execute_result",
          "data": {
            "text/plain": [
              "(4, 16, 36, 64, 100)"
            ]
          },
          "metadata": {
            "tags": []
          },
          "execution_count": 92
        }
      ]
    },
    {
      "cell_type": "code",
      "metadata": {
        "id": "reg545xOAFaq"
      },
      "source": [
        ""
      ],
      "execution_count": null,
      "outputs": []
    }
  ]
}