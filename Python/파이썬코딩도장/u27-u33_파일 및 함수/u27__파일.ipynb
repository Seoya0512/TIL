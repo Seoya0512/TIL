{
  "nbformat": 4,
  "nbformat_minor": 0,
  "metadata": {
    "colab": {
      "name": "u27_ 파일.ipynb",
      "provenance": [],
      "collapsed_sections": []
    },
    "kernelspec": {
      "name": "python3",
      "display_name": "Python 3"
    },
    "language_info": {
      "name": "python"
    }
  },
  "cells": [
    {
      "cell_type": "markdown",
      "metadata": {
        "id": "PRRXQBuGmnAt"
      },
      "source": [
        "# Unit27. 파일"
      ]
    },
    {
      "cell_type": "markdown",
      "metadata": {
        "id": "ruhnbyJymtl9"
      },
      "source": [
        "## 27.1 문자열 쓰기, 읽기"
      ]
    },
    {
      "cell_type": "code",
      "metadata": {
        "id": "f2snO_UullgV"
      },
      "source": [
        "file = open('hello.txt', 'w')\n",
        "file.write('Hello, world!')\n",
        "file.close()"
      ],
      "execution_count": 2,
      "outputs": []
    },
    {
      "cell_type": "code",
      "metadata": {
        "colab": {
          "base_uri": "https://localhost:8080/"
        },
        "id": "naN1tUM-mhhG",
        "outputId": "446310be-22fc-4b5d-b029-b498b3faf626"
      },
      "source": [
        "!cat hello.txt"
      ],
      "execution_count": 3,
      "outputs": [
        {
          "output_type": "stream",
          "text": [
            "Hello, world!"
          ],
          "name": "stdout"
        }
      ]
    },
    {
      "cell_type": "code",
      "metadata": {
        "colab": {
          "base_uri": "https://localhost:8080/"
        },
        "id": "8bUE7xgYnP1b",
        "outputId": "8faa9566-fb04-4991-b077-90eea188798f"
      },
      "source": [
        "file = open('hello.txt')  #'r mode가 default\n",
        "s = file.read()\n",
        "print(s)\n",
        "file.close()"
      ],
      "execution_count": 5,
      "outputs": [
        {
          "output_type": "stream",
          "text": [
            "Hello, world!\n"
          ],
          "name": "stdout"
        }
      ]
    },
    {
      "cell_type": "markdown",
      "metadata": {
        "id": "rGom6tTNpm4V"
      },
      "source": [
        "### 파이썬 스타일"
      ]
    },
    {
      "cell_type": "code",
      "metadata": {
        "colab": {
          "base_uri": "https://localhost:8080/"
        },
        "id": "QqJteVn7pXq1",
        "outputId": "44046c10-1bff-44df-b32b-6280d97d2817"
      },
      "source": [
        "with open('hello.txt') as file:\n",
        "  s = file.read()\n",
        "print(s)"
      ],
      "execution_count": 8,
      "outputs": [
        {
          "output_type": "stream",
          "text": [
            "Hello, world!\n"
          ],
          "name": "stdout"
        }
      ]
    },
    {
      "cell_type": "markdown",
      "metadata": {
        "id": "sAqHUCohqG3r"
      },
      "source": [
        "## 27.2 문자열 여러줄"
      ]
    },
    {
      "cell_type": "code",
      "metadata": {
        "id": "0lNY83p8pj99"
      },
      "source": [
        "with open('hello.txt', 'w') as file:\n",
        "  for i in range(3):\n",
        "    file.write(f'Hello, world!{i+1} \\n')"
      ],
      "execution_count": 9,
      "outputs": []
    },
    {
      "cell_type": "code",
      "metadata": {
        "colab": {
          "base_uri": "https://localhost:8080/"
        },
        "id": "T1aNMLN_qyMX",
        "outputId": "7d94f119-9c5c-4dcd-85ff-9513bac1bd55"
      },
      "source": [
        "!cat hello.txt"
      ],
      "execution_count": 10,
      "outputs": [
        {
          "output_type": "stream",
          "text": [
            "Hello, world!1 \n",
            "Hello, world!2 \n",
            "Hello, world!3 \n"
          ],
          "name": "stdout"
        }
      ]
    },
    {
      "cell_type": "code",
      "metadata": {
        "id": "9WxJQgohq18r"
      },
      "source": [
        "lines = ['안녕하세요. \\n', '파이썬\\n', '코딩도장입니다.\\n']\n",
        "with open('hello.txt', 'w') as file:\n",
        "  file.writelines(lines)"
      ],
      "execution_count": 11,
      "outputs": []
    },
    {
      "cell_type": "code",
      "metadata": {
        "colab": {
          "base_uri": "https://localhost:8080/"
        },
        "id": "bzHfYqr1rr7C",
        "outputId": "d191ceea-feb9-4b85-ce24-edec541c37ec"
      },
      "source": [
        "!cat hello.txt"
      ],
      "execution_count": 12,
      "outputs": [
        {
          "output_type": "stream",
          "text": [
            "안녕하세요. \n",
            "파이썬\n",
            "코딩도장입니다.\n"
          ],
          "name": "stdout"
        }
      ]
    },
    {
      "cell_type": "code",
      "metadata": {
        "id": "DbTiI24-rvKV"
      },
      "source": [
        "s = '''안녕하세요. \n",
        "파이썬\n",
        "코딩도장입니다.'''\n",
        "\n",
        "with open('hello.txt', 'w') as file:\n",
        "  file.write(s)"
      ],
      "execution_count": 13,
      "outputs": []
    },
    {
      "cell_type": "code",
      "metadata": {
        "colab": {
          "base_uri": "https://localhost:8080/"
        },
        "id": "n3OYrs5EszCo",
        "outputId": "7b57be50-3d94-4509-91f8-860532372774"
      },
      "source": [
        "with open('hello.txt') as file:\n",
        "  line = None\n",
        "  while line != '':\n",
        "    line= file.readline()\n",
        "    print(line.strip('\\n'))"
      ],
      "execution_count": 18,
      "outputs": [
        {
          "output_type": "stream",
          "text": [
            "안녕하세요. \n",
            "파이썬\n",
            "코딩도장입니다.\n",
            "\n"
          ],
          "name": "stdout"
        }
      ]
    },
    {
      "cell_type": "code",
      "metadata": {
        "colab": {
          "base_uri": "https://localhost:8080/"
        },
        "id": "OEfjMTEOtHRY",
        "outputId": "59a25504-8f5b-4995-f24c-dee8edc13d03"
      },
      "source": [
        "# 한줄씩 읽어오기 (통으로 읽어오는것 보다 더 나음)\n",
        "with open('hello.txt') as file:\n",
        "  s = file.readline()\n",
        "print(s)\n"
      ],
      "execution_count": 17,
      "outputs": [
        {
          "output_type": "stream",
          "text": [
            "안녕하세요. \n",
            "\n"
          ],
          "name": "stdout"
        }
      ]
    },
    {
      "cell_type": "code",
      "metadata": {
        "colab": {
          "base_uri": "https://localhost:8080/"
        },
        "id": "thGo0TAzt73K",
        "outputId": "9a0a0add-5da1-46b8-829c-301cf78545f3"
      },
      "source": [
        "with open('hello.txt') as file:\n",
        "  for line in file:\n",
        "    print(line.strip('\\n'))"
      ],
      "execution_count": 20,
      "outputs": [
        {
          "output_type": "stream",
          "text": [
            "안녕하세요. \n",
            "파이썬\n",
            "코딩도장입니다.\n"
          ],
          "name": "stdout"
        }
      ]
    },
    {
      "cell_type": "code",
      "metadata": {
        "colab": {
          "base_uri": "https://localhost:8080/"
        },
        "id": "0L3qyOanxO2L",
        "outputId": "107a40c7-8c1f-4808-8074-cd4c50f58d41"
      },
      "source": [
        "with open('hello.txt') as file:\n",
        "  s = file.read(9)\n",
        "print(s)"
      ],
      "execution_count": 21,
      "outputs": [
        {
          "output_type": "stream",
          "text": [
            "안녕하세요. \n",
            "파\n"
          ],
          "name": "stdout"
        }
      ]
    },
    {
      "cell_type": "markdown",
      "metadata": {
        "id": "NHJgeQX3y1lD"
      },
      "source": [
        "### append"
      ]
    },
    {
      "cell_type": "code",
      "metadata": {
        "id": "JHR2MUdjypRm"
      },
      "source": [
        "with open('hello.txt','a') as file:\n",
        "  file.write('Append\\n')"
      ],
      "execution_count": 22,
      "outputs": []
    },
    {
      "cell_type": "code",
      "metadata": {
        "colab": {
          "base_uri": "https://localhost:8080/"
        },
        "id": "dQpTXfMRzLb4",
        "outputId": "24d23d6b-1c39-4c89-bfd4-4373eaaa268b"
      },
      "source": [
        "!cat hello.txt"
      ],
      "execution_count": 23,
      "outputs": [
        {
          "output_type": "stream",
          "text": [
            "안녕하세요. \n",
            "파이썬\n",
            "코딩도장입니다.Append\n"
          ],
          "name": "stdout"
        }
      ]
    }
  ]
}