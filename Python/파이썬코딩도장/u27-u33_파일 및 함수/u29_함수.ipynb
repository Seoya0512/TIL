{
  "nbformat": 4,
  "nbformat_minor": 0,
  "metadata": {
    "colab": {
      "name": "u29_함수.ipynb",
      "provenance": [],
      "collapsed_sections": []
    },
    "kernelspec": {
      "name": "python3",
      "display_name": "Python 3"
    },
    "language_info": {
      "name": "python"
    }
  },
  "cells": [
    {
      "cell_type": "markdown",
      "metadata": {
        "id": "ydeDR2k7M9_A"
      },
      "source": [
        "# Unit29. 함수\n"
      ]
    },
    {
      "cell_type": "markdown",
      "metadata": {
        "id": "Ww-iBwfzOpqY"
      },
      "source": [
        "## 29.1 추력 함수 만들기"
      ]
    },
    {
      "cell_type": "code",
      "metadata": {
        "id": "5ZObHo7-Mi4b"
      },
      "source": [
        "def hello():\n",
        "  print('Hello, world!')"
      ],
      "execution_count": 1,
      "outputs": []
    },
    {
      "cell_type": "code",
      "metadata": {
        "colab": {
          "base_uri": "https://localhost:8080/"
        },
        "id": "c6w-3hfEOz8c",
        "outputId": "e037666d-6a78-4492-92d0-13a5bca01318"
      },
      "source": [
        "hello()"
      ],
      "execution_count": 2,
      "outputs": [
        {
          "output_type": "stream",
          "text": [
            "Hello, world!\n"
          ],
          "name": "stdout"
        }
      ]
    },
    {
      "cell_type": "markdown",
      "metadata": {
        "id": "NM6XtesvPuFH"
      },
      "source": [
        "## 29.2 덧셈 함수"
      ]
    },
    {
      "cell_type": "code",
      "metadata": {
        "id": "ZexLjvrGO3nU"
      },
      "source": [
        "# 매개변수, parameter, argument\n",
        "def add(a,b):\n",
        "  print(a+b)"
      ],
      "execution_count": 3,
      "outputs": []
    },
    {
      "cell_type": "code",
      "metadata": {
        "colab": {
          "base_uri": "https://localhost:8080/"
        },
        "id": "uLSmAAGNP_LP",
        "outputId": "a17353a6-a799-434e-da1e-66c1c69f0cc4"
      },
      "source": [
        "add(4,5), add(10,20)"
      ],
      "execution_count": 4,
      "outputs": [
        {
          "output_type": "stream",
          "text": [
            "9\n",
            "30\n"
          ],
          "name": "stdout"
        },
        {
          "output_type": "execute_result",
          "data": {
            "text/plain": [
              "(None, None)"
            ]
          },
          "metadata": {
            "tags": []
          },
          "execution_count": 4
        }
      ]
    },
    {
      "cell_type": "code",
      "metadata": {
        "id": "w9HkAykbQFJO"
      },
      "source": [
        "# Docstrings\n",
        "def add(a,b):\n",
        "  '''\n",
        "  이 함수는 a와 b를 더한 뒤 결과를 반환하는 함수입니다.\n",
        "  '''\n",
        "  print(a+b)\n"
      ],
      "execution_count": 5,
      "outputs": []
    },
    {
      "cell_type": "code",
      "metadata": {
        "id": "tI_T-vYGRHbk"
      },
      "source": [
        "# 도움말 호출\n",
        "add?"
      ],
      "execution_count": 6,
      "outputs": []
    },
    {
      "cell_type": "markdown",
      "metadata": {
        "id": "KGujztOwRgyx"
      },
      "source": [
        "## 29.3 결과값 반환"
      ]
    },
    {
      "cell_type": "code",
      "metadata": {
        "id": "6OKX5I90RMPW"
      },
      "source": [
        "def add(a,b):\n",
        "  return a+b"
      ],
      "execution_count": 7,
      "outputs": []
    },
    {
      "cell_type": "code",
      "metadata": {
        "colab": {
          "base_uri": "https://localhost:8080/"
        },
        "id": "7Qc6LOS3RnDy",
        "outputId": "a90cc6ea-3cf0-4f77-c17d-2530c5c625f1"
      },
      "source": [
        "add(4,5), add(10,20)"
      ],
      "execution_count": 9,
      "outputs": [
        {
          "output_type": "execute_result",
          "data": {
            "text/plain": [
              "(9, 30)"
            ]
          },
          "metadata": {
            "tags": []
          },
          "execution_count": 9
        }
      ]
    },
    {
      "cell_type": "code",
      "metadata": {
        "colab": {
          "base_uri": "https://localhost:8080/"
        },
        "id": "mUBWRH2jRshT",
        "outputId": "e11e55d2-7331-4a65-a8eb-4567e5a8e823"
      },
      "source": [
        "x =add(23, 45)\n",
        "x"
      ],
      "execution_count": 11,
      "outputs": [
        {
          "output_type": "execute_result",
          "data": {
            "text/plain": [
              "68"
            ]
          },
          "metadata": {
            "tags": []
          },
          "execution_count": 11
        }
      ]
    },
    {
      "cell_type": "code",
      "metadata": {
        "id": "tRkBC9e0R119"
      },
      "source": [
        "def is_ten(x):\n",
        "  return x ==10"
      ],
      "execution_count": 13,
      "outputs": []
    },
    {
      "cell_type": "code",
      "metadata": {
        "colab": {
          "base_uri": "https://localhost:8080/"
        },
        "id": "Ir05OQJzSP0q",
        "outputId": "b6ca9a99-6c74-4e8d-dd3b-5265cba6931e"
      },
      "source": [
        "is_ten(101/10)"
      ],
      "execution_count": 14,
      "outputs": [
        {
          "output_type": "execute_result",
          "data": {
            "text/plain": [
              "False"
            ]
          },
          "metadata": {
            "tags": []
          },
          "execution_count": 14
        }
      ]
    },
    {
      "cell_type": "code",
      "metadata": {
        "id": "8i4Bn_n1SVhv"
      },
      "source": [
        "def not_ten(x):\n",
        "  if x==10:\n",
        "    return\n",
        "  else:\n",
        "    print('It is not 10.')"
      ],
      "execution_count": 19,
      "outputs": []
    },
    {
      "cell_type": "code",
      "metadata": {
        "id": "eczfU0UZTghX"
      },
      "source": [
        "def not_ten(x):\n",
        "  if x==10:\n",
        "    return    # 반환 이외의 역할을 수행함\n",
        "  print('It is not 10.')"
      ],
      "execution_count": 20,
      "outputs": []
    },
    {
      "cell_type": "code",
      "metadata": {
        "colab": {
          "base_uri": "https://localhost:8080/"
        },
        "id": "uR0A5-23Sgts",
        "outputId": "758b5205-b878-4923-d8cd-ad25da172f0e"
      },
      "source": [
        "not_ten(5)"
      ],
      "execution_count": 21,
      "outputs": [
        {
          "output_type": "stream",
          "text": [
            "It is not 10.\n"
          ],
          "name": "stdout"
        }
      ]
    },
    {
      "cell_type": "markdown",
      "metadata": {
        "id": "Coq6ekIXTZRv"
      },
      "source": [
        "## 29.4 여러 개의 결과값 반환"
      ]
    },
    {
      "cell_type": "code",
      "metadata": {
        "id": "qIY2BW5UTZDw"
      },
      "source": [
        "def add_sub(a,b):\n",
        "  return a+b, a-b"
      ],
      "execution_count": 22,
      "outputs": []
    },
    {
      "cell_type": "code",
      "metadata": {
        "id": "geYNhBqoSpIg"
      },
      "source": [
        "x,y = add_sub(15,7)"
      ],
      "execution_count": 23,
      "outputs": []
    },
    {
      "cell_type": "code",
      "metadata": {
        "colab": {
          "base_uri": "https://localhost:8080/"
        },
        "id": "4GbVLwhlTv27",
        "outputId": "00d12aa1-8a3b-4a15-b7a8-5c879c370321"
      },
      "source": [
        "x,y"
      ],
      "execution_count": 24,
      "outputs": [
        {
          "output_type": "execute_result",
          "data": {
            "text/plain": [
              "(22, 8)"
            ]
          },
          "metadata": {
            "tags": []
          },
          "execution_count": 24
        }
      ]
    },
    {
      "cell_type": "markdown",
      "metadata": {
        "id": "JbiIo4AuUJDs"
      },
      "source": [
        "## 29.5 함수의 호출 과정"
      ]
    },
    {
      "cell_type": "code",
      "metadata": {
        "id": "fYYL07fKTx3C"
      },
      "source": [
        "# stack을 이용 "
      ],
      "execution_count": 25,
      "outputs": []
    },
    {
      "cell_type": "markdown",
      "metadata": {
        "id": "kMZoMcEcVTaM"
      },
      "source": [
        "### 연습문제\n",
        "- 3 자리수 정수 두개를 곱해서 나온 결과가 팔린드롬(Palindrome)이 되도록 할 때, 가장 큰 숫자는?"
      ]
    },
    {
      "cell_type": "code",
      "metadata": {
        "id": "bPS69N_fVSYb"
      },
      "source": [
        "def is_palindrome(x):\n",
        "  s= str(x)\n",
        "  return s == s[::-1]"
      ],
      "execution_count": 77,
      "outputs": []
    },
    {
      "cell_type": "code",
      "metadata": {
        "colab": {
          "base_uri": "https://localhost:8080/"
        },
        "id": "3UztZExyWabw",
        "outputId": "e2f52e78-c970-4d0d-b604-c055a1461655"
      },
      "source": [
        "max, n, m = 0,0,0\n",
        "\n",
        "for i in range(100,1000):\n",
        "  for k in range(100,1000):\n",
        "    if is_palindrome(i*k):\n",
        "      if i*k > max:\n",
        "        max = i*k\n",
        "        n = i\n",
        "        m = k\n",
        "\n",
        "print(f'{n}X{m} = {max}')"
      ],
      "execution_count": 81,
      "outputs": [
        {
          "output_type": "stream",
          "text": [
            "913X993 = 906609\n"
          ],
          "name": "stdout"
        }
      ]
    }
  ]
}