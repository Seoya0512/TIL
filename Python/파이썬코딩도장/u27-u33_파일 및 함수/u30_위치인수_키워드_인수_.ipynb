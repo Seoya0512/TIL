{
  "nbformat": 4,
  "nbformat_minor": 0,
  "metadata": {
    "colab": {
      "name": "u30_위치인수_키워드 인수_.ipynb",
      "provenance": [],
      "collapsed_sections": []
    },
    "kernelspec": {
      "name": "python3",
      "display_name": "Python 3"
    },
    "language_info": {
      "name": "python"
    }
  },
  "cells": [
    {
      "cell_type": "markdown",
      "metadata": {
        "id": "gYQRiAU0go7T"
      },
      "source": [
        "# Unit 30. 위치 인수와 키워드 인수"
      ]
    },
    {
      "cell_type": "markdown",
      "metadata": {
        "id": "1TfW0i02gyj1"
      },
      "source": [
        "## 30.1 위치 인수"
      ]
    },
    {
      "cell_type": "code",
      "metadata": {
        "id": "-A2VrkKbgjPG"
      },
      "source": [
        "def print_numbers(a,b,c):\n",
        "  print(a)\n",
        "  print(b)\n",
        "  print(c)"
      ],
      "execution_count": 1,
      "outputs": []
    },
    {
      "cell_type": "code",
      "metadata": {
        "colab": {
          "base_uri": "https://localhost:8080/"
        },
        "id": "45X5t-U4g9Rt",
        "outputId": "bd054a64-f9fb-4052-cf94-afc49608ed3e"
      },
      "source": [
        "print_numbers(10,20,30)"
      ],
      "execution_count": 2,
      "outputs": [
        {
          "output_type": "stream",
          "text": [
            "10\n",
            "20\n",
            "30\n"
          ],
          "name": "stdout"
        }
      ]
    },
    {
      "cell_type": "code",
      "metadata": {
        "colab": {
          "base_uri": "https://localhost:8080/"
        },
        "id": "dBhQSmgJhAZz",
        "outputId": "66549394-7bbc-4511-95c5-505ac09c2fe6"
      },
      "source": [
        "# *x = 리스트 언패킹\n",
        "x, y =[10,20,30], (40,50,60)\n",
        "print_numbers(*x)\n",
        "print_numbers(*y)"
      ],
      "execution_count": 4,
      "outputs": [
        {
          "output_type": "stream",
          "text": [
            "10\n",
            "20\n",
            "30\n",
            "40\n",
            "50\n",
            "60\n"
          ],
          "name": "stdout"
        }
      ]
    },
    {
      "cell_type": "markdown",
      "metadata": {
        "id": "Bj9pqL43h1Pb"
      },
      "source": [
        "### 가변 인수 함수"
      ]
    },
    {
      "cell_type": "code",
      "metadata": {
        "id": "IxvIzrJjhL-G"
      },
      "source": [
        "# 넣는 숫자 다 출력하시오\n",
        "\n",
        "def print_numbers2(*args):\n",
        "  for arg in args:\n",
        "    print(arg)"
      ],
      "execution_count": 7,
      "outputs": []
    },
    {
      "cell_type": "code",
      "metadata": {
        "colab": {
          "base_uri": "https://localhost:8080/"
        },
        "id": "q8BpQHelh_Qn",
        "outputId": "29544be8-3e59-4859-ffe6-27c0c3457937"
      },
      "source": [
        "print_numbers2(10,20,30,40,50)"
      ],
      "execution_count": 6,
      "outputs": [
        {
          "output_type": "stream",
          "text": [
            "10\n",
            "20\n",
            "30\n",
            "40\n",
            "50\n"
          ],
          "name": "stdout"
        }
      ]
    },
    {
      "cell_type": "markdown",
      "metadata": {
        "id": "wotl_qq2iW3Z"
      },
      "source": [
        "### 고정 인수와 가변 인수"
      ]
    },
    {
      "cell_type": "code",
      "metadata": {
        "id": "IPe9sIzviEZW"
      },
      "source": [
        "def print_numbers3(a, *args):\n",
        "  print(a)\n",
        "  print(args)"
      ],
      "execution_count": 8,
      "outputs": []
    },
    {
      "cell_type": "code",
      "metadata": {
        "colab": {
          "base_uri": "https://localhost:8080/"
        },
        "id": "19boJ3DmiucP",
        "outputId": "58aceff9-414c-42bd-851b-16e72537418e"
      },
      "source": [
        "print_numbers3(1,10,20)"
      ],
      "execution_count": 9,
      "outputs": [
        {
          "output_type": "stream",
          "text": [
            "1\n",
            "(10, 20)\n"
          ],
          "name": "stdout"
        }
      ]
    },
    {
      "cell_type": "code",
      "metadata": {
        "colab": {
          "base_uri": "https://localhost:8080/"
        },
        "id": "WU-77o3pixwo",
        "outputId": "75b436d2-455e-4e7f-e745-360f1df7f4d0"
      },
      "source": [
        "print_numbers3(*x)"
      ],
      "execution_count": 10,
      "outputs": [
        {
          "output_type": "stream",
          "text": [
            "10\n",
            "(20, 30)\n"
          ],
          "name": "stdout"
        }
      ]
    },
    {
      "cell_type": "markdown",
      "metadata": {
        "id": "7vrkeb42mXlU"
      },
      "source": [
        "## 30.2 키워드 인수"
      ]
    },
    {
      "cell_type": "code",
      "metadata": {
        "id": "Wh8yo8fUjA1t"
      },
      "source": [
        "def personal_info(name, age, addr):\n",
        "  print('이름 :', name)\n",
        "  print('나이 :', age)\n",
        "  print('주소:', addr)"
      ],
      "execution_count": 11,
      "outputs": []
    },
    {
      "cell_type": "code",
      "metadata": {
        "colab": {
          "base_uri": "https://localhost:8080/"
        },
        "id": "ProbvtKXoDdE",
        "outputId": "95e59075-fbf1-428a-cfa5-ea5fd9a33c51"
      },
      "source": [
        "personal_info('홍길동', 30, '서울 강남구 도곡동')"
      ],
      "execution_count": 13,
      "outputs": [
        {
          "output_type": "stream",
          "text": [
            "이름 : 홍길동\n",
            "나이 : 30\n",
            "주소: 서울 강남구 도곡동\n"
          ],
          "name": "stdout"
        }
      ]
    },
    {
      "cell_type": "markdown",
      "metadata": {
        "id": "dvNf_osuoEik"
      },
      "source": [
        "### 30.3 키워드 인수와 딕셔너리 언패킹"
      ]
    },
    {
      "cell_type": "code",
      "metadata": {
        "colab": {
          "base_uri": "https://localhost:8080/"
        },
        "id": "TOSqivqToHDF",
        "outputId": "cef3a240-6e3a-43e9-b3d3-55c1883a82a2"
      },
      "source": [
        "x = {'name': '홍길동', 'age':30, 'addr':'서울시 강남구 도곡동'}\n",
        "personal_info(**x)"
      ],
      "execution_count": 12,
      "outputs": [
        {
          "output_type": "stream",
          "text": [
            "이름 : 홍길동\n",
            "나이 : 30\n",
            "주소: 서울시 강남구 도곡동\n"
          ],
          "name": "stdout"
        }
      ]
    },
    {
      "cell_type": "code",
      "metadata": {
        "colab": {
          "base_uri": "https://localhost:8080/"
        },
        "id": "4Wnz9EAWoU77",
        "outputId": "ee3cbfb7-f0f9-4cee-835a-a71d6fde23d2"
      },
      "source": [
        "# *x는 x의 키를 불러냄\n",
        "personal_info(*x)"
      ],
      "execution_count": 15,
      "outputs": [
        {
          "output_type": "stream",
          "text": [
            "이름 : name\n",
            "나이 : age\n",
            "주소: addr\n"
          ],
          "name": "stdout"
        }
      ]
    },
    {
      "cell_type": "markdown",
      "metadata": {
        "id": "J8pvhzg7oneK"
      },
      "source": [
        "### 가변 키워드 인수"
      ]
    },
    {
      "cell_type": "code",
      "metadata": {
        "id": "lfQHLINKog1U"
      },
      "source": [
        "def personal_info2(**kwargs):\n",
        "  for key, value in kwargs.items():\n",
        "    print(f'{key}: {value}')"
      ],
      "execution_count": 19,
      "outputs": []
    },
    {
      "cell_type": "code",
      "metadata": {
        "colab": {
          "base_uri": "https://localhost:8080/"
        },
        "id": "uL9tds8wo74L",
        "outputId": "8b9a82a3-e137-444d-8a5d-a828d3f161b6"
      },
      "source": [
        "personal_info2(**x)"
      ],
      "execution_count": 20,
      "outputs": [
        {
          "output_type": "stream",
          "text": [
            "name: 홍길동\n",
            "age: 30\n",
            "addr: 서울시 강남구 도곡동\n"
          ],
          "name": "stdout"
        }
      ]
    },
    {
      "cell_type": "code",
      "metadata": {
        "colab": {
          "base_uri": "https://localhost:8080/"
        },
        "id": "i0sX_Jeko-XM",
        "outputId": "acf0b9ff-436f-481f-fcb2-00c7587a84f2"
      },
      "source": [
        "personal_info2(name='홍길동', age=30)"
      ],
      "execution_count": 21,
      "outputs": [
        {
          "output_type": "stream",
          "text": [
            "name: 홍길동\n",
            "age: 30\n"
          ],
          "name": "stdout"
        }
      ]
    },
    {
      "cell_type": "markdown",
      "metadata": {
        "id": "zu84Rem_pq2b"
      },
      "source": [
        "### 고정 인수와 가변 키워드 인수"
      ]
    },
    {
      "cell_type": "code",
      "metadata": {
        "id": "Mb0uUGW1pWQk"
      },
      "source": [
        "# 선 고정인수 후 가변인수\n",
        "def personal_info3(name, **kwargs):\n",
        "  print(name)\n",
        "  print(kwargs) "
      ],
      "execution_count": 24,
      "outputs": []
    },
    {
      "cell_type": "code",
      "metadata": {
        "colab": {
          "base_uri": "https://localhost:8080/"
        },
        "id": "zT0A-JkwqFFx",
        "outputId": "c80f29b8-f7e0-467a-f0c1-55f611b5ddc1"
      },
      "source": [
        "personal_info3(**x)"
      ],
      "execution_count": 23,
      "outputs": [
        {
          "output_type": "stream",
          "text": [
            "홍길동\n",
            "{'age': 30, 'addr': '서울시 강남구 도곡동'}\n"
          ],
          "name": "stdout"
        }
      ]
    },
    {
      "cell_type": "markdown",
      "metadata": {
        "id": "jNxIzgauqSnw"
      },
      "source": [
        "### 위치 인수와 키워드 인수"
      ]
    },
    {
      "cell_type": "code",
      "metadata": {
        "id": "hBUE82reqI4W"
      },
      "source": [
        "# 반드시!! 위치인수가 먼저 와야한다\n",
        "\n",
        "def my_print(*args, **kwargs):\n",
        "  print(*args, **kwargs)"
      ],
      "execution_count": 27,
      "outputs": []
    },
    {
      "cell_type": "code",
      "metadata": {
        "colab": {
          "base_uri": "https://localhost:8080/"
        },
        "id": "fKxLs3SqqnFr",
        "outputId": "80fbd78a-5ec6-4df6-9f5b-724027e00f4b"
      },
      "source": [
        "my_print(10,20,30, sep=' , ')"
      ],
      "execution_count": 31,
      "outputs": [
        {
          "output_type": "stream",
          "text": [
            "10 , 20 , 30\n"
          ],
          "name": "stdout"
        }
      ]
    },
    {
      "cell_type": "markdown",
      "metadata": {
        "id": "hHA0tZRwrcA6"
      },
      "source": [
        "## 30.4 매개변수의 초기값 지정"
      ]
    },
    {
      "cell_type": "code",
      "metadata": {
        "id": "STiNH8lVqw0B"
      },
      "source": [
        "def personal_info4(name, age, addr='비공개'):\n",
        "  print('이름 :', name)\n",
        "  print('나이 :', age)\n",
        "  print('주소:', addr)\n",
        "  "
      ],
      "execution_count": 32,
      "outputs": []
    },
    {
      "cell_type": "code",
      "metadata": {
        "colab": {
          "base_uri": "https://localhost:8080/"
        },
        "id": "2tMHs-g8rzr-",
        "outputId": "e9a4ffb8-2d86-426b-f038-1a693120b97b"
      },
      "source": [
        "# 주소가 미포함된 value를 입력하면, 주소는 초기값으로 출력된다\n",
        "personal_info4('홍길동', 30)"
      ],
      "execution_count": 35,
      "outputs": [
        {
          "output_type": "stream",
          "text": [
            "이름 : 홍길동\n",
            "나이 : 30\n",
            "주소: 비공개\n"
          ],
          "name": "stdout"
        }
      ]
    },
    {
      "cell_type": "code",
      "metadata": {
        "colab": {
          "base_uri": "https://localhost:8080/"
        },
        "id": "PeYcCB1nr4YE",
        "outputId": "b6b17f28-9cf4-4905-df5c-02086a717c41"
      },
      "source": [
        "personal_info4(**x)"
      ],
      "execution_count": 34,
      "outputs": [
        {
          "output_type": "stream",
          "text": [
            "이름 : 홍길동\n",
            "나이 : 30\n",
            "주소: 서울시 강남구 도곡동\n"
          ],
          "name": "stdout"
        }
      ]
    },
    {
      "cell_type": "code",
      "metadata": {
        "id": "8bvTfs8Ur7_m"
      },
      "source": [
        ""
      ],
      "execution_count": null,
      "outputs": []
    }
  ]
}