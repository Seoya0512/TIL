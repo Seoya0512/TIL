{
  "nbformat": 4,
  "nbformat_minor": 0,
  "metadata": {
    "colab": {
      "name": "u31_재귀호출.ipynb",
      "provenance": [],
      "collapsed_sections": []
    },
    "kernelspec": {
      "name": "python3",
      "display_name": "Python 3"
    },
    "language_info": {
      "name": "python"
    }
  },
  "cells": [
    {
      "cell_type": "markdown",
      "metadata": {
        "id": "UzSGylxwuCJI"
      },
      "source": [
        "# Unit 31. 재귀호출(Recursive Call)"
      ]
    },
    {
      "cell_type": "markdown",
      "metadata": {
        "id": "Jj57e145ub9_"
      },
      "source": [
        "### factorial 함수를 재귀호출로 구현 "
      ]
    },
    {
      "cell_type": "code",
      "metadata": {
        "id": "nHdFYhjwt6uO"
      },
      "source": [
        "def factorial(n):\n",
        "  if n == 0 :\n",
        "    return 1\n",
        "  return n * factorial(n-1)"
      ],
      "execution_count": 1,
      "outputs": []
    },
    {
      "cell_type": "code",
      "metadata": {
        "colab": {
          "base_uri": "https://localhost:8080/"
        },
        "id": "JK70Y9F9u1h2",
        "outputId": "d1d23bc2-cdb0-4fdc-d029-7c82c0ddb1ee"
      },
      "source": [
        "factorial(5)"
      ],
      "execution_count": 2,
      "outputs": [
        {
          "output_type": "execute_result",
          "data": {
            "text/plain": [
              "120"
            ]
          },
          "metadata": {
            "tags": []
          },
          "execution_count": 2
        }
      ]
    },
    {
      "cell_type": "code",
      "metadata": {
        "id": "n_BC_UZlwNHs"
      },
      "source": [
        "def fibbo(n):\n",
        "  if n == 1 or n==2:\n",
        "    return 1\n",
        "  return fibbo(n-1)+fibbo(n-2) "
      ],
      "execution_count": 42,
      "outputs": []
    },
    {
      "cell_type": "code",
      "metadata": {
        "colab": {
          "base_uri": "https://localhost:8080/"
        },
        "id": "x9ZGu42sxuwC",
        "outputId": "5d88931a-5383-4fb9-8a95-7f6b40805e86"
      },
      "source": [
        "[fibbo(i) for i in range(1,11)]"
      ],
      "execution_count": 44,
      "outputs": [
        {
          "output_type": "execute_result",
          "data": {
            "text/plain": [
              "[1, 1, 2, 3, 5, 8, 13, 21, 34, 55]"
            ]
          },
          "metadata": {
            "tags": []
          },
          "execution_count": 44
        }
      ]
    },
    {
      "cell_type": "code",
      "metadata": {
        "id": "hzZsadusxxUP"
      },
      "source": [
        "\n"
      ],
      "execution_count": null,
      "outputs": []
    }
  ]
}