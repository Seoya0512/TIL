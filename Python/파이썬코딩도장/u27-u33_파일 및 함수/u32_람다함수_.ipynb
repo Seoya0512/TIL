{
  "nbformat": 4,
  "nbformat_minor": 0,
  "metadata": {
    "colab": {
      "name": "u32_람다함수 .ipynb",
      "provenance": [],
      "collapsed_sections": []
    },
    "kernelspec": {
      "name": "python3",
      "display_name": "Python 3"
    },
    "language_info": {
      "name": "python"
    }
  },
  "cells": [
    {
      "cell_type": "markdown",
      "metadata": {
        "id": "14falYvJhh_t"
      },
      "source": [
        "# Unit 32. 람다함수 - 익명(Anonymous)함수"
      ]
    },
    {
      "cell_type": "code",
      "metadata": {
        "id": "F2Dt6h0Dg9DF"
      },
      "source": [
        "def plus_ten(x):\n",
        "  return x+10"
      ],
      "execution_count": 1,
      "outputs": []
    },
    {
      "cell_type": "code",
      "metadata": {
        "colab": {
          "base_uri": "https://localhost:8080/"
        },
        "id": "rzGLjw6Yhp17",
        "outputId": "6efd9578-32c5-4209-d7db-c1ef882234c7"
      },
      "source": [
        "plus_ten(5)"
      ],
      "execution_count": 2,
      "outputs": [
        {
          "output_type": "execute_result",
          "data": {
            "text/plain": [
              "15"
            ]
          },
          "metadata": {
            "tags": []
          },
          "execution_count": 2
        }
      ]
    },
    {
      "cell_type": "code",
      "metadata": {
        "colab": {
          "base_uri": "https://localhost:8080/"
        },
        "id": "m8wJKMlGhrRK",
        "outputId": "c9c955f2-6fbb-4072-fe0f-d7087e6e2aac"
      },
      "source": [
        "plus_ten2 = lambda x: x+10 \n",
        "plus_ten2(5)"
      ],
      "execution_count": 5,
      "outputs": [
        {
          "output_type": "execute_result",
          "data": {
            "text/plain": [
              "15"
            ]
          },
          "metadata": {
            "tags": []
          },
          "execution_count": 5
        }
      ]
    },
    {
      "cell_type": "code",
      "metadata": {
        "colab": {
          "base_uri": "https://localhost:8080/"
        },
        "id": "0IO42B1riGVK",
        "outputId": "fba3310e-3b4e-499f-beba-cf70d8b1ff27"
      },
      "source": [
        "(lambda x: x+10)(5)"
      ],
      "execution_count": 7,
      "outputs": [
        {
          "output_type": "execute_result",
          "data": {
            "text/plain": [
              "15"
            ]
          },
          "metadata": {
            "tags": []
          },
          "execution_count": 7
        }
      ]
    },
    {
      "cell_type": "code",
      "metadata": {
        "colab": {
          "base_uri": "https://localhost:8080/"
        },
        "id": "tdmsUD7AinQL",
        "outputId": "397411d7-ac0c-4ea7-fce5-8783a9769ab3"
      },
      "source": [
        "# 어디에 사용하면 좋을꼬?\n",
        "# map함수의 함수영역 \n",
        "\n",
        "list(map(lambda x: int(x)+10, input().split()))"
      ],
      "execution_count": 8,
      "outputs": [
        {
          "output_type": "stream",
          "text": [
            "2 5 10\n"
          ],
          "name": "stdout"
        },
        {
          "output_type": "execute_result",
          "data": {
            "text/plain": [
              "[12, 15, 20]"
            ]
          },
          "metadata": {
            "tags": []
          },
          "execution_count": 8
        }
      ]
    },
    {
      "cell_type": "markdown",
      "metadata": {
        "id": "aaZ4jxnikQJK"
      },
      "source": [
        "### 제약사항\n"
      ]
    },
    {
      "cell_type": "code",
      "metadata": {
        "colab": {
          "base_uri": "https://localhost:8080/",
          "height": 130
        },
        "id": "rqGzia3pi7oj",
        "outputId": "a482f642-02c6-4e05-e244-ab9e7eb48806"
      },
      "source": [
        "# 람다함수에서 변수를 만들 수 없음\n",
        "(lambdax: y=10; x+y)(3)"
      ],
      "execution_count": 9,
      "outputs": [
        {
          "output_type": "error",
          "ename": "SyntaxError",
          "evalue": "ignored",
          "traceback": [
            "\u001b[0;36m  File \u001b[0;32m\"<ipython-input-9-59ef995bf5d0>\"\u001b[0;36m, line \u001b[0;32m2\u001b[0m\n\u001b[0;31m    (lambdax: y=10; x+y)(3)\u001b[0m\n\u001b[0m            ^\u001b[0m\n\u001b[0;31mSyntaxError\u001b[0m\u001b[0;31m:\u001b[0m invalid syntax\n"
          ]
        }
      ]
    },
    {
      "cell_type": "code",
      "metadata": {
        "colab": {
          "base_uri": "https://localhost:8080/"
        },
        "id": "g3OpCq2fkZK-",
        "outputId": "6165ee8f-da62-4320-ede8-6ae482ae59a4"
      },
      "source": [
        "y= 10\n",
        "(lambda x:x+y)(3)"
      ],
      "execution_count": 11,
      "outputs": [
        {
          "output_type": "execute_result",
          "data": {
            "text/plain": [
              "13"
            ]
          },
          "metadata": {
            "tags": []
          },
          "execution_count": 11
        }
      ]
    },
    {
      "cell_type": "markdown",
      "metadata": {
        "id": "v5vwNoybktsN"
      },
      "source": [
        "### 조건부 함수"
      ]
    },
    {
      "cell_type": "code",
      "metadata": {
        "colab": {
          "base_uri": "https://localhost:8080/"
        },
        "id": "ZaTp0jSfkctW",
        "outputId": "ed32e757-f731-466c-fc40-4d63d19a761b"
      },
      "source": [
        " a = list(range(1,11))\n",
        " list(map(lambda x: str(x) if x%3==0 else x, a))"
      ],
      "execution_count": 18,
      "outputs": [
        {
          "output_type": "execute_result",
          "data": {
            "text/plain": [
              "[1, 2, '3', 4, 5, '6', 7, 8, '9', 10]"
            ]
          },
          "metadata": {
            "tags": []
          },
          "execution_count": 18
        }
      ]
    },
    {
      "cell_type": "code",
      "metadata": {
        "colab": {
          "base_uri": "https://localhost:8080/"
        },
        "id": "hECgUFXxlNT1",
        "outputId": "6a09c7d7-0d9d-4692-82da-75dc4e534e53"
      },
      "source": [
        "# 리스트 a에서 3의배수는 문자열로, 5의배수는 실수로 변환\n",
        "list(map(lambda x: str(x) if x%3==0 else float(x) if x%5==0 else x, a))"
      ],
      "execution_count": 23,
      "outputs": [
        {
          "output_type": "execute_result",
          "data": {
            "text/plain": [
              "[1, 2, '3', 4, 5.0, '6', 7, 8, '9', 10.0]"
            ]
          },
          "metadata": {
            "tags": []
          },
          "execution_count": 23
        }
      ]
    },
    {
      "cell_type": "markdown",
      "metadata": {
        "id": "sI55IGYUnvIC"
      },
      "source": [
        "### map에 여러개의 객체 넣기"
      ]
    },
    {
      "cell_type": "code",
      "metadata": {
        "colab": {
          "base_uri": "https://localhost:8080/"
        },
        "id": "e6TvzjQKnuE8",
        "outputId": "99c7c2cd-eb2f-4a49-b69c-00f4f672fa46"
      },
      "source": [
        " a =[1,2,3,4,5]\n",
        " b= [6,7,8,9,10]\n",
        "\n",
        " list(map(lambda x,y: x*y, a,b))"
      ],
      "execution_count": 24,
      "outputs": [
        {
          "output_type": "execute_result",
          "data": {
            "text/plain": [
              "[6, 14, 24, 36, 50]"
            ]
          },
          "metadata": {
            "tags": []
          },
          "execution_count": 24
        }
      ]
    },
    {
      "cell_type": "markdown",
      "metadata": {
        "id": "lr9j3254oP0w"
      },
      "source": [
        "### filter"
      ]
    },
    {
      "cell_type": "code",
      "metadata": {
        "colab": {
          "base_uri": "https://localhost:8080/"
        },
        "id": "szuH3xkSn8M-",
        "outputId": "a689b106-bfbe-4ff1-a696-ee2d0a96cd8d"
      },
      "source": [
        "a = list(range(1,11))\n",
        "list(filter(lambda x: 4<= x < 8, a))"
      ],
      "execution_count": 25,
      "outputs": [
        {
          "output_type": "execute_result",
          "data": {
            "text/plain": [
              "[4, 5, 6, 7]"
            ]
          },
          "metadata": {
            "tags": []
          },
          "execution_count": 25
        }
      ]
    },
    {
      "cell_type": "code",
      "metadata": {
        "id": "9uEeQEOTotdM"
      },
      "source": [
        ""
      ],
      "execution_count": null,
      "outputs": []
    }
  ]
}