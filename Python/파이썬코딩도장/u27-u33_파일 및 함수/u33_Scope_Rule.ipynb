{
  "nbformat": 4,
  "nbformat_minor": 0,
  "metadata": {
    "colab": {
      "name": "u33_Scope Rule.ipynb",
      "provenance": [],
      "collapsed_sections": []
    },
    "kernelspec": {
      "name": "python3",
      "display_name": "Python 3"
    },
    "language_info": {
      "name": "python"
    }
  },
  "cells": [
    {
      "cell_type": "markdown",
      "metadata": {
        "id": "IDsuTYZbrmLS"
      },
      "source": [
        "# Unit33. 변수의 사용 범위 (Scope Rule)"
      ]
    },
    {
      "cell_type": "code",
      "metadata": {
        "colab": {
          "base_uri": "https://localhost:8080/"
        },
        "id": "OcxMrbxorf44",
        "outputId": "2eab7a54-5c5d-4bc5-eadb-bbde0959286d"
      },
      "source": [
        "# 전역변수는 지역변수에서 사용할 수 있다\n",
        "\n",
        "x =10         # 전역변수(global)\n",
        "def foo():\n",
        "  print(x)\n",
        "\n",
        "foo()\n",
        "print(x)"
      ],
      "execution_count": 1,
      "outputs": [
        {
          "output_type": "stream",
          "text": [
            "10\n",
            "10\n"
          ],
          "name": "stdout"
        }
      ]
    },
    {
      "cell_type": "code",
      "metadata": {
        "colab": {
          "base_uri": "https://localhost:8080/"
        },
        "id": "KSko_5CNr2QV",
        "outputId": "65c5839f-f408-4eb9-95f3-cf5aa9040dd4"
      },
      "source": [
        "# 지역변수는 전역변수에서 사용 할 수 없다\n",
        "\n",
        "def foo():\n",
        "  y = 10        #지역변수(local)\n",
        "  print(y)\n",
        "\n",
        "foo()"
      ],
      "execution_count": 5,
      "outputs": [
        {
          "output_type": "stream",
          "text": [
            "10\n"
          ],
          "name": "stdout"
        }
      ]
    },
    {
      "cell_type": "code",
      "metadata": {
        "colab": {
          "base_uri": "https://localhost:8080/",
          "height": 198
        },
        "id": "Sq-HViZLsTbb",
        "outputId": "1f714114-f135-4283-e325-c50475b2b4fb"
      },
      "source": [
        "# 지역변수는 함수밖에서 출력할 수 없다. \n",
        "# 사용할 수 있는 범위는 오직 foo()안에서만 사용할 수 있다.\n",
        "print(y)"
      ],
      "execution_count": 4,
      "outputs": [
        {
          "output_type": "error",
          "ename": "NameError",
          "evalue": "ignored",
          "traceback": [
            "\u001b[0;31m---------------------------------------------------------------------------\u001b[0m",
            "\u001b[0;31mNameError\u001b[0m                                 Traceback (most recent call last)",
            "\u001b[0;32m<ipython-input-4-88c462da9c8f>\u001b[0m in \u001b[0;36m<module>\u001b[0;34m()\u001b[0m\n\u001b[1;32m      1\u001b[0m \u001b[0;31m# 지역변수는 함수밖에서 출력할 수 없다.\u001b[0m\u001b[0;34m\u001b[0m\u001b[0;34m\u001b[0m\u001b[0;34m\u001b[0m\u001b[0m\n\u001b[1;32m      2\u001b[0m \u001b[0;31m# 사용할 수 있는 범위는 오직 foo()안에서만 사용할 수 있다.\u001b[0m\u001b[0;34m\u001b[0m\u001b[0;34m\u001b[0m\u001b[0;34m\u001b[0m\u001b[0m\n\u001b[0;32m----> 3\u001b[0;31m \u001b[0mprint\u001b[0m\u001b[0;34m(\u001b[0m\u001b[0my\u001b[0m\u001b[0;34m)\u001b[0m\u001b[0;34m\u001b[0m\u001b[0;34m\u001b[0m\u001b[0m\n\u001b[0m",
            "\u001b[0;31mNameError\u001b[0m: name 'y' is not defined"
          ]
        }
      ]
    },
    {
      "cell_type": "markdown",
      "metadata": {
        "id": "VnIuKIg9tqVH"
      },
      "source": [
        "## 함수 안에서 전역 변수 변경하기\n"
      ]
    },
    {
      "cell_type": "code",
      "metadata": {
        "colab": {
          "base_uri": "https://localhost:8080/"
        },
        "id": "PrpxLzkdsVzO",
        "outputId": "ba1d5b98-80c6-4504-98c1-16885d569b04"
      },
      "source": [
        "x =10         # 전역변수(global)\n",
        "def foo():\n",
        "  x = 20      # 로컬변수 \n",
        "  print(x)\n",
        "\n",
        "foo()\n",
        "print(x)"
      ],
      "execution_count": 6,
      "outputs": [
        {
          "output_type": "stream",
          "text": [
            "20\n",
            "10\n"
          ],
          "name": "stdout"
        }
      ]
    },
    {
      "cell_type": "code",
      "metadata": {
        "colab": {
          "base_uri": "https://localhost:8080/"
        },
        "id": "oJ4_4Uz4uFcr",
        "outputId": "23a9e516-68f9-42b4-fb5c-0a5c4cccbe39"
      },
      "source": [
        "# 전역변수를 수정하고 싶은 경우\n",
        "\n",
        "x =10         # 전역변수(global)\n",
        "def foo():\n",
        "  global x \n",
        "  x = 20      # 전역변수\n",
        "  print(x)\n",
        "\n",
        "foo()\n",
        "print(x)"
      ],
      "execution_count": 8,
      "outputs": [
        {
          "output_type": "stream",
          "text": [
            "20\n",
            "20\n"
          ],
          "name": "stdout"
        }
      ]
    },
    {
      "cell_type": "code",
      "metadata": {
        "id": "imAwSUX_utt9"
      },
      "source": [
        ""
      ],
      "execution_count": null,
      "outputs": []
    }
  ]
}