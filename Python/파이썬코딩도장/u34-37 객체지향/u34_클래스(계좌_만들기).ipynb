{
  "nbformat": 4,
  "nbformat_minor": 0,
  "metadata": {
    "colab": {
      "name": "u34_클래스(계좌 만들기).ipynb",
      "provenance": [],
      "collapsed_sections": []
    },
    "kernelspec": {
      "name": "python3",
      "display_name": "Python 3"
    },
    "language_info": {
      "name": "python"
    }
  },
  "cells": [
    {
      "cell_type": "markdown",
      "metadata": {
        "id": "L96ATORcPZeA"
      },
      "source": [
        "### 은행 계좌 클래스 만들기\n",
        "\n",
        "속성 \n",
        "\n",
        "- ano: 문자열 6글자, '123456'\n",
        "- owner : 문자열\n",
        "- balance : 잔액, 비공개 속성 ### Method\n",
        "- 생성자\n",
        "- deposit(amount)잔액이 1000만원 이상이면 입금할 수 없음\n",
        "- withdraw(amount) 잔액이 0원 미만이면 출금할 수 없\n",
        "- 출력 가능하게 기록"
      ]
    },
    {
      "cell_type": "code",
      "metadata": {
        "id": "XKEknn6DNmUe"
      },
      "source": [
        "class Account:\n",
        "  def __init__(self, ano, owner, balance):\n",
        "    self.ano = ano\n",
        "    self.owner = owner\n",
        "    self.__balance = balance\n",
        "  \n",
        "  def deposit(self, amount):\n",
        "    if self.__balance + amount >= 1000000000:\n",
        "      print('입금할 수 없습니다. 10000만원이상 불가능')\n",
        "      return\n",
        "    self.__balance += amount\n",
        "  \n",
        "  def withdraw(self, amount):\n",
        "    if self.__balance-amount < 0:\n",
        "      print('출금이 불가능합니다. 잔액 부족')\n",
        "      return\n",
        "    self.__balance -= amount\n",
        "  \n",
        "  def __str__(self):\n",
        "    return f'계좌번호 : {self.ano}, 소유주: {self.owner}, 잔액:{self.__balance}'"
      ],
      "execution_count": 21,
      "outputs": []
    },
    {
      "cell_type": "code",
      "metadata": {
        "colab": {
          "base_uri": "https://localhost:8080/"
        },
        "id": "htn4ziIXRVka",
        "outputId": "f291c0fd-ac45-4af7-b76f-37721bbe129b"
      },
      "source": [
        "acc1 = Account('123456', '홍길동', 3000000)\n",
        "print(acc1)"
      ],
      "execution_count": 22,
      "outputs": [
        {
          "output_type": "stream",
          "text": [
            "계좌번호 : 123456, 소유주: 홍길동, 잔액:3000000\n"
          ],
          "name": "stdout"
        }
      ]
    },
    {
      "cell_type": "code",
      "metadata": {
        "colab": {
          "base_uri": "https://localhost:8080/"
        },
        "id": "9blbMGwtRk27",
        "outputId": "93af137f-59ee-4fca-83be-b4653cf5a78c"
      },
      "source": [
        "acc2 = Account('234567', '김나은', 5000000)\n",
        "print(acc2)"
      ],
      "execution_count": 23,
      "outputs": [
        {
          "output_type": "stream",
          "text": [
            "계좌번호 : 234567, 소유주: 김나은, 잔액:5000000\n"
          ],
          "name": "stdout"
        }
      ]
    },
    {
      "cell_type": "code",
      "metadata": {
        "id": "wFanfiOvSDQG"
      },
      "source": [
        "acc_list = [acc1, acc2]"
      ],
      "execution_count": 24,
      "outputs": []
    },
    {
      "cell_type": "code",
      "metadata": {
        "colab": {
          "base_uri": "https://localhost:8080/"
        },
        "id": "9z_kEO98R5c_",
        "outputId": "6f6be768-8fb1-4392-fe43-ffc482c7d82d"
      },
      "source": [
        "for account in acc_list:\n",
        "  print(account)"
      ],
      "execution_count": 25,
      "outputs": [
        {
          "output_type": "stream",
          "text": [
            "계좌번호 : 123456, 소유주: 홍길동, 잔액:3000000\n",
            "계좌번호 : 234567, 소유주: 김나은, 잔액:5000000\n"
          ],
          "name": "stdout"
        }
      ]
    },
    {
      "cell_type": "markdown",
      "metadata": {
        "id": "nJrBQy2hSLpz"
      },
      "source": [
        "### 은행 계좌 개설 및 입,출금 프로그램 만들기\n",
        "1: 계좌생성\n",
        "2: 계좌목록\n",
        "3: 입금\n",
        "4: 출금\n",
        "5: 종료"
      ]
    },
    {
      "cell_type": "code",
      "metadata": {
        "id": "I3wMCZXPTFfO"
      },
      "source": [
        "def create_account():\n",
        "  s = input('계좌번호 성명 금액 > ').split()\n",
        "  ano, owner = s[0], s[1]\n",
        "  amount = int(s[2])\n",
        "\n",
        "  acc = Account(ano,owner,amount)\n",
        "  acc_list.append(acc)"
      ],
      "execution_count": 26,
      "outputs": []
    },
    {
      "cell_type": "code",
      "metadata": {
        "id": "B-CXpx2UTF3U"
      },
      "source": [
        "def deposit_account():\n",
        "  s = input('계좌번호 금액 > ').split()\n",
        "  ano, amount = s[0], int(s[1])\n",
        "  for acc in acc_list:\n",
        "    if acc.ano == ano:\n",
        "      acc.deposit(amount)\n",
        "      return"
      ],
      "execution_count": 18,
      "outputs": []
    },
    {
      "cell_type": "code",
      "metadata": {
        "id": "KzZvakeITFSK"
      },
      "source": [
        "def withdraw_account():\n",
        "  s = input('계좌번호 금액 > ').split()\n",
        "  ano, amount = s[0], int(s[1])\n",
        "  for acc in acc_list:\n",
        "    if acc.ano == ano:\n",
        "      acc.withdraw(amount)\n",
        "      return"
      ],
      "execution_count": 19,
      "outputs": []
    },
    {
      "cell_type": "code",
      "metadata": {
        "colab": {
          "base_uri": "https://localhost:8080/"
        },
        "id": "eO23rDfJSJmU",
        "outputId": "d43aa8d4-167e-4cb6-c503-4852407398ad"
      },
      "source": [
        "while True:\n",
        "  menu = int(input('1: 계좌생성 2: 계좌목록 3: 입금 4: 출금 5: 종료> ' ))\n",
        "  if menu == 5:\n",
        "    break\n",
        "  if menu == 1:\n",
        "    create_account()\n",
        "  elif menu ==2:\n",
        "    for account in acc_list:\n",
        "      print(account)\n",
        "  elif menu ==3 :\n",
        "    deposit_account()\n",
        "  elif menu ==4 :\n",
        "    withdraw_account()\n",
        "  else:\n",
        "    print('잘못된 메뉴입니다')\n",
        "  \n",
        "  print()"
      ],
      "execution_count": 20,
      "outputs": [
        {
          "output_type": "stream",
          "text": [
            "1: 계좌생성 2: 계좌목록 3: 입금 4: 출금 5: 종료> 3\n",
            "계좌번호 금액 > '345678'  5000000\n",
            "8500000 입금되었습니다.\n",
            "\n",
            "1: 계좌생성 2: 계좌목록 3: 입금 4: 출금 5: 종료> 4\n",
            "계좌번호 금액 > '345678' 2500000\n",
            "6000000 출금되었습니다.\n",
            "\n",
            "1: 계좌생성 2: 계좌목록 3: 입금 4: 출금 5: 종료> 5\n"
          ],
          "name": "stdout"
        }
      ]
    },
    {
      "cell_type": "code",
      "metadata": {
        "id": "D0vpPGkmSoNQ"
      },
      "source": [
        ""
      ],
      "execution_count": null,
      "outputs": []
    }
  ]
}