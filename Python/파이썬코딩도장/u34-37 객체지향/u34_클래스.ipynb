{
  "nbformat": 4,
  "nbformat_minor": 0,
  "metadata": {
    "colab": {
      "name": "u34_클래스.ipynb",
      "provenance": [],
      "collapsed_sections": []
    },
    "kernelspec": {
      "name": "python3",
      "display_name": "Python 3"
    },
    "language_info": {
      "name": "python"
    }
  },
  "cells": [
    {
      "cell_type": "markdown",
      "metadata": {
        "id": "30a-pmdv7ByA"
      },
      "source": [
        "# Unit34. 클래스(Class)"
      ]
    },
    {
      "cell_type": "markdown",
      "metadata": {
        "id": "UyoOVChB7XbU"
      },
      "source": [
        "## 34.1 클래스와 메서드 만들기"
      ]
    },
    {
      "cell_type": "code",
      "metadata": {
        "id": "mXagyzDrwwtq"
      },
      "source": [
        "class Person :          # 클래스 이름은 대문자로 시작\n",
        "  def greeting(self):\n",
        "    print('Hello')"
      ],
      "execution_count": 2,
      "outputs": []
    },
    {
      "cell_type": "code",
      "metadata": {
        "id": "3_xGZifF7mZO"
      },
      "source": [
        "# 인스턴스(변수)를 만들어야 클래스를 사용할 수 있다\n",
        "\n",
        "james = Person()\n",
        "maria = Person()"
      ],
      "execution_count": 7,
      "outputs": []
    },
    {
      "cell_type": "code",
      "metadata": {
        "colab": {
          "base_uri": "https://localhost:8080/"
        },
        "id": "jScBIGk58Wak",
        "outputId": "1077513e-8d98-4883-f2aa-059596eb626a"
      },
      "source": [
        "james.greeting(), maria.greeting()"
      ],
      "execution_count": 8,
      "outputs": [
        {
          "output_type": "stream",
          "text": [
            "Hello\n",
            "Hello\n"
          ],
          "name": "stdout"
        },
        {
          "output_type": "execute_result",
          "data": {
            "text/plain": [
              "(None, None)"
            ]
          },
          "metadata": {
            "tags": []
          },
          "execution_count": 8
        }
      ]
    },
    {
      "cell_type": "code",
      "metadata": {
        "colab": {
          "base_uri": "https://localhost:8080/"
        },
        "id": "oaabDWtU8Zd2",
        "outputId": "7753ce89-8680-46cd-ec75-e73ed1c05beb"
      },
      "source": [
        "Person().greeting()"
      ],
      "execution_count": 9,
      "outputs": [
        {
          "output_type": "stream",
          "text": [
            "Hello\n"
          ],
          "name": "stdout"
        }
      ]
    },
    {
      "cell_type": "code",
      "metadata": {
        "id": "I_tS3qPg8iLF"
      },
      "source": [
        "# 클래스 내에서 메서드 호출하기\n",
        "\n",
        "class Person:\n",
        "  def greeting(self):\n",
        "    print('Hello')\n",
        "  \n",
        "  def hello(self):\n",
        "    self.greeting()"
      ],
      "execution_count": 10,
      "outputs": []
    },
    {
      "cell_type": "code",
      "metadata": {
        "colab": {
          "base_uri": "https://localhost:8080/"
        },
        "id": "y_0gXSF9-XcE",
        "outputId": "d4ec6f7d-547b-4c91-d5c5-8a671a8b7a0e"
      },
      "source": [
        "james = Person() \n",
        "james.hello()"
      ],
      "execution_count": 12,
      "outputs": [
        {
          "output_type": "stream",
          "text": [
            "Hello\n"
          ],
          "name": "stdout"
        }
      ]
    },
    {
      "cell_type": "code",
      "metadata": {
        "colab": {
          "base_uri": "https://localhost:8080/"
        },
        "id": "R8Ktmgqc-a0r",
        "outputId": "004c2c84-d70c-4036-c925-038acaccd3cd"
      },
      "source": [
        "isinstance(james, Person)"
      ],
      "execution_count": 16,
      "outputs": [
        {
          "output_type": "execute_result",
          "data": {
            "text/plain": [
              "True"
            ]
          },
          "metadata": {
            "tags": []
          },
          "execution_count": 16
        }
      ]
    },
    {
      "cell_type": "code",
      "metadata": {
        "id": "LDlssQx2-mX2"
      },
      "source": [
        "def factorial(n):\n",
        "  if not isinstance(n, int) or n <0:\n",
        "    return None\n",
        "  if n == 0:\n",
        "    return 1\n",
        "  return n * factorial(n-1)"
      ],
      "execution_count": 17,
      "outputs": []
    },
    {
      "cell_type": "code",
      "metadata": {
        "id": "cdD8-7hc_GWt"
      },
      "source": [
        "factorial(3.14)"
      ],
      "execution_count": 18,
      "outputs": []
    },
    {
      "cell_type": "code",
      "metadata": {
        "colab": {
          "base_uri": "https://localhost:8080/"
        },
        "id": "btZ7Z4Ye_RCg",
        "outputId": "cde1a399-afe0-425b-e510-e35fd2132893"
      },
      "source": [
        "factorial(6)"
      ],
      "execution_count": 19,
      "outputs": [
        {
          "output_type": "execute_result",
          "data": {
            "text/plain": [
              "720"
            ]
          },
          "metadata": {
            "tags": []
          },
          "execution_count": 19
        }
      ]
    },
    {
      "cell_type": "markdown",
      "metadata": {
        "id": "kF_WvSu2_dBf"
      },
      "source": [
        "## 34.2 속성(Attribute)"
      ]
    },
    {
      "cell_type": "code",
      "metadata": {
        "id": "2g5gD6XP_U0f"
      },
      "source": [
        "class Person:\n",
        "  def __init__(self):\n",
        "    self.hello = '안녕하세요'       # hello 속성을 갖게됨 \n",
        "  \n",
        "  def greeting(self):\n",
        "    print(self.hello)"
      ],
      "execution_count": 20,
      "outputs": []
    },
    {
      "cell_type": "code",
      "metadata": {
        "colab": {
          "base_uri": "https://localhost:8080/"
        },
        "id": "yk5mYMR__-sn",
        "outputId": "d9303456-6694-484d-8e2d-922012da361e"
      },
      "source": [
        "james = Person()\n",
        "james.greeting()"
      ],
      "execution_count": 21,
      "outputs": [
        {
          "output_type": "stream",
          "text": [
            "안녕하세요\n"
          ],
          "name": "stdout"
        }
      ]
    },
    {
      "cell_type": "code",
      "metadata": {
        "colab": {
          "base_uri": "https://localhost:8080/"
        },
        "id": "XoQdAwdwAEft",
        "outputId": "d9ee10c3-f1d7-4d74-e571-36f8bb182e6f"
      },
      "source": [
        "james.hello = 'How are you?'          # 인스턴스에서 hello 속성을 바꿈\n",
        "james.greeting()"
      ],
      "execution_count": 23,
      "outputs": [
        {
          "output_type": "stream",
          "text": [
            "How are you?\n"
          ],
          "name": "stdout"
        }
      ]
    },
    {
      "cell_type": "code",
      "metadata": {
        "colab": {
          "base_uri": "https://localhost:8080/"
        },
        "id": "Qfs_20ANAn83",
        "outputId": "a58e9b7f-94fe-4d16-dc64-ce1ce9b294a0"
      },
      "source": [
        "maria = Person()\n",
        "maria.greeting()"
      ],
      "execution_count": 24,
      "outputs": [
        {
          "output_type": "stream",
          "text": [
            "안녕하세요\n"
          ],
          "name": "stdout"
        }
      ]
    },
    {
      "cell_type": "code",
      "metadata": {
        "id": "XoByerFLAx7J"
      },
      "source": [
        "class Person:\n",
        "  def __init__(self, hello):          # Constructor\n",
        "    self.hello = hello\n",
        "  \n",
        "  def greeting(self):\n",
        "    print(self.hello)"
      ],
      "execution_count": 25,
      "outputs": []
    },
    {
      "cell_type": "code",
      "metadata": {
        "id": "JGXMO8aDBrVY"
      },
      "source": [
        "james = Person('안녕하세요?')\n",
        "maria = Person('How are you?')"
      ],
      "execution_count": 26,
      "outputs": []
    },
    {
      "cell_type": "code",
      "metadata": {
        "colab": {
          "base_uri": "https://localhost:8080/"
        },
        "id": "D27hJTXVB1E8",
        "outputId": "09437e7e-6b51-4e36-8ed2-1f782ad47e5b"
      },
      "source": [
        "james.greeting()\n",
        "maria.greeting()"
      ],
      "execution_count": 27,
      "outputs": [
        {
          "output_type": "stream",
          "text": [
            "안녕하세요?\n",
            "How are you?\n"
          ],
          "name": "stdout"
        }
      ]
    },
    {
      "cell_type": "code",
      "metadata": {
        "id": "IPzD3EuvB6ON"
      },
      "source": [
        "class Person:\n",
        "  def __init__(self,name, age, addr):\n",
        "    self.hello = '안녕하세요?'\n",
        "    self.name = name\n",
        "    self.age = age\n",
        "    self.addr = addr\n",
        "\n",
        "  def greeting(self):\n",
        "    print(f'{self.hello} 저는 {self.name}입니다.')\n",
        "  \n",
        "  def __str__(self):\n",
        "    return f'hello: {self.hello}, name:{self.name}, age: {self.age}, addr:{self.addr}'"
      ],
      "execution_count": 33,
      "outputs": []
    },
    {
      "cell_type": "code",
      "metadata": {
        "colab": {
          "base_uri": "https://localhost:8080/"
        },
        "id": "s8G7GfQnC-89",
        "outputId": "54a47f95-beb3-4dc5-c7d0-79c0f5979a17"
      },
      "source": [
        "maria = Person('마리아', 23, '서울시 강남구 도곡동')\n",
        "maria.greeting()"
      ],
      "execution_count": 34,
      "outputs": [
        {
          "output_type": "stream",
          "text": [
            "안녕하세요? 저는 마리아입니다.\n"
          ],
          "name": "stdout"
        }
      ]
    },
    {
      "cell_type": "code",
      "metadata": {
        "colab": {
          "base_uri": "https://localhost:8080/"
        },
        "id": "x9BzVVUSDK79",
        "outputId": "27b46494-7136-49f4-ee43-239dbff2cd09"
      },
      "source": [
        "print(maria)"
      ],
      "execution_count": 35,
      "outputs": [
        {
          "output_type": "stream",
          "text": [
            "hello: 안녕하세요?, name:마리아, age: 23, addr:서울시 강남구 도곡동\n"
          ],
          "name": "stdout"
        }
      ]
    },
    {
      "cell_type": "markdown",
      "metadata": {
        "id": "WNu4dQW-V3Km"
      },
      "source": [
        "## 34.3 비공개 속성"
      ]
    },
    {
      "cell_type": "code",
      "metadata": {
        "colab": {
          "base_uri": "https://localhost:8080/"
        },
        "id": "zMgPB2uxVGko",
        "outputId": "7b0e69b4-2d24-4437-d44e-013e0800b565"
      },
      "source": [
        "maria.age = 30\n",
        "print(maria)"
      ],
      "execution_count": 36,
      "outputs": [
        {
          "output_type": "stream",
          "text": [
            "hello: 안녕하세요?, name:마리아, age: 30, addr:서울시 강남구 도곡동\n"
          ],
          "name": "stdout"
        }
      ]
    },
    {
      "cell_type": "code",
      "metadata": {
        "id": "Cj77paJuWCh0"
      },
      "source": [
        "class Person:\n",
        "  def __init__(self,name, age, addr, wallet):\n",
        "  \n",
        "    self.name = name\n",
        "    self.age = age\n",
        "    self.addr = addr\n",
        "    self.__wallet = wallet            # = __wallet 속성은 비공개\n",
        "\n",
        "  def greeting(self):\n",
        "    print(f'안녕하세요? 저는 {self.name}입니다.')\n",
        "  \n",
        "  def __str__(self):\n",
        "    return f'hello: {self.hello}, name:{self.name}, age: {self.age}, addr:{self.addr}, wallet:{self.__wallet}'"
      ],
      "execution_count": 38,
      "outputs": []
    },
    {
      "cell_type": "code",
      "metadata": {
        "colab": {
          "base_uri": "https://localhost:8080/"
        },
        "id": "alLcf7JHWN1W",
        "outputId": "c04a6815-fe9a-4703-bd20-ff185656170e"
      },
      "source": [
        "james = Person('제임스', 27, '서울시 강남구 역상동', 10000)\n",
        "james.greeting()"
      ],
      "execution_count": 39,
      "outputs": [
        {
          "output_type": "stream",
          "text": [
            "안녕하세요? 저는 제임스입니다.\n"
          ],
          "name": "stdout"
        }
      ]
    },
    {
      "cell_type": "code",
      "metadata": {
        "colab": {
          "base_uri": "https://localhost:8080/"
        },
        "id": "50F-SAlsXBFj",
        "outputId": "854a5cca-b188-48ae-b2e8-704729d8b6a6"
      },
      "source": [
        "print(james)"
      ],
      "execution_count": 40,
      "outputs": [
        {
          "output_type": "stream",
          "text": [
            "hello: 안녕하세요?, name:제임스, age: 27, addr:서울시 강남구 역상동, wallet:10000\n"
          ],
          "name": "stdout"
        }
      ]
    },
    {
      "cell_type": "code",
      "metadata": {
        "colab": {
          "base_uri": "https://localhost:8080/"
        },
        "id": "uxbwZAyXXCwo",
        "outputId": "05fd417b-5d59-455c-b47d-afc1fe34a1c2"
      },
      "source": [
        "# __wallet은 비공개 속성이므로 클래스 밖에서는 변경할 수 없다\n",
        "\n",
        "james.__wallet = 1000000\n",
        "print(james)"
      ],
      "execution_count": 45,
      "outputs": [
        {
          "output_type": "stream",
          "text": [
            "hello: 안녕하세요?, name:제임스, age: 27, addr:서울시 강남구 역상동, wallet:10000\n"
          ],
          "name": "stdout"
        }
      ]
    },
    {
      "cell_type": "code",
      "metadata": {
        "id": "ZuuRS8YHXInw"
      },
      "source": [
        "class Person:\n",
        "  def __init__(self,name, age, addr, wallet):\n",
        "    self.name = name\n",
        "    self.age = age\n",
        "    self.addr = addr\n",
        "    self.__wallet = wallet            # = __wallet 속성은 비공개\n",
        "\n",
        "  def greeting(self):\n",
        "    print(f'안녕하세요? 저는 {self.name}입니다.')\n",
        "\n",
        "# 비공개 속성을 변경하는 수식 \n",
        "\n",
        "  def pay(self,amount):\n",
        "    if self.__wallet - amount < 0 :\n",
        "      print('지갑에 돈이 부족합니다.')\n",
        "      return\n",
        "    self.__wallet -= amount\n",
        "    print(f'지갑에 남은 돈은 {self.__wallet}입니다.')\n",
        "  \n",
        "  def __str__(self):\n",
        "    return f' name:{self.name}, age: {self.age}, addr:{self.addr}, wallet:{self.__wallet}'"
      ],
      "execution_count": 52,
      "outputs": []
    },
    {
      "cell_type": "code",
      "metadata": {
        "colab": {
          "base_uri": "https://localhost:8080/"
        },
        "id": "ktb6esxeXKnz",
        "outputId": "b09eba2b-185b-46f3-b379-4c439f21a554"
      },
      "source": [
        "james = Person('제임스', 27, '서울시 강남구 역상동', 10000)\n",
        "james.pay(5000)"
      ],
      "execution_count": 53,
      "outputs": [
        {
          "output_type": "stream",
          "text": [
            "지갑에 남은 돈은 5000입니다.\n"
          ],
          "name": "stdout"
        }
      ]
    },
    {
      "cell_type": "code",
      "metadata": {
        "colab": {
          "base_uri": "https://localhost:8080/"
        },
        "id": "g7Tl1QdSYSOG",
        "outputId": "998b5cbd-6868-4297-b7b5-a6b814ca916a"
      },
      "source": [
        "print(james)"
      ],
      "execution_count": 54,
      "outputs": [
        {
          "output_type": "stream",
          "text": [
            " name:제임스, age: 27, addr:서울시 강남구 역상동, wallet:5000\n"
          ],
          "name": "stdout"
        }
      ]
    },
    {
      "cell_type": "markdown",
      "metadata": {
        "id": "KA-SiJK_ZD0g"
      },
      "source": [
        "### 연습문제 "
      ]
    },
    {
      "cell_type": "code",
      "metadata": {
        "id": "10Pt1ICbYda4"
      },
      "source": [
        "class Account:\n",
        "  def __init__(self, ano, owner, balance):\n",
        "    self.ano = ano\n",
        "    self.owner = owner\n",
        "    self.__balance = balance\n",
        "  \n",
        "  def deposit(self,amount) :\n",
        "    if amount + self.__balance >= 10000000:\n",
        "      print(f'{self.__balance} 입금이 불가능합니다.')\n",
        "      return \n",
        "    self.__balance += amount\n",
        "    print(f'{self.__balance} 입금되었습니다.')\n",
        "\n",
        "  def withdraw(self, amount):\n",
        "     if self.__balance - amount <0:\n",
        "      print(f'{self.__balance} 출금이 불가능 합니다.')\n",
        "      return\n",
        "     self.__balance -= amount\n",
        "  \n",
        "  def __str__(self):\n",
        "    return f' 계좌번호:{self.ano}, 소유주: {self.owner}, 잔액:{self.__balance}'\n"
      ],
      "execution_count": 72,
      "outputs": []
    },
    {
      "cell_type": "code",
      "metadata": {
        "colab": {
          "base_uri": "https://localhost:8080/"
        },
        "id": "9dsyP7y1cuYd",
        "outputId": "de748892-e3d6-4b22-d9f5-fdc912e28c3e"
      },
      "source": [
        "acc = Account('123456', '제임스', 10000)\n",
        "print(acc)"
      ],
      "execution_count": 73,
      "outputs": [
        {
          "output_type": "stream",
          "text": [
            " 계좌번호:123456, 소유주: 제임스, 잔액:10000\n"
          ],
          "name": "stdout"
        }
      ]
    },
    {
      "cell_type": "code",
      "metadata": {
        "colab": {
          "base_uri": "https://localhost:8080/"
        },
        "id": "m8OcUDdGeWiS",
        "outputId": "8c64c7cd-630a-4279-86e7-4fe3ea67e3c1"
      },
      "source": [
        "acc2 =Account('987432', '마리아', 3000000)\n",
        "print(acc2)"
      ],
      "execution_count": 74,
      "outputs": [
        {
          "output_type": "stream",
          "text": [
            " 계좌번호:987432, 소유주: 마리아, 잔액:3000000\n"
          ],
          "name": "stdout"
        }
      ]
    },
    {
      "cell_type": "code",
      "metadata": {
        "id": "wKQvqSmgfDkr"
      },
      "source": [
        "acc_list=[acc, acc2]"
      ],
      "execution_count": 76,
      "outputs": []
    },
    {
      "cell_type": "code",
      "metadata": {
        "colab": {
          "base_uri": "https://localhost:8080/"
        },
        "id": "e5P_ScbsfQLo",
        "outputId": "f6fdda83-c7e3-4dab-b2af-44ff4e200e01"
      },
      "source": [
        "for account in acc_list:\n",
        "  print(account)"
      ],
      "execution_count": 77,
      "outputs": [
        {
          "output_type": "stream",
          "text": [
            " 계좌번호:123456, 소유주: 제임스, 잔액:10000\n",
            " 계좌번호:987432, 소유주: 마리아, 잔액:3000000\n"
          ],
          "name": "stdout"
        }
      ]
    },
    {
      "cell_type": "markdown",
      "metadata": {
        "id": "e-edYGS_fwiv"
      },
      "source": [
        "### 1: 계좌생성, 2: 계좌목록, 3:입금, 4:출금, 5:종료"
      ]
    },
    {
      "cell_type": "code",
      "metadata": {
        "id": "IJtb7QH7snx9"
      },
      "source": [
        "def check_duplicate(ano):\n",
        "  for acc in acc_list:\n",
        "    if ano == acc.ano:\n",
        "      return True\n",
        "  return False"
      ],
      "execution_count": 107,
      "outputs": []
    },
    {
      "cell_type": "code",
      "metadata": {
        "id": "_kr-nyP8oCMu"
      },
      "source": [
        "def creat_account():\n",
        "  while True:\n",
        "    s= input('계좌번호 성명 금액> ').split()\n",
        "    anno, owner = s[0], s[1]\n",
        "    amount =int(s[2])\n",
        "\n",
        "  acc = Account(ano,owner, amount)\n",
        "  acc_list.append"
      ],
      "execution_count": 108,
      "outputs": []
    },
    {
      "cell_type": "code",
      "metadata": {
        "id": "GgbGx8b0pIXv"
      },
      "source": [
        "def deposit_account():\n",
        "  s= input('계좌번호 금액> ').split()\n",
        "  ano, amount = s[0], int(s[1])\n",
        "\n",
        "  for account in acc_list:\n",
        "    if acc.ano == ano:\n",
        "      acc.deposit(amount)\n",
        "      return"
      ],
      "execution_count": 109,
      "outputs": []
    },
    {
      "cell_type": "code",
      "metadata": {
        "id": "INQKPv0Hp0RH"
      },
      "source": [
        "def withdraw_account():\n",
        "  s= input('계좌번호 금액> ').split()\n",
        "  ano, amount = s[0], int(s[1])\n",
        "\n",
        "  for account in acc_list:\n",
        "    if acc.ano == ano:\n",
        "      acc.withdraw(amount)\n",
        "      return"
      ],
      "execution_count": 110,
      "outputs": []
    },
    {
      "cell_type": "code",
      "metadata": {
        "colab": {
          "base_uri": "https://localhost:8080/"
        },
        "id": "n2NvQ550fWxI",
        "outputId": "4b87bcf1-e7c6-4398-c859-827fa6adac66"
      },
      "source": [
        "while True:\n",
        "  menu = int(input('1:계좌생성, 2:계좌목록, 3:입금, 4:출금, 5:종료> '))\n",
        "  if menu == 5:\n",
        "    break\n",
        "  if menu == 1:\n",
        "    creat_account()\n",
        "  elif menu == 2:\n",
        "    for account in acc_list:\n",
        "      print(account)\n",
        "  elif menu == 3:\n",
        "    deposit_account()\n",
        "  elif menu == 4:\n",
        "    withdraw_account()\n",
        "  else:\n",
        "    print('잘못된 명령어입니다.')\n",
        "\n",
        "  print()"
      ],
      "execution_count": 111,
      "outputs": [
        {
          "output_type": "stream",
          "text": [
            "1:계좌생성, 2:계좌목록, 3:입금, 4:출금, 5:종료> 5\n"
          ],
          "name": "stdout"
        }
      ]
    }
  ]
}