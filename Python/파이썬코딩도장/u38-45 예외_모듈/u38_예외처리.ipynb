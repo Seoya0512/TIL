{
  "nbformat": 4,
  "nbformat_minor": 0,
  "metadata": {
    "colab": {
      "name": "u38_예외처리.ipynb",
      "provenance": [],
      "collapsed_sections": []
    },
    "kernelspec": {
      "name": "python3",
      "display_name": "Python 3"
    },
    "language_info": {
      "name": "python"
    }
  },
  "cells": [
    {
      "cell_type": "markdown",
      "metadata": {
        "id": "u1vDDUaVtCqh"
      },
      "source": [
        "# Unit 38. 예외처리"
      ]
    },
    {
      "cell_type": "markdown",
      "metadata": {
        "id": "0g44UIuQtJPE"
      },
      "source": [
        "## 38.1 try except"
      ]
    },
    {
      "cell_type": "code",
      "metadata": {
        "colab": {
          "base_uri": "https://localhost:8080/"
        },
        "id": "MDwEwbxbsiGt",
        "outputId": "081dfd27-1095-4eee-b9fc-e76ab043ed80"
      },
      "source": [
        "a = [1, 2, 3]\n",
        "try:\n",
        "  a[4]\n",
        "except:\n",
        "  print('예외 발생')"
      ],
      "execution_count": null,
      "outputs": [
        {
          "output_type": "stream",
          "text": [
            "예외 발생\n"
          ],
          "name": "stdout"
        }
      ]
    },
    {
      "cell_type": "markdown",
      "metadata": {
        "id": "xvk7oYFkwxWZ"
      },
      "source": [
        "### 특정 예외 처리하기"
      ]
    },
    {
      "cell_type": "code",
      "metadata": {
        "colab": {
          "base_uri": "https://localhost:8080/"
        },
        "id": "yuIg6abGurRL",
        "outputId": "750433e3-0df9-4c58-c5aa-89ff43425f8b"
      },
      "source": [
        "try:\n",
        "  int('10d')\n",
        "except ZeroDivisionError:\n",
        "  print('0으로 나눌 수 없습니다.')\n",
        "except IndexError:\n",
        "  print('Index Error 발생')\n",
        "except ValueError:\n",
        "  print('Value Error 발생')"
      ],
      "execution_count": null,
      "outputs": [
        {
          "output_type": "stream",
          "text": [
            "Value Error 발생\n"
          ],
          "name": "stdout"
        }
      ]
    },
    {
      "cell_type": "markdown",
      "metadata": {
        "id": "KApH5z32xJEI"
      },
      "source": [
        "### 예외의 에러메시지 받아오기"
      ]
    },
    {
      "cell_type": "code",
      "metadata": {
        "colab": {
          "base_uri": "https://localhost:8080/"
        },
        "id": "PDF2sv4RxDJC",
        "outputId": "f9b58220-e950-4004-f555-702fffb20754"
      },
      "source": [
        "try:\n",
        "  int('10d')\n",
        "except Exception as e:            # alias \n",
        "  print(e)                        # Exception객체의 __str__() method"
      ],
      "execution_count": null,
      "outputs": [
        {
          "output_type": "stream",
          "text": [
            "invalid literal for int() with base 10: '10d'\n"
          ],
          "name": "stdout"
        }
      ]
    },
    {
      "cell_type": "markdown",
      "metadata": {
        "id": "jfWip4NTxlR0"
      },
      "source": [
        "## 38.2 else - finally"
      ]
    },
    {
      "cell_type": "code",
      "metadata": {
        "colab": {
          "base_uri": "https://localhost:8080/"
        },
        "id": "bZXswmkdxUwn",
        "outputId": "9fc1a981-3e0a-4933-f9fa-8ef1e092076e"
      },
      "source": [
        "try:\n",
        "  x = int(input('나눌 숫자 입력 > '))\n",
        "  y = 10 / x\n",
        "except Exception as e:\n",
        "  print(e)\n",
        "else:\n",
        "  print(y)"
      ],
      "execution_count": null,
      "outputs": [
        {
          "output_type": "stream",
          "text": [
            "나눌 숫자 입력 > 0\n",
            "division by zero\n"
          ],
          "name": "stdout"
        }
      ]
    },
    {
      "cell_type": "code",
      "metadata": {
        "colab": {
          "base_uri": "https://localhost:8080/"
        },
        "id": "XLRSntq52QOJ",
        "outputId": "e06064da-2d8b-4429-93ed-7b357423449f"
      },
      "source": [
        "# 예외와 상관없이 항상 싫행:\n",
        "try:\n",
        "  x = int(input('나눌 숫자 입력 > '))\n",
        "  y = 10 / x\n",
        "except Exception as e:\n",
        "  print(e)\n",
        "else:\n",
        "  print(y)\n",
        "finally:\n",
        "  print('코드 실행 종료')"
      ],
      "execution_count": null,
      "outputs": [
        {
          "output_type": "stream",
          "text": [
            "나눌 숫자 입력 > 0\n",
            "division by zero\n",
            "코드 실행 종료\n"
          ],
          "name": "stdout"
        }
      ]
    },
    {
      "cell_type": "markdown",
      "metadata": {
        "id": "yuGBVazG2NSF"
      },
      "source": [
        "## 38.3 예외 발생시키기\n",
        "\n",
        "\n"
      ]
    },
    {
      "cell_type": "code",
      "metadata": {
        "colab": {
          "base_uri": "https://localhost:8080/"
        },
        "id": "dphTBwwi1jhN",
        "outputId": "50b21adc-ebf8-4688-8576-15075d00c034"
      },
      "source": [
        "import random\n",
        "try:\n",
        "  x = random.randint(1,10)\n",
        "  print(x)\n",
        "  if x % 3 != 0:\n",
        "    raise Exception('3의 배수가 아닙니다')\n",
        "\n",
        "except Exception as e:\n",
        "  print('예외발생', e)"
      ],
      "execution_count": null,
      "outputs": [
        {
          "output_type": "stream",
          "text": [
            "9\n"
          ],
          "name": "stdout"
        }
      ]
    },
    {
      "cell_type": "code",
      "metadata": {
        "id": "lpyVbQ5K5JLb"
      },
      "source": [
        "def multiple11(x):\n",
        "  if x % 11 != 0:\n",
        "    raise Exception('11의 배수가 아닙니다.')\n",
        "  print(x)"
      ],
      "execution_count": null,
      "outputs": []
    },
    {
      "cell_type": "code",
      "metadata": {
        "colab": {
          "base_uri": "https://localhost:8080/"
        },
        "id": "t_madQzV6NMv",
        "outputId": "d27aaeb3-af9e-4c13-80d3-5b840a324713"
      },
      "source": [
        "try:\n",
        "  multiple11(100)\n",
        "except Exception as e:\n",
        "  print('예외발생 - ', e)"
      ],
      "execution_count": null,
      "outputs": [
        {
          "output_type": "stream",
          "text": [
            "예외발생 -  11의 배수가 아닙니다.\n"
          ],
          "name": "stdout"
        }
      ]
    },
    {
      "cell_type": "markdown",
      "metadata": {
        "id": "PtnrLpZXsTBa"
      },
      "source": [
        "### 연습문제 (에러 생성하기)\n",
        "10 이상의 숫자가 입력되도록 하는 에러, LowNumber"
      ]
    },
    {
      "cell_type": "code",
      "metadata": {
        "id": "CeoKbbd26ahJ"
      },
      "source": [
        "# 에러 생성\n",
        "class LowNumber(Exception):\n",
        "\n",
        "  def __str__(self):\n",
        "    return 'Number greater thand 10'"
      ],
      "execution_count": 7,
      "outputs": []
    },
    {
      "cell_type": "code",
      "metadata": {
        "id": "zQEL5JJgsvmN"
      },
      "source": [
        "# 에러 발생 \n",
        "def input_number(num):\n",
        "      if num <= 10:\n",
        "        raise LowNumber()\n",
        "      print(num)"
      ],
      "execution_count": 24,
      "outputs": []
    }
  ]
}