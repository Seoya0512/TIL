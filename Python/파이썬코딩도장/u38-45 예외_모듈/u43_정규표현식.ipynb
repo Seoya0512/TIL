{
  "nbformat": 4,
  "nbformat_minor": 0,
  "metadata": {
    "colab": {
      "name": "u43_정규표현식.ipynb",
      "provenance": [],
      "collapsed_sections": []
    },
    "kernelspec": {
      "name": "python3",
      "display_name": "Python 3"
    },
    "language_info": {
      "name": "python"
    }
  },
  "cells": [
    {
      "cell_type": "markdown",
      "metadata": {
        "id": "oubkXkWN_D6C"
      },
      "source": [
        "# Unit 43. 정규 표현식"
      ]
    },
    {
      "cell_type": "markdown",
      "metadata": {
        "id": "icEryKnb_IWP"
      },
      "source": [
        "### 문자열 판단"
      ]
    },
    {
      "cell_type": "code",
      "metadata": {
        "colab": {
          "base_uri": "https://localhost:8080/"
        },
        "id": "2OV8MCvU-9x8",
        "outputId": "e2ed0bc3-3afa-4c56-b728-c27093ccb4eb"
      },
      "source": [
        "import re\n",
        "re.match('Hello', 'Hello, world!')      # 패턴, 문자열 시작할 때 "
      ],
      "execution_count": null,
      "outputs": [
        {
          "output_type": "execute_result",
          "data": {
            "text/plain": [
              "<re.Match object; span=(0, 5), match='Hello'>"
            ]
          },
          "metadata": {
            "tags": []
          },
          "execution_count": 1
        }
      ]
    },
    {
      "cell_type": "code",
      "metadata": {
        "colab": {
          "base_uri": "https://localhost:8080/"
        },
        "id": "R4Wn61rC_b5i",
        "outputId": "2c727e50-cd7c-4c45-e85c-457cfec86914"
      },
      "source": [
        "z = re.match('Hello', 'Hello, world!')\n",
        "if z:\n",
        "  print('Found!')\n",
        "else:\n",
        "  print('Not found.')"
      ],
      "execution_count": null,
      "outputs": [
        {
          "output_type": "stream",
          "text": [
            "Found!\n"
          ],
          "name": "stdout"
        }
      ]
    },
    {
      "cell_type": "code",
      "metadata": {
        "colab": {
          "base_uri": "https://localhost:8080/"
        },
        "id": "CAjG8kXlC9kp",
        "outputId": "5fbabc26-b596-47fe-9cf8-0abcc378df73"
      },
      "source": [
        "# match()는 문장의 처음에서 찾는 것\n",
        "\n",
        "if re.match('world', 'Hello, world!'):\n",
        "  print('Found!')\n",
        "else:\n",
        "  print('Not found.')"
      ],
      "execution_count": null,
      "outputs": [
        {
          "output_type": "stream",
          "text": [
            "Not found.\n"
          ],
          "name": "stdout"
        }
      ]
    },
    {
      "cell_type": "code",
      "metadata": {
        "colab": {
          "base_uri": "https://localhost:8080/"
        },
        "id": "RqaPcDl7DHg1",
        "outputId": "5602c5e6-3f21-4be9-b20f-b9d70276176c"
      },
      "source": [
        "# search()는 모든 문장에서 찾음 \n",
        "\n",
        "if re.search('world', 'Hello, world!'):\n",
        "  print('Found!')\n",
        "else:\n",
        "  print('Not found.')"
      ],
      "execution_count": null,
      "outputs": [
        {
          "output_type": "stream",
          "text": [
            "Found!\n"
          ],
          "name": "stdout"
        }
      ]
    },
    {
      "cell_type": "markdown",
      "metadata": {
        "id": "pBSg5KowDir_"
      },
      "source": [
        "## 43.2 범위 판단"
      ]
    },
    {
      "cell_type": "code",
      "metadata": {
        "id": "FqEGG98OKA_C"
      },
      "source": [
        "# p = re.compile('^[0-9a-zA-z][-._]?[0-9a-zA-z]*@[[0-9a-zA-z][-._]?[0-9a-zA-z]*.[a-zA-Z]{2,3}$')\n",
        "p = re.compile('^[a-zA-Z0-9+-_.]+@[a-zA-Z0-9-]+\\.[a-zA-Z0-9-.]+$')"
      ],
      "execution_count": null,
      "outputs": []
    },
    {
      "cell_type": "code",
      "metadata": {
        "colab": {
          "base_uri": "https://localhost:8080/"
        },
        "id": "I0qD9e2sLXZg",
        "outputId": "6a555467-b30d-4b05-d309-04b8acb3fdd5"
      },
      "source": [
        "emails = ['python@mail.example.com', 'python+kr@example.com',              # 올바른 형식\n",
        "          'python-dojang@example.co.kr', 'python_10@example.info',         # 올바른 형식\n",
        "          'python.dojang@e-xample.com',                                    # 올바른 형식\n",
        "          '@example.com', 'python@example', 'python@example-com']          # 잘못된 형식\n",
        " \n",
        "for email in emails:\n",
        "    print(p.match(email) != None, end=' ')"
      ],
      "execution_count": null,
      "outputs": [
        {
          "output_type": "stream",
          "text": [
            "True True True True True False False False "
          ],
          "name": "stdout"
        }
      ]
    },
    {
      "cell_type": "code",
      "metadata": {
        "colab": {
          "base_uri": "https://localhost:8080/"
        },
        "id": "4yUi-7zbDOZX",
        "outputId": "42580861-0524-4e5b-f458-6d3a79fd608b"
      },
      "source": [
        "# 휴대전화 번호 형식\n",
        "pattern = '01[0-9]-[0-9]{4}-[0-9]{4}'\n",
        "text = '010-1234-5678'\n",
        "\n",
        "if re.match(pattern,text):\n",
        "  print('올바른 휴대전화번호')\n",
        "else:\n",
        "  print('잘못된 휴대전화번호')"
      ],
      "execution_count": null,
      "outputs": [
        {
          "output_type": "stream",
          "text": [
            "올바른 휴대전화번호\n"
          ],
          "name": "stdout"
        }
      ]
    },
    {
      "cell_type": "code",
      "metadata": {
        "id": "hOHQQLPPEuDt"
      },
      "source": [
        "# 한글 패턴\n",
        "hangul = '[ㄱ-ㅎ ㅏ- ㅣ 가-힣]+'\n",
        "text= 'text'\n",
        "if re.search(hangul, text):\n",
        "  print('한글이 있음')\n",
        "else:\n",
        "  print('한글이 없음')"
      ],
      "execution_count": null,
      "outputs": []
    },
    {
      "cell_type": "markdown",
      "metadata": {
        "id": "6J6n2EiyGJFZ"
      },
      "source": [
        "### 43.4 문자열 바꾸기 (중요)\n"
      ]
    },
    {
      "cell_type": "code",
      "metadata": {
        "colab": {
          "base_uri": "https://localhost:8080/",
          "height": 35
        },
        "id": "e6hKWYAeFwZ-",
        "outputId": "20087818-7836-4829-9564-f8ee80342d80"
      },
      "source": [
        "# re.sub ('패턴', '바꿀 문자열', '문자열')\n",
        "re.sub('apple|oragne', 'fruit', 'apple box oragne tree')"
      ],
      "execution_count": null,
      "outputs": [
        {
          "output_type": "execute_result",
          "data": {
            "application/vnd.google.colaboratory.intrinsic+json": {
              "type": "string"
            },
            "text/plain": [
              "'fruit box fruit tree'"
            ]
          },
          "metadata": {
            "tags": []
          },
          "execution_count": 8
        }
      ]
    },
    {
      "cell_type": "code",
      "metadata": {
        "colab": {
          "base_uri": "https://localhost:8080/",
          "height": 35
        },
        "id": "nWkIGpbVGhS3",
        "outputId": "af20e5c4-c52e-4fc1-ab9d-614664c47c74"
      },
      "source": [
        "re.sub('[0-9]+', 'n', '1 2 Fizz 4 Buzz Fizz 7 8 Fizz Buzz 11 12')"
      ],
      "execution_count": null,
      "outputs": [
        {
          "output_type": "execute_result",
          "data": {
            "application/vnd.google.colaboratory.intrinsic+json": {
              "type": "string"
            },
            "text/plain": [
              "'n n Fizz n Buzz Fizz n n Fizz Buzz n n'"
            ]
          },
          "metadata": {
            "tags": []
          },
          "execution_count": 10
        }
      ]
    },
    {
      "cell_type": "code",
      "metadata": {
        "colab": {
          "base_uri": "https://localhost:8080/",
          "height": 35
        },
        "id": "ZaNeMIJ-HXMj",
        "outputId": "eeadc2d1-f6d0-49dd-a9c2-57caeb32a815"
      },
      "source": [
        "not_hangul_blanc = '[^ㄱ-ㅎ ㅏ-ㅣ 가-힣 ]'\n",
        "text = '에밀리블러트 사랑해,, 사랑스러움의 끝ㅠㅠ 40X로 보면 더 재밌을 듯'\n",
        "text = re.sub(not_hangul_blanc, ' ', text)\n",
        "text"
      ],
      "execution_count": null,
      "outputs": [
        {
          "output_type": "execute_result",
          "data": {
            "application/vnd.google.colaboratory.intrinsic+json": {
              "type": "string"
            },
            "text/plain": [
              "'에밀리블러트 사랑해   사랑스러움의 끝ㅠㅠ    로 보면 더 재밌을 듯'"
            ]
          },
          "metadata": {
            "tags": []
          },
          "execution_count": 19
        }
      ]
    },
    {
      "cell_type": "markdown",
      "metadata": {
        "id": "lvvmP6X1XLnu"
      },
      "source": [
        "### 홈페이지 검사하기 (심사문제)"
      ]
    },
    {
      "cell_type": "code",
      "metadata": {
        "id": "OnrFixk9McYy",
        "colab": {
          "base_uri": "https://localhost:8080/"
        },
        "outputId": "bebbe413-748f-4ba1-fd72-d780a566bc34"
      },
      "source": [
        "import re\n",
        "url = input()\n",
        "pattern = re.compile('^https?://+[a-zA-Z0-9-]+\\.[a-zA-Z0-9-.]+/[a-zA-Z0-9-_/.?=]*')\n",
        "re.match(pattern, url) != None"
      ],
      "execution_count": 13,
      "outputs": [
        {
          "output_type": "stream",
          "text": [
            "http://www.example.com/hello/world.do?key=python\n"
          ],
          "name": "stdout"
        },
        {
          "output_type": "execute_result",
          "data": {
            "text/plain": [
              "True"
            ]
          },
          "metadata": {
            "tags": []
          },
          "execution_count": 13
        }
      ]
    }
  ]
}