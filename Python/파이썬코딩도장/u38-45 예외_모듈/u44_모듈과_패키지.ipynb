{
  "nbformat": 4,
  "nbformat_minor": 0,
  "metadata": {
    "colab": {
      "name": "u44_모듈과 패키지.ipynb",
      "provenance": [],
      "collapsed_sections": []
    },
    "kernelspec": {
      "name": "python3",
      "display_name": "Python 3"
    },
    "language_info": {
      "name": "python"
    }
  },
  "cells": [
    {
      "cell_type": "markdown",
      "metadata": {
        "id": "Hn_YHkiIfJmp"
      },
      "source": [
        "# Unit 44. 모듈과 패키지"
      ]
    },
    {
      "cell_type": "markdown",
      "metadata": {
        "id": "vYwzUzLtgEKa"
      },
      "source": [
        "## 44.1 import"
      ]
    },
    {
      "cell_type": "code",
      "metadata": {
        "colab": {
          "base_uri": "https://localhost:8080/"
        },
        "id": "AfRNli7AfF0p",
        "outputId": "6b031ec1-7a6b-4e88-b69a-d75a20eb87d7"
      },
      "source": [
        "import math\n",
        "math.pi"
      ],
      "execution_count": 1,
      "outputs": [
        {
          "output_type": "execute_result",
          "data": {
            "text/plain": [
              "3.141592653589793"
            ]
          },
          "metadata": {
            "tags": []
          },
          "execution_count": 1
        }
      ]
    },
    {
      "cell_type": "code",
      "metadata": {
        "colab": {
          "base_uri": "https://localhost:8080/"
        },
        "id": "qrsKCczkgJvb",
        "outputId": "feb85b88-28e1-427d-bf7f-1740de7dbc49"
      },
      "source": [
        "math.sqrt(2), math.log2(2), math.sin(math.pi/2)"
      ],
      "execution_count": 3,
      "outputs": [
        {
          "output_type": "execute_result",
          "data": {
            "text/plain": [
              "(1.4142135623730951, 1.0, 1.0)"
            ]
          },
          "metadata": {
            "tags": []
          },
          "execution_count": 3
        }
      ]
    },
    {
      "cell_type": "code",
      "metadata": {
        "colab": {
          "base_uri": "https://localhost:8080/"
        },
        "id": "zK9-2yYagWYu",
        "outputId": "3b502dd3-5a4b-46ad-d195-e44d125dcccb"
      },
      "source": [
        "# alliasing\n",
        "import math as m\n",
        "round(m.pi,4), m.log2(2)\n"
      ],
      "execution_count": 7,
      "outputs": [
        {
          "output_type": "execute_result",
          "data": {
            "text/plain": [
              "(3.1416, 1.0)"
            ]
          },
          "metadata": {
            "tags": []
          },
          "execution_count": 7
        }
      ]
    },
    {
      "cell_type": "code",
      "metadata": {
        "colab": {
          "base_uri": "https://localhost:8080/"
        },
        "id": "6vGd_MZ8g7lw",
        "outputId": "d2f51da0-d930-46ac-ef39-3a1b7371002f"
      },
      "source": [
        "# from을 통해서 함수, 클래스, 전역변수 등을 가져올 수 있음\n",
        "\n",
        "from math import sqrt, pi\n",
        "pi"
      ],
      "execution_count": 9,
      "outputs": [
        {
          "output_type": "execute_result",
          "data": {
            "text/plain": [
              "3.141592653589793"
            ]
          },
          "metadata": {
            "tags": []
          },
          "execution_count": 9
        }
      ]
    },
    {
      "cell_type": "code",
      "metadata": {
        "colab": {
          "base_uri": "https://localhost:8080/"
        },
        "id": "nIVQQYHhhj0a",
        "outputId": "e4597f92-3387-40e8-ca8f-b363ad4baaa1"
      },
      "source": [
        "# 모든 것을 가져옴 \n",
        "from math import *\n",
        "log(2), sin(pi/2)"
      ],
      "execution_count": 11,
      "outputs": [
        {
          "output_type": "execute_result",
          "data": {
            "text/plain": [
              "(0.6931471805599453, 1.0)"
            ]
          },
          "metadata": {
            "tags": []
          },
          "execution_count": 11
        }
      ]
    },
    {
      "cell_type": "markdown",
      "metadata": {
        "id": "30nKcWyMjFGn"
      },
      "source": [
        "## 44.2 import 패키지"
      ]
    },
    {
      "cell_type": "code",
      "metadata": {
        "colab": {
          "base_uri": "https://localhost:8080/"
        },
        "id": "hDkspsCGjAva",
        "outputId": "d5d95abd-e9be-49a0-bd12-10b43e71624f"
      },
      "source": [
        "import urllib.request\n",
        "res = urllib.request.urlopen('http://www.google.co.kr')\n",
        "res.status"
      ],
      "execution_count": 12,
      "outputs": [
        {
          "output_type": "execute_result",
          "data": {
            "text/plain": [
              "200"
            ]
          },
          "metadata": {
            "tags": []
          },
          "execution_count": 12
        }
      ]
    },
    {
      "cell_type": "code",
      "metadata": {
        "colab": {
          "base_uri": "https://localhost:8080/"
        },
        "id": "yquF7dbwjTll",
        "outputId": "6bf9fc92-e883-456b-9bd8-4f2ee44288b3"
      },
      "source": [
        "from urllib.request import urlopen\n",
        "res = urlopen('http://www.google.co.kr')\n",
        "res.status"
      ],
      "execution_count": 14,
      "outputs": [
        {
          "output_type": "execute_result",
          "data": {
            "text/plain": [
              "200"
            ]
          },
          "metadata": {
            "tags": []
          },
          "execution_count": 14
        }
      ]
    },
    {
      "cell_type": "code",
      "metadata": {
        "id": "h3fh7xysjUba"
      },
      "source": [
        ""
      ],
      "execution_count": null,
      "outputs": []
    }
  ]
}