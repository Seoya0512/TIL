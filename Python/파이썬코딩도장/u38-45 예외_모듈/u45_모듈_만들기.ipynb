{
  "nbformat": 4,
  "nbformat_minor": 0,
  "metadata": {
    "colab": {
      "name": "u45_모듈 만들기.ipynb",
      "provenance": [],
      "collapsed_sections": []
    },
    "kernelspec": {
      "name": "python3",
      "display_name": "Python 3"
    },
    "language_info": {
      "name": "python"
    }
  },
  "cells": [
    {
      "cell_type": "markdown",
      "metadata": {
        "id": "GXVndapalThE"
      },
      "source": [
        "## 45.1 모듈 만들기"
      ]
    },
    {
      "cell_type": "code",
      "metadata": {
        "id": "PrGN-d5LTl1J"
      },
      "source": [
        "import u45_square2 as sq"
      ],
      "execution_count": 18,
      "outputs": []
    },
    {
      "cell_type": "code",
      "metadata": {
        "colab": {
          "base_uri": "https://localhost:8080/"
        },
        "id": "SA7Ku9mzTlxw",
        "outputId": "9f190ea0-9c97-4b85-f685-5a0b5ebfccf5"
      },
      "source": [
        "print(sq.base)\n",
        "print(sq.square(10))"
      ],
      "execution_count": 21,
      "outputs": [
        {
          "output_type": "stream",
          "text": [
            "2\n",
            "1024\n"
          ],
          "name": "stdout"
        }
      ]
    },
    {
      "cell_type": "code",
      "metadata": {
        "colab": {
          "base_uri": "https://localhost:8080/"
        },
        "id": "sYlAKUic7s59",
        "outputId": "8c74c8ab-3bcd-4cb7-f030-b3530bf66cf5"
      },
      "source": [
        "from u45_person import Person\n",
        "\n",
        "maria = Person('마리아', 25, '서울시 강남구 도곡동')\n",
        "maria.greeting()"
      ],
      "execution_count": 1,
      "outputs": [
        {
          "output_type": "stream",
          "text": [
            "안녕하세요? 저는 마리아입니다.\n"
          ],
          "name": "stdout"
        }
      ]
    },
    {
      "cell_type": "code",
      "metadata": {
        "colab": {
          "base_uri": "https://localhost:8080/"
        },
        "id": "M5FBl6eZ7x05",
        "outputId": "9cfb92b5-6800-42fb-9294-a925a8919818"
      },
      "source": [
        "# 업로드 됐는지 확인하는 것\n",
        "!ls -l"
      ],
      "execution_count": 2,
      "outputs": [
        {
          "output_type": "stream",
          "text": [
            "total 16\n",
            "drwxr-xr-x 2 root root 4096 Aug  5 06:10 __pycache__\n",
            "drwxr-xr-x 1 root root 4096 Jul 16 13:20 sample_data\n",
            "-rw-r--r-- 1 root root  229 Aug  5 06:10 u45_person.py\n",
            "-rw-r--r-- 1 root root  112 Aug  5 06:11 u45_square2.py\n"
          ],
          "name": "stdout"
        }
      ]
    },
    {
      "cell_type": "code",
      "metadata": {
        "colab": {
          "base_uri": "https://localhost:8080/"
        },
        "id": "rP9cX5Cfl9GN",
        "outputId": "21bf1d66-f3ca-43be-f620-eb428143eb29"
      },
      "source": [
        "# list\n",
        "# ! - Shell escape를 통해서 ls -l __pycache__명령을 실행\n",
        "\n",
        "!ls -l __pycache__"
      ],
      "execution_count": 22,
      "outputs": [
        {
          "output_type": "stream",
          "text": [
            "total 12\n",
            "-rw-r--r-- 1 root root 214 Aug  5 06:25 u45_hello.cpython-37.pyc\n",
            "-rw-r--r-- 1 root root 600 Aug  5 06:10 u45_person.cpython-37.pyc\n",
            "-rw-r--r-- 1 root root 291 Aug  5 07:57 u45_square2.cpython-37.pyc\n"
          ],
          "name": "stdout"
        }
      ]
    },
    {
      "cell_type": "code",
      "metadata": {
        "colab": {
          "base_uri": "https://localhost:8080/"
        },
        "id": "v_36532XmCPr",
        "outputId": "4442ed35-137a-4e0e-c7b4-5b920d375a6e"
      },
      "source": [
        "#모듈을 새로 수정했을 때 사용할 것\n",
        "# remove\n",
        "!rm __pycache__"
      ],
      "execution_count": 23,
      "outputs": [
        {
          "output_type": "stream",
          "text": [
            "rm: cannot remove '__pycache__': Is a directory\n"
          ],
          "name": "stdout"
        }
      ]
    },
    {
      "cell_type": "markdown",
      "metadata": {
        "id": "eGEbqiJL95Zx"
      },
      "source": [
        "## 45.2 모듈과 시작점"
      ]
    },
    {
      "cell_type": "code",
      "metadata": {
        "colab": {
          "base_uri": "https://localhost:8080/",
          "height": 35
        },
        "id": "sf3IcF5t8Mp8",
        "outputId": "4fb9d4d9-e2ce-42ca-9a9e-6b62912ed7ef"
      },
      "source": [
        "__name__"
      ],
      "execution_count": 3,
      "outputs": [
        {
          "output_type": "execute_result",
          "data": {
            "application/vnd.google.colaboratory.intrinsic+json": {
              "type": "string"
            },
            "text/plain": [
              "'__main__'"
            ]
          },
          "metadata": {
            "tags": []
          },
          "execution_count": 3
        }
      ]
    },
    {
      "cell_type": "code",
      "metadata": {
        "id": "1ev4f4JB-w3P"
      },
      "source": [
        "# 모듈 이름이 들어간다 \n",
        "\n",
        "import u45_hello"
      ],
      "execution_count": 25,
      "outputs": []
    },
    {
      "cell_type": "code",
      "metadata": {
        "colab": {
          "base_uri": "https://localhost:8080/"
        },
        "id": "oCI_SyHk-3bH",
        "outputId": "44de56dc-6e2e-4435-9de8-dbca76e5215e"
      },
      "source": [
        "!python u45_hello.py"
      ],
      "execution_count": 8,
      "outputs": [
        {
          "output_type": "stream",
          "text": [
            "hello 모듈시작\n",
            "hello.py__name__ __main__\n",
            "hello 모듈 끝\n"
          ],
          "name": "stdout"
        }
      ]
    },
    {
      "cell_type": "markdown",
      "metadata": {
        "id": "u1sZNWcyAUt4"
      },
      "source": [
        "### Account 클래스를 bank 디렉토리 밑에 util.py라는 이름으로 사용\n",
        "\n"
      ]
    },
    {
      "cell_type": "code",
      "metadata": {
        "colab": {
          "base_uri": "https://localhost:8080/"
        },
        "id": "ZE8CTKQj_Whd",
        "outputId": "42a4e928-8d13-49a9-8eae-7f55d084df54"
      },
      "source": [
        "# bank 라는 폴더(디렉토리)생성\n",
        "\n",
        "!mkdir bank"
      ],
      "execution_count": 27,
      "outputs": [
        {
          "output_type": "stream",
          "text": [
            "mkdir: cannot create directory ‘bank’: File exists\n"
          ],
          "name": "stdout"
        }
      ]
    },
    {
      "cell_type": "code",
      "metadata": {
        "colab": {
          "base_uri": "https://localhost:8080/"
        },
        "id": "ZUciqCx5ArV5",
        "outputId": "938d318d-69c7-4b0f-ad7b-986922ddf88e"
      },
      "source": [
        "!ls -l"
      ],
      "execution_count": 11,
      "outputs": [
        {
          "output_type": "stream",
          "text": [
            "total 24\n",
            "drwxr-xr-x 2 root root 4096 Aug  5 06:31 bank\n",
            "drwxr-xr-x 2 root root 4096 Aug  5 06:25 __pycache__\n",
            "drwxr-xr-x 1 root root 4096 Jul 16 13:20 sample_data\n",
            "-rw-r--r-- 1 root root   90 Aug  5 06:25 u45_hello.py\n",
            "-rw-r--r-- 1 root root  229 Aug  5 06:10 u45_person.py\n",
            "-rw-r--r-- 1 root root  112 Aug  5 06:11 u45_square2.py\n"
          ],
          "name": "stdout"
        }
      ]
    },
    {
      "cell_type": "code",
      "metadata": {
        "id": "H_jEj6pnAwAJ"
      },
      "source": [
        "from bank.u45_util import Account"
      ],
      "execution_count": 12,
      "outputs": []
    },
    {
      "cell_type": "code",
      "metadata": {
        "colab": {
          "base_uri": "https://localhost:8080/"
        },
        "id": "HI1f7n5-B5UX",
        "outputId": "821a2639-5999-40c8-e4bb-36178d23a0a0"
      },
      "source": [
        "!ls -l bank"
      ],
      "execution_count": 13,
      "outputs": [
        {
          "output_type": "stream",
          "text": [
            "total 8\n",
            "drwxr-xr-x 2 root root 4096 Aug  5 06:37 __pycache__\n",
            "-rw-r--r-- 1 root root  685 Aug  5 06:36 u45_util.py\n"
          ],
          "name": "stdout"
        }
      ]
    },
    {
      "cell_type": "code",
      "metadata": {
        "colab": {
          "base_uri": "https://localhost:8080/"
        },
        "id": "OAk1i4BBB7cn",
        "outputId": "ed7bd86c-783e-4a55-b9c8-2135e380bcbe"
      },
      "source": [
        "acc = Account('123456', '제임스', 10000)\n",
        "print(acc)"
      ],
      "execution_count": 14,
      "outputs": [
        {
          "output_type": "stream",
          "text": [
            "계좌번호 : 123456, 소유주: 제임스, 잔액:10000\n"
          ],
          "name": "stdout"
        }
      ]
    }
  ]
}