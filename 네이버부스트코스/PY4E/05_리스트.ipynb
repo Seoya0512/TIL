{
 "cells": [
  {
   "cell_type": "markdown",
   "source": [
    "📌Q1. 여러분 혹시 베스킨라빈스31 게임을 아시나요? 1부터 31까지 숫자를 플레이어들끼리 번갈아 외치다가 31을 외치는 사람이 패배하는 게임인데요.\n",
    "\n",
    "이번엔 이 게임을 파이썬 함수로 만들어 봅시다. 지성이 없이 숫자를 랜덤하게 외치는 컴퓨터와 대결을 해보겠습니다.\n",
    "\n",
    "- 😲조건1 - 나의 턴에서는 숫자를 직접 입력하며 한 번 입력 후에 space 한 번으로 구분\n",
    "- 😲조건2 - 나와 컴퓨터 모두 한 턴에 1회 ~ 3회까지만 숫자를 외칠 수 있음\n",
    "\n",
    "-  😲조건3 - 외쳐진 숫자보다 1큰 수만 외칠수 있음 (ex: 5 다음엔 무조건 6)\n",
    "\n",
    "    - 위 조건이 안맞을 경우 다시 입력"
   ],
   "metadata": {}
  },
  {
   "cell_type": "code",
   "execution_count": 21,
   "source": [
    "def bs31():\n",
    "    print('베스킨라빈스 31게임')\n",
    "    print('-----------')\n",
    "\n",
    "    import random\n",
    "    number = 0\n",
    "    while True:\n",
    "        # my turn \n",
    "        my = input('숫자를 입력하세요: ')\n",
    "        my = my.split()\n",
    "        if int(my[0]) != number + 1 or len(my) > 3:\n",
    "            print('잘못된 숫자입니다.')\n",
    "            continue\n",
    "        # 숫자 2개 입력  \n",
    "        if len(my) == 2:\n",
    "            if int(my[0])+1 != int(my[1]):\n",
    "                print('잘못된 숫자입니다.')\n",
    "                continue\n",
    "        # 숫자 3개 입력 \n",
    "        if len(my) == 3:\n",
    "            if int(my[0]) +1 != int(my[1]) or int(my[1]) +1 != int(my[2]):\n",
    "                print('잘못된 숫자입니다.')\n",
    "                continue \n",
    "        # 현재 숫자 \n",
    "\n",
    "        number = int(my[-1])\n",
    "        print(f'현재 숫자 : {number}')\n",
    "\n",
    "        # 31을 넘는지 검사 \n",
    "        if number >= 31:\n",
    "            print('폐배')\n",
    "\n",
    "        # computer\n",
    "        computer =[]\n",
    "        computer_num = random.randint(1,3)\n",
    "        for i in range(computer_num):\n",
    "            number = number +1 \n",
    "             # 컴퓨터가 31이 넘는 수를 외치면 31로 되돌리기\n",
    "            if number > 31:\n",
    "                number = number -1 \n",
    "                continue\n",
    "            computer.append(number)\n",
    "            print(f'컴퓨터:{computer[-1]}')\n",
    "        print(f'현재 숫자: {number}')\n",
    "        print()\n",
    "          # 31이 있는지 검사\n",
    "        if 31 in computer:\n",
    "            print(\"승리!\")\n",
    "            break\n",
    "\n",
    "    print('게임종료')"
   ],
   "outputs": [],
   "metadata": {}
  },
  {
   "cell_type": "markdown",
   "source": [
    "📌Q2. 다음과 같이 학생들의 시험 답지가 있습니다. 그리고 답안지도 있습니다.\n",
    "\n",
    "함수를 하나 만들어 채점을 하고 학생들의 점수를 출력하고 등수도 함께 출력해주세요."
   ],
   "metadata": {}
  },
  {
   "cell_type": "code",
   "execution_count": 22,
   "source": [
    "# 학생 답\n",
    "s = [\"김갑,3242524215\",\n",
    "\"이을,3242524223\",\n",
    "\"박병,2242554131\",\n",
    "\"최정,4245242315\",\n",
    "\"정무,3242524315\"]\n",
    "\n",
    "# 정답지\n",
    "a = [3,2,4,2,5,2,4,3,1,2]"
   ],
   "outputs": [],
   "metadata": {}
  },
  {
   "cell_type": "code",
   "execution_count": 35,
   "source": [
    "student = s[0].split(',')\n",
    "name = student[0]\n",
    "grade = student[1]\n",
    "name,  grade"
   ],
   "outputs": [
    {
     "output_type": "execute_result",
     "data": {
      "text/plain": [
       "('김갑', '3242524215')"
      ]
     },
     "metadata": {},
     "execution_count": 35
    }
   ],
   "metadata": {}
  },
  {
   "cell_type": "code",
   "execution_count": 37,
   "source": [
    "int(grade[2])"
   ],
   "outputs": [
    {
     "output_type": "execute_result",
     "data": {
      "text/plain": [
       "4"
      ]
     },
     "metadata": {},
     "execution_count": 37
    }
   ],
   "metadata": {}
  },
  {
   "cell_type": "code",
   "execution_count": 56,
   "source": [
    "def grader(student,answers):\n",
    "    name = []\n",
    "    answer = []\n",
    "    for s in student:\n",
    "        s= s.split(',')\n",
    "        name.append(s[0])\n",
    "        answer.append(s[1])\n",
    "\n",
    "    scores =[]\n",
    "    score = 0\n",
    "    for a in answer:\n",
    "        # 인덱스 \n",
    "        for i in range(len(a)):\n",
    "            if int(a[i]) == answers[i]:\n",
    "                score = score + 10 \n",
    "        scores.append(score)\n",
    "        score = 0 \n",
    "    \n",
    "    for i in range(len(name)):\n",
    "        name[i] = name[i] + str(scores[i]) \n",
    "    name.sort(reverse= True)\n",
    "    print(name)\n",
    "\n",
    "    for i in range(len(name)):\n",
    "        print(f'학생: {name[i][:2]} 점수{name[i][2:]}점 {i+1}등')        \n",
    "            "
   ],
   "outputs": [],
   "metadata": {}
  },
  {
   "cell_type": "code",
   "execution_count": 57,
   "source": [
    "grader(s,a)"
   ],
   "outputs": [
    {
     "output_type": "stream",
     "name": "stdout",
     "text": [
      "['최정40', '정무90', '이을70', '박병50', '김갑80']\n",
      "학생: 최정 점수40점 1등\n",
      "학생: 정무 점수90점 2등\n",
      "학생: 이을 점수70점 3등\n",
      "학생: 박병 점수50점 4등\n",
      "학생: 김갑 점수80점 5등\n"
     ]
    }
   ],
   "metadata": {}
  },
  {
   "cell_type": "code",
   "execution_count": null,
   "source": [],
   "outputs": [],
   "metadata": {}
  },
  {
   "cell_type": "code",
   "execution_count": null,
   "source": [],
   "outputs": [],
   "metadata": {}
  }
 ],
 "metadata": {
  "orig_nbformat": 4,
  "language_info": {
   "name": "python",
   "version": "3.8.11",
   "mimetype": "text/x-python",
   "codemirror_mode": {
    "name": "ipython",
    "version": 3
   },
   "pygments_lexer": "ipython3",
   "nbconvert_exporter": "python",
   "file_extension": ".py"
  },
  "kernelspec": {
   "name": "python3",
   "display_name": "Python 3.8.11 64-bit ('base': conda)"
  },
  "interpreter": {
   "hash": "59aa76eec713a2e656bb9d4ddb5f36b21f3d4006b36f877fc5669415524b1415"
  }
 },
 "nbformat": 4,
 "nbformat_minor": 2
}