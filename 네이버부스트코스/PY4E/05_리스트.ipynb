{
 "cells": [
  {
   "cell_type": "markdown",
   "source": [
    "\n",
    "# 문제 출처 ✅\n",
    "* 파이썬(PY4E)코칭스터디 미션 5주차 문제"
   ],
   "metadata": {}
  },
  {
   "cell_type": "markdown",
   "source": [
    "📌Q1. 여러분 혹시 베스킨라빈스31 게임을 아시나요? 1부터 31까지 숫자를 플레이어들끼리 번갈아 외치다가 31을 외치는 사람이 패배하는 게임인데요.\n",
    "\n",
    "이번엔 이 게임을 파이썬 함수로 만들어 봅시다. 지성이 없이 숫자를 랜덤하게 외치는 컴퓨터와 대결을 해보겠습니다.\n",
    "\n",
    "- 😲조건1 - 나의 턴에서는 숫자를 직접 입력하며 한 번 입력 후에 space 한 번으로 구분\n",
    "- 😲조건2 - 나와 컴퓨터 모두 한 턴에 1회 ~ 3회까지만 숫자를 외칠 수 있음\n",
    "\n",
    "-  😲조건3 - 외쳐진 숫자보다 1큰 수만 외칠수 있음 (ex: 5 다음엔 무조건 6)\n",
    "\n",
    "    - 위 조건이 안맞을 경우 다시 입력"
   ],
   "metadata": {}
  },
  {
   "cell_type": "code",
   "execution_count": 21,
   "source": [
    "def bs31():\n",
    "    print('베스킨라빈스 31게임')\n",
    "    print('-----------')\n",
    "\n",
    "    import random\n",
    "    number = 0\n",
    "    while True:\n",
    "        # my turn \n",
    "        my = input('숫자를 입력하세요: ')\n",
    "        my = my.split()\n",
    "        if int(my[0]) != number + 1 or len(my) > 3:\n",
    "            print('잘못된 숫자입니다.')\n",
    "            continue\n",
    "        # 숫자 2개 입력  \n",
    "        if len(my) == 2:\n",
    "            if int(my[0])+1 != int(my[1]):\n",
    "                print('잘못된 숫자입니다.')\n",
    "                continue\n",
    "        # 숫자 3개 입력 \n",
    "        if len(my) == 3:\n",
    "            if int(my[0]) +1 != int(my[1]) or int(my[1]) +1 != int(my[2]):\n",
    "                print('잘못된 숫자입니다.')\n",
    "                continue \n",
    "        # 현재 숫자 \n",
    "\n",
    "        number = int(my[-1])\n",
    "        print(f'현재 숫자 : {number}')\n",
    "\n",
    "        # 31을 넘는지 검사 \n",
    "        if number >= 31:\n",
    "            print('폐배')\n",
    "\n",
    "        # computer\n",
    "        computer =[]\n",
    "        computer_num = random.randint(1,3)\n",
    "        for i in range(computer_num):\n",
    "            number = number +1 \n",
    "             # 컴퓨터가 31이 넘는 수를 외치면 31로 되돌리기\n",
    "            if number > 31:\n",
    "                number = number -1 \n",
    "                continue\n",
    "            computer.append(number)\n",
    "            print(f'컴퓨터:{computer[-1]}')\n",
    "        print(f'현재 숫자: {number}')\n",
    "        print()\n",
    "          # 31이 있는지 검사\n",
    "        if 31 in computer:\n",
    "            print(\"승리!\")\n",
    "            break\n",
    "\n",
    "    print('게임종료')"
   ],
   "outputs": [],
   "metadata": {}
  },
  {
   "cell_type": "markdown",
   "source": [
    "📌Q2. 다음과 같이 학생들의 시험 답지가 있습니다. 그리고 답안지도 있습니다.\n",
    "\n",
    "함수를 하나 만들어 채점을 하고 학생들의 점수를 출력하고 등수도 함께 출력해주세요."
   ],
   "metadata": {}
  },
  {
   "cell_type": "code",
   "execution_count": 22,
   "source": [
    "# 학생 답\n",
    "s = [\"김갑,3242524215\",\n",
    "\"이을,3242524223\",\n",
    "\"박병,2242554131\",\n",
    "\"최정,4245242315\",\n",
    "\"정무,3242524315\"]\n",
    "\n",
    "# 정답지\n",
    "a = [3,2,4,2,5,2,4,3,1,2]"
   ],
   "outputs": [],
   "metadata": {}
  },
  {
   "cell_type": "code",
   "execution_count": 64,
   "source": [
    "def grader(student, answers):\n",
    "    name = [ ]\n",
    "    scores =[ ]\n",
    "    answer = [ ]\n",
    "    for s in student:\n",
    "        s = s.split(',')\n",
    "        name.append(s[0])\n",
    "        answer.append(s[1])\n",
    "    \n",
    "    score = 0\n",
    "    for a in answer:\n",
    "        for i in range(len(a)):\n",
    "            if int(a[i]) == answers[i]:\n",
    "                score = score + 10\n",
    "        scores.append(score)\n",
    "        score = 0\n",
    "\n",
    "    for i in range(len(name)):\n",
    "        name[i] = name[i] + str(scores[i])\n",
    "    name.sort(reverse=True)\n",
    "\n",
    "    for i in range(len(name)):\n",
    "        print(f'학생: {name[i][:2]}, 성적: {name[i][2:]}, 순위 : {i+1}')\n"
   ],
   "outputs": [],
   "metadata": {}
  },
  {
   "cell_type": "code",
   "execution_count": 65,
   "source": [
    "grader(s,a)"
   ],
   "outputs": [
    {
     "output_type": "stream",
     "name": "stdout",
     "text": [
      "학생: 최정, 성적: 40, 순위 : 1\n",
      "학생: 정무, 성적: 90, 순위 : 2\n",
      "학생: 이을, 성적: 70, 순위 : 3\n",
      "학생: 박병, 성적: 50, 순위 : 4\n",
      "학생: 김갑, 성적: 80, 순위 : 5\n"
     ]
    }
   ],
   "metadata": {}
  },
  {
   "cell_type": "markdown",
   "source": [
    "📌Q3. 숫자 맞추기 게임을 만들어 볼게요. 컴퓨터가 임의의 숫자를 3개 만들고 우리가 그것을 맞춰보겠습니다.\n",
    "\n",
    "😲조건1 - 숫자는 0 ~ 100까지 숫자를 3개 만듭니다(중복 불가).<br>\n",
    "😲조건2 - 5회, 10회까지 정답을 못맞추면 최솟값, 최대값에 대한 힌트를 줍니다.<br>\n",
    "😲조건3 - 정답을 맞추면, 맞춘 정답이 최솟값인지, 중간값인지, 최댓값인지 알려줍니다.<br>\n"
   ],
   "metadata": {}
  },
  {
   "cell_type": "code",
   "execution_count": null,
   "source": [
    "guess_numbers()\n",
    "\n",
    "1차 시도\n",
    "숫자를 예측해보세요 : 39\n",
    "숫자를 맞추셨습니다! 39는 최솟값입니다.\n",
    "2차 시도\n",
    "숫자를 예측해보세요 : 48\n",
    "숫자를 맞추셨습니다! 48는 최댓값입니다.\n",
    "3차 시도\n",
    "숫자를 예측해보세요 : 100\n",
    "숫자를 맞추셨습니다! 100는 최댓값입니다.\n",
    "게임종료\n",
    "3번 시도만에 예측 성공\n",
    "\n",
    "...\n",
    "5차 시도\n",
    "숫자를 예측해보세요 : 9\n",
    "9는 없습니다\n",
    "최솟값은 9보다 작습니다\n",
    "6차 시도\n",
    "숫자를 예측해보세요 : 9\n",
    "이미 예측에 사용한 숫자입니다\n",
    "6차 시도"
   ],
   "outputs": [],
   "metadata": {}
  },
  {
   "cell_type": "code",
   "execution_count": null,
   "source": [
    "import random\n",
    "\n",
    "def guess_numbers():\n",
    "    n = 3\n",
    "    numbers= []\n",
    "    while n > 0:\n",
    "        number = random.randint(0,100)\n",
    "        if number in numbers:\n",
    "            continue\n",
    "        else:\n",
    "            numbers.append(number)\n",
    "            n = n - 1\n",
    "    \n",
    "    numbers.sort()\n",
    "    \n",
    "    n = 1\n",
    "    answer = 3\n",
    "    my_numbers = []\n",
    "    while answer > 0:\n",
    "        print(f\"{n}차 시도\")\n",
    "        my_number = int(input(\"숫자를 예측해보세요 : \"))\n",
    "        if my_number not in my_numbers:\n",
    "            my_numbers.append(my_number)\n",
    "        else:\n",
    "            print(\"이미 예측에 사용한 숫자입니다\")\n",
    "            continue\n",
    "        \n",
    "        if my_number not in numbers:\n",
    "            print(f\"{my_number}는 없습니다\")\n",
    "            if n == 5:\n",
    "                if my_number > numbers[0]:\n",
    "                    print(f\"최솟값은 {my_number}보다 작습니다\")\n",
    "                else:\n",
    "                    print(f\"최솟값은 {my_number}보다 큽니다\")\n",
    "            if n == 10:\n",
    "                if my_number > numbers[2]:\n",
    "                    print(f\"최댓값은 {my_number}보다 작습니다\")\n",
    "                else:\n",
    "                    print(f\"최댓값은 {my_number}보다 큽니다\")\n",
    "            n = n + 1\n",
    "            continue\n",
    "        else:\n",
    "            for i in range(len(numbers)):\n",
    "                if numbers[i] == my_number and i == 0:\n",
    "                    print(f\"숫자를 맞추셨습니다! {my_number}는 최솟값입니다.\")\n",
    "                    n = n + 1\n",
    "                    break\n",
    "                elif numbers[i] == my_number and i == 1:\n",
    "                    print(f\"숫자를 맞추셨습니다! {my_number}는 중간값입니다.\")\n",
    "                    n = n + 1\n",
    "                    break\n",
    "                else:\n",
    "                    print(f\"숫자를 맞추셨습니다! {my_number}는 최댓값입니다.\")\n",
    "                    n = n + 1\n",
    "                    break\n",
    "        answer = answer - 1\n",
    "    print(\"게임종료\")\n",
    "    print(f\"{n-1}번 시도만에 예측 성공\")\n"
   ],
   "outputs": [],
   "metadata": {}
  },
  {
   "cell_type": "markdown",
   "source": [
    "📌Q4. 오늘 애인이 생겼다고 해봅시다. 100일을 기념하고 싶은데요.<br>\n",
    "\n",
    "날짜를 넣으면 100일 뒤가 몇월 며칠인지 계산해주는 함수를 만들어 보겠습니다.<br>\n",
    "\n",
    "😲조건1 - \"오늘부터 1일\"이기 때문에 날짜를 계산할 때 오늘을 포함합니다<br>\n",
    "😲조건2 - 몇년도인지 구분하지 않고 윤년도 고려하지 않고 2월은 무조건 28일로 합니다.<br>\n",
    "🧐hint"
   ],
   "metadata": {}
  },
  {
   "cell_type": "markdown",
   "source": [
    "# 특정 원소의 위치를 찾는 방법\n",
    "a = [1,2,3,4]\n",
    "a.index(1)\n",
    "0"
   ],
   "metadata": {}
  },
  {
   "cell_type": "code",
   "execution_count": null,
   "source": [
    "after_100(6,21,\"월\")\n",
    "6월 21일 월요일부터 100일 뒤는 9월 28일 화요일"
   ],
   "outputs": [],
   "metadata": {}
  },
  {
   "cell_type": "code",
   "execution_count": null,
   "source": [
    "def after_100(month, date, day):\n",
    "\t\t# 달 별로 며칠까지 있는지 리스트로 만들기\n",
    "    dates = [31,28,31,30,31,30,31,31,30,31,30,31]\n",
    "    # 요일 리스트\n",
    "\t\tdays = [\"월\",\"화\",\"수\",\"목\",\"금\",\"토\",\"일\"]\n",
    "    after = 100\n",
    "    \n",
    "\t\t# 파이썬 index는 0부터 시작하기 때문에 월 -1\n",
    "    index = month-1\n",
    "    \n",
    "    while True:\n",
    "\t\t\t\t# 100일 음수가 될 때까지 날짜 차감\n",
    "        after = after - dates[index]\n",
    "        if after < 0:\n",
    "            break\n",
    "        # 12월 다음은 1월으로 돌아가기\n",
    "        index = index + 1\n",
    "        if index == 12:\n",
    "            index = 0\n",
    "\t\t\n",
    "\t\t# 음수가된 after에 100일 후의 월의 일수를 더해주고\n",
    "\t\t# 현재 일 수를 더하고 오늘을 포함하기 때문에 -1\n",
    "    date_after_100 = after + dates[index] + date -1\n",
    "    # 만약 일수가 30일, 31일을 넘어가면 100일 후의 월의 일수를 빼주고 월 +1 추가 \n",
    "\t\tif date_after_100 > dates[index]:\n",
    "        date_after_100 = date_after_100 - dates[index]\n",
    "        index = index + 1\n",
    "    # 요일은 7로 나눈 나머지 만큼 움직이면 됨, 오늘을 포함하기 때문에 -1\n",
    "\t\tday_index = days.index(day)\n",
    "    day_index2 = day_index + 100 % 7 -1\n",
    "\t\t# 일요일 다음은 월요일로 돌아감\n",
    "    if day_index2 > (len(days) -1):\n",
    "        day_index2 = day_index2 - (len(days) -1) -1\n",
    "    day_after_100 = days[day_index2]    \n",
    "    \n",
    "    print(f\"{month}월 {date}일 {day}요일부터 100일 뒤는 {index+1}월 {date_after_100}일 {day_after_100}요일\")"
   ],
   "outputs": [],
   "metadata": {}
  }
 ],
 "metadata": {
  "orig_nbformat": 4,
  "language_info": {
   "name": "python",
   "version": "3.8.11",
   "mimetype": "text/x-python",
   "codemirror_mode": {
    "name": "ipython",
    "version": 3
   },
   "pygments_lexer": "ipython3",
   "nbconvert_exporter": "python",
   "file_extension": ".py"
  },
  "kernelspec": {
   "name": "python3",
   "display_name": "Python 3.8.11 64-bit ('base': conda)"
  },
  "interpreter": {
   "hash": "59aa76eec713a2e656bb9d4ddb5f36b21f3d4006b36f877fc5669415524b1415"
  }
 },
 "nbformat": 4,
 "nbformat_minor": 2
}