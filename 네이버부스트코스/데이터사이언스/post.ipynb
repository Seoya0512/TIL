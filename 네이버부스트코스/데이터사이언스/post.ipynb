{
 "cells": [
  {
   "cell_type": "markdown",
   "metadata": {},
   "source": [
    "참고 : https://dacon.io/competitions/official/235867/codeshare/3888?page=1&dtype=recent"
   ]
  },
  {
   "cell_type": "code",
   "execution_count": 21,
   "metadata": {},
   "outputs": [],
   "source": [
    "import pandas as pd\n",
    "import numpy as np\n",
    "import matplotlib.pyplot as plt\n",
    "import seaborn as sns \n",
    "\n",
    "# 미리 정의된 스일(테마)를 적용\n",
    "plt.style.use('seaborn')\n",
    "sns.set(font_scale=1.5)\n",
    "\n",
    "# 결측치 데이터를 파악하는데 직관적인 도움을 주는 패키지\n",
    "import missingno as msno\n",
    "\n",
    "import warnings\n",
    "warnings.filterwarnings(\"ignore\")\n",
    "\n",
    "%matplotlib inline"
   ]
  },
  {
   "cell_type": "code",
   "execution_count": 22,
   "metadata": {},
   "outputs": [],
   "source": [
    "# 모델링 \n",
    "from catboost import CatBoostRegressor\n",
    "\n",
    "from tqdm import tqdm\n",
    "from sklearn.model_selection import StratifiedKFold,train_test_split\n",
    "from sklearn.metrics import mean_squared_error\n",
    "\n",
    "import random\n",
    "import optuna\n",
    "from optuna.samplers import TPESampler"
   ]
  },
  {
   "cell_type": "code",
   "execution_count": 23,
   "metadata": {},
   "outputs": [],
   "source": [
    "# 파일 불러오기\n",
    "df_train = pd.read_csv(\"./Data/post/train.csv\")\n",
    "df_test = pd.read_csv(\"./Data/post/test.csv\")"
   ]
  },
  {
   "cell_type": "code",
   "execution_count": 24,
   "metadata": {},
   "outputs": [
    {
     "data": {
      "text/html": [
       "<div>\n",
       "<style scoped>\n",
       "    .dataframe tbody tr th:only-of-type {\n",
       "        vertical-align: middle;\n",
       "    }\n",
       "\n",
       "    .dataframe tbody tr th {\n",
       "        vertical-align: top;\n",
       "    }\n",
       "\n",
       "    .dataframe thead th {\n",
       "        text-align: right;\n",
       "    }\n",
       "</style>\n",
       "<table border=\"1\" class=\"dataframe\">\n",
       "  <thead>\n",
       "    <tr style=\"text-align: right;\">\n",
       "      <th></th>\n",
       "      <th>index</th>\n",
       "      <th>송하인_격자공간고유번호</th>\n",
       "      <th>수하인_격자공간고유번호</th>\n",
       "      <th>물품_카테고리</th>\n",
       "      <th>운송장_건수</th>\n",
       "    </tr>\n",
       "  </thead>\n",
       "  <tbody>\n",
       "    <tr>\n",
       "      <th>21498</th>\n",
       "      <td>21498</td>\n",
       "      <td>5013000858004300</td>\n",
       "      <td>4122000018100300</td>\n",
       "      <td>농산물</td>\n",
       "      <td>6</td>\n",
       "    </tr>\n",
       "    <tr>\n",
       "      <th>24308</th>\n",
       "      <td>24308</td>\n",
       "      <td>5011000078068400</td>\n",
       "      <td>1135000012049100</td>\n",
       "      <td>농산물</td>\n",
       "      <td>5</td>\n",
       "    </tr>\n",
       "    <tr>\n",
       "      <th>31421</th>\n",
       "      <td>31421</td>\n",
       "      <td>5011000078068400</td>\n",
       "      <td>4812700029054100</td>\n",
       "      <td>농산물</td>\n",
       "      <td>3</td>\n",
       "    </tr>\n",
       "    <tr>\n",
       "      <th>17689</th>\n",
       "      <td>17689</td>\n",
       "      <td>5013000513092400</td>\n",
       "      <td>4723000665078400</td>\n",
       "      <td>농산물</td>\n",
       "      <td>19</td>\n",
       "    </tr>\n",
       "    <tr>\n",
       "      <th>14854</th>\n",
       "      <td>14854</td>\n",
       "      <td>5013000582084100</td>\n",
       "      <td>4150000121043400</td>\n",
       "      <td>농산물</td>\n",
       "      <td>5</td>\n",
       "    </tr>\n",
       "  </tbody>\n",
       "</table>\n",
       "</div>"
      ],
      "text/plain": [
       "       index      송하인_격자공간고유번호      수하인_격자공간고유번호 물품_카테고리  운송장_건수\n",
       "21498  21498  5013000858004300  4122000018100300     농산물       6\n",
       "24308  24308  5011000078068400  1135000012049100     농산물       5\n",
       "31421  31421  5011000078068400  4812700029054100     농산물       3\n",
       "17689  17689  5013000513092400  4723000665078400     농산물      19\n",
       "14854  14854  5013000582084100  4150000121043400     농산물       5"
      ]
     },
     "execution_count": 24,
     "metadata": {},
     "output_type": "execute_result"
    }
   ],
   "source": [
    "# 데이터 확인 : Data Frame \n",
    "df_train.sample(5)"
   ]
  },
  {
   "cell_type": "code",
   "execution_count": 25,
   "metadata": {},
   "outputs": [
    {
     "name": "stdout",
     "output_type": "stream",
     "text": [
      "<class 'pandas.core.frame.DataFrame'>\n",
      "RangeIndex: 31684 entries, 0 to 31683\n",
      "Data columns (total 5 columns):\n",
      " #   Column        Non-Null Count  Dtype \n",
      "---  ------        --------------  ----- \n",
      " 0   index         31684 non-null  int64 \n",
      " 1   송하인_격자공간고유번호  31684 non-null  int64 \n",
      " 2   수하인_격자공간고유번호  31684 non-null  int64 \n",
      " 3   물품_카테고리       31684 non-null  object\n",
      " 4   운송장_건수        31684 non-null  int64 \n",
      "dtypes: int64(4), object(1)\n",
      "memory usage: 1.2+ MB\n"
     ]
    }
   ],
   "source": [
    "# 데이터 확인 : Data Info (test) - 결측치 없음 \n",
    "df_train.info()"
   ]
  },
  {
   "cell_type": "code",
   "execution_count": 26,
   "metadata": {},
   "outputs": [
    {
     "name": "stdout",
     "output_type": "stream",
     "text": [
      "<class 'pandas.core.frame.DataFrame'>\n",
      "RangeIndex: 7920 entries, 0 to 7919\n",
      "Data columns (total 4 columns):\n",
      " #   Column        Non-Null Count  Dtype \n",
      "---  ------        --------------  ----- \n",
      " 0   index         7920 non-null   int64 \n",
      " 1   송하인_격자공간고유번호  7920 non-null   int64 \n",
      " 2   수하인_격자공간고유번호  7920 non-null   int64 \n",
      " 3   물품_카테고리       7920 non-null   object\n",
      "dtypes: int64(3), object(1)\n",
      "memory usage: 247.6+ KB\n"
     ]
    }
   ],
   "source": [
    "# 데이터 확인 : Data Info (test) - 결측치 없음 \n",
    "df_test.info()"
   ]
  },
  {
   "cell_type": "markdown",
   "metadata": {},
   "source": [
    "#### Data Preprocessing"
   ]
  },
  {
   "cell_type": "code",
   "execution_count": 27,
   "metadata": {},
   "outputs": [
    {
     "name": "stdout",
     "output_type": "stream",
     "text": [
      "Index(['송하인_격자공간고유번호', '수하인_격자공간고유번호', '물품_카테고리', '운송장_건수'], dtype='object')\n",
      "Index(['송하인_격자공간고유번호', '수하인_격자공간고유번호', '물품_카테고리'], dtype='object')\n"
     ]
    }
   ],
   "source": [
    "# 데이터 전처리 : 필요 없는 'index' 처리하기 \n",
    "\n",
    "df_train.drop(['index'], axis=1, inplace=True)\n",
    "df_test.drop(['index'], axis=1, inplace= True)\n",
    "\n",
    "# 확인 \n",
    "print(df_train.columns)\n",
    "print(df_test.columns)"
   ]
  },
  {
   "cell_type": "code",
   "execution_count": 28,
   "metadata": {},
   "outputs": [],
   "source": [
    "# column명 변경 \n",
    "df_train.columns = [\"송하인_\", \"수하인_\", \"물품\", \"운송장\"]\n",
    "df_test.columns = [\"송하인_\", \"수하인_\", \"물품\"]"
   ]
  },
  {
   "cell_type": "code",
   "execution_count": 29,
   "metadata": {},
   "outputs": [],
   "source": [
    "# 데이터 전처리 - 물품_카테고리 (한글 encoding)\n",
    "from sklearn.preprocessing import LabelEncoder\n",
    "\n",
    "encoder = LabelEncoder()\n",
    "encoder.fit(df_train['물품'])\n",
    "\n",
    "df_train['물품'] = encoder.transform(df_train['물품'])\n",
    "df_test['물품'] = encoder.transform(df_test['물품'])"
   ]
  },
  {
   "cell_type": "code",
   "execution_count": 30,
   "metadata": {},
   "outputs": [
    {
     "data": {
      "text/html": [
       "<div>\n",
       "<style scoped>\n",
       "    .dataframe tbody tr th:only-of-type {\n",
       "        vertical-align: middle;\n",
       "    }\n",
       "\n",
       "    .dataframe tbody tr th {\n",
       "        vertical-align: top;\n",
       "    }\n",
       "\n",
       "    .dataframe thead th {\n",
       "        text-align: right;\n",
       "    }\n",
       "</style>\n",
       "<table border=\"1\" class=\"dataframe\">\n",
       "  <thead>\n",
       "    <tr style=\"text-align: right;\">\n",
       "      <th></th>\n",
       "      <th>송하인_</th>\n",
       "      <th>수하인_</th>\n",
       "      <th>물품</th>\n",
       "      <th>운송장</th>\n",
       "    </tr>\n",
       "  </thead>\n",
       "  <tbody>\n",
       "    <tr>\n",
       "      <th>0</th>\n",
       "      <td>5011000595017300</td>\n",
       "      <td>2871000192069300</td>\n",
       "      <td>67</td>\n",
       "      <td>3</td>\n",
       "    </tr>\n",
       "    <tr>\n",
       "      <th>1</th>\n",
       "      <td>4148000690043300</td>\n",
       "      <td>5011000264024400</td>\n",
       "      <td>34</td>\n",
       "      <td>3</td>\n",
       "    </tr>\n",
       "    <tr>\n",
       "      <th>2</th>\n",
       "      <td>5011000078068400</td>\n",
       "      <td>1120000007005400</td>\n",
       "      <td>27</td>\n",
       "      <td>3</td>\n",
       "    </tr>\n",
       "  </tbody>\n",
       "</table>\n",
       "</div>"
      ],
      "text/plain": [
       "               송하인_              수하인_  물품  운송장\n",
       "0  5011000595017300  2871000192069300  67    3\n",
       "1  4148000690043300  5011000264024400  34    3\n",
       "2  5011000078068400  1120000007005400  27    3"
      ]
     },
     "execution_count": 30,
     "metadata": {},
     "output_type": "execute_result"
    }
   ],
   "source": [
    "# 확인 \n",
    "df_train.head(3)"
   ]
  },
  {
   "cell_type": "markdown",
   "metadata": {},
   "source": [
    "##### 변수 나누기 \n",
    "송하인, 수취인이 고유 번호이며 각 위치별로 특징을 가지고 있음 "
   ]
  },
  {
   "cell_type": "code",
   "execution_count": 31,
   "metadata": {},
   "outputs": [],
   "source": [
    "# 변수 나누는 코드 : slice 해서 사용하려고 했으나, 1-9 숫자로 정해진 것은 아니라 함수를 생성 한듯 \n",
    "\n",
    "def numround(number, digit):\n",
    "  num=[]\n",
    "  while(number!=0):\n",
    "    num.append(number % 10)\n",
    "    number = number //10\n",
    "\n",
    "  return int(num[-digit])"
   ]
  },
  {
   "cell_type": "code",
   "execution_count": 32,
   "metadata": {},
   "outputs": [
    {
     "name": "stderr",
     "output_type": "stream",
     "text": [
      "100%|██████████| 16/16 [05:12<00:00, 19.54s/it]\n"
     ]
    }
   ],
   "source": [
    "# 변수 : 송하인 (1-5, 6-9, 10, 11-16)나눠서 변수 생성 \n",
    "# 변수 : 수하인 격자공간고유번호는 자릿수 별로 변수를 생성\n",
    "\n",
    "for i in tqdm(range(16)):\n",
    "  df_train[f'송하인_{i+1}'] = 0\n",
    "  df_train[f'수하인_{i+1}'] = 0\n",
    "  df_test[f'송하인_{i+1}'] = 0\n",
    "  df_test[f'수하인_{i+1}'] = 0\n",
    "  for j in range(df_train.shape[0]):\n",
    "    df_train.loc[j,f'송하인_{i+1}']=numround(df_train.loc[j,'송하인_'],i+1)\n",
    "    df_train.loc[j,f'수하인_{i+1}']=numround(df_train.loc[j,'수하인_'],i+1)\n",
    "\n",
    "  for j in range(df_test.shape[0]):\n",
    "    df_test.loc[j,f'송하인_{i+1}']=numround(df_test.loc[j,'송하인_'],i+1)\n",
    "    df_test.loc[j,f'수하인_{i+1}']=numround(df_test.loc[j,'수하인_'],i+1)"
   ]
  },
  {
   "cell_type": "code",
   "execution_count": 33,
   "metadata": {},
   "outputs": [],
   "source": [
    "# 송하인 구간 나눠주기\n",
    "df_train[\"송하인_1~5\"]=df_train['송하인_1']+df_train['송하인_2']+df_train['송하인_3']+df_train['송하인_4']+df_train['송하인_5']\n",
    "df_train['송하인_6~9']=df_train['송하인_6']+df_train['송하인_7']+df_train['송하인_8']+df_train['송하인_9']\n",
    "df_train['송하인_10']=df_train['송하인_10']\n",
    "df_train['송하인_11~16']=df_train['송하인_11']+df_train['송하인_12']+df_train['송하인_13']+df_train['송하인_14']+df_train['송하인_15']+df_train['송하인_16']\n",
    "\n",
    "df_test['송하인_1~5']=df_test['송하인_1']+df_test['송하인_2']+df_test['송하인_3']+df_test['송하인_4']+df_test['송하인_5']\n",
    "df_test['송하인_6~9']=df_test['송하인_6']+df_test['송하인_7']+df_test['송하인_8']+df_test['송하인_9']\n",
    "df_test['송하인_10']=df_test['송하인_10']\n",
    "df_test['송하인_11~16']=df_test['송하인_11']+df_test['송하인_12']+df_test['송하인_13']+df_test['송하인_14']+df_test['송하인_15']+df_test['송하인_16']"
   ]
  },
  {
   "cell_type": "code",
   "execution_count": 34,
   "metadata": {},
   "outputs": [],
   "source": [
    "# 필요 없는 컬럼 삭제 \n",
    "\n",
    "df_train.drop(['수하인_','송하인_','송하인_1','송하인_2','송하인_3','송하인_4','송하인_5','송하인_6','송하인_7',\n",
    "            '송하인_8','송하인_9','송하인_11','송하인_12','송하인_13','송하인_14','송하인_15','송하인_16'],axis=1,inplace=True)\n",
    "df_test.drop(['수하인_','송하인_','송하인_1','송하인_2','송하인_3','송하인_4','송하인_5','송하인_6','송하인_7',\n",
    "            '송하인_8','송하인_9','송하인_11','송하인_12','송하인_13','송하인_14','송하인_15','송하인_16'],axis=1,inplace=True)"
   ]
  },
  {
   "cell_type": "code",
   "execution_count": 35,
   "metadata": {},
   "outputs": [],
   "source": [
    "# 연속형 변수가 아닌 범주형 변수로 변경 \n",
    "\n",
    "for col in df_test.columns:\n",
    "  df_train[col]=df_train[col].astype('category')\n",
    "  df_test[col]=df_test[col].astype('category')"
   ]
  },
  {
   "cell_type": "markdown",
   "metadata": {},
   "source": [
    "#### Modeling"
   ]
  },
  {
   "cell_type": "code",
   "execution_count": 36,
   "metadata": {},
   "outputs": [],
   "source": [
    "# model에 사용하기 위한 데이터 \n",
    "\n",
    "X = df_train.drop(['운송장'],axis=1)\n",
    "y = df_train['운송장']\n",
    "X_test = df_test.copy()"
   ]
  },
  {
   "cell_type": "code",
   "execution_count": 37,
   "metadata": {},
   "outputs": [
    {
     "data": {
      "text/html": [
       "<div>\n",
       "<style scoped>\n",
       "    .dataframe tbody tr th:only-of-type {\n",
       "        vertical-align: middle;\n",
       "    }\n",
       "\n",
       "    .dataframe tbody tr th {\n",
       "        vertical-align: top;\n",
       "    }\n",
       "\n",
       "    .dataframe thead th {\n",
       "        text-align: right;\n",
       "    }\n",
       "</style>\n",
       "<table border=\"1\" class=\"dataframe\">\n",
       "  <thead>\n",
       "    <tr style=\"text-align: right;\">\n",
       "      <th></th>\n",
       "      <th>물품</th>\n",
       "      <th>수하인_1</th>\n",
       "      <th>수하인_2</th>\n",
       "      <th>수하인_3</th>\n",
       "      <th>수하인_4</th>\n",
       "      <th>수하인_5</th>\n",
       "      <th>수하인_6</th>\n",
       "      <th>수하인_7</th>\n",
       "      <th>수하인_8</th>\n",
       "      <th>수하인_9</th>\n",
       "      <th>...</th>\n",
       "      <th>수하인_10</th>\n",
       "      <th>수하인_11</th>\n",
       "      <th>수하인_12</th>\n",
       "      <th>수하인_13</th>\n",
       "      <th>수하인_14</th>\n",
       "      <th>수하인_15</th>\n",
       "      <th>수하인_16</th>\n",
       "      <th>송하인_1~5</th>\n",
       "      <th>송하인_6~9</th>\n",
       "      <th>송하인_11~16</th>\n",
       "    </tr>\n",
       "  </thead>\n",
       "  <tbody>\n",
       "    <tr>\n",
       "      <th>0</th>\n",
       "      <td>67</td>\n",
       "      <td>2</td>\n",
       "      <td>8</td>\n",
       "      <td>7</td>\n",
       "      <td>1</td>\n",
       "      <td>0</td>\n",
       "      <td>0</td>\n",
       "      <td>0</td>\n",
       "      <td>1</td>\n",
       "      <td>9</td>\n",
       "      <td>...</td>\n",
       "      <td>2</td>\n",
       "      <td>0</td>\n",
       "      <td>6</td>\n",
       "      <td>9</td>\n",
       "      <td>3</td>\n",
       "      <td>0</td>\n",
       "      <td>0</td>\n",
       "      <td>7</td>\n",
       "      <td>14</td>\n",
       "      <td>11</td>\n",
       "    </tr>\n",
       "    <tr>\n",
       "      <th>1</th>\n",
       "      <td>34</td>\n",
       "      <td>5</td>\n",
       "      <td>0</td>\n",
       "      <td>1</td>\n",
       "      <td>1</td>\n",
       "      <td>0</td>\n",
       "      <td>0</td>\n",
       "      <td>0</td>\n",
       "      <td>2</td>\n",
       "      <td>6</td>\n",
       "      <td>...</td>\n",
       "      <td>4</td>\n",
       "      <td>0</td>\n",
       "      <td>2</td>\n",
       "      <td>4</td>\n",
       "      <td>4</td>\n",
       "      <td>0</td>\n",
       "      <td>0</td>\n",
       "      <td>17</td>\n",
       "      <td>15</td>\n",
       "      <td>10</td>\n",
       "    </tr>\n",
       "    <tr>\n",
       "      <th>2</th>\n",
       "      <td>27</td>\n",
       "      <td>1</td>\n",
       "      <td>1</td>\n",
       "      <td>2</td>\n",
       "      <td>0</td>\n",
       "      <td>0</td>\n",
       "      <td>0</td>\n",
       "      <td>0</td>\n",
       "      <td>0</td>\n",
       "      <td>0</td>\n",
       "      <td>...</td>\n",
       "      <td>7</td>\n",
       "      <td>0</td>\n",
       "      <td>0</td>\n",
       "      <td>5</td>\n",
       "      <td>4</td>\n",
       "      <td>0</td>\n",
       "      <td>0</td>\n",
       "      <td>7</td>\n",
       "      <td>7</td>\n",
       "      <td>18</td>\n",
       "    </tr>\n",
       "  </tbody>\n",
       "</table>\n",
       "<p>3 rows × 21 columns</p>\n",
       "</div>"
      ],
      "text/plain": [
       "   물품 수하인_1 수하인_2 수하인_3 수하인_4 수하인_5 수하인_6 수하인_7 수하인_8 수하인_9  ... 수하인_10  \\\n",
       "0  67     2     8     7     1     0     0     0     1     9  ...      2   \n",
       "1  34     5     0     1     1     0     0     0     2     6  ...      4   \n",
       "2  27     1     1     2     0     0     0     0     0     0  ...      7   \n",
       "\n",
       "  수하인_11 수하인_12 수하인_13 수하인_14 수하인_15 수하인_16 송하인_1~5 송하인_6~9 송하인_11~16  \n",
       "0      0      6      9      3      0      0       7      14        11  \n",
       "1      0      2      4      4      0      0      17      15        10  \n",
       "2      0      0      5      4      0      0       7       7        18  \n",
       "\n",
       "[3 rows x 21 columns]"
      ]
     },
     "execution_count": 37,
     "metadata": {},
     "output_type": "execute_result"
    }
   ],
   "source": [
    "# 데이터 확인 \n",
    "\n",
    "X.head(3)"
   ]
  },
  {
   "cell_type": "code",
   "execution_count": 38,
   "metadata": {},
   "outputs": [
    {
     "data": {
      "text/plain": [
       "0    3\n",
       "1    3\n",
       "2    3\n",
       "Name: 운송장, dtype: int64"
      ]
     },
     "execution_count": 38,
     "metadata": {},
     "output_type": "execute_result"
    }
   ],
   "source": [
    "y.head(3)"
   ]
  },
  {
   "cell_type": "code",
   "execution_count": 39,
   "metadata": {},
   "outputs": [
    {
     "data": {
      "text/html": [
       "<div>\n",
       "<style scoped>\n",
       "    .dataframe tbody tr th:only-of-type {\n",
       "        vertical-align: middle;\n",
       "    }\n",
       "\n",
       "    .dataframe tbody tr th {\n",
       "        vertical-align: top;\n",
       "    }\n",
       "\n",
       "    .dataframe thead th {\n",
       "        text-align: right;\n",
       "    }\n",
       "</style>\n",
       "<table border=\"1\" class=\"dataframe\">\n",
       "  <thead>\n",
       "    <tr style=\"text-align: right;\">\n",
       "      <th></th>\n",
       "      <th>물품</th>\n",
       "      <th>수하인_1</th>\n",
       "      <th>수하인_2</th>\n",
       "      <th>수하인_3</th>\n",
       "      <th>수하인_4</th>\n",
       "      <th>수하인_5</th>\n",
       "      <th>수하인_6</th>\n",
       "      <th>수하인_7</th>\n",
       "      <th>수하인_8</th>\n",
       "      <th>수하인_9</th>\n",
       "      <th>...</th>\n",
       "      <th>수하인_10</th>\n",
       "      <th>수하인_11</th>\n",
       "      <th>수하인_12</th>\n",
       "      <th>수하인_13</th>\n",
       "      <th>수하인_14</th>\n",
       "      <th>수하인_15</th>\n",
       "      <th>수하인_16</th>\n",
       "      <th>송하인_1~5</th>\n",
       "      <th>송하인_6~9</th>\n",
       "      <th>송하인_11~16</th>\n",
       "    </tr>\n",
       "  </thead>\n",
       "  <tbody>\n",
       "    <tr>\n",
       "      <th>0</th>\n",
       "      <td>47</td>\n",
       "      <td>5</td>\n",
       "      <td>0</td>\n",
       "      <td>1</td>\n",
       "      <td>1</td>\n",
       "      <td>0</td>\n",
       "      <td>0</td>\n",
       "      <td>0</td>\n",
       "      <td>4</td>\n",
       "      <td>3</td>\n",
       "      <td>...</td>\n",
       "      <td>5</td>\n",
       "      <td>0</td>\n",
       "      <td>1</td>\n",
       "      <td>4</td>\n",
       "      <td>1</td>\n",
       "      <td>0</td>\n",
       "      <td>0</td>\n",
       "      <td>18</td>\n",
       "      <td>12</td>\n",
       "      <td>8</td>\n",
       "    </tr>\n",
       "    <tr>\n",
       "      <th>1</th>\n",
       "      <td>12</td>\n",
       "      <td>5</td>\n",
       "      <td>0</td>\n",
       "      <td>1</td>\n",
       "      <td>1</td>\n",
       "      <td>0</td>\n",
       "      <td>0</td>\n",
       "      <td>0</td>\n",
       "      <td>1</td>\n",
       "      <td>7</td>\n",
       "      <td>...</td>\n",
       "      <td>2</td>\n",
       "      <td>0</td>\n",
       "      <td>3</td>\n",
       "      <td>4</td>\n",
       "      <td>4</td>\n",
       "      <td>0</td>\n",
       "      <td>0</td>\n",
       "      <td>13</td>\n",
       "      <td>0</td>\n",
       "      <td>5</td>\n",
       "    </tr>\n",
       "    <tr>\n",
       "      <th>2</th>\n",
       "      <td>88</td>\n",
       "      <td>5</td>\n",
       "      <td>0</td>\n",
       "      <td>1</td>\n",
       "      <td>1</td>\n",
       "      <td>0</td>\n",
       "      <td>0</td>\n",
       "      <td>0</td>\n",
       "      <td>3</td>\n",
       "      <td>6</td>\n",
       "      <td>...</td>\n",
       "      <td>1</td>\n",
       "      <td>0</td>\n",
       "      <td>9</td>\n",
       "      <td>7</td>\n",
       "      <td>3</td>\n",
       "      <td>0</td>\n",
       "      <td>0</td>\n",
       "      <td>9</td>\n",
       "      <td>9</td>\n",
       "      <td>15</td>\n",
       "    </tr>\n",
       "  </tbody>\n",
       "</table>\n",
       "<p>3 rows × 21 columns</p>\n",
       "</div>"
      ],
      "text/plain": [
       "   물품 수하인_1 수하인_2 수하인_3 수하인_4 수하인_5 수하인_6 수하인_7 수하인_8 수하인_9  ... 수하인_10  \\\n",
       "0  47     5     0     1     1     0     0     0     4     3  ...      5   \n",
       "1  12     5     0     1     1     0     0     0     1     7  ...      2   \n",
       "2  88     5     0     1     1     0     0     0     3     6  ...      1   \n",
       "\n",
       "  수하인_11 수하인_12 수하인_13 수하인_14 수하인_15 수하인_16 송하인_1~5 송하인_6~9 송하인_11~16  \n",
       "0      0      1      4      1      0      0      18      12         8  \n",
       "1      0      3      4      4      0      0      13       0         5  \n",
       "2      0      9      7      3      0      0       9       9        15  \n",
       "\n",
       "[3 rows x 21 columns]"
      ]
     },
     "execution_count": 39,
     "metadata": {},
     "output_type": "execute_result"
    }
   ],
   "source": [
    "X_test.head(3)"
   ]
  },
  {
   "cell_type": "code",
   "execution_count": null,
   "metadata": {},
   "outputs": [],
   "source": []
  }
 ],
 "metadata": {
  "interpreter": {
   "hash": "c725d78b4f5601c8a85ce6b1d2fdb2e37cff07ced64b275a1bb2fdc836d1f30a"
  },
  "kernelspec": {
   "display_name": "Python 3.9.7 ('base')",
   "language": "python",
   "name": "python3"
  },
  "language_info": {
   "codemirror_mode": {
    "name": "ipython",
    "version": 3
   },
   "file_extension": ".py",
   "mimetype": "text/x-python",
   "name": "python",
   "nbconvert_exporter": "python",
   "pygments_lexer": "ipython3",
   "version": "3.9.7"
  },
  "orig_nbformat": 4
 },
 "nbformat": 4,
 "nbformat_minor": 2
}
