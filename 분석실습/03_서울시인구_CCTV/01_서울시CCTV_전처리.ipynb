{
  "nbformat": 4,
  "nbformat_minor": 0,
  "metadata": {
    "colab": {
      "name": "01_서울시CCTV_전처리.ipynb",
      "provenance": [],
      "collapsed_sections": []
    },
    "kernelspec": {
      "name": "python3",
      "display_name": "Python 3"
    },
    "language_info": {
      "name": "python"
    }
  },
  "cells": [
    {
      "cell_type": "code",
      "metadata": {
        "id": "pLg3Ii1vwCty"
      },
      "source": [
        "import numpy as np\n",
        "import pandas as pd\n",
        "import matplotlib.pyplot as plt\n",
        "import seaborn as sns\n",
        "import warnings\n",
        "warnings.filterwarnings('ignore')"
      ],
      "execution_count": 142,
      "outputs": []
    },
    {
      "cell_type": "code",
      "metadata": {
        "colab": {
          "base_uri": "https://localhost:8080/"
        },
        "id": "Mfp2RkNowHiY",
        "outputId": "4986ae3b-21f0-431e-a0c4-b2427e435232"
      },
      "source": [
        "from google.colab import drive\n",
        "drive.mount('/content/mnt')"
      ],
      "execution_count": 13,
      "outputs": [
        {
          "output_type": "stream",
          "name": "stdout",
          "text": [
            "Drive already mounted at /content/mnt; to attempt to forcibly remount, call drive.mount(\"/content/mnt\", force_remount=True).\n"
          ]
        }
      ]
    },
    {
      "cell_type": "code",
      "metadata": {
        "id": "cHGgGpKowJfw"
      },
      "source": [
        "data_folder = '/content/mnt/MyDrive/Data/서울시구별CCTV'"
      ],
      "execution_count": 14,
      "outputs": []
    },
    {
      "cell_type": "code",
      "metadata": {
        "colab": {
          "base_uri": "https://localhost:8080/"
        },
        "id": "YVpWixsUwawT",
        "outputId": "77cd5424-855d-4e5c-c04b-9846dec2ddf5"
      },
      "source": [
        "!ls -l $data_folder"
      ],
      "execution_count": 15,
      "outputs": [
        {
          "output_type": "stream",
          "name": "stdout",
          "text": [
            "total 6\n",
            "-rw------- 1 root root 1793 Sep  7 05:23 '서울시CCTV설치운영현황(자치구)_년도별_210731기준.csv'\n",
            "-rw------- 1 root root 3179 Sep  7 05:25 '서울시주민등록인구(구별)통계.tsv'\n"
          ]
        }
      ]
    },
    {
      "cell_type": "markdown",
      "metadata": {
        "id": "qqVr7Ode6sMl"
      },
      "source": [
        "### 서울 CCTV 현황"
      ]
    },
    {
      "cell_type": "code",
      "metadata": {
        "colab": {
          "base_uri": "https://localhost:8080/",
          "height": 386
        },
        "id": "TigYVwvbweo0",
        "outputId": "d3c04bb2-7e90-41ad-c327-010a59997712"
      },
      "source": [
        "df = pd.read_csv(f'{data_folder}/서울시CCTV설치운영현황(자치구)_년도별_210731기준.csv', encoding='euc-kr')\n",
        "print(df.shape)\n",
        "df.head(2)"
      ],
      "execution_count": 79,
      "outputs": [
        {
          "output_type": "stream",
          "name": "stdout",
          "text": [
            "(27, 13)\n"
          ]
        },
        {
          "output_type": "execute_result",
          "data": {
            "text/html": [
              "<div>\n",
              "<style scoped>\n",
              "    .dataframe tbody tr th:only-of-type {\n",
              "        vertical-align: middle;\n",
              "    }\n",
              "\n",
              "    .dataframe tbody tr th {\n",
              "        vertical-align: top;\n",
              "    }\n",
              "\n",
              "    .dataframe thead th {\n",
              "        text-align: right;\n",
              "    }\n",
              "</style>\n",
              "<table border=\"1\" class=\"dataframe\">\n",
              "  <thead>\n",
              "    <tr style=\"text-align: right;\">\n",
              "      <th></th>\n",
              "      <th>※ 2021.7.31. 현황을 기준으로 각 연도별 설치된 CCTV 수량. 교체(저화질교체, 성능개선)는 최초설치연도가 아닌 교체년도 수량에 포함</th>\n",
              "      <th>Unnamed: 1</th>\n",
              "      <th>Unnamed: 2</th>\n",
              "      <th>Unnamed: 3</th>\n",
              "      <th>Unnamed: 4</th>\n",
              "      <th>Unnamed: 5</th>\n",
              "      <th>Unnamed: 6</th>\n",
              "      <th>Unnamed: 7</th>\n",
              "      <th>Unnamed: 8</th>\n",
              "      <th>Unnamed: 9</th>\n",
              "      <th>Unnamed: 10</th>\n",
              "      <th>Unnamed: 11</th>\n",
              "      <th>Unnamed: 12</th>\n",
              "    </tr>\n",
              "  </thead>\n",
              "  <tbody>\n",
              "    <tr>\n",
              "      <th>0</th>\n",
              "      <td>구분</td>\n",
              "      <td>총계</td>\n",
              "      <td>2012년 이전</td>\n",
              "      <td>2012년</td>\n",
              "      <td>2013년</td>\n",
              "      <td>2014년</td>\n",
              "      <td>2015년</td>\n",
              "      <td>2016년</td>\n",
              "      <td>2017년</td>\n",
              "      <td>2018년</td>\n",
              "      <td>2019년</td>\n",
              "      <td>2020년</td>\n",
              "      <td>2021년</td>\n",
              "    </tr>\n",
              "    <tr>\n",
              "      <th>1</th>\n",
              "      <td>계</td>\n",
              "      <td>77,032</td>\n",
              "      <td>7,667</td>\n",
              "      <td>2,200</td>\n",
              "      <td>3,491</td>\n",
              "      <td>4,439</td>\n",
              "      <td>6,582</td>\n",
              "      <td>8,129</td>\n",
              "      <td>9,947</td>\n",
              "      <td>9,876</td>\n",
              "      <td>11,961</td>\n",
              "      <td>11,132</td>\n",
              "      <td>1,608</td>\n",
              "    </tr>\n",
              "  </tbody>\n",
              "</table>\n",
              "</div>"
            ],
            "text/plain": [
              "  ※ 2021.7.31. 현황을 기준으로 각 연도별 설치된 CCTV 수량. 교체(저화질교체, 성능개선)는 최초설치연도가 아닌 교체년도 수량에 포함  ... Unnamed: 12\n",
              "0                                                 구분                                ...       2021년\n",
              "1                                                  계                                ...       1,608\n",
              "\n",
              "[2 rows x 13 columns]"
            ]
          },
          "metadata": {},
          "execution_count": 79
        }
      ]
    },
    {
      "cell_type": "code",
      "metadata": {
        "colab": {
          "base_uri": "https://localhost:8080/",
          "height": 204
        },
        "id": "hBj99bUp0p_o",
        "outputId": "c986c4d8-95db-4d96-cfe7-27e34474ab45"
      },
      "source": [
        "df.rename(columns= df.iloc[0], inplace=True)\n",
        "df = df.drop([0])\n",
        "df = df.drop([1])\n",
        "del df['2021년']\n",
        "df.reset_index(drop=True, inplace=True)\n",
        "df.head()"
      ],
      "execution_count": 80,
      "outputs": [
        {
          "output_type": "execute_result",
          "data": {
            "text/html": [
              "<div>\n",
              "<style scoped>\n",
              "    .dataframe tbody tr th:only-of-type {\n",
              "        vertical-align: middle;\n",
              "    }\n",
              "\n",
              "    .dataframe tbody tr th {\n",
              "        vertical-align: top;\n",
              "    }\n",
              "\n",
              "    .dataframe thead th {\n",
              "        text-align: right;\n",
              "    }\n",
              "</style>\n",
              "<table border=\"1\" class=\"dataframe\">\n",
              "  <thead>\n",
              "    <tr style=\"text-align: right;\">\n",
              "      <th></th>\n",
              "      <th>구분</th>\n",
              "      <th>총계</th>\n",
              "      <th>2012년 이전</th>\n",
              "      <th>2012년</th>\n",
              "      <th>2013년</th>\n",
              "      <th>2014년</th>\n",
              "      <th>2015년</th>\n",
              "      <th>2016년</th>\n",
              "      <th>2017년</th>\n",
              "      <th>2018년</th>\n",
              "      <th>2019년</th>\n",
              "      <th>2020년</th>\n",
              "    </tr>\n",
              "  </thead>\n",
              "  <tbody>\n",
              "    <tr>\n",
              "      <th>0</th>\n",
              "      <td>종로구</td>\n",
              "      <td>1,772</td>\n",
              "      <td>813</td>\n",
              "      <td>0</td>\n",
              "      <td>0</td>\n",
              "      <td>210</td>\n",
              "      <td>150</td>\n",
              "      <td>1</td>\n",
              "      <td>261</td>\n",
              "      <td>85</td>\n",
              "      <td>9</td>\n",
              "      <td>200</td>\n",
              "    </tr>\n",
              "    <tr>\n",
              "      <th>1</th>\n",
              "      <td>중 구</td>\n",
              "      <td>2,333</td>\n",
              "      <td>16</td>\n",
              "      <td>114</td>\n",
              "      <td>87</td>\n",
              "      <td>77</td>\n",
              "      <td>236</td>\n",
              "      <td>240</td>\n",
              "      <td>372</td>\n",
              "      <td>386</td>\n",
              "      <td>155</td>\n",
              "      <td>361</td>\n",
              "    </tr>\n",
              "    <tr>\n",
              "      <th>2</th>\n",
              "      <td>용산구</td>\n",
              "      <td>2,383</td>\n",
              "      <td>34</td>\n",
              "      <td>71</td>\n",
              "      <td>234</td>\n",
              "      <td>125</td>\n",
              "      <td>221</td>\n",
              "      <td>298</td>\n",
              "      <td>351</td>\n",
              "      <td>125</td>\n",
              "      <td>307</td>\n",
              "      <td>617</td>\n",
              "    </tr>\n",
              "    <tr>\n",
              "      <th>3</th>\n",
              "      <td>성동구</td>\n",
              "      <td>3,602</td>\n",
              "      <td>448</td>\n",
              "      <td>125</td>\n",
              "      <td>212</td>\n",
              "      <td>105</td>\n",
              "      <td>339</td>\n",
              "      <td>310</td>\n",
              "      <td>874</td>\n",
              "      <td>390</td>\n",
              "      <td>262</td>\n",
              "      <td>461</td>\n",
              "    </tr>\n",
              "    <tr>\n",
              "      <th>4</th>\n",
              "      <td>광진구</td>\n",
              "      <td>2,588</td>\n",
              "      <td>35</td>\n",
              "      <td>57</td>\n",
              "      <td>100</td>\n",
              "      <td>187</td>\n",
              "      <td>98</td>\n",
              "      <td>52</td>\n",
              "      <td>675</td>\n",
              "      <td>465</td>\n",
              "      <td>712</td>\n",
              "      <td>175</td>\n",
              "    </tr>\n",
              "  </tbody>\n",
              "</table>\n",
              "</div>"
            ],
            "text/plain": [
              "    구분     총계 2012년 이전 2012년 2013년 2014년 2015년 2016년 2017년 2018년 2019년 2020년\n",
              "0  종로구  1,772      813     0     0   210   150     1   261    85     9   200\n",
              "1  중 구  2,333       16   114    87    77   236   240   372   386   155   361\n",
              "2  용산구  2,383       34    71   234   125   221   298   351   125   307   617\n",
              "3  성동구  3,602      448   125   212   105   339   310   874   390   262   461\n",
              "4  광진구  2,588       35    57   100   187    98    52   675   465   712   175"
            ]
          },
          "metadata": {},
          "execution_count": 80
        }
      ]
    },
    {
      "cell_type": "code",
      "metadata": {
        "colab": {
          "base_uri": "https://localhost:8080/",
          "height": 204
        },
        "id": "SVoKpsEiAWyZ",
        "outputId": "5b8c1ba9-35f0-409d-f820-bf54433d5e65"
      },
      "source": [
        "# 구분, 총계만 출력 \n",
        "cctv = df[['구분', '총계']]\n",
        "cctv.rename(columns = {'구분':'자치구', '총계':'CCTV수'}, inplace=True)\n",
        "cctv.head()"
      ],
      "execution_count": 120,
      "outputs": [
        {
          "output_type": "execute_result",
          "data": {
            "text/html": [
              "<div>\n",
              "<style scoped>\n",
              "    .dataframe tbody tr th:only-of-type {\n",
              "        vertical-align: middle;\n",
              "    }\n",
              "\n",
              "    .dataframe tbody tr th {\n",
              "        vertical-align: top;\n",
              "    }\n",
              "\n",
              "    .dataframe thead th {\n",
              "        text-align: right;\n",
              "    }\n",
              "</style>\n",
              "<table border=\"1\" class=\"dataframe\">\n",
              "  <thead>\n",
              "    <tr style=\"text-align: right;\">\n",
              "      <th></th>\n",
              "      <th>자치구</th>\n",
              "      <th>CCTV수</th>\n",
              "    </tr>\n",
              "  </thead>\n",
              "  <tbody>\n",
              "    <tr>\n",
              "      <th>0</th>\n",
              "      <td>종로구</td>\n",
              "      <td>1,772</td>\n",
              "    </tr>\n",
              "    <tr>\n",
              "      <th>1</th>\n",
              "      <td>중 구</td>\n",
              "      <td>2,333</td>\n",
              "    </tr>\n",
              "    <tr>\n",
              "      <th>2</th>\n",
              "      <td>용산구</td>\n",
              "      <td>2,383</td>\n",
              "    </tr>\n",
              "    <tr>\n",
              "      <th>3</th>\n",
              "      <td>성동구</td>\n",
              "      <td>3,602</td>\n",
              "    </tr>\n",
              "    <tr>\n",
              "      <th>4</th>\n",
              "      <td>광진구</td>\n",
              "      <td>2,588</td>\n",
              "    </tr>\n",
              "  </tbody>\n",
              "</table>\n",
              "</div>"
            ],
            "text/plain": [
              "   자치구  CCTV수\n",
              "0  종로구  1,772\n",
              "1  중 구  2,333\n",
              "2  용산구  2,383\n",
              "3  성동구  3,602\n",
              "4  광진구  2,588"
            ]
          },
          "metadata": {},
          "execution_count": 120
        }
      ]
    },
    {
      "cell_type": "markdown",
      "metadata": {
        "id": "I0dqDtU76iM0"
      },
      "source": [
        "##  인구 데이터"
      ]
    },
    {
      "cell_type": "code",
      "metadata": {
        "colab": {
          "base_uri": "https://localhost:8080/",
          "height": 496
        },
        "id": "L_-xrvaa62xt",
        "outputId": "3fe4d8c9-7c90-4089-c4a4-e59d6319bd41"
      },
      "source": [
        "pop = pd.read_csv(f'{data_folder}/서울시주민등록인구(구별)통계.tsv', sep='\\t')\n",
        "pop.head()"
      ],
      "execution_count": 113,
      "outputs": [
        {
          "output_type": "execute_result",
          "data": {
            "text/html": [
              "<div>\n",
              "<style scoped>\n",
              "    .dataframe tbody tr th:only-of-type {\n",
              "        vertical-align: middle;\n",
              "    }\n",
              "\n",
              "    .dataframe tbody tr th {\n",
              "        vertical-align: top;\n",
              "    }\n",
              "\n",
              "    .dataframe thead th {\n",
              "        text-align: right;\n",
              "    }\n",
              "</style>\n",
              "<table border=\"1\" class=\"dataframe\">\n",
              "  <thead>\n",
              "    <tr style=\"text-align: right;\">\n",
              "      <th></th>\n",
              "      <th>기간</th>\n",
              "      <th>자치구</th>\n",
              "      <th>세대</th>\n",
              "      <th>인구</th>\n",
              "      <th>인구.1</th>\n",
              "      <th>인구.2</th>\n",
              "      <th>인구.3</th>\n",
              "      <th>인구.4</th>\n",
              "      <th>인구.5</th>\n",
              "      <th>인구.6</th>\n",
              "      <th>인구.7</th>\n",
              "      <th>인구.8</th>\n",
              "      <th>세대당인구</th>\n",
              "      <th>65세이상고령자</th>\n",
              "    </tr>\n",
              "  </thead>\n",
              "  <tbody>\n",
              "    <tr>\n",
              "      <th>0</th>\n",
              "      <td>기간</td>\n",
              "      <td>자치구</td>\n",
              "      <td>세대</td>\n",
              "      <td>합계</td>\n",
              "      <td>합계</td>\n",
              "      <td>합계</td>\n",
              "      <td>한국인</td>\n",
              "      <td>한국인</td>\n",
              "      <td>한국인</td>\n",
              "      <td>등록외국인</td>\n",
              "      <td>등록외국인</td>\n",
              "      <td>등록외국인</td>\n",
              "      <td>세대당인구</td>\n",
              "      <td>65세이상고령자</td>\n",
              "    </tr>\n",
              "    <tr>\n",
              "      <th>1</th>\n",
              "      <td>기간</td>\n",
              "      <td>자치구</td>\n",
              "      <td>세대</td>\n",
              "      <td>계</td>\n",
              "      <td>남자</td>\n",
              "      <td>여자</td>\n",
              "      <td>계</td>\n",
              "      <td>남자</td>\n",
              "      <td>여자</td>\n",
              "      <td>계</td>\n",
              "      <td>남자</td>\n",
              "      <td>여자</td>\n",
              "      <td>세대당인구</td>\n",
              "      <td>65세이상고령자</td>\n",
              "    </tr>\n",
              "    <tr>\n",
              "      <th>2</th>\n",
              "      <td>2021.2/4</td>\n",
              "      <td>합계</td>\n",
              "      <td>4,405,638</td>\n",
              "      <td>9,795,426</td>\n",
              "      <td>4,756,178</td>\n",
              "      <td>5,039,248</td>\n",
              "      <td>9,565,990</td>\n",
              "      <td>4,649,442</td>\n",
              "      <td>4,916,548</td>\n",
              "      <td>229,436</td>\n",
              "      <td>106,736</td>\n",
              "      <td>122,700</td>\n",
              "      <td>2.17</td>\n",
              "      <td>1,576,971</td>\n",
              "    </tr>\n",
              "    <tr>\n",
              "      <th>3</th>\n",
              "      <td>2021.2/4</td>\n",
              "      <td>종로구</td>\n",
              "      <td>73,525</td>\n",
              "      <td>155,106</td>\n",
              "      <td>75,009</td>\n",
              "      <td>80,097</td>\n",
              "      <td>146,029</td>\n",
              "      <td>70,985</td>\n",
              "      <td>75,044</td>\n",
              "      <td>9,077</td>\n",
              "      <td>4,024</td>\n",
              "      <td>5,053</td>\n",
              "      <td>1.99</td>\n",
              "      <td>27,605</td>\n",
              "    </tr>\n",
              "    <tr>\n",
              "      <th>4</th>\n",
              "      <td>2021.2/4</td>\n",
              "      <td>중구</td>\n",
              "      <td>62,897</td>\n",
              "      <td>132,259</td>\n",
              "      <td>64,526</td>\n",
              "      <td>67,733</td>\n",
              "      <td>123,016</td>\n",
              "      <td>60,019</td>\n",
              "      <td>62,997</td>\n",
              "      <td>9,243</td>\n",
              "      <td>4,507</td>\n",
              "      <td>4,736</td>\n",
              "      <td>1.96</td>\n",
              "      <td>23,980</td>\n",
              "    </tr>\n",
              "  </tbody>\n",
              "</table>\n",
              "</div>"
            ],
            "text/plain": [
              "         기간  자치구         세대         인구  ...     인구.7     인구.8  세대당인구   65세이상고령자\n",
              "0        기간  자치구         세대         합계  ...    등록외국인    등록외국인  세대당인구   65세이상고령자\n",
              "1        기간  자치구         세대          계  ...       남자       여자  세대당인구   65세이상고령자\n",
              "2  2021.2/4   합계  4,405,638  9,795,426  ...  106,736  122,700   2.17  1,576,971\n",
              "3  2021.2/4  종로구     73,525    155,106  ...    4,024    5,053   1.99     27,605\n",
              "4  2021.2/4   중구     62,897    132,259  ...    4,507    4,736   1.96     23,980\n",
              "\n",
              "[5 rows x 14 columns]"
            ]
          },
          "metadata": {},
          "execution_count": 113
        }
      ]
    },
    {
      "cell_type": "code",
      "metadata": {
        "colab": {
          "base_uri": "https://localhost:8080/",
          "height": 204
        },
        "id": "GVK8awMR-Upn",
        "outputId": "89fa1bef-b126-4c13-9710-72dff56f09dc"
      },
      "source": [
        "pop = pop[['자치구','세대','인구','인구.3','인구.6','세대당인구','65세이상고령자']]\n",
        "pop.head()"
      ],
      "execution_count": 114,
      "outputs": [
        {
          "output_type": "execute_result",
          "data": {
            "text/html": [
              "<div>\n",
              "<style scoped>\n",
              "    .dataframe tbody tr th:only-of-type {\n",
              "        vertical-align: middle;\n",
              "    }\n",
              "\n",
              "    .dataframe tbody tr th {\n",
              "        vertical-align: top;\n",
              "    }\n",
              "\n",
              "    .dataframe thead th {\n",
              "        text-align: right;\n",
              "    }\n",
              "</style>\n",
              "<table border=\"1\" class=\"dataframe\">\n",
              "  <thead>\n",
              "    <tr style=\"text-align: right;\">\n",
              "      <th></th>\n",
              "      <th>자치구</th>\n",
              "      <th>세대</th>\n",
              "      <th>인구</th>\n",
              "      <th>인구.3</th>\n",
              "      <th>인구.6</th>\n",
              "      <th>세대당인구</th>\n",
              "      <th>65세이상고령자</th>\n",
              "    </tr>\n",
              "  </thead>\n",
              "  <tbody>\n",
              "    <tr>\n",
              "      <th>0</th>\n",
              "      <td>자치구</td>\n",
              "      <td>세대</td>\n",
              "      <td>합계</td>\n",
              "      <td>한국인</td>\n",
              "      <td>등록외국인</td>\n",
              "      <td>세대당인구</td>\n",
              "      <td>65세이상고령자</td>\n",
              "    </tr>\n",
              "    <tr>\n",
              "      <th>1</th>\n",
              "      <td>자치구</td>\n",
              "      <td>세대</td>\n",
              "      <td>계</td>\n",
              "      <td>계</td>\n",
              "      <td>계</td>\n",
              "      <td>세대당인구</td>\n",
              "      <td>65세이상고령자</td>\n",
              "    </tr>\n",
              "    <tr>\n",
              "      <th>2</th>\n",
              "      <td>합계</td>\n",
              "      <td>4,405,638</td>\n",
              "      <td>9,795,426</td>\n",
              "      <td>9,565,990</td>\n",
              "      <td>229,436</td>\n",
              "      <td>2.17</td>\n",
              "      <td>1,576,971</td>\n",
              "    </tr>\n",
              "    <tr>\n",
              "      <th>3</th>\n",
              "      <td>종로구</td>\n",
              "      <td>73,525</td>\n",
              "      <td>155,106</td>\n",
              "      <td>146,029</td>\n",
              "      <td>9,077</td>\n",
              "      <td>1.99</td>\n",
              "      <td>27,605</td>\n",
              "    </tr>\n",
              "    <tr>\n",
              "      <th>4</th>\n",
              "      <td>중구</td>\n",
              "      <td>62,897</td>\n",
              "      <td>132,259</td>\n",
              "      <td>123,016</td>\n",
              "      <td>9,243</td>\n",
              "      <td>1.96</td>\n",
              "      <td>23,980</td>\n",
              "    </tr>\n",
              "  </tbody>\n",
              "</table>\n",
              "</div>"
            ],
            "text/plain": [
              "   자치구         세대         인구       인구.3     인구.6  세대당인구   65세이상고령자\n",
              "0  자치구         세대         합계        한국인    등록외국인  세대당인구   65세이상고령자\n",
              "1  자치구         세대          계          계        계  세대당인구   65세이상고령자\n",
              "2   합계  4,405,638  9,795,426  9,565,990  229,436   2.17  1,576,971\n",
              "3  종로구     73,525    155,106    146,029    9,077   1.99     27,605\n",
              "4   중구     62,897    132,259    123,016    9,243   1.96     23,980"
            ]
          },
          "metadata": {},
          "execution_count": 114
        }
      ]
    },
    {
      "cell_type": "code",
      "metadata": {
        "colab": {
          "base_uri": "https://localhost:8080/",
          "height": 204
        },
        "id": "K9mG7R7y3Awt",
        "outputId": "c072eb63-a133-42a7-9140-ca589c4d2fb7"
      },
      "source": [
        "pop.rename(columns= pop.iloc[0], inplace=True)\n",
        "pop= pop.drop([0])\n",
        "pop= pop.drop([1])\n",
        "pop= pop.drop([2])\n",
        "pop.reset_index(drop=True, inplace=True)\n",
        "pop.head()"
      ],
      "execution_count": 115,
      "outputs": [
        {
          "output_type": "execute_result",
          "data": {
            "text/html": [
              "<div>\n",
              "<style scoped>\n",
              "    .dataframe tbody tr th:only-of-type {\n",
              "        vertical-align: middle;\n",
              "    }\n",
              "\n",
              "    .dataframe tbody tr th {\n",
              "        vertical-align: top;\n",
              "    }\n",
              "\n",
              "    .dataframe thead th {\n",
              "        text-align: right;\n",
              "    }\n",
              "</style>\n",
              "<table border=\"1\" class=\"dataframe\">\n",
              "  <thead>\n",
              "    <tr style=\"text-align: right;\">\n",
              "      <th></th>\n",
              "      <th>자치구</th>\n",
              "      <th>세대</th>\n",
              "      <th>합계</th>\n",
              "      <th>한국인</th>\n",
              "      <th>등록외국인</th>\n",
              "      <th>세대당인구</th>\n",
              "      <th>65세이상고령자</th>\n",
              "    </tr>\n",
              "  </thead>\n",
              "  <tbody>\n",
              "    <tr>\n",
              "      <th>0</th>\n",
              "      <td>종로구</td>\n",
              "      <td>73,525</td>\n",
              "      <td>155,106</td>\n",
              "      <td>146,029</td>\n",
              "      <td>9,077</td>\n",
              "      <td>1.99</td>\n",
              "      <td>27,605</td>\n",
              "    </tr>\n",
              "    <tr>\n",
              "      <th>1</th>\n",
              "      <td>중구</td>\n",
              "      <td>62,897</td>\n",
              "      <td>132,259</td>\n",
              "      <td>123,016</td>\n",
              "      <td>9,243</td>\n",
              "      <td>1.96</td>\n",
              "      <td>23,980</td>\n",
              "    </tr>\n",
              "    <tr>\n",
              "      <th>2</th>\n",
              "      <td>용산구</td>\n",
              "      <td>111,650</td>\n",
              "      <td>240,665</td>\n",
              "      <td>226,378</td>\n",
              "      <td>14,287</td>\n",
              "      <td>2.03</td>\n",
              "      <td>38,884</td>\n",
              "    </tr>\n",
              "    <tr>\n",
              "      <th>3</th>\n",
              "      <td>성동구</td>\n",
              "      <td>134,542</td>\n",
              "      <td>295,767</td>\n",
              "      <td>289,162</td>\n",
              "      <td>6,605</td>\n",
              "      <td>2.15</td>\n",
              "      <td>45,591</td>\n",
              "    </tr>\n",
              "    <tr>\n",
              "      <th>4</th>\n",
              "      <td>광진구</td>\n",
              "      <td>166,957</td>\n",
              "      <td>355,306</td>\n",
              "      <td>342,481</td>\n",
              "      <td>12,825</td>\n",
              "      <td>2.05</td>\n",
              "      <td>50,815</td>\n",
              "    </tr>\n",
              "  </tbody>\n",
              "</table>\n",
              "</div>"
            ],
            "text/plain": [
              "   자치구       세대       합계      한국인   등록외국인 세대당인구 65세이상고령자\n",
              "0  종로구   73,525  155,106  146,029   9,077  1.99   27,605\n",
              "1   중구   62,897  132,259  123,016   9,243  1.96   23,980\n",
              "2  용산구  111,650  240,665  226,378  14,287  2.03   38,884\n",
              "3  성동구  134,542  295,767  289,162   6,605  2.15   45,591\n",
              "4  광진구  166,957  355,306  342,481  12,825  2.05   50,815"
            ]
          },
          "metadata": {},
          "execution_count": 115
        }
      ]
    },
    {
      "cell_type": "code",
      "metadata": {
        "colab": {
          "base_uri": "https://localhost:8080/",
          "height": 204
        },
        "id": "vgKWN9_kAIoa",
        "outputId": "ffe37e50-990b-4a0e-bd64-569c93953046"
      },
      "source": [
        "# 자치구, 세대, 합계만 출력 \n",
        "pop = pop[['자치구','세대','합계']]\n",
        "pop.head()"
      ],
      "execution_count": 146,
      "outputs": [
        {
          "output_type": "execute_result",
          "data": {
            "text/html": [
              "<div>\n",
              "<style scoped>\n",
              "    .dataframe tbody tr th:only-of-type {\n",
              "        vertical-align: middle;\n",
              "    }\n",
              "\n",
              "    .dataframe tbody tr th {\n",
              "        vertical-align: top;\n",
              "    }\n",
              "\n",
              "    .dataframe thead th {\n",
              "        text-align: right;\n",
              "    }\n",
              "</style>\n",
              "<table border=\"1\" class=\"dataframe\">\n",
              "  <thead>\n",
              "    <tr style=\"text-align: right;\">\n",
              "      <th></th>\n",
              "      <th>자치구</th>\n",
              "      <th>세대</th>\n",
              "      <th>합계</th>\n",
              "    </tr>\n",
              "  </thead>\n",
              "  <tbody>\n",
              "    <tr>\n",
              "      <th>0</th>\n",
              "      <td>종로구</td>\n",
              "      <td>73,525</td>\n",
              "      <td>155,106</td>\n",
              "    </tr>\n",
              "    <tr>\n",
              "      <th>1</th>\n",
              "      <td>중구</td>\n",
              "      <td>62,897</td>\n",
              "      <td>132,259</td>\n",
              "    </tr>\n",
              "    <tr>\n",
              "      <th>2</th>\n",
              "      <td>용산구</td>\n",
              "      <td>111,650</td>\n",
              "      <td>240,665</td>\n",
              "    </tr>\n",
              "    <tr>\n",
              "      <th>3</th>\n",
              "      <td>성동구</td>\n",
              "      <td>134,542</td>\n",
              "      <td>295,767</td>\n",
              "    </tr>\n",
              "    <tr>\n",
              "      <th>4</th>\n",
              "      <td>광진구</td>\n",
              "      <td>166,957</td>\n",
              "      <td>355,306</td>\n",
              "    </tr>\n",
              "  </tbody>\n",
              "</table>\n",
              "</div>"
            ],
            "text/plain": [
              "   자치구       세대       합계\n",
              "0  종로구   73,525  155,106\n",
              "1   중구   62,897  132,259\n",
              "2  용산구  111,650  240,665\n",
              "3  성동구  134,542  295,767\n",
              "4  광진구  166,957  355,306"
            ]
          },
          "metadata": {},
          "execution_count": 146
        }
      ]
    },
    {
      "cell_type": "markdown",
      "metadata": {
        "id": "uIOceyEZ_1d0"
      },
      "source": [
        "# 각 구의 세대별 CCTV 수\n",
        "- [세계 최고 ‘감시도시’는 베이징·상하이·런던…서울은 44위](https://www.hani.co.kr/arti/international/international_general/955343.html)"
      ]
    },
    {
      "cell_type": "code",
      "metadata": {
        "colab": {
          "base_uri": "https://localhost:8080/",
          "height": 204
        },
        "id": "cj5fF0X85Qne",
        "outputId": "45a9632f-8ab4-4766-8617-f35d18cc0324"
      },
      "source": [
        "f_cctv= pd.merge(family,cctv)\n",
        "f_cctv.rename(columns = {'자치구':'ID','세대':'세대','CCTV수':'CCTV수'}, inplace=True)\n",
        "f_cctv.head()"
      ],
      "execution_count": 133,
      "outputs": [
        {
          "output_type": "execute_result",
          "data": {
            "text/html": [
              "<div>\n",
              "<style scoped>\n",
              "    .dataframe tbody tr th:only-of-type {\n",
              "        vertical-align: middle;\n",
              "    }\n",
              "\n",
              "    .dataframe tbody tr th {\n",
              "        vertical-align: top;\n",
              "    }\n",
              "\n",
              "    .dataframe thead th {\n",
              "        text-align: right;\n",
              "    }\n",
              "</style>\n",
              "<table border=\"1\" class=\"dataframe\">\n",
              "  <thead>\n",
              "    <tr style=\"text-align: right;\">\n",
              "      <th></th>\n",
              "      <th>ID</th>\n",
              "      <th>세대</th>\n",
              "      <th>CCTV수</th>\n",
              "    </tr>\n",
              "  </thead>\n",
              "  <tbody>\n",
              "    <tr>\n",
              "      <th>0</th>\n",
              "      <td>종로구</td>\n",
              "      <td>73,525</td>\n",
              "      <td>1,772</td>\n",
              "    </tr>\n",
              "    <tr>\n",
              "      <th>1</th>\n",
              "      <td>용산구</td>\n",
              "      <td>111,650</td>\n",
              "      <td>2,383</td>\n",
              "    </tr>\n",
              "    <tr>\n",
              "      <th>2</th>\n",
              "      <td>성동구</td>\n",
              "      <td>134,542</td>\n",
              "      <td>3,602</td>\n",
              "    </tr>\n",
              "    <tr>\n",
              "      <th>3</th>\n",
              "      <td>광진구</td>\n",
              "      <td>166,957</td>\n",
              "      <td>2,588</td>\n",
              "    </tr>\n",
              "    <tr>\n",
              "      <th>4</th>\n",
              "      <td>동대문구</td>\n",
              "      <td>166,372</td>\n",
              "      <td>2,497</td>\n",
              "    </tr>\n",
              "  </tbody>\n",
              "</table>\n",
              "</div>"
            ],
            "text/plain": [
              "     ID       세대  CCTV수\n",
              "0   종로구   73,525  1,772\n",
              "1   용산구  111,650  2,383\n",
              "2   성동구  134,542  3,602\n",
              "3   광진구  166,957  2,588\n",
              "4  동대문구  166,372  2,497"
            ]
          },
          "metadata": {},
          "execution_count": 133
        }
      ]
    },
    {
      "cell_type": "code",
      "metadata": {
        "colab": {
          "base_uri": "https://localhost:8080/",
          "height": 204
        },
        "id": "eLZZv4feCgcS",
        "outputId": "47a1be84-558a-44fe-ec97-e82625100832"
      },
      "source": [
        "f_cctv['CCTV수'] = f_cctv.CCTV수.apply(lambda x: int(x.replace(',','')))\n",
        "f_cctv['세대'] = f_cctv.세대.apply(lambda x: int(x.replace(',','')))\n",
        "f_cctv.head()"
      ],
      "execution_count": 134,
      "outputs": [
        {
          "output_type": "execute_result",
          "data": {
            "text/html": [
              "<div>\n",
              "<style scoped>\n",
              "    .dataframe tbody tr th:only-of-type {\n",
              "        vertical-align: middle;\n",
              "    }\n",
              "\n",
              "    .dataframe tbody tr th {\n",
              "        vertical-align: top;\n",
              "    }\n",
              "\n",
              "    .dataframe thead th {\n",
              "        text-align: right;\n",
              "    }\n",
              "</style>\n",
              "<table border=\"1\" class=\"dataframe\">\n",
              "  <thead>\n",
              "    <tr style=\"text-align: right;\">\n",
              "      <th></th>\n",
              "      <th>ID</th>\n",
              "      <th>세대</th>\n",
              "      <th>CCTV수</th>\n",
              "    </tr>\n",
              "  </thead>\n",
              "  <tbody>\n",
              "    <tr>\n",
              "      <th>0</th>\n",
              "      <td>종로구</td>\n",
              "      <td>73525</td>\n",
              "      <td>1772</td>\n",
              "    </tr>\n",
              "    <tr>\n",
              "      <th>1</th>\n",
              "      <td>용산구</td>\n",
              "      <td>111650</td>\n",
              "      <td>2383</td>\n",
              "    </tr>\n",
              "    <tr>\n",
              "      <th>2</th>\n",
              "      <td>성동구</td>\n",
              "      <td>134542</td>\n",
              "      <td>3602</td>\n",
              "    </tr>\n",
              "    <tr>\n",
              "      <th>3</th>\n",
              "      <td>광진구</td>\n",
              "      <td>166957</td>\n",
              "      <td>2588</td>\n",
              "    </tr>\n",
              "    <tr>\n",
              "      <th>4</th>\n",
              "      <td>동대문구</td>\n",
              "      <td>166372</td>\n",
              "      <td>2497</td>\n",
              "    </tr>\n",
              "  </tbody>\n",
              "</table>\n",
              "</div>"
            ],
            "text/plain": [
              "     ID      세대  CCTV수\n",
              "0   종로구   73525   1772\n",
              "1   용산구  111650   2383\n",
              "2   성동구  134542   3602\n",
              "3   광진구  166957   2588\n",
              "4  동대문구  166372   2497"
            ]
          },
          "metadata": {},
          "execution_count": 134
        }
      ]
    },
    {
      "cell_type": "code",
      "metadata": {
        "colab": {
          "base_uri": "https://localhost:8080/",
          "height": 204
        },
        "id": "ICnh6Qr-Cw5R",
        "outputId": "efde72b8-768c-4208-c63a-bad2dc4fbd83"
      },
      "source": [
        "f_cctv['세대별CCTV'] = f_cctv.CCTV수 / f_cctv.세대\n",
        "f_cctv.head()"
      ],
      "execution_count": 138,
      "outputs": [
        {
          "output_type": "execute_result",
          "data": {
            "text/html": [
              "<div>\n",
              "<style scoped>\n",
              "    .dataframe tbody tr th:only-of-type {\n",
              "        vertical-align: middle;\n",
              "    }\n",
              "\n",
              "    .dataframe tbody tr th {\n",
              "        vertical-align: top;\n",
              "    }\n",
              "\n",
              "    .dataframe thead th {\n",
              "        text-align: right;\n",
              "    }\n",
              "</style>\n",
              "<table border=\"1\" class=\"dataframe\">\n",
              "  <thead>\n",
              "    <tr style=\"text-align: right;\">\n",
              "      <th></th>\n",
              "      <th>ID</th>\n",
              "      <th>세대</th>\n",
              "      <th>CCTV수</th>\n",
              "      <th>세대별CCTV</th>\n",
              "    </tr>\n",
              "  </thead>\n",
              "  <tbody>\n",
              "    <tr>\n",
              "      <th>0</th>\n",
              "      <td>종로구</td>\n",
              "      <td>73525</td>\n",
              "      <td>1772</td>\n",
              "      <td>0.024101</td>\n",
              "    </tr>\n",
              "    <tr>\n",
              "      <th>1</th>\n",
              "      <td>용산구</td>\n",
              "      <td>111650</td>\n",
              "      <td>2383</td>\n",
              "      <td>0.021343</td>\n",
              "    </tr>\n",
              "    <tr>\n",
              "      <th>2</th>\n",
              "      <td>성동구</td>\n",
              "      <td>134542</td>\n",
              "      <td>3602</td>\n",
              "      <td>0.026772</td>\n",
              "    </tr>\n",
              "    <tr>\n",
              "      <th>3</th>\n",
              "      <td>광진구</td>\n",
              "      <td>166957</td>\n",
              "      <td>2588</td>\n",
              "      <td>0.015501</td>\n",
              "    </tr>\n",
              "    <tr>\n",
              "      <th>4</th>\n",
              "      <td>동대문구</td>\n",
              "      <td>166372</td>\n",
              "      <td>2497</td>\n",
              "      <td>0.015009</td>\n",
              "    </tr>\n",
              "  </tbody>\n",
              "</table>\n",
              "</div>"
            ],
            "text/plain": [
              "     ID      세대  CCTV수   세대별CCTV\n",
              "0   종로구   73525   1772  0.024101\n",
              "1   용산구  111650   2383  0.021343\n",
              "2   성동구  134542   3602  0.026772\n",
              "3   광진구  166957   2588  0.015501\n",
              "4  동대문구  166372   2497  0.015009"
            ]
          },
          "metadata": {},
          "execution_count": 138
        }
      ]
    },
    {
      "cell_type": "code",
      "metadata": {
        "id": "yako05OYG5zk"
      },
      "source": [
        "f_cctv.to_csv(f'{data_folder}/세대별_CCTV.csv', index=False)"
      ],
      "execution_count": 147,
      "outputs": []
    },
    {
      "cell_type": "markdown",
      "metadata": {
        "id": "UinN-2nHHGwM"
      },
      "source": [
        "### 인구별 CCTV "
      ]
    },
    {
      "cell_type": "code",
      "metadata": {
        "colab": {
          "base_uri": "https://localhost:8080/",
          "height": 204
        },
        "id": "FY99JrlkFoxi",
        "outputId": "877624b1-f6b8-456e-a0bd-fe0b3e46f456"
      },
      "source": [
        "p_cctv= pd.merge(pop,cctv)\n",
        "p_cctv.rename(columns = {'자치구':'자치구','세대':'세대','합계':'인구','CCTV수':'CCTV수'}, inplace=True)\n",
        "p_cctv.head()"
      ],
      "execution_count": 180,
      "outputs": [
        {
          "output_type": "execute_result",
          "data": {
            "text/html": [
              "<div>\n",
              "<style scoped>\n",
              "    .dataframe tbody tr th:only-of-type {\n",
              "        vertical-align: middle;\n",
              "    }\n",
              "\n",
              "    .dataframe tbody tr th {\n",
              "        vertical-align: top;\n",
              "    }\n",
              "\n",
              "    .dataframe thead th {\n",
              "        text-align: right;\n",
              "    }\n",
              "</style>\n",
              "<table border=\"1\" class=\"dataframe\">\n",
              "  <thead>\n",
              "    <tr style=\"text-align: right;\">\n",
              "      <th></th>\n",
              "      <th>자치구</th>\n",
              "      <th>세대</th>\n",
              "      <th>인구</th>\n",
              "      <th>CCTV수</th>\n",
              "    </tr>\n",
              "  </thead>\n",
              "  <tbody>\n",
              "    <tr>\n",
              "      <th>0</th>\n",
              "      <td>종로구</td>\n",
              "      <td>73,525</td>\n",
              "      <td>155,106</td>\n",
              "      <td>1,772</td>\n",
              "    </tr>\n",
              "    <tr>\n",
              "      <th>1</th>\n",
              "      <td>용산구</td>\n",
              "      <td>111,650</td>\n",
              "      <td>240,665</td>\n",
              "      <td>2,383</td>\n",
              "    </tr>\n",
              "    <tr>\n",
              "      <th>2</th>\n",
              "      <td>성동구</td>\n",
              "      <td>134,542</td>\n",
              "      <td>295,767</td>\n",
              "      <td>3,602</td>\n",
              "    </tr>\n",
              "    <tr>\n",
              "      <th>3</th>\n",
              "      <td>광진구</td>\n",
              "      <td>166,957</td>\n",
              "      <td>355,306</td>\n",
              "      <td>2,588</td>\n",
              "    </tr>\n",
              "    <tr>\n",
              "      <th>4</th>\n",
              "      <td>동대문구</td>\n",
              "      <td>166,372</td>\n",
              "      <td>352,259</td>\n",
              "      <td>2,497</td>\n",
              "    </tr>\n",
              "  </tbody>\n",
              "</table>\n",
              "</div>"
            ],
            "text/plain": [
              "    자치구       세대       인구  CCTV수\n",
              "0   종로구   73,525  155,106  1,772\n",
              "1   용산구  111,650  240,665  2,383\n",
              "2   성동구  134,542  295,767  3,602\n",
              "3   광진구  166,957  355,306  2,588\n",
              "4  동대문구  166,372  352,259  2,497"
            ]
          },
          "metadata": {},
          "execution_count": 180
        }
      ]
    },
    {
      "cell_type": "code",
      "metadata": {
        "colab": {
          "base_uri": "https://localhost:8080/",
          "height": 204
        },
        "id": "AThKL4QJHbSu",
        "outputId": "b078af95-6475-4f06-cead-aff67b915b74"
      },
      "source": [
        "p_cctv['CCTV수'] = p_cctv.CCTV수.apply(lambda x: int(x.replace(',','')))\n",
        "p_cctv['세대'] = p_cctv.세대.apply(lambda x: int(x.replace(',','')))\n",
        "p_cctv['인구'] = p_cctv.인구.apply(lambda x: int(x.replace(',','')))\n",
        "p_cctv.head()"
      ],
      "execution_count": 181,
      "outputs": [
        {
          "output_type": "execute_result",
          "data": {
            "text/html": [
              "<div>\n",
              "<style scoped>\n",
              "    .dataframe tbody tr th:only-of-type {\n",
              "        vertical-align: middle;\n",
              "    }\n",
              "\n",
              "    .dataframe tbody tr th {\n",
              "        vertical-align: top;\n",
              "    }\n",
              "\n",
              "    .dataframe thead th {\n",
              "        text-align: right;\n",
              "    }\n",
              "</style>\n",
              "<table border=\"1\" class=\"dataframe\">\n",
              "  <thead>\n",
              "    <tr style=\"text-align: right;\">\n",
              "      <th></th>\n",
              "      <th>자치구</th>\n",
              "      <th>세대</th>\n",
              "      <th>인구</th>\n",
              "      <th>CCTV수</th>\n",
              "    </tr>\n",
              "  </thead>\n",
              "  <tbody>\n",
              "    <tr>\n",
              "      <th>0</th>\n",
              "      <td>종로구</td>\n",
              "      <td>73525</td>\n",
              "      <td>155106</td>\n",
              "      <td>1772</td>\n",
              "    </tr>\n",
              "    <tr>\n",
              "      <th>1</th>\n",
              "      <td>용산구</td>\n",
              "      <td>111650</td>\n",
              "      <td>240665</td>\n",
              "      <td>2383</td>\n",
              "    </tr>\n",
              "    <tr>\n",
              "      <th>2</th>\n",
              "      <td>성동구</td>\n",
              "      <td>134542</td>\n",
              "      <td>295767</td>\n",
              "      <td>3602</td>\n",
              "    </tr>\n",
              "    <tr>\n",
              "      <th>3</th>\n",
              "      <td>광진구</td>\n",
              "      <td>166957</td>\n",
              "      <td>355306</td>\n",
              "      <td>2588</td>\n",
              "    </tr>\n",
              "    <tr>\n",
              "      <th>4</th>\n",
              "      <td>동대문구</td>\n",
              "      <td>166372</td>\n",
              "      <td>352259</td>\n",
              "      <td>2497</td>\n",
              "    </tr>\n",
              "  </tbody>\n",
              "</table>\n",
              "</div>"
            ],
            "text/plain": [
              "    자치구      세대      인구  CCTV수\n",
              "0   종로구   73525  155106   1772\n",
              "1   용산구  111650  240665   2383\n",
              "2   성동구  134542  295767   3602\n",
              "3   광진구  166957  355306   2588\n",
              "4  동대문구  166372  352259   2497"
            ]
          },
          "metadata": {},
          "execution_count": 181
        }
      ]
    },
    {
      "cell_type": "code",
      "metadata": {
        "colab": {
          "base_uri": "https://localhost:8080/",
          "height": 204
        },
        "id": "axvKGGZNIbOY",
        "outputId": "3d0bc91d-0d9f-4f1e-95e8-456abb395ad3"
      },
      "source": [
        "p_cctv['인구(천명)'] = p_cctv.인구/1000\n",
        "del p_cctv['인구']\n",
        "p_cctv.head()"
      ],
      "execution_count": 182,
      "outputs": [
        {
          "output_type": "execute_result",
          "data": {
            "text/html": [
              "<div>\n",
              "<style scoped>\n",
              "    .dataframe tbody tr th:only-of-type {\n",
              "        vertical-align: middle;\n",
              "    }\n",
              "\n",
              "    .dataframe tbody tr th {\n",
              "        vertical-align: top;\n",
              "    }\n",
              "\n",
              "    .dataframe thead th {\n",
              "        text-align: right;\n",
              "    }\n",
              "</style>\n",
              "<table border=\"1\" class=\"dataframe\">\n",
              "  <thead>\n",
              "    <tr style=\"text-align: right;\">\n",
              "      <th></th>\n",
              "      <th>자치구</th>\n",
              "      <th>세대</th>\n",
              "      <th>CCTV수</th>\n",
              "      <th>인구(천명)</th>\n",
              "    </tr>\n",
              "  </thead>\n",
              "  <tbody>\n",
              "    <tr>\n",
              "      <th>0</th>\n",
              "      <td>종로구</td>\n",
              "      <td>73525</td>\n",
              "      <td>1772</td>\n",
              "      <td>155.106</td>\n",
              "    </tr>\n",
              "    <tr>\n",
              "      <th>1</th>\n",
              "      <td>용산구</td>\n",
              "      <td>111650</td>\n",
              "      <td>2383</td>\n",
              "      <td>240.665</td>\n",
              "    </tr>\n",
              "    <tr>\n",
              "      <th>2</th>\n",
              "      <td>성동구</td>\n",
              "      <td>134542</td>\n",
              "      <td>3602</td>\n",
              "      <td>295.767</td>\n",
              "    </tr>\n",
              "    <tr>\n",
              "      <th>3</th>\n",
              "      <td>광진구</td>\n",
              "      <td>166957</td>\n",
              "      <td>2588</td>\n",
              "      <td>355.306</td>\n",
              "    </tr>\n",
              "    <tr>\n",
              "      <th>4</th>\n",
              "      <td>동대문구</td>\n",
              "      <td>166372</td>\n",
              "      <td>2497</td>\n",
              "      <td>352.259</td>\n",
              "    </tr>\n",
              "  </tbody>\n",
              "</table>\n",
              "</div>"
            ],
            "text/plain": [
              "    자치구      세대  CCTV수   인구(천명)\n",
              "0   종로구   73525   1772  155.106\n",
              "1   용산구  111650   2383  240.665\n",
              "2   성동구  134542   3602  295.767\n",
              "3   광진구  166957   2588  355.306\n",
              "4  동대문구  166372   2497  352.259"
            ]
          },
          "metadata": {},
          "execution_count": 182
        }
      ]
    },
    {
      "cell_type": "code",
      "metadata": {
        "colab": {
          "base_uri": "https://localhost:8080/",
          "height": 204
        },
        "id": "_tiK7flHH-ey",
        "outputId": "f593bea8-a847-4ccc-8e67-f5a572fd7374"
      },
      "source": [
        "# 인구 100명 당 CCTV 수\n",
        "p_cctv['인구별CCTV'] = p_cctv.CCTV수 / p_cctv['인구(천명)']\n",
        "p_cctv.head()"
      ],
      "execution_count": 183,
      "outputs": [
        {
          "output_type": "execute_result",
          "data": {
            "text/html": [
              "<div>\n",
              "<style scoped>\n",
              "    .dataframe tbody tr th:only-of-type {\n",
              "        vertical-align: middle;\n",
              "    }\n",
              "\n",
              "    .dataframe tbody tr th {\n",
              "        vertical-align: top;\n",
              "    }\n",
              "\n",
              "    .dataframe thead th {\n",
              "        text-align: right;\n",
              "    }\n",
              "</style>\n",
              "<table border=\"1\" class=\"dataframe\">\n",
              "  <thead>\n",
              "    <tr style=\"text-align: right;\">\n",
              "      <th></th>\n",
              "      <th>자치구</th>\n",
              "      <th>세대</th>\n",
              "      <th>CCTV수</th>\n",
              "      <th>인구(천명)</th>\n",
              "      <th>인구별CCTV</th>\n",
              "    </tr>\n",
              "  </thead>\n",
              "  <tbody>\n",
              "    <tr>\n",
              "      <th>0</th>\n",
              "      <td>종로구</td>\n",
              "      <td>73525</td>\n",
              "      <td>1772</td>\n",
              "      <td>155.106</td>\n",
              "      <td>11.424445</td>\n",
              "    </tr>\n",
              "    <tr>\n",
              "      <th>1</th>\n",
              "      <td>용산구</td>\n",
              "      <td>111650</td>\n",
              "      <td>2383</td>\n",
              "      <td>240.665</td>\n",
              "      <td>9.901731</td>\n",
              "    </tr>\n",
              "    <tr>\n",
              "      <th>2</th>\n",
              "      <td>성동구</td>\n",
              "      <td>134542</td>\n",
              "      <td>3602</td>\n",
              "      <td>295.767</td>\n",
              "      <td>12.178505</td>\n",
              "    </tr>\n",
              "    <tr>\n",
              "      <th>3</th>\n",
              "      <td>광진구</td>\n",
              "      <td>166957</td>\n",
              "      <td>2588</td>\n",
              "      <td>355.306</td>\n",
              "      <td>7.283862</td>\n",
              "    </tr>\n",
              "    <tr>\n",
              "      <th>4</th>\n",
              "      <td>동대문구</td>\n",
              "      <td>166372</td>\n",
              "      <td>2497</td>\n",
              "      <td>352.259</td>\n",
              "      <td>7.088534</td>\n",
              "    </tr>\n",
              "  </tbody>\n",
              "</table>\n",
              "</div>"
            ],
            "text/plain": [
              "    자치구      세대  CCTV수   인구(천명)    인구별CCTV\n",
              "0   종로구   73525   1772  155.106  11.424445\n",
              "1   용산구  111650   2383  240.665   9.901731\n",
              "2   성동구  134542   3602  295.767  12.178505\n",
              "3   광진구  166957   2588  355.306   7.283862\n",
              "4  동대문구  166372   2497  352.259   7.088534"
            ]
          },
          "metadata": {},
          "execution_count": 183
        }
      ]
    },
    {
      "cell_type": "code",
      "metadata": {
        "colab": {
          "base_uri": "https://localhost:8080/",
          "height": 204
        },
        "id": "lT4wM4GQHxTe",
        "outputId": "f98917df-1c96-427b-ed1c-e0342a1603c4"
      },
      "source": [
        "# 세대별 CCTV 수 \n",
        "p_cctv['세대(백)'] = p_cctv.세대 /100\n",
        "p_cctv['세대별CCTV'] = p_cctv.CCTV수/p_cctv['세대(백)']\n",
        "p_cctv.head()"
      ],
      "execution_count": 184,
      "outputs": [
        {
          "output_type": "execute_result",
          "data": {
            "text/html": [
              "<div>\n",
              "<style scoped>\n",
              "    .dataframe tbody tr th:only-of-type {\n",
              "        vertical-align: middle;\n",
              "    }\n",
              "\n",
              "    .dataframe tbody tr th {\n",
              "        vertical-align: top;\n",
              "    }\n",
              "\n",
              "    .dataframe thead th {\n",
              "        text-align: right;\n",
              "    }\n",
              "</style>\n",
              "<table border=\"1\" class=\"dataframe\">\n",
              "  <thead>\n",
              "    <tr style=\"text-align: right;\">\n",
              "      <th></th>\n",
              "      <th>자치구</th>\n",
              "      <th>세대</th>\n",
              "      <th>CCTV수</th>\n",
              "      <th>인구(천명)</th>\n",
              "      <th>인구별CCTV</th>\n",
              "      <th>세대(백)</th>\n",
              "      <th>세대별CCTV</th>\n",
              "    </tr>\n",
              "  </thead>\n",
              "  <tbody>\n",
              "    <tr>\n",
              "      <th>0</th>\n",
              "      <td>종로구</td>\n",
              "      <td>73525</td>\n",
              "      <td>1772</td>\n",
              "      <td>155.106</td>\n",
              "      <td>11.424445</td>\n",
              "      <td>735.25</td>\n",
              "      <td>2.410065</td>\n",
              "    </tr>\n",
              "    <tr>\n",
              "      <th>1</th>\n",
              "      <td>용산구</td>\n",
              "      <td>111650</td>\n",
              "      <td>2383</td>\n",
              "      <td>240.665</td>\n",
              "      <td>9.901731</td>\n",
              "      <td>1116.50</td>\n",
              "      <td>2.134348</td>\n",
              "    </tr>\n",
              "    <tr>\n",
              "      <th>2</th>\n",
              "      <td>성동구</td>\n",
              "      <td>134542</td>\n",
              "      <td>3602</td>\n",
              "      <td>295.767</td>\n",
              "      <td>12.178505</td>\n",
              "      <td>1345.42</td>\n",
              "      <td>2.677231</td>\n",
              "    </tr>\n",
              "    <tr>\n",
              "      <th>3</th>\n",
              "      <td>광진구</td>\n",
              "      <td>166957</td>\n",
              "      <td>2588</td>\n",
              "      <td>355.306</td>\n",
              "      <td>7.283862</td>\n",
              "      <td>1669.57</td>\n",
              "      <td>1.550100</td>\n",
              "    </tr>\n",
              "    <tr>\n",
              "      <th>4</th>\n",
              "      <td>동대문구</td>\n",
              "      <td>166372</td>\n",
              "      <td>2497</td>\n",
              "      <td>352.259</td>\n",
              "      <td>7.088534</td>\n",
              "      <td>1663.72</td>\n",
              "      <td>1.500854</td>\n",
              "    </tr>\n",
              "  </tbody>\n",
              "</table>\n",
              "</div>"
            ],
            "text/plain": [
              "    자치구      세대  CCTV수   인구(천명)    인구별CCTV    세대(백)   세대별CCTV\n",
              "0   종로구   73525   1772  155.106  11.424445   735.25  2.410065\n",
              "1   용산구  111650   2383  240.665   9.901731  1116.50  2.134348\n",
              "2   성동구  134542   3602  295.767  12.178505  1345.42  2.677231\n",
              "3   광진구  166957   2588  355.306   7.283862  1669.57  1.550100\n",
              "4  동대문구  166372   2497  352.259   7.088534  1663.72  1.500854"
            ]
          },
          "metadata": {},
          "execution_count": 184
        }
      ]
    },
    {
      "cell_type": "code",
      "metadata": {
        "id": "G1w4bvyGJrvq"
      },
      "source": [
        "p_cctv.to_csv(f'{data_folder}/서울시구별_CCTV.csv', index=False)"
      ],
      "execution_count": 189,
      "outputs": []
    },
    {
      "cell_type": "code",
      "metadata": {
        "id": "a16GHK9qLFKd"
      },
      "source": [
        ""
      ],
      "execution_count": null,
      "outputs": []
    }
  ]
}