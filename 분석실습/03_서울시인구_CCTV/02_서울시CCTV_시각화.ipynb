{
  "nbformat": 4,
  "nbformat_minor": 0,
  "metadata": {
    "colab": {
      "name": "02_서울시CCTV_시각화.ipynb",
      "provenance": [],
      "collapsed_sections": []
    },
    "kernelspec": {
      "name": "python3",
      "display_name": "Python 3"
    },
    "language_info": {
      "name": "python"
    }
  },
  "cells": [
    {
      "cell_type": "code",
      "metadata": {
        "id": "agIK7QNwLPPw"
      },
      "source": [
        "# 한글 패키지 다운로드\n",
        "!apt-get install -y fonts-nanum > /dev/null\n",
        "!fc-cache -fv > /dev/null\n",
        "!rm -rf ~/.cache/matplotlib > /dev/null"
      ],
      "execution_count": 89,
      "outputs": []
    },
    {
      "cell_type": "code",
      "metadata": {
        "id": "vVDcDQQxLPEr"
      },
      "source": [
        "import numpy as np\n",
        "import pandas as pd\n",
        "import seaborn as sns\n",
        "import matplotlib as mpl\n",
        "import matplotlib.pyplot as plt\n",
        "mpl.rcParams['axes.unicode_minus'] = False\n",
        "plt.rc('font', family='NanumBarunGothic')"
      ],
      "execution_count": 1,
      "outputs": []
    },
    {
      "cell_type": "code",
      "metadata": {
        "id": "kYqi8gQXLeAZ"
      },
      "source": [
        "import warnings \n",
        "warnings.filterwarnings('ignore')"
      ],
      "execution_count": 2,
      "outputs": []
    },
    {
      "cell_type": "code",
      "metadata": {
        "colab": {
          "base_uri": "https://localhost:8080/"
        },
        "id": "pIdA86BbLd2q",
        "outputId": "b11d220d-5516-47bb-8130-35a6ee9b4fda"
      },
      "source": [
        "from google.colab import drive\n",
        "drive.mount('/content/mnt')"
      ],
      "execution_count": 23,
      "outputs": [
        {
          "output_type": "stream",
          "name": "stdout",
          "text": [
            "Drive already mounted at /content/mnt; to attempt to forcibly remount, call drive.mount(\"/content/mnt\", force_remount=True).\n"
          ]
        }
      ]
    },
    {
      "cell_type": "code",
      "metadata": {
        "colab": {
          "base_uri": "https://localhost:8080/"
        },
        "id": "EoRL5W_ELkf2",
        "outputId": "89b5c124-517e-490c-9d4e-32cb8313bab7"
      },
      "source": [
        "data_folder = '/content/mnt/MyDrive/Data/서울시구별CCTV'\n",
        "data = '/content/mnt/MyDrive/Data/인구소멸위기지역'\n",
        "!ls -l $data_folder"
      ],
      "execution_count": 55,
      "outputs": [
        {
          "output_type": "stream",
          "name": "stdout",
          "text": [
            "total 8\n",
            "-rw------- 1 root root 1793 Sep  7 05:23 '서울시CCTV설치운영현황(자치구)_년도별_210731기준.csv'\n",
            "-rw------- 1 root root 1872 Sep  7 07:39  서울시구별_CCTV.csv\n",
            "-rw------- 1 root root 3179 Sep  7 05:25 '서울시주민등록인구(구별)통계.tsv'\n"
          ]
        }
      ]
    },
    {
      "cell_type": "code",
      "metadata": {
        "colab": {
          "base_uri": "https://localhost:8080/",
          "height": 204
        },
        "id": "jRLi6_MsLkY0",
        "outputId": "81b9e755-0405-4a67-c939-c5c93ba572eb"
      },
      "source": [
        "pop = pd.read_csv(f'{data_folder}/서울시구별_CCTV.csv', encoding='utf-8')\n",
        "pop.head()"
      ],
      "execution_count": 50,
      "outputs": [
        {
          "output_type": "execute_result",
          "data": {
            "text/html": [
              "<div>\n",
              "<style scoped>\n",
              "    .dataframe tbody tr th:only-of-type {\n",
              "        vertical-align: middle;\n",
              "    }\n",
              "\n",
              "    .dataframe tbody tr th {\n",
              "        vertical-align: top;\n",
              "    }\n",
              "\n",
              "    .dataframe thead th {\n",
              "        text-align: right;\n",
              "    }\n",
              "</style>\n",
              "<table border=\"1\" class=\"dataframe\">\n",
              "  <thead>\n",
              "    <tr style=\"text-align: right;\">\n",
              "      <th></th>\n",
              "      <th>자치구</th>\n",
              "      <th>세대</th>\n",
              "      <th>CCTV수</th>\n",
              "      <th>인구(천명)</th>\n",
              "      <th>인구별CCTV</th>\n",
              "      <th>세대(백)</th>\n",
              "      <th>세대별CCTV</th>\n",
              "    </tr>\n",
              "  </thead>\n",
              "  <tbody>\n",
              "    <tr>\n",
              "      <th>0</th>\n",
              "      <td>종로구</td>\n",
              "      <td>73525</td>\n",
              "      <td>1772</td>\n",
              "      <td>155.106</td>\n",
              "      <td>11.424445</td>\n",
              "      <td>735.25</td>\n",
              "      <td>2.410065</td>\n",
              "    </tr>\n",
              "    <tr>\n",
              "      <th>1</th>\n",
              "      <td>용산구</td>\n",
              "      <td>111650</td>\n",
              "      <td>2383</td>\n",
              "      <td>240.665</td>\n",
              "      <td>9.901731</td>\n",
              "      <td>1116.50</td>\n",
              "      <td>2.134348</td>\n",
              "    </tr>\n",
              "    <tr>\n",
              "      <th>2</th>\n",
              "      <td>성동구</td>\n",
              "      <td>134542</td>\n",
              "      <td>3602</td>\n",
              "      <td>295.767</td>\n",
              "      <td>12.178505</td>\n",
              "      <td>1345.42</td>\n",
              "      <td>2.677231</td>\n",
              "    </tr>\n",
              "    <tr>\n",
              "      <th>3</th>\n",
              "      <td>광진구</td>\n",
              "      <td>166957</td>\n",
              "      <td>2588</td>\n",
              "      <td>355.306</td>\n",
              "      <td>7.283862</td>\n",
              "      <td>1669.57</td>\n",
              "      <td>1.550100</td>\n",
              "    </tr>\n",
              "    <tr>\n",
              "      <th>4</th>\n",
              "      <td>동대문구</td>\n",
              "      <td>166372</td>\n",
              "      <td>2497</td>\n",
              "      <td>352.259</td>\n",
              "      <td>7.088534</td>\n",
              "      <td>1663.72</td>\n",
              "      <td>1.500854</td>\n",
              "    </tr>\n",
              "  </tbody>\n",
              "</table>\n",
              "</div>"
            ],
            "text/plain": [
              "    자치구      세대  CCTV수   인구(천명)    인구별CCTV    세대(백)   세대별CCTV\n",
              "0   종로구   73525   1772  155.106  11.424445   735.25  2.410065\n",
              "1   용산구  111650   2383  240.665   9.901731  1116.50  2.134348\n",
              "2   성동구  134542   3602  295.767  12.178505  1345.42  2.677231\n",
              "3   광진구  166957   2588  355.306   7.283862  1669.57  1.550100\n",
              "4  동대문구  166372   2497  352.259   7.088534  1663.72  1.500854"
            ]
          },
          "metadata": {},
          "execution_count": 50
        }
      ]
    },
    {
      "cell_type": "markdown",
      "metadata": {
        "id": "ZdqYJg99M_da"
      },
      "source": [
        "#### ID 부여하기"
      ]
    },
    {
      "cell_type": "code",
      "metadata": {
        "id": "uyrUE_HXLv3D"
      },
      "source": [
        "name = [None] * len(pop)\n",
        "\n",
        "for i in pop.index:\n",
        "  if len(pop.자치구[i]) == 2:\n",
        "    name[i] = '서울' + ' ' + pop.자치구[i]\n",
        "  else:\n",
        "    name[i] = '서울' + ' ' + pop.자치구[i][:-1]"
      ],
      "execution_count": 51,
      "outputs": []
    },
    {
      "cell_type": "code",
      "metadata": {
        "colab": {
          "base_uri": "https://localhost:8080/",
          "height": 204
        },
        "id": "jqPfu6GUP9AR",
        "outputId": "c958828d-1ff4-4588-a161-f629e14c0849"
      },
      "source": [
        "pop['ID'] = name \n",
        "pop.head()"
      ],
      "execution_count": 52,
      "outputs": [
        {
          "output_type": "execute_result",
          "data": {
            "text/html": [
              "<div>\n",
              "<style scoped>\n",
              "    .dataframe tbody tr th:only-of-type {\n",
              "        vertical-align: middle;\n",
              "    }\n",
              "\n",
              "    .dataframe tbody tr th {\n",
              "        vertical-align: top;\n",
              "    }\n",
              "\n",
              "    .dataframe thead th {\n",
              "        text-align: right;\n",
              "    }\n",
              "</style>\n",
              "<table border=\"1\" class=\"dataframe\">\n",
              "  <thead>\n",
              "    <tr style=\"text-align: right;\">\n",
              "      <th></th>\n",
              "      <th>자치구</th>\n",
              "      <th>세대</th>\n",
              "      <th>CCTV수</th>\n",
              "      <th>인구(천명)</th>\n",
              "      <th>인구별CCTV</th>\n",
              "      <th>세대(백)</th>\n",
              "      <th>세대별CCTV</th>\n",
              "      <th>ID</th>\n",
              "    </tr>\n",
              "  </thead>\n",
              "  <tbody>\n",
              "    <tr>\n",
              "      <th>0</th>\n",
              "      <td>종로구</td>\n",
              "      <td>73525</td>\n",
              "      <td>1772</td>\n",
              "      <td>155.106</td>\n",
              "      <td>11.424445</td>\n",
              "      <td>735.25</td>\n",
              "      <td>2.410065</td>\n",
              "      <td>서울 종로</td>\n",
              "    </tr>\n",
              "    <tr>\n",
              "      <th>1</th>\n",
              "      <td>용산구</td>\n",
              "      <td>111650</td>\n",
              "      <td>2383</td>\n",
              "      <td>240.665</td>\n",
              "      <td>9.901731</td>\n",
              "      <td>1116.50</td>\n",
              "      <td>2.134348</td>\n",
              "      <td>서울 용산</td>\n",
              "    </tr>\n",
              "    <tr>\n",
              "      <th>2</th>\n",
              "      <td>성동구</td>\n",
              "      <td>134542</td>\n",
              "      <td>3602</td>\n",
              "      <td>295.767</td>\n",
              "      <td>12.178505</td>\n",
              "      <td>1345.42</td>\n",
              "      <td>2.677231</td>\n",
              "      <td>서울 성동</td>\n",
              "    </tr>\n",
              "    <tr>\n",
              "      <th>3</th>\n",
              "      <td>광진구</td>\n",
              "      <td>166957</td>\n",
              "      <td>2588</td>\n",
              "      <td>355.306</td>\n",
              "      <td>7.283862</td>\n",
              "      <td>1669.57</td>\n",
              "      <td>1.550100</td>\n",
              "      <td>서울 광진</td>\n",
              "    </tr>\n",
              "    <tr>\n",
              "      <th>4</th>\n",
              "      <td>동대문구</td>\n",
              "      <td>166372</td>\n",
              "      <td>2497</td>\n",
              "      <td>352.259</td>\n",
              "      <td>7.088534</td>\n",
              "      <td>1663.72</td>\n",
              "      <td>1.500854</td>\n",
              "      <td>서울 동대문</td>\n",
              "    </tr>\n",
              "  </tbody>\n",
              "</table>\n",
              "</div>"
            ],
            "text/plain": [
              "    자치구      세대  CCTV수   인구(천명)    인구별CCTV    세대(백)   세대별CCTV      ID\n",
              "0   종로구   73525   1772  155.106  11.424445   735.25  2.410065   서울 종로\n",
              "1   용산구  111650   2383  240.665   9.901731  1116.50  2.134348   서울 용산\n",
              "2   성동구  134542   3602  295.767  12.178505  1345.42  2.677231   서울 성동\n",
              "3   광진구  166957   2588  355.306   7.283862  1669.57  1.550100   서울 광진\n",
              "4  동대문구  166372   2497  352.259   7.088534  1663.72  1.500854  서울 동대문"
            ]
          },
          "metadata": {},
          "execution_count": 52
        }
      ]
    },
    {
      "cell_type": "code",
      "metadata": {
        "colab": {
          "base_uri": "https://localhost:8080/",
          "height": 235
        },
        "id": "hYQi9BNvVJHs",
        "outputId": "21e827f3-6161-4858-93ae-5ecfd538ace4"
      },
      "source": [
        "pop.set_index('자치구', inplace=True)\n",
        "pop.head()"
      ],
      "execution_count": 68,
      "outputs": [
        {
          "output_type": "execute_result",
          "data": {
            "text/html": [
              "<div>\n",
              "<style scoped>\n",
              "    .dataframe tbody tr th:only-of-type {\n",
              "        vertical-align: middle;\n",
              "    }\n",
              "\n",
              "    .dataframe tbody tr th {\n",
              "        vertical-align: top;\n",
              "    }\n",
              "\n",
              "    .dataframe thead th {\n",
              "        text-align: right;\n",
              "    }\n",
              "</style>\n",
              "<table border=\"1\" class=\"dataframe\">\n",
              "  <thead>\n",
              "    <tr style=\"text-align: right;\">\n",
              "      <th></th>\n",
              "      <th>세대</th>\n",
              "      <th>CCTV수</th>\n",
              "      <th>인구(천명)</th>\n",
              "      <th>인구별CCTV</th>\n",
              "      <th>세대(백)</th>\n",
              "      <th>세대별CCTV</th>\n",
              "      <th>ID</th>\n",
              "    </tr>\n",
              "    <tr>\n",
              "      <th>자치구</th>\n",
              "      <th></th>\n",
              "      <th></th>\n",
              "      <th></th>\n",
              "      <th></th>\n",
              "      <th></th>\n",
              "      <th></th>\n",
              "      <th></th>\n",
              "    </tr>\n",
              "  </thead>\n",
              "  <tbody>\n",
              "    <tr>\n",
              "      <th>종로구</th>\n",
              "      <td>73525</td>\n",
              "      <td>1772</td>\n",
              "      <td>155.106</td>\n",
              "      <td>11.424445</td>\n",
              "      <td>735.25</td>\n",
              "      <td>2.410065</td>\n",
              "      <td>서울 종로</td>\n",
              "    </tr>\n",
              "    <tr>\n",
              "      <th>용산구</th>\n",
              "      <td>111650</td>\n",
              "      <td>2383</td>\n",
              "      <td>240.665</td>\n",
              "      <td>9.901731</td>\n",
              "      <td>1116.50</td>\n",
              "      <td>2.134348</td>\n",
              "      <td>서울 용산</td>\n",
              "    </tr>\n",
              "    <tr>\n",
              "      <th>성동구</th>\n",
              "      <td>134542</td>\n",
              "      <td>3602</td>\n",
              "      <td>295.767</td>\n",
              "      <td>12.178505</td>\n",
              "      <td>1345.42</td>\n",
              "      <td>2.677231</td>\n",
              "      <td>서울 성동</td>\n",
              "    </tr>\n",
              "    <tr>\n",
              "      <th>광진구</th>\n",
              "      <td>166957</td>\n",
              "      <td>2588</td>\n",
              "      <td>355.306</td>\n",
              "      <td>7.283862</td>\n",
              "      <td>1669.57</td>\n",
              "      <td>1.550100</td>\n",
              "      <td>서울 광진</td>\n",
              "    </tr>\n",
              "    <tr>\n",
              "      <th>동대문구</th>\n",
              "      <td>166372</td>\n",
              "      <td>2497</td>\n",
              "      <td>352.259</td>\n",
              "      <td>7.088534</td>\n",
              "      <td>1663.72</td>\n",
              "      <td>1.500854</td>\n",
              "      <td>서울 동대문</td>\n",
              "    </tr>\n",
              "  </tbody>\n",
              "</table>\n",
              "</div>"
            ],
            "text/plain": [
              "          세대  CCTV수   인구(천명)    인구별CCTV    세대(백)   세대별CCTV      ID\n",
              "자치구                                                               \n",
              "종로구    73525   1772  155.106  11.424445   735.25  2.410065   서울 종로\n",
              "용산구   111650   2383  240.665   9.901731  1116.50  2.134348   서울 용산\n",
              "성동구   134542   3602  295.767  12.178505  1345.42  2.677231   서울 성동\n",
              "광진구   166957   2588  355.306   7.283862  1669.57  1.550100   서울 광진\n",
              "동대문구  166372   2497  352.259   7.088534  1663.72  1.500854  서울 동대문"
            ]
          },
          "metadata": {},
          "execution_count": 68
        }
      ]
    },
    {
      "cell_type": "markdown",
      "metadata": {
        "id": "v4WocAfTzMqw"
      },
      "source": [
        "### 시각화"
      ]
    },
    {
      "cell_type": "markdown",
      "metadata": {
        "id": "Lpdz-keJOD24"
      },
      "source": [
        "* 그래프 시각화"
      ]
    },
    {
      "cell_type": "code",
      "metadata": {
        "colab": {
          "base_uri": "https://localhost:8080/",
          "height": 498
        },
        "id": "SQyGwwj9N3Fn",
        "outputId": "044281c0-2055-4491-feec-8a1d86efb7d2"
      },
      "source": [
        "pop.인구별CCTV.sort_values().plot(kind='barh', grid=True, figsize=(12,8))\n",
        "plt.title('자치구별 인구(천명)당 CCTV수')\n",
        "plt.show()"
      ],
      "execution_count": 33,
      "outputs": [
        {
          "output_type": "display_data",
          "data": {
            "image/png": "[encoded data removed]",
            "text/plain": [
              "<Figure size 864x576 with 1 Axes>"
            ]
          },
          "metadata": {
            "needs_background": "light"
          }
        }
      ]
    },
    {
      "cell_type": "code",
      "metadata": {
        "colab": {
          "base_uri": "https://localhost:8080/",
          "height": 515
        },
        "id": "Mge_a_WjVCy_",
        "outputId": "42c4f6e7-398a-45b8-84d8-c090a4893b4d"
      },
      "source": [
        "plt.figure(figsize=(12,8))\n",
        "order = pop.인구별CCTV.sort_values(ascending=False).index\n",
        "sns.barplot(x='인구별CCTV', y=pop.index, data=pop, order=order)\n",
        "plt.grid()\n",
        "plt.title('자치구별 인구(천명) CCTV', size=15)\n",
        "plt.show()"
      ],
      "execution_count": 72,
      "outputs": [
        {
          "output_type": "display_data",
          "data": {
            "image/png": "[encoded data removed]",
            "text/plain": [
              "<Figure size 864x576 with 1 Axes>"
            ]
          },
          "metadata": {
            "needs_background": "light"
          }
        }
      ]
    },
    {
      "cell_type": "markdown",
      "metadata": {
        "id": "wgoMjPqMxkIY"
      },
      "source": [
        "### Folium 지도에 표기"
      ]
    },
    {
      "cell_type": "code",
      "metadata": {
        "id": "srY6UMYWxjzF"
      },
      "source": [
        "import folium \n",
        "import json"
      ],
      "execution_count": 80,
      "outputs": []
    },
    {
      "cell_type": "code",
      "metadata": {
        "colab": {
          "resources": {
            "http://localhost:8080/nbextensions/google.colab/files.js": {
              "data": "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",
              "ok": true,
              "headers": [
                [
                  "content-type",
                  "application/javascript"
                ]
              ],
              "status": 200,
              "status_text": ""
            }
          },
          "base_uri": "https://localhost:8080/",
          "height": 73
        },
        "id": "CxqtqvF6YSUF",
        "outputId": "6e3e5a57-ea16-483e-a794-6e1b69712710"
      },
      "source": [
        "from google.colab import files\n",
        "uploaded = files.upload()\n",
        "filename = list(uploaded.keys())[0]"
      ],
      "execution_count": 76,
      "outputs": [
        {
          "output_type": "display_data",
          "data": {
            "text/html": [
              "\n",
              "     <input type=\"file\" id=\"files-89e1551c-a528-4e3b-b925-6d48dde62859\" name=\"files[]\" multiple disabled\n",
              "        style=\"border:none\" />\n",
              "     <output id=\"result-89e1551c-a528-4e3b-b925-6d48dde62859\">\n",
              "      Upload widget is only available when the cell has been executed in the\n",
              "      current browser session. Please rerun this cell to enable.\n",
              "      </output>\n",
              "      <script src=\"/nbextensions/google.colab/files.js\"></script> "
            ],
            "text/plain": [
              "<IPython.core.display.HTML object>"
            ]
          },
          "metadata": {}
        },
        {
          "output_type": "stream",
          "name": "stdout",
          "text": [
            "Saving seoul-gu-simple.json to seoul-gu-simple (1).json\n"
          ]
        }
      ]
    },
    {
      "cell_type": "code",
      "metadata": {
        "id": "CwuHrrtGxAhy"
      },
      "source": [
        "geo_data = json.load(open(filename))"
      ],
      "execution_count": 82,
      "outputs": []
    },
    {
      "cell_type": "code",
      "metadata": {
        "colab": {
          "base_uri": "https://localhost:8080/",
          "height": 478
        },
        "id": "0p7FQ_HqwQ3z",
        "outputId": "72f41181-5e42-4ba0-e3bf-d3f497e1c526"
      },
      "source": [
        "center = [37.581, 126.986]      # 서울 중심부 위도, 경도\n",
        "map = folium.Map(location=center, zoom_start=10, tiles='Stamen Toner')\n",
        "\n",
        "folium.Choropleth(\n",
        "    geo_data=geo_data,\n",
        "    data=pop.인구별CCTV,\n",
        "    columns= (pop.index, pop.인구별CCTV),\n",
        "    key_on='feature.id',\n",
        "    fill_color='BuPu',\n",
        "    legend_name='인구별 CCTV갯수'\n",
        ").add_to(map)\n",
        "\n",
        "title = '<h3 align=\"center\" style=\"font-size:20px\">서울시 자치구별 인구(천명)당 CCTV수</h3>'\n",
        "map.get_root().html.add_child(folium.Element(title))\n",
        "map"
      ],
      "execution_count": 91,
      "outputs": [
        {
          "output_type": "execute_result",
          "data": {
            "text/html": [
              "<div style=\"width:100%;\"><div style=\"position:relative;width:100%;height:0;padding-bottom:60%;\"><span style=\"color:#565656\">Make this Notebook Trusted to load map: File -> Trust Notebook</span><iframe src=\"about:blank\" style=\"position:absolute;width:100%;height:100%;left:0;top:0;border:none !important;\" data-html=%3C%21DOCTYPE%20html%3E%0A%3Chead%3E%20%20%20%20%0A%20%20%20%20%3Cmeta%20http-equiv%3D%22content-type%22%20content%3D%22text/html%3B%20charset%3DUTF-8%22%20/%3E%0A%20%20%20%20%3Cscript%3EL_PREFER_CANVAS%3Dfalse%3B%20L_NO_TOUCH%3Dfalse%3B%20L_DISABLE_3D%3Dfalse%3B%3C/script%3E%0A%20%20%20%20%3Cscript%20src%3D%22https%3A//cdn.jsdelivr.net/npm/leaflet%401.4.0/dist/leaflet.js%22%3E%3C/script%3E%0A%20%20%20%20%3Cscript%20src%3D%22https%3A//code.jquery.com/jquery-1.12.4.min.js%22%3E%3C/script%3E%0A%20%20%20%20%3Cscript%20src%3D%22https%3A//maxcdn.bootstrapcdn.com/bootstrap/3.2.0/js/bootstrap.min.js%22%3E%3C/script%3E%0A%20%20%20%20%3Cscript%20src%3D%22https%3A//cdnjs.cloudflare.com/ajax/libs/Leaflet.awesome-markers/2.0.2/leaflet.awesome-markers.js%22%3E%3C/script%3E%0A%20%20%20%20%3Clink%20rel%3D%22stylesheet%22%20href%3D%22https%3A//cdn.jsdelivr.net/npm/leaflet%401.4.0/dist/leaflet.css%22/%3E%0A%20%20%20%20%3Clink%20rel%3D%22stylesheet%22%20href%3D%22https%3A//maxcdn.bootstrapcdn.com/bootstrap/3.2.0/css/bootstrap.min.css%22/%3E%0A%20%20%20%20%3Clink%20rel%3D%22stylesheet%22%20href%3D%22https%3A//maxcdn.bootstrapcdn.com/bootstrap/3.2.0/css/bootstrap-theme.min.css%22/%3E%0A%20%20%20%20%3Clink%20rel%3D%22stylesheet%22%20href%3D%22https%3A//maxcdn.bootstrapcdn.com/font-awesome/4.6.3/css/font-awesome.min.css%22/%3E%0A%20%20%20%20%3Clink%20rel%3D%22stylesheet%22%20href%3D%22https%3A//cdnjs.cloudflare.com/ajax/libs/Leaflet.awesome-markers/2.0.2/leaflet.awesome-markers.css%22/%3E%0A%20%20%20%20%3Clink%20rel%3D%22stylesheet%22%20href%3D%22https%3A//rawcdn.githack.com/python-visualization/folium/master/folium/templates/leaflet.awesome.rotate.css%22/%3E%0A%20%20%20%20%3Cstyle%3Ehtml%2C%20body%20%7Bwidth%3A%20100%25%3Bheight%3A%20100%25%3Bmargin%3A%200%3Bpadding%3A%200%3B%7D%3C/style%3E%0A%20%20%20%20%3Cstyle%3E%23map%20%7Bposition%3Aabsolute%3Btop%3A0%3Bbottom%3A0%3Bright%3A0%3Bleft%3A0%3B%7D%3C/style%3E%0A%20%20%20%20%0A%20%20%20%20%3Cmeta%20name%3D%22viewport%22%20content%3D%22width%3Ddevice-width%2C%0A%20%20%20%20%20%20%20%20initial-scale%3D1.0%2C%20maximum-scale%3D1.0%2C%20user-scalable%3Dno%22%20/%3E%0A%20%20%20%20%3Cstyle%3E%23map_6beda16bf1ac42fdb69e52d55e524322%20%7B%0A%20%20%20%20%20%20%20%20position%3A%20relative%3B%0A%20%20%20%20%20%20%20%20width%3A%20100.0%25%3B%0A%20%20%20%20%20%20%20%20height%3A%20100.0%25%3B%0A%20%20%20%20%20%20%20%20left%3A%200.0%25%3B%0A%20%20%20%20%20%20%20%20top%3A%200.0%25%3B%0A%20%20%20%20%20%20%20%20%7D%0A%20%20%20%20%3C/style%3E%0A%20%20%20%20%3Cscript%20src%3D%22https%3A//cdnjs.cloudflare.com/ajax/libs/d3/3.5.5/d3.min.js%22%3E%3C/script%3E%0A%3C/head%3E%0A%3Cbody%3E%20%20%20%20%0A%20%20%20%20%3Ch3%20align%3D%22center%22%20style%3D%22font-size%3A20px%22%3E%EC%84%9C%EC%9A%B8%EC%8B%9C%20%EC%9E%90%EC%B9%98%EA%B5%AC%EB%B3%84%20%EC%9D%B8%EA%B5%AC%28%EC%B2%9C%EB%AA%85%29%EB%8B%B9%20CCTV%EC%88%98%3C/h3%3E%0A%20%20%20%20%0A%20%20%20%20%3Cdiv%20class%3D%22folium-map%22%20id%3D%22map_6beda16bf1ac42fdb69e52d55e524322%22%20%3E%3C/div%3E%0A%3C/body%3E%0A%3Cscript%3E%20%20%20%20%0A%20%20%20%20%0A%20%20%20%20%0A%20%20%20%20%20%20%20%20var%20bounds%20%3D%20null%3B%0A%20%20%20%20%0A%0A%20%20%20%20var%20map_6beda16bf1ac42fdb69e52d55e524322%20%3D%20L.map%28%0A%20%20%20%20%20%20%20%20%27map_6beda16bf1ac42fdb69e52d55e524322%27%2C%20%7B%0A%20%20%20%20%20%20%20%20center%3A%20%5B37.581%2C%20126.986%5D%2C%0A%20%20%20%20%20%20%20%20zoom%3A%2010%2C%0A%20%20%20%20%20%20%20%20maxBounds%3A%20bounds%2C%0A%20%20%20%20%20%20%20%20layers%3A%20%5B%5D%2C%0A%20%20%20%20%20%20%20%20worldCopyJump%3A%20false%2C%0A%20%20%20%20%20%20%20%20crs%3A%20L.CRS.EPSG3857%2C%0A%20%20%20%20%20%20%20%20zoomControl%3A%20true%2C%0A%20%20%20%20%20%20%20%20%7D%29%3B%0A%0A%0A%20%20%20%20%0A%20%20%20%20var%20tile_layer_0db3722315fb48ee8795d21c8124144b%20%3D%20L.tileLayer%28%0A%20%20%20%20%20%20%20%20%27https%3A//stamen-tiles-%7Bs%7D.a.ssl.fastly.net/toner/%7Bz%7D/%7Bx%7D/%7By%7D.png%27%2C%0A%20%20%20%20%20%20%20%20%7B%0A%20%20%20%20%20%20%20%20%22attribution%22%3A%20null%2C%0A%20%20%20%20%20%20%20%20%22detectRetina%22%3A%20false%2C%0A%20%20%20%20%20%20%20%20%22maxNativeZoom%22%3A%2018%2C%0A%20%20%20%20%20%20%20%20%22maxZoom%22%3A%2018%2C%0A%20%20%20%20%20%20%20%20%22minZoom%22%3A%200%2C%0A%20%20%20%20%20%20%20%20%22noWrap%22%3A%20false%2C%0A%20%20%20%20%20%20%20%20%22opacity%22%3A%201%2C%0A%20%20%20%20%20%20%20%20%22subdomains%22%3A%20%22abc%22%2C%0A%20%20%20%20%20%20%20%20%22tms%22%3A%20false%0A%7D%29.addTo%28map_6beda16bf1ac42fdb69e52d55e524322%29%3B%0A%20%20%20%20%0A%20%20%20%20%20%20%20%20%20%20%20%20var%20choropleth_9a1148060132468fb9f5e19c98e975ea%20%3D%20L.featureGroup%28%0A%20%20%20%20%20%20%20%20%20%20%20%20%20%20%20%20%29.addTo%28map_6beda16bf1ac42fdb69e52d55e524322%29%3B%0A%20%20%20%20%20%20%20%20%0A%20%20%20%20%0A%20%20%20%20%20%20%20%20var%20geo_json_2f262436a48e4180aa2a6aff15b8f5ca%20%3D%20L.geoJson%28%0A%20%20%20%20%20%20%20%20%20%20%20%20%7B%22features%22%3A%20%5B%7B%22geometry%22%3A%20%7B%22coordinates%22%3A%20%5B%5B%5B127.11519584981606%2C%2037.557533180704915%5D%2C%20%5B127.16683184366129%2C%2037.57672487388627%5D%2C%20%5B127.18408792330152%2C%2037.55814280369575%5D%2C%20%5B127.16530984307447%2C%2037.54221851258693%5D%2C%20%5B127.14672806823502%2C%2037.51415680680291%5D%2C%20%5B127.12123165719615%2C%2037.52528270089%5D%2C%20%5B127.1116764203608%2C%2037.540669955324965%5D%2C%20%5B127.11519584981606%2C%2037.557533180704915%5D%5D%5D%2C%20%22type%22%3A%20%22Polygon%22%7D%2C%20%22id%22%3A%20%22%5Cuac15%5Cub3d9%5Cuad6c%22%2C%20%22properties%22%3A%20%7B%22base_year%22%3A%20%222013%22%2C%20%22code%22%3A%20%2211250%22%2C%20%22highlight%22%3A%20%7B%7D%2C%20%22name%22%3A%20%22%5Cuac15%5Cub3d9%5Cuad6c%22%2C%20%22name_eng%22%3A%20%22Gangdong-gu%22%2C%20%22style%22%3A%20%7B%22color%22%3A%20%22black%22%2C%20%22fillColor%22%3A%20%22%23edf8fb%22%2C%20%22fillOpacity%22%3A%200.6%2C%20%22opacity%22%3A%201%2C%20%22weight%22%3A%201%7D%7D%2C%20%22type%22%3A%20%22Feature%22%7D%2C%20%7B%22geometry%22%3A%20%7B%22coordinates%22%3A%20%5B%5B%5B127.0690698130372%2C%2037.522279423505026%5D%2C%20%5B127.10087519791962%2C%2037.524841220167055%5D%2C%20%5B127.1116764203608%2C%2037.540669955324965%5D%2C%20%5B127.12123165719615%2C%2037.52528270089%5D%2C%20%5B127.14672806823502%2C%2037.51415680680291%5D%2C%20%5B127.1634944215765%2C%2037.497445406097484%5D%2C%20%5B127.14206058413274%2C%2037.47089819098501%5D%2C%20%5B127.12440571080893%2C%2037.46240445587048%5D%2C%20%5B127.11117085201238%2C%2037.485708381512445%5D%2C%20%5B127.0719146000724%2C%2037.50224013587669%5D%2C%20%5B127.0690698130372%2C%2037.522279423505026%5D%5D%5D%2C%20%22type%22%3A%20%22Polygon%22%7D%2C%20%22id%22%3A%20%22%5Cuc1a1%5Cud30c%5Cuad6c%22%2C%20%22properties%22%3A%20%7B%22base_year%22%3A%20%222013%22%2C%20%22code%22%3A%20%2211240%22%2C%20%22highlight%22%3A%20%7B%7D%2C%20%22name%22%3A%20%22%5Cuc1a1%5Cud30c%5Cuad6c%22%2C%20%22name_eng%22%3A%20%22Songpa-gu%22%2C%20%22style%22%3A%20%7B%22color%22%3A%20%22black%22%2C%20%22fillColor%22%3A%20%22%23edf8fb%22%2C%20%22fillOpacity%22%3A%200.6%2C%20%22opacity%22%3A%201%2C%20%22weight%22%3A%201%7D%7D%2C%20%22type%22%3A%20%22Feature%22%7D%2C%20%7B%22geometry%22%3A%20%7B%22coordinates%22%3A%20%5B%5B%5B127.05867359288398%2C%2037.52629974922568%5D%2C%20%5B127.0690698130372%2C%2037.522279423505026%5D%2C%20%5B127.0719146000724%2C%2037.50224013587669%5D%2C%20%5B127.11117085201238%2C%2037.485708381512445%5D%2C%20%5B127.12440571080893%2C%2037.46240445587048%5D%2C%20%5B127.09842759318751%2C%2037.45862253857461%5D%2C%20%5B127.08640440578156%2C%2037.472697935184655%5D%2C%20%5B127.0559170481904%2C%2037.4659228914077%5D%2C%20%5B127.03621915098798%2C%2037.48175802427603%5D%2C%20%5B127.01397119667513%2C%2037.52503988289669%5D%2C%20%5B127.02302831890559%2C%2037.53231899582663%5D%2C%20%5B127.05867359288398%2C%2037.52629974922568%5D%5D%5D%2C%20%22type%22%3A%20%22Polygon%22%7D%2C%20%22id%22%3A%20%22%5Cuac15%5Cub0a8%5Cuad6c%22%2C%20%22properties%22%3A%20%7B%22base_year%22%3A%20%222013%22%2C%20%22code%22%3A%20%2211230%22%2C%20%22highlight%22%3A%20%7B%7D%2C%20%22name%22%3A%20%22%5Cuac15%5Cub0a8%5Cuad6c%22%2C%20%22name_eng%22%3A%20%22Gangnam-gu%22%2C%20%22style%22%3A%20%7B%22color%22%3A%20%22black%22%2C%20%22fillColor%22%3A%20%22%23810f7c%22%2C%20%22fillOpacity%22%3A%200.6%2C%20%22opacity%22%3A%201%2C%20%22weight%22%3A%201%7D%7D%2C%20%22type%22%3A%20%22Feature%22%7D%2C%20%7B%22geometry%22%3A%20%7B%22coordinates%22%3A%20%5B%5B%5B127.01397119667513%2C%2037.52503988289669%5D%2C%20%5B127.03621915098798%2C%2037.48175802427603%5D%2C%20%5B127.0559170481904%2C%2037.4659228914077%5D%2C%20%5B127.08640440578156%2C%2037.472697935184655%5D%2C%20%5B127.09842759318751%2C%2037.45862253857461%5D%2C%20%5B127.09046928565951%2C%2037.44296826114185%5D%2C%20%5B127.06778107605433%2C%2037.426197424057314%5D%2C%20%5B127.04957232987142%2C%2037.42805836845694%5D%2C%20%5B127.03881782597922%2C%2037.45382039851715%5D%2C%20%5B126.99072073195462%2C%2037.455326143310025%5D%2C%20%5B126.98367668291802%2C%2037.473856492692086%5D%2C%20%5B126.98223807916081%2C%2037.509314966770326%5D%2C%20%5B127.01397119667513%2C%2037.52503988289669%5D%5D%5D%2C%20%22type%22%3A%20%22Polygon%22%7D%2C%20%22id%22%3A%20%22%5Cuc11c%5Cucd08%5Cuad6c%22%2C%20%22properties%22%3A%20%7B%22base_year%22%3A%20%222013%22%2C%20%22code%22%3A%20%2211220%22%2C%20%22highlight%22%3A%20%7B%7D%2C%20%22name%22%3A%20%22%5Cuc11c%5Cucd08%5Cuad6c%22%2C%20%22name_eng%22%3A%20%22Seocho-gu%22%2C%20%22style%22%3A%20%7B%22color%22%3A%20%22black%22%2C%20%22fillColor%22%3A%20%22%238c96c6%22%2C%20%22fillOpacity%22%3A%200.6%2C%20%22opacity%22%3A%201%2C%20%22weight%22%3A%201%7D%7D%2C%20%22type%22%3A%20%22Feature%22%7D%2C%20%7B%22geometry%22%3A%20%7B%22coordinates%22%3A%20%5B%5B%5B126.98367668291802%2C%2037.473856492692086%5D%2C%20%5B126.99072073195462%2C%2037.455326143310025%5D%2C%20%5B126.96520439085143%2C%2037.438249784006246%5D%2C%20%5B126.95000001010182%2C%2037.43613451165719%5D%2C%20%5B126.93084408056525%2C%2037.447382928333994%5D%2C%20%5B126.9167728146601%2C%2037.45490566423789%5D%2C%20%5B126.90156094129895%2C%2037.47753842789901%5D%2C%20%5B126.90531975801812%2C%2037.48218087575429%5D%2C%20%5B126.94922661389508%2C%2037.49125437495649%5D%2C%20%5B126.9725891850662%2C%2037.472561363278125%5D%2C%20%5B126.98367668291802%2C%2037.473856492692086%5D%5D%5D%2C%20%22type%22%3A%20%22Polygon%22%7D%2C%20%22id%22%3A%20%22%5Cuad00%5Cuc545%5Cuad6c%22%2C%20%22properties%22%3A%20%7B%22base_year%22%3A%20%222013%22%2C%20%22code%22%3A%20%2211210%22%2C%20%22highlight%22%3A%20%7B%7D%2C%20%22name%22%3A%20%22%5Cuad00%5Cuc545%5Cuad6c%22%2C%20%22name_eng%22%3A%20%22Gwanak-gu%22%2C%20%22style%22%3A%20%7B%22color%22%3A%20%22black%22%2C%20%22fillColor%22%3A%20%22%238856a7%22%2C%20%22fillOpacity%22%3A%200.6%2C%20%22opacity%22%3A%201%2C%20%22weight%22%3A%201%7D%7D%2C%20%22type%22%3A%20%22Feature%22%7D%2C%20%7B%22geometry%22%3A%20%7B%22coordinates%22%3A%20%5B%5B%5B126.98223807916081%2C%2037.509314966770326%5D%2C%20%5B126.98367668291802%2C%2037.473856492692086%5D%2C%20%5B126.9725891850662%2C%2037.472561363278125%5D%2C%20%5B126.94922661389508%2C%2037.49125437495649%5D%2C%20%5B126.90531975801812%2C%2037.48218087575429%5D%2C%20%5B126.92177893174825%2C%2037.494889877415176%5D%2C%20%5B126.92810628828279%2C%2037.51329595732015%5D%2C%20%5B126.95249990298159%2C%2037.51722500741813%5D%2C%20%5B126.98223807916081%2C%2037.509314966770326%5D%5D%5D%2C%20%22type%22%3A%20%22Polygon%22%7D%2C%20%22id%22%3A%20%22%5Cub3d9%5Cuc791%5Cuad6c%22%2C%20%22properties%22%3A%20%7B%22base_year%22%3A%20%222013%22%2C%20%22code%22%3A%20%2211200%22%2C%20%22highlight%22%3A%20%7B%7D%2C%20%22name%22%3A%20%22%5Cub3d9%5Cuc791%5Cuad6c%22%2C%20%22name_eng%22%3A%20%22Dongjak-gu%22%2C%20%22style%22%3A%20%7B%22color%22%3A%20%22black%22%2C%20%22fillColor%22%3A%20%22%23bfd3e6%22%2C%20%22fillOpacity%22%3A%200.6%2C%20%22opacity%22%3A%201%2C%20%22weight%22%3A%201%7D%7D%2C%20%22type%22%3A%20%22Feature%22%7D%2C%20%7B%22geometry%22%3A%20%7B%22coordinates%22%3A%20%5B%5B%5B126.89184663862764%2C%2037.547373974997114%5D%2C%20%5B126.94566733083212%2C%2037.526617542453366%5D%2C%20%5B126.95249990298159%2C%2037.51722500741813%5D%2C%20%5B126.92810628828279%2C%2037.51329595732015%5D%2C%20%5B126.92177893174825%2C%2037.494889877415176%5D%2C%20%5B126.90531975801812%2C%2037.48218087575429%5D%2C%20%5B126.89594776782485%2C%2037.504675281309176%5D%2C%20%5B126.88156402353862%2C%2037.513970034765684%5D%2C%20%5B126.88825757860099%2C%2037.54079733630232%5D%2C%20%5B126.89184663862764%2C%2037.547373974997114%5D%5D%5D%2C%20%22type%22%3A%20%22Polygon%22%7D%2C%20%22id%22%3A%20%22%5Cuc601%5Cub4f1%5Cud3ec%5Cuad6c%22%2C%20%22properties%22%3A%20%7B%22base_year%22%3A%20%222013%22%2C%20%22code%22%3A%20%2211190%22%2C%20%22highlight%22%3A%20%7B%7D%2C%20%22name%22%3A%20%22%5Cuc601%5Cub4f1%5Cud3ec%5Cuad6c%22%2C%20%22name_eng%22%3A%20%22Yeongdeungpo-gu%22%2C%20%22style%22%3A%20%7B%22color%22%3A%20%22black%22%2C%20%22fillColor%22%3A%20%22%238c96c6%22%2C%20%22fillOpacity%22%3A%200.6%2C%20%22opacity%22%3A%201%2C%20%22weight%22%3A%201%7D%7D%2C%20%22type%22%3A%20%22Feature%22%7D%2C%20%7B%22geometry%22%3A%20%7B%22coordinates%22%3A%20%5B%5B%5B126.90156094129895%2C%2037.47753842789901%5D%2C%20%5B126.9167728146601%2C%2037.45490566423789%5D%2C%20%5B126.93084408056525%2C%2037.447382928333994%5D%2C%20%5B126.9025831711697%2C%2037.434549366349124%5D%2C%20%5B126.87683271502428%2C%2037.482576591607305%5D%2C%20%5B126.90156094129895%2C%2037.47753842789901%5D%5D%5D%2C%20%22type%22%3A%20%22Polygon%22%7D%2C%20%22id%22%3A%20%22%5Cuae08%5Cucc9c%5Cuad6c%22%2C%20%22properties%22%3A%20%7B%22base_year%22%3A%20%222013%22%2C%20%22code%22%3A%20%2211180%22%2C%20%22highlight%22%3A%20%7B%7D%2C%20%22name%22%3A%20%22%5Cuae08%5Cucc9c%5Cuad6c%22%2C%20%22name_eng%22%3A%20%22Geumcheon-gu%22%2C%20%22style%22%3A%20%7B%22color%22%3A%20%22black%22%2C%20%22fillColor%22%3A%20%22%238856a7%22%2C%20%22fillOpacity%22%3A%200.6%2C%20%22opacity%22%3A%201%2C%20%22weight%22%3A%201%7D%7D%2C%20%22type%22%3A%20%22Feature%22%7D%2C%20%7B%22geometry%22%3A%20%7B%22coordinates%22%3A%20%5B%5B%5B126.82688081517314%2C%2037.50548972232896%5D%2C%20%5B126.88156402353862%2C%2037.513970034765684%5D%2C%20%5B126.89594776782485%2C%2037.504675281309176%5D%2C%20%5B126.90531975801812%2C%2037.48218087575429%5D%2C%20%5B126.90156094129895%2C%2037.47753842789901%5D%2C%20%5B126.87683271502428%2C%2037.482576591607305%5D%2C%20%5B126.84762676054953%2C%2037.47146723936323%5D%2C%20%5B126.83549485076196%2C%2037.474098236975095%5D%2C%20%5B126.82264796791348%2C%2037.4878476492147%5D%2C%20%5B126.82504736331406%2C%2037.50302612640443%5D%2C%20%5B126.82688081517314%2C%2037.50548972232896%5D%5D%5D%2C%20%22type%22%3A%20%22Polygon%22%7D%2C%20%22id%22%3A%20%22%5Cuad6c%5Cub85c%5Cuad6c%22%2C%20%22properties%22%3A%20%7B%22base_year%22%3A%20%222013%22%2C%20%22code%22%3A%20%2211170%22%2C%20%22highlight%22%3A%20%7B%7D%2C%20%22name%22%3A%20%22%5Cuad6c%5Cub85c%5Cuad6c%22%2C%20%22name_eng%22%3A%20%22Guro-gu%22%2C%20%22style%22%3A%20%7B%22color%22%3A%20%22black%22%2C%20%22fillColor%22%3A%20%22%238856a7%22%2C%20%22fillOpacity%22%3A%200.6%2C%20%22opacity%22%3A%201%2C%20%22weight%22%3A%201%7D%7D%2C%20%22type%22%3A%20%22Feature%22%7D%2C%20%7B%22geometry%22%3A%20%7B%22coordinates%22%3A%20%5B%5B%5B126.79575768552907%2C%2037.57881087633202%5D%2C%20%5B126.80702115023597%2C%2037.60123001013228%5D%2C%20%5B126.82251438477105%2C%2037.5880430810082%5D%2C%20%5B126.85984199399667%2C%2037.571847855292745%5D%2C%20%5B126.89184663862764%2C%2037.547373974997114%5D%2C%20%5B126.88825757860099%2C%2037.54079733630232%5D%2C%20%5B126.86637464321238%2C%2037.54859191094823%5D%2C%20%5B126.86610073476395%2C%2037.52699964144669%5D%2C%20%5B126.84257291943153%2C%2037.52373707805596%5D%2C%20%5B126.8242331426722%2C%2037.53788078753248%5D%2C%20%5B126.77324417717703%2C%2037.5459123450554%5D%2C%20%5B126.76979180579352%2C%2037.55139183008809%5D%2C%20%5B126.79575768552907%2C%2037.57881087633202%5D%5D%5D%2C%20%22type%22%3A%20%22Polygon%22%7D%2C%20%22id%22%3A%20%22%5Cuac15%5Cuc11c%5Cuad6c%22%2C%20%22properties%22%3A%20%7B%22base_year%22%3A%20%222013%22%2C%20%22code%22%3A%20%2211160%22%2C%20%22highlight%22%3A%20%7B%7D%2C%20%22name%22%3A%20%22%5Cuac15%5Cuc11c%5Cuad6c%22%2C%20%22name_eng%22%3A%20%22Gangseo-gu%22%2C%20%22style%22%3A%20%7B%22color%22%3A%20%22black%22%2C%20%22fillColor%22%3A%20%22%23edf8fb%22%2C%20%22fillOpacity%22%3A%200.6%2C%20%22opacity%22%3A%201%2C%20%22weight%22%3A%201%7D%7D%2C%20%22type%22%3A%20%22Feature%22%7D%2C%20%7B%22geometry%22%3A%20%7B%22coordinates%22%3A%20%5B%5B%5B126.8242331426722%2C%2037.53788078753248%5D%2C%20%5B126.84257291943153%2C%2037.52373707805596%5D%2C%20%5B126.86610073476395%2C%2037.52699964144669%5D%2C%20%5B126.86637464321238%2C%2037.54859191094823%5D%2C%20%5B126.88825757860099%2C%2037.54079733630232%5D%2C%20%5B126.88156402353862%2C%2037.513970034765684%5D%2C%20%5B126.82688081517314%2C%2037.50548972232896%5D%2C%20%5B126.8242331426722%2C%2037.53788078753248%5D%5D%5D%2C%20%22type%22%3A%20%22Polygon%22%7D%2C%20%22id%22%3A%20%22%5Cuc591%5Cucc9c%5Cuad6c%22%2C%20%22properties%22%3A%20%7B%22base_year%22%3A%20%222013%22%2C%20%22code%22%3A%20%2211150%22%2C%20%22highlight%22%3A%20%7B%7D%2C%20%22name%22%3A%20%22%5Cuc591%5Cucc9c%5Cuad6c%22%2C%20%22name_eng%22%3A%20%22Yangcheon-gu%22%2C%20%22style%22%3A%20%7B%22color%22%3A%20%22black%22%2C%20%22fillColor%22%3A%20%22%239ebcda%22%2C%20%22fillOpacity%22%3A%200.6%2C%20%22opacity%22%3A%201%2C%20%22weight%22%3A%201%7D%7D%2C%20%22type%22%3A%20%22Feature%22%7D%2C%20%7B%22geometry%22%3A%20%7B%22coordinates%22%3A%20%5B%5B%5B126.90522065831053%2C%2037.57409700522574%5D%2C%20%5B126.93898161798973%2C%2037.552310003728124%5D%2C%20%5B126.96358226710812%2C%2037.55605635475154%5D%2C%20%5B126.96448570553055%2C%2037.548705692021635%5D%2C%20%5B126.94566733083212%2C%2037.526617542453366%5D%2C%20%5B126.89184663862764%2C%2037.547373974997114%5D%2C%20%5B126.85984199399667%2C%2037.571847855292745%5D%2C%20%5B126.88433284773288%2C%2037.588143322880526%5D%2C%20%5B126.90522065831053%2C%2037.57409700522574%5D%5D%5D%2C%20%22type%22%3A%20%22Polygon%22%7D%2C%20%22id%22%3A%20%22%5Cub9c8%5Cud3ec%5Cuad6c%22%2C%20%22properties%22%3A%20%7B%22base_year%22%3A%20%222013%22%2C%20%22code%22%3A%20%2211140%22%2C%20%22highlight%22%3A%20%7B%7D%2C%20%22name%22%3A%20%22%5Cub9c8%5Cud3ec%5Cuad6c%22%2C%20%22name_eng%22%3A%20%22Mapo-gu%22%2C%20%22style%22%3A%20%7B%22color%22%3A%20%22black%22%2C%20%22fillColor%22%3A%20%22%23bfd3e6%22%2C%20%22fillOpacity%22%3A%200.6%2C%20%22opacity%22%3A%201%2C%20%22weight%22%3A%201%7D%7D%2C%20%22type%22%3A%20%22Feature%22%7D%2C%20%7B%22geometry%22%3A%20%7B%22coordinates%22%3A%20%5B%5B%5B126.9524752030572%2C%2037.60508692737045%5D%2C%20%5B126.95565425846463%2C%2037.576080790881456%5D%2C%20%5B126.96873633279075%2C%2037.56313604690827%5D%2C%20%5B126.96358226710812%2C%2037.55605635475154%5D%2C%20%5B126.93898161798973%2C%2037.552310003728124%5D%2C%20%5B126.90522065831053%2C%2037.57409700522574%5D%2C%20%5B126.9524752030572%2C%2037.60508692737045%5D%5D%5D%2C%20%22type%22%3A%20%22Polygon%22%7D%2C%20%22id%22%3A%20%22%5Cuc11c%5Cub300%5Cubb38%5Cuad6c%22%2C%20%22properties%22%3A%20%7B%22base_year%22%3A%20%222013%22%2C%20%22code%22%3A%20%2211130%22%2C%20%22highlight%22%3A%20%7B%7D%2C%20%22name%22%3A%20%22%5Cuc11c%5Cub300%5Cubb38%5Cuad6c%22%2C%20%22name_eng%22%3A%20%22Seodaemun-gu%22%2C%20%22style%22%3A%20%7B%22color%22%3A%20%22black%22%2C%20%22fillColor%22%3A%20%22%238c96c6%22%2C%20%22fillOpacity%22%3A%200.6%2C%20%22opacity%22%3A%201%2C%20%22weight%22%3A%201%7D%7D%2C%20%22type%22%3A%20%22Feature%22%7D%2C%20%7B%22geometry%22%3A%20%7B%22coordinates%22%3A%20%5B%5B%5B126.9738864128702%2C%2037.62949634786888%5D%2C%20%5B126.95427017006129%2C%2037.622033431339425%5D%2C%20%5B126.9524752030572%2C%2037.60508692737045%5D%2C%20%5B126.90522065831053%2C%2037.57409700522574%5D%2C%20%5B126.88433284773288%2C%2037.588143322880526%5D%2C%20%5B126.90396681003595%2C%2037.59227403419942%5D%2C%20%5B126.90303066177668%2C%2037.609977911401344%5D%2C%20%5B126.91455481429648%2C%2037.64150050996935%5D%2C%20%5B126.956473797387%2C%2037.652480737339445%5D%2C%20%5B126.9738864128702%2C%2037.62949634786888%5D%5D%5D%2C%20%22type%22%3A%20%22Polygon%22%7D%2C%20%22id%22%3A%20%22%5Cuc740%5Cud3c9%5Cuad6c%22%2C%20%22properties%22%3A%20%7B%22base_year%22%3A%20%222013%22%2C%20%22code%22%3A%20%2211120%22%2C%20%22highlight%22%3A%20%7B%7D%2C%20%22name%22%3A%20%22%5Cuc740%5Cud3c9%5Cuad6c%22%2C%20%22name_eng%22%3A%20%22Eunpyeong-gu%22%2C%20%22style%22%3A%20%7B%22color%22%3A%20%22black%22%2C%20%22fillColor%22%3A%20%22%239ebcda%22%2C%20%22fillOpacity%22%3A%200.6%2C%20%22opacity%22%3A%201%2C%20%22weight%22%3A%201%7D%7D%2C%20%22type%22%3A%20%22Feature%22%7D%2C%20%7B%22geometry%22%3A%20%7B%22coordinates%22%3A%20%5B%5B%5B127.0838752703195%2C%2037.69359534202034%5D%2C%20%5B127.09706391309695%2C%2037.686383719372294%5D%2C%20%5B127.09440766298717%2C%2037.64713490473045%5D%2C%20%5B127.11326795855199%2C%2037.639622905315925%5D%2C%20%5B127.10782277688129%2C%2037.61804244241069%5D%2C%20%5B127.07351243825278%2C%2037.61283660342313%5D%2C%20%5B127.05209373568619%2C%2037.62164065487782%5D%2C%20%5B127.04358800895609%2C%2037.62848931298715%5D%2C%20%5B127.05800075220091%2C%2037.64318263878276%5D%2C%20%5B127.05288479710485%2C%2037.68423857084347%5D%2C%20%5B127.0838752703195%2C%2037.69359534202034%5D%5D%5D%2C%20%22type%22%3A%20%22Polygon%22%7D%2C%20%22id%22%3A%20%22%5Cub178%5Cuc6d0%5Cuad6c%22%2C%20%22properties%22%3A%20%7B%22base_year%22%3A%20%222013%22%2C%20%22code%22%3A%20%2211110%22%2C%20%22highlight%22%3A%20%7B%7D%2C%20%22name%22%3A%20%22%5Cub178%5Cuc6d0%5Cuad6c%22%2C%20%22name_eng%22%3A%20%22Nowon-gu%22%2C%20%22style%22%3A%20%7B%22color%22%3A%20%22black%22%2C%20%22fillColor%22%3A%20%22%23edf8fb%22%2C%20%22fillOpacity%22%3A%200.6%2C%20%22opacity%22%3A%201%2C%20%22weight%22%3A%201%7D%7D%2C%20%22type%22%3A%20%22Feature%22%7D%2C%20%7B%22geometry%22%3A%20%7B%22coordinates%22%3A%20%5B%5B%5B127.05288479710485%2C%2037.68423857084347%5D%2C%20%5B127.05800075220091%2C%2037.64318263878276%5D%2C%20%5B127.04358800895609%2C%2037.62848931298715%5D%2C%20%5B127.01465935892466%2C%2037.64943687496812%5D%2C%20%5B127.02062116141389%2C%2037.667173575971205%5D%2C%20%5B127.01039666042071%2C%2037.681894589603594%5D%2C%20%5B127.01795099203432%2C%2037.69824412775662%5D%2C%20%5B127.05288479710485%2C%2037.68423857084347%5D%5D%5D%2C%20%22type%22%3A%20%22Polygon%22%7D%2C%20%22id%22%3A%20%22%5Cub3c4%5Cubd09%5Cuad6c%22%2C%20%22properties%22%3A%20%7B%22base_year%22%3A%20%222013%22%2C%20%22code%22%3A%20%2211100%22%2C%20%22highlight%22%3A%20%7B%7D%2C%20%22name%22%3A%20%22%5Cub3c4%5Cubd09%5Cuad6c%22%2C%20%22name_eng%22%3A%20%22Dobong-gu%22%2C%20%22style%22%3A%20%7B%22color%22%3A%20%22black%22%2C%20%22fillColor%22%3A%20%22%23edf8fb%22%2C%20%22fillOpacity%22%3A%200.6%2C%20%22opacity%22%3A%201%2C%20%22weight%22%3A%201%7D%7D%2C%20%22type%22%3A%20%22Feature%22%7D%2C%20%7B%22geometry%22%3A%20%7B%22coordinates%22%3A%20%5B%5B%5B126.99383903424%2C%2037.676681761199085%5D%2C%20%5B127.01039666042071%2C%2037.681894589603594%5D%2C%20%5B127.02062116141389%2C%2037.667173575971205%5D%2C%20%5B127.01465935892466%2C%2037.64943687496812%5D%2C%20%5B127.04358800895609%2C%2037.62848931298715%5D%2C%20%5B127.05209373568619%2C%2037.62164065487782%5D%2C%20%5B127.03892400992301%2C%2037.609715611023816%5D%2C%20%5B127.0128154749523%2C%2037.613652243470256%5D%2C%20%5B126.98672705513869%2C%2037.63377641288196%5D%2C%20%5B126.9817452676551%2C%2037.65209769387776%5D%2C%20%5B126.99383903424%2C%2037.676681761199085%5D%5D%5D%2C%20%22type%22%3A%20%22Polygon%22%7D%2C%20%22id%22%3A%20%22%5Cuac15%5Cubd81%5Cuad6c%22%2C%20%22properties%22%3A%20%7B%22base_year%22%3A%20%222013%22%2C%20%22code%22%3A%20%2211090%22%2C%20%22highlight%22%3A%20%7B%7D%2C%20%22name%22%3A%20%22%5Cuac15%5Cubd81%5Cuad6c%22%2C%20%22name_eng%22%3A%20%22Gangbuk-gu%22%2C%20%22style%22%3A%20%7B%22color%22%3A%20%22black%22%2C%20%22fillColor%22%3A%20%22%239ebcda%22%2C%20%22fillOpacity%22%3A%200.6%2C%20%22opacity%22%3A%201%2C%20%22weight%22%3A%201%7D%7D%2C%20%22type%22%3A%20%22Feature%22%7D%2C%20%7B%22geometry%22%3A%20%7B%22coordinates%22%3A%20%5B%5B%5B126.977175406416%2C%2037.62859715400388%5D%2C%20%5B126.98672705513869%2C%2037.63377641288196%5D%2C%20%5B127.0128154749523%2C%2037.613652243470256%5D%2C%20%5B127.03892400992301%2C%2037.609715611023816%5D%2C%20%5B127.05209373568619%2C%2037.62164065487782%5D%2C%20%5B127.07351243825278%2C%2037.61283660342313%5D%2C%20%5B127.07382707099227%2C%2037.60401928986419%5D%2C%20%5B127.042705222094%2C%2037.59239437593391%5D%2C%20%5B127.02527254528003%2C%2037.57524616245249%5D%2C%20%5B126.99348293358314%2C%2037.588565457216156%5D%2C%20%5B126.98879865992384%2C%2037.6118927319756%5D%2C%20%5B126.977175406416%2C%2037.62859715400388%5D%5D%5D%2C%20%22type%22%3A%20%22Polygon%22%7D%2C%20%22id%22%3A%20%22%5Cuc131%5Cubd81%5Cuad6c%22%2C%20%22properties%22%3A%20%7B%22base_year%22%3A%20%222013%22%2C%20%22code%22%3A%20%2211080%22%2C%20%22highlight%22%3A%20%7B%7D%2C%20%22name%22%3A%20%22%5Cuc131%5Cubd81%5Cuad6c%22%2C%20%22name_eng%22%3A%20%22Seongbuk-gu%22%2C%20%22style%22%3A%20%7B%22color%22%3A%20%22black%22%2C%20%22fillColor%22%3A%20%22%238c96c6%22%2C%20%22fillOpacity%22%3A%200.6%2C%20%22opacity%22%3A%201%2C%20%22weight%22%3A%201%7D%7D%2C%20%22type%22%3A%20%22Feature%22%7D%2C%20%7B%22geometry%22%3A%20%7B%22coordinates%22%3A%20%5B%5B%5B127.07351243825278%2C%2037.61283660342313%5D%2C%20%5B127.10782277688129%2C%2037.61804244241069%5D%2C%20%5B127.1201246020114%2C%2037.60178457598188%5D%2C%20%5B127.10304174249214%2C%2037.57076342290955%5D%2C%20%5B127.08068541280403%2C%2037.56906425519017%5D%2C%20%5B127.07382707099227%2C%2037.60401928986419%5D%2C%20%5B127.07351243825278%2C%2037.61283660342313%5D%5D%5D%2C%20%22type%22%3A%20%22Polygon%22%7D%2C%20%22id%22%3A%20%22%5Cuc911%5Cub791%5Cuad6c%22%2C%20%22properties%22%3A%20%7B%22base_year%22%3A%20%222013%22%2C%20%22code%22%3A%20%2211070%22%2C%20%22highlight%22%3A%20%7B%7D%2C%20%22name%22%3A%20%22%5Cuc911%5Cub791%5Cuad6c%22%2C%20%22name_eng%22%3A%20%22Jungnang-gu%22%2C%20%22style%22%3A%20%7B%22color%22%3A%20%22black%22%2C%20%22fillColor%22%3A%20%22%238c96c6%22%2C%20%22fillOpacity%22%3A%200.6%2C%20%22opacity%22%3A%201%2C%20%22weight%22%3A%201%7D%7D%2C%20%22type%22%3A%20%22Feature%22%7D%2C%20%7B%22geometry%22%3A%20%7B%22coordinates%22%3A%20%5B%5B%5B127.02527254528003%2C%2037.57524616245249%5D%2C%20%5B127.042705222094%2C%2037.59239437593391%5D%2C%20%5B127.07382707099227%2C%2037.60401928986419%5D%2C%20%5B127.08068541280403%2C%2037.56906425519017%5D%2C%20%5B127.07421053024362%2C%2037.55724769712085%5D%2C%20%5B127.05005601081567%2C%2037.567577612590846%5D%2C%20%5B127.02547266349976%2C%2037.568943552237734%5D%2C%20%5B127.02527254528003%2C%2037.57524616245249%5D%5D%5D%2C%20%22type%22%3A%20%22Polygon%22%7D%2C%20%22id%22%3A%20%22%5Cub3d9%5Cub300%5Cubb38%5Cuad6c%22%2C%20%22properties%22%3A%20%7B%22base_year%22%3A%20%222013%22%2C%20%22code%22%3A%20%2211060%22%2C%20%22highlight%22%3A%20%7B%7D%2C%20%22name%22%3A%20%22%5Cub3d9%5Cub300%5Cubb38%5Cuad6c%22%2C%20%22name_eng%22%3A%20%22Dongdaemun-gu%22%2C%20%22style%22%3A%20%7B%22color%22%3A%20%22black%22%2C%20%22fillColor%22%3A%20%22%239ebcda%22%2C%20%22fillOpacity%22%3A%200.6%2C%20%22opacity%22%3A%201%2C%20%22weight%22%3A%201%7D%7D%2C%20%22type%22%3A%20%22Feature%22%7D%2C%20%7B%22geometry%22%3A%20%7B%22coordinates%22%3A%20%5B%5B%5B127.08068541280403%2C%2037.56906425519017%5D%2C%20%5B127.10304174249214%2C%2037.57076342290955%5D%2C%20%5B127.11519584981606%2C%2037.557533180704915%5D%2C%20%5B127.1116764203608%2C%2037.540669955324965%5D%2C%20%5B127.10087519791962%2C%2037.524841220167055%5D%2C%20%5B127.0690698130372%2C%2037.522279423505026%5D%2C%20%5B127.05867359288398%2C%2037.52629974922568%5D%2C%20%5B127.07421053024362%2C%2037.55724769712085%5D%2C%20%5B127.08068541280403%2C%2037.56906425519017%5D%5D%5D%2C%20%22type%22%3A%20%22Polygon%22%7D%2C%20%22id%22%3A%20%22%5Cuad11%5Cuc9c4%5Cuad6c%22%2C%20%22properties%22%3A%20%7B%22base_year%22%3A%20%222013%22%2C%20%22code%22%3A%20%2211050%22%2C%20%22highlight%22%3A%20%7B%7D%2C%20%22name%22%3A%20%22%5Cuad11%5Cuc9c4%5Cuad6c%22%2C%20%22name_eng%22%3A%20%22Gwangjin-gu%22%2C%20%22style%22%3A%20%7B%22color%22%3A%20%22black%22%2C%20%22fillColor%22%3A%20%22%239ebcda%22%2C%20%22fillOpacity%22%3A%200.6%2C%20%22opacity%22%3A%201%2C%20%22weight%22%3A%201%7D%7D%2C%20%22type%22%3A%20%22Feature%22%7D%2C%20%7B%22geometry%22%3A%20%7B%22coordinates%22%3A%20%5B%5B%5B127.02547266349976%2C%2037.568943552237734%5D%2C%20%5B127.05005601081567%2C%2037.567577612590846%5D%2C%20%5B127.07421053024362%2C%2037.55724769712085%5D%2C%20%5B127.05867359288398%2C%2037.52629974922568%5D%2C%20%5B127.02302831890559%2C%2037.53231899582663%5D%2C%20%5B127.01070894177482%2C%2037.54118048964762%5D%2C%20%5B127.02547266349976%2C%2037.568943552237734%5D%5D%5D%2C%20%22type%22%3A%20%22Polygon%22%7D%2C%20%22id%22%3A%20%22%5Cuc131%5Cub3d9%5Cuad6c%22%2C%20%22properties%22%3A%20%7B%22base_year%22%3A%20%222013%22%2C%20%22code%22%3A%20%2211040%22%2C%20%22highlight%22%3A%20%7B%7D%2C%20%22name%22%3A%20%22%5Cuc131%5Cub3d9%5Cuad6c%22%2C%20%22name_eng%22%3A%20%22Seongdong-gu%22%2C%20%22style%22%3A%20%7B%22color%22%3A%20%22black%22%2C%20%22fillColor%22%3A%20%22%23810f7c%22%2C%20%22fillOpacity%22%3A%200.6%2C%20%22opacity%22%3A%201%2C%20%22weight%22%3A%201%7D%7D%2C%20%22type%22%3A%20%22Feature%22%7D%2C%20%7B%22geometry%22%3A%20%7B%22coordinates%22%3A%20%5B%5B%5B127.01070894177482%2C%2037.54118048964762%5D%2C%20%5B127.02302831890559%2C%2037.53231899582663%5D%2C%20%5B127.01397119667513%2C%2037.52503988289669%5D%2C%20%5B126.98223807916081%2C%2037.509314966770326%5D%2C%20%5B126.95249990298159%2C%2037.51722500741813%5D%2C%20%5B126.94566733083212%2C%2037.526617542453366%5D%2C%20%5B126.96448570553055%2C%2037.548705692021635%5D%2C%20%5B126.98752996903328%2C%2037.55094818807139%5D%2C%20%5B127.01070894177482%2C%2037.54118048964762%5D%5D%5D%2C%20%22type%22%3A%20%22Polygon%22%7D%2C%20%22id%22%3A%20%22%5Cuc6a9%5Cuc0b0%5Cuad6c%22%2C%20%22properties%22%3A%20%7B%22base_year%22%3A%20%222013%22%2C%20%22code%22%3A%20%2211030%22%2C%20%22highlight%22%3A%20%7B%7D%2C%20%22name%22%3A%20%22%5Cuc6a9%5Cuc0b0%5Cuad6c%22%2C%20%22name_eng%22%3A%20%22Yongsan-gu%22%2C%20%22style%22%3A%20%7B%22color%22%3A%20%22black%22%2C%20%22fillColor%22%3A%20%22%238856a7%22%2C%20%22fillOpacity%22%3A%200.6%2C%20%22opacity%22%3A%201%2C%20%22weight%22%3A%201%7D%7D%2C%20%22type%22%3A%20%22Feature%22%7D%2C%20%7B%22geometry%22%3A%20%7B%22coordinates%22%3A%20%5B%5B%5B127.02547266349976%2C%2037.568943552237734%5D%2C%20%5B127.01070894177482%2C%2037.54118048964762%5D%2C%20%5B126.98752996903328%2C%2037.55094818807139%5D%2C%20%5B126.96448570553055%2C%2037.548705692021635%5D%2C%20%5B126.96358226710812%2C%2037.55605635475154%5D%2C%20%5B126.96873633279075%2C%2037.56313604690827%5D%2C%20%5B127.02547266349976%2C%2037.568943552237734%5D%5D%5D%2C%20%22type%22%3A%20%22Polygon%22%7D%2C%20%22id%22%3A%20%22%5Cuc911%5Cuad6c%22%2C%20%22properties%22%3A%20%7B%22base_year%22%3A%20%222013%22%2C%20%22code%22%3A%20%2211020%22%2C%20%22highlight%22%3A%20%7B%7D%2C%20%22name%22%3A%20%22%5Cuc911%5Cuad6c%22%2C%20%22name_eng%22%3A%20%22Jung-gu%22%2C%20%22style%22%3A%20%7B%22color%22%3A%20%22black%22%2C%20%22fillColor%22%3A%20%22black%22%2C%20%22fillOpacity%22%3A%200.6%2C%20%22opacity%22%3A%201%2C%20%22weight%22%3A%201%7D%7D%2C%20%22type%22%3A%20%22Feature%22%7D%2C%20%7B%22geometry%22%3A%20%7B%22coordinates%22%3A%20%5B%5B%5B126.9738864128702%2C%2037.62949634786888%5D%2C%20%5B126.977175406416%2C%2037.62859715400388%5D%2C%20%5B126.98879865992384%2C%2037.6118927319756%5D%2C%20%5B126.99348293358314%2C%2037.588565457216156%5D%2C%20%5B127.02527254528003%2C%2037.57524616245249%5D%2C%20%5B127.02547266349976%2C%2037.568943552237734%5D%2C%20%5B126.96873633279075%2C%2037.56313604690827%5D%2C%20%5B126.95565425846463%2C%2037.576080790881456%5D%2C%20%5B126.9524752030572%2C%2037.60508692737045%5D%2C%20%5B126.95427017006129%2C%2037.622033431339425%5D%2C%20%5B126.9738864128702%2C%2037.62949634786888%5D%5D%5D%2C%20%22type%22%3A%20%22Polygon%22%7D%2C%20%22id%22%3A%20%22%5Cuc885%5Cub85c%5Cuad6c%22%2C%20%22properties%22%3A%20%7B%22base_year%22%3A%20%222013%22%2C%20%22code%22%3A%20%2211010%22%2C%20%22highlight%22%3A%20%7B%7D%2C%20%22name%22%3A%20%22%5Cuc885%5Cub85c%5Cuad6c%22%2C%20%22name_eng%22%3A%20%22Jongno-gu%22%2C%20%22style%22%3A%20%7B%22color%22%3A%20%22black%22%2C%20%22fillColor%22%3A%20%22%23810f7c%22%2C%20%22fillOpacity%22%3A%200.6%2C%20%22opacity%22%3A%201%2C%20%22weight%22%3A%201%7D%7D%2C%20%22type%22%3A%20%22Feature%22%7D%5D%2C%20%22type%22%3A%20%22FeatureCollection%22%7D%2C%0A%20%20%20%20%20%20%20%20%20%20%20%20%7B%0A%20%20%20%20%20%20%20%20%20%20%20%20%7D%0A%20%20%20%20%20%20%20%20%29.addTo%28choropleth_9a1148060132468fb9f5e19c98e975ea%20%29%3B%0A%20%20%20%20%20%20%20%20geo_json_2f262436a48e4180aa2a6aff15b8f5ca.setStyle%28function%28feature%29%20%7Breturn%20feature.properties.style%3B%7D%29%3B%0A%20%20%20%20%20%20%20%20%0A%20%20%20%20%0A%20%20%20%20var%20color_map_d89b22ba9d6e4e5ea975f00db062c0f2%20%3D%20%7B%7D%3B%0A%0A%20%20%20%20%0A%20%20%20%20color_map_d89b22ba9d6e4e5ea975f00db062c0f2.color%20%3D%20d3.scale.threshold%28%29%0A%20%20%20%20%20%20%20%20%20%20%20%20%20%20.domain%28%5B4.295986549076453%2C%204.311783179995225%2C%204.327579810913997%2C%204.34337644183277%2C%204.359173072751542%2C%204.374969703670314%2C%204.390766334589086%2C%204.406562965507859%2C%204.422359596426631%2C%204.438156227345403%2C%204.453952858264175%2C%204.469749489182948%2C%204.48554612010172%2C%204.501342751020492%2C%204.5171393819392645%2C%204.532936012858037%2C%204.548732643776809%2C%204.564529274695581%2C%204.5803259056143535%2C%204.596122536533126%2C%204.611919167451898%2C%204.62771579837067%2C%204.6435124292894425%2C%204.659309060208215%2C%204.675105691126987%2C%204.690902322045759%2C%204.706698952964532%2C%204.722495583883304%2C%204.738292214802076%2C%204.754088845720848%2C%204.769885476639621%2C%204.785682107558393%2C%204.801478738477165%2C%204.817275369395937%2C%204.83307200031471%2C%204.848868631233482%2C%204.864665262152254%2C%204.880461893071026%2C%204.896258523989799%2C%204.912055154908571%2C%204.927851785827343%2C%204.943648416746115%2C%204.959445047664888%2C%204.97524167858366%2C%204.991038309502432%2C%205.0068349404212045%2C%205.022631571339977%2C%205.038428202258749%2C%205.054224833177521%2C%205.0700214640962935%2C%205.085818095015066%2C%205.101614725933838%2C%205.11741135685261%2C%205.1332079877713825%2C%205.149004618690155%2C%205.164801249608927%2C%205.180597880527699%2C%205.196394511446472%2C%205.212191142365244%2C%205.227987773284016%2C%205.243784404202788%2C%205.259581035121561%2C%205.275377666040333%2C%205.291174296959105%2C%205.306970927877877%2C%205.32276755879665%2C%205.338564189715422%2C%205.354360820634194%2C%205.370157451552966%2C%205.385954082471739%2C%205.401750713390511%2C%205.417547344309283%2C%205.4333439752280555%2C%205.449140606146828%2C%205.4649372370656%2C%205.480733867984372%2C%205.4965304989031445%2C%205.512327129821917%2C%205.528123760740689%2C%205.543920391659461%2C%205.5597170225782335%2C%205.575513653497006%2C%205.591310284415778%2C%205.60710691533455%2C%205.622903546253323%2C%205.638700177172095%2C%205.654496808090867%2C%205.670293439009639%2C%205.686090069928412%2C%205.701886700847184%2C%205.717683331765956%2C%205.733479962684728%2C%205.749276593603501%2C%205.765073224522273%2C%205.780869855441045%2C%205.796666486359817%2C%205.81246311727859%2C%205.828259748197362%2C%205.844056379116134%2C%205.859853010034906%2C%205.875649640953679%2C%205.891446271872451%2C%205.907242902791223%2C%205.9230395337099955%2C%205.938836164628768%2C%205.95463279554754%2C%205.970429426466312%2C%205.9862260573850845%2C%206.002022688303857%2C%206.017819319222629%2C%206.033615950141401%2C%206.0494125810601735%2C%206.065209211978946%2C%206.081005842897718%2C%206.09680247381649%2C%206.112599104735263%2C%206.128395735654035%2C%206.144192366572807%2C%206.159988997491579%2C%206.175785628410352%2C%206.191582259329124%2C%206.207378890247896%2C%206.223175521166668%2C%206.238972152085441%2C%206.254768783004213%2C%206.270565413922985%2C%206.286362044841757%2C%206.302158675760529%2C%206.317955306679302%2C%206.333751937598074%2C%206.3495485685168465%2C%206.365345199435618%2C%206.381141830354391%2C%206.396938461273162%2C%206.4127350921919355%2C%206.428531723110707%2C%206.44432835402948%2C%206.460124984948251%2C%206.4759216158670245%2C%206.491718246785797%2C%206.507514877704569%2C%206.523311508623341%2C%206.539108139542114%2C%206.554904770460886%2C%206.570701401379658%2C%206.58649803229843%2C%206.602294663217203%2C%206.618091294135974%2C%206.633887925054747%2C%206.6496845559735185%2C%206.665481186892292%2C%206.681277817811063%2C%206.697074448729836%2C%206.7128710796486075%2C%206.728667710567381%2C%206.744464341486152%2C%206.760260972404925%2C%206.7760576033236966%2C%206.79185423424247%2C%206.807650865161242%2C%206.823447496080014%2C%206.8392441269987865%2C%206.855040757917559%2C%206.870837388836331%2C%206.886634019755103%2C%206.902430650673875%2C%206.918227281592648%2C%206.934023912511419%2C%206.949820543430192%2C%206.965617174348964%2C%206.981413805267737%2C%206.997210436186508%2C%207.013007067105281%2C%207.028803698024053%2C%207.044600328942826%2C%207.060396959861597%2C%207.07619359078037%2C%207.091990221699142%2C%207.107786852617915%2C%207.123583483536687%2C%207.139380114455459%2C%207.155176745374232%2C%207.170973376293004%2C%207.186770007211775%2C%207.202566638130548%2C%207.21836326904932%2C%207.234159899968093%2C%207.249956530886864%2C%207.2657531618056375%2C%207.281549792724409%2C%207.297346423643182%2C%207.313143054561953%2C%207.3289396854807265%2C%207.344736316399498%2C%207.360532947318271%2C%207.376329578237042%2C%207.3921262091558155%2C%207.407922840074587%2C%207.42371947099336%2C%207.439516101912132%2C%207.455312732830905%2C%207.471109363749677%2C%207.486905994668449%2C%207.5027026255872205%2C%207.518499256505994%2C%207.534295887424765%2C%207.550092518343538%2C%207.5658891492623095%2C%207.581685780181083%2C%207.597482411099854%2C%207.613279042018627%2C%207.6290756729373985%2C%207.644872303856172%2C%207.660668934774943%2C%207.676465565693716%2C%207.692262196612488%2C%207.708058827531261%2C%207.723855458450033%2C%207.739652089368805%2C%207.7554487202875775%2C%207.77124535120635%2C%207.787041982125121%2C%207.802838613043894%2C%207.818635243962666%2C%207.834431874881439%2C%207.85022850580021%2C%207.866025136718983%2C%207.881821767637755%2C%207.897618398556528%2C%207.913415029475299%2C%207.929211660394072%2C%207.945008291312844%2C%207.960804922231617%2C%207.976601553150388%2C%207.992398184069161%2C%208.008194814987933%2C%208.023991445906706%2C%208.039788076825477%2C%208.05558470774425%2C%208.071381338663022%2C%208.087177969581795%2C%208.102974600500566%2C%208.11877123141934%2C%208.13456786233811%2C%208.150364493256884%2C%208.166161124175655%2C%208.181957755094428%2C%208.1977543860132%2C%208.213551016931973%2C%208.229347647850744%2C%208.245144278769517%2C%208.260940909688289%2C%208.276737540607062%2C%208.292534171525833%2C%208.308330802444605%2C%208.32412743336338%2C%208.339924064282151%2C%208.355720695200922%2C%208.371517326119696%2C%208.387313957038467%2C%208.40311058795724%2C%208.418907218876011%2C%208.434703849794783%2C%208.450500480713558%2C%208.46629711163233%2C%208.4820937425511%2C%208.497890373469872%2C%208.513687004388645%2C%208.529483635307418%2C%208.54528026622619%2C%208.561076897144961%2C%208.576873528063734%2C%208.592670158982507%2C%208.608466789901279%2C%208.62426342082005%2C%208.640060051738823%2C%208.655856682657596%2C%208.671653313576368%2C%208.68744994449514%2C%208.703246575413912%2C%208.719043206332685%2C%208.734839837251457%2C%208.75063646817023%2C%208.766433099089001%2C%208.782229730007774%2C%208.798026360926546%2C%208.813822991845319%2C%208.829619622764092%2C%208.845416253682863%2C%208.861212884601635%2C%208.877009515520408%2C%208.892806146439181%2C%208.908602777357952%2C%208.924399408276724%2C%208.940196039195495%2C%208.95599267011427%2C%208.971789301033041%2C%208.987585931951813%2C%209.003382562870584%2C%209.019179193789359%2C%209.03497582470813%2C%209.050772455626902%2C%209.066569086545673%2C%209.082365717464446%2C%209.09816234838322%2C%209.11395897930199%2C%209.129755610220762%2C%209.145552241139535%2C%209.161348872058309%2C%209.17714550297708%2C%209.192942133895851%2C%209.208738764814624%2C%209.224535395733398%2C%209.240332026652169%2C%209.25612865757094%2C%209.271925288489713%2C%209.287721919408487%2C%209.303518550327258%2C%209.319315181246031%2C%209.335111812164802%2C%209.350908443083576%2C%209.366705074002347%2C%209.38250170492112%2C%209.398298335839891%2C%209.414094966758665%2C%209.429891597677436%2C%209.44568822859621%2C%209.461484859514982%2C%209.477281490433754%2C%209.493078121352525%2C%209.508874752271296%2C%209.524671383190071%2C%209.540468014108843%2C%209.556264645027614%2C%209.572061275946385%2C%209.58785790686516%2C%209.603654537783932%2C%209.619451168702703%2C%209.635247799621474%2C%209.651044430540248%2C%209.66684106145902%2C%209.682637692377792%2C%209.698434323296564%2C%209.714230954215337%2C%209.73002758513411%2C%209.745824216052881%2C%209.761620846971653%2C%209.777417477890426%2C%209.793214108809199%2C%209.80901073972797%2C%209.824807370646742%2C%209.840604001565515%2C%209.856400632484288%2C%209.87219726340306%2C%209.88799389432183%2C%209.903790525240604%2C%209.919587156159377%2C%209.935383787078148%2C%209.951180417996921%2C%209.966977048915693%2C%209.982773679834466%2C%209.998570310753237%2C%2010.01436694167201%2C%2010.030163572590782%2C%2010.045960203509555%2C%2010.061756834428326%2C%2010.077553465347098%2C%2010.093350096265873%2C%2010.109146727184644%2C%2010.124943358103415%2C%2010.140739989022187%2C%2010.156536619940962%2C%2010.172333250859733%2C%2010.188129881778504%2C%2010.203926512697276%2C%2010.219723143616049%2C%2010.235519774534822%2C%2010.251316405453593%2C%2010.267113036372365%2C%2010.282909667291138%2C%2010.298706298209911%2C%2010.314502929128682%2C%2010.330299560047454%2C%2010.346096190966227%2C%2010.361892821885%2C%2010.377689452803772%2C%2010.393486083722543%2C%2010.409282714641316%2C%2010.42507934556009%2C%2010.44087597647886%2C%2010.456672607397632%2C%2010.472469238316405%2C%2010.488265869235178%2C%2010.50406250015395%2C%2010.519859131072721%2C%2010.535655761991494%2C%2010.551452392910267%2C%2010.567249023829039%2C%2010.583045654747812%2C%2010.598842285666583%2C%2010.614638916585356%2C%2010.630435547504128%2C%2010.6462321784229%2C%2010.662028809341672%2C%2010.677825440260445%2C%2010.693622071179217%2C%2010.709418702097988%2C%2010.725215333016763%2C%2010.741011963935534%2C%2010.756808594854306%2C%2010.772605225773077%2C%2010.788401856691852%2C%2010.804198487610623%2C%2010.819995118529395%2C%2010.835791749448166%2C%2010.85158838036694%2C%2010.867385011285712%2C%2010.883181642204484%2C%2010.898978273123255%2C%2010.914774904042028%2C%2010.930571534960801%2C%2010.946368165879573%2C%2010.962164796798344%2C%2010.977961427717117%2C%2010.99375805863589%2C%2011.009554689554662%2C%2011.025351320473433%2C%2011.041147951392206%2C%2011.05694458231098%2C%2011.072741213229751%2C%2011.088537844148522%2C%2011.104334475067295%2C%2011.120131105986069%2C%2011.13592773690484%2C%2011.151724367823613%2C%2011.167520998742384%2C%2011.183317629661158%2C%2011.199114260579929%2C%2011.214910891498702%2C%2011.230707522417473%2C%2011.246504153336247%2C%2011.262300784255018%2C%2011.27809741517379%2C%2011.293894046092563%2C%2011.309690677011336%2C%2011.325487307930107%2C%2011.341283938848878%2C%2011.357080569767653%2C%2011.372877200686425%2C%2011.388673831605196%2C%2011.404470462523967%2C%2011.42026709344274%2C%2011.436063724361514%2C%2011.451860355280285%2C%2011.467656986199056%2C%2011.48345361711783%2C%2011.499250248036603%2C%2011.515046878955374%2C%2011.530843509874146%2C%2011.546640140792919%2C%2011.562436771711692%2C%2011.578233402630463%2C%2011.594030033549235%2C%2011.609826664468008%2C%2011.62562329538678%2C%2011.641419926305552%2C%2011.657216557224324%2C%2011.673013188143097%2C%2011.68880981906187%2C%2011.704606449980641%2C%2011.720403080899413%2C%2011.736199711818186%2C%2011.751996342736959%2C%2011.76779297365573%2C%2011.783589604574503%2C%2011.799386235493275%2C%2011.815182866412048%2C%2011.83097949733082%2C%2011.84677612824959%2C%2011.862572759168364%2C%2011.878369390087137%2C%2011.894166021005908%2C%2011.90996265192468%2C%2011.925759282843455%2C%2011.941555913762226%2C%2011.957352544680997%2C%2011.973149175599769%2C%2011.988945806518542%2C%2012.004742437437315%2C%2012.020539068356086%2C%2012.036335699274858%2C%2012.052132330193631%2C%2012.067928961112404%2C%2012.083725592031175%2C%2012.099522222949947%2C%2012.11531885386872%2C%2012.131115484787493%2C%2012.146912115706265%2C%2012.162708746625036%2C%2012.178505377543809%5D%29%0A%20%20%20%20%20%20%20%20%20%20%20%20%20%20.range%28%5B%27%23edf8fbff%27%2C%20%27%23edf8fbff%27%2C%20%27%23edf8fbff%27%2C%20%27%23edf8fbff%27%2C%20%27%23edf8fbff%27%2C%20%27%23edf8fbff%27%2C%20%27%23edf8fbff%27%2C%20%27%23edf8fbff%27%2C%20%27%23edf8fbff%27%2C%20%27%23edf8fbff%27%2C%20%27%23edf8fbff%27%2C%20%27%23edf8fbff%27%2C%20%27%23edf8fbff%27%2C%20%27%23edf8fbff%27%2C%20%27%23edf8fbff%27%2C%20%27%23edf8fbff%27%2C%20%27%23edf8fbff%27%2C%20%27%23edf8fbff%27%2C%20%27%23edf8fbff%27%2C%20%27%23edf8fbff%27%2C%20%27%23edf8fbff%27%2C%20%27%23edf8fbff%27%2C%20%27%23edf8fbff%27%2C%20%27%23edf8fbff%27%2C%20%27%23edf8fbff%27%2C%20%27%23edf8fbff%27%2C%20%27%23edf8fbff%27%2C%20%27%23edf8fbff%27%2C%20%27%23edf8fbff%27%2C%20%27%23edf8fbff%27%2C%20%27%23edf8fbff%27%2C%20%27%23edf8fbff%27%2C%20%27%23edf8fbff%27%2C%20%27%23edf8fbff%27%2C%20%27%23edf8fbff%27%2C%20%27%23edf8fbff%27%2C%20%27%23edf8fbff%27%2C%20%27%23edf8fbff%27%2C%20%27%23edf8fbff%27%2C%20%27%23edf8fbff%27%2C%20%27%23edf8fbff%27%2C%20%27%23edf8fbff%27%2C%20%27%23edf8fbff%27%2C%20%27%23edf8fbff%27%2C%20%27%23edf8fbff%27%2C%20%27%23edf8fbff%27%2C%20%27%23edf8fbff%27%2C%20%27%23edf8fbff%27%2C%20%27%23edf8fbff%27%2C%20%27%23edf8fbff%27%2C%20%27%23edf8fbff%27%2C%20%27%23edf8fbff%27%2C%20%27%23edf8fbff%27%2C%20%27%23edf8fbff%27%2C%20%27%23edf8fbff%27%2C%20%27%23edf8fbff%27%2C%20%27%23edf8fbff%27%2C%20%27%23edf8fbff%27%2C%20%27%23edf8fbff%27%2C%20%27%23edf8fbff%27%2C%20%27%23edf8fbff%27%2C%20%27%23edf8fbff%27%2C%20%27%23edf8fbff%27%2C%20%27%23edf8fbff%27%2C%20%27%23edf8fbff%27%2C%20%27%23edf8fbff%27%2C%20%27%23edf8fbff%27%2C%20%27%23edf8fbff%27%2C%20%27%23edf8fbff%27%2C%20%27%23edf8fbff%27%2C%20%27%23edf8fbff%27%2C%20%27%23edf8fbff%27%2C%20%27%23edf8fbff%27%2C%20%27%23edf8fbff%27%2C%20%27%23edf8fbff%27%2C%20%27%23edf8fbff%27%2C%20%27%23edf8fbff%27%2C%20%27%23edf8fbff%27%2C%20%27%23edf8fbff%27%2C%20%27%23edf8fbff%27%2C%20%27%23edf8fbff%27%2C%20%27%23edf8fbff%27%2C%20%27%23edf8fbff%27%2C%20%27%23edf8fbff%27%2C%20%27%23bfd3e6ff%27%2C%20%27%23bfd3e6ff%27%2C%20%27%23bfd3e6ff%27%2C%20%27%23bfd3e6ff%27%2C%20%27%23bfd3e6ff%27%2C%20%27%23bfd3e6ff%27%2C%20%27%23bfd3e6ff%27%2C%20%27%23bfd3e6ff%27%2C%20%27%23bfd3e6ff%27%2C%20%27%23bfd3e6ff%27%2C%20%27%23bfd3e6ff%27%2C%20%27%23bfd3e6ff%27%2C%20%27%23bfd3e6ff%27%2C%20%27%23bfd3e6ff%27%2C%20%27%23bfd3e6ff%27%2C%20%27%23bfd3e6ff%27%2C%20%27%23bfd3e6ff%27%2C%20%27%23bfd3e6ff%27%2C%20%27%23bfd3e6ff%27%2C%20%27%23bfd3e6ff%27%2C%20%27%23bfd3e6ff%27%2C%20%27%23bfd3e6ff%27%2C%20%27%23bfd3e6ff%27%2C%20%27%23bfd3e6ff%27%2C%20%27%23bfd3e6ff%27%2C%20%27%23bfd3e6ff%27%2C%20%27%23bfd3e6ff%27%2C%20%27%23bfd3e6ff%27%2C%20%27%23bfd3e6ff%27%2C%20%27%23bfd3e6ff%27%2C%20%27%23bfd3e6ff%27%2C%20%27%23bfd3e6ff%27%2C%20%27%23bfd3e6ff%27%2C%20%27%23bfd3e6ff%27%2C%20%27%23bfd3e6ff%27%2C%20%27%23bfd3e6ff%27%2C%20%27%23bfd3e6ff%27%2C%20%27%23bfd3e6ff%27%2C%20%27%23bfd3e6ff%27%2C%20%27%23bfd3e6ff%27%2C%20%27%23bfd3e6ff%27%2C%20%27%23bfd3e6ff%27%2C%20%27%23bfd3e6ff%27%2C%20%27%23bfd3e6ff%27%2C%20%27%23bfd3e6ff%27%2C%20%27%23bfd3e6ff%27%2C%20%27%23bfd3e6ff%27%2C%20%27%23bfd3e6ff%27%2C%20%27%23bfd3e6ff%27%2C%20%27%23bfd3e6ff%27%2C%20%27%23bfd3e6ff%27%2C%20%27%23bfd3e6ff%27%2C%20%27%23bfd3e6ff%27%2C%20%27%23bfd3e6ff%27%2C%20%27%23bfd3e6ff%27%2C%20%27%23bfd3e6ff%27%2C%20%27%23bfd3e6ff%27%2C%20%27%23bfd3e6ff%27%2C%20%27%23bfd3e6ff%27%2C%20%27%23bfd3e6ff%27%2C%20%27%23bfd3e6ff%27%2C%20%27%23bfd3e6ff%27%2C%20%27%23bfd3e6ff%27%2C%20%27%23bfd3e6ff%27%2C%20%27%23bfd3e6ff%27%2C%20%27%23bfd3e6ff%27%2C%20%27%23bfd3e6ff%27%2C%20%27%23bfd3e6ff%27%2C%20%27%23bfd3e6ff%27%2C%20%27%23bfd3e6ff%27%2C%20%27%23bfd3e6ff%27%2C%20%27%23bfd3e6ff%27%2C%20%27%23bfd3e6ff%27%2C%20%27%23bfd3e6ff%27%2C%20%27%23bfd3e6ff%27%2C%20%27%23bfd3e6ff%27%2C%20%27%23bfd3e6ff%27%2C%20%27%23bfd3e6ff%27%2C%20%27%23bfd3e6ff%27%2C%20%27%23bfd3e6ff%27%2C%20%27%23bfd3e6ff%27%2C%20%27%23bfd3e6ff%27%2C%20%27%23bfd3e6ff%27%2C%20%27%239ebcdaff%27%2C%20%27%239ebcdaff%27%2C%20%27%239ebcdaff%27%2C%20%27%239ebcdaff%27%2C%20%27%239ebcdaff%27%2C%20%27%239ebcdaff%27%2C%20%27%239ebcdaff%27%2C%20%27%239ebcdaff%27%2C%20%27%239ebcdaff%27%2C%20%27%239ebcdaff%27%2C%20%27%239ebcdaff%27%2C%20%27%239ebcdaff%27%2C%20%27%239ebcdaff%27%2C%20%27%239ebcdaff%27%2C%20%27%239ebcdaff%27%2C%20%27%239ebcdaff%27%2C%20%27%239ebcdaff%27%2C%20%27%239ebcdaff%27%2C%20%27%239ebcdaff%27%2C%20%27%239ebcdaff%27%2C%20%27%239ebcdaff%27%2C%20%27%239ebcdaff%27%2C%20%27%239ebcdaff%27%2C%20%27%239ebcdaff%27%2C%20%27%239ebcdaff%27%2C%20%27%239ebcdaff%27%2C%20%27%239ebcdaff%27%2C%20%27%239ebcdaff%27%2C%20%27%239ebcdaff%27%2C%20%27%239ebcdaff%27%2C%20%27%239ebcdaff%27%2C%20%27%239ebcdaff%27%2C%20%27%239ebcdaff%27%2C%20%27%239ebcdaff%27%2C%20%27%239ebcdaff%27%2C%20%27%239ebcdaff%27%2C%20%27%239ebcdaff%27%2C%20%27%239ebcdaff%27%2C%20%27%239ebcdaff%27%2C%20%27%239ebcdaff%27%2C%20%27%239ebcdaff%27%2C%20%27%239ebcdaff%27%2C%20%27%239ebcdaff%27%2C%20%27%239ebcdaff%27%2C%20%27%239ebcdaff%27%2C%20%27%239ebcdaff%27%2C%20%27%239ebcdaff%27%2C%20%27%239ebcdaff%27%2C%20%27%239ebcdaff%27%2C%20%27%239ebcdaff%27%2C%20%27%239ebcdaff%27%2C%20%27%239ebcdaff%27%2C%20%27%239ebcdaff%27%2C%20%27%239ebcdaff%27%2C%20%27%239ebcdaff%27%2C%20%27%239ebcdaff%27%2C%20%27%239ebcdaff%27%2C%20%27%239ebcdaff%27%2C%20%27%239ebcdaff%27%2C%20%27%239ebcdaff%27%2C%20%27%239ebcdaff%27%2C%20%27%239ebcdaff%27%2C%20%27%239ebcdaff%27%2C%20%27%239ebcdaff%27%2C%20%27%239ebcdaff%27%2C%20%27%239ebcdaff%27%2C%20%27%239ebcdaff%27%2C%20%27%239ebcdaff%27%2C%20%27%239ebcdaff%27%2C%20%27%239ebcdaff%27%2C%20%27%239ebcdaff%27%2C%20%27%239ebcdaff%27%2C%20%27%239ebcdaff%27%2C%20%27%239ebcdaff%27%2C%20%27%239ebcdaff%27%2C%20%27%239ebcdaff%27%2C%20%27%239ebcdaff%27%2C%20%27%239ebcdaff%27%2C%20%27%239ebcdaff%27%2C%20%27%239ebcdaff%27%2C%20%27%239ebcdaff%27%2C%20%27%239ebcdaff%27%2C%20%27%239ebcdaff%27%2C%20%27%238c96c6ff%27%2C%20%27%238c96c6ff%27%2C%20%27%238c96c6ff%27%2C%20%27%238c96c6ff%27%2C%20%27%238c96c6ff%27%2C%20%27%238c96c6ff%27%2C%20%27%238c96c6ff%27%2C%20%27%238c96c6ff%27%2C%20%27%238c96c6ff%27%2C%20%27%238c96c6ff%27%2C%20%27%238c96c6ff%27%2C%20%27%238c96c6ff%27%2C%20%27%238c96c6ff%27%2C%20%27%238c96c6ff%27%2C%20%27%238c96c6ff%27%2C%20%27%238c96c6ff%27%2C%20%27%238c96c6ff%27%2C%20%27%238c96c6ff%27%2C%20%27%238c96c6ff%27%2C%20%27%238c96c6ff%27%2C%20%27%238c96c6ff%27%2C%20%27%238c96c6ff%27%2C%20%27%238c96c6ff%27%2C%20%27%238c96c6ff%27%2C%20%27%238c96c6ff%27%2C%20%27%238c96c6ff%27%2C%20%27%238c96c6ff%27%2C%20%27%238c96c6ff%27%2C%20%27%238c96c6ff%27%2C%20%27%238c96c6ff%27%2C%20%27%238c96c6ff%27%2C%20%27%238c96c6ff%27%2C%20%27%238c96c6ff%27%2C%20%27%238c96c6ff%27%2C%20%27%238c96c6ff%27%2C%20%27%238c96c6ff%27%2C%20%27%238c96c6ff%27%2C%20%27%238c96c6ff%27%2C%20%27%238c96c6ff%27%2C%20%27%238c96c6ff%27%2C%20%27%238c96c6ff%27%2C%20%27%238c96c6ff%27%2C%20%27%238c96c6ff%27%2C%20%27%238c96c6ff%27%2C%20%27%238c96c6ff%27%2C%20%27%238c96c6ff%27%2C%20%27%238c96c6ff%27%2C%20%27%238c96c6ff%27%2C%20%27%238c96c6ff%27%2C%20%27%238c96c6ff%27%2C%20%27%238c96c6ff%27%2C%20%27%238c96c6ff%27%2C%20%27%238c96c6ff%27%2C%20%27%238c96c6ff%27%2C%20%27%238c96c6ff%27%2C%20%27%238c96c6ff%27%2C%20%27%238c96c6ff%27%2C%20%27%238c96c6ff%27%2C%20%27%238c96c6ff%27%2C%20%27%238c96c6ff%27%2C%20%27%238c96c6ff%27%2C%20%27%238c96c6ff%27%2C%20%27%238c96c6ff%27%2C%20%27%238c96c6ff%27%2C%20%27%238c96c6ff%27%2C%20%27%238c96c6ff%27%2C%20%27%238c96c6ff%27%2C%20%27%238c96c6ff%27%2C%20%27%238c96c6ff%27%2C%20%27%238c96c6ff%27%2C%20%27%238c96c6ff%27%2C%20%27%238c96c6ff%27%2C%20%27%238c96c6ff%27%2C%20%27%238c96c6ff%27%2C%20%27%238c96c6ff%27%2C%20%27%238c96c6ff%27%2C%20%27%238c96c6ff%27%2C%20%27%238c96c6ff%27%2C%20%27%238c96c6ff%27%2C%20%27%238c96c6ff%27%2C%20%27%238c96c6ff%27%2C%20%27%238c96c6ff%27%2C%20%27%238c96c6ff%27%2C%20%27%238856a7ff%27%2C%20%27%238856a7ff%27%2C%20%27%238856a7ff%27%2C%20%27%238856a7ff%27%2C%20%27%238856a7ff%27%2C%20%27%238856a7ff%27%2C%20%27%238856a7ff%27%2C%20%27%238856a7ff%27%2C%20%27%238856a7ff%27%2C%20%27%238856a7ff%27%2C%20%27%238856a7ff%27%2C%20%27%238856a7ff%27%2C%20%27%238856a7ff%27%2C%20%27%238856a7ff%27%2C%20%27%238856a7ff%27%2C%20%27%238856a7ff%27%2C%20%27%238856a7ff%27%2C%20%27%238856a7ff%27%2C%20%27%238856a7ff%27%2C%20%27%238856a7ff%27%2C%20%27%238856a7ff%27%2C%20%27%238856a7ff%27%2C%20%27%238856a7ff%27%2C%20%27%238856a7ff%27%2C%20%27%238856a7ff%27%2C%20%27%238856a7ff%27%2C%20%27%238856a7ff%27%2C%20%27%238856a7ff%27%2C%20%27%238856a7ff%27%2C%20%27%238856a7ff%27%2C%20%27%238856a7ff%27%2C%20%27%238856a7ff%27%2C%20%27%238856a7ff%27%2C%20%27%238856a7ff%27%2C%20%27%238856a7ff%27%2C%20%27%238856a7ff%27%2C%20%27%238856a7ff%27%2C%20%27%238856a7ff%27%2C%20%27%238856a7ff%27%2C%20%27%238856a7ff%27%2C%20%27%238856a7ff%27%2C%20%27%238856a7ff%27%2C%20%27%238856a7ff%27%2C%20%27%238856a7ff%27%2C%20%27%238856a7ff%27%2C%20%27%238856a7ff%27%2C%20%27%238856a7ff%27%2C%20%27%238856a7ff%27%2C%20%27%238856a7ff%27%2C%20%27%238856a7ff%27%2C%20%27%238856a7ff%27%2C%20%27%238856a7ff%27%2C%20%27%238856a7ff%27%2C%20%27%238856a7ff%27%2C%20%27%238856a7ff%27%2C%20%27%238856a7ff%27%2C%20%27%238856a7ff%27%2C%20%27%238856a7ff%27%2C%20%27%238856a7ff%27%2C%20%27%238856a7ff%27%2C%20%27%238856a7ff%27%2C%20%27%238856a7ff%27%2C%20%27%238856a7ff%27%2C%20%27%238856a7ff%27%2C%20%27%238856a7ff%27%2C%20%27%238856a7ff%27%2C%20%27%238856a7ff%27%2C%20%27%238856a7ff%27%2C%20%27%238856a7ff%27%2C%20%27%238856a7ff%27%2C%20%27%238856a7ff%27%2C%20%27%238856a7ff%27%2C%20%27%238856a7ff%27%2C%20%27%238856a7ff%27%2C%20%27%238856a7ff%27%2C%20%27%238856a7ff%27%2C%20%27%238856a7ff%27%2C%20%27%238856a7ff%27%2C%20%27%238856a7ff%27%2C%20%27%238856a7ff%27%2C%20%27%238856a7ff%27%2C%20%27%238856a7ff%27%2C%20%27%238856a7ff%27%2C%20%27%23810f7cff%27%2C%20%27%23810f7cff%27%2C%20%27%23810f7cff%27%2C%20%27%23810f7cff%27%2C%20%27%23810f7cff%27%2C%20%27%23810f7cff%27%2C%20%27%23810f7cff%27%2C%20%27%23810f7cff%27%2C%20%27%23810f7cff%27%2C%20%27%23810f7cff%27%2C%20%27%23810f7cff%27%2C%20%27%23810f7cff%27%2C%20%27%23810f7cff%27%2C%20%27%23810f7cff%27%2C%20%27%23810f7cff%27%2C%20%27%23810f7cff%27%2C%20%27%23810f7cff%27%2C%20%27%23810f7cff%27%2C%20%27%23810f7cff%27%2C%20%27%23810f7cff%27%2C%20%27%23810f7cff%27%2C%20%27%23810f7cff%27%2C%20%27%23810f7cff%27%2C%20%27%23810f7cff%27%2C%20%27%23810f7cff%27%2C%20%27%23810f7cff%27%2C%20%27%23810f7cff%27%2C%20%27%23810f7cff%27%2C%20%27%23810f7cff%27%2C%20%27%23810f7cff%27%2C%20%27%23810f7cff%27%2C%20%27%23810f7cff%27%2C%20%27%23810f7cff%27%2C%20%27%23810f7cff%27%2C%20%27%23810f7cff%27%2C%20%27%23810f7cff%27%2C%20%27%23810f7cff%27%2C%20%27%23810f7cff%27%2C%20%27%23810f7cff%27%2C%20%27%23810f7cff%27%2C%20%27%23810f7cff%27%2C%20%27%23810f7cff%27%2C%20%27%23810f7cff%27%2C%20%27%23810f7cff%27%2C%20%27%23810f7cff%27%2C%20%27%23810f7cff%27%2C%20%27%23810f7cff%27%2C%20%27%23810f7cff%27%2C%20%27%23810f7cff%27%2C%20%27%23810f7cff%27%2C%20%27%23810f7cff%27%2C%20%27%23810f7cff%27%2C%20%27%23810f7cff%27%2C%20%27%23810f7cff%27%2C%20%27%23810f7cff%27%2C%20%27%23810f7cff%27%2C%20%27%23810f7cff%27%2C%20%27%23810f7cff%27%2C%20%27%23810f7cff%27%2C%20%27%23810f7cff%27%2C%20%27%23810f7cff%27%2C%20%27%23810f7cff%27%2C%20%27%23810f7cff%27%2C%20%27%23810f7cff%27%2C%20%27%23810f7cff%27%2C%20%27%23810f7cff%27%2C%20%27%23810f7cff%27%2C%20%27%23810f7cff%27%2C%20%27%23810f7cff%27%2C%20%27%23810f7cff%27%2C%20%27%23810f7cff%27%2C%20%27%23810f7cff%27%2C%20%27%23810f7cff%27%2C%20%27%23810f7cff%27%2C%20%27%23810f7cff%27%2C%20%27%23810f7cff%27%2C%20%27%23810f7cff%27%2C%20%27%23810f7cff%27%2C%20%27%23810f7cff%27%2C%20%27%23810f7cff%27%2C%20%27%23810f7cff%27%2C%20%27%23810f7cff%27%2C%20%27%23810f7cff%27%2C%20%27%23810f7cff%27%5D%29%3B%0A%20%20%20%20%0A%0A%20%20%20%20color_map_d89b22ba9d6e4e5ea975f00db062c0f2.x%20%3D%20d3.scale.linear%28%29%0A%20%20%20%20%20%20%20%20%20%20%20%20%20%20.domain%28%5B4.295986549076453%2C%2012.178505377543809%5D%29%0A%20%20%20%20%20%20%20%20%20%20%20%20%20%20.range%28%5B0%2C%20400%5D%29%3B%0A%0A%20%20%20%20color_map_d89b22ba9d6e4e5ea975f00db062c0f2.legend%20%3D%20L.control%28%7Bposition%3A%20%27topright%27%7D%29%3B%0A%20%20%20%20color_map_d89b22ba9d6e4e5ea975f00db062c0f2.legend.onAdd%20%3D%20function%20%28map%29%20%7Bvar%20div%20%3D%20L.DomUtil.create%28%27div%27%2C%20%27legend%27%29%3B%20return%20div%7D%3B%0A%20%20%20%20color_map_d89b22ba9d6e4e5ea975f00db062c0f2.legend.addTo%28map_6beda16bf1ac42fdb69e52d55e524322%29%3B%0A%0A%20%20%20%20color_map_d89b22ba9d6e4e5ea975f00db062c0f2.xAxis%20%3D%20d3.svg.axis%28%29%0A%20%20%20%20%20%20%20%20.scale%28color_map_d89b22ba9d6e4e5ea975f00db062c0f2.x%29%0A%20%20%20%20%20%20%20%20.orient%28%22top%22%29%0A%20%20%20%20%20%20%20%20.tickSize%281%29%0A%20%20%20%20%20%20%20%20.tickValues%28%5B4.295986549076453%2C%205.609739687154345%2C%206.923492825232238%2C%208.23724596331013%2C%209.550999101388022%2C%2010.864752239465915%2C%2012.178505377543809%5D%29%3B%0A%0A%20%20%20%20color_map_d89b22ba9d6e4e5ea975f00db062c0f2.svg%20%3D%20d3.select%28%22.legend.leaflet-control%22%29.append%28%22svg%22%29%0A%20%20%20%20%20%20%20%20.attr%28%22id%22%2C%20%27legend%27%29%0A%20%20%20%20%20%20%20%20.attr%28%22width%22%2C%20450%29%0A%20%20%20%20%20%20%20%20.attr%28%22height%22%2C%2040%29%3B%0A%0A%20%20%20%20color_map_d89b22ba9d6e4e5ea975f00db062c0f2.g%20%3D%20color_map_d89b22ba9d6e4e5ea975f00db062c0f2.svg.append%28%22g%22%29%0A%20%20%20%20%20%20%20%20.attr%28%22class%22%2C%20%22key%22%29%0A%20%20%20%20%20%20%20%20.attr%28%22transform%22%2C%20%22translate%2825%2C16%29%22%29%3B%0A%0A%20%20%20%20color_map_d89b22ba9d6e4e5ea975f00db062c0f2.g.selectAll%28%22rect%22%29%0A%20%20%20%20%20%20%20%20.data%28color_map_d89b22ba9d6e4e5ea975f00db062c0f2.color.range%28%29.map%28function%28d%2C%20i%29%20%7B%0A%20%20%20%20%20%20%20%20%20%20return%20%7B%0A%20%20%20%20%20%20%20%20%20%20%20%20x0%3A%20i%20%3F%20color_map_d89b22ba9d6e4e5ea975f00db062c0f2.x%28color_map_d89b22ba9d6e4e5ea975f00db062c0f2.color.domain%28%29%5Bi%20-%201%5D%29%20%3A%20color_map_d89b22ba9d6e4e5ea975f00db062c0f2.x.range%28%29%5B0%5D%2C%0A%20%20%20%20%20%20%20%20%20%20%20%20x1%3A%20i%20%3C%20color_map_d89b22ba9d6e4e5ea975f00db062c0f2.color.domain%28%29.length%20%3F%20color_map_d89b22ba9d6e4e5ea975f00db062c0f2.x%28color_map_d89b22ba9d6e4e5ea975f00db062c0f2.color.domain%28%29%5Bi%5D%29%20%3A%20color_map_d89b22ba9d6e4e5ea975f00db062c0f2.x.range%28%29%5B1%5D%2C%0A%20%20%20%20%20%20%20%20%20%20%20%20z%3A%20d%0A%20%20%20%20%20%20%20%20%20%20%7D%3B%0A%20%20%20%20%20%20%20%20%7D%29%29%0A%20%20%20%20%20%20.enter%28%29.append%28%22rect%22%29%0A%20%20%20%20%20%20%20%20.attr%28%22height%22%2C%2010%29%0A%20%20%20%20%20%20%20%20.attr%28%22x%22%2C%20function%28d%29%20%7B%20return%20d.x0%3B%20%7D%29%0A%20%20%20%20%20%20%20%20.attr%28%22width%22%2C%20function%28d%29%20%7B%20return%20d.x1%20-%20d.x0%3B%20%7D%29%0A%20%20%20%20%20%20%20%20.style%28%22fill%22%2C%20function%28d%29%20%7B%20return%20d.z%3B%20%7D%29%3B%0A%0A%20%20%20%20color_map_d89b22ba9d6e4e5ea975f00db062c0f2.g.call%28color_map_d89b22ba9d6e4e5ea975f00db062c0f2.xAxis%29.append%28%22text%22%29%0A%20%20%20%20%20%20%20%20.attr%28%22class%22%2C%20%22caption%22%29%0A%20%20%20%20%20%20%20%20.attr%28%22y%22%2C%2021%29%0A%20%20%20%20%20%20%20%20.text%28%27%EC%9D%B8%EA%B5%AC%EB%B3%84%20CCTV%EA%B0%AF%EC%88%98%27%29%3B%0A%3C/script%3E onload=\"this.contentDocument.open();this.contentDocument.write(    decodeURIComponent(this.getAttribute('data-html')));this.contentDocument.close();\" allowfullscreen webkitallowfullscreen mozallowfullscreen></iframe></div></div>"
            ],
            "text/plain": [
              "<folium.folium.Map at 0x7f2e5bfd3890>"
            ]
          },
          "metadata": {},
          "execution_count": 91
        }
      ]
    },
    {
      "cell_type": "code",
      "metadata": {
        "id": "n4nBi6EszRka"
      },
      "source": [
        ""
      ],
      "execution_count": null,
      "outputs": []
    }
  ]
}