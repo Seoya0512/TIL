{
 "cells": [
  {
   "cell_type": "markdown",
   "source": [
    "# 3.2 탐색적 데이터 분석 \n",
    "- 데이콘 경진대회 1등 솔루션 ch03"
   ],
   "metadata": {}
  },
  {
   "cell_type": "code",
   "execution_count": 1,
   "source": [
    "import pandas as pd"
   ],
   "outputs": [],
   "metadata": {}
  },
  {
   "cell_type": "code",
   "execution_count": 9,
   "source": [
    "# 데이터 로드\n",
    "train = pd.read_csv(\"ch03/train.csv\")\n",
    "test = pd.read_csv(\"ch03/test.csv\")\n",
    "bts=pd.read_csv(\"ch03/bus_bts.csv\")\n",
    "jeju_life = pd.read_csv(\"ch03/jeju_financial_life_data.csv\")\n",
    "weather = pd.read_csv(\"ch03/weather.csv\", encoding='cp949')\n",
    "rain = pd.read_csv(\"ch03/rain.csv\", encoding='utf-8')"
   ],
   "outputs": [],
   "metadata": {}
  },
  {
   "cell_type": "markdown",
   "source": [
    "## 3.2.1 데이터 설명 \n",
    "- train, test 데이터와 나머지 데이터들간의 공통적인 특징을 생각해보기 "
   ],
   "metadata": {}
  },
  {
   "cell_type": "code",
   "execution_count": 10,
   "source": [
    "train.head()"
   ],
   "outputs": [
    {
     "output_type": "execute_result",
     "data": {
      "text/html": [
       "<div>\n",
       "<style scoped>\n",
       "    .dataframe tbody tr th:only-of-type {\n",
       "        vertical-align: middle;\n",
       "    }\n",
       "\n",
       "    .dataframe tbody tr th {\n",
       "        vertical-align: top;\n",
       "    }\n",
       "\n",
       "    .dataframe thead th {\n",
       "        text-align: right;\n",
       "    }\n",
       "</style>\n",
       "<table border=\"1\" class=\"dataframe\">\n",
       "  <thead>\n",
       "    <tr style=\"text-align: right;\">\n",
       "      <th></th>\n",
       "      <th>id</th>\n",
       "      <th>date</th>\n",
       "      <th>bus_route_id</th>\n",
       "      <th>in_out</th>\n",
       "      <th>station_code</th>\n",
       "      <th>station_name</th>\n",
       "      <th>latitude</th>\n",
       "      <th>longitude</th>\n",
       "      <th>6~7_ride</th>\n",
       "      <th>7~8_ride</th>\n",
       "      <th>...</th>\n",
       "      <th>9~10_ride</th>\n",
       "      <th>10~11_ride</th>\n",
       "      <th>11~12_ride</th>\n",
       "      <th>6~7_takeoff</th>\n",
       "      <th>7~8_takeoff</th>\n",
       "      <th>8~9_takeoff</th>\n",
       "      <th>9~10_takeoff</th>\n",
       "      <th>10~11_takeoff</th>\n",
       "      <th>11~12_takeoff</th>\n",
       "      <th>18~20_ride</th>\n",
       "    </tr>\n",
       "  </thead>\n",
       "  <tbody>\n",
       "    <tr>\n",
       "      <th>0</th>\n",
       "      <td>0</td>\n",
       "      <td>2019-09-01</td>\n",
       "      <td>4270000</td>\n",
       "      <td>시외</td>\n",
       "      <td>344</td>\n",
       "      <td>제주썬호텔</td>\n",
       "      <td>33.48990</td>\n",
       "      <td>126.49373</td>\n",
       "      <td>0.0</td>\n",
       "      <td>1.0</td>\n",
       "      <td>...</td>\n",
       "      <td>5.0</td>\n",
       "      <td>2.0</td>\n",
       "      <td>6.0</td>\n",
       "      <td>0.0</td>\n",
       "      <td>0.0</td>\n",
       "      <td>0.0</td>\n",
       "      <td>0.0</td>\n",
       "      <td>0.0</td>\n",
       "      <td>0.0</td>\n",
       "      <td>0.0</td>\n",
       "    </tr>\n",
       "    <tr>\n",
       "      <th>1</th>\n",
       "      <td>1</td>\n",
       "      <td>2019-09-01</td>\n",
       "      <td>4270000</td>\n",
       "      <td>시외</td>\n",
       "      <td>357</td>\n",
       "      <td>한라병원</td>\n",
       "      <td>33.48944</td>\n",
       "      <td>126.48508</td>\n",
       "      <td>1.0</td>\n",
       "      <td>4.0</td>\n",
       "      <td>...</td>\n",
       "      <td>2.0</td>\n",
       "      <td>5.0</td>\n",
       "      <td>6.0</td>\n",
       "      <td>0.0</td>\n",
       "      <td>0.0</td>\n",
       "      <td>0.0</td>\n",
       "      <td>0.0</td>\n",
       "      <td>0.0</td>\n",
       "      <td>0.0</td>\n",
       "      <td>5.0</td>\n",
       "    </tr>\n",
       "    <tr>\n",
       "      <th>2</th>\n",
       "      <td>2</td>\n",
       "      <td>2019-09-01</td>\n",
       "      <td>4270000</td>\n",
       "      <td>시외</td>\n",
       "      <td>432</td>\n",
       "      <td>정존마을</td>\n",
       "      <td>33.48181</td>\n",
       "      <td>126.47352</td>\n",
       "      <td>1.0</td>\n",
       "      <td>1.0</td>\n",
       "      <td>...</td>\n",
       "      <td>2.0</td>\n",
       "      <td>0.0</td>\n",
       "      <td>0.0</td>\n",
       "      <td>0.0</td>\n",
       "      <td>0.0</td>\n",
       "      <td>0.0</td>\n",
       "      <td>0.0</td>\n",
       "      <td>0.0</td>\n",
       "      <td>0.0</td>\n",
       "      <td>2.0</td>\n",
       "    </tr>\n",
       "    <tr>\n",
       "      <th>3</th>\n",
       "      <td>3</td>\n",
       "      <td>2019-09-01</td>\n",
       "      <td>4270000</td>\n",
       "      <td>시내</td>\n",
       "      <td>1579</td>\n",
       "      <td>제주국제공항(600번)</td>\n",
       "      <td>33.50577</td>\n",
       "      <td>126.49252</td>\n",
       "      <td>0.0</td>\n",
       "      <td>17.0</td>\n",
       "      <td>...</td>\n",
       "      <td>26.0</td>\n",
       "      <td>14.0</td>\n",
       "      <td>16.0</td>\n",
       "      <td>0.0</td>\n",
       "      <td>0.0</td>\n",
       "      <td>0.0</td>\n",
       "      <td>0.0</td>\n",
       "      <td>0.0</td>\n",
       "      <td>0.0</td>\n",
       "      <td>53.0</td>\n",
       "    </tr>\n",
       "    <tr>\n",
       "      <th>4</th>\n",
       "      <td>4</td>\n",
       "      <td>2019-09-01</td>\n",
       "      <td>4270000</td>\n",
       "      <td>시내</td>\n",
       "      <td>1646</td>\n",
       "      <td>중문관광단지입구</td>\n",
       "      <td>33.25579</td>\n",
       "      <td>126.41260</td>\n",
       "      <td>0.0</td>\n",
       "      <td>0.0</td>\n",
       "      <td>...</td>\n",
       "      <td>0.0</td>\n",
       "      <td>0.0</td>\n",
       "      <td>0.0</td>\n",
       "      <td>0.0</td>\n",
       "      <td>0.0</td>\n",
       "      <td>0.0</td>\n",
       "      <td>1.0</td>\n",
       "      <td>0.0</td>\n",
       "      <td>0.0</td>\n",
       "      <td>0.0</td>\n",
       "    </tr>\n",
       "  </tbody>\n",
       "</table>\n",
       "<p>5 rows × 21 columns</p>\n",
       "</div>"
      ],
      "text/plain": [
       "   id        date  bus_route_id in_out  station_code  station_name  latitude  \\\n",
       "0   0  2019-09-01       4270000     시외           344         제주썬호텔  33.48990   \n",
       "1   1  2019-09-01       4270000     시외           357          한라병원  33.48944   \n",
       "2   2  2019-09-01       4270000     시외           432          정존마을  33.48181   \n",
       "3   3  2019-09-01       4270000     시내          1579  제주국제공항(600번)  33.50577   \n",
       "4   4  2019-09-01       4270000     시내          1646      중문관광단지입구  33.25579   \n",
       "\n",
       "   longitude  6~7_ride  7~8_ride  ...  9~10_ride  10~11_ride  11~12_ride  \\\n",
       "0  126.49373       0.0       1.0  ...        5.0         2.0         6.0   \n",
       "1  126.48508       1.0       4.0  ...        2.0         5.0         6.0   \n",
       "2  126.47352       1.0       1.0  ...        2.0         0.0         0.0   \n",
       "3  126.49252       0.0      17.0  ...       26.0        14.0        16.0   \n",
       "4  126.41260       0.0       0.0  ...        0.0         0.0         0.0   \n",
       "\n",
       "   6~7_takeoff  7~8_takeoff  8~9_takeoff  9~10_takeoff  10~11_takeoff  \\\n",
       "0          0.0          0.0          0.0           0.0            0.0   \n",
       "1          0.0          0.0          0.0           0.0            0.0   \n",
       "2          0.0          0.0          0.0           0.0            0.0   \n",
       "3          0.0          0.0          0.0           0.0            0.0   \n",
       "4          0.0          0.0          0.0           1.0            0.0   \n",
       "\n",
       "   11~12_takeoff  18~20_ride  \n",
       "0            0.0         0.0  \n",
       "1            0.0         5.0  \n",
       "2            0.0         2.0  \n",
       "3            0.0        53.0  \n",
       "4            0.0         0.0  \n",
       "\n",
       "[5 rows x 21 columns]"
      ]
     },
     "metadata": {},
     "execution_count": 10
    }
   ],
   "metadata": {}
  },
  {
   "cell_type": "code",
   "execution_count": 25,
   "source": [
    "train.info()"
   ],
   "outputs": [
    {
     "output_type": "stream",
     "name": "stdout",
     "text": [
      "<class 'pandas.core.frame.DataFrame'>\n",
      "RangeIndex: 415423 entries, 0 to 415422\n",
      "Data columns (total 21 columns):\n",
      " #   Column         Non-Null Count   Dtype  \n",
      "---  ------         --------------   -----  \n",
      " 0   id             415423 non-null  int64  \n",
      " 1   date           415423 non-null  object \n",
      " 2   bus_route_id   415423 non-null  int64  \n",
      " 3   in_out         415423 non-null  object \n",
      " 4   station_code   415423 non-null  int64  \n",
      " 5   station_name   415423 non-null  object \n",
      " 6   latitude       415423 non-null  float64\n",
      " 7   longitude      415423 non-null  float64\n",
      " 8   6~7_ride       415423 non-null  float64\n",
      " 9   7~8_ride       415423 non-null  float64\n",
      " 10  8~9_ride       415423 non-null  float64\n",
      " 11  9~10_ride      415423 non-null  float64\n",
      " 12  10~11_ride     415423 non-null  float64\n",
      " 13  11~12_ride     415423 non-null  float64\n",
      " 14  6~7_takeoff    415423 non-null  float64\n",
      " 15  7~8_takeoff    415423 non-null  float64\n",
      " 16  8~9_takeoff    415423 non-null  float64\n",
      " 17  9~10_takeoff   415423 non-null  float64\n",
      " 18  10~11_takeoff  415423 non-null  float64\n",
      " 19  11~12_takeoff  415423 non-null  float64\n",
      " 20  18~20_ride     415423 non-null  float64\n",
      "dtypes: float64(15), int64(3), object(3)\n",
      "memory usage: 66.6+ MB\n"
     ]
    }
   ],
   "metadata": {}
  },
  {
   "cell_type": "code",
   "execution_count": 12,
   "source": [
    "# bus_bts = 버스 카드별 승하차 정보 \n",
    "\n",
    "bts.head(3)"
   ],
   "outputs": [
    {
     "output_type": "execute_result",
     "data": {
      "text/html": [
       "<div>\n",
       "<style scoped>\n",
       "    .dataframe tbody tr th:only-of-type {\n",
       "        vertical-align: middle;\n",
       "    }\n",
       "\n",
       "    .dataframe tbody tr th {\n",
       "        vertical-align: top;\n",
       "    }\n",
       "\n",
       "    .dataframe thead th {\n",
       "        text-align: right;\n",
       "    }\n",
       "</style>\n",
       "<table border=\"1\" class=\"dataframe\">\n",
       "  <thead>\n",
       "    <tr style=\"text-align: right;\">\n",
       "      <th></th>\n",
       "      <th>user_card_id</th>\n",
       "      <th>bus_route_id</th>\n",
       "      <th>vhc_id</th>\n",
       "      <th>geton_date</th>\n",
       "      <th>geton_time</th>\n",
       "      <th>geton_station_code</th>\n",
       "      <th>geton_station_name</th>\n",
       "      <th>getoff_date</th>\n",
       "      <th>getoff_time</th>\n",
       "      <th>getoff_station_code</th>\n",
       "      <th>getoff_station_name</th>\n",
       "      <th>user_category</th>\n",
       "      <th>user_count</th>\n",
       "    </tr>\n",
       "  </thead>\n",
       "  <tbody>\n",
       "    <tr>\n",
       "      <th>0</th>\n",
       "      <td>1.010010e+15</td>\n",
       "      <td>23000000</td>\n",
       "      <td>149793674</td>\n",
       "      <td>2019-09-10</td>\n",
       "      <td>06:34:45</td>\n",
       "      <td>360</td>\n",
       "      <td>노형오거리</td>\n",
       "      <td>2019-09-10</td>\n",
       "      <td>07:10:31</td>\n",
       "      <td>592.0</td>\n",
       "      <td>화북초등학교</td>\n",
       "      <td>1</td>\n",
       "      <td>1</td>\n",
       "    </tr>\n",
       "    <tr>\n",
       "      <th>1</th>\n",
       "      <td>1.010010e+15</td>\n",
       "      <td>23000000</td>\n",
       "      <td>149793674</td>\n",
       "      <td>2019-09-10</td>\n",
       "      <td>06:34:58</td>\n",
       "      <td>360</td>\n",
       "      <td>노형오거리</td>\n",
       "      <td>2019-09-10</td>\n",
       "      <td>06:56:27</td>\n",
       "      <td>3273.0</td>\n",
       "      <td>고산동산(광양방면)</td>\n",
       "      <td>1</td>\n",
       "      <td>1</td>\n",
       "    </tr>\n",
       "    <tr>\n",
       "      <th>2</th>\n",
       "      <td>1.019160e+15</td>\n",
       "      <td>21420000</td>\n",
       "      <td>149793535</td>\n",
       "      <td>2019-09-10</td>\n",
       "      <td>07:19:07</td>\n",
       "      <td>2495</td>\n",
       "      <td>동광환승정류장4(제주방면)</td>\n",
       "      <td>2019-09-10</td>\n",
       "      <td>07:40:29</td>\n",
       "      <td>431.0</td>\n",
       "      <td>정존마을</td>\n",
       "      <td>4</td>\n",
       "      <td>1</td>\n",
       "    </tr>\n",
       "  </tbody>\n",
       "</table>\n",
       "</div>"
      ],
      "text/plain": [
       "   user_card_id  bus_route_id     vhc_id  geton_date geton_time  \\\n",
       "0  1.010010e+15      23000000  149793674  2019-09-10   06:34:45   \n",
       "1  1.010010e+15      23000000  149793674  2019-09-10   06:34:58   \n",
       "2  1.019160e+15      21420000  149793535  2019-09-10   07:19:07   \n",
       "\n",
       "   geton_station_code geton_station_name getoff_date getoff_time  \\\n",
       "0                 360              노형오거리  2019-09-10    07:10:31   \n",
       "1                 360              노형오거리  2019-09-10    06:56:27   \n",
       "2                2495     동광환승정류장4(제주방면)  2019-09-10    07:40:29   \n",
       "\n",
       "   getoff_station_code getoff_station_name  user_category  user_count  \n",
       "0                592.0              화북초등학교              1           1  \n",
       "1               3273.0          고산동산(광양방면)              1           1  \n",
       "2                431.0                정존마을              4           1  "
      ]
     },
     "metadata": {},
     "execution_count": 12
    }
   ],
   "metadata": {}
  },
  {
   "cell_type": "code",
   "execution_count": 13,
   "source": [
    "# 변수별 non-null의 수를 파악 \n",
    "bts.info(null_counts=True)"
   ],
   "outputs": [
    {
     "output_type": "stream",
     "name": "stderr",
     "text": [
      "<ipython-input-13-bc1115c9611d>:1: FutureWarning: null_counts is deprecated. Use show_counts instead\n",
      "  bts.info(null_counts=True)\n"
     ]
    },
    {
     "output_type": "stream",
     "name": "stdout",
     "text": [
      "<class 'pandas.core.frame.DataFrame'>\n",
      "RangeIndex: 2409414 entries, 0 to 2409413\n",
      "Data columns (total 13 columns):\n",
      " #   Column               Non-Null Count    Dtype  \n",
      "---  ------               --------------    -----  \n",
      " 0   user_card_id         2409414 non-null  float64\n",
      " 1   bus_route_id         2409414 non-null  int64  \n",
      " 2   vhc_id               2409414 non-null  int64  \n",
      " 3   geton_date           2409414 non-null  object \n",
      " 4   geton_time           2409414 non-null  object \n",
      " 5   geton_station_code   2409414 non-null  int64  \n",
      " 6   geton_station_name   2409365 non-null  object \n",
      " 7   getoff_date          1513678 non-null  object \n",
      " 8   getoff_time          1513678 non-null  object \n",
      " 9   getoff_station_code  1513678 non-null  float64\n",
      " 10  getoff_station_name  1513639 non-null  object \n",
      " 11  user_category        2409414 non-null  int64  \n",
      " 12  user_count           2409414 non-null  int64  \n",
      "dtypes: float64(2), int64(5), object(6)\n",
      "memory usage: 239.0+ MB\n"
     ]
    }
   ],
   "metadata": {}
  },
  {
   "cell_type": "code",
   "execution_count": 15,
   "source": [
    "# jeju_financial_life = 제주도의 우편번호를 단위로 구분한 제주도 지역민의 금융 생활에 대한 통계\n",
    "\n",
    "jeju_life.head(3)"
   ],
   "outputs": [
    {
     "output_type": "execute_result",
     "data": {
      "text/html": [
       "<div>\n",
       "<style scoped>\n",
       "    .dataframe tbody tr th:only-of-type {\n",
       "        vertical-align: middle;\n",
       "    }\n",
       "\n",
       "    .dataframe tbody tr th {\n",
       "        vertical-align: top;\n",
       "    }\n",
       "\n",
       "    .dataframe thead th {\n",
       "        text-align: right;\n",
       "    }\n",
       "</style>\n",
       "<table border=\"1\" class=\"dataframe\">\n",
       "  <thead>\n",
       "    <tr style=\"text-align: right;\">\n",
       "      <th></th>\n",
       "      <th>zip_cd</th>\n",
       "      <th>year_month</th>\n",
       "      <th>x_axis</th>\n",
       "      <th>y_axis</th>\n",
       "      <th>sex</th>\n",
       "      <th>age</th>\n",
       "      <th>job_majorc</th>\n",
       "      <th>job_smallc</th>\n",
       "      <th>job_public</th>\n",
       "      <th>job_profession</th>\n",
       "      <th>...</th>\n",
       "      <th>avg_debt</th>\n",
       "      <th>avg_debt_credit</th>\n",
       "      <th>avg_debt_noneb</th>\n",
       "      <th>avg_debt_mortgage</th>\n",
       "      <th>avg_debt_deposit</th>\n",
       "      <th>avg_debt_collateral</th>\n",
       "      <th>avg_credit_rat</th>\n",
       "      <th>medium_resid_rat</th>\n",
       "      <th>large_resid_rat</th>\n",
       "      <th>vehicle_own_rat</th>\n",
       "    </tr>\n",
       "  </thead>\n",
       "  <tbody>\n",
       "    <tr>\n",
       "      <th>0</th>\n",
       "      <td>63299</td>\n",
       "      <td>201902</td>\n",
       "      <td>126.565889</td>\n",
       "      <td>33.513210</td>\n",
       "      <td>1</td>\n",
       "      <td>54</td>\n",
       "      <td>0.0</td>\n",
       "      <td>0.166667</td>\n",
       "      <td>0.0</td>\n",
       "      <td>0.0</td>\n",
       "      <td>...</td>\n",
       "      <td>24285196</td>\n",
       "      <td>11419148</td>\n",
       "      <td>8863595</td>\n",
       "      <td>55550000</td>\n",
       "      <td>0</td>\n",
       "      <td>55550000</td>\n",
       "      <td>5</td>\n",
       "      <td>-999999.0</td>\n",
       "      <td>-999999.0</td>\n",
       "      <td>0.0</td>\n",
       "    </tr>\n",
       "    <tr>\n",
       "      <th>1</th>\n",
       "      <td>63560</td>\n",
       "      <td>201902</td>\n",
       "      <td>126.497121</td>\n",
       "      <td>33.247225</td>\n",
       "      <td>1</td>\n",
       "      <td>59</td>\n",
       "      <td>0.0</td>\n",
       "      <td>0.125000</td>\n",
       "      <td>0.0</td>\n",
       "      <td>0.0</td>\n",
       "      <td>...</td>\n",
       "      <td>108571077</td>\n",
       "      <td>25896955</td>\n",
       "      <td>13317443</td>\n",
       "      <td>0</td>\n",
       "      <td>200000000</td>\n",
       "      <td>74421721</td>\n",
       "      <td>4</td>\n",
       "      <td>-999999.0</td>\n",
       "      <td>-999999.0</td>\n",
       "      <td>0.0</td>\n",
       "    </tr>\n",
       "    <tr>\n",
       "      <th>2</th>\n",
       "      <td>63560</td>\n",
       "      <td>201902</td>\n",
       "      <td>126.497121</td>\n",
       "      <td>33.247225</td>\n",
       "      <td>2</td>\n",
       "      <td>49</td>\n",
       "      <td>0.0</td>\n",
       "      <td>0.250000</td>\n",
       "      <td>0.0</td>\n",
       "      <td>0.0</td>\n",
       "      <td>...</td>\n",
       "      <td>26424335</td>\n",
       "      <td>12015311</td>\n",
       "      <td>12015311</td>\n",
       "      <td>40833359</td>\n",
       "      <td>0</td>\n",
       "      <td>40833359</td>\n",
       "      <td>2</td>\n",
       "      <td>-999999.0</td>\n",
       "      <td>-999999.0</td>\n",
       "      <td>0.0</td>\n",
       "    </tr>\n",
       "  </tbody>\n",
       "</table>\n",
       "<p>3 rows × 27 columns</p>\n",
       "</div>"
      ],
      "text/plain": [
       "   zip_cd  year_month      x_axis     y_axis  sex  age  job_majorc  \\\n",
       "0   63299      201902  126.565889  33.513210    1   54         0.0   \n",
       "1   63560      201902  126.497121  33.247225    1   59         0.0   \n",
       "2   63560      201902  126.497121  33.247225    2   49         0.0   \n",
       "\n",
       "   job_smallc  job_public  job_profession  ...   avg_debt  avg_debt_credit  \\\n",
       "0    0.166667         0.0             0.0  ...   24285196         11419148   \n",
       "1    0.125000         0.0             0.0  ...  108571077         25896955   \n",
       "2    0.250000         0.0             0.0  ...   26424335         12015311   \n",
       "\n",
       "   avg_debt_noneb  avg_debt_mortgage  avg_debt_deposit  avg_debt_collateral  \\\n",
       "0         8863595           55550000                 0             55550000   \n",
       "1        13317443                  0         200000000             74421721   \n",
       "2        12015311           40833359                 0             40833359   \n",
       "\n",
       "   avg_credit_rat  medium_resid_rat  large_resid_rat  vehicle_own_rat  \n",
       "0               5         -999999.0        -999999.0              0.0  \n",
       "1               4         -999999.0        -999999.0              0.0  \n",
       "2               2         -999999.0        -999999.0              0.0  \n",
       "\n",
       "[3 rows x 27 columns]"
      ]
     },
     "metadata": {},
     "execution_count": 15
    }
   ],
   "metadata": {}
  },
  {
   "cell_type": "code",
   "execution_count": 17,
   "source": [
    "jeju_life.info()"
   ],
   "outputs": [
    {
     "output_type": "stream",
     "name": "stdout",
     "text": [
      "<class 'pandas.core.frame.DataFrame'>\n",
      "RangeIndex: 10422 entries, 0 to 10421\n",
      "Data columns (total 27 columns):\n",
      " #   Column               Non-Null Count  Dtype  \n",
      "---  ------               --------------  -----  \n",
      " 0   zip_cd               10422 non-null  int64  \n",
      " 1   year_month           10422 non-null  int64  \n",
      " 2   x_axis               10422 non-null  float64\n",
      " 3   y_axis               10422 non-null  float64\n",
      " 4   sex                  10422 non-null  int64  \n",
      " 5   age                  10422 non-null  int64  \n",
      " 6   job_majorc           10422 non-null  float64\n",
      " 7   job_smallc           10422 non-null  float64\n",
      " 8   job_public           10422 non-null  float64\n",
      " 9   job_profession       10422 non-null  float64\n",
      " 10  job_self             10422 non-null  float64\n",
      " 11  job_none             10422 non-null  float64\n",
      " 12  job_other            10422 non-null  float64\n",
      " 13  avg_income           10422 non-null  int64  \n",
      " 14  med_income           10422 non-null  int64  \n",
      " 15  avg_spend            10422 non-null  int64  \n",
      " 16  avg_foreign_spend    10422 non-null  int64  \n",
      " 17  avg_debt             10422 non-null  int64  \n",
      " 18  avg_debt_credit      10422 non-null  int64  \n",
      " 19  avg_debt_noneb       10422 non-null  int64  \n",
      " 20  avg_debt_mortgage    10422 non-null  int64  \n",
      " 21  avg_debt_deposit     10422 non-null  int64  \n",
      " 22  avg_debt_collateral  10422 non-null  int64  \n",
      " 23  avg_credit_rat       10422 non-null  int64  \n",
      " 24  medium_resid_rat     10422 non-null  float64\n",
      " 25  large_resid_rat      10422 non-null  float64\n",
      " 26  vehicle_own_rat      10422 non-null  float64\n",
      "dtypes: float64(12), int64(15)\n",
      "memory usage: 2.1 MB\n"
     ]
    }
   ],
   "metadata": {}
  },
  {
   "cell_type": "code",
   "execution_count": 18,
   "source": [
    "# weather = 9월 1일부터 30일까지 제주도 전체 오전 10시의 기상 정보 데이터\n",
    "\n",
    "weather.head(3)"
   ],
   "outputs": [
    {
     "output_type": "execute_result",
     "data": {
      "text/html": [
       "<div>\n",
       "<style scoped>\n",
       "    .dataframe tbody tr th:only-of-type {\n",
       "        vertical-align: middle;\n",
       "    }\n",
       "\n",
       "    .dataframe tbody tr th {\n",
       "        vertical-align: top;\n",
       "    }\n",
       "\n",
       "    .dataframe thead th {\n",
       "        text-align: right;\n",
       "    }\n",
       "</style>\n",
       "<table border=\"1\" class=\"dataframe\">\n",
       "  <thead>\n",
       "    <tr style=\"text-align: right;\">\n",
       "      <th></th>\n",
       "      <th>날짜</th>\n",
       "      <th>현재일기</th>\n",
       "      <th>현재기온</th>\n",
       "      <th>체감온도</th>\n",
       "      <th>일강수</th>\n",
       "    </tr>\n",
       "  </thead>\n",
       "  <tbody>\n",
       "    <tr>\n",
       "      <th>0</th>\n",
       "      <td>2019-09-01</td>\n",
       "      <td>흐림</td>\n",
       "      <td>26.2</td>\n",
       "      <td>75.0</td>\n",
       "      <td>0</td>\n",
       "    </tr>\n",
       "    <tr>\n",
       "      <th>1</th>\n",
       "      <td>2019-09-02</td>\n",
       "      <td>비 끝남</td>\n",
       "      <td>22.5</td>\n",
       "      <td>72.0</td>\n",
       "      <td>25.7</td>\n",
       "    </tr>\n",
       "    <tr>\n",
       "      <th>2</th>\n",
       "      <td>2019-09-03</td>\n",
       "      <td>흐림</td>\n",
       "      <td>25.4</td>\n",
       "      <td>77.0</td>\n",
       "      <td>12.1</td>\n",
       "    </tr>\n",
       "  </tbody>\n",
       "</table>\n",
       "</div>"
      ],
      "text/plain": [
       "           날짜  현재일기  현재기온  체감온도   일강수\n",
       "0  2019-09-01    흐림  26.2  75.0     0\n",
       "1  2019-09-02  비 끝남  22.5  72.0  25.7\n",
       "2  2019-09-03    흐림  25.4  77.0  12.1"
      ]
     },
     "metadata": {},
     "execution_count": 18
    }
   ],
   "metadata": {}
  },
  {
   "cell_type": "code",
   "execution_count": 19,
   "source": [
    "weather.info()"
   ],
   "outputs": [
    {
     "output_type": "stream",
     "name": "stdout",
     "text": [
      "<class 'pandas.core.frame.DataFrame'>\n",
      "RangeIndex: 46 entries, 0 to 45\n",
      "Data columns (total 5 columns):\n",
      " #   Column  Non-Null Count  Dtype  \n",
      "---  ------  --------------  -----  \n",
      " 0   날짜      46 non-null     object \n",
      " 1   현재일기    46 non-null     object \n",
      " 2   현재기온    46 non-null     float64\n",
      " 3   체감온도    46 non-null     float64\n",
      " 4   일강수     46 non-null     object \n",
      "dtypes: float64(2), object(3)\n",
      "memory usage: 1.9+ KB\n"
     ]
    }
   ],
   "metadata": {}
  },
  {
   "cell_type": "code",
   "execution_count": 20,
   "source": [
    "# rain = 9월 1일 부터 30일까지 고산, 서귀포, 제주, 성상 지점별 오전 6~11시 평균 기상 정보 데이터\n",
    "rain.head()"
   ],
   "outputs": [
    {
     "output_type": "execute_result",
     "data": {
      "text/html": [
       "<div>\n",
       "<style scoped>\n",
       "    .dataframe tbody tr th:only-of-type {\n",
       "        vertical-align: middle;\n",
       "    }\n",
       "\n",
       "    .dataframe tbody tr th {\n",
       "        vertical-align: top;\n",
       "    }\n",
       "\n",
       "    .dataframe thead th {\n",
       "        text-align: right;\n",
       "    }\n",
       "</style>\n",
       "<table border=\"1\" class=\"dataframe\">\n",
       "  <thead>\n",
       "    <tr style=\"text-align: right;\">\n",
       "      <th></th>\n",
       "      <th>지점</th>\n",
       "      <th>일시</th>\n",
       "      <th>기온(°C)</th>\n",
       "      <th>강수량(mm)</th>\n",
       "    </tr>\n",
       "  </thead>\n",
       "  <tbody>\n",
       "    <tr>\n",
       "      <th>0</th>\n",
       "      <td>gosan</td>\n",
       "      <td>2019-09-01</td>\n",
       "      <td>23.916667</td>\n",
       "      <td>0.00</td>\n",
       "    </tr>\n",
       "    <tr>\n",
       "      <th>1</th>\n",
       "      <td>gosan</td>\n",
       "      <td>2019-09-02</td>\n",
       "      <td>23.700000</td>\n",
       "      <td>12.10</td>\n",
       "    </tr>\n",
       "    <tr>\n",
       "      <th>2</th>\n",
       "      <td>gosan</td>\n",
       "      <td>2019-09-03</td>\n",
       "      <td>23.550000</td>\n",
       "      <td>1.90</td>\n",
       "    </tr>\n",
       "    <tr>\n",
       "      <th>3</th>\n",
       "      <td>gosan</td>\n",
       "      <td>2019-09-04</td>\n",
       "      <td>23.533333</td>\n",
       "      <td>12.84</td>\n",
       "    </tr>\n",
       "    <tr>\n",
       "      <th>4</th>\n",
       "      <td>gosan</td>\n",
       "      <td>2019-09-05</td>\n",
       "      <td>26.033333</td>\n",
       "      <td>0.00</td>\n",
       "    </tr>\n",
       "  </tbody>\n",
       "</table>\n",
       "</div>"
      ],
      "text/plain": [
       "      지점          일시     기온(°C)  강수량(mm)\n",
       "0  gosan  2019-09-01  23.916667     0.00\n",
       "1  gosan  2019-09-02  23.700000    12.10\n",
       "2  gosan  2019-09-03  23.550000     1.90\n",
       "3  gosan  2019-09-04  23.533333    12.84\n",
       "4  gosan  2019-09-05  26.033333     0.00"
      ]
     },
     "metadata": {},
     "execution_count": 20
    }
   ],
   "metadata": {}
  },
  {
   "cell_type": "code",
   "execution_count": 21,
   "source": [
    "rain.info()"
   ],
   "outputs": [
    {
     "output_type": "stream",
     "name": "stdout",
     "text": [
      "<class 'pandas.core.frame.DataFrame'>\n",
      "RangeIndex: 184 entries, 0 to 183\n",
      "Data columns (total 4 columns):\n",
      " #   Column   Non-Null Count  Dtype  \n",
      "---  ------   --------------  -----  \n",
      " 0   지점       184 non-null    object \n",
      " 1   일시       184 non-null    object \n",
      " 2   기온(°C)   184 non-null    float64\n",
      " 3   강수량(mm)  66 non-null     float64\n",
      "dtypes: float64(2), object(2)\n",
      "memory usage: 5.9+ KB\n"
     ]
    }
   ],
   "metadata": {}
  },
  {
   "cell_type": "markdown",
   "source": [
    "## 3.2.2 데이터 시각화를 통한 탐색적 데이터 분석 \n",
    "- 데이터 시각화와 통계적 기법을 사용해 주어진 데이터를 탐색 \n",
    "    - 데이터의 분포와 패턴을 확인가능, 문제점을 발견해 새로운 가설 설정 가능"
   ],
   "metadata": {}
  },
  {
   "cell_type": "code",
   "execution_count": 22,
   "source": [
    "import matplotlib\n",
    "import matplotlib.pyplot as plt\n",
    "import seaborn as sns\n",
    "\n",
    "# 내부에 결과를 출력하도록 설정 \n",
    "%matplotlib inline\n",
    "\n",
    "# 시각화 한글 폰트 설정 \n",
    "plt.rc('font', family='AppleGothic')\n",
    "\n",
    "# 마이너스 기호 출력 \n",
    "plt.rc('axes', unicode_minus = False)\n",
    "\n",
    "# 부석에 문제가 없는 경고 메시지는 숨김 \n",
    "import warnings\n",
    "warnings.filterwarnings('ignore')"
   ],
   "outputs": [],
   "metadata": {}
  },
  {
   "cell_type": "markdown",
   "source": [
    "* 원 데이터 훼손을 막기 위해 데이터 시각화에는 학습 데이터의 복사본 사용 "
   ],
   "metadata": {}
  },
  {
   "cell_type": "code",
   "execution_count": 23,
   "source": [
    "# 복사본 생성 \n",
    "traindata = train.copy()"
   ],
   "outputs": [],
   "metadata": {}
  },
  {
   "cell_type": "markdown",
   "source": [
    "* 타깃변수(퇴근시간 승차인원)의 분포 확인하기 \n",
    "    - 값이 특정 구간에 치우쳐 있는지와 분포 범위를 확인하기 "
   ],
   "metadata": {}
  },
  {
   "cell_type": "code",
   "execution_count": 24,
   "source": [
    "# 단변수(하나의 변수) 데이터의 분포를 확인할 때 distplot()함수를 이용 \n",
    "# kde =False 는 커널 밀도 그래프를 표시하지 않는다.\n",
    "\n",
    "sns.displot(traindata['18~20_ride'], kde=False, bins=50)\n",
    "plt.axis([0,50,0,450000])           # [x축 최솟값, x축 최댓값, y축 최솟값, y축 최댓값]\n",
    "plt.title('퇴근 시간 승차 인원 히스토그램')\n",
    "plt.show()"
   ],
   "outputs": [
    {
     "output_type": "display_data",
     "data": {
      "image/png": "[encoded data removed]",
      "text/plain": [
       "<Figure size 360x360 with 1 Axes>"
      ]
     },
     "metadata": {
      "needs_background": "light"
     }
    }
   ],
   "metadata": {}
  },
  {
   "cell_type": "markdown",
   "source": [
    "히스토그램 분석 결과 \n",
    "- 왼쪽으로 치우쳐져 있으며, 승차인원 0~5명인 구간에 대부분 값이 존재\n",
    "- 0~5에 얼마나 분포 되어 있는지확인 "
   ],
   "metadata": {}
  },
  {
   "cell_type": "code",
   "execution_count": 27,
   "source": [
    "# 타깃변수(퇴근시간 승차인원)분포 확인 \n",
    "traindata.groupby('18~20_ride').size().head(6)"
   ],
   "outputs": [
    {
     "output_type": "execute_result",
     "data": {
      "text/plain": [
       "18~20_ride\n",
       "0.0    296528\n",
       "1.0     44268\n",
       "2.0     23752\n",
       "3.0     13560\n",
       "4.0      8630\n",
       "5.0      5911\n",
       "dtype: int64"
      ]
     },
     "metadata": {},
     "execution_count": 27
    }
   ],
   "metadata": {}
  },
  {
   "cell_type": "markdown",
   "source": [
    "* 요일에 따른 퇴근시간 평균 탑승객 수"
   ],
   "metadata": {}
  },
  {
   "cell_type": "code",
   "execution_count": 29,
   "source": [
    "# 날짜 형으로 변환 \n",
    "traindata['date'] = pd.to_datetime(traindata['date'])\n",
    "\n",
    "# 요일을 문자형으로 추출해 변수 생성 \n",
    "# 월요일 - Mon 형태로 변형 \n",
    "traindata['weekday']=traindata['date'].dt.strftime('%a')\n",
    "\n",
    "traindata.head(3)"
   ],
   "outputs": [
    {
     "output_type": "execute_result",
     "data": {
      "text/html": [
       "<div>\n",
       "<style scoped>\n",
       "    .dataframe tbody tr th:only-of-type {\n",
       "        vertical-align: middle;\n",
       "    }\n",
       "\n",
       "    .dataframe tbody tr th {\n",
       "        vertical-align: top;\n",
       "    }\n",
       "\n",
       "    .dataframe thead th {\n",
       "        text-align: right;\n",
       "    }\n",
       "</style>\n",
       "<table border=\"1\" class=\"dataframe\">\n",
       "  <thead>\n",
       "    <tr style=\"text-align: right;\">\n",
       "      <th></th>\n",
       "      <th>id</th>\n",
       "      <th>date</th>\n",
       "      <th>bus_route_id</th>\n",
       "      <th>in_out</th>\n",
       "      <th>station_code</th>\n",
       "      <th>station_name</th>\n",
       "      <th>latitude</th>\n",
       "      <th>longitude</th>\n",
       "      <th>6~7_ride</th>\n",
       "      <th>7~8_ride</th>\n",
       "      <th>...</th>\n",
       "      <th>10~11_ride</th>\n",
       "      <th>11~12_ride</th>\n",
       "      <th>6~7_takeoff</th>\n",
       "      <th>7~8_takeoff</th>\n",
       "      <th>8~9_takeoff</th>\n",
       "      <th>9~10_takeoff</th>\n",
       "      <th>10~11_takeoff</th>\n",
       "      <th>11~12_takeoff</th>\n",
       "      <th>18~20_ride</th>\n",
       "      <th>weekday</th>\n",
       "    </tr>\n",
       "  </thead>\n",
       "  <tbody>\n",
       "    <tr>\n",
       "      <th>0</th>\n",
       "      <td>0</td>\n",
       "      <td>2019-09-01</td>\n",
       "      <td>4270000</td>\n",
       "      <td>시외</td>\n",
       "      <td>344</td>\n",
       "      <td>제주썬호텔</td>\n",
       "      <td>33.48990</td>\n",
       "      <td>126.49373</td>\n",
       "      <td>0.0</td>\n",
       "      <td>1.0</td>\n",
       "      <td>...</td>\n",
       "      <td>2.0</td>\n",
       "      <td>6.0</td>\n",
       "      <td>0.0</td>\n",
       "      <td>0.0</td>\n",
       "      <td>0.0</td>\n",
       "      <td>0.0</td>\n",
       "      <td>0.0</td>\n",
       "      <td>0.0</td>\n",
       "      <td>0.0</td>\n",
       "      <td>Sun</td>\n",
       "    </tr>\n",
       "    <tr>\n",
       "      <th>1</th>\n",
       "      <td>1</td>\n",
       "      <td>2019-09-01</td>\n",
       "      <td>4270000</td>\n",
       "      <td>시외</td>\n",
       "      <td>357</td>\n",
       "      <td>한라병원</td>\n",
       "      <td>33.48944</td>\n",
       "      <td>126.48508</td>\n",
       "      <td>1.0</td>\n",
       "      <td>4.0</td>\n",
       "      <td>...</td>\n",
       "      <td>5.0</td>\n",
       "      <td>6.0</td>\n",
       "      <td>0.0</td>\n",
       "      <td>0.0</td>\n",
       "      <td>0.0</td>\n",
       "      <td>0.0</td>\n",
       "      <td>0.0</td>\n",
       "      <td>0.0</td>\n",
       "      <td>5.0</td>\n",
       "      <td>Sun</td>\n",
       "    </tr>\n",
       "    <tr>\n",
       "      <th>2</th>\n",
       "      <td>2</td>\n",
       "      <td>2019-09-01</td>\n",
       "      <td>4270000</td>\n",
       "      <td>시외</td>\n",
       "      <td>432</td>\n",
       "      <td>정존마을</td>\n",
       "      <td>33.48181</td>\n",
       "      <td>126.47352</td>\n",
       "      <td>1.0</td>\n",
       "      <td>1.0</td>\n",
       "      <td>...</td>\n",
       "      <td>0.0</td>\n",
       "      <td>0.0</td>\n",
       "      <td>0.0</td>\n",
       "      <td>0.0</td>\n",
       "      <td>0.0</td>\n",
       "      <td>0.0</td>\n",
       "      <td>0.0</td>\n",
       "      <td>0.0</td>\n",
       "      <td>2.0</td>\n",
       "      <td>Sun</td>\n",
       "    </tr>\n",
       "  </tbody>\n",
       "</table>\n",
       "<p>3 rows × 22 columns</p>\n",
       "</div>"
      ],
      "text/plain": [
       "   id       date  bus_route_id in_out  station_code station_name  latitude  \\\n",
       "0   0 2019-09-01       4270000     시외           344        제주썬호텔  33.48990   \n",
       "1   1 2019-09-01       4270000     시외           357         한라병원  33.48944   \n",
       "2   2 2019-09-01       4270000     시외           432         정존마을  33.48181   \n",
       "\n",
       "   longitude  6~7_ride  7~8_ride  ...  10~11_ride  11~12_ride  6~7_takeoff  \\\n",
       "0  126.49373       0.0       1.0  ...         2.0         6.0          0.0   \n",
       "1  126.48508       1.0       4.0  ...         5.0         6.0          0.0   \n",
       "2  126.47352       1.0       1.0  ...         0.0         0.0          0.0   \n",
       "\n",
       "   7~8_takeoff  8~9_takeoff  9~10_takeoff  10~11_takeoff  11~12_takeoff  \\\n",
       "0          0.0          0.0           0.0            0.0            0.0   \n",
       "1          0.0          0.0           0.0            0.0            0.0   \n",
       "2          0.0          0.0           0.0            0.0            0.0   \n",
       "\n",
       "   18~20_ride  weekday  \n",
       "0         0.0      Sun  \n",
       "1         5.0      Sun  \n",
       "2         2.0      Sun  \n",
       "\n",
       "[3 rows x 22 columns]"
      ]
     },
     "metadata": {},
     "execution_count": 29
    }
   ],
   "metadata": {}
  },
  {
   "cell_type": "code",
   "execution_count": 30,
   "source": [
    "# 요일별 퇴근시간 평균 탑승객 수 시각화 \n",
    "\n",
    "sns.barplot(x='weekday', y=\"18~20_ride\", data=traindata)\n",
    "plt.title(\"요일에 따른 퇴근시간 평균 탑승객 수\")\n",
    "plt.show()"
   ],
   "outputs": [
    {
     "output_type": "display_data",
     "data": {
      "image/png": "[encoded data removed]",
      "text/plain": [
       "<Figure size 432x288 with 1 Axes>"
      ]
     },
     "metadata": {
      "needs_background": "light"
     }
    }
   ],
   "metadata": {}
  },
  {
   "cell_type": "markdown",
   "source": [
    "결과 : 월요일 부터 수요일까지 퇴근시간 승차인원이 점차 증가하다가 수요일 이후로는 점점 감소 "
   ],
   "metadata": {}
  },
  {
   "cell_type": "markdown",
   "source": [
    "* 버스 종류에 따른 탑승객 수\n",
    "    - 시내버스와 시외버스 종류에 따른 퇴근시간 승차 인원수 변화 확인 "
   ],
   "metadata": {}
  },
  {
   "cell_type": "code",
   "execution_count": 32,
   "source": [
    "sns.barplot(x=\"in_out\", y=\"18~20_ride\", data=traindata)\n",
    "plt.title(\"버스 종류에 따른 평균 탑승객 수\")\n",
    "plt.show()"
   ],
   "outputs": [
    {
     "output_type": "display_data",
     "data": {
      "image/png": "[encoded data removed]",
      "text/plain": [
       "<Figure size 432x288 with 1 Axes>"
      ]
     },
     "metadata": {
      "needs_background": "light"
     }
    }
   ],
   "metadata": {}
  },
  {
   "cell_type": "markdown",
   "source": [
    "결과 : 퇴근 시간에 버스를 이용하는 사람 수에 차이가 있음 "
   ],
   "metadata": {}
  },
  {
   "cell_type": "markdown",
   "source": [
    "* 일별 출퇴근 시간 탑승객 수 \n",
    "    - 출퇴근 시간 (8~9, 9~10) 데이터를 합쳐야함 "
   ],
   "metadata": {}
  },
  {
   "cell_type": "code",
   "execution_count": 34,
   "source": [
    "traindata['8~10_ride']=traindata['8~9_ride']+traindata['9~10_ride']\n",
    "eda_data = traindata.groupby('date')[['18~20_ride','8~10_ride']].agg('sum').reset_index()\n",
    "\n",
    "eda_data.head()"
   ],
   "outputs": [
    {
     "output_type": "execute_result",
     "data": {
      "text/html": [
       "<div>\n",
       "<style scoped>\n",
       "    .dataframe tbody tr th:only-of-type {\n",
       "        vertical-align: middle;\n",
       "    }\n",
       "\n",
       "    .dataframe tbody tr th {\n",
       "        vertical-align: top;\n",
       "    }\n",
       "\n",
       "    .dataframe thead th {\n",
       "        text-align: right;\n",
       "    }\n",
       "</style>\n",
       "<table border=\"1\" class=\"dataframe\">\n",
       "  <thead>\n",
       "    <tr style=\"text-align: right;\">\n",
       "      <th></th>\n",
       "      <th>date</th>\n",
       "      <th>18~20_ride</th>\n",
       "      <th>8~10_ride</th>\n",
       "    </tr>\n",
       "  </thead>\n",
       "  <tbody>\n",
       "    <tr>\n",
       "      <th>0</th>\n",
       "      <td>2019-09-01</td>\n",
       "      <td>11537.0</td>\n",
       "      <td>11957.0</td>\n",
       "    </tr>\n",
       "    <tr>\n",
       "      <th>1</th>\n",
       "      <td>2019-09-02</td>\n",
       "      <td>20561.0</td>\n",
       "      <td>21844.0</td>\n",
       "    </tr>\n",
       "    <tr>\n",
       "      <th>2</th>\n",
       "      <td>2019-09-03</td>\n",
       "      <td>19743.0</td>\n",
       "      <td>25756.0</td>\n",
       "    </tr>\n",
       "    <tr>\n",
       "      <th>3</th>\n",
       "      <td>2019-09-04</td>\n",
       "      <td>20133.0</td>\n",
       "      <td>21472.0</td>\n",
       "    </tr>\n",
       "    <tr>\n",
       "      <th>4</th>\n",
       "      <td>2019-09-05</td>\n",
       "      <td>20392.0</td>\n",
       "      <td>26331.0</td>\n",
       "    </tr>\n",
       "  </tbody>\n",
       "</table>\n",
       "</div>"
      ],
      "text/plain": [
       "        date  18~20_ride  8~10_ride\n",
       "0 2019-09-01     11537.0    11957.0\n",
       "1 2019-09-02     20561.0    21844.0\n",
       "2 2019-09-03     19743.0    25756.0\n",
       "3 2019-09-04     20133.0    21472.0\n",
       "4 2019-09-05     20392.0    26331.0"
      ]
     },
     "metadata": {},
     "execution_count": 34
    }
   ],
   "metadata": {}
  },
  {
   "cell_type": "code",
   "execution_count": 37,
   "source": [
    "# 일별 출 퇴근 시간 탑승객 수 시각화 \n",
    "\n",
    "plt.plot('date', '18~20_ride', 'g-', label='퇴근 시간 탑승객 수', data=eda_data)\n",
    "plt.plot('date', '8~10_ride', 'b-', label='출근 시간 탑승객 수', data=eda_data)\n",
    "\n",
    "# X축 라벨이 서로 겹치지 않도록 설정 \n",
    "plt.gcf().autofmt_xdate()\n",
    "# 그래프 상에서 최적의 위치에 범례 표시 \n",
    "plt.legend(loc=0)\n",
    "plt.title('일별 출퇴근 시간 탑승객 수')\n",
    "plt.show()\n"
   ],
   "outputs": [
    {
     "output_type": "display_data",
     "data": {
      "image/png": "[encoded data removed]",
      "text/plain": [
       "<Figure size 432x288 with 1 Axes>"
      ]
     },
     "metadata": {
      "needs_background": "light"
     }
    }
   ],
   "metadata": {}
  },
  {
   "cell_type": "markdown",
   "source": [
    "분석 결과 :출,퇴근 시간 탑승객 현황은 비슷한 패턴을 보여준다. 출근 시간 탑승객 수가 퇴근시간 탑승객보다 더 많다. "
   ],
   "metadata": {}
  },
  {
   "cell_type": "code",
   "execution_count": null,
   "source": [],
   "outputs": [],
   "metadata": {}
  }
 ],
 "metadata": {
  "orig_nbformat": 4,
  "language_info": {
   "name": "python",
   "version": "3.8.11",
   "mimetype": "text/x-python",
   "codemirror_mode": {
    "name": "ipython",
    "version": 3
   },
   "pygments_lexer": "ipython3",
   "nbconvert_exporter": "python",
   "file_extension": ".py"
  },
  "kernelspec": {
   "name": "python3",
   "display_name": "Python 3.8.11 64-bit ('base': conda)"
  },
  "interpreter": {
   "hash": "59aa76eec713a2e656bb9d4ddb5f36b21f3d4006b36f877fc5669415524b1415"
  }
 },
 "nbformat": 4,
 "nbformat_minor": 2
}