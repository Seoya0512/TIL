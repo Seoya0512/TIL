{
 "cells": [
  {
   "cell_type": "markdown",
   "metadata": {},
   "source": [
    "문제 출처 : https://programmers.co.kr/learn/courses/30/lessons/72410"
   ]
  },
  {
   "cell_type": "markdown",
   "metadata": {},
   "source": [
    "### 내가 푼 문제 방식 \n",
    "- text 5개 문제해결\n",
    "- 정확성 80.8 % 😅"
   ]
  },
  {
   "cell_type": "code",
   "execution_count": 87,
   "metadata": {},
   "outputs": [],
   "source": [
    "import re \n",
    "\n",
    "def solution(new_id):\n",
    "    answer = ''\n",
    "    # 1단계 소문자 치환\n",
    "    answer = new_id.lower()\n",
    "\n",
    "    #2단계 제거\n",
    "    answer = re.sub(r'[^a-z0-9-_.]', '', answer)\n",
    "\n",
    "    #3단계 . 압축\n",
    "    while '..' in answer:\n",
    "            answer = answer.replace('..', '.')\n",
    "\n",
    "    #4단계 양끝 . 제거\n",
    "    if answer[0] == '.':\n",
    "        answer = answer.lstrip('.')\n",
    "    elif answer[-1] == '.':\n",
    "        answer = answer[:-1]\n",
    "    \n",
    "    if answer == '':\n",
    "        answer = 'a' \n",
    "\n",
    "    if len(answer) >= 16:\n",
    "        answer = answer[:15]\n",
    "        if answer[-1] == '.':\n",
    "            answer = answer[:-1]\n",
    "\n",
    "    \n",
    "    if len(answer) <= 2: \n",
    "        while True:\n",
    "            answer += answer[-1]\n",
    "            if len(answer) == 3:\n",
    "                break  \n",
    "            \n",
    "    return answer"
   ]
  },
  {
   "cell_type": "markdown",
   "metadata": {},
   "source": [
    "### 2차시기 : 남의 코드 참고해서 수정 \n",
    "- 결과 : 100 점!!! \n",
    "    - strip 사용법을 까먹지 말자\n",
    "    - while 구문을 조금더 융통성 있게 사용하자 "
   ]
  },
  {
   "cell_type": "code",
   "execution_count": 106,
   "metadata": {},
   "outputs": [],
   "source": [
    "# 코드 참고해서 수정 \n",
    "import re \n",
    "\n",
    "def solution(new_id):\n",
    "    answer = ''\n",
    "    # 1단계 소문자 치환\n",
    "    answer = new_id.lower()\n",
    "\n",
    "    #2단계 제거\n",
    "    answer = re.sub(r'[^a-z0-9-_.]', '', answer)\n",
    "\n",
    "    #3단계 . 압축\n",
    "    while '..' in answer:\n",
    "            answer = answer.replace('..', '.')\n",
    "\n",
    "    #4단계 양끝 . 제거\n",
    "    answer = answer.strip('.')\n",
    "    \n",
    "    #5단계 빈문자열 a 추가\n",
    "    if answer == '': answer = 'a' \n",
    "\n",
    "    #6단계 15개제외하고 문자모두제거\n",
    "    if len(answer) >= 16:\n",
    "        answer = answer[:15]\n",
    "        answer = answer.rstrip('.')\n",
    "    \n",
    "    # 7단계 \n",
    "    if len(answer) <= 2: \n",
    "        while len(answer) < 3:\n",
    "            answer += answer[-1]  \n",
    "            \n",
    "    return answer"
   ]
  },
  {
   "cell_type": "markdown",
   "metadata": {},
   "source": [
    "### 대단하신 분 코드 공부 👍\n",
    "- 출처: https://imksh.com/55 [강승현입니다]\n",
    "\n",
    "나와 다른 문제풀이 방식 \n",
    "\n",
    "- 좌/우측 특정 문자 제거\n",
    "    - strip(): 좌/우측 특정 문자 또는 공백 제거\n",
    "    - lstrip() : 왼쪽 \n",
    "    - rstrip() : 오른쪽\n",
    "\n",
    "✅ 이번 문제에서는 .을 제거하는 것이므로 strip('.')과 같이 사용할 수 있었습니다.\n",
    "\n",
    "- 치환 및 제거\n",
    "    - 정규표현식에 해당하는 문자들을 치환, 제거하기위해 re.sub 함수를 사용했습니다.\n",
    "\n"
   ]
  },
  {
   "cell_type": "code",
   "execution_count": 105,
   "metadata": {},
   "outputs": [],
   "source": [
    "import re \n",
    "\n",
    "def solution(new_id):\n",
    "    answer=''\n",
    "    # 1단계 : 소문자 제거 \n",
    "    new_id= new_id.lower()\n",
    "\n",
    "    # 2단계 : 제거 \n",
    "    lv2 = re.compile('[0-9a-z_.-]+')            # 정규표현식으로 출력\n",
    "    new_id = lv2.findall(new_id)\n",
    "    new_id = ''.join(new_id)\n",
    "\n",
    "    # 3단계 압축 \n",
    "    while '..' in new_id:\n",
    "            new_id = new_id.replace('..', '.')\n",
    "\n",
    "    # 4단계 : 양끝 . 제거 \n",
    "    new_id = new_id.strip('.')\n",
    "    \n",
    "    # 5단계 : 빈문자열 a 추가\n",
    "    if new_id == '': \n",
    "        new_id += 'a' \n",
    "\n",
    "    # 6단계 : 15개 제외하고 문자 모두 제거  + 우측 . 제러\n",
    "    if len(new_id) >= 16:\n",
    "        new_id = new_id[:15]\n",
    "        new_id = new_id.rstrip('.')\n",
    "    \n",
    "    # 7단계 \n",
    "    if len(new_id) <= 2: \n",
    "        idSize = len(new_id)\n",
    "        addchar = new_id[idSize-1:]\n",
    "        while len(new_id) < 3:\n",
    "            new_id += addchar\n",
    "\n",
    "    answer = new_id \n",
    "    return answer"
   ]
  },
  {
   "cell_type": "code",
   "execution_count": 104,
   "metadata": {},
   "outputs": [],
   "source": [
    "import re \n",
    "def solution(new_id):\n",
    "    # 1 단계 2단계 같이 \n",
    "    answer = re.sub('[^0-9a-z_.\\-]+','',new_id.lower())\n",
    "\n",
    "    # 3 단계 \n",
    "    # \\ : 이스케이프 (\\와 함께 사용하면 일반 문자로 인식한다)\n",
    "    answer = re.sub('\\.\\.+','.',answer)\n",
    "\n",
    "    # 4단계 \n",
    "    answer = answer.strip('.')\n",
    "\n",
    "    # 5단계\n",
    "    if answer =='': answer='a'\n",
    "\n",
    "    # 6단계 \n",
    "    answer = answer[:15].rstrip('.')\n",
    "\n",
    "    #7단계 \n",
    "    answer += answer[-1]*(3-len(answer))\n",
    "\n",
    "    return answer\n"
   ]
  },
  {
   "cell_type": "code",
   "execution_count": 97,
   "metadata": {},
   "outputs": [
    {
     "data": {
      "text/plain": [
       "'bat.y.abcdefghi'"
      ]
     },
     "execution_count": 97,
     "metadata": {},
     "output_type": "execute_result"
    }
   ],
   "source": [
    "# 입출력 예시 1 \n",
    "new_id = \"...!@BaT#*..y.abcdefghijklm\" \n",
    "solution(new_id)"
   ]
  },
  {
   "cell_type": "code",
   "execution_count": 98,
   "metadata": {},
   "outputs": [
    {
     "data": {
      "text/plain": [
       "'z--'"
      ]
     },
     "execution_count": 98,
     "metadata": {},
     "output_type": "execute_result"
    }
   ],
   "source": [
    "# 입출력 예시 2 \n",
    "new_id = \"z-+.^.\"\n",
    "solution(new_id)"
   ]
  },
  {
   "cell_type": "code",
   "execution_count": 99,
   "metadata": {},
   "outputs": [
    {
     "data": {
      "text/plain": [
       "'aaa'"
      ]
     },
     "execution_count": 99,
     "metadata": {},
     "output_type": "execute_result"
    }
   ],
   "source": [
    "# 입출력 예시 3\n",
    "new_id = \"=.=\"\n",
    "solution(new_id)"
   ]
  },
  {
   "cell_type": "code",
   "execution_count": 100,
   "metadata": {},
   "outputs": [
    {
     "data": {
      "text/plain": [
       "'123_.def'"
      ]
     },
     "execution_count": 100,
     "metadata": {},
     "output_type": "execute_result"
    }
   ],
   "source": [
    "# 입출력 예시 4\n",
    "new_id= \"123_.def\"\n",
    "solution(new_id)"
   ]
  },
  {
   "cell_type": "code",
   "execution_count": 101,
   "metadata": {},
   "outputs": [
    {
     "data": {
      "text/plain": [
       "'abcdefghijklmn'"
      ]
     },
     "execution_count": 101,
     "metadata": {},
     "output_type": "execute_result"
    }
   ],
   "source": [
    "# 입출력 예시 5\n",
    "new_id= \"abcdefghijklmn.p\"\n",
    "solution(new_id)"
   ]
  }
 ],
 "metadata": {
  "interpreter": {
   "hash": "86d881460c4f5889be992f22c52db31a55eaf0a2a099fb1bdba5f29eeec0a12a"
  },
  "kernelspec": {
   "display_name": "Python 3.8.11 64-bit ('base': conda)",
   "name": "python3"
  },
  "language_info": {
   "codemirror_mode": {
    "name": "ipython",
    "version": 3
   },
   "file_extension": ".py",
   "mimetype": "text/x-python",
   "name": "python",
   "nbconvert_exporter": "python",
   "pygments_lexer": "ipython3",
   "version": "3.8.11"
  },
  "orig_nbformat": 4
 },
 "nbformat": 4,
 "nbformat_minor": 2
}
