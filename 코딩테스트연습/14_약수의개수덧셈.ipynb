{
 "cells": [
  {
   "cell_type": "markdown",
   "metadata": {},
   "source": [
    "# 약수의 개수와 덧셈 ➕\n",
    "https://programmers.co.kr/learn/courses/30/lessons/77884"
   ]
  },
  {
   "cell_type": "code",
   "execution_count": null,
   "metadata": {},
   "outputs": [],
   "source": [
    "# 제출 답변 \n",
    "def solution(left,right):\n",
    "    add_list = []\n",
    "\n",
    "    for num in range(left, right+1):\n",
    "        count = 0\n",
    "        for i in range(1, num+1):\n",
    "            if num % i  == 0:\n",
    "                count +=1 \n",
    "        add_list.append(num) if count % 2 == 0 else add_list.append(-num)\n",
    "\n",
    "    answer = sum(add_list)\n",
    "    return answer"
   ]
  },
  {
   "cell_type": "code",
   "execution_count": 83,
   "metadata": {},
   "outputs": [],
   "source": [
    "# 처음 작성한 코드\n",
    "def solution(left, right):\n",
    "    num_list = []\n",
    "    add_list = []\n",
    "\n",
    "    for num in range(left, right+1):\n",
    "        num_list.append(num)\n",
    "        for n in num_list:\n",
    "            count = 0\n",
    "            for i in range(1, n+1):\n",
    "                if n % i == 0:\n",
    "                    count += 1\n",
    "        if count % 2 == 0:\n",
    "            add_list.append(n)\n",
    "        else:\n",
    "            add_list.append(-n)\n",
    "\n",
    "    answer = sum(add_list)\n",
    "    return answer"
   ]
  },
  {
   "cell_type": "markdown",
   "metadata": {},
   "source": [
    "거듭제곱 : 같은 수를 여러 번 곱한 것 \n",
    "- 밑 : 거듭제곱에서 곱한 수 \n",
    "- 지수 : 거듭제곱에서 밑이 곱해진 횟수"
   ]
  },
  {
   "cell_type": "code",
   "execution_count": null,
   "metadata": {},
   "outputs": [],
   "source": [
    "def solution(left, right):\n",
    "    answer =0\n",
    "\n",
    "    for i in range(left, right+1):\n",
    "        if int(i**0.5) == i**0.5:\n",
    "            answer -= i\n",
    "        else:\n",
    "            answer += i \n",
    "    return answer"
   ]
  },
  {
   "cell_type": "markdown",
   "metadata": {},
   "source": [
    "로직 만들기 🧠"
   ]
  },
  {
   "cell_type": "code",
   "execution_count": 58,
   "metadata": {},
   "outputs": [],
   "source": [
    "# 로직 만들기 1 \n",
    "left = 13\n",
    "right = 17\n",
    "\n",
    "\n",
    "num_list = []\n",
    "add_list = []\n",
    "minus_list = []\n",
    "\n",
    "for num in range(left, right+1):\n",
    "    num_list.append(num)                # 사이에 해당하는 값들 확인 리스츠\n",
    "    for n in num_list:\n",
    "        count = 0\n",
    "        for i in range(1, n+1):\n",
    "            if n % i == 0:\n",
    "                count += 1\n",
    "    if count % 2 == 0:\n",
    "        add_list.append(n)\n",
    "    else:\n",
    "        add_list.append(-n)\n",
    "answer = sum(add_list)\n",
    " "
   ]
  },
  {
   "cell_type": "code",
   "execution_count": 76,
   "metadata": {},
   "outputs": [],
   "source": [
    "# 로직 2 - 효율성을 위해 줄임 \n",
    "left = 13\n",
    "right = 17\n",
    "\n",
    "add_list = []\n",
    "\n",
    "for num in range(left, right+1):\n",
    "    count = 0\n",
    "    for i in range(1, num+1):\n",
    "        if num % i  == 0:\n",
    "            count +=1 \n",
    "    add_list.append(num) if count % 2 == 0 else add_list.append(-num)\n",
    "\n",
    "answer = sum(add_list)\n",
    " "
   ]
  }
 ],
 "metadata": {
  "interpreter": {
   "hash": "86d881460c4f5889be992f22c52db31a55eaf0a2a099fb1bdba5f29eeec0a12a"
  },
  "kernelspec": {
   "display_name": "Python 3.8.11 64-bit ('base': conda)",
   "name": "python3"
  },
  "language_info": {
   "codemirror_mode": {
    "name": "ipython",
    "version": 3
   },
   "file_extension": ".py",
   "mimetype": "text/x-python",
   "name": "python",
   "nbconvert_exporter": "python",
   "pygments_lexer": "ipython3",
   "version": "3.8.11"
  },
  "orig_nbformat": 4
 },
 "nbformat": 4,
 "nbformat_minor": 2
}
