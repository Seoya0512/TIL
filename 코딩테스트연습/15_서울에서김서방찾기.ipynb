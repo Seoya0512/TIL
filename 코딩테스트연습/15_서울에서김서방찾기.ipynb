{
 "cells": [
  {
   "cell_type": "markdown",
   "metadata": {},
   "source": [
    "# 서울에서 김서방 찾기 \n",
    "https://programmers.co.kr/learn/courses/30/lessons/12919?language=python3"
   ]
  },
  {
   "cell_type": "code",
   "execution_count": 5,
   "metadata": {},
   "outputs": [],
   "source": [
    "def solution(seoul):\n",
    "    num = seoul.index(\"Kim\")\n",
    "    answer = f\"김서방은 {num}에 있다\"\n",
    "    return answer"
   ]
  },
  {
   "cell_type": "markdown",
   "metadata": {},
   "source": [
    "✔️ `.index(\"찾는 문자\")`는 리스트에서 찾는 문자의 번호를 출력해준다"
   ]
  },
  {
   "cell_type": "code",
   "execution_count": 4,
   "metadata": {},
   "outputs": [
    {
     "name": "stdout",
     "output_type": "stream",
     "text": [
      "김서방은 1에 있다\n"
     ]
    }
   ],
   "source": [
    "# 문제 해결 과정 \n",
    "\n",
    "seoul = [\"Jane\", \"Kim\"]\t\n",
    "num = seoul.index(\"Kim\")\n",
    "print(f\"김서방은 {num}에 있다\")"
   ]
  }
 ],
 "metadata": {
  "interpreter": {
   "hash": "c725d78b4f5601c8a85ce6b1d2fdb2e37cff07ced64b275a1bb2fdc836d1f30a"
  },
  "kernelspec": {
   "display_name": "Python 3.9.7 64-bit ('base': conda)",
   "language": "python",
   "name": "python3"
  },
  "language_info": {
   "codemirror_mode": {
    "name": "ipython",
    "version": 3
   },
   "file_extension": ".py",
   "mimetype": "text/x-python",
   "name": "python",
   "nbconvert_exporter": "python",
   "pygments_lexer": "ipython3",
   "version": "3.9.7"
  },
  "orig_nbformat": 4
 },
 "nbformat": 4,
 "nbformat_minor": 2
}
