{
 "cells": [
  {
   "cell_type": "markdown",
   "metadata": {},
   "source": [
    "# 문자열 내림차순으로 배치하기\n",
    "https://programmers.co.kr/learn/courses/30/lessons/12917"
   ]
  },
  {
   "cell_type": "markdown",
   "metadata": {},
   "source": [
    "나의 풀이❓\n",
    "- 조건을 확인하는 식을 사용함 >> s는 a-zA-z 만 사용한다 \n",
    "- 더 간단한 방법이 있었음"
   ]
  },
  {
   "cell_type": "code",
   "execution_count": 13,
   "metadata": {},
   "outputs": [],
   "source": [
    "import re \n",
    "\n",
    "def solution(s):\n",
    "    answers = ''\n",
    "    p = re.compile('[A-Za-z]')\n",
    "    for i in range(len(s)):\n",
    "        answer = p.match(s[i]).group()\n",
    "        answers += answer\n",
    "        result = ''.join(sorted(answers)[::-1])     # 정렬\n",
    "    return result"
   ]
  },
  {
   "cell_type": "code",
   "execution_count": 14,
   "metadata": {},
   "outputs": [
    {
     "data": {
      "text/plain": [
       "'gfedcbZ'"
      ]
     },
     "execution_count": 14,
     "metadata": {},
     "output_type": "execute_result"
    }
   ],
   "source": [
    "s = \"Zbcdefg\"\n",
    "solution(s)"
   ]
  },
  {
   "cell_type": "code",
   "execution_count": 10,
   "metadata": {},
   "outputs": [
    {
     "name": "stdout",
     "output_type": "stream",
     "text": [
      "gfedcbZ\n"
     ]
    }
   ],
   "source": [
    "# 조건: s =  a-z A-Z\n",
    "\n",
    "import re \n",
    "\n",
    "answers = ''\n",
    "p = re.compile('[A-Za-z]')\n",
    "s = \"Zbcdefg\"\n",
    "\n",
    "for i in range(len(s)):\n",
    "    answer = p.match(s[i]).group()\n",
    "    answers += answer\n",
    "    result = ''.join(sorted(answers)[::-1])\n",
    "print(result)"
   ]
  },
  {
   "cell_type": "markdown",
   "metadata": {},
   "source": [
    "- 아주 간단한 방법 ⭕️\n",
    "    - s가 어떤 형식일 것이다라는 전제이기 때문에, 조건으로 구성할 필요가 없음\n",
    "    - 내림차순 정렬해서 문자열로 묶어주면 끝!! \n"
   ]
  },
  {
   "cell_type": "code",
   "execution_count": 18,
   "metadata": {},
   "outputs": [],
   "source": [
    "def solution(s):\n",
    "    answers = ''.join(sorted(s)[::-1])\n",
    "    return answers"
   ]
  },
  {
   "cell_type": "code",
   "execution_count": 19,
   "metadata": {},
   "outputs": [
    {
     "data": {
      "text/plain": [
       "'gfedcbZ'"
      ]
     },
     "execution_count": 19,
     "metadata": {},
     "output_type": "execute_result"
    }
   ],
   "source": [
    "s = \"Zbcdefg\"\n",
    "solution(s)"
   ]
  },
  {
   "cell_type": "code",
   "execution_count": null,
   "metadata": {},
   "outputs": [],
   "source": []
  }
 ],
 "metadata": {
  "interpreter": {
   "hash": "86d881460c4f5889be992f22c52db31a55eaf0a2a099fb1bdba5f29eeec0a12a"
  },
  "kernelspec": {
   "display_name": "Python 3.8.11 64-bit ('base': conda)",
   "name": "python3"
  },
  "language_info": {
   "codemirror_mode": {
    "name": "ipython",
    "version": 3
   },
   "file_extension": ".py",
   "mimetype": "text/x-python",
   "name": "python",
   "nbconvert_exporter": "python",
   "pygments_lexer": "ipython3",
   "version": "3.8.11"
  },
  "orig_nbformat": 4
 },
 "nbformat": 4,
 "nbformat_minor": 2
}
