{
 "cells": [
  {
   "cell_type": "markdown",
   "metadata": {},
   "source": [
    "# 이상한 문자 만들기 \n",
    "https://programmers.co.kr/learn/courses/30/lessons/12930"
   ]
  },
  {
   "cell_type": "markdown",
   "metadata": {},
   "source": [
    "1차 시도 \n",
    "- 문제 파악을 덜함 "
   ]
  },
  {
   "cell_type": "code",
   "execution_count": 59,
   "metadata": {},
   "outputs": [],
   "source": [
    "# 1 차시도 \n",
    "def solution(s):\n",
    "    answer = ''\n",
    "    for i in range(len(s)):\n",
    "        if i % 2 == 0:\n",
    "            answer += s[i].upper()\n",
    "        else:\n",
    "            answer += s[i].lower()\n",
    "\n",
    "    return answer"
   ]
  },
  {
   "cell_type": "markdown",
   "metadata": {},
   "source": [
    "2차 시도 ✅\n",
    "- 문제점 : strip() 과 strip(' ')의 차이점을 파악해야함 \n",
    "- `strip()` 괄호 안에 아무 값도 넣어 주지 않으면 공백(스페이스, 탭, 엔터 등)을 기준으로 문자열을 나누어 준다\n",
    "- 이 문제에서는 \" 문자열 전체의 짝/홀수 인덱스가 아니라, 단어(공백을 기준)별로 짝/홀수 인덱스를 판단해야합니다.\" = **스페이스 바 1칸** 공백을 뜻함 \n",
    "    - 그래서 strip(\" \")를 쓰는 것이 마땅함"
   ]
  },
  {
   "cell_type": "code",
   "execution_count": 12,
   "metadata": {},
   "outputs": [],
   "source": [
    "# 2차시도 - 단어로 분리해서 위취에 맞는 대/소문자 출력 \n",
    "\n",
    "def solution(s):\n",
    "    answer = ''\n",
    "    sep = s.split(' ')\n",
    "\n",
    "    for i in range(len(sep)):\n",
    "        for j in range(len(sep[i])):\n",
    "            if j % 2 == 0:\n",
    "                answer += sep[i][j].upper()\n",
    "            else:\n",
    "                answer += sep[i][j].lower()\n",
    "        answer += ' '  # 한 단어가 끝나면 띄어준다 \n",
    "            \n",
    "    return answer[:-1]   # 마지막에 빈 칸을 삭제한다"
   ]
  },
  {
   "cell_type": "markdown",
   "metadata": {},
   "source": [
    "다른 코드 👾"
   ]
  },
  {
   "cell_type": "code",
   "execution_count": 8,
   "metadata": {},
   "outputs": [],
   "source": [
    "def solution(s):\n",
    "    sent = s.split(' ')\n",
    "\n",
    "    for i in range(len(sent)):         \n",
    "        word_list = list(sent[i])\n",
    "\n",
    "        for j in range(len(word_list)):\n",
    "            if j % 2 == 0:\n",
    "                word_list[j] = word_list[j].upper()\n",
    "            else:\n",
    "                word_list[j] = word_list[j].lower()\n",
    "        sent[i] = ''.join(word_list)        \n",
    "\n",
    "    answer = ' '.join(sent) \n",
    "\n",
    "    return answer        "
   ]
  },
  {
   "cell_type": "markdown",
   "metadata": {},
   "source": [
    "단 1줄로 표현함.. wow😅\n",
    "- `enumerate()` 함수 : 인덱스 번호와 컬렉션의 원소를 tuple 형태로 반환함 \n",
    "    - 아래 코드를 보면, i = index, c = 각 원소(단어, 알파벳)\n",
    "    - if문을 통해서 i가 홀수 인지 짝수인지에 따라서 c(원소)를 변형해주고, join으로 문자열로 만듬"
   ]
  },
  {
   "cell_type": "code",
   "execution_count": null,
   "metadata": {},
   "outputs": [],
   "source": [
    "def toWeirdCase(s):\n",
    "    # 함수를 완성하세요\n",
    "    return ' '.join([''.join([c.upper() if i % 2 == 0 else c.lower() for i, c in enumerate(w)]) for w in s.split(' ')])"
   ]
  },
  {
   "cell_type": "markdown",
   "metadata": {},
   "source": [
    "#### 로직 만들기 🧠"
   ]
  },
  {
   "cell_type": "code",
   "execution_count": 3,
   "metadata": {},
   "outputs": [],
   "source": [
    "s = \"try hello world\"\n",
    "\n",
    "answer = ''\n",
    "for i in range(len(s)):\n",
    "    if i % 2 == 0:\n",
    "        answer += s[i].upper()\n",
    "    else:\n",
    "        answer += s[i].lower()\n"
   ]
  },
  {
   "cell_type": "code",
   "execution_count": 49,
   "metadata": {},
   "outputs": [
    {
     "data": {
      "text/plain": [
       "['T', 'r', 'Y', 'H', 'e', 'L', 'l', 'O', 'W', 'o', 'R', 'l', 'D']"
      ]
     },
     "execution_count": 49,
     "metadata": {},
     "output_type": "execute_result"
    }
   ],
   "source": [
    "s = \"try hello world\"\n",
    "\n",
    "answer = []\n",
    "sep = s.split()\n",
    "for i in range(len(sep)):\n",
    "    for j in range(len(sep[i])):\n",
    "        if j % 2 == 0:\n",
    "            answer.append(sep[i][j].upper())\n",
    "        else:\n",
    "            answer.append(sep[i][j].lower())\n",
    "\n",
    "answer"
   ]
  },
  {
   "cell_type": "code",
   "execution_count": 6,
   "metadata": {},
   "outputs": [
    {
     "data": {
      "text/plain": [
       "'TrY HeLlO WoRlD'"
      ]
     },
     "execution_count": 6,
     "metadata": {},
     "output_type": "execute_result"
    }
   ],
   "source": [
    "s = \"try hello world\"\n",
    "\n",
    "sent = s.split()\n",
    "\n",
    "for i in range(len(sent)):          # 단어를 분리해서 처리한다 \n",
    "    word_list = list(sent[i])\n",
    "\n",
    "    for j in range(len(word_list)):\n",
    "        if j % 2 == 0:\n",
    "            word_list[j] = word_list[j].upper()\n",
    "        else:\n",
    "            word_list[j] = word_list[j].lower()\n",
    "    sent[i] = ''.join(word_list)           # 단어를 문자로 저장 \n",
    "\n",
    "answer = ' '.join(sent)         # 단어를 다시 합친다 \n",
    "\n",
    "answer"
   ]
  }
 ],
 "metadata": {
  "interpreter": {
   "hash": "86d881460c4f5889be992f22c52db31a55eaf0a2a099fb1bdba5f29eeec0a12a"
  },
  "kernelspec": {
   "display_name": "Python 3.8.11 64-bit ('base': conda)",
   "name": "python3"
  },
  "language_info": {
   "codemirror_mode": {
    "name": "ipython",
    "version": 3
   },
   "file_extension": ".py",
   "mimetype": "text/x-python",
   "name": "python",
   "nbconvert_exporter": "python",
   "pygments_lexer": "ipython3",
   "version": "3.8.11"
  },
  "orig_nbformat": 4
 },
 "nbformat": 4,
 "nbformat_minor": 2
}
